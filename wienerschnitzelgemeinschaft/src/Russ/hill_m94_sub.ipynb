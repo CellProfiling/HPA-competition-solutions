{
 "cells": [
  {
   "cell_type": "code",
   "execution_count": 1,
   "metadata": {},
   "outputs": [],
   "source": [
    "fidx = 'hill_'\n",
    "midx = 'm94'\n",
    "midx0 = 'm94'\n",
    "\n",
    "import numpy as np\n",
    "import pickle\n",
    "\n",
    "mnames = ['hill_m94']\n",
    "weights = [1]\n",
    "\n",
    "# pytorch models with folds\n",
    "\n",
    "hlist = mnames\n",
    "\n",
    "glist = ['air_m68','airx_m67','cbam_m67','preresnet_m67']\n",
    "\n",
    "dlist0 = ['airnet50_gwap','airnet50_gwap','airnext50_gwap','airnext50_gwap',\n",
    "          'bn_inception_wgap','dpn68_gwap','resnet34_gwap',\n",
    "          'se_resnext50_gwap']\n",
    "dlist1 = ['ch_018','ch_028','ch_018','ch_030',\n",
    "          'ch_042','ch_030','ch_042',\n",
    "          'ch_030']\n",
    "\n",
    "dlist = [i+'_'+j for i,j in zip(dlist0,dlist1)]\n",
    "\n",
    "glist += dlist\n"
   ]
  },
  {
   "cell_type": "code",
   "execution_count": 2,
   "metadata": {},
   "outputs": [
    {
     "name": "stdout",
     "output_type": "stream",
     "text": [
      "['hill_m94']\n",
      "1\n"
     ]
    }
   ],
   "source": [
    "# # list of unique model names\n",
    "# allm = [weights[i]['mod'].values for i in range(len(weights))]\n",
    "# mnames = list(set().union(*allm))\n",
    "print(mnames)\n",
    "print(len(mnames))"
   ]
  },
  {
   "cell_type": "code",
   "execution_count": 3,
   "metadata": {},
   "outputs": [
    {
     "name": "stdout",
     "output_type": "stream",
     "text": [
      "hill_ m94 4 1\n"
     ]
    }
   ],
   "source": [
    "nfold = 4\n",
    "threshold = 0.45\n",
    "sub_dir = './sub/'\n",
    "\n",
    "print(fidx,midx,nfold,len(mnames))"
   ]
  },
  {
   "cell_type": "code",
   "execution_count": 4,
   "metadata": {},
   "outputs": [
    {
     "name": "stdout",
     "output_type": "stream",
     "text": [
      "['air_m68', 'airx_m67', 'cbam_m67', 'preresnet_m67', 'airnet50_gwap_ch_018', 'airnet50_gwap_ch_028', 'airnext50_gwap_ch_018', 'airnext50_gwap_ch_030', 'bn_inception_wgap_ch_042', 'dpn68_gwap_ch_030', 'resnet34_gwap_ch_042', 'se_resnext50_gwap_ch_030']\n",
      "['blend_0459']\n",
      "['iv3_a4', 'se_resnext_d10', 'se_resnext_d11']\n",
      "['resnet34_46', 'resnet50', 'resnet34']\n"
     ]
    }
   ],
   "source": [
    "blist = ['blend_0459']\n",
    "tlist = ['iv3_a4','se_resnext_d10','se_resnext_d11']\n",
    "klist = ['resnet34_46','resnet50','resnet34']\n",
    "print(glist)\n",
    "print(blist)\n",
    "print(tlist)\n",
    "print(klist)\n",
    "\n",
    "gpct = 97.5\n",
    "gscale = 1."
   ]
  },
  {
   "cell_type": "code",
   "execution_count": 5,
   "metadata": {},
   "outputs": [
    {
     "name": "stderr",
     "output_type": "stream",
     "text": [
      "/home/sasrdw/anaconda3/lib/python3.6/site-packages/h5py/__init__.py:36: FutureWarning: Conversion of the second argument of issubdtype from `float` to `np.floating` is deprecated. In future, it will be treated as `np.float64 == np.dtype(float).type`.\n",
      "  from ._conv import register_converters as _register_converters\n",
      "Using TensorFlow backend.\n"
     ]
    }
   ],
   "source": [
    "import numpy as np\n",
    "import pandas as pd\n",
    "import pickle\n",
    "import os\n",
    "from os import path\n",
    "from random import randint\n",
    "\n",
    "import matplotlib.pyplot as plt\n",
    "plt.style.use('seaborn-white')\n",
    "import seaborn as sns\n",
    "sns.set_style(\"white\")\n",
    "\n",
    "from sklearn.model_selection import train_test_split\n",
    "\n",
    "from keras.preprocessing.image import load_img\n",
    "\n",
    "import pydensecrf.densecrf as dcrf\n",
    "from pydensecrf.utils import unary_from_labels, create_pairwise_bilateral\n",
    "from skimage.color import gray2rgb\n",
    "from skimage.color import rgb2gray\n",
    "from skimage.transform import resize\n",
    "\n",
    "from scipy.special import logit, expit\n",
    "from sklearn.model_selection import StratifiedKFold\n",
    "from sklearn.metrics import jaccard_similarity_score, f1_score\n",
    "\n",
    "import scipy.optimize as opt\n",
    "\n",
    "import gc\n",
    "import cv2\n",
    "from tqdm import tqdm_notebook\n",
    "\n",
    "from numpy import inf"
   ]
  },
  {
   "cell_type": "code",
   "execution_count": 6,
   "metadata": {},
   "outputs": [],
   "source": [
    "name_label_dict = {\n",
    "    0:  \"Nucleoplasm\",  \n",
    "    1:  \"Nuclear membrane\",   \n",
    "    2:  \"Nucleoli\",   \n",
    "    3:  \"Nucleoli fibrillar center\",   \n",
    "    4:  \"Nuclear speckles\",\n",
    "    5:  \"Nuclear bodies\",   \n",
    "    6:  \"Endoplasmic reticulum\",   \n",
    "    7:  \"Golgi apparatus\",   \n",
    "    8:  \"Peroxisomes\",   \n",
    "    9:  \"Endosomes\",   \n",
    "    10:  \"Lysosomes\",   \n",
    "    11:  \"Intermediate filaments\",   \n",
    "    12:  \"Actin filaments\",   \n",
    "    13:  \"Focal adhesion sites\",   \n",
    "    14:  \"Microtubules\",   \n",
    "    15:  \"Microtubule ends\",   \n",
    "    16:  \"Cytokinetic bridge\",   \n",
    "    17:  \"Mitotic spindle\",   \n",
    "    18:  \"Microtubule organizing center\",   \n",
    "    19:  \"Centrosome\",   \n",
    "    20:  \"Lipid droplets\",   \n",
    "    21:  \"Plasma membrane\",   \n",
    "    22:  \"Cell junctions\",   \n",
    "    23:  \"Mitochondria\",   \n",
    "    24:  \"Aggresome\",   \n",
    "    25:  \"Cytosol\",   \n",
    "    26:  \"Cytoplasmic bodies\",   \n",
    "    27:  \"Rods & rings\"\n",
    "}\n",
    "LABEL_MAP = name_label_dict\n",
    "np.set_printoptions(precision=3, suppress=True, linewidth=100)"
   ]
  },
  {
   "cell_type": "code",
   "execution_count": 7,
   "metadata": {},
   "outputs": [
    {
     "name": "stdout",
     "output_type": "stream",
     "text": [
      "                                      Predicted\n",
      "Id                                             \n",
      "00008af0-bad0-11e8-b2b8-ac1f6b6435d0          0\n",
      "0000a892-bacf-11e8-b2b8-ac1f6b6435d0          0\n",
      "0006faa6-bac7-11e8-b2b7-ac1f6b6435d0          0\n",
      "0008baca-bad7-11e8-b2b9-ac1f6b6435d0          0\n",
      "000cce7e-bad4-11e8-b2b8-ac1f6b6435d0          0\n",
      "(11702, 1)\n"
     ]
    }
   ],
   "source": [
    "test_df = pd.read_csv(\"sample_submission.csv\", index_col=\"Id\")\n",
    "print(test_df.head())\n",
    "print(test_df.shape)"
   ]
  },
  {
   "cell_type": "code",
   "execution_count": 8,
   "metadata": {
    "_uuid": "b18c1f50cefd7504eae7e7b9605be3814c7cad6d"
   },
   "outputs": [],
   "source": [
    "# test_df[\"images\"] = [np.array(load_img(\"images/{}.png\".format(idx), \\\n",
    "#                                         color_mode = \"grayscale\")) / 255. \\\n",
    "#                                         # grayscale=True)) / 255. \\\n",
    "#                       for idx in tqdm_notebook(test_df.index)]\n",
    "# print(test_df.shape)"
   ]
  },
  {
   "cell_type": "code",
   "execution_count": 9,
   "metadata": {},
   "outputs": [
    {
     "data": {
      "text/plain": [
       "Index(['Predicted'], dtype='object')"
      ]
     },
     "execution_count": 9,
     "metadata": {},
     "output_type": "execute_result"
    }
   ],
   "source": [
    "test_df.columns"
   ]
  },
  {
   "cell_type": "code",
   "execution_count": 10,
   "metadata": {},
   "outputs": [],
   "source": [
    "# save a base copy for reuse below\n",
    "test_df0 = test_df.copy()\n"
   ]
  },
  {
   "cell_type": "code",
   "execution_count": 11,
   "metadata": {},
   "outputs": [
    {
     "name": "stdout",
     "output_type": "stream",
     "text": [
      "\n",
      "./sub/hill_m94_0.pkl\n",
      "2.800729044329509e-09 0.09592900902081736 0.9999772166745763\n",
      "(11702, 28) 2.800729044329509e-09 0.09592900902081736 0.9999772166745763\n",
      "\n",
      "./sub/hill_m94_1.pkl\n",
      "2.0611536181902037e-09 0.09081919222819593 0.9999718768531355\n",
      "(11702, 28) 2.0611536181902037e-09 0.09081919222819593 0.9999718768531355\n",
      "[[1.    0.956]\n",
      " [0.956 1.   ]]\n",
      "\n",
      "./sub/hill_m94_2.pkl\n",
      "7.3308900135822e-10 0.09151654856833974 0.9999742415705885\n",
      "(11702, 28) 7.3308900135822e-10 0.09151654856833974 0.9999742415705885\n",
      "[[1.    0.959]\n",
      " [0.959 1.   ]]\n",
      "\n",
      "./sub/hill_m94_3.pkl\n",
      "6.540170586025857e-09 0.09262215261449276 0.9998683779446966\n",
      "(11702, 28) 6.540170586025857e-09 0.09262215261449276 0.9998683779446966\n",
      "[[1.    0.952]\n",
      " [0.952 1.   ]]\n",
      "hill_m94 4 (11702, 28) 3.455770162153292e-08 0.09272172560796146 0.9998521939770816 0.06902971409038748\n"
     ]
    }
   ],
   "source": [
    "# build submission ensemble as weighted average on logit scale\n",
    "test_df = test_df0.copy()\n",
    "idx = test_df.index.values\n",
    "num_classes = 28\n",
    "firstm = True\n",
    "sumw = 0.\n",
    "d = 0\n",
    "for m in mnames:\n",
    "\n",
    "    firstf = True\n",
    "    navg = 0\n",
    "    if m in blist: suffix = '.npy'\n",
    "    elif m in klist: suffix = '.pkl'\n",
    "    elif m in hlist: suffix = '.pkl'\n",
    "    else: suffix = '_mm.pkl'\n",
    "    for fold in range(nfold):\n",
    "#         print('')\n",
    "#         print(m+'_'+str(fold))\n",
    "        first = True\n",
    "        nr = 0\n",
    "        for rep in ['']:\n",
    "            if m in blist:\n",
    "                fname = sub_dir + m + rep + suffix\n",
    "                if fold > 0: fname = fname + '_' + str(fold)\n",
    "            elif m in dlist:\n",
    "                if dlist0[d] == 'bn_inception_wgap': s = '_emb'\n",
    "                else: s = '_extra_emb'\n",
    "                fname = 'oof/Dmytro/'+dlist0[d]+s+'__fold_'+ \\\n",
    "                                str(fold)+'_'+dlist1[d]+'_test.csv'\n",
    "            else:\n",
    "                fname = sub_dir + m + rep + '_' + str(fold) + suffix\n",
    "            if os.path.exists(fname):\n",
    "                print()\n",
    "                print(fname)\n",
    "                if m in blist:\n",
    "                    ptestb = np.load(fname)\n",
    "                    idb = idb0\n",
    "                elif m in klist: \n",
    "                    idb, ptestb = pickle.load(open(fname,'rb'))\n",
    "                    # ptestb = logit(ptestb)\n",
    "                elif m in tlist:\n",
    "                    idb, ptestba, ptestb, ptestbb = pickle.load(open(fname,'rb'))\n",
    "                    ptestb = expit(ptestb)\n",
    "                elif m in dlist:\n",
    "                    o = pd.read_csv(fname)\n",
    "                    idb = list(o['Id'])\n",
    "                    ptestb = np.array(o.iloc[:,:num_classes])\n",
    "                    ptestb = expit(ptestb)\n",
    "                elif m in glist:\n",
    "                    idb, ptestb, ptestba = pickle.load(open(fname,'rb'))\n",
    "                    ptestb = np.percentile(ptestb, gpct, axis=(2,3))\n",
    "                    ptestb = 1./(1. + np.exp(-ptestb/gscale))\n",
    "                elif m in hlist:\n",
    "                    idb, ptestb = pickle.load(open(fname,'rb'))\n",
    "                else:\n",
    "                    idb, ptestb, ptestba = pickle.load(open(fname,'rb'))\n",
    "                    ptestb = expit(ptestb)\n",
    "                \n",
    "                # ptestb = np.clip(ptestb,-20.0,20.0)\n",
    "                # ptestb[ptestb==-inf] = -6.0\n",
    "                # ptestb[ptestb==inf] = 6.0\n",
    "                \n",
    "                print(ptestb.min(),ptestb.mean(),ptestb.max())\n",
    "                \n",
    "                if first:\n",
    "                    ptestf = ptestb.copy()\n",
    "                    idb0 = idb\n",
    "                    first = False\n",
    "                else:\n",
    "                    checki = [i0 != i1 for i0,i1 in zip(idb0,idb)]\n",
    "                    si = np.array(checki).sum()\n",
    "                    # print(si)\n",
    "                    assert si == 0\n",
    "                    print(np.corrcoef(np.array(ptestf).flatten(),\n",
    "                                      np.array(ptestb).flatten()))\n",
    "\n",
    "                    ptestf += ptestb\n",
    "                nr += 1\n",
    "                \n",
    "        if nr > 0:\n",
    "            ptestf /= nr\n",
    "            print(ptestf.shape,ptestf.min(),ptestf.mean(),ptestf.max())\n",
    "\n",
    "            if firstf:\n",
    "                id = idb\n",
    "                ptest = ptestf.copy()\n",
    "                firstf = False\n",
    "            else:\n",
    "                print(np.corrcoef(np.array(ptest).flatten(),\n",
    "                                  np.array(ptestf).flatten()))\n",
    "                ptest += ptestf\n",
    "                \n",
    "            navg += 1\n",
    "    \n",
    "    if navg != nfold: raise ValueError('Found %d folds for %s instead of %d' % (navg,m,nfold))\n",
    "    ptest /= navg\n",
    "    pmask = (ptest > threshold).astype(int)\n",
    "    print(m,navg,ptest.shape,ptest.min(),ptest.mean(),ptest.max(),pmask.mean())\n",
    "    td = pd.DataFrame({'id':id})\n",
    "    td[m] = [a for a in ptest]\n",
    "    td.set_index('id',inplace=True)\n",
    "    test_df = test_df.join(td)\n",
    "    if m in dlist: d += 1\n"
   ]
  },
  {
   "cell_type": "code",
   "execution_count": 12,
   "metadata": {},
   "outputs": [
    {
     "data": {
      "text/plain": [
       "Index(['Predicted', 'hill_m94'], dtype='object')"
      ]
     },
     "execution_count": 12,
     "metadata": {},
     "output_type": "execute_result"
    }
   ],
   "source": [
    "test_df.columns"
   ]
  },
  {
   "cell_type": "code",
   "execution_count": 13,
   "metadata": {},
   "outputs": [
    {
     "name": "stdout",
     "output_type": "stream",
     "text": [
      "['00008af0-bad0-11e8-b2b8-ac1f6b6435d0' '0000a892-bacf-11e8-b2b8-ac1f6b6435d0'\n",
      " '0006faa6-bac7-11e8-b2b7-ac1f6b6435d0' '0008baca-bad7-11e8-b2b9-ac1f6b6435d0'\n",
      " '000cce7e-bad4-11e8-b2b8-ac1f6b6435d0']\n"
     ]
    }
   ],
   "source": [
    "print(idx[:5])"
   ]
  },
  {
   "cell_type": "code",
   "execution_count": 14,
   "metadata": {},
   "outputs": [
    {
     "name": "stdout",
     "output_type": "stream",
     "text": [
      "(327656,) hill_m94\n",
      "1.0\n"
     ]
    }
   ],
   "source": [
    "f = []\n",
    "clist = list(test_df.columns[1:])\n",
    "for c in clist:\n",
    "    ff = np.array(list(test_df[c])).flatten()\n",
    "    print(ff.shape,c)\n",
    "    f.append(ff)\n",
    "# print(clist)\n",
    "r = np.corrcoef(f)\n",
    "print(r)"
   ]
  },
  {
   "cell_type": "code",
   "execution_count": 15,
   "metadata": {},
   "outputs": [],
   "source": [
    "if len(mnames) > 1:\n",
    "    d = pd.DataFrame(r, columns=mnames)\n",
    "    d['id'] = mnames\n",
    "    d.set_index('id',inplace=True)\n",
    "    del d.index.name\n",
    "\n",
    "    sns.clustermap(d)\n",
    "\n",
    "\n",
    "# import scipy.cluster.hierarchy as hc\n",
    "# from matplotlib import pyplot\n",
    "# link = hc.linkage(d.values, method='centroid')\n",
    "# o1 = hc.leaves_list(link)\n",
    "\n",
    "# mat = d.iloc[o1,:]\n",
    "# mat = mat.iloc[:, o1[::-1]]\n",
    "# pyplot.imshow(mat)"
   ]
  },
  {
   "cell_type": "code",
   "execution_count": 16,
   "metadata": {},
   "outputs": [
    {
     "name": "stdout",
     "output_type": "stream",
     "text": [
      "(327656, 1)\n",
      "flat.csv\n"
     ]
    }
   ],
   "source": [
    "flat = np.transpose(np.array(f))\n",
    "print(flat.shape)\n",
    "fname = 'flat.csv'\n",
    "fdf = pd.DataFrame(flat)\n",
    "fdf.columns = clist\n",
    "fdf.to_csv(fname)\n",
    "print(fname)"
   ]
  },
  {
   "cell_type": "code",
   "execution_count": 17,
   "metadata": {},
   "outputs": [
    {
     "name": "stdout",
     "output_type": "stream",
     "text": [
      "(1, 11702, 28)\n",
      "0 ['hill_m94'] [1]\n",
      "(1, 11702, 28)\n",
      "1 ['hill_m94'] [1]\n",
      "(1, 11702, 28)\n",
      "2 ['hill_m94'] [1]\n",
      "(1, 11702, 28)\n",
      "3 ['hill_m94'] [1]\n",
      "(1, 11702, 28)\n",
      "4 ['hill_m94'] [1]\n",
      "(1, 11702, 28)\n",
      "5 ['hill_m94'] [1]\n",
      "(1, 11702, 28)\n",
      "6 ['hill_m94'] [1]\n",
      "(1, 11702, 28)\n",
      "7 ['hill_m94'] [1]\n",
      "(1, 11702, 28)\n",
      "8 ['hill_m94'] [1]\n",
      "(1, 11702, 28)\n",
      "9 ['hill_m94'] [1]\n",
      "(1, 11702, 28)\n",
      "10 ['hill_m94'] [1]\n",
      "(1, 11702, 28)\n",
      "11 ['hill_m94'] [1]\n",
      "(1, 11702, 28)\n",
      "12 ['hill_m94'] [1]\n",
      "(1, 11702, 28)\n",
      "13 ['hill_m94'] [1]\n",
      "(1, 11702, 28)\n",
      "14 ['hill_m94'] [1]\n",
      "(1, 11702, 28)\n",
      "15 ['hill_m94'] [1]\n",
      "(1, 11702, 28)\n",
      "16 ['hill_m94'] [1]\n",
      "(1, 11702, 28)\n",
      "17 ['hill_m94'] [1]\n",
      "(1, 11702, 28)\n",
      "18 ['hill_m94'] [1]\n",
      "(1, 11702, 28)\n",
      "19 ['hill_m94'] [1]\n",
      "(1, 11702, 28)\n",
      "20 ['hill_m94'] [1]\n",
      "(1, 11702, 28)\n",
      "21 ['hill_m94'] [1]\n",
      "(1, 11702, 28)\n",
      "22 ['hill_m94'] [1]\n",
      "(1, 11702, 28)\n",
      "23 ['hill_m94'] [1]\n",
      "(1, 11702, 28)\n",
      "24 ['hill_m94'] [1]\n",
      "(1, 11702, 28)\n",
      "25 ['hill_m94'] [1]\n",
      "(1, 11702, 28)\n",
      "26 ['hill_m94'] [1]\n",
      "(1, 11702, 28)\n",
      "27 ['hill_m94'] [1]\n",
      "(11702, 28)\n"
     ]
    }
   ],
   "source": [
    "ens = np.zeros((test_df.shape[0],28))\n",
    "\n",
    "# apply class-specific ensemble weights\n",
    "for i in range(28):\n",
    "\n",
    "    f = []\n",
    "#     clist = weights[i]['mod'].values\n",
    "    clist = mnames\n",
    "    for c in clist:\n",
    "        f.append(np.array(list(test_df[c])))\n",
    "    m = np.array(f)\n",
    "    print(m.shape)\n",
    "\n",
    "#     w = np.array(weights[i]['weight'].values)\n",
    "    w = np.array(weights)\n",
    "    print(i, clist, w)\n",
    "\n",
    "    ens[:,i] = np.average(m,axis=0,weights=w)[:,i]\n",
    "    \n",
    "print(ens.shape)"
   ]
  },
  {
   "cell_type": "code",
   "execution_count": 18,
   "metadata": {},
   "outputs": [
    {
     "name": "stdout",
     "output_type": "stream",
     "text": [
      "[0.291 0.008 0.061 0.045 0.019 0.834 0.091 0.043 0.    0.001 0.    0.027 0.021 0.01  0.023 0.001\n",
      " 0.039 0.02  0.039 0.021 0.008 0.082 0.03  0.064 0.037 0.546 0.009 0.001]\n"
     ]
    }
   ],
   "source": [
    "print(ens[1])"
   ]
  },
  {
   "cell_type": "code",
   "execution_count": 19,
   "metadata": {},
   "outputs": [],
   "source": [
    "# fname = 'mthresh.pkl'\n",
    "# if os.path.isfile(fname): mthresh = pickle.load(open(fname,'rb'))\n",
    "# mthresh[mname]"
   ]
  },
  {
   "cell_type": "code",
   "execution_count": 20,
   "metadata": {},
   "outputs": [
    {
     "name": "stdout",
     "output_type": "stream",
     "text": [
      "{0: 0.36239782, 1: 0.043841336, 2: 0.075268817, 3: 0.059322034, 4: 0.075268817, 5: 0.075268817, 6: 0.043841336, 7: 0.075268817, 8: 0.0018, 9: 0.0014, 10: 0.0009, 11: 0.043841336, 12: 0.043841336, 13: 0.014198783, 14: 0.043841336, 15: 0.0007, 16: 0.028806584, 17: 0.014198783, 18: 0.028806584, 19: 0.059322034, 20: 0.0056, 21: 0.126126126, 22: 0.028806584, 23: 0.075268817, 24: 0.0104, 25: 0.222493888, 26: 0.028806584, 27: 0.0004}\n"
     ]
    }
   ],
   "source": [
    "# desired class proportions from lb probing\n",
    "\n",
    "desired = {\n",
    "0 : 0.36239782,\n",
    "1 : 0.043841336,\n",
    "2 : 0.075268817,\n",
    "3 : 0.059322034,\n",
    "4 : 0.075268817,\n",
    "5 : 0.075268817,\n",
    "6 : 0.043841336,\n",
    "7 : 0.075268817,\n",
    "8 : 0.0018,\n",
    "9 : 0.0014,\n",
    "10 : 0.0009,\n",
    "11 : 0.043841336,\n",
    "12 : 0.043841336,\n",
    "13 : 0.014198783,\n",
    "14 : 0.043841336,\n",
    "15 : 0.0007,\n",
    "16 : 0.028806584,\n",
    "17 : 0.014198783,\n",
    "18 : 0.028806584,\n",
    "19 : 0.059322034,\n",
    "20 : 0.0056,\n",
    "21 : 0.126126126,\n",
    "22 : 0.028806584,\n",
    "23 : 0.075268817,\n",
    "24 : 0.0104,\n",
    "25 : 0.222493888,\n",
    "26 : 0.028806584,\n",
    "27 : 0.0004\n",
    "}\n",
    "print(desired)"
   ]
  },
  {
   "cell_type": "code",
   "execution_count": 21,
   "metadata": {},
   "outputs": [
    {
     "name": "stdout",
     "output_type": "stream",
     "text": [
      "fixed threshold 0.45\n",
      "0 0.3624 0.5964 Nucleoplasm\n",
      "1 0.0438 0.0405 Nuclear membrane\n",
      "2 0.0753 0.1141 Nucleoli\n",
      "3 0.0593 0.0341 Nucleoli fibrillar center\n",
      "4 0.0753 0.0346 Nuclear speckles\n",
      "5 0.0753 0.0434 Nuclear bodies\n",
      "6 0.0438 0.0195 Endoplasmic reticulum\n",
      "7 0.0753 0.0610 Golgi apparatus\n",
      "8 0.0018 0.0004 Peroxisomes\n",
      "9 0.0014 0.0010 Endosomes\n",
      "10 0.0009 0.0011 Lysosomes\n",
      "11 0.0438 0.0345 Intermediate filaments\n",
      "12 0.0438 0.0203 Actin filaments\n",
      "13 0.0142 0.0170 Focal adhesion sites\n",
      "14 0.0438 0.0549 Microtubules\n",
      "15 0.0007 0.0006 Microtubule ends\n",
      "16 0.0288 0.0180 Cytokinetic bridge\n",
      "17 0.0142 0.0165 Mitotic spindle\n",
      "18 0.0288 0.0194 Microtubule organizing center\n",
      "19 0.0593 0.0310 Centrosome\n",
      "20 0.0056 0.0039 Lipid droplets\n",
      "21 0.1261 0.1501 Plasma membrane\n",
      "22 0.0288 0.0187 Cell junctions\n",
      "23 0.0753 0.0720 Mitochondria\n",
      "24 0.0104 0.0075 Aggresome\n",
      "25 0.2225 0.5115 Cytosol\n",
      "26 0.0288 0.0101 Cytoplasmic bodies\n",
      "27 0.0004 0.0005 Rods & rings\n"
     ]
    }
   ],
   "source": [
    "# fixed global threshold\n",
    "pred = (ens > threshold).astype(int)\n",
    "print('fixed threshold',threshold)\n",
    "for j in range(pred.shape[1]):\n",
    "    prop = np.mean(pred[:,j])\n",
    "    print(j,'%6.4f' % desired[j],'%6.4f' % prop,name_label_dict[j],)"
   ]
  },
  {
   "cell_type": "code",
   "execution_count": 22,
   "metadata": {},
   "outputs": [
    {
     "name": "stdout",
     "output_type": "stream",
     "text": [
      "Thresholds:  [0.679 0.616 0.663 0.59  0.574 0.595 0.59  0.608 0.593 0.595 0.594 0.611 0.589 0.643 0.65  0.594\n",
      " 0.617 0.639 0.612 0.589 0.607 0.631 0.605 0.622 0.622 0.671 0.59  0.594]\n",
      "Fractions:  [0.396 0.039 0.075 0.039 0.043 0.049 0.024 0.062 0.    0.001 0.001 0.035 0.025 0.013 0.043 0.001\n",
      " 0.016 0.011 0.019 0.04  0.004 0.114 0.02  0.066 0.007 0.212 0.014 0.001]\n",
      "Fractions (th = 0.5):  [1. 1. 1. 1. 1. 1. 1. 1. 1. 1. 1. 1. 1. 1. 1. 1. 1. 1. 1. 1. 1. 1. 1. 1. 1. 1. 1. 1.]\n"
     ]
    }
   ],
   "source": [
    "lb_prob = [\n",
    " 0.362397820,0.043841336,0.075268817,0.059322034,0.075268817,\n",
    " 0.075268817,0.043841336,0.075268817,0.010000000,0.010000000,\n",
    " 0.010000000,0.043841336,0.043841336,0.014198783,0.043841336,\n",
    " 0.010000000,0.028806584,0.014198783,0.028806584,0.059322034,\n",
    " 0.010000000,0.126126126,0.028806584,0.075268817,0.010000000,\n",
    " 0.222493880,0.028806584,0.010000000]\n",
    "\n",
    "from scipy.special import expit\n",
    "\n",
    "def sigmoid_np(x):\n",
    "    return 1.0/(1.0 + np.exp(-x))\n",
    "\n",
    "def Count_soft(preds,th=0.5,d=50.0):\n",
    "    preds = sigmoid_np(d*(preds - th))\n",
    "    return preds.mean(axis=0)\n",
    "\n",
    "def fit_test(x,y):\n",
    "    params = 0.5*np.ones(len(name_label_dict))\n",
    "    wd = 1e-5\n",
    "    error = lambda p: np.concatenate((Count_soft(x,p) - y,\n",
    "                                      wd*(p - 0.5)), axis=None)\n",
    "    p, success = opt.leastsq(error, params)\n",
    "    return p\n",
    "\n",
    "pred_t = expit(ens)\n",
    "th_t = fit_test(pred_t,lb_prob)\n",
    "th_t[th_t<0.1] = 0.1\n",
    "np.set_printoptions(precision=3, suppress=True, linewidth=100)\n",
    "print('Thresholds: ',th_t)\n",
    "print('Fractions: ',(pred_t > th_t).mean(axis=0))\n",
    "print('Fractions (th = 0.5): ',(pred_t > 0.5).mean(axis=0))\n",
    "pred = (pred_t > th_t).astype(int)"
   ]
  },
  {
   "cell_type": "code",
   "execution_count": 23,
   "metadata": {},
   "outputs": [
    {
     "data": {
      "text/plain": [
       "(11702, 28)"
      ]
     },
     "execution_count": 23,
     "metadata": {},
     "output_type": "execute_result"
    }
   ],
   "source": [
    "ens.shape"
   ]
  },
  {
   "cell_type": "code",
   "execution_count": 24,
   "metadata": {},
   "outputs": [
    {
     "name": "stdout",
     "output_type": "stream",
     "text": [
      "(11702, 30)\n",
      "sub/subm94_probs.csv\n"
     ]
    }
   ],
   "source": [
    "p = pd.DataFrame(ens)\n",
    "p.columns = ['p'+str(i) for i in range(ens.shape[1])]\n",
    "subp = pd.DataFrame({'id':test_df.index.values,'data':'sub'})\n",
    "subp = pd.concat((subp,p),axis=1)\n",
    "print(subp.shape)\n",
    "fname = 'sub/sub' + midx + '_probs.csv'\n",
    "subp.to_csv(fname, index=False)\n",
    "print(fname)"
   ]
  },
  {
   "cell_type": "code",
   "execution_count": 25,
   "metadata": {},
   "outputs": [
    {
     "name": "stdout",
     "output_type": "stream",
     "text": [
      "0 0.7888 0.3624 0.3624 Nucleoplasm\n",
      "1 0.3772 0.0438 0.0439 Nuclear membrane\n",
      "2 0.6772 0.0753 0.0753 Nucleoli\n",
      "3 0.1997 0.0593 0.0594 Nucleoli fibrillar center\n",
      "4 0.1172 0.0753 0.0753 Nuclear speckles\n",
      "5 0.2502 0.0753 0.0753 Nuclear bodies\n",
      "6 0.1806 0.0438 0.0439 Endoplasmic reticulum\n",
      "7 0.3369 0.0753 0.0753 Golgi apparatus\n",
      "8 0.0319 0.0018 0.0019 Peroxisomes\n",
      "9 0.1721 0.0014 0.0015 Endosomes\n",
      "10 0.4686 0.0009 0.0009 Lysosomes\n",
      "11 0.3284 0.0438 0.0439 Intermediate filaments\n",
      "12 0.1836 0.0438 0.0439 Actin filaments\n",
      "13 0.5282 0.0142 0.0143 Focal adhesion sites\n",
      "14 0.6102 0.0438 0.0439 Microtubules\n",
      "15 0.3566 0.0007 0.0008 Microtubule ends\n",
      "16 0.3703 0.0288 0.0289 Cytokinetic bridge\n",
      "17 0.4900 0.0142 0.0143 Mitotic spindle\n",
      "18 0.3659 0.0288 0.0289 Microtubule organizing center\n",
      "19 0.2091 0.0593 0.0594 Centrosome\n",
      "20 0.3483 0.0056 0.0056 Lipid droplets\n",
      "21 0.5051 0.1261 0.1261 Plasma membrane\n",
      "22 0.2854 0.0288 0.0289 Cell junctions\n",
      "23 0.4364 0.0753 0.0753 Mitochondria\n",
      "24 0.3195 0.0104 0.0104 Aggresome\n",
      "25 0.7044 0.2225 0.2226 Cytosol\n",
      "26 0.1947 0.0288 0.0289 Cytoplasmic bodies\n",
      "27 0.8246 0.0004 0.0004 Rods & rings\n"
     ]
    }
   ],
   "source": [
    "# custom thresholds to match lb proportions\n",
    "thresholds = np.linspace(1.0, 0., 100001)\n",
    "pred = ens.copy()\n",
    "th = []\n",
    "for j in range(pred.shape[1]):\n",
    "    for t in thresholds:\n",
    "        pred[:,j] = (ens[:,j] > t).astype(int)\n",
    "        prop = np.mean(pred[:,j])\n",
    "        if prop >= desired[j]: break\n",
    "    th.append(t)\n",
    "    print(j,'%6.4f' % t,'%6.4f' % desired[j],'%6.4f' % prop,name_label_dict[j])"
   ]
  },
  {
   "cell_type": "code",
   "execution_count": 26,
   "metadata": {},
   "outputs": [],
   "source": [
    "# bestCut = pickle.load(open('ens_cuts'+midx0+'.pkl','rb'))\n",
    "# th = np.array(th)\n",
    "# c = bestCut**2 + th**2\n",
    "\n",
    "# fig, ax = plt.subplots()\n",
    "# ax.scatter(bestCut, th, s=25, c=c, cmap=plt.cm.coolwarm, zorder=10)\n",
    "\n",
    "# lims = [\n",
    "#     np.min([ax.get_xlim(), ax.get_ylim()]),  # min of both axes\n",
    "#     np.max([ax.get_xlim(), ax.get_ylim()]),  # max of both axes\n",
    "# ]\n",
    "\n",
    "# # now plot both limits against each other\n",
    "# ax.plot(lims, lims, 'k-', alpha=0.75, zorder=0)\n",
    "# ax.set_aspect('equal')\n",
    "# ax.set_xlim(lims)\n",
    "# ax.set_ylim(lims)\n",
    "# # fig.savefig('/Users/paul/Desktop/so.png', dpi=300)"
   ]
  },
  {
   "cell_type": "code",
   "execution_count": 27,
   "metadata": {},
   "outputs": [],
   "source": [
    "# # shrink thresholds toward best ones from oofs\n",
    "# alpha = 0.8\n",
    "# pred = ens > (alpha*th + (1.-alpha)*bestCut)"
   ]
  },
  {
   "cell_type": "code",
   "execution_count": 28,
   "metadata": {},
   "outputs": [],
   "source": [
    "# # linear adjustment of thresholds estimated in ens_oof.ipynb\n",
    "# for j in range(pred.shape[1]):\n",
    "#     t = 0.094 + 0.827*th[j]\n",
    "#     pred[:,j] = (ens[:,j] > t).astype(int)\n",
    "#     prop = np.mean(pred[:,j])\n",
    "#     print(j,'%6.4f' % t,'%6.4f' % desired[j],'%6.4f' % prop,name_label_dict[j])"
   ]
  },
  {
   "cell_type": "code",
   "execution_count": 29,
   "metadata": {},
   "outputs": [
    {
     "name": "stdout",
     "output_type": "stream",
     "text": [
      "[[0 0 1 0 0 0 0 0 0 0 0 0 0 0 0 0 0 0 0 0 0 0 0 0 0 0 0 0]\n",
      " [0 0 0 0 0 1 0 0 0 0 0 0 0 0 0 0 0 0 0 0 0 0 0 0 0 0 0 0]\n",
      " [1 0 0 0 0 1 0 0 0 0 0 0 0 0 0 0 0 0 0 0 0 0 0 0 0 1 0 0]\n",
      " [1 0 0 0 0 0 0 0 0 0 0 0 0 0 0 0 0 0 0 0 0 0 0 0 0 0 0 0]\n",
      " [0 0 0 0 0 0 0 0 0 0 0 0 0 0 0 0 0 0 0 0 0 0 0 1 0 0 0 0]]\n"
     ]
    }
   ],
   "source": [
    "np.set_printoptions(linewidth=100)\n",
    "print(pred[:5].astype(int))"
   ]
  },
  {
   "cell_type": "code",
   "execution_count": 30,
   "metadata": {},
   "outputs": [
    {
     "name": "stdout",
     "output_type": "stream",
     "text": [
      "(11702,)\n",
      "0.0 1.591608272090241 5.0\n"
     ]
    }
   ],
   "source": [
    "xps = np.sum(pred,axis=1)\n",
    "print(xps.shape)\n",
    "print(xps.min(),xps.mean(),xps.max())"
   ]
  },
  {
   "cell_type": "code",
   "execution_count": 31,
   "metadata": {},
   "outputs": [
    {
     "name": "stdout",
     "output_type": "stream",
     "text": [
      "0.05434968381473253\n"
     ]
    }
   ],
   "source": [
    "print(sum(xps==0)/pred.shape[0])"
   ]
  },
  {
   "cell_type": "code",
   "execution_count": 32,
   "metadata": {},
   "outputs": [
    {
     "name": "stdout",
     "output_type": "stream",
     "text": [
      "0 00008af0-bad0-11e8-b2b8-ac1f6b6435d0 2\n",
      "1000 15efe29e-bad4-11e8-b2b8-ac1f6b6435d0 26\n",
      "2000 2bd51caa-bad9-11e8-b2b9-ac1f6b6435d0 24\n",
      "3000 42f7f174-bace-11e8-b2b8-ac1f6b6435d0 0\n",
      "4000 589b3070-bad0-11e8-b2b8-ac1f6b6435d0 3 5\n",
      "5000 6dd7e7b6-bac7-11e8-b2b7-ac1f6b6435d0 25\n",
      "6000 835f7a30-bad7-11e8-b2b9-ac1f6b6435d0 2 3 23\n",
      "7000 9932fa46-bac6-11e8-b2b7-ac1f6b6435d0 25\n",
      "8000 aeabe93c-bacb-11e8-b2b8-ac1f6b6435d0 1\n",
      "9000 c4ad1a3a-bada-11e8-b2b9-ac1f6b6435d0 11\n",
      "10000 da851aec-bada-11e8-b2b9-ac1f6b6435d0 21 25\n",
      "11000 f071ee12-bad9-11e8-b2b9-ac1f6b6435d0 19 21\n",
      "{'ids': ['00008af0-bad0-11e8-b2b8-ac1f6b6435d0', '0000a892-bacf-11e8-b2b8-ac1f6b6435d0', '0006faa6-bac7-11e8-b2b7-ac1f6b6435d0', '0008baca-bad7-11e8-b2b9-ac1f6b6435d0', '000cce7e-bad4-11e8-b2b8-ac1f6b6435d0', '00109f6a-bac8-11e8-b2b7-ac1f6b6435d0', '001765de-bacd-11e8-b2b8-ac1f6b6435d0', '0018641a-bac9-11e8-b2b8-ac1f6b6435d0', '00200f22-bad7-11e8-b2b9-ac1f6b6435d0', '0026f154-bac6-11e8-b2b7-ac1f6b6435d0'], 'subs': ['2', '5', '0 5 25', '0', '23', '4', '4 25', '0', '0 26', '4 25']}\n",
      "11702 11702\n"
     ]
    }
   ],
   "source": [
    "subs = []\n",
    "ids = []\n",
    "for i,fid in enumerate(test_df.index.values):\n",
    "    subrow = ' '.join(list([str(i) for i in np.nonzero(pred[i])[0]]))\n",
    "    subs.append(subrow)\n",
    "    ids.append(fid)\n",
    "    if i % 1000 == 0: print(i,fid,subrow)\n",
    "print({'ids':ids[:10], 'subs':subs[:10]})\n",
    "print(len(ids), len(subs))"
   ]
  },
  {
   "cell_type": "code",
   "execution_count": 33,
   "metadata": {},
   "outputs": [
    {
     "name": "stdout",
     "output_type": "stream",
     "text": [
      "sub/hill_m94.csv\n"
     ]
    }
   ],
   "source": [
    "subm = pd.DataFrame.from_dict({'Id':ids, 'Predicted':subs}, orient='index').T\n",
    "fname = 'sub/' + fidx + midx + '.csv'\n",
    "subm.to_csv(fname, index=False)\n",
    "print(fname)"
   ]
  },
  {
   "cell_type": "code",
   "execution_count": 34,
   "metadata": {},
   "outputs": [
    {
     "name": "stdout",
     "output_type": "stream",
     "text": [
      "0 Nucleoplasm count 4241 prop 0.3624\n",
      "1 Nuclear membrane count 514 prop 0.0439\n",
      "2 Nucleoli count 881 prop 0.0753\n",
      "3 Nucleoli fibrillar center count 695 prop 0.0594\n",
      "4 Nuclear speckles count 881 prop 0.0753\n",
      "5 Nuclear bodies count 881 prop 0.0753\n",
      "6 Endoplasmic reticulum count 514 prop 0.0439\n",
      "7 Golgi apparatus count 881 prop 0.0753\n",
      "8 Peroxisomes count 22 prop 0.0019\n",
      "9 Endosomes count 17 prop 0.0015\n",
      "10 Lysosomes count 11 prop 0.0009\n",
      "11 Intermediate filaments count 514 prop 0.0439\n",
      "12 Actin filaments count 514 prop 0.0439\n",
      "13 Focal adhesion sites count 167 prop 0.0143\n",
      "14 Microtubules count 514 prop 0.0439\n",
      "15 Microtubule ends count 9 prop 0.0008\n",
      "16 Cytokinetic bridge count 338 prop 0.0289\n",
      "17 Mitotic spindle count 167 prop 0.0143\n",
      "18 Microtubule organizing center count 338 prop 0.0289\n",
      "19 Centrosome count 695 prop 0.0594\n",
      "20 Lipid droplets count 66 prop 0.0056\n",
      "21 Plasma membrane count 1476 prop 0.1261\n",
      "22 Cell junctions count 338 prop 0.0289\n",
      "23 Mitochondria count 881 prop 0.0753\n",
      "24 Aggresome count 122 prop 0.0104\n",
      "25 Cytosol count 2605 prop 0.2226\n",
      "26 Cytoplasmic bodies count 338 prop 0.0289\n",
      "27 Rods & rings count 5 prop 0.0004\n"
     ]
    }
   ],
   "source": [
    "from itertools import chain\n",
    "from collections import Counter\n",
    "max_idx = 27\n",
    "subm['target_list'] = subm['Predicted'].map(lambda x: \\\n",
    "            [int(a) if a != '' else -1 for a in str(x).split(' ')])\n",
    "subm['target_vec'] = subm['target_list'].map(lambda ck: \\\n",
    "            [i in ck for i in range(max_idx+1)])\n",
    "all_labels = list(chain.from_iterable(subm['target_list'].values))\n",
    "c_val = Counter(all_labels)\n",
    "n_keys = c_val.keys()\n",
    "max_idx = max(n_keys)\n",
    "for k,v in name_label_dict.items():\n",
    "    print(k,v, 'count', c_val[k] if k in c_val else 0,\n",
    "             'prop', '%6.4f' % (c_val[k]/len(ids) if k in c_val else 0))"
   ]
  },
  {
   "cell_type": "code",
   "execution_count": 35,
   "metadata": {},
   "outputs": [
    {
     "data": {
      "image/png": "[encoded data removed]",
      "text/plain": [
       "<Figure size 432x288 with 1 Axes>"
      ]
     },
     "metadata": {},
     "output_type": "display_data"
    }
   ],
   "source": [
    "train_sum_vec = np.sum(np.stack(subm['target_vec'].values, 0), 0)\n",
    "_ = plt.bar(n_keys, [train_sum_vec[k] for k in n_keys])"
   ]
  },
  {
   "cell_type": "code",
   "execution_count": 36,
   "metadata": {},
   "outputs": [],
   "source": [
    "from sklearn.metrics import f1_score\n",
    "from sklearn.metrics import confusion_matrix\n",
    "\n",
    "\n",
    "# computute confusion matrices between two submission files\n",
    "def f1_confusion(csv0, csv1, num_classes=28):\n",
    "    c0 = pd.read_csv(csv0)\n",
    "    c1 = pd.read_csv(csv1)\n",
    "    assert c0.shape == c1.shape\n",
    "    s0 = [s if isinstance(s,str) else '' for s in c0.Predicted]\n",
    "    s1 = [s if isinstance(s,str) else '' for s in c1.Predicted]\n",
    "    p0 = [s.split() for s in s0]\n",
    "    p1 = [s.split() for s in s1]\n",
    "    y0 = np.zeros((c0.shape[0],num_classes)).astype(int)\n",
    "    y1 = np.zeros((c0.shape[0],num_classes)).astype(int)\n",
    "    # print(p0[:5])\n",
    "    for i in range(c0.shape[0]):\n",
    "        for j in p0[i]: y0[i,int(j)] = 1\n",
    "        for j in p1[i]: y1[i,int(j)] = 1\n",
    "    # print(y0[:5])\n",
    "    \n",
    "    y0avg = np.average(y0,axis=0)\n",
    "    y1avg = np.average(y1,axis=0)\n",
    "    cm = [confusion_matrix(y0[:,i], y1[:,i]) for i in range(y0.shape[1])]\n",
    "    fm = [f1_score(y0[:,i], y1[:,i]) for i in range(y0.shape[1])]\n",
    "    for i in range(y0.shape[1]):\n",
    "        print(LABEL_MAP[i])\n",
    "        print(cm[i],' %4.2f' % fm[i],' %6.4f' % y0avg[i],' %6.4f' % y1avg[i],\n",
    "             ' %6.4f' % (y0avg[i] - y1avg[i]))\n",
    "        print()\n",
    "#     print('y0avg')\n",
    "#     print(y0avg)\n",
    "#     print('y1avg')\n",
    "#     print(y1avg)\n",
    "#     print('y0avg - y1avg')\n",
    "#     print(y0avg-y1avg)\n",
    "    print('f1 macro')\n",
    "    print(np.mean(fm))       \n",
    "    return f1_score(y0, y1, average='macro')\n",
    "    \n",
    "# compute f1 score between two submission files\n",
    "def f1_sub(csv0, csv1, num_classes=28):\n",
    "    c0 = pd.read_csv(csv0)\n",
    "    c1 = pd.read_csv(csv1)\n",
    "    assert c0.shape == c1.shape\n",
    "    s0 = [s if isinstance(s,str) else '' for s in c0.Predicted]\n",
    "    s1 = [s if isinstance(s,str) else '' for s in c1.Predicted]\n",
    "    p0 = [s.split() for s in s0]\n",
    "    p1 = [s.split() for s in s1]\n",
    "    y0 = np.zeros((c0.shape[0],num_classes)).astype(int)\n",
    "    y1 = np.zeros((c0.shape[0],num_classes)).astype(int)\n",
    "    # print(p0[:5])\n",
    "    for i in range(c0.shape[0]):\n",
    "        for j in p0[i]: y0[i,int(j)] = 1\n",
    "        for j in p1[i]: y1[i,int(j)] = 1\n",
    "    # print(y0[:5])\n",
    "            \n",
    "    return f1_score(y0, y1, average='macro')"
   ]
  },
  {
   "cell_type": "code",
   "execution_count": 59,
   "metadata": {},
   "outputs": [
    {
     "data": {
      "text/plain": [
       "0.840568863527152"
      ]
     },
     "execution_count": 59,
     "metadata": {},
     "output_type": "execute_result"
    }
   ],
   "source": [
    "f1_sub(fname,'sub/ens71.csv')"
   ]
  },
  {
   "cell_type": "code",
   "execution_count": 60,
   "metadata": {},
   "outputs": [
    {
     "data": {
      "text/plain": [
       "0.8336878620881728"
      ]
     },
     "execution_count": 60,
     "metadata": {},
     "output_type": "execute_result"
    }
   ],
   "source": [
    "f1_sub(fname,'sub/ens71d.csv')"
   ]
  },
  {
   "cell_type": "code",
   "execution_count": 61,
   "metadata": {},
   "outputs": [
    {
     "data": {
      "text/plain": [
       "0.8523486219382166"
      ]
     },
     "execution_count": 61,
     "metadata": {},
     "output_type": "execute_result"
    }
   ],
   "source": [
    "f1_sub(fname,'sub/ens76.csv')"
   ]
  },
  {
   "cell_type": "code",
   "execution_count": 62,
   "metadata": {},
   "outputs": [
    {
     "data": {
      "text/plain": [
       "0.828772736528484"
      ]
     },
     "execution_count": 62,
     "metadata": {},
     "output_type": "execute_result"
    }
   ],
   "source": [
    "f1_sub(fname,'sub/ens85.csv')"
   ]
  },
  {
   "cell_type": "code",
   "execution_count": 63,
   "metadata": {},
   "outputs": [
    {
     "data": {
      "text/plain": [
       "0.8217012545014734"
      ]
     },
     "execution_count": 63,
     "metadata": {},
     "output_type": "execute_result"
    }
   ],
   "source": [
    "f1_sub(fname,'sub/ens85b.csv')"
   ]
  },
  {
   "cell_type": "code",
   "execution_count": 64,
   "metadata": {},
   "outputs": [
    {
     "data": {
      "text/plain": [
       "0.824847398910476"
      ]
     },
     "execution_count": 64,
     "metadata": {},
     "output_type": "execute_result"
    }
   ],
   "source": [
    "f1_sub(fname,'sub/ens86b.csv')"
   ]
  },
  {
   "cell_type": "code",
   "execution_count": 65,
   "metadata": {},
   "outputs": [
    {
     "data": {
      "text/plain": [
       "0.8356092594262179"
      ]
     },
     "execution_count": 65,
     "metadata": {},
     "output_type": "execute_result"
    }
   ],
   "source": [
    "f1_sub(fname,'sub/ens87b.csv')"
   ]
  },
  {
   "cell_type": "code",
   "execution_count": 66,
   "metadata": {},
   "outputs": [
    {
     "data": {
      "text/plain": [
       "0.8543349389178204"
      ]
     },
     "execution_count": 66,
     "metadata": {},
     "output_type": "execute_result"
    }
   ],
   "source": [
    "f1_sub(fname,'sub/ens88b.csv')"
   ]
  },
  {
   "cell_type": "code",
   "execution_count": 67,
   "metadata": {},
   "outputs": [
    {
     "data": {
      "text/plain": [
       "0.8435646127663573"
      ]
     },
     "execution_count": 67,
     "metadata": {},
     "output_type": "execute_result"
    }
   ],
   "source": [
    "f1_sub(fname,'sub/ens89b.csv')"
   ]
  },
  {
   "cell_type": "code",
   "execution_count": 68,
   "metadata": {},
   "outputs": [
    {
     "data": {
      "text/plain": [
       "0.9256538384205413"
      ]
     },
     "execution_count": 68,
     "metadata": {},
     "output_type": "execute_result"
    }
   ],
   "source": [
    "f1_sub(fname,'sub/ens92b.csv')"
   ]
  },
  {
   "cell_type": "code",
   "execution_count": 69,
   "metadata": {},
   "outputs": [
    {
     "data": {
      "text/plain": [
       "0.8688967591462958"
      ]
     },
     "execution_count": 69,
     "metadata": {},
     "output_type": "execute_result"
    }
   ],
   "source": [
    "f1_sub(fname,'sub/ens92c.csv')"
   ]
  },
  {
   "cell_type": "code",
   "execution_count": 84,
   "metadata": {},
   "outputs": [
    {
     "data": {
      "text/plain": [
       "0.9132445134736467"
      ]
     },
     "execution_count": 84,
     "metadata": {},
     "output_type": "execute_result"
    }
   ],
   "source": [
    "f1_sub(fname,'sub/hill_m92.csv')"
   ]
  },
  {
   "cell_type": "code",
   "execution_count": 85,
   "metadata": {},
   "outputs": [
    {
     "data": {
      "text/plain": [
       "0.8222432941138749"
      ]
     },
     "execution_count": 85,
     "metadata": {},
     "output_type": "execute_result"
    }
   ],
   "source": [
    "f1_sub(fname,'sub/hill_b92.csv')"
   ]
  },
  {
   "cell_type": "code",
   "execution_count": 70,
   "metadata": {},
   "outputs": [
    {
     "data": {
      "text/plain": [
       "0.8052486067598374"
      ]
     },
     "execution_count": 70,
     "metadata": {},
     "output_type": "execute_result"
    }
   ],
   "source": [
    "f1_sub(fname,'sub/preresnet0.csv')"
   ]
  },
  {
   "cell_type": "code",
   "execution_count": 71,
   "metadata": {},
   "outputs": [
    {
     "data": {
      "text/plain": [
       "0.8022128366761923"
      ]
     },
     "execution_count": 71,
     "metadata": {},
     "output_type": "execute_result"
    }
   ],
   "source": [
    "f1_sub(fname,'sub/preresnet0d.csv')"
   ]
  },
  {
   "cell_type": "code",
   "execution_count": 72,
   "metadata": {},
   "outputs": [
    {
     "data": {
      "text/plain": [
       "0.626431757224433"
      ]
     },
     "execution_count": 72,
     "metadata": {},
     "output_type": "execute_result"
    }
   ],
   "source": [
    "f1_sub(fname,'sub/resnet11.csv')"
   ]
  },
  {
   "cell_type": "code",
   "execution_count": 73,
   "metadata": {},
   "outputs": [
    {
     "data": {
      "text/plain": [
       "0.6590508681538615"
      ]
     },
     "execution_count": 73,
     "metadata": {},
     "output_type": "execute_result"
    }
   ],
   "source": [
    "f1_sub(fname,'sub/resnet12.csv')"
   ]
  },
  {
   "cell_type": "code",
   "execution_count": 74,
   "metadata": {},
   "outputs": [
    {
     "data": {
      "text/plain": [
       "0.6565166274585047"
      ]
     },
     "execution_count": 74,
     "metadata": {},
     "output_type": "execute_result"
    }
   ],
   "source": [
    "f1_sub(fname,'sub/resnet13.csv')"
   ]
  },
  {
   "cell_type": "code",
   "execution_count": 75,
   "metadata": {},
   "outputs": [
    {
     "data": {
      "text/plain": [
       "0.7765692211946016"
      ]
     },
     "execution_count": 75,
     "metadata": {},
     "output_type": "execute_result"
    }
   ],
   "source": [
    "f1_sub(fname,'sub/resnet15.csv')"
   ]
  },
  {
   "cell_type": "code",
   "execution_count": 76,
   "metadata": {},
   "outputs": [
    {
     "data": {
      "text/plain": [
       "0.7705915958074822"
      ]
     },
     "execution_count": 76,
     "metadata": {},
     "output_type": "execute_result"
    }
   ],
   "source": [
    "f1_sub(fname,'sub/resnet15c.csv')"
   ]
  },
  {
   "cell_type": "code",
   "execution_count": 77,
   "metadata": {},
   "outputs": [
    {
     "data": {
      "text/plain": [
       "0.6864706583034598"
      ]
     },
     "execution_count": 77,
     "metadata": {},
     "output_type": "execute_result"
    }
   ],
   "source": [
    "f1_sub(fname,'sub/resnet16.csv')"
   ]
  },
  {
   "cell_type": "code",
   "execution_count": 78,
   "metadata": {},
   "outputs": [
    {
     "data": {
      "text/plain": [
       "0.8089977167827327"
      ]
     },
     "execution_count": 78,
     "metadata": {},
     "output_type": "execute_result"
    }
   ],
   "source": [
    "f1_sub(fname,'sub/resnet17.csv')"
   ]
  },
  {
   "cell_type": "code",
   "execution_count": 79,
   "metadata": {},
   "outputs": [
    {
     "data": {
      "text/plain": [
       "0.8089977167827327"
      ]
     },
     "execution_count": 79,
     "metadata": {},
     "output_type": "execute_result"
    }
   ],
   "source": [
    "f1_sub(fname,'sub/resnet17.csv')"
   ]
  },
  {
   "cell_type": "code",
   "execution_count": 80,
   "metadata": {},
   "outputs": [
    {
     "data": {
      "text/plain": [
       "0.7431490335358628"
      ]
     },
     "execution_count": 80,
     "metadata": {},
     "output_type": "execute_result"
    }
   ],
   "source": [
    "f1_sub(fname,'sub/se_resnext11.csv')"
   ]
  },
  {
   "cell_type": "code",
   "execution_count": 81,
   "metadata": {},
   "outputs": [
    {
     "data": {
      "text/plain": [
       "0.7448569826231084"
      ]
     },
     "execution_count": 81,
     "metadata": {},
     "output_type": "execute_result"
    }
   ],
   "source": [
    "f1_sub(fname,'sub/se_resnext11d.csv')"
   ]
  },
  {
   "cell_type": "code",
   "execution_count": 82,
   "metadata": {},
   "outputs": [
    {
     "name": "stdout",
     "output_type": "stream",
     "text": [
      "sub/hill_m94.csv\n"
     ]
    }
   ],
   "source": [
    "print(fname)"
   ]
  },
  {
   "cell_type": "code",
   "execution_count": 83,
   "metadata": {},
   "outputs": [],
   "source": [
    "# f1_confusion(fname, 'sub/ens56.csv')"
   ]
  }
 ],
 "metadata": {
  "kernelspec": {
   "display_name": "Python 3",
   "language": "python",
   "name": "python3"
  },
  "language_info": {
   "codemirror_mode": {
    "name": "ipython",
    "version": 3
   },
   "file_extension": ".py",
   "mimetype": "text/x-python",
   "name": "python",
   "nbconvert_exporter": "python",
   "pygments_lexer": "ipython3",
   "version": "3.6.5"
  }
 },
 "nbformat": 4,
 "nbformat_minor": 2
}
