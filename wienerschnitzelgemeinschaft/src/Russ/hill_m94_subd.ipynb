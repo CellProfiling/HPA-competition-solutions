{
 "cells": [
  {
   "cell_type": "code",
   "execution_count": 53,
   "metadata": {},
   "outputs": [],
   "source": [
    "prefix = 'hill_'\n",
    "midx = 'm94'"
   ]
  },
  {
   "cell_type": "code",
   "execution_count": 54,
   "metadata": {},
   "outputs": [],
   "source": [
    "import pandas as pd\n",
    "import numpy as np\n",
    "from sklearn.metrics import f1_score, confusion_matrix"
   ]
  },
  {
   "cell_type": "code",
   "execution_count": 55,
   "metadata": {},
   "outputs": [
    {
     "name": "stdout",
     "output_type": "stream",
     "text": [
      "   index                                    Id Target  Questionable\n",
      "0      0  94205e64-baca-11e8-b2b8-ac1f6b6435d0     16             0\n",
      "1      1  53f49b94-bad3-11e8-b2b8-ac1f6b6435d0   9 10             0\n",
      "2      3  47c3e666-bac6-11e8-b2b7-ac1f6b6435d0  14 25             0\n",
      "3      4  05d45be8-bace-11e8-b2b8-ac1f6b6435d0   2 25             0\n",
      "4      6  e5382de2-bad2-11e8-b2b8-ac1f6b6435d0   0 25             0\n",
      "(272, 4)\n",
      "                                     Predicted\n",
      "Id                                            \n",
      "00008af0-bad0-11e8-b2b8-ac1f6b6435d0         2\n",
      "0000a892-bacf-11e8-b2b8-ac1f6b6435d0         5\n",
      "0006faa6-bac7-11e8-b2b7-ac1f6b6435d0    0 5 25\n",
      "0008baca-bad7-11e8-b2b9-ac1f6b6435d0         0\n",
      "000cce7e-bad4-11e8-b2b8-ac1f6b6435d0        23\n",
      "(11702, 1)\n"
     ]
    }
   ],
   "source": [
    "new = pd.read_csv('leak2d.csv')\n",
    "new = new[new.Questionable != 1]\n",
    "new.reset_index(inplace=True)\n",
    "print(new.head())\n",
    "print(new.shape)\n",
    "\n",
    "ens = pd.read_csv('sub/'+prefix+midx+'.csv').fillna('')\n",
    "ens = ens.set_index('Id')\n",
    "print(ens.head())\n",
    "print(ens.shape)"
   ]
  },
  {
   "cell_type": "code",
   "execution_count": 56,
   "metadata": {},
   "outputs": [],
   "source": [
    "# # create onehot matrix for a submission file\n",
    "# def onehot_sub(csv0, num_classes=28):\n",
    "#     c0 = pd.read_csv(csv0)\n",
    "#     s0 = [s if isinstance(s,str) else '' for s in c0.Predicted]\n",
    "#     p0 = [s.split() for s in s0]\n",
    "#     y0 = np.zeros((c0.shape[0],num_classes)).astype(int)\n",
    "#     # print(p0[:5])\n",
    "#     for i in range(c0.shape[0]):\n",
    "#         for j in p0[i]: y0[i,int(j)] = 1\n",
    "#     # print(y0[:5])\n",
    "    \n",
    "#     y = pd.DataFrame(y0)\n",
    "#     y.columns = ['y_'+str(i) for i in range(num_classes)]\n",
    "    \n",
    "#     c0 = pd.concat((c0,y),axis=1)\n",
    "    \n",
    "#     fname = csv0[:-4] + '_onehot.csv'\n",
    "#     c0.to_csv(fname)      \n",
    "#     print(fname)\n",
    "    \n",
    "# new['Predicted'] = new['Target'].values\n",
    "# fname = 'sub/leak2dd.csv'\n",
    "# new.to_csv(fname)\n",
    "# onehot_sub(fname)"
   ]
  },
  {
   "cell_type": "code",
   "execution_count": 57,
   "metadata": {},
   "outputs": [
    {
     "name": "stdout",
     "output_type": "stream",
     "text": [
      "0 7 16  =>  16\n",
      "14  =>  14 25\n",
      "3 25  =>  2 25\n",
      "0 21 25  =>  0 25\n",
      "0  =>  0 19 21\n",
      "22  =>  0 22 23\n",
      "0 25  =>  21 25\n",
      "0 12 25  =>  12\n",
      "12 21 26  =>  12 21 25\n",
      "4 25  =>  7 21\n",
      "0 21  =>  0 21 25\n",
      "11 12  =>  12\n",
      "4  =>  4 23\n",
      "0 25  =>  21\n",
      "18 25  =>  0 18 25\n",
      "25  =>  2 23\n",
      "0 21 25  =>  0 21 23\n",
      "0 14 25  =>  0 14\n",
      "14 16  =>  14\n",
      "0 16  =>  0\n",
      "0 12 16  =>  21\n",
      "16 25  =>  14 16 25\n",
      "16 25  =>  14 16 25\n",
      "2 25  =>  2 6 25\n",
      "0 2 3  =>  1 2\n",
      "4 21 26  =>  2 4 21 26\n",
      "21  =>  13 21\n",
      "16 25  =>  14 16 25\n",
      "7 21  =>  0 21 22\n",
      "16 25  =>  25\n",
      "18 19 25  =>  2 6 14 25\n",
      "0 13 19  =>  13\n",
      "0 5 25  =>  13\n",
      "7 25  =>  21 25\n",
      "0 22  =>  2 22\n",
      "4  =>  4 21\n",
      "4  =>  4 21\n",
      "7  =>  2\n",
      "0 16 17  =>  0 16 17 18\n",
      "0 16 17  =>  0 16 17 18\n",
      "0 2 11  =>  2 11\n",
      "0 18 19  =>  0 19\n",
      "0 18  =>  0 19\n",
      "0 18  =>  0 19\n",
      "12  =>  12 21 25\n",
      "14 16 17  =>  0 14\n",
      "14 16  =>  0 14\n",
      "1  =>  1 5\n",
      "1  =>  1 25\n",
      "1 11  =>  1 25\n",
      "0 12 16  =>  21\n",
      "0 16  =>  0\n",
      "5 23  =>  23\n",
      "12 13 21  =>  13 21\n",
      "0 14  =>  14 25\n",
      "0 14  =>  14\n",
      "0 14 16  =>  14\n",
      "21 22 25  =>  25\n",
      "16 19 21  =>  16 19 21 25\n",
      "0 4  =>  1 4\n",
      "9 10 23  =>  9 10\n",
      "5 16  =>  16\n",
      "14 16  =>  14 16 17\n",
      "5  =>  0 5 25\n",
      "14 16 25  =>  25\n",
      "7 23  =>  7 25\n",
      "  =>  27\n",
      "21 25  =>  25\n",
      "2 25  =>  2\n",
      "2 25  =>  2\n",
      "13 21 22  =>  7 21\n",
      "0 19  =>  0 1 7\n",
      "16  =>  16 25\n",
      "7  =>  7 17\n",
      "4 5 25  =>  5 6 25\n",
      "12 15 25  =>  15 25\n",
      "21  =>  11 16 21\n",
      "5  =>  0 5 7\n",
      "21 22  =>  12 21 22\n",
      "12  =>  2 12\n",
      "4  =>  4 21\n",
      "0 2  =>  0\n",
      "0 12  =>  12\n",
      "4 17  =>  17 18\n",
      "0 16  =>  0\n",
      "1  =>  0 1\n",
      "0 13  =>  13\n",
      "0 13  =>  13\n",
      "14  =>  14 25\n",
      "14 16 17 25  =>  14 17 25\n",
      "5  =>  25\n",
      "21 22  =>  0 21 22\n",
      "21 22  =>  0 21 22\n",
      "4 21  =>  4 17 21\n",
      "21  =>  13 25\n",
      "27  =>  23 27\n",
      "4 21 25  =>  0 21 25\n",
      "25  =>  0 25\n",
      "0  =>  16\n",
      "12 13  =>  0 22\n",
      "12  =>  0 22\n",
      "14 17  =>  17 25\n",
      "14 16 17  =>  14 17\n",
      "0 25  =>  0 19\n",
      "11 14  =>  4\n",
      "14  =>  4\n",
      "0 25 26  =>  0 25\n",
      "0 7  =>  0 25\n",
      "0 12 21  =>  0 21\n",
      "16 17 25  =>  16 25\n",
      "0  =>  0 16\n",
      "21 25  =>  25\n",
      "0 4  =>  0\n",
      "0 25  =>  25\n",
      "0 6 25  =>  6 7 25\n",
      "0 1 25  =>  0\n",
      "0 16  =>  0 16 25\n",
      "0 16  =>  0 16 25\n",
      "7  =>  7 22\n",
      "2 23  =>  21 23\n",
      "17 18  =>  17 19\n",
      "12 21  =>  12\n",
      "5  =>  5 24\n",
      "4 12 13  =>  4 13\n",
      "0 12 21  =>  22\n",
      "1  =>  1 2\n",
      "0 2  =>  2\n",
      "16 19  =>  11 19\n",
      "0 14 16  =>  0 16 25\n",
      "2 3  =>  2\n",
      "2 3  =>  2\n",
      "14 25  =>  14 16 25\n",
      "0 16  =>  16\n",
      "2  =>  0 25\n",
      "0 16  =>  16\n",
      "14  =>  14 16\n",
      "5  =>  5 23\n",
      "0 16  =>  0 1 16\n",
      "7 14 25  =>  11 25\n",
      "4 25  =>  0 7 22\n",
      "0 4 25  =>  0 7 22\n",
      "0 14 16  =>  0 16\n",
      "0 25  =>  25\n",
      "16 25  =>  25\n",
      "14 16 17 25  =>  17 25\n",
      "18 19  =>  18 25\n",
      "0 5  =>  0 21 25\n",
      "6 14  =>  3 22\n",
      "25  =>  0 25\n",
      "0 14  =>  14\n",
      "19 25  =>  18 25\n",
      "12  =>  0 12 25\n",
      "4  =>  4 7\n",
      "14 19 25  =>  14 18 25\n",
      "4  =>  4 23\n",
      "0 3 25  =>  0 21 25\n",
      "20  =>  20 25\n",
      "0 20 23  =>  20 25\n",
      "0 2  =>  2 21\n",
      "0 5  =>  0\n",
      "0 14 16  =>  0 14 16 17\n",
      "1  =>  1 25\n",
      "0 25  =>  25\n",
      "0  =>  16\n",
      "12  =>  0 12 25\n",
      "0 16 25  =>  0\n",
      "4  =>  4 25\n",
      "0 19  =>  0 19 25\n",
      "0 7  =>  7\n",
      "14 16  =>  14 16 19\n",
      "3 5  =>  5\n",
      "12  =>  12 13 25\n",
      "4  =>  2\n",
      "0 16  =>  0\n",
      "5  =>  0 5\n",
      "3  =>  2\n",
      "5 22  =>  5\n",
      "16 23  =>  14 16 17 23\n",
      "2 16 17 25  =>  2 17 25\n",
      "14  =>  14 17 23\n",
      "0 25  =>  0 21 25\n",
      "0 12  =>  0 21 25\n",
      "23  =>  22 23\n",
      "12 21 25  =>  6 21 25\n",
      "25  =>  3 12 25\n",
      "changed 185  unchanged 87\n",
      "\n",
      "sub/hill_m94d.csv\n"
     ]
    }
   ],
   "source": [
    "changed = 0\n",
    "unchanged = 0\n",
    "for i, item in enumerate(new['Id']):\n",
    "#     print(test_preds.loc[i]['Target'])\n",
    "    if ens.loc[item]['Predicted'] != new.loc[i]['Target']:\n",
    "        print(ens.loc[item]['Predicted'],' => ', new.loc[i]['Target'])\n",
    "        changed += 1\n",
    "        ens.loc[item]['Predicted'] = new.loc[i]['Target']\n",
    "    else:\n",
    "        unchanged += 1\n",
    "\n",
    "print('changed',changed,' unchanged',unchanged)\n",
    "\n",
    "print()\n",
    "fname = 'sub/'+prefix+midx+'d.csv'\n",
    "ens.to_csv(fname)\n",
    "print(fname)"
   ]
  },
  {
   "cell_type": "code",
   "execution_count": 58,
   "metadata": {},
   "outputs": [],
   "source": [
    "name_label_dict = {\n",
    "    0:  \"Nucleoplasm\",  \n",
    "    1:  \"Nuclear membrane\",   \n",
    "    2:  \"Nucleoli\",   \n",
    "    3:  \"Nucleoli fibrillar center\",   \n",
    "    4:  \"Nuclear speckles\",\n",
    "    5:  \"Nuclear bodies\",   \n",
    "    6:  \"Endoplasmic reticulum\",   \n",
    "    7:  \"Golgi apparatus\",   \n",
    "    8:  \"Peroxisomes\",   \n",
    "    9:  \"Endosomes\",   \n",
    "    10:  \"Lysosomes\",   \n",
    "    11:  \"Intermediate filaments\",   \n",
    "    12:  \"Actin filaments\",   \n",
    "    13:  \"Focal adhesion sites\",   \n",
    "    14:  \"Microtubules\",   \n",
    "    15:  \"Microtubule ends\",   \n",
    "    16:  \"Cytokinetic bridge\",   \n",
    "    17:  \"Mitotic spindle\",   \n",
    "    18:  \"Microtubule organizing center\",   \n",
    "    19:  \"Centrosome\",   \n",
    "    20:  \"Lipid droplets\",   \n",
    "    21:  \"Plasma membrane\",   \n",
    "    22:  \"Cell junctions\",   \n",
    "    23:  \"Mitochondria\",   \n",
    "    24:  \"Aggresome\",   \n",
    "    25:  \"Cytosol\",   \n",
    "    26:  \"Cytoplasmic bodies\",   \n",
    "    27:  \"Rods & rings\"\n",
    "}\n",
    "LABEL_MAP = name_label_dict\n",
    "np.set_printoptions(precision=3, suppress=True, linewidth=100)"
   ]
  },
  {
   "cell_type": "code",
   "execution_count": 59,
   "metadata": {},
   "outputs": [],
   "source": [
    "# compute f1 score between two submission files\n",
    "def f1_sub(csv0, csv1, num_classes=28):\n",
    "    c0 = pd.read_csv(csv0)\n",
    "    c1 = pd.read_csv(csv1)\n",
    "    assert c0.shape == c1.shape\n",
    "    s0 = [s if isinstance(s,str) else '' for s in c0.Predicted]\n",
    "    s1 = [s if isinstance(s,str) else '' for s in c1.Predicted]\n",
    "    p0 = [s.split() for s in s0]\n",
    "    p1 = [s.split() for s in s1]\n",
    "    y0 = np.zeros((c0.shape[0],num_classes)).astype(int)\n",
    "    y1 = np.zeros((c0.shape[0],num_classes)).astype(int)\n",
    "    # print(p0[:5])\n",
    "    for i in range(c0.shape[0]):\n",
    "        for j in p0[i]: y0[i,int(j)] = 1\n",
    "        for j in p1[i]: y1[i,int(j)] = 1\n",
    "    # print(y0[:5])\n",
    "            \n",
    "    return f1_score(y0, y1, average='macro')\n",
    "\n",
    "\n",
    "# computute confusion matrices between two submission files\n",
    "def f1_confusion(csv0, csv1, num_classes=28):\n",
    "    c0 = pd.read_csv(csv0)\n",
    "    c1 = pd.read_csv(csv1)\n",
    "    assert c0.shape == c1.shape\n",
    "    s0 = [s if isinstance(s,str) else '' for s in c0.Predicted]\n",
    "    s1 = [s if isinstance(s,str) else '' for s in c1.Predicted]\n",
    "    p0 = [s.split() for s in s0]\n",
    "    p1 = [s.split() for s in s1]\n",
    "    y0 = np.zeros((c0.shape[0],num_classes)).astype(int)\n",
    "    y1 = np.zeros((c0.shape[0],num_classes)).astype(int)\n",
    "    # print(p0[:5])\n",
    "    for i in range(c0.shape[0]):\n",
    "        for j in p0[i]: y0[i,int(j)] = 1\n",
    "        for j in p1[i]: y1[i,int(j)] = 1\n",
    "    # print(y0[:5])\n",
    "    \n",
    "    y0avg = np.average(y0,axis=0)\n",
    "    y1avg = np.average(y1,axis=0)\n",
    "    cm = [confusion_matrix(y0[:,i], y1[:,i]) for i in range(y0.shape[1])]\n",
    "    fm = [f1_score(y0[:,i], y1[:,i]) for i in range(y0.shape[1])]\n",
    "    fmas = np.argsort(np.array(fm))\n",
    "    for j in range(y0.shape[1]):\n",
    "        i = fmas[j]\n",
    "        print(i,LABEL_MAP[i])\n",
    "        print(cm[i],' %4.2f' % fm[i],' %6.4f' % y0avg[i],' %6.4f' % y1avg[i],\n",
    "             ' %6.4f' % (y0avg[i] - y1avg[i]))\n",
    "        print()\n",
    "#     print('y0avg')\n",
    "#     print(y0avg)\n",
    "#     print('y1avg')\n",
    "#     print(y1avg)\n",
    "#     print('y0avg - y1avg')\n",
    "#     print(y0avg-y1avg)\n",
    "    print('f1 macro')\n",
    "    print(np.mean(fm))       \n",
    "    return f1_score(y0, y1, average='macro')\n",
    " "
   ]
  },
  {
   "cell_type": "code",
   "execution_count": 60,
   "metadata": {},
   "outputs": [
    {
     "data": {
      "text/plain": [
       "0.9885458364484041"
      ]
     },
     "execution_count": 60,
     "metadata": {},
     "output_type": "execute_result"
    }
   ],
   "source": [
    "f1_sub(fname,'sub/'+prefix+midx+'.csv')"
   ]
  },
  {
   "cell_type": "code",
   "execution_count": 74,
   "metadata": {},
   "outputs": [
    {
     "data": {
      "text/plain": [
       "0.845094684838231"
      ]
     },
     "execution_count": 74,
     "metadata": {},
     "output_type": "execute_result"
    }
   ],
   "source": [
    "f1_sub(fname,'sub/ens71d.csv')"
   ]
  },
  {
   "cell_type": "code",
   "execution_count": 75,
   "metadata": {},
   "outputs": [
    {
     "data": {
      "text/plain": [
       "0.8555345706674932"
      ]
     },
     "execution_count": 75,
     "metadata": {},
     "output_type": "execute_result"
    }
   ],
   "source": [
    "f1_sub(fname,'sub/ens76d.csv')"
   ]
  },
  {
   "cell_type": "code",
   "execution_count": 76,
   "metadata": {},
   "outputs": [
    {
     "data": {
      "text/plain": [
       "0.8368473400441168"
      ]
     },
     "execution_count": 76,
     "metadata": {},
     "output_type": "execute_result"
    }
   ],
   "source": [
    "f1_sub(fname,'sub/ens85d.csv')"
   ]
  },
  {
   "cell_type": "code",
   "execution_count": 77,
   "metadata": {},
   "outputs": [
    {
     "data": {
      "text/plain": [
       "0.8298531901052456"
      ]
     },
     "execution_count": 77,
     "metadata": {},
     "output_type": "execute_result"
    }
   ],
   "source": [
    "f1_sub(fname,'sub/ens85bd.csv')"
   ]
  },
  {
   "cell_type": "code",
   "execution_count": 78,
   "metadata": {},
   "outputs": [
    {
     "data": {
      "text/plain": [
       "0.8333936121568069"
      ]
     },
     "execution_count": 78,
     "metadata": {},
     "output_type": "execute_result"
    }
   ],
   "source": [
    "f1_sub(fname,'sub/ens86bd.csv')"
   ]
  },
  {
   "cell_type": "code",
   "execution_count": 79,
   "metadata": {},
   "outputs": [
    {
     "data": {
      "text/plain": [
       "0.9154234971160362"
      ]
     },
     "execution_count": 79,
     "metadata": {},
     "output_type": "execute_result"
    }
   ],
   "source": [
    "f1_sub(fname,'sub/ens92b.csv')"
   ]
  },
  {
   "cell_type": "code",
   "execution_count": 80,
   "metadata": {},
   "outputs": [
    {
     "data": {
      "text/plain": [
       "0.9145066654575729"
      ]
     },
     "execution_count": 80,
     "metadata": {},
     "output_type": "execute_result"
    }
   ],
   "source": [
    "f1_sub(fname,'sub/hill_m92d.csv')"
   ]
  },
  {
   "cell_type": "code",
   "execution_count": 81,
   "metadata": {},
   "outputs": [
    {
     "data": {
      "text/plain": [
       "0.8273946452936507"
      ]
     },
     "execution_count": 81,
     "metadata": {},
     "output_type": "execute_result"
    }
   ],
   "source": [
    "f1_sub(fname,'sub/hill_b92d.csv')"
   ]
  },
  {
   "cell_type": "code",
   "execution_count": 82,
   "metadata": {},
   "outputs": [
    {
     "data": {
      "text/plain": [
       "0.8342999279449447"
      ]
     },
     "execution_count": 82,
     "metadata": {},
     "output_type": "execute_result"
    }
   ],
   "source": [
    "f1_sub(fname,'sub/enst22_1shai562_1russ609_1dieter580_1shai592_2.4.csv')"
   ]
  },
  {
   "cell_type": "code",
   "execution_count": 83,
   "metadata": {},
   "outputs": [
    {
     "data": {
      "text/plain": [
       "0.8280808314389915"
      ]
     },
     "execution_count": 83,
     "metadata": {},
     "output_type": "execute_result"
    }
   ],
   "source": [
    "f1_sub(fname,'sub/enst26_1shai562_1russ609_1dieter580_1shai592_1dmytro592_kevin602_3.6.csv')"
   ]
  },
  {
   "cell_type": "code",
   "execution_count": 84,
   "metadata": {},
   "outputs": [
    {
     "data": {
      "text/plain": [
       "0.8570588164624783"
      ]
     },
     "execution_count": 84,
     "metadata": {},
     "output_type": "execute_result"
    }
   ],
   "source": [
    "f1_sub(fname,'sub/enstw36_1shai562_3russ616_3dieter580_2shai593_3dmytro617_2kevin602_1l2615_7.15_clswt.csv')"
   ]
  },
  {
   "cell_type": "code",
   "execution_count": 85,
   "metadata": {},
   "outputs": [
    {
     "data": {
      "text/plain": [
       "0.8242710855469824"
      ]
     },
     "execution_count": 85,
     "metadata": {},
     "output_type": "execute_result"
    }
   ],
   "source": [
    "f1_sub(fname,'sub/airx0d.csv')"
   ]
  },
  {
   "cell_type": "code",
   "execution_count": 86,
   "metadata": {},
   "outputs": [
    {
     "data": {
      "text/plain": [
       "0.818245674170627"
      ]
     },
     "execution_count": 86,
     "metadata": {},
     "output_type": "execute_result"
    }
   ],
   "source": [
    "f1_sub(fname,'sub/airx1d.csv')"
   ]
  },
  {
   "cell_type": "code",
   "execution_count": 87,
   "metadata": {},
   "outputs": [
    {
     "data": {
      "text/plain": [
       "0.8350316944993231"
      ]
     },
     "execution_count": 87,
     "metadata": {},
     "output_type": "execute_result"
    }
   ],
   "source": [
    "f1_sub(fname,'sub/airx2d.csv')"
   ]
  },
  {
   "cell_type": "code",
   "execution_count": 88,
   "metadata": {},
   "outputs": [
    {
     "data": {
      "text/plain": [
       "0.8202080435473434"
      ]
     },
     "execution_count": 88,
     "metadata": {},
     "output_type": "execute_result"
    }
   ],
   "source": [
    "f1_sub(fname,'sub/airx3d.csv')"
   ]
  },
  {
   "cell_type": "code",
   "execution_count": 89,
   "metadata": {},
   "outputs": [
    {
     "data": {
      "text/plain": [
       "0.8164199581009239"
      ]
     },
     "execution_count": 89,
     "metadata": {},
     "output_type": "execute_result"
    }
   ],
   "source": [
    "f1_sub(fname,'sub/airx4d.csv')"
   ]
  },
  {
   "cell_type": "code",
   "execution_count": 90,
   "metadata": {},
   "outputs": [
    {
     "data": {
      "text/plain": [
       "0.8007880052611893"
      ]
     },
     "execution_count": 90,
     "metadata": {},
     "output_type": "execute_result"
    }
   ],
   "source": [
    "f1_sub(fname,'sub/airx4id.csv')"
   ]
  },
  {
   "cell_type": "code",
   "execution_count": 91,
   "metadata": {},
   "outputs": [
    {
     "data": {
      "text/plain": [
       "0.8135605313575454"
      ]
     },
     "execution_count": 91,
     "metadata": {},
     "output_type": "execute_result"
    }
   ],
   "source": [
    "f1_sub(fname,'sub/preresnet0d.csv')"
   ]
  },
  {
   "cell_type": "code",
   "execution_count": 92,
   "metadata": {},
   "outputs": [
    {
     "data": {
      "text/plain": [
       "0.781957442824948"
      ]
     },
     "execution_count": 92,
     "metadata": {},
     "output_type": "execute_result"
    }
   ],
   "source": [
    "f1_sub(fname,'sub/resnet15c.csv')"
   ]
  },
  {
   "cell_type": "code",
   "execution_count": 93,
   "metadata": {},
   "outputs": [
    {
     "data": {
      "text/plain": [
       "0.7567980243222008"
      ]
     },
     "execution_count": 93,
     "metadata": {},
     "output_type": "execute_result"
    }
   ],
   "source": [
    "f1_sub(fname,'sub/se_resnext11d.csv')"
   ]
  },
  {
   "cell_type": "code",
   "execution_count": 94,
   "metadata": {},
   "outputs": [
    {
     "data": {
      "text/plain": [
       "0.7499245757164574"
      ]
     },
     "execution_count": 94,
     "metadata": {},
     "output_type": "execute_result"
    }
   ],
   "source": [
    "f1_sub(fname,'sub/leak_brian_tommy_en_res34swa_re50xt_re101xtswa_wrn_4.8.csv')"
   ]
  },
  {
   "cell_type": "code",
   "execution_count": 95,
   "metadata": {},
   "outputs": [
    {
     "data": {
      "text/plain": [
       "0.7344649809125626"
      ]
     },
     "execution_count": 95,
     "metadata": {},
     "output_type": "execute_result"
    }
   ],
   "source": [
    "f1_sub(fname,'sub/submission_loss_5fold_mean.csv')"
   ]
  },
  {
   "cell_type": "code",
   "execution_count": 96,
   "metadata": {},
   "outputs": [],
   "source": [
    "# f1_confusion(fname,'sub/'+prefix+midx+'.csv')"
   ]
  },
  {
   "cell_type": "code",
   "execution_count": 97,
   "metadata": {},
   "outputs": [
    {
     "data": {
      "text/plain": [
       "0.6695496771542778"
      ]
     },
     "execution_count": 97,
     "metadata": {},
     "output_type": "execute_result"
    }
   ],
   "source": [
    "f1_sub('sub/submission_loss_5fold_mean.csv',\n",
    "       'sub/leak_brian_tommy_en_res34swa_re50xt_re101xtswa_wrn_4.8.csv')"
   ]
  },
  {
   "cell_type": "code",
   "execution_count": 98,
   "metadata": {},
   "outputs": [
    {
     "data": {
      "text/plain": [
       "0.8338278242472583"
      ]
     },
     "execution_count": 98,
     "metadata": {},
     "output_type": "execute_result"
    }
   ],
   "source": [
    "f1_sub('sub/enst1.8_1shai562_1russ600_1dieter_2.3.csv',\n",
    "       'sub/leak_brian_tommy_en_res34swa_re50xt_re101xtswa_wrn_4.8.csv')"
   ]
  },
  {
   "cell_type": "code",
   "execution_count": 99,
   "metadata": {},
   "outputs": [
    {
     "data": {
      "text/plain": [
       "0.8140559755860645"
      ]
     },
     "execution_count": 99,
     "metadata": {},
     "output_type": "execute_result"
    }
   ],
   "source": [
    "f1_sub('sub/enst1.8_1shai562_1russ600_1dieter_2.3.csv',\n",
    "       'sub/submission_loss_5fold_mean.csv')"
   ]
  },
  {
   "cell_type": "code",
   "execution_count": 100,
   "metadata": {},
   "outputs": [
    {
     "data": {
      "text/plain": [
       "0.8370434703359554"
      ]
     },
     "execution_count": 100,
     "metadata": {},
     "output_type": "execute_result"
    }
   ],
   "source": [
    "f1_sub(fname,'sub/enst1.8_1shai562_1russ600_1dieter_2.3.csv')"
   ]
  },
  {
   "cell_type": "code",
   "execution_count": 101,
   "metadata": {},
   "outputs": [],
   "source": [
    "# f1_confusion(fname,'sub/enst22_1shai562_1russ609_1dieter580_1shai592_2.4.csv')"
   ]
  },
  {
   "cell_type": "code",
   "execution_count": 102,
   "metadata": {},
   "outputs": [
    {
     "data": {
      "text/plain": [
       "array([[0, 3],\n",
       "       [0, 1]])"
      ]
     },
     "execution_count": 102,
     "metadata": {},
     "output_type": "execute_result"
    }
   ],
   "source": [
    "v0 = np.array([0, 0, 0, 1])\n",
    "v1 = np.array([1, 1, 1, 1])\n",
    "confusion_matrix(v0,v1)"
   ]
  },
  {
   "cell_type": "code",
   "execution_count": 103,
   "metadata": {},
   "outputs": [
    {
     "name": "stdout",
     "output_type": "stream",
     "text": [
      "sub/hill_m94d.csv\n"
     ]
    }
   ],
   "source": [
    "print(fname)"
   ]
  }
 ],
 "metadata": {
  "kernelspec": {
   "display_name": "Python 3",
   "language": "python",
   "name": "python3"
  },
  "language_info": {
   "codemirror_mode": {
    "name": "ipython",
    "version": 3
   },
   "file_extension": ".py",
   "mimetype": "text/x-python",
   "name": "python",
   "nbconvert_exporter": "python",
   "pygments_lexer": "ipython3",
   "version": "3.6.5"
  }
 },
 "nbformat": 4,
 "nbformat_minor": 2
}
