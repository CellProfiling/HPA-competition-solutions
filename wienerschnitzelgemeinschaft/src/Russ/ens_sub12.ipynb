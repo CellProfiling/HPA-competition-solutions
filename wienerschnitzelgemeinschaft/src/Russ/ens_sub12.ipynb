{
 "cells": [
  {
   "cell_type": "code",
   "execution_count": 1,
   "metadata": {},
   "outputs": [
    {
     "name": "stdout",
     "output_type": "stream",
     "text": [
      "ens 12 0.36 20\n",
      "0.08333333333333333 iv3_a1\n",
      "0.08333333333333333 irv2_a1\n",
      "0.08333333333333333 se_resnext_a9\n",
      "0.25 resnet34_46\n",
      "0.1 iv3_a4\n",
      "0.1 iv3_a5\n",
      "0.35 resnet_a11\n",
      "0.1 nas_a7\n",
      "0.1 irv2_a6\n",
      "0.35 se_resnet_c18\n",
      "0.1 se_resnet_b22\n",
      "0.3 se_resnext_e11\n",
      "0.5 blend_0459\n",
      "sum of weights 2.5\n"
     ]
    }
   ],
   "source": [
    "fidx = 'ens'\n",
    "midx = '12'\n",
    "\n",
    "# using results from versions of ens_oof.ipynb\n",
    "mnames = ['iv3_a1','irv2_a1','se_resnext_a9','resnet34_46']\n",
    "weights = [1./12,1./12,1./12,0.25]\n",
    "\n",
    "mnames += ['iv3_a4','iv3_a5','resnet_a11','nas_a7','irv2_a6',\n",
    "          'se_resnet_c18','se_resnet_b22','se_resnext_e11']\n",
    "weights += [0.1,0.1,0.35,0.1,0.1,0.35,0.1,0.3]\n",
    "\n",
    "mnames += ['blend_0459']\n",
    "weights += [0.5]\n",
    "\n",
    "threshold = 0.36\n",
    "nfold = 20\n",
    "\n",
    "sub_dir = './sub/'\n",
    "\n",
    "print(fidx,midx,threshold,nfold)\n",
    "for m,w in zip(mnames,weights):\n",
    "    print(w,m)\n",
    "import numpy as np\n",
    "print('sum of weights',sum(np.array(weights)))\n",
    "# assert(len(mnames)==len(weights))"
   ]
  },
  {
   "cell_type": "code",
   "execution_count": 2,
   "metadata": {},
   "outputs": [
    {
     "name": "stdout",
     "output_type": "stream",
     "text": [
      "['iv3_a4']\n",
      "['resnet34_46', 'resnet50', 'resnet34']\n"
     ]
    }
   ],
   "source": [
    "blist = ['blend_0459']\n",
    "tlist = ['iv3_a4']\n",
    "klist = ['resnet34_46','resnet50','resnet34']\n",
    "print(tlist)\n",
    "print(klist)"
   ]
  },
  {
   "cell_type": "code",
   "execution_count": 3,
   "metadata": {},
   "outputs": [
    {
     "name": "stderr",
     "output_type": "stream",
     "text": [
      "/home/sasrdw/anaconda3/lib/python3.6/site-packages/h5py/__init__.py:36: FutureWarning: Conversion of the second argument of issubdtype from `float` to `np.floating` is deprecated. In future, it will be treated as `np.float64 == np.dtype(float).type`.\n",
      "  from ._conv import register_converters as _register_converters\n",
      "Using TensorFlow backend.\n"
     ]
    }
   ],
   "source": [
    "import numpy as np\n",
    "import pandas as pd\n",
    "import pickle\n",
    "import os\n",
    "from os import path\n",
    "from random import randint\n",
    "\n",
    "import matplotlib.pyplot as plt\n",
    "plt.style.use('seaborn-white')\n",
    "import seaborn as sns\n",
    "sns.set_style(\"white\")\n",
    "\n",
    "from sklearn.model_selection import train_test_split\n",
    "\n",
    "from keras.preprocessing.image import load_img\n",
    "\n",
    "import pydensecrf.densecrf as dcrf\n",
    "from pydensecrf.utils import unary_from_labels, create_pairwise_bilateral\n",
    "from skimage.color import gray2rgb\n",
    "from skimage.color import rgb2gray\n",
    "from skimage.transform import resize\n",
    "\n",
    "from scipy.special import logit, expit\n",
    "from sklearn.model_selection import StratifiedKFold\n",
    "from sklearn.metrics import jaccard_similarity_score, f1_score\n",
    "\n",
    "import scipy.optimize as opt\n",
    "\n",
    "import gc\n",
    "import cv2\n",
    "from tqdm import tqdm_notebook\n",
    "\n",
    "from numpy import inf"
   ]
  },
  {
   "cell_type": "code",
   "execution_count": 4,
   "metadata": {},
   "outputs": [],
   "source": [
    "name_label_dict = {\n",
    "    0:  \"Nucleoplasm\",  \n",
    "    1:  \"Nuclear membrane\",   \n",
    "    2:  \"Nucleoli\",   \n",
    "    3:  \"Nucleoli fibrillar center\",   \n",
    "    4:  \"Nuclear speckles\",\n",
    "    5:  \"Nuclear bodies\",   \n",
    "    6:  \"Endoplasmic reticulum\",   \n",
    "    7:  \"Golgi apparatus\",   \n",
    "    8:  \"Peroxisomes\",   \n",
    "    9:  \"Endosomes\",   \n",
    "    10:  \"Lysosomes\",   \n",
    "    11:  \"Intermediate filaments\",   \n",
    "    12:  \"Actin filaments\",   \n",
    "    13:  \"Focal adhesion sites\",   \n",
    "    14:  \"Microtubules\",   \n",
    "    15:  \"Microtubule ends\",   \n",
    "    16:  \"Cytokinetic bridge\",   \n",
    "    17:  \"Mitotic spindle\",   \n",
    "    18:  \"Microtubule organizing center\",   \n",
    "    19:  \"Centrosome\",   \n",
    "    20:  \"Lipid droplets\",   \n",
    "    21:  \"Plasma membrane\",   \n",
    "    22:  \"Cell junctions\",   \n",
    "    23:  \"Mitochondria\",   \n",
    "    24:  \"Aggresome\",   \n",
    "    25:  \"Cytosol\",   \n",
    "    26:  \"Cytoplasmic bodies\",   \n",
    "    27:  \"Rods & rings\"\n",
    "}\n",
    "\n",
    "np.set_printoptions(precision=3, suppress=True, linewidth=100)"
   ]
  },
  {
   "cell_type": "code",
   "execution_count": 5,
   "metadata": {},
   "outputs": [
    {
     "name": "stdout",
     "output_type": "stream",
     "text": [
      "                                      Predicted\n",
      "Id                                             \n",
      "00008af0-bad0-11e8-b2b8-ac1f6b6435d0          0\n",
      "0000a892-bacf-11e8-b2b8-ac1f6b6435d0          0\n",
      "0006faa6-bac7-11e8-b2b7-ac1f6b6435d0          0\n",
      "0008baca-bad7-11e8-b2b9-ac1f6b6435d0          0\n",
      "000cce7e-bad4-11e8-b2b8-ac1f6b6435d0          0\n",
      "(11702, 1)\n"
     ]
    }
   ],
   "source": [
    "test_df = pd.read_csv(\"sample_submission.csv\", index_col=\"Id\")\n",
    "print(test_df.head())\n",
    "print(test_df.shape)"
   ]
  },
  {
   "cell_type": "code",
   "execution_count": 6,
   "metadata": {
    "_uuid": "b18c1f50cefd7504eae7e7b9605be3814c7cad6d"
   },
   "outputs": [],
   "source": [
    "# test_df[\"images\"] = [np.array(load_img(\"images/{}.png\".format(idx), \\\n",
    "#                                         color_mode = \"grayscale\")) / 255. \\\n",
    "#                                         # grayscale=True)) / 255. \\\n",
    "#                       for idx in tqdm_notebook(test_df.index)]\n",
    "# print(test_df.shape)"
   ]
  },
  {
   "cell_type": "code",
   "execution_count": 7,
   "metadata": {},
   "outputs": [
    {
     "data": {
      "text/plain": [
       "Index(['Predicted'], dtype='object')"
      ]
     },
     "execution_count": 7,
     "metadata": {},
     "output_type": "execute_result"
    }
   ],
   "source": [
    "test_df.columns"
   ]
  },
  {
   "cell_type": "code",
   "execution_count": 8,
   "metadata": {},
   "outputs": [],
   "source": [
    "# save a base copy for reuse below\n",
    "test_df0 = test_df.copy()\n"
   ]
  },
  {
   "cell_type": "code",
   "execution_count": 9,
   "metadata": {},
   "outputs": [
    {
     "name": "stdout",
     "output_type": "stream",
     "text": [
      "\n",
      "./sub/iv3_a1_0_mm.pkl\n",
      "2.0611537e-09 0.05761648 0.99999416\n",
      "(11702, 28) 2.0611537e-09 0.05761648 0.99999416\n",
      "\n",
      "./sub/iv3_a1_1_mm.pkl\n",
      "2.0611537e-09 0.056957327 0.9999049\n",
      "(11702, 28) 2.0611537e-09 0.056957327 0.9999049\n",
      "[[1.    0.961]\n",
      " [0.961 1.   ]]\n",
      "\n",
      "./sub/iv3_a1_2_mm.pkl\n",
      "2.0611537e-09 0.05643581 0.9999939\n",
      "(11702, 28) 2.0611537e-09 0.05643581 0.9999939\n",
      "[[1.    0.971]\n",
      " [0.971 1.   ]]\n",
      "\n",
      "./sub/iv3_a1_3_mm.pkl\n",
      "2.0611537e-09 0.0572561 0.99998677\n",
      "(11702, 28) 2.0611537e-09 0.0572561 0.99998677\n",
      "[[1.    0.977]\n",
      " [0.977 1.   ]]\n",
      "\n",
      "./sub/iv3_a1_4_mm.pkl\n",
      "2.0611537e-09 0.056552935 0.9999939\n",
      "(11702, 28) 2.0611537e-09 0.056552935 0.9999939\n",
      "[[1.    0.976]\n",
      " [0.976 1.   ]]\n",
      "iv3_a1 5 (11702, 28) 2.0611537e-09 0.05696372 0.9998721 0.05588788241326269\n",
      "\n",
      "./sub/irv2_a1_0_mm.pkl\n",
      "2.0611537e-09 0.0586627 0.9999999\n",
      "(11702, 28) 2.0611537e-09 0.0586627 0.9999999\n",
      "\n",
      "./sub/irv2_a1_1_mm.pkl\n",
      "2.0611537e-09 0.05763268 1.0\n",
      "(11702, 28) 2.0611537e-09 0.05763268 1.0\n",
      "[[1.    0.964]\n",
      " [0.964 1.   ]]\n",
      "\n",
      "./sub/irv2_a1_2_mm.pkl\n",
      "2.0611537e-09 0.056908816 0.9999949\n",
      "(11702, 28) 2.0611537e-09 0.056908816 0.9999949\n",
      "[[1.    0.965]\n",
      " [0.965 1.   ]]\n",
      "\n",
      "./sub/irv2_a1_3_mm.pkl\n",
      "2.0611537e-09 0.05789164 0.9999988\n",
      "(11702, 28) 2.0611537e-09 0.05789164 0.9999988\n",
      "[[1.    0.975]\n",
      " [0.975 1.   ]]\n",
      "\n",
      "./sub/irv2_a1_4_mm.pkl\n",
      "2.0611537e-09 0.057537448 0.9999982\n",
      "(11702, 28) 2.0611537e-09 0.057537448 0.9999982\n",
      "[[1.    0.973]\n",
      " [0.973 1.   ]]\n",
      "irv2_a1 5 (11702, 28) 2.0611537e-09 0.057726648 0.9999954 0.05662951388041116\n",
      "\n",
      "./sub/se_resnext_a9_0_mm.pkl\n",
      "2.0611537e-09 0.056475766 1.0\n",
      "(11702, 28) 2.0611537e-09 0.056475766 1.0\n",
      "\n",
      "./sub/se_resnext_a9_1_mm.pkl\n",
      "2.0611537e-09 0.05778432 1.0\n",
      "(11702, 28) 2.0611537e-09 0.05778432 1.0\n",
      "[[1.    0.955]\n",
      " [0.955 1.   ]]\n",
      "\n",
      "./sub/se_resnext_a9_2_mm.pkl\n",
      "2.0611537e-09 0.058635537 1.0\n",
      "(11702, 28) 2.0611537e-09 0.058635537 1.0\n",
      "[[1.    0.962]\n",
      " [0.962 1.   ]]\n",
      "\n",
      "./sub/se_resnext_a9_3_mm.pkl\n",
      "2.0611537e-09 0.056287926 1.0\n",
      "(11702, 28) 2.0611537e-09 0.056287926 1.0\n",
      "[[1.    0.966]\n",
      " [0.966 1.   ]]\n",
      "\n",
      "./sub/se_resnext_a9_4_mm.pkl\n",
      "2.0611537e-09 0.05671102 0.9999999\n",
      "(11702, 28) 2.0611537e-09 0.05671102 0.9999999\n",
      "[[1.    0.971]\n",
      " [0.971 1.   ]]\n",
      "se_resnext_a9 5 (11702, 28) 2.0611537e-09 0.05717891 1.0 0.05752374441487414\n",
      "\n",
      "./sub/resnet34_46_0.pkl\n",
      "9.20574e-12 0.11888076 0.99816006\n",
      "(11702, 28) 9.20574e-12 0.11888076 0.99816006\n",
      "\n",
      "./sub/resnet34_46_1.pkl\n",
      "1.5278538e-12 0.12272308 0.99790454\n",
      "(11702, 28) 1.5278538e-12 0.12272308 0.99790454\n",
      "[[1.    0.961]\n",
      " [0.961 1.   ]]\n",
      "\n",
      "./sub/resnet34_46_2.pkl\n",
      "4.8452914e-10 0.12190075 0.9930139\n",
      "(11702, 28) 4.8452914e-10 0.12190075 0.9930139\n",
      "[[1.    0.972]\n",
      " [0.972 1.   ]]\n",
      "\n",
      "./sub/resnet34_46_3.pkl\n",
      "8.052967e-11 0.12420205 0.99784493\n",
      "(11702, 28) 8.052967e-11 0.12420205 0.99784493\n",
      "[[1.    0.975]\n",
      " [0.975 1.   ]]\n",
      "\n",
      "./sub/resnet34_46_4.pkl\n",
      "5.104312e-10 0.121651776 0.9962599\n",
      "(11702, 28) 5.104312e-10 0.121651776 0.9962599\n",
      "[[1.    0.974]\n",
      " [0.974 1.   ]]\n",
      "\n",
      "./sub/resnet34_46_5.pkl\n",
      "5.528419e-11 0.121324874 0.9957599\n",
      "(11702, 28) 5.528419e-11 0.121324874 0.9957599\n",
      "[[1.    0.978]\n",
      " [0.978 1.   ]]\n",
      "\n",
      "./sub/resnet34_46_6.pkl\n",
      "5.623092e-10 0.12376151 0.9937558\n",
      "(11702, 28) 5.623092e-10 0.12376151 0.9937558\n",
      "[[1.    0.977]\n",
      " [0.977 1.   ]]\n",
      "\n",
      "./sub/resnet34_46_7.pkl\n",
      "8.615104e-11 0.1219232 0.99558216\n",
      "(11702, 28) 8.615104e-11 0.1219232 0.99558216\n",
      "[[1.    0.978]\n",
      " [0.978 1.   ]]\n",
      "\n",
      "./sub/resnet34_46_8.pkl\n",
      "3.752442e-11 0.121150665 0.99904376\n",
      "(11702, 28) 3.752442e-11 0.121150665 0.99904376\n",
      "[[1.    0.978]\n",
      " [0.978 1.   ]]\n",
      "\n",
      "./sub/resnet34_46_9.pkl\n",
      "1.5178518e-10 0.12238426 0.9947476\n",
      "(11702, 28) 1.5178518e-10 0.12238426 0.9947476\n",
      "[[1.    0.979]\n",
      " [0.979 1.   ]]\n",
      "resnet34_46 10 (11702, 28) 4.39357e-09 0.12199029 0.9937332 0.09689430378201529\n",
      "\n",
      "./sub/iv3_a4_0_mm.pkl\n",
      "2.0611537e-09 0.05245499 0.9999999\n",
      "(11702, 28) 2.0611537e-09 0.05245499 0.9999999\n",
      "\n",
      "./sub/iv3_a4_1_mm.pkl\n",
      "2.0611537e-09 0.055142865 1.0\n",
      "(11702, 28) 2.0611537e-09 0.055142865 1.0\n",
      "[[1.    0.851]\n",
      " [0.851 1.   ]]\n",
      "\n",
      "./sub/iv3_a4_2_mm.pkl\n",
      "2.0611537e-09 0.055049554 1.0\n",
      "(11702, 28) 2.0611537e-09 0.055049554 1.0\n",
      "[[1.    0.883]\n",
      " [0.883 1.   ]]\n",
      "\n",
      "./sub/iv3_a4_3_mm.pkl\n",
      "2.0611537e-09 0.055346455 1.0\n",
      "(11702, 28) 2.0611537e-09 0.055346455 1.0\n",
      "[[1.    0.895]\n",
      " [0.895 1.   ]]\n",
      "iv3_a4 4 (11702, 28) 2.0611537e-09 0.054498475 0.9999997 0.047455257953463385\n",
      "\n",
      "./sub/iv3_a5_0_mm.pkl\n",
      "2.0611537e-09 0.06037278 1.0\n",
      "(11702, 28) 2.0611537e-09 0.06037278 1.0\n",
      "\n",
      "./sub/iv3_a5_1_mm.pkl\n",
      "2.0611537e-09 0.06046576 1.0\n",
      "(11702, 28) 2.0611537e-09 0.06046576 1.0\n",
      "[[1.    0.867]\n",
      " [0.867 1.   ]]\n",
      "\n",
      "./sub/iv3_a5_2_mm.pkl\n",
      "2.0611537e-09 0.060359284 1.0\n",
      "(11702, 28) 2.0611537e-09 0.060359284 1.0\n",
      "[[1.    0.902]\n",
      " [0.902 1.   ]]\n",
      "\n",
      "./sub/iv3_a5_3_mm.pkl\n",
      "2.0611537e-09 0.06223952 1.0\n",
      "(11702, 28) 2.0611537e-09 0.06223952 1.0\n",
      "[[1.    0.911]\n",
      " [0.911 1.   ]]\n",
      "iv3_a5 4 (11702, 28) 2.0611537e-09 0.06085934 1.0 0.058958175647630444\n",
      "\n",
      "./sub/resnet_a11_0_mm.pkl\n",
      "0.00028191632 0.123277955 0.999403\n",
      "(11702, 28) 0.00028191632 0.123277955 0.999403\n",
      "\n",
      "./sub/resnet_a11_1_mm.pkl\n",
      "0.0004537178 0.13930698 0.98802674\n",
      "(11702, 28) 0.0004537178 0.13930698 0.98802674\n",
      "[[1.    0.866]\n",
      " [0.866 1.   ]]\n",
      "\n",
      "./sub/resnet_a11_2_mm.pkl\n",
      "0.00034979588 0.117629915 0.9941314\n",
      "(11702, 28) 0.00034979588 0.117629915 0.9941314\n",
      "[[1.    0.885]\n",
      " [0.885 1.   ]]\n",
      "\n",
      "./sub/resnet_a11_3_mm.pkl\n",
      "6.930043e-05 0.14662597 0.99645245\n",
      "(11702, 28) 6.930043e-05 0.14662597 0.99645245\n",
      "[[1.    0.886]\n",
      " [0.886 1.   ]]\n",
      "resnet_a11 4 (11702, 28) 0.0013543488 0.13171019 0.98258346 0.0760492711868545\n",
      "\n",
      "./sub/nas_a7_0_mm.pkl\n",
      "2.0611537e-09 0.053651202 1.0\n",
      "(11702, 28) 2.0611537e-09 0.053651202 1.0\n",
      "\n",
      "./sub/nas_a7_1_mm.pkl\n",
      "2.0611537e-09 0.05394298 1.0\n",
      "(11702, 28) 2.0611537e-09 0.05394298 1.0\n",
      "[[1.    0.748]\n",
      " [0.748 1.   ]]\n",
      "\n",
      "./sub/nas_a7_2_mm.pkl\n",
      "2.0611537e-09 0.052077234 1.0\n",
      "(11702, 28) 2.0611537e-09 0.052077234 1.0\n",
      "[[1.  0.8]\n",
      " [0.8 1. ]]\n",
      "\n",
      "./sub/nas_a7_3_mm.pkl\n",
      "2.0611537e-09 0.049465086 1.0\n",
      "(11702, 28) 2.0611537e-09 0.049465086 1.0\n",
      "[[1.    0.832]\n",
      " [0.832 1.   ]]\n",
      "nas_a7 4 (11702, 28) 2.0611537e-09 0.052284118 1.0 0.05463046609859121\n",
      "\n",
      "./sub/irv2_a6_0_mm.pkl\n",
      "2.0611537e-09 0.058256667 1.0\n",
      "(11702, 28) 2.0611537e-09 0.058256667 1.0\n",
      "\n",
      "./sub/irv2_a6_1_mm.pkl\n",
      "2.0611537e-09 0.05862278 1.0\n",
      "(11702, 28) 2.0611537e-09 0.05862278 1.0\n",
      "[[1.    0.827]\n",
      " [0.827 1.   ]]\n",
      "\n",
      "./sub/irv2_a6_2_mm.pkl\n",
      "2.0611537e-09 0.059448782 1.0\n",
      "(11702, 28) 2.0611537e-09 0.059448782 1.0\n",
      "[[1.    0.863]\n",
      " [0.863 1.   ]]\n",
      "\n",
      "./sub/irv2_a6_3_mm.pkl\n",
      "2.0611537e-09 0.058884587 1.0\n",
      "(11702, 28) 2.0611537e-09 0.058884587 1.0\n",
      "[[1.    0.889]\n",
      " [0.889 1.   ]]\n",
      "irv2_a6 4 (11702, 28) 2.0611537e-09 0.058803204 1.0 0.058781160729545624\n",
      "\n",
      "./sub/se_resnet_c18_0_mm.pkl\n",
      "2.0611537e-09 0.058366813 1.0\n",
      "(11702, 28) 2.0611537e-09 0.058366813 1.0\n",
      "\n",
      "./sub/se_resnet_c18_1_mm.pkl\n",
      "2.0611537e-09 0.058733895 1.0\n",
      "(11702, 28) 2.0611537e-09 0.058733895 1.0\n",
      "[[1.    0.775]\n",
      " [0.775 1.   ]]\n",
      "\n",
      "./sub/se_resnet_c18_2_mm.pkl\n",
      "2.0611537e-09 0.05829189 1.0\n",
      "(11702, 28) 2.0611537e-09 0.05829189 1.0\n",
      "[[1.    0.832]\n",
      " [0.832 1.   ]]\n",
      "\n",
      "./sub/se_resnet_c18_3_mm.pkl\n",
      "2.0611537e-09 0.058369406 1.0\n",
      "(11702, 28) 2.0611537e-09 0.058369406 1.0\n",
      "[[1.    0.831]\n",
      " [0.831 1.   ]]\n",
      "se_resnet_c18 4 (11702, 28) 2.0611537e-09 0.058440514 0.9999969 0.05847291061357033\n",
      "\n",
      "./sub/se_resnet_b22_0_mm.pkl\n",
      "2.0611537e-09 0.054698776 1.0\n",
      "(11702, 28) 2.0611537e-09 0.054698776 1.0\n",
      "\n",
      "./sub/se_resnet_b22_1_mm.pkl\n",
      "2.0611537e-09 0.054445494 1.0\n",
      "(11702, 28) 2.0611537e-09 0.054445494 1.0\n",
      "[[1.    0.779]\n",
      " [0.779 1.   ]]\n",
      "\n",
      "./sub/se_resnet_b22_2_mm.pkl\n",
      "2.0611537e-09 0.052551847 1.0\n",
      "(11702, 28) 2.0611537e-09 0.052551847 1.0\n",
      "[[1.    0.831]\n",
      " [0.831 1.   ]]\n",
      "\n",
      "./sub/se_resnet_b22_3_mm.pkl\n",
      "2.0611537e-09 0.052739657 1.0\n",
      "(11702, 28) 2.0611537e-09 0.052739657 1.0\n",
      "[[1.    0.849]\n",
      " [0.849 1.   ]]\n",
      "se_resnet_b22 4 (11702, 28) 2.0611537e-09 0.05360894 0.99999964 0.05643723905559489\n",
      "\n",
      "./sub/se_resnext_e11_0_mm.pkl\n",
      "2.0611537e-09 0.057077948 1.0\n",
      "(11702, 28) 2.0611537e-09 0.057077948 1.0\n",
      "\n",
      "./sub/se_resnext_e11_1_mm.pkl\n",
      "2.0611537e-09 0.055540018 1.0\n",
      "(11702, 28) 2.0611537e-09 0.055540018 1.0\n",
      "[[1.    0.805]\n",
      " [0.805 1.   ]]\n",
      "\n",
      "./sub/se_resnext_e11_2_mm.pkl\n",
      "2.0611537e-09 0.057122592 1.0\n",
      "(11702, 28) 2.0611537e-09 0.057122592 1.0\n",
      "[[1.    0.843]\n",
      " [0.843 1.   ]]\n",
      "\n",
      "./sub/se_resnext_e11_3_mm.pkl\n",
      "2.0611537e-09 0.056620054 1.0\n",
      "(11702, 28) 2.0611537e-09 0.056620054 1.0\n",
      "[[1.    0.853]\n",
      " [0.853 1.   ]]\n",
      "se_resnext_e11 4 (11702, 28) 2.0611537e-09 0.056590144 1.0 0.05852479429645726\n",
      "\n",
      "./sub/blend_0459.npy\n",
      "3.4306354e-19 0.0537267 0.90234965\n",
      "(11702, 28) 3.4306354e-19 0.0537267 0.90234965\n",
      "blend_0459 1 (11702, 28) 3.4306354e-19 0.0537267 0.90234965 0.05445345118050639\n"
     ]
    }
   ],
   "source": [
    "# build submission ensemble as weighted average on logit scale\n",
    "test_df = test_df0.copy()\n",
    "idx = test_df.index.values\n",
    "\n",
    "firstm = True\n",
    "sumw = 0.\n",
    "\n",
    "for m in mnames:\n",
    "\n",
    "    firstf = True\n",
    "    if m in blist: suffix = '.npy'\n",
    "    elif m in klist: suffix = '.pkl'\n",
    "    else: suffix = '_mm.pkl'\n",
    "    for fold in range(nfold):\n",
    "#         print('')\n",
    "#         print(m+'_'+str(fold))\n",
    "        first = True\n",
    "        nr = 0\n",
    "        for rep in ['','a','b','c','d','e','f','g','h','i']:\n",
    "            if m in blist:\n",
    "                fname = sub_dir + m + rep + suffix\n",
    "                if fold > 0: fname = fname + '_' + str(fold)\n",
    "            else:\n",
    "                fname = sub_dir + m + rep + '_' + str(fold) + suffix\n",
    "            if os.path.exists(fname):\n",
    "                print()\n",
    "                print(fname)\n",
    "                if m in blist:\n",
    "                    ptestb = np.load(fname)\n",
    "                    idb = idb0\n",
    "                elif m in klist: \n",
    "                    idb, ptestb = pickle.load(open(fname,'rb'))\n",
    "                    # ptestb = logit(ptestb)\n",
    "                elif m in tlist:\n",
    "                    idb, ptestba, ptestb, ptestbb = pickle.load(open(fname,'rb'))\n",
    "                    ptestb = expit(ptestb)\n",
    "                else:\n",
    "                    idb, ptestb, ptestba = pickle.load(open(fname,'rb'))\n",
    "                    ptestb = expit(ptestb)\n",
    "                \n",
    "                # ptestb = np.clip(ptestb,-20.0,20.0)\n",
    "                # ptestb[ptestb==-inf] = -6.0\n",
    "                # ptestb[ptestb==inf] = 6.0\n",
    "                \n",
    "                print(ptestb.min(),ptestb.mean(),ptestb.max())\n",
    "                \n",
    "                if first:\n",
    "                    ptestf = ptestb.copy()\n",
    "                    idb0 = idb\n",
    "                    first = False\n",
    "                else:\n",
    "                    checki = [i0 != i1 for i0,i1 in zip(idb0,idb)]\n",
    "                    si = np.array(checki).sum()\n",
    "                    # print(si)\n",
    "                    assert si == 0\n",
    "                    print(np.corrcoef(np.array(ptestf).flatten(),\n",
    "                                      np.array(ptestb).flatten()))\n",
    "\n",
    "                    ptestf += ptestb\n",
    "                nr += 1\n",
    "                \n",
    "        if nr > 0:\n",
    "            ptestf /= nr\n",
    "            print(ptestf.shape,ptestf.min(),ptestf.mean(),ptestf.max())\n",
    "\n",
    "            if firstf:\n",
    "                id = idb\n",
    "                ptest = ptestf.copy()\n",
    "                navg = 1\n",
    "                firstf = False\n",
    "            else:\n",
    "                print(np.corrcoef(np.array(ptest).flatten(),\n",
    "                                  np.array(ptestf).flatten()))\n",
    "                ptest += ptestf\n",
    "                navg += 1\n",
    "    \n",
    "    if navg == 0: print('Error: No files found')\n",
    "    ptest /= navg\n",
    "    pmask = (ptest > threshold).astype(int)\n",
    "    print(m,navg,ptest.shape,ptest.min(),ptest.mean(),ptest.max(),pmask.mean())\n",
    "    td = pd.DataFrame({'id':id})\n",
    "    td[m] = [a for a in ptest]\n",
    "    td.set_index('id',inplace=True)\n",
    "    test_df = test_df.join(td)\n"
   ]
  },
  {
   "cell_type": "code",
   "execution_count": 10,
   "metadata": {},
   "outputs": [
    {
     "data": {
      "text/plain": [
       "Index(['Predicted', 'iv3_a1', 'irv2_a1', 'se_resnext_a9', 'resnet34_46',\n",
       "       'iv3_a4', 'iv3_a5', 'resnet_a11', 'nas_a7', 'irv2_a6', 'se_resnet_c18',\n",
       "       'se_resnet_b22', 'se_resnext_e11', 'blend_0459'],\n",
       "      dtype='object')"
      ]
     },
     "execution_count": 10,
     "metadata": {},
     "output_type": "execute_result"
    }
   ],
   "source": [
    "test_df.columns"
   ]
  },
  {
   "cell_type": "code",
   "execution_count": 11,
   "metadata": {},
   "outputs": [
    {
     "name": "stdout",
     "output_type": "stream",
     "text": [
      "['00008af0-bad0-11e8-b2b8-ac1f6b6435d0' '0000a892-bacf-11e8-b2b8-ac1f6b6435d0'\n",
      " '0006faa6-bac7-11e8-b2b7-ac1f6b6435d0' '0008baca-bad7-11e8-b2b9-ac1f6b6435d0'\n",
      " '000cce7e-bad4-11e8-b2b8-ac1f6b6435d0']\n"
     ]
    }
   ],
   "source": [
    "print(idx[:5])"
   ]
  },
  {
   "cell_type": "code",
   "execution_count": 12,
   "metadata": {},
   "outputs": [
    {
     "name": "stdout",
     "output_type": "stream",
     "text": [
      "['iv3_a1', 'irv2_a1', 'se_resnext_a9', 'resnet34_46', 'iv3_a4', 'iv3_a5', 'resnet_a11', 'nas_a7', 'irv2_a6', 'se_resnet_c18', 'se_resnet_b22', 'se_resnext_e11', 'blend_0459']\n",
      "[[1.    0.976 0.936 0.884 0.872 0.889 0.829 0.868 0.877 0.86  0.866 0.887 0.94 ]\n",
      " [0.976 1.    0.946 0.887 0.872 0.89  0.83  0.871 0.88  0.863 0.87  0.893 0.949]\n",
      " [0.936 0.946 1.    0.874 0.852 0.866 0.812 0.865 0.864 0.862 0.866 0.89  0.928]\n",
      " [0.884 0.887 0.874 1.    0.828 0.845 0.906 0.804 0.832 0.825 0.81  0.836 0.882]\n",
      " [0.872 0.872 0.852 0.828 1.    0.885 0.819 0.846 0.86  0.836 0.821 0.873 0.878]\n",
      " [0.889 0.89  0.866 0.845 0.885 1.    0.823 0.887 0.915 0.883 0.857 0.87  0.886]\n",
      " [0.829 0.83  0.812 0.906 0.819 0.823 1.    0.775 0.81  0.802 0.775 0.814 0.824]\n",
      " [0.868 0.871 0.865 0.804 0.846 0.887 0.775 1.    0.884 0.891 0.887 0.867 0.88 ]\n",
      " [0.877 0.88  0.864 0.832 0.86  0.915 0.81  0.884 1.    0.881 0.862 0.869 0.88 ]\n",
      " [0.86  0.863 0.862 0.825 0.836 0.883 0.802 0.891 0.881 1.    0.926 0.865 0.869]\n",
      " [0.866 0.87  0.866 0.81  0.821 0.857 0.775 0.887 0.862 0.926 1.    0.862 0.876]\n",
      " [0.887 0.893 0.89  0.836 0.873 0.87  0.814 0.867 0.869 0.865 0.862 1.    0.899]\n",
      " [0.94  0.949 0.928 0.882 0.878 0.886 0.824 0.88  0.88  0.869 0.876 0.899 1.   ]]\n"
     ]
    }
   ],
   "source": [
    "f = []\n",
    "clist = list(test_df.columns[1:])\n",
    "for c in clist:\n",
    "    f.append(np.array(list(test_df[c])).flatten())\n",
    "print(clist)\n",
    "r = np.corrcoef(f)\n",
    "print(r)"
   ]
  },
  {
   "cell_type": "code",
   "execution_count": 13,
   "metadata": {},
   "outputs": [
    {
     "data": {
      "text/plain": [
       "<seaborn.matrix.ClusterGrid at 0x7f67ac99d438>"
      ]
     },
     "execution_count": 13,
     "metadata": {},
     "output_type": "execute_result"
    },
    {
     "data": {
      "image/png": "[encoded data removed]",
      "text/plain": [
       "<Figure size 720x720 with 4 Axes>"
      ]
     },
     "metadata": {},
     "output_type": "display_data"
    }
   ],
   "source": [
    "d = pd.DataFrame(r, columns=mnames)\n",
    "d['id'] = mnames\n",
    "d.set_index('id',inplace=True)\n",
    "del d.index.name\n",
    "\n",
    "sns.clustermap(d)\n",
    "\n",
    "\n",
    "# import scipy.cluster.hierarchy as hc\n",
    "# from matplotlib import pyplot\n",
    "# link = hc.linkage(d.values, method='centroid')\n",
    "# o1 = hc.leaves_list(link)\n",
    "\n",
    "# mat = d.iloc[o1,:]\n",
    "# mat = mat.iloc[:, o1[::-1]]\n",
    "# pyplot.imshow(mat)"
   ]
  },
  {
   "cell_type": "code",
   "execution_count": 14,
   "metadata": {},
   "outputs": [
    {
     "name": "stdout",
     "output_type": "stream",
     "text": [
      "(327656, 13)\n",
      "flat.csv\n"
     ]
    }
   ],
   "source": [
    "flat = np.transpose(np.array(f))\n",
    "print(flat.shape)\n",
    "fname = 'flat.csv'\n",
    "fdf = pd.DataFrame(flat)\n",
    "fdf.columns = clist\n",
    "fdf.to_csv(fname)\n",
    "print(fname)"
   ]
  },
  {
   "cell_type": "code",
   "execution_count": 15,
   "metadata": {},
   "outputs": [
    {
     "name": "stdout",
     "output_type": "stream",
     "text": [
      "(13, 11702, 28)\n"
     ]
    }
   ],
   "source": [
    "f = []\n",
    "clist = list(test_df.columns[1:])\n",
    "for c in clist:\n",
    "    f.append(np.array(list(test_df[c])))\n",
    "m = np.array(f)\n",
    "print(m.shape)"
   ]
  },
  {
   "cell_type": "code",
   "execution_count": 16,
   "metadata": {},
   "outputs": [
    {
     "name": "stdout",
     "output_type": "stream",
     "text": [
      "[0.083 0.083 0.083 0.25  0.1   0.1   0.35  0.1   0.1   0.35  0.1   0.3   0.5  ]\n"
     ]
    }
   ],
   "source": [
    "weights = np.array(weights)\n",
    "print(weights)"
   ]
  },
  {
   "cell_type": "code",
   "execution_count": 17,
   "metadata": {},
   "outputs": [
    {
     "name": "stdout",
     "output_type": "stream",
     "text": [
      "(11702, 28)\n"
     ]
    }
   ],
   "source": [
    "ens = np.average(m,axis=0,weights=weights)\n",
    "print(ens.shape)"
   ]
  },
  {
   "cell_type": "code",
   "execution_count": 18,
   "metadata": {},
   "outputs": [
    {
     "name": "stdout",
     "output_type": "stream",
     "text": [
      "[0.09  0.015 0.038 0.107 0.025 0.781 0.098 0.026 0.007 0.003 0.003 0.07  0.029 0.019 0.026 0.009\n",
      " 0.027 0.013 0.065 0.045 0.009 0.044 0.023 0.067 0.078 0.298 0.027 0.005]\n"
     ]
    }
   ],
   "source": [
    "print(ens[1])"
   ]
  },
  {
   "cell_type": "code",
   "execution_count": 19,
   "metadata": {},
   "outputs": [],
   "source": [
    "# fname = 'mthresh.pkl'\n",
    "# if os.path.isfile(fname): mthresh = pickle.load(open(fname,'rb'))\n",
    "# mthresh[mname]"
   ]
  },
  {
   "cell_type": "code",
   "execution_count": 20,
   "metadata": {},
   "outputs": [
    {
     "name": "stdout",
     "output_type": "stream",
     "text": [
      "{0: 0.36239782, 1: 0.043841336, 2: 0.075268817, 3: 0.059322034, 4: 0.075268817, 5: 0.075268817, 6: 0.043841336, 7: 0.075268817, 8: 0.01, 9: 0.01, 10: 0.01, 11: 0.043841336, 12: 0.043841336, 13: 0.014198783, 14: 0.043841336, 15: 0.01, 16: 0.028806584, 17: 0.014198783, 18: 0.028806584, 19: 0.059322034, 20: 0.01, 21: 0.126126126, 22: 0.028806584, 23: 0.075268817, 24: 0.01, 25: 0.222493888, 26: 0.028806584, 27: 0.01}\n"
     ]
    }
   ],
   "source": [
    "# desired class proportions from lb probing\n",
    "eps = 0.01\n",
    "desired = {\n",
    "0 : 0.36239782,\n",
    "1 : 0.043841336,\n",
    "2 : 0.075268817,\n",
    "3 : 0.059322034,\n",
    "4 : 0.075268817,\n",
    "5 : 0.075268817,\n",
    "6 : 0.043841336,\n",
    "7 : 0.075268817,\n",
    "8 : eps,\n",
    "9 : eps,\n",
    "10 : eps,\n",
    "11 : 0.043841336,\n",
    "12 : 0.043841336,\n",
    "13 : 0.014198783,\n",
    "14 : 0.043841336,\n",
    "15 : eps,\n",
    "16 : 0.028806584,\n",
    "17 : 0.014198783,\n",
    "18 : 0.028806584,\n",
    "19 : 0.059322034,\n",
    "20 : eps,\n",
    "21 : 0.126126126,\n",
    "22 : 0.028806584,\n",
    "23 : 0.075268817,\n",
    "24 : eps,\n",
    "25 : 0.222493888,\n",
    "26 : 0.028806584,\n",
    "27 : eps\n",
    "}\n",
    "print(desired)"
   ]
  },
  {
   "cell_type": "code",
   "execution_count": 21,
   "metadata": {},
   "outputs": [
    {
     "name": "stdout",
     "output_type": "stream",
     "text": [
      "fixed threshold 0.36\n",
      "0 0.3624 0.4722 Nucleoplasm\n",
      "1 0.0438 0.0358 Nuclear membrane\n",
      "2 0.0753 0.0946 Nucleoli\n",
      "3 0.0593 0.0274 Nucleoli fibrillar center\n",
      "4 0.0753 0.0341 Nuclear speckles\n",
      "5 0.0753 0.0473 Nuclear bodies\n",
      "6 0.0438 0.0194 Endoplasmic reticulum\n",
      "7 0.0753 0.0656 Golgi apparatus\n",
      "8 0.0100 0.0003 Peroxisomes\n",
      "9 0.0100 0.0003 Endosomes\n",
      "10 0.0100 0.0002 Lysosomes\n",
      "11 0.0438 0.0291 Intermediate filaments\n",
      "12 0.0438 0.0173 Actin filaments\n",
      "13 0.0142 0.0109 Focal adhesion sites\n",
      "14 0.0438 0.0435 Microtubules\n",
      "15 0.0100 0.0000 Microtubule ends\n",
      "16 0.0288 0.0119 Cytokinetic bridge\n",
      "17 0.0142 0.0109 Mitotic spindle\n",
      "18 0.0288 0.0228 Microtubule organizing center\n",
      "19 0.0593 0.0356 Centrosome\n",
      "20 0.0100 0.0017 Lipid droplets\n",
      "21 0.1261 0.1672 Plasma membrane\n",
      "22 0.0288 0.0183 Cell junctions\n",
      "23 0.0753 0.0778 Mitochondria\n",
      "24 0.0100 0.0091 Aggresome\n",
      "25 0.2225 0.3454 Cytosol\n",
      "26 0.0288 0.0080 Cytoplasmic bodies\n",
      "27 0.0100 0.0000 Rods & rings\n"
     ]
    }
   ],
   "source": [
    "# fixed global threshold\n",
    "pred = (ens > threshold).astype(int)\n",
    "print('fixed threshold',threshold)\n",
    "for j in range(pred.shape[1]):\n",
    "    prop = np.mean(pred[:,j])\n",
    "    print(j,'%6.4f' % desired[j],'%6.4f' % prop,name_label_dict[j],)"
   ]
  },
  {
   "cell_type": "code",
   "execution_count": 22,
   "metadata": {},
   "outputs": [
    {
     "name": "stdout",
     "output_type": "stream",
     "text": [
      "Thresholds:  [0.636 0.6   0.63  0.581 0.575 0.59  0.587 0.6   0.594 0.594 0.593 0.594 0.581 0.614 0.612 0.593\n",
      " 0.595 0.61  0.604 0.59  0.599 0.62  0.598 0.61  0.621 0.628 0.584 0.593]\n",
      "Fractions:  [0.369 0.034 0.071 0.031 0.038 0.047 0.02  0.059 0.    0.    0.    0.028 0.019 0.009 0.038 0.\n",
      " 0.011 0.006 0.017 0.036 0.001 0.114 0.016 0.064 0.007 0.211 0.009 0.   ]\n",
      "Fractions (th = 0.5):  [1. 1. 1. 1. 1. 1. 1. 1. 1. 1. 1. 1. 1. 1. 1. 1. 1. 1. 1. 1. 1. 1. 1. 1. 1. 1. 1. 1.]\n"
     ]
    }
   ],
   "source": [
    "lb_prob = [\n",
    " 0.362397820,0.043841336,0.075268817,0.059322034,0.075268817,\n",
    " 0.075268817,0.043841336,0.075268817,0.010000000,0.010000000,\n",
    " 0.010000000,0.043841336,0.043841336,0.014198783,0.043841336,\n",
    " 0.010000000,0.028806584,0.014198783,0.028806584,0.059322034,\n",
    " 0.010000000,0.126126126,0.028806584,0.075268817,0.010000000,\n",
    " 0.222493880,0.028806584,0.010000000]\n",
    "\n",
    "from scipy.special import expit\n",
    "\n",
    "def sigmoid_np(x):\n",
    "    return 1.0/(1.0 + np.exp(-x))\n",
    "\n",
    "def Count_soft(preds,th=0.5,d=50.0):\n",
    "    preds = sigmoid_np(d*(preds - th))\n",
    "    return preds.mean(axis=0)\n",
    "\n",
    "def fit_test(x,y):\n",
    "    params = 0.5*np.ones(len(name_label_dict))\n",
    "    wd = 1e-5\n",
    "    error = lambda p: np.concatenate((Count_soft(x,p) - y,\n",
    "                                      wd*(p - 0.5)), axis=None)\n",
    "    p, success = opt.leastsq(error, params)\n",
    "    return p\n",
    "\n",
    "pred_t = expit(ens)\n",
    "th_t = fit_test(pred_t,lb_prob)\n",
    "th_t[th_t<0.1] = 0.1\n",
    "np.set_printoptions(precision=3, suppress=True, linewidth=100)\n",
    "print('Thresholds: ',th_t)\n",
    "print('Fractions: ',(pred_t > th_t).mean(axis=0))\n",
    "print('Fractions (th = 0.5): ',(pred_t > 0.5).mean(axis=0))\n",
    "pred = (pred_t > th_t).astype(int)"
   ]
  },
  {
   "cell_type": "code",
   "execution_count": 23,
   "metadata": {},
   "outputs": [
    {
     "name": "stdout",
     "output_type": "stream",
     "text": [
      "0 0.5691 0.3624 0.3625 Nucleoplasm\n",
      "1 0.2323 0.0438 0.0439 Nuclear membrane\n",
      "2 0.4917 0.0753 0.0753 Nucleoli\n",
      "3 0.1526 0.0593 0.0595 Nucleoli fibrillar center\n",
      "4 0.1239 0.0753 0.0753 Nuclear speckles\n",
      "5 0.2455 0.0753 0.0753 Nuclear bodies\n",
      "6 0.1847 0.0438 0.0439 Endoplasmic reticulum\n",
      "7 0.3070 0.0753 0.0753 Golgi apparatus\n",
      "8 0.1000 0.0100 0.0019 Peroxisomes\n",
      "9 0.1000 0.0100 0.0019 Endosomes\n",
      "10 0.1000 0.0100 0.0008 Lysosomes\n",
      "11 0.2159 0.0438 0.0439 Intermediate filaments\n",
      "12 0.1292 0.0438 0.0439 Actin filaments\n",
      "13 0.2747 0.0142 0.0143 Focal adhesion sites\n",
      "14 0.3528 0.0438 0.0439 Microtubules\n",
      "15 0.1000 0.0100 0.0009 Microtubule ends\n",
      "16 0.2203 0.0288 0.0289 Cytokinetic bridge\n",
      "17 0.3195 0.0142 0.0143 Mitotic spindle\n",
      "18 0.3095 0.0288 0.0289 Microtubule organizing center\n",
      "19 0.2227 0.0593 0.0594 Centrosome\n",
      "20 0.1192 0.0100 0.0101 Lipid droplets\n",
      "21 0.4521 0.1261 0.1261 Plasma membrane\n",
      "22 0.2270 0.0288 0.0289 Cell junctions\n",
      "23 0.3772 0.0753 0.0753 Mitochondria\n",
      "24 0.3070 0.0100 0.0101 Aggresome\n",
      "25 0.5090 0.2225 0.2225 Cytosol\n",
      "26 0.1238 0.0288 0.0289 Cytoplasmic bodies\n",
      "27 0.1000 0.0100 0.0001 Rods & rings\n"
     ]
    }
   ],
   "source": [
    "# custom thresholds to match lb proportions\n",
    "thresholds = np.linspace(0.9, 0.1, 100001)\n",
    "pred = ens.copy()\n",
    "for j in range(pred.shape[1]):\n",
    "    for t in thresholds:\n",
    "        pred[:,j] = (ens[:,j] > t).astype(int)\n",
    "        prop = np.mean(pred[:,j])\n",
    "        if prop >= desired[j]: break\n",
    "    print(j,'%6.4f' % t,'%6.4f' % desired[j],'%6.4f' % prop,name_label_dict[j],)"
   ]
  },
  {
   "cell_type": "code",
   "execution_count": 24,
   "metadata": {},
   "outputs": [
    {
     "name": "stdout",
     "output_type": "stream",
     "text": [
      "[[0 0 1 0 0 0 0 0 0 0 0 0 0 0 0 0 0 0 0 0 0 0 0 0 0 0 0 0]\n",
      " [0 0 0 0 0 1 0 0 0 0 0 0 0 0 0 0 0 0 0 0 0 0 0 0 0 0 0 0]\n",
      " [1 0 0 0 0 1 0 0 0 0 0 0 0 0 0 0 0 0 0 0 0 0 0 0 0 1 0 0]\n",
      " [1 0 0 0 0 0 0 0 0 0 0 0 0 0 0 0 0 0 0 0 0 0 0 0 0 0 0 0]\n",
      " [0 0 0 0 0 0 0 0 0 0 0 0 0 0 0 0 0 0 0 0 0 0 0 0 0 0 0 0]]\n"
     ]
    }
   ],
   "source": [
    "np.set_printoptions(linewidth=100)\n",
    "print(pred[:5].astype(int))"
   ]
  },
  {
   "cell_type": "code",
   "execution_count": 25,
   "metadata": {},
   "outputs": [
    {
     "name": "stdout",
     "output_type": "stream",
     "text": [
      "(11702,)\n",
      "0.0 1.595881045975047 5.0\n"
     ]
    }
   ],
   "source": [
    "xps = np.sum(pred,axis=1)\n",
    "print(xps.shape)\n",
    "print(xps.min(),xps.mean(),xps.max())"
   ]
  },
  {
   "cell_type": "code",
   "execution_count": 26,
   "metadata": {},
   "outputs": [
    {
     "name": "stdout",
     "output_type": "stream",
     "text": [
      "0.051016920184583835\n"
     ]
    }
   ],
   "source": [
    "print(sum(xps==0)/pred.shape[0])"
   ]
  },
  {
   "cell_type": "code",
   "execution_count": 27,
   "metadata": {},
   "outputs": [
    {
     "name": "stdout",
     "output_type": "stream",
     "text": [
      "0 00008af0-bad0-11e8-b2b8-ac1f6b6435d0 2\n",
      "1000 15efe29e-bad4-11e8-b2b8-ac1f6b6435d0 26\n",
      "2000 2bd51caa-bad9-11e8-b2b9-ac1f6b6435d0 24\n",
      "3000 42f7f174-bace-11e8-b2b8-ac1f6b6435d0 0\n",
      "4000 589b3070-bad0-11e8-b2b8-ac1f6b6435d0 3\n",
      "5000 6dd7e7b6-bac7-11e8-b2b7-ac1f6b6435d0 25\n",
      "6000 835f7a30-bad7-11e8-b2b9-ac1f6b6435d0 2 23\n",
      "7000 9932fa46-bac6-11e8-b2b7-ac1f6b6435d0 \n",
      "8000 aeabe93c-bacb-11e8-b2b8-ac1f6b6435d0 1\n",
      "9000 c4ad1a3a-bada-11e8-b2b9-ac1f6b6435d0 11\n",
      "10000 da851aec-bada-11e8-b2b9-ac1f6b6435d0 0 25\n",
      "11000 f071ee12-bad9-11e8-b2b9-ac1f6b6435d0 12 21\n",
      "{'ids': ['00008af0-bad0-11e8-b2b8-ac1f6b6435d0', '0000a892-bacf-11e8-b2b8-ac1f6b6435d0', '0006faa6-bac7-11e8-b2b7-ac1f6b6435d0', '0008baca-bad7-11e8-b2b9-ac1f6b6435d0', '000cce7e-bad4-11e8-b2b8-ac1f6b6435d0', '00109f6a-bac8-11e8-b2b7-ac1f6b6435d0', '001765de-bacd-11e8-b2b8-ac1f6b6435d0', '0018641a-bac9-11e8-b2b8-ac1f6b6435d0', '00200f22-bad7-11e8-b2b9-ac1f6b6435d0', '0026f154-bac6-11e8-b2b7-ac1f6b6435d0'], 'subs': ['2', '5', '0 5 25', '0', '', '4', '4 25', '0 6 25', '0', '25']}\n",
      "11702 11702\n"
     ]
    }
   ],
   "source": [
    "subs = []\n",
    "ids = []\n",
    "for i,fid in enumerate(test_df.index.values):\n",
    "    subrow = ' '.join(list([str(i) for i in np.nonzero(pred[i])[0]]))\n",
    "    subs.append(subrow)\n",
    "    ids.append(fid)\n",
    "    if i % 1000 == 0: print(i,fid,subrow)\n",
    "print({'ids':ids[:10], 'subs':subs[:10]})\n",
    "print(len(ids), len(subs))"
   ]
  },
  {
   "cell_type": "code",
   "execution_count": 28,
   "metadata": {},
   "outputs": [
    {
     "name": "stdout",
     "output_type": "stream",
     "text": [
      "sub/ens12.csv\n"
     ]
    }
   ],
   "source": [
    "subm = pd.DataFrame.from_dict({'Id':ids, 'Predicted':subs}, orient='index').T\n",
    "fname = 'sub/' + fidx + midx + '.csv'\n",
    "subm.to_csv(fname, index=False)\n",
    "print(fname)"
   ]
  },
  {
   "cell_type": "code",
   "execution_count": 29,
   "metadata": {},
   "outputs": [
    {
     "name": "stdout",
     "output_type": "stream",
     "text": [
      "0 Nucleoplasm count 4242 prop 0.3625\n",
      "1 Nuclear membrane count 514 prop 0.0439\n",
      "2 Nucleoli count 881 prop 0.0753\n",
      "3 Nucleoli fibrillar center count 696 prop 0.0595\n",
      "4 Nuclear speckles count 881 prop 0.0753\n",
      "5 Nuclear bodies count 881 prop 0.0753\n",
      "6 Endoplasmic reticulum count 514 prop 0.0439\n",
      "7 Golgi apparatus count 881 prop 0.0753\n",
      "8 Peroxisomes count 22 prop 0.0019\n",
      "9 Endosomes count 22 prop 0.0019\n",
      "10 Lysosomes count 9 prop 0.0008\n",
      "11 Intermediate filaments count 514 prop 0.0439\n",
      "12 Actin filaments count 514 prop 0.0439\n",
      "13 Focal adhesion sites count 167 prop 0.0143\n",
      "14 Microtubules count 514 prop 0.0439\n",
      "15 Microtubule ends count 11 prop 0.0009\n",
      "16 Cytokinetic bridge count 338 prop 0.0289\n",
      "17 Mitotic spindle count 167 prop 0.0143\n",
      "18 Microtubule organizing center count 338 prop 0.0289\n",
      "19 Centrosome count 695 prop 0.0594\n",
      "20 Lipid droplets count 118 prop 0.0101\n",
      "21 Plasma membrane count 1476 prop 0.1261\n",
      "22 Cell junctions count 338 prop 0.0289\n",
      "23 Mitochondria count 881 prop 0.0753\n",
      "24 Aggresome count 118 prop 0.0101\n",
      "25 Cytosol count 2604 prop 0.2225\n",
      "26 Cytoplasmic bodies count 338 prop 0.0289\n",
      "27 Rods & rings count 1 prop 0.0001\n"
     ]
    }
   ],
   "source": [
    "from itertools import chain\n",
    "from collections import Counter\n",
    "max_idx = 27\n",
    "subm['target_list'] = subm['Predicted'].map(lambda x: \\\n",
    "            [int(a) if a != '' else -1 for a in str(x).split(' ')])\n",
    "subm['target_vec'] = subm['target_list'].map(lambda ck: \\\n",
    "            [i in ck for i in range(max_idx+1)])\n",
    "all_labels = list(chain.from_iterable(subm['target_list'].values))\n",
    "c_val = Counter(all_labels)\n",
    "n_keys = c_val.keys()\n",
    "max_idx = max(n_keys)\n",
    "for k,v in name_label_dict.items():\n",
    "    print(k,v, 'count', c_val[k] if k in c_val else 0,\n",
    "             'prop', '%6.4f' % (c_val[k]/len(ids) if k in c_val else 0))"
   ]
  },
  {
   "cell_type": "code",
   "execution_count": 30,
   "metadata": {},
   "outputs": [
    {
     "data": {
      "image/png": "[encoded data removed]",
      "text/plain": [
       "<Figure size 432x288 with 1 Axes>"
      ]
     },
     "metadata": {},
     "output_type": "display_data"
    }
   ],
   "source": [
    "train_sum_vec = np.sum(np.stack(subm['target_vec'].values, 0), 0)\n",
    "_ = plt.bar(n_keys, [train_sum_vec[k] for k in n_keys])"
   ]
  },
  {
   "cell_type": "code",
   "execution_count": 31,
   "metadata": {},
   "outputs": [],
   "source": [
    "from sklearn.metrics import f1_score\n",
    "\n",
    "# compute f1 score between two submission files\n",
    "def f1_sub(csv0, csv1, num_classes=28):\n",
    "    c0 = pd.read_csv(csv0)\n",
    "    c1 = pd.read_csv(csv1)\n",
    "    assert c0.shape == c1.shape\n",
    "    s0 = [s if isinstance(s,str) else '' for s in c0.Predicted]\n",
    "    s1 = [s if isinstance(s,str) else '' for s in c1.Predicted]\n",
    "    p0 = [s.split() for s in s0]\n",
    "    p1 = [s.split() for s in s1]\n",
    "    y0 = np.zeros((c0.shape[0],num_classes)).astype(int)\n",
    "    y1 = np.zeros((c0.shape[0],num_classes)).astype(int)\n",
    "    # print(p0[:5])\n",
    "    for i in range(c0.shape[0]):\n",
    "        for j in p0[i]: y0[i,int(j)] = 1\n",
    "        for j in p1[i]: y1[i,int(j)] = 1\n",
    "    # print(y0[:5])\n",
    "            \n",
    "    return f1_score(y0, y1, average='macro')"
   ]
  },
  {
   "cell_type": "code",
   "execution_count": 32,
   "metadata": {},
   "outputs": [
    {
     "data": {
      "text/plain": [
       "0.6598666931743741"
      ]
     },
     "execution_count": 32,
     "metadata": {},
     "output_type": "execute_result"
    }
   ],
   "source": [
    "f1_sub(fname,'sub/protein_classification.csv')"
   ]
  },
  {
   "cell_type": "code",
   "execution_count": 33,
   "metadata": {},
   "outputs": [
    {
     "data": {
      "text/plain": [
       "0.6229649131672799"
      ]
     },
     "execution_count": 33,
     "metadata": {},
     "output_type": "execute_result"
    }
   ],
   "source": [
    "f1_sub(fname,'sub/submit_InceptionV3.csv')"
   ]
  },
  {
   "cell_type": "code",
   "execution_count": 34,
   "metadata": {},
   "outputs": [
    {
     "data": {
      "text/plain": [
       "0.5991112413829541"
      ]
     },
     "execution_count": 34,
     "metadata": {},
     "output_type": "execute_result"
    }
   ],
   "source": [
    "f1_sub(fname,'sub/submit_InceptionResNetV2_3.csv')"
   ]
  },
  {
   "cell_type": "code",
   "execution_count": 35,
   "metadata": {},
   "outputs": [
    {
     "data": {
      "text/plain": [
       "0.6993387117531541"
      ]
     },
     "execution_count": 35,
     "metadata": {},
     "output_type": "execute_result"
    }
   ],
   "source": [
    "f1_sub(fname,'sub/blend_InceptionV3_InceptionResNetV2_DenseNet201_2.csv')"
   ]
  },
  {
   "cell_type": "code",
   "execution_count": 36,
   "metadata": {},
   "outputs": [
    {
     "data": {
      "text/plain": [
       "0.641545890476597"
      ]
     },
     "execution_count": 36,
     "metadata": {},
     "output_type": "execute_result"
    }
   ],
   "source": [
    "f1_sub(fname,'sub/iv3_0.csv')"
   ]
  },
  {
   "cell_type": "code",
   "execution_count": 37,
   "metadata": {},
   "outputs": [
    {
     "data": {
      "text/plain": [
       "0.6597500414493661"
      ]
     },
     "execution_count": 37,
     "metadata": {},
     "output_type": "execute_result"
    }
   ],
   "source": [
    "f1_sub(fname,'sub/irv2_0.csv')"
   ]
  },
  {
   "cell_type": "code",
   "execution_count": 38,
   "metadata": {},
   "outputs": [
    {
     "data": {
      "text/plain": [
       "0.6868470680105965"
      ]
     },
     "execution_count": 38,
     "metadata": {},
     "output_type": "execute_result"
    }
   ],
   "source": [
    "f1_sub(fname,'sub/resnet34_0.csv')"
   ]
  },
  {
   "cell_type": "code",
   "execution_count": 39,
   "metadata": {},
   "outputs": [
    {
     "data": {
      "text/plain": [
       "0.682455588371268"
      ]
     },
     "execution_count": 39,
     "metadata": {},
     "output_type": "execute_result"
    }
   ],
   "source": [
    "f1_sub(fname,'sub/resnet50_0.csv')"
   ]
  },
  {
   "cell_type": "code",
   "execution_count": 40,
   "metadata": {},
   "outputs": [
    {
     "data": {
      "text/plain": [
       "0.7133553923461321"
      ]
     },
     "execution_count": 40,
     "metadata": {},
     "output_type": "execute_result"
    }
   ],
   "source": [
    "f1_sub(fname,'sub/resnet4.csv')"
   ]
  },
  {
   "cell_type": "code",
   "execution_count": 41,
   "metadata": {},
   "outputs": [
    {
     "data": {
      "text/plain": [
       "0.6500405467701886"
      ]
     },
     "execution_count": 41,
     "metadata": {},
     "output_type": "execute_result"
    }
   ],
   "source": [
    "f1_sub(fname,'sub/resnet5.csv')"
   ]
  },
  {
   "cell_type": "code",
   "execution_count": 42,
   "metadata": {},
   "outputs": [
    {
     "data": {
      "text/plain": [
       "0.7247362241078521"
      ]
     },
     "execution_count": 42,
     "metadata": {},
     "output_type": "execute_result"
    }
   ],
   "source": [
    "f1_sub(fname,'sub/resnet6.csv')"
   ]
  },
  {
   "cell_type": "code",
   "execution_count": 43,
   "metadata": {},
   "outputs": [
    {
     "data": {
      "text/plain": [
       "0.6796773935258269"
      ]
     },
     "execution_count": 43,
     "metadata": {},
     "output_type": "execute_result"
    }
   ],
   "source": [
    "f1_sub(fname,'sub/resnet7.csv')"
   ]
  },
  {
   "cell_type": "code",
   "execution_count": 44,
   "metadata": {},
   "outputs": [
    {
     "data": {
      "text/plain": [
       "0.7163198417517105"
      ]
     },
     "execution_count": 44,
     "metadata": {},
     "output_type": "execute_result"
    }
   ],
   "source": [
    "f1_sub(fname,'sub/se_resnet1.csv')"
   ]
  },
  {
   "cell_type": "code",
   "execution_count": 45,
   "metadata": {},
   "outputs": [
    {
     "data": {
      "text/plain": [
       "0.7195327129227779"
      ]
     },
     "execution_count": 45,
     "metadata": {},
     "output_type": "execute_result"
    }
   ],
   "source": [
    "f1_sub(fname,'sub/se_resnet2.csv')"
   ]
  },
  {
   "cell_type": "code",
   "execution_count": 46,
   "metadata": {},
   "outputs": [
    {
     "data": {
      "text/plain": [
       "0.6518124455585401"
      ]
     },
     "execution_count": 46,
     "metadata": {},
     "output_type": "execute_result"
    }
   ],
   "source": [
    "f1_sub(fname,'sub/se_resnext6.csv')"
   ]
  },
  {
   "cell_type": "code",
   "execution_count": 47,
   "metadata": {},
   "outputs": [
    {
     "data": {
      "text/plain": [
       "0.6948999001081603"
      ]
     },
     "execution_count": 47,
     "metadata": {},
     "output_type": "execute_result"
    }
   ],
   "source": [
    "f1_sub(fname,'sub/se_resnext9.csv')"
   ]
  },
  {
   "cell_type": "code",
   "execution_count": 48,
   "metadata": {},
   "outputs": [
    {
     "data": {
      "text/plain": [
       "0.706052769706676"
      ]
     },
     "execution_count": 48,
     "metadata": {},
     "output_type": "execute_result"
    }
   ],
   "source": [
    "f1_sub(fname,'sub/ens0.csv')"
   ]
  },
  {
   "cell_type": "code",
   "execution_count": 49,
   "metadata": {},
   "outputs": [
    {
     "data": {
      "text/plain": [
       "0.7132028276446096"
      ]
     },
     "execution_count": 49,
     "metadata": {},
     "output_type": "execute_result"
    }
   ],
   "source": [
    "f1_sub(fname,'sub/ens1.csv')"
   ]
  },
  {
   "cell_type": "code",
   "execution_count": 50,
   "metadata": {},
   "outputs": [
    {
     "data": {
      "text/plain": [
       "0.7064446317199259"
      ]
     },
     "execution_count": 50,
     "metadata": {},
     "output_type": "execute_result"
    }
   ],
   "source": [
    "f1_sub(fname,'sub/ens2.csv')"
   ]
  },
  {
   "cell_type": "code",
   "execution_count": 51,
   "metadata": {},
   "outputs": [
    {
     "data": {
      "text/plain": [
       "0.7650177794506254"
      ]
     },
     "execution_count": 51,
     "metadata": {},
     "output_type": "execute_result"
    }
   ],
   "source": [
    "f1_sub(fname,'sub/ens6.csv')"
   ]
  },
  {
   "cell_type": "code",
   "execution_count": 52,
   "metadata": {},
   "outputs": [
    {
     "data": {
      "text/plain": [
       "0.7321793512403241"
      ]
     },
     "execution_count": 52,
     "metadata": {},
     "output_type": "execute_result"
    }
   ],
   "source": [
    "f1_sub(fname,'sub/ens7.csv')"
   ]
  },
  {
   "cell_type": "code",
   "execution_count": 53,
   "metadata": {},
   "outputs": [
    {
     "data": {
      "text/plain": [
       "0.8707024144377097"
      ]
     },
     "execution_count": 53,
     "metadata": {},
     "output_type": "execute_result"
    }
   ],
   "source": [
    "f1_sub(fname,'sub/ens8.csv')"
   ]
  },
  {
   "cell_type": "code",
   "execution_count": 54,
   "metadata": {},
   "outputs": [
    {
     "data": {
      "text/plain": [
       "0.828632533710829"
      ]
     },
     "execution_count": 54,
     "metadata": {},
     "output_type": "execute_result"
    }
   ],
   "source": [
    "f1_sub(fname,'sub/ens9.csv')"
   ]
  },
  {
   "cell_type": "code",
   "execution_count": 55,
   "metadata": {},
   "outputs": [
    {
     "data": {
      "text/plain": [
       "0.9418377926542165"
      ]
     },
     "execution_count": 55,
     "metadata": {},
     "output_type": "execute_result"
    }
   ],
   "source": [
    "f1_sub(fname,'sub/ens10.csv')"
   ]
  },
  {
   "cell_type": "code",
   "execution_count": 56,
   "metadata": {},
   "outputs": [
    {
     "data": {
      "text/plain": [
       "0.9666223945300703"
      ]
     },
     "execution_count": 56,
     "metadata": {},
     "output_type": "execute_result"
    }
   ],
   "source": [
    "f1_sub(fname,'sub/ens11.csv')"
   ]
  },
  {
   "cell_type": "code",
   "execution_count": 57,
   "metadata": {},
   "outputs": [
    {
     "name": "stdout",
     "output_type": "stream",
     "text": [
      "sub/ens12.csv\n"
     ]
    }
   ],
   "source": [
    "print(fname)"
   ]
  },
  {
   "cell_type": "code",
   "execution_count": null,
   "metadata": {},
   "outputs": [],
   "source": []
  }
 ],
 "metadata": {
  "kernelspec": {
   "display_name": "Python 3",
   "language": "python",
   "name": "python3"
  },
  "language_info": {
   "codemirror_mode": {
    "name": "ipython",
    "version": 3
   },
   "file_extension": ".py",
   "mimetype": "text/x-python",
   "name": "python",
   "nbconvert_exporter": "python",
   "pygments_lexer": "ipython3",
   "version": "3.6.5"
  }
 },
 "nbformat": 4,
 "nbformat_minor": 2
}
