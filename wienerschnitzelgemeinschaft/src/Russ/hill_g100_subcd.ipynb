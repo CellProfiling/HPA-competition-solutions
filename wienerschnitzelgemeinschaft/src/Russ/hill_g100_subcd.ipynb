{
 "cells": [
  {
   "cell_type": "code",
   "execution_count": 1,
   "metadata": {},
   "outputs": [],
   "source": [
    "prefix = 'hill_'\n",
    "midx = 'g100c'"
   ]
  },
  {
   "cell_type": "code",
   "execution_count": 2,
   "metadata": {},
   "outputs": [],
   "source": [
    "import pandas as pd\n",
    "import numpy as np\n",
    "from sklearn.metrics import f1_score, confusion_matrix"
   ]
  },
  {
   "cell_type": "code",
   "execution_count": 3,
   "metadata": {},
   "outputs": [
    {
     "name": "stdout",
     "output_type": "stream",
     "text": [
      "   index                                    Id Target  Questionable\n",
      "0      0  94205e64-baca-11e8-b2b8-ac1f6b6435d0     16             0\n",
      "1      1  53f49b94-bad3-11e8-b2b8-ac1f6b6435d0   9 10             0\n",
      "2      3  47c3e666-bac6-11e8-b2b7-ac1f6b6435d0  14 25             0\n",
      "3      4  05d45be8-bace-11e8-b2b8-ac1f6b6435d0   2 25             0\n",
      "4      6  e5382de2-bad2-11e8-b2b8-ac1f6b6435d0   0 25             0\n",
      "(272, 4)\n",
      "                                     Predicted\n",
      "Id                                            \n",
      "00008af0-bad0-11e8-b2b8-ac1f6b6435d0         2\n",
      "0000a892-bacf-11e8-b2b8-ac1f6b6435d0         5\n",
      "0006faa6-bac7-11e8-b2b7-ac1f6b6435d0    0 5 25\n",
      "0008baca-bad7-11e8-b2b9-ac1f6b6435d0         0\n",
      "000cce7e-bad4-11e8-b2b8-ac1f6b6435d0          \n",
      "(11702, 1)\n"
     ]
    }
   ],
   "source": [
    "new = pd.read_csv('leak2d.csv')\n",
    "new = new[new.Questionable != 1]\n",
    "new.reset_index(inplace=True)\n",
    "print(new.head())\n",
    "print(new.shape)\n",
    "\n",
    "ens = pd.read_csv('sub/'+prefix+midx+'.csv').fillna('')\n",
    "ens = ens.set_index('Id')\n",
    "print(ens.head())\n",
    "print(ens.shape)"
   ]
  },
  {
   "cell_type": "code",
   "execution_count": 4,
   "metadata": {},
   "outputs": [],
   "source": [
    "# # create onehot matrix for a submission file\n",
    "# def onehot_sub(csv0, num_classes=28):\n",
    "#     c0 = pd.read_csv(csv0)\n",
    "#     s0 = [s if isinstance(s,str) else '' for s in c0.Predicted]\n",
    "#     p0 = [s.split() for s in s0]\n",
    "#     y0 = np.zeros((c0.shape[0],num_classes)).astype(int)\n",
    "#     # print(p0[:5])\n",
    "#     for i in range(c0.shape[0]):\n",
    "#         for j in p0[i]: y0[i,int(j)] = 1\n",
    "#     # print(y0[:5])\n",
    "    \n",
    "#     y = pd.DataFrame(y0)\n",
    "#     y.columns = ['y_'+str(i) for i in range(num_classes)]\n",
    "    \n",
    "#     c0 = pd.concat((c0,y),axis=1)\n",
    "    \n",
    "#     fname = csv0[:-4] + '_onehot.csv'\n",
    "#     c0.to_csv(fname)      \n",
    "#     print(fname)\n",
    "    \n",
    "# new['Predicted'] = new['Target'].values\n",
    "# fname = 'sub/leak2dd.csv'\n",
    "# new.to_csv(fname)\n",
    "# onehot_sub(fname)"
   ]
  },
  {
   "cell_type": "code",
   "execution_count": 5,
   "metadata": {},
   "outputs": [
    {
     "name": "stdout",
     "output_type": "stream",
     "text": [
      "0 16  =>  16\n",
      "0 3 25  =>  2 25\n",
      "0 21 25  =>  0 25\n",
      "0  =>  0 19 21\n",
      "0 25  =>  21 25\n",
      "0 12 25  =>  12\n",
      "12 21  =>  12 21 25\n",
      "4 21 25  =>  7 21\n",
      "0 21  =>  0 21 25\n",
      "12 21  =>  12\n",
      "4  =>  4 23\n",
      "0 21 25  =>  21\n",
      "0 25  =>  0 17 25\n",
      "23 25  =>  2 23\n",
      "0 21 25  =>  0 21 23\n",
      "0 14 25  =>  0 14\n",
      "14 16  =>  14\n",
      "0 16  =>  0\n",
      "0 12 21  =>  21\n",
      "16 25  =>  14 16 25\n",
      "0 2  =>  1 2\n",
      "21  =>  13 21\n",
      "0 21 25  =>  0 25\n",
      "16 25  =>  14 16 25\n",
      "7 21 25  =>  0 21 22\n",
      "6 25  =>  2 6 14 25\n",
      "0 13  =>  13\n",
      "0 5 13 25  =>  13\n",
      "7 25  =>  21 25\n",
      "0 22 25  =>  2 22\n",
      "4  =>  4 21\n",
      "4  =>  4 21\n",
      "2 7  =>  2\n",
      "0 2 11  =>  2 11\n",
      "14  =>  14 16\n",
      "0 18 19  =>  0 19\n",
      "0 18 19  =>  0 19\n",
      "0 18  =>  0 19\n",
      "12 25  =>  12 21 25\n",
      "14 16  =>  0 14\n",
      "1  =>  1 5\n",
      "0 12 21  =>  21\n",
      "0 16  =>  0\n",
      "0 14  =>  14 25\n",
      "0 14  =>  14\n",
      "0 14 16  =>  14\n",
      "16 21 22 25  =>  25\n",
      "5 16  =>  16\n",
      "0 5  =>  0 5 25\n",
      "14 16 25  =>  25\n",
      "7 23  =>  7 25\n",
      "21 25  =>  25\n",
      "2 25  =>  2\n",
      "2 25  =>  2\n",
      "13 21  =>  7 21\n",
      "0  =>  0 1 7\n",
      "16  =>  16 25\n",
      "0 25  =>  0\n",
      "5 25  =>  5 6 25\n",
      "5 25  =>  0 5 7\n",
      "21 22  =>  12 21 22\n",
      "12  =>  2 12\n",
      "4  =>  4 21\n",
      "0 2  =>  0\n",
      "0 12  =>  12\n",
      "4 17 18  =>  17 18\n",
      "0 16  =>  0\n",
      "0 13  =>  13\n",
      "0 13  =>  13\n",
      "17 25  =>  14 17 25\n",
      "5 25  =>  25\n",
      "0 2  =>  2\n",
      "21 22  =>  0 21 22\n",
      "21 22  =>  0 21 22\n",
      "13 21 25  =>  13 25\n",
      "4 21 25  =>  0 21 25\n",
      "0 16  =>  16\n",
      "0  =>  0 22\n",
      "0 12  =>  0 22\n",
      "21 25  =>  25\n",
      "0 16  =>  0\n",
      "0 25  =>  0 19\n",
      "  =>  4\n",
      "  =>  4\n",
      "0 26  =>  0 25\n",
      "0 7 25  =>  0 25\n",
      "0 12 25  =>  0 21\n",
      "5 6 25  =>  25\n",
      "21 25  =>  25\n",
      "0 4  =>  0\n",
      "14  =>  14 16\n",
      "0 25  =>  25\n",
      "0 7 25  =>  6 7 25\n",
      "0 25  =>  0\n",
      "0 1  =>  1\n",
      "7  =>  7 22\n",
      "2 23  =>  21 23\n",
      "0 22  =>  22\n",
      "0 1  =>  1 2\n",
      "0 2  =>  2\n",
      "19 25  =>  11 19\n",
      "0 14 16 25  =>  0 16 25\n",
      "2 3  =>  2\n",
      "2 3  =>  2\n",
      "0 16  =>  16\n",
      "2  =>  0 25\n",
      "0 16  =>  16\n",
      "14  =>  14 16\n",
      "5  =>  5 23\n",
      "7 11 25  =>  11 25\n",
      "4 25  =>  0 7 22\n",
      "0 4 25  =>  0 7 22\n",
      "0 25  =>  25\n",
      "16 25  =>  25\n",
      "18  =>  18 25\n",
      "0 5  =>  0 21 25\n",
      "  =>  3 22\n",
      "0 14  =>  14\n",
      "19 25  =>  18 25\n",
      "0 12  =>  0 12 25\n",
      "4  =>  4 7\n",
      "0 25  =>  0 21 25\n",
      "0 2  =>  2 21\n",
      "0 5  =>  0\n",
      "1  =>  1 25\n",
      "0 25  =>  25\n",
      "0 16  =>  16\n",
      "0 25  =>  0\n",
      "4  =>  4 25\n",
      "0 19  =>  0 19 25\n",
      "0 7  =>  7\n",
      "14 19  =>  14 16 19\n",
      "0 3 5  =>  5\n",
      "12 25  =>  12 13 25\n",
      "4  =>  2\n",
      "0 16  =>  0\n",
      "3  =>  2\n",
      "0 12  =>  0 21 25\n",
      "23  =>  22 23\n",
      "25  =>  3 12 25\n",
      "changed 140  unchanged 132\n",
      "\n",
      "sub/hill_g100cd.csv\n"
     ]
    }
   ],
   "source": [
    "changed = 0\n",
    "unchanged = 0\n",
    "for i, item in enumerate(new['Id']):\n",
    "#     print(test_preds.loc[i]['Target'])\n",
    "    if ens.loc[item]['Predicted'] != new.loc[i]['Target']:\n",
    "        print(ens.loc[item]['Predicted'],' => ', new.loc[i]['Target'])\n",
    "        changed += 1\n",
    "        ens.loc[item]['Predicted'] = new.loc[i]['Target']\n",
    "    else:\n",
    "        unchanged += 1\n",
    "\n",
    "print('changed',changed,' unchanged',unchanged)\n",
    "\n",
    "print()\n",
    "fname = 'sub/'+prefix+midx+'d.csv'\n",
    "ens.to_csv(fname)\n",
    "print(fname)"
   ]
  },
  {
   "cell_type": "code",
   "execution_count": 6,
   "metadata": {},
   "outputs": [],
   "source": [
    "name_label_dict = {\n",
    "    0:  \"Nucleoplasm\",  \n",
    "    1:  \"Nuclear membrane\",   \n",
    "    2:  \"Nucleoli\",   \n",
    "    3:  \"Nucleoli fibrillar center\",   \n",
    "    4:  \"Nuclear speckles\",\n",
    "    5:  \"Nuclear bodies\",   \n",
    "    6:  \"Endoplasmic reticulum\",   \n",
    "    7:  \"Golgi apparatus\",   \n",
    "    8:  \"Peroxisomes\",   \n",
    "    9:  \"Endosomes\",   \n",
    "    10:  \"Lysosomes\",   \n",
    "    11:  \"Intermediate filaments\",   \n",
    "    12:  \"Actin filaments\",   \n",
    "    13:  \"Focal adhesion sites\",   \n",
    "    14:  \"Microtubules\",   \n",
    "    15:  \"Microtubule ends\",   \n",
    "    16:  \"Cytokinetic bridge\",   \n",
    "    17:  \"Mitotic spindle\",   \n",
    "    18:  \"Microtubule organizing center\",   \n",
    "    19:  \"Centrosome\",   \n",
    "    20:  \"Lipid droplets\",   \n",
    "    21:  \"Plasma membrane\",   \n",
    "    22:  \"Cell junctions\",   \n",
    "    23:  \"Mitochondria\",   \n",
    "    24:  \"Aggresome\",   \n",
    "    25:  \"Cytosol\",   \n",
    "    26:  \"Cytoplasmic bodies\",   \n",
    "    27:  \"Rods & rings\"\n",
    "}\n",
    "LABEL_MAP = name_label_dict\n",
    "np.set_printoptions(precision=3, suppress=True, linewidth=100)"
   ]
  },
  {
   "cell_type": "code",
   "execution_count": 7,
   "metadata": {},
   "outputs": [],
   "source": [
    "# compute f1 score between two submission files\n",
    "def f1_sub(csv0, csv1, num_classes=28):\n",
    "    c0 = pd.read_csv(csv0)\n",
    "    c1 = pd.read_csv(csv1)\n",
    "    assert c0.shape == c1.shape\n",
    "    s0 = [s if isinstance(s,str) else '' for s in c0.Predicted]\n",
    "    s1 = [s if isinstance(s,str) else '' for s in c1.Predicted]\n",
    "    p0 = [s.split() for s in s0]\n",
    "    p1 = [s.split() for s in s1]\n",
    "    y0 = np.zeros((c0.shape[0],num_classes)).astype(int)\n",
    "    y1 = np.zeros((c0.shape[0],num_classes)).astype(int)\n",
    "    # print(p0[:5])\n",
    "    for i in range(c0.shape[0]):\n",
    "        for j in p0[i]: y0[i,int(j)] = 1\n",
    "        for j in p1[i]: y1[i,int(j)] = 1\n",
    "    # print(y0[:5])\n",
    "            \n",
    "    return f1_score(y0, y1, average='macro')\n",
    "\n",
    "\n",
    "# computute confusion matrices between two submission files\n",
    "def f1_confusion(csv0, csv1, num_classes=28):\n",
    "    c0 = pd.read_csv(csv0)\n",
    "    c1 = pd.read_csv(csv1)\n",
    "    assert c0.shape == c1.shape\n",
    "    s0 = [s if isinstance(s,str) else '' for s in c0.Predicted]\n",
    "    s1 = [s if isinstance(s,str) else '' for s in c1.Predicted]\n",
    "    p0 = [s.split() for s in s0]\n",
    "    p1 = [s.split() for s in s1]\n",
    "    y0 = np.zeros((c0.shape[0],num_classes)).astype(int)\n",
    "    y1 = np.zeros((c0.shape[0],num_classes)).astype(int)\n",
    "    # print(p0[:5])\n",
    "    for i in range(c0.shape[0]):\n",
    "        for j in p0[i]: y0[i,int(j)] = 1\n",
    "        for j in p1[i]: y1[i,int(j)] = 1\n",
    "    # print(y0[:5])\n",
    "    \n",
    "    y0avg = np.average(y0,axis=0)\n",
    "    y1avg = np.average(y1,axis=0)\n",
    "    cm = [confusion_matrix(y0[:,i], y1[:,i]) for i in range(y0.shape[1])]\n",
    "    fm = [f1_score(y0[:,i], y1[:,i]) for i in range(y0.shape[1])]\n",
    "    fmas = np.argsort(np.array(fm))\n",
    "    for j in range(y0.shape[1]):\n",
    "        i = fmas[j]\n",
    "        print(i,LABEL_MAP[i])\n",
    "        print(cm[i],' %4.2f' % fm[i],' %6.4f' % y0avg[i],' %6.4f' % y1avg[i],\n",
    "             ' %6.4f' % (y0avg[i] - y1avg[i]))\n",
    "        print()\n",
    "#     print('y0avg')\n",
    "#     print(y0avg)\n",
    "#     print('y1avg')\n",
    "#     print(y1avg)\n",
    "#     print('y0avg - y1avg')\n",
    "#     print(y0avg-y1avg)\n",
    "    print('f1 macro')\n",
    "    print(np.mean(fm))       \n",
    "    return f1_score(y0, y1, average='macro')\n",
    " "
   ]
  },
  {
   "cell_type": "code",
   "execution_count": 8,
   "metadata": {},
   "outputs": [
    {
     "data": {
      "text/plain": [
       "0.9956549789560131"
      ]
     },
     "execution_count": 8,
     "metadata": {},
     "output_type": "execute_result"
    }
   ],
   "source": [
    "f1_sub(fname,'sub/'+prefix+midx+'.csv')"
   ]
  },
  {
   "cell_type": "code",
   "execution_count": 9,
   "metadata": {},
   "outputs": [
    {
     "data": {
      "text/plain": [
       "0.8318715743537284"
      ]
     },
     "execution_count": 9,
     "metadata": {},
     "output_type": "execute_result"
    }
   ],
   "source": [
    "f1_sub(fname,'sub/ens71d.csv')"
   ]
  },
  {
   "cell_type": "code",
   "execution_count": 10,
   "metadata": {},
   "outputs": [
    {
     "data": {
      "text/plain": [
       "0.8333437284558389"
      ]
     },
     "execution_count": 10,
     "metadata": {},
     "output_type": "execute_result"
    }
   ],
   "source": [
    "f1_sub(fname,'sub/ens76d.csv')"
   ]
  },
  {
   "cell_type": "code",
   "execution_count": 11,
   "metadata": {},
   "outputs": [
    {
     "data": {
      "text/plain": [
       "0.846186787652462"
      ]
     },
     "execution_count": 11,
     "metadata": {},
     "output_type": "execute_result"
    }
   ],
   "source": [
    "f1_sub(fname,'sub/ens85d.csv')"
   ]
  },
  {
   "cell_type": "code",
   "execution_count": 12,
   "metadata": {},
   "outputs": [
    {
     "data": {
      "text/plain": [
       "0.8580625289806111"
      ]
     },
     "execution_count": 12,
     "metadata": {},
     "output_type": "execute_result"
    }
   ],
   "source": [
    "f1_sub(fname,'sub/ens85bd.csv')"
   ]
  },
  {
   "cell_type": "code",
   "execution_count": 13,
   "metadata": {},
   "outputs": [
    {
     "data": {
      "text/plain": [
       "0.8472171614724608"
      ]
     },
     "execution_count": 13,
     "metadata": {},
     "output_type": "execute_result"
    }
   ],
   "source": [
    "f1_sub(fname,'sub/ens86bd.csv')"
   ]
  },
  {
   "cell_type": "code",
   "execution_count": 14,
   "metadata": {},
   "outputs": [
    {
     "data": {
      "text/plain": [
       "0.8482080978295125"
      ]
     },
     "execution_count": 14,
     "metadata": {},
     "output_type": "execute_result"
    }
   ],
   "source": [
    "f1_sub(fname,'sub/ens92b.csv')"
   ]
  },
  {
   "cell_type": "code",
   "execution_count": 15,
   "metadata": {},
   "outputs": [
    {
     "data": {
      "text/plain": [
       "0.8355776178402825"
      ]
     },
     "execution_count": 15,
     "metadata": {},
     "output_type": "execute_result"
    }
   ],
   "source": [
    "f1_sub(fname,'sub/hill_b92d.csv')"
   ]
  },
  {
   "cell_type": "code",
   "execution_count": 16,
   "metadata": {},
   "outputs": [
    {
     "data": {
      "text/plain": [
       "0.8536484368692695"
      ]
     },
     "execution_count": 16,
     "metadata": {},
     "output_type": "execute_result"
    }
   ],
   "source": [
    "f1_sub(fname,'sub/hill_m92d.csv')"
   ]
  },
  {
   "cell_type": "code",
   "execution_count": 17,
   "metadata": {},
   "outputs": [
    {
     "data": {
      "text/plain": [
       "0.8463219125250482"
      ]
     },
     "execution_count": 17,
     "metadata": {},
     "output_type": "execute_result"
    }
   ],
   "source": [
    "f1_sub(fname,'sub/hill_m94d.csv')"
   ]
  },
  {
   "cell_type": "code",
   "execution_count": 18,
   "metadata": {},
   "outputs": [
    {
     "data": {
      "text/plain": [
       "0.8822742093057719"
      ]
     },
     "execution_count": 18,
     "metadata": {},
     "output_type": "execute_result"
    }
   ],
   "source": [
    "f1_sub(fname,'sub/hill_m94cd.csv')"
   ]
  },
  {
   "cell_type": "code",
   "execution_count": 19,
   "metadata": {},
   "outputs": [
    {
     "data": {
      "text/plain": [
       "0.9545935684625698"
      ]
     },
     "execution_count": 19,
     "metadata": {},
     "output_type": "execute_result"
    }
   ],
   "source": [
    "f1_sub(fname,'sub/hill_m95cd.csv')"
   ]
  },
  {
   "cell_type": "code",
   "execution_count": 20,
   "metadata": {},
   "outputs": [
    {
     "data": {
      "text/plain": [
       "0.939478194452183"
      ]
     },
     "execution_count": 20,
     "metadata": {},
     "output_type": "execute_result"
    }
   ],
   "source": [
    "f1_sub(fname,'sub/hill_m97cd.csv')"
   ]
  },
  {
   "cell_type": "code",
   "execution_count": 21,
   "metadata": {},
   "outputs": [
    {
     "data": {
      "text/plain": [
       "0.9242231504070285"
      ]
     },
     "execution_count": 21,
     "metadata": {},
     "output_type": "execute_result"
    }
   ],
   "source": [
    "f1_sub(fname,'sub/hill_m99cd.csv')"
   ]
  },
  {
   "cell_type": "code",
   "execution_count": 53,
   "metadata": {},
   "outputs": [
    {
     "data": {
      "text/plain": [
       "0.9368196767385347"
      ]
     },
     "execution_count": 53,
     "metadata": {},
     "output_type": "execute_result"
    }
   ],
   "source": [
    "f1_sub(fname,'sub/hill_m100cd.csv')"
   ]
  },
  {
   "cell_type": "code",
   "execution_count": 22,
   "metadata": {},
   "outputs": [
    {
     "data": {
      "text/plain": [
       "0.8481533315515536"
      ]
     },
     "execution_count": 22,
     "metadata": {},
     "output_type": "execute_result"
    }
   ],
   "source": [
    "f1_sub(fname,'sub/hill_u94d.csv')"
   ]
  },
  {
   "cell_type": "code",
   "execution_count": 23,
   "metadata": {},
   "outputs": [
    {
     "data": {
      "text/plain": [
       "0.8792036688359814"
      ]
     },
     "execution_count": 23,
     "metadata": {},
     "output_type": "execute_result"
    }
   ],
   "source": [
    "f1_sub(fname,'sub/hill_u94cd.csv')"
   ]
  },
  {
   "cell_type": "code",
   "execution_count": 24,
   "metadata": {},
   "outputs": [
    {
     "data": {
      "text/plain": [
       "0.8808570352175737"
      ]
     },
     "execution_count": 24,
     "metadata": {},
     "output_type": "execute_result"
    }
   ],
   "source": [
    "f1_sub(fname,'sub/hill_u97cd.csv')"
   ]
  },
  {
   "cell_type": "code",
   "execution_count": 25,
   "metadata": {},
   "outputs": [
    {
     "data": {
      "text/plain": [
       "0.8533037080051713"
      ]
     },
     "execution_count": 25,
     "metadata": {},
     "output_type": "execute_result"
    }
   ],
   "source": [
    "f1_sub(fname,'sub/enst22_1shai562_1russ609_1dieter580_1shai592_2.4.csv')"
   ]
  },
  {
   "cell_type": "code",
   "execution_count": 26,
   "metadata": {},
   "outputs": [
    {
     "data": {
      "text/plain": [
       "0.852322522532617"
      ]
     },
     "execution_count": 26,
     "metadata": {},
     "output_type": "execute_result"
    }
   ],
   "source": [
    "f1_sub(fname,'sub/enst26_1shai562_1russ609_1dieter580_1shai592_1dmytro592_kevin602_3.6.csv')"
   ]
  },
  {
   "cell_type": "code",
   "execution_count": 27,
   "metadata": {},
   "outputs": [
    {
     "data": {
      "text/plain": [
       "0.8966232286057121"
      ]
     },
     "execution_count": 27,
     "metadata": {},
     "output_type": "execute_result"
    }
   ],
   "source": [
    "f1_sub(fname,'sub/enstw36_1shai562_3russ616_3dieter580_2shai593_3dmytro617_2kevin602_1l2615_7.15_clswt.csv')"
   ]
  },
  {
   "cell_type": "code",
   "execution_count": 28,
   "metadata": {},
   "outputs": [
    {
     "data": {
      "text/plain": [
       "0.8966232286057121"
      ]
     },
     "execution_count": 28,
     "metadata": {},
     "output_type": "execute_result"
    }
   ],
   "source": [
    "f1_sub(fname,'sub/b642.csv')"
   ]
  },
  {
   "cell_type": "code",
   "execution_count": 29,
   "metadata": {},
   "outputs": [
    {
     "data": {
      "text/plain": [
       "0.8875041242341011"
      ]
     },
     "execution_count": 29,
     "metadata": {},
     "output_type": "execute_result"
    }
   ],
   "source": [
    "f1_sub(fname,'sub/enstw39b_flat_1sh562_3ru616_2die580_2sh593_3dm627_2ke602_1l2.615updt_2die602_8.16_clswt.csv')"
   ]
  },
  {
   "cell_type": "code",
   "execution_count": 30,
   "metadata": {},
   "outputs": [
    {
     "data": {
      "text/plain": [
       "0.8875041242341011"
      ]
     },
     "execution_count": 30,
     "metadata": {},
     "output_type": "execute_result"
    }
   ],
   "source": [
    "f1_sub(fname,'sub/b642f.csv')"
   ]
  },
  {
   "cell_type": "code",
   "execution_count": 54,
   "metadata": {},
   "outputs": [
    {
     "data": {
      "text/plain": [
       "0.9251601045480051"
      ]
     },
     "execution_count": 54,
     "metadata": {},
     "output_type": "execute_result"
    }
   ],
   "source": [
    "f1_sub(fname,'sub/b650.csv')"
   ]
  },
  {
   "cell_type": "code",
   "execution_count": 32,
   "metadata": {},
   "outputs": [
    {
     "data": {
      "text/plain": [
       "0.8078086519791805"
      ]
     },
     "execution_count": 32,
     "metadata": {},
     "output_type": "execute_result"
    }
   ],
   "source": [
    "f1_sub(fname,'sub/airx0d.csv')"
   ]
  },
  {
   "cell_type": "code",
   "execution_count": 33,
   "metadata": {},
   "outputs": [
    {
     "data": {
      "text/plain": [
       "0.7952013116903258"
      ]
     },
     "execution_count": 33,
     "metadata": {},
     "output_type": "execute_result"
    }
   ],
   "source": [
    "f1_sub(fname,'sub/airx1d.csv')"
   ]
  },
  {
   "cell_type": "code",
   "execution_count": 34,
   "metadata": {},
   "outputs": [
    {
     "data": {
      "text/plain": [
       "0.8119346671994828"
      ]
     },
     "execution_count": 34,
     "metadata": {},
     "output_type": "execute_result"
    }
   ],
   "source": [
    "f1_sub(fname,'sub/airx2d.csv')"
   ]
  },
  {
   "cell_type": "code",
   "execution_count": 35,
   "metadata": {},
   "outputs": [
    {
     "data": {
      "text/plain": [
       "0.8007712959791004"
      ]
     },
     "execution_count": 35,
     "metadata": {},
     "output_type": "execute_result"
    }
   ],
   "source": [
    "f1_sub(fname,'sub/airx3d.csv')"
   ]
  },
  {
   "cell_type": "code",
   "execution_count": 36,
   "metadata": {},
   "outputs": [
    {
     "data": {
      "text/plain": [
       "0.8017175767772271"
      ]
     },
     "execution_count": 36,
     "metadata": {},
     "output_type": "execute_result"
    }
   ],
   "source": [
    "f1_sub(fname,'sub/airx4d.csv')"
   ]
  },
  {
   "cell_type": "code",
   "execution_count": 37,
   "metadata": {},
   "outputs": [
    {
     "data": {
      "text/plain": [
       "0.7874093565998415"
      ]
     },
     "execution_count": 37,
     "metadata": {},
     "output_type": "execute_result"
    }
   ],
   "source": [
    "f1_sub(fname,'sub/airx4id.csv')"
   ]
  },
  {
   "cell_type": "code",
   "execution_count": 38,
   "metadata": {},
   "outputs": [
    {
     "data": {
      "text/plain": [
       "0.7995270469564045"
      ]
     },
     "execution_count": 38,
     "metadata": {},
     "output_type": "execute_result"
    }
   ],
   "source": [
    "f1_sub(fname,'sub/preresnet0d.csv')"
   ]
  },
  {
   "cell_type": "code",
   "execution_count": 39,
   "metadata": {},
   "outputs": [
    {
     "data": {
      "text/plain": [
       "0.8056688968946596"
      ]
     },
     "execution_count": 39,
     "metadata": {},
     "output_type": "execute_result"
    }
   ],
   "source": [
    "f1_sub(fname,'sub/preresnet2d.csv')"
   ]
  },
  {
   "cell_type": "code",
   "execution_count": 40,
   "metadata": {},
   "outputs": [
    {
     "data": {
      "text/plain": [
       "0.8616310400818187"
      ]
     },
     "execution_count": 40,
     "metadata": {},
     "output_type": "execute_result"
    }
   ],
   "source": [
    "f1_sub(fname,'sub/preresnet_o67d.csv')"
   ]
  },
  {
   "cell_type": "code",
   "execution_count": 41,
   "metadata": {},
   "outputs": [
    {
     "data": {
      "text/plain": [
       "0.7651052446633501"
      ]
     },
     "execution_count": 41,
     "metadata": {},
     "output_type": "execute_result"
    }
   ],
   "source": [
    "f1_sub(fname,'sub/resnet15c.csv')"
   ]
  },
  {
   "cell_type": "code",
   "execution_count": 42,
   "metadata": {},
   "outputs": [
    {
     "data": {
      "text/plain": [
       "0.7570055641553044"
      ]
     },
     "execution_count": 42,
     "metadata": {},
     "output_type": "execute_result"
    }
   ],
   "source": [
    "f1_sub(fname,'sub/se_resnext11d.csv')"
   ]
  },
  {
   "cell_type": "code",
   "execution_count": 43,
   "metadata": {},
   "outputs": [
    {
     "data": {
      "text/plain": [
       "0.7491478627954772"
      ]
     },
     "execution_count": 43,
     "metadata": {},
     "output_type": "execute_result"
    }
   ],
   "source": [
    "f1_sub(fname,'sub/leak_brian_tommy_en_res34swa_re50xt_re101xtswa_wrn_4.8.csv')"
   ]
  },
  {
   "cell_type": "code",
   "execution_count": 44,
   "metadata": {},
   "outputs": [
    {
     "data": {
      "text/plain": [
       "0.746087715509132"
      ]
     },
     "execution_count": 44,
     "metadata": {},
     "output_type": "execute_result"
    }
   ],
   "source": [
    "f1_sub(fname,'sub/submission_loss_5fold_mean.csv')"
   ]
  },
  {
   "cell_type": "code",
   "execution_count": 45,
   "metadata": {},
   "outputs": [],
   "source": [
    "# f1_confusion(fname,'sub/'+prefix+midx+'.csv')"
   ]
  },
  {
   "cell_type": "code",
   "execution_count": 46,
   "metadata": {},
   "outputs": [
    {
     "data": {
      "text/plain": [
       "0.6695496771542778"
      ]
     },
     "execution_count": 46,
     "metadata": {},
     "output_type": "execute_result"
    }
   ],
   "source": [
    "f1_sub('sub/submission_loss_5fold_mean.csv',\n",
    "       'sub/leak_brian_tommy_en_res34swa_re50xt_re101xtswa_wrn_4.8.csv')"
   ]
  },
  {
   "cell_type": "code",
   "execution_count": 47,
   "metadata": {},
   "outputs": [
    {
     "data": {
      "text/plain": [
       "0.8338278242472583"
      ]
     },
     "execution_count": 47,
     "metadata": {},
     "output_type": "execute_result"
    }
   ],
   "source": [
    "f1_sub('sub/enst1.8_1shai562_1russ600_1dieter_2.3.csv',\n",
    "       'sub/leak_brian_tommy_en_res34swa_re50xt_re101xtswa_wrn_4.8.csv')"
   ]
  },
  {
   "cell_type": "code",
   "execution_count": 48,
   "metadata": {},
   "outputs": [
    {
     "data": {
      "text/plain": [
       "0.8140559755860645"
      ]
     },
     "execution_count": 48,
     "metadata": {},
     "output_type": "execute_result"
    }
   ],
   "source": [
    "f1_sub('sub/enst1.8_1shai562_1russ600_1dieter_2.3.csv',\n",
    "       'sub/submission_loss_5fold_mean.csv')"
   ]
  },
  {
   "cell_type": "code",
   "execution_count": 49,
   "metadata": {},
   "outputs": [
    {
     "data": {
      "text/plain": [
       "0.8440376333422289"
      ]
     },
     "execution_count": 49,
     "metadata": {},
     "output_type": "execute_result"
    }
   ],
   "source": [
    "f1_sub(fname,'sub/enst1.8_1shai562_1russ600_1dieter_2.3.csv')"
   ]
  },
  {
   "cell_type": "code",
   "execution_count": 50,
   "metadata": {},
   "outputs": [],
   "source": [
    "# f1_confusion(fname,'sub/enst22_1shai562_1russ609_1dieter580_1shai592_2.4.csv')"
   ]
  },
  {
   "cell_type": "code",
   "execution_count": 51,
   "metadata": {},
   "outputs": [
    {
     "data": {
      "text/plain": [
       "array([[0, 3],\n",
       "       [0, 1]])"
      ]
     },
     "execution_count": 51,
     "metadata": {},
     "output_type": "execute_result"
    }
   ],
   "source": [
    "v0 = np.array([0, 0, 0, 1])\n",
    "v1 = np.array([1, 1, 1, 1])\n",
    "confusion_matrix(v0,v1)"
   ]
  },
  {
   "cell_type": "code",
   "execution_count": 52,
   "metadata": {},
   "outputs": [
    {
     "name": "stdout",
     "output_type": "stream",
     "text": [
      "sub/hill_g100cd.csv\n"
     ]
    }
   ],
   "source": [
    "print(fname)"
   ]
  }
 ],
 "metadata": {
  "kernelspec": {
   "display_name": "Python 3",
   "language": "python",
   "name": "python3"
  },
  "language_info": {
   "codemirror_mode": {
    "name": "ipython",
    "version": 3
   },
   "file_extension": ".py",
   "mimetype": "text/x-python",
   "name": "python",
   "nbconvert_exporter": "python",
   "pygments_lexer": "ipython3",
   "version": "3.6.5"
  }
 },
 "nbformat": 4,
 "nbformat_minor": 2
}
