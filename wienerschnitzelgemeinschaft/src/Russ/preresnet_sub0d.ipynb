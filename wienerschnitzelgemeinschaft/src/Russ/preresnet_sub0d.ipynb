{
 "cells": [
  {
   "cell_type": "code",
   "execution_count": 1,
   "metadata": {},
   "outputs": [],
   "source": [
    "prefix = 'preresnet'\n",
    "midx = '0'"
   ]
  },
  {
   "cell_type": "code",
   "execution_count": 2,
   "metadata": {},
   "outputs": [],
   "source": [
    "import pandas as pd\n",
    "import numpy as np\n",
    "from sklearn.metrics import f1_score, confusion_matrix"
   ]
  },
  {
   "cell_type": "code",
   "execution_count": 3,
   "metadata": {},
   "outputs": [
    {
     "name": "stdout",
     "output_type": "stream",
     "text": [
      "   index                                    Id Target  Questionable\n",
      "0      0  94205e64-baca-11e8-b2b8-ac1f6b6435d0     16             0\n",
      "1      1  53f49b94-bad3-11e8-b2b8-ac1f6b6435d0   9 10             0\n",
      "2      3  47c3e666-bac6-11e8-b2b7-ac1f6b6435d0  14 25             0\n",
      "3      4  05d45be8-bace-11e8-b2b8-ac1f6b6435d0   2 25             0\n",
      "4      6  e5382de2-bad2-11e8-b2b8-ac1f6b6435d0   0 25             0\n",
      "(272, 4)\n",
      "                                     Predicted\n",
      "Id                                            \n",
      "00008af0-bad0-11e8-b2b8-ac1f6b6435d0         2\n",
      "0000a892-bacf-11e8-b2b8-ac1f6b6435d0         5\n",
      "0006faa6-bac7-11e8-b2b7-ac1f6b6435d0    0 5 25\n",
      "0008baca-bad7-11e8-b2b9-ac1f6b6435d0         0\n",
      "000cce7e-bad4-11e8-b2b8-ac1f6b6435d0          \n",
      "(11702, 1)\n"
     ]
    }
   ],
   "source": [
    "new = pd.read_csv('leak2d.csv')\n",
    "new = new[new.Questionable != 1]\n",
    "new.reset_index(inplace=True)\n",
    "print(new.head())\n",
    "print(new.shape)\n",
    "\n",
    "ens = pd.read_csv('sub/'+prefix+midx+'.csv').fillna('')\n",
    "ens = ens.set_index('Id')\n",
    "print(ens.head())\n",
    "print(ens.shape)"
   ]
  },
  {
   "cell_type": "code",
   "execution_count": 4,
   "metadata": {},
   "outputs": [],
   "source": [
    "# # create onehot matrix for a submission file\n",
    "# def onehot_sub(csv0, num_classes=28):\n",
    "#     c0 = pd.read_csv(csv0)\n",
    "#     s0 = [s if isinstance(s,str) else '' for s in c0.Predicted]\n",
    "#     p0 = [s.split() for s in s0]\n",
    "#     y0 = np.zeros((c0.shape[0],num_classes)).astype(int)\n",
    "#     # print(p0[:5])\n",
    "#     for i in range(c0.shape[0]):\n",
    "#         for j in p0[i]: y0[i,int(j)] = 1\n",
    "#     # print(y0[:5])\n",
    "    \n",
    "#     y = pd.DataFrame(y0)\n",
    "#     y.columns = ['y_'+str(i) for i in range(num_classes)]\n",
    "    \n",
    "#     c0 = pd.concat((c0,y),axis=1)\n",
    "    \n",
    "#     fname = csv0[:-4] + '_onehot.csv'\n",
    "#     c0.to_csv(fname)      \n",
    "#     print(fname)\n",
    "    \n",
    "# new['Predicted'] = new['Target'].values\n",
    "# fname = 'sub/leak2dd.csv'\n",
    "# new.to_csv(fname)\n",
    "# onehot_sub(fname)"
   ]
  },
  {
   "cell_type": "code",
   "execution_count": 5,
   "metadata": {},
   "outputs": [
    {
     "name": "stdout",
     "output_type": "stream",
     "text": [
      "0  =>  16\n",
      "14  =>  14 25\n",
      "0 3 25  =>  2 25\n",
      "0 21 25  =>  0 25\n",
      "0 5  =>  0 19 21\n",
      "22  =>  0 22 23\n",
      "0 25  =>  21 25\n",
      "0 12 25  =>  12\n",
      "12 21 26  =>  12 21 25\n",
      "4 5 25  =>  7 21\n",
      "0 21  =>  0 21 25\n",
      "11 12  =>  12\n",
      "4  =>  4 23\n",
      "0 21 25  =>  21\n",
      "18 25  =>  0 18 25\n",
      "23 25  =>  2 23\n",
      "0 21 25  =>  0 21 23\n",
      "14 25  =>  0 14\n",
      "14 16  =>  14\n",
      "0 16  =>  0\n",
      "0 12 16  =>  21\n",
      "16 25  =>  14 16 25\n",
      "2 25  =>  2 6 25\n",
      "2  =>  1 2\n",
      "12 21  =>  13 21\n",
      "25  =>  0 25\n",
      "16 25  =>  14 16 25\n",
      "7 21 25  =>  0 21 22\n",
      "16 25  =>  25\n",
      "6 25  =>  2 6 14 25\n",
      "0 19  =>  13\n",
      "0 5 25  =>  13\n",
      "7 25  =>  21 25\n",
      "25  =>  14 25\n",
      "0 22  =>  2 22\n",
      "4  =>  4 21\n",
      "4  =>  4 21\n",
      "7  =>  2\n",
      "0 17  =>  0 16 17 18\n",
      "0 16  =>  0 16 17 18\n",
      "0 2 11  =>  2 11\n",
      "18 19  =>  0 19\n",
      "18  =>  0 19\n",
      "18  =>  0 19\n",
      "12  =>  12 21 25\n",
      "14 16  =>  0 14\n",
      "14 16  =>  0 14\n",
      "1  =>  1 5\n",
      "4  =>  0\n",
      "0 12  =>  21\n",
      "0 16  =>  0\n",
      "12 13 21  =>  13 21\n",
      "0 14  =>  14 25\n",
      "0 14  =>  14\n",
      "0 14 16  =>  14\n",
      "21 22 25  =>  25\n",
      "16  =>  16 19 21 25\n",
      "1 4 26  =>  1 4\n",
      "5 16  =>  16\n",
      "14 16  =>  14 16 17\n",
      "5  =>  0 5 25\n",
      "1 18  =>  1\n",
      "14 16 25  =>  25\n",
      "7 23  =>  7 25\n",
      "23  =>  27\n",
      "0 27  =>  27\n",
      "21 25  =>  25\n",
      "2 25  =>  2\n",
      "2 25  =>  2\n",
      "22  =>  7 21\n",
      "0 19  =>  0 1 7\n",
      "14  =>  14 16\n",
      "16  =>  16 25\n",
      "7  =>  7 17\n",
      "4 5 25  =>  5 6 25\n",
      "5 25  =>  0 5 7\n",
      "21 22  =>  12 21 22\n",
      "12  =>  2 12\n",
      "4  =>  4 21\n",
      "0 2  =>  0\n",
      "0 12  =>  12\n",
      "4 17  =>  17 18\n",
      "0 16  =>  0\n",
      "1  =>  0 1\n",
      "0 13  =>  13\n",
      "0 13  =>  13\n",
      "5 22  =>  25\n",
      "21 22  =>  0 21 22\n",
      "21 22  =>  0 21 22\n",
      "21  =>  13 25\n",
      "23  =>  23 27\n",
      "4 21 22 25  =>  0 21 25\n",
      "25  =>  0 25\n",
      "0  =>  16\n",
      "12 13  =>  0 22\n",
      "12  =>  0 22\n",
      "17  =>  17 25\n",
      "5  =>  0 5\n",
      "0 16  =>  0\n",
      "0 19 25  =>  0 19\n",
      "6 14  =>  4\n",
      "14  =>  4\n",
      "0 4 26  =>  0 25\n",
      "0 7  =>  0 25\n",
      "0 12 21  =>  0 21\n",
      "6 25  =>  25\n",
      "0 3  =>  0 16\n",
      "21 25  =>  25\n",
      "4 5  =>  0\n",
      "0 1 2  =>  1 2\n",
      "14  =>  14 16\n",
      "0 3 5  =>  25\n",
      "4 5  =>  5\n",
      "6 25  =>  6 7 25\n",
      "0 1 25  =>  0\n",
      "0 16  =>  0 16 25\n",
      "0 1 16  =>  0 16 25\n",
      "0 1  =>  1\n",
      "7  =>  7 22\n",
      "2 23  =>  21 23\n",
      "0 25  =>  0 22 25\n",
      "12 21  =>  12\n",
      "0 12  =>  22\n",
      "1  =>  1 2\n",
      "0 2  =>  2\n",
      "7 16 19  =>  11 19\n",
      "0 14 16  =>  0 16 25\n",
      "3  =>  2\n",
      "3  =>  2\n",
      "0 16  =>  16\n",
      "2  =>  0 25\n",
      "0 16  =>  16\n",
      "14  =>  14 16\n",
      "5  =>  5 23\n",
      "0 16  =>  0 1 16\n",
      "7 14 25  =>  11 25\n",
      "4 25  =>  0 7 22\n",
      "0 5 25  =>  0 7 22\n",
      "0 4 5 16  =>  0 16\n",
      "0 3  =>  0 16\n",
      "0 25  =>  25\n",
      "16 25  =>  25\n",
      "18  =>  18 25\n",
      "0 5  =>  0 21 25\n",
      "6 14  =>  3 22\n",
      "  =>  0 25\n",
      "0 14  =>  14\n",
      "4 19 25  =>  18 25\n",
      "12  =>  0 12 25\n",
      "4  =>  4 7\n",
      "14 25  =>  14 18 25\n",
      "4  =>  4 23\n",
      "0 3  =>  0 21 25\n",
      "20  =>  20 25\n",
      "0 20  =>  20 25\n",
      "0 2  =>  2 21\n",
      "6 7 25  =>  7 25\n",
      "5  =>  0\n",
      "0 14 16  =>  0 14 16 17\n",
      "1  =>  1 25\n",
      "0 5 25  =>  25\n",
      "14  =>  14 16\n",
      "0 16  =>  16\n",
      "0 12  =>  0 12 25\n",
      "0 16 25  =>  0\n",
      "4  =>  4 25\n",
      "0 18 19  =>  0 19 25\n",
      "0 7  =>  7\n",
      "3 5  =>  5\n",
      "12  =>  12 13 25\n",
      "4  =>  2\n",
      "0 16  =>  0 16 25\n",
      "0 16  =>  0\n",
      "5  =>  0 5\n",
      "0 4 22  =>  0 22\n",
      "3  =>  2\n",
      "14 16 23  =>  14 16 17 23\n",
      "16 23  =>  14 16 17 23\n",
      "2 14 17 25  =>  2 17 25\n",
      "14 17  =>  14 17 23\n",
      "0 12 21  =>  0 21 25\n",
      "23  =>  22 23\n",
      "12 21 25  =>  6 21 25\n",
      "12 25  =>  3 12 25\n",
      "changed 184  unchanged 88\n",
      "\n",
      "sub/preresnet0d.csv\n"
     ]
    }
   ],
   "source": [
    "changed = 0\n",
    "unchanged = 0\n",
    "for i, item in enumerate(new['Id']):\n",
    "#     print(test_preds.loc[i]['Target'])\n",
    "    if ens.loc[item]['Predicted'] != new.loc[i]['Target']:\n",
    "        print(ens.loc[item]['Predicted'],' => ', new.loc[i]['Target'])\n",
    "        changed += 1\n",
    "        ens.loc[item]['Predicted'] = new.loc[i]['Target']\n",
    "    else:\n",
    "        unchanged += 1\n",
    "\n",
    "print('changed',changed,' unchanged',unchanged)\n",
    "\n",
    "print()\n",
    "fname = 'sub/'+prefix+midx+'d.csv'\n",
    "ens.to_csv(fname)\n",
    "print(fname)"
   ]
  },
  {
   "cell_type": "code",
   "execution_count": 6,
   "metadata": {},
   "outputs": [],
   "source": [
    "name_label_dict = {\n",
    "    0:  \"Nucleoplasm\",  \n",
    "    1:  \"Nuclear membrane\",   \n",
    "    2:  \"Nucleoli\",   \n",
    "    3:  \"Nucleoli fibrillar center\",   \n",
    "    4:  \"Nuclear speckles\",\n",
    "    5:  \"Nuclear bodies\",   \n",
    "    6:  \"Endoplasmic reticulum\",   \n",
    "    7:  \"Golgi apparatus\",   \n",
    "    8:  \"Peroxisomes\",   \n",
    "    9:  \"Endosomes\",   \n",
    "    10:  \"Lysosomes\",   \n",
    "    11:  \"Intermediate filaments\",   \n",
    "    12:  \"Actin filaments\",   \n",
    "    13:  \"Focal adhesion sites\",   \n",
    "    14:  \"Microtubules\",   \n",
    "    15:  \"Microtubule ends\",   \n",
    "    16:  \"Cytokinetic bridge\",   \n",
    "    17:  \"Mitotic spindle\",   \n",
    "    18:  \"Microtubule organizing center\",   \n",
    "    19:  \"Centrosome\",   \n",
    "    20:  \"Lipid droplets\",   \n",
    "    21:  \"Plasma membrane\",   \n",
    "    22:  \"Cell junctions\",   \n",
    "    23:  \"Mitochondria\",   \n",
    "    24:  \"Aggresome\",   \n",
    "    25:  \"Cytosol\",   \n",
    "    26:  \"Cytoplasmic bodies\",   \n",
    "    27:  \"Rods & rings\"\n",
    "}\n",
    "LABEL_MAP = name_label_dict\n",
    "np.set_printoptions(precision=3, suppress=True, linewidth=100)"
   ]
  },
  {
   "cell_type": "code",
   "execution_count": 7,
   "metadata": {},
   "outputs": [],
   "source": [
    "# compute f1 score between two submission files\n",
    "def f1_sub(csv0, csv1, num_classes=28):\n",
    "    c0 = pd.read_csv(csv0)\n",
    "    c1 = pd.read_csv(csv1)\n",
    "    assert c0.shape == c1.shape\n",
    "    s0 = [s if isinstance(s,str) else '' for s in c0.Predicted]\n",
    "    s1 = [s if isinstance(s,str) else '' for s in c1.Predicted]\n",
    "    p0 = [s.split() for s in s0]\n",
    "    p1 = [s.split() for s in s1]\n",
    "    y0 = np.zeros((c0.shape[0],num_classes)).astype(int)\n",
    "    y1 = np.zeros((c0.shape[0],num_classes)).astype(int)\n",
    "    # print(p0[:5])\n",
    "    for i in range(c0.shape[0]):\n",
    "        for j in p0[i]: y0[i,int(j)] = 1\n",
    "        for j in p1[i]: y1[i,int(j)] = 1\n",
    "    # print(y0[:5])\n",
    "            \n",
    "    return f1_score(y0, y1, average='macro')\n",
    "\n",
    "\n",
    "# computute confusion matrices between two submission files\n",
    "def f1_confusion(csv0, csv1, num_classes=28):\n",
    "    c0 = pd.read_csv(csv0)\n",
    "    c1 = pd.read_csv(csv1)\n",
    "    assert c0.shape == c1.shape\n",
    "    s0 = [s if isinstance(s,str) else '' for s in c0.Predicted]\n",
    "    s1 = [s if isinstance(s,str) else '' for s in c1.Predicted]\n",
    "    p0 = [s.split() for s in s0]\n",
    "    p1 = [s.split() for s in s1]\n",
    "    y0 = np.zeros((c0.shape[0],num_classes)).astype(int)\n",
    "    y1 = np.zeros((c0.shape[0],num_classes)).astype(int)\n",
    "    # print(p0[:5])\n",
    "    for i in range(c0.shape[0]):\n",
    "        for j in p0[i]: y0[i,int(j)] = 1\n",
    "        for j in p1[i]: y1[i,int(j)] = 1\n",
    "    # print(y0[:5])\n",
    "    \n",
    "    y0avg = np.average(y0,axis=0)\n",
    "    y1avg = np.average(y1,axis=0)\n",
    "    cm = [confusion_matrix(y0[:,i], y1[:,i]) for i in range(y0.shape[1])]\n",
    "    fm = [f1_score(y0[:,i], y1[:,i]) for i in range(y0.shape[1])]\n",
    "    for i in range(y0.shape[1]):\n",
    "        print(LABEL_MAP[i])\n",
    "        print(cm[i],' %4.2f' % fm[i],' %6.4f' % y0avg[i],' %6.4f' % y1avg[i],\n",
    "             ' %6.4f' % (y0avg[i] - y1avg[i]))\n",
    "        print()\n",
    "#     print('y0avg')\n",
    "#     print(y0avg)\n",
    "#     print('y1avg')\n",
    "#     print(y1avg)\n",
    "#     print('y0avg - y1avg')\n",
    "#     print(y0avg-y1avg)\n",
    "    print('f1 macro')\n",
    "    print(np.mean(fm))       \n",
    "    return f1_score(y0, y1, average='macro')\n",
    " "
   ]
  },
  {
   "cell_type": "code",
   "execution_count": 8,
   "metadata": {},
   "outputs": [
    {
     "data": {
      "text/plain": [
       "0.9861395355809461"
      ]
     },
     "execution_count": 8,
     "metadata": {},
     "output_type": "execute_result"
    }
   ],
   "source": [
    "f1_sub(fname,'sub/'+prefix+midx+'.csv')"
   ]
  },
  {
   "cell_type": "code",
   "execution_count": 10,
   "metadata": {},
   "outputs": [
    {
     "data": {
      "text/plain": [
       "0.7331312014653518"
      ]
     },
     "execution_count": 10,
     "metadata": {},
     "output_type": "execute_result"
    }
   ],
   "source": [
    "f1_sub(fname,'sub/ens43c.csv')"
   ]
  },
  {
   "cell_type": "code",
   "execution_count": 11,
   "metadata": {},
   "outputs": [
    {
     "data": {
      "text/plain": [
       "0.7545422203332218"
      ]
     },
     "execution_count": 11,
     "metadata": {},
     "output_type": "execute_result"
    }
   ],
   "source": [
    "f1_sub(fname,'sub/ens45c.csv')"
   ]
  },
  {
   "cell_type": "code",
   "execution_count": 12,
   "metadata": {},
   "outputs": [
    {
     "data": {
      "text/plain": [
       "0.8022562170289441"
      ]
     },
     "execution_count": 12,
     "metadata": {},
     "output_type": "execute_result"
    }
   ],
   "source": [
    "f1_sub(fname,'sub/ens53c.csv')"
   ]
  },
  {
   "cell_type": "code",
   "execution_count": 13,
   "metadata": {},
   "outputs": [
    {
     "data": {
      "text/plain": [
       "0.8028110140665697"
      ]
     },
     "execution_count": 13,
     "metadata": {},
     "output_type": "execute_result"
    }
   ],
   "source": [
    "f1_sub(fname,'sub/ens53d.csv')"
   ]
  },
  {
   "cell_type": "code",
   "execution_count": 14,
   "metadata": {},
   "outputs": [
    {
     "data": {
      "text/plain": [
       "0.8042077295989284"
      ]
     },
     "execution_count": 14,
     "metadata": {},
     "output_type": "execute_result"
    }
   ],
   "source": [
    "f1_sub(fname,'sub/ens55d.csv')"
   ]
  },
  {
   "cell_type": "code",
   "execution_count": 15,
   "metadata": {},
   "outputs": [
    {
     "data": {
      "text/plain": [
       "0.808935617206798"
      ]
     },
     "execution_count": 15,
     "metadata": {},
     "output_type": "execute_result"
    }
   ],
   "source": [
    "f1_sub(fname,'sub/ens56d.csv')"
   ]
  },
  {
   "cell_type": "code",
   "execution_count": 16,
   "metadata": {},
   "outputs": [
    {
     "data": {
      "text/plain": [
       "0.8123168065617786"
      ]
     },
     "execution_count": 16,
     "metadata": {},
     "output_type": "execute_result"
    }
   ],
   "source": [
    "f1_sub(fname,'sub/ens58d.csv')"
   ]
  },
  {
   "cell_type": "code",
   "execution_count": 17,
   "metadata": {},
   "outputs": [
    {
     "data": {
      "text/plain": [
       "0.8199523488856206"
      ]
     },
     "execution_count": 17,
     "metadata": {},
     "output_type": "execute_result"
    }
   ],
   "source": [
    "f1_sub(fname,'sub/ens59d.csv')"
   ]
  },
  {
   "cell_type": "code",
   "execution_count": 19,
   "metadata": {},
   "outputs": [
    {
     "data": {
      "text/plain": [
       "0.7891540012272731"
      ]
     },
     "execution_count": 19,
     "metadata": {},
     "output_type": "execute_result"
    }
   ],
   "source": [
    "f1_sub(fname,'sub/resnet15c.csv')"
   ]
  },
  {
   "cell_type": "code",
   "execution_count": 20,
   "metadata": {},
   "outputs": [
    {
     "data": {
      "text/plain": [
       "0.7723570778860426"
      ]
     },
     "execution_count": 20,
     "metadata": {},
     "output_type": "execute_result"
    }
   ],
   "source": [
    "f1_sub(fname,'sub/se_resnext11d.csv')"
   ]
  },
  {
   "cell_type": "code",
   "execution_count": 23,
   "metadata": {},
   "outputs": [
    {
     "name": "stdout",
     "output_type": "stream",
     "text": [
      "Nucleoplasm\n",
      "[[7433   33]\n",
      " [  28 4208]]  0.99  0.3620  0.3624  -0.0004\n",
      "\n",
      "Nuclear membrane\n",
      "[[11185     2]\n",
      " [    3   512]]  1.00  0.0440  0.0439  0.0001\n",
      "\n",
      "Nucleoli\n",
      "[[10810     3]\n",
      " [   11   878]]  0.99  0.0760  0.0753  0.0007\n",
      "\n",
      "Nucleoli fibrillar center\n",
      "[[11005     9]\n",
      " [    2   686]]  0.99  0.0588  0.0594  -0.0006\n",
      "\n",
      "Nuclear speckles\n",
      "[[10819    13]\n",
      " [    2   868]]  0.99  0.0743  0.0753  -0.0009\n",
      "\n",
      "Nuclear bodies\n",
      "[[10820    12]\n",
      " [    1   869]]  0.99  0.0743  0.0753  -0.0009\n",
      "\n",
      "Endoplasmic reticulum\n",
      "[[11185     4]\n",
      " [    3   510]]  0.99  0.0438  0.0439  -0.0001\n",
      "\n",
      "Golgi apparatus\n",
      "[[10813     6]\n",
      " [    8   875]]  0.99  0.0755  0.0753  0.0002\n",
      "\n",
      "Peroxisomes\n",
      "[[11680     0]\n",
      " [    0    22]]  1.00  0.0019  0.0019  0.0000\n",
      "\n",
      "Endosomes\n",
      "[[11685     0]\n",
      " [    0    17]]  1.00  0.0015  0.0015  0.0000\n",
      "\n",
      "Lysosomes\n",
      "[[11691     0]\n",
      " [    0    11]]  1.00  0.0009  0.0009  0.0000\n",
      "\n",
      "Intermediate filaments\n",
      "[[11186     1]\n",
      " [    2   513]]  1.00  0.0440  0.0439  0.0001\n",
      "\n",
      "Actin filaments\n",
      "[[11187    10]\n",
      " [    1   504]]  0.99  0.0432  0.0439  -0.0008\n",
      "\n",
      "Focal adhesion sites\n",
      "[[11530     1]\n",
      " [    5   166]]  0.98  0.0146  0.0143  0.0003\n",
      "\n",
      "Microtubules\n",
      "[[11183     7]\n",
      " [    5   507]]  0.99  0.0438  0.0439  -0.0002\n",
      "\n",
      "Microtubule ends\n",
      "[[11693     0]\n",
      " [    0     9]]  1.00  0.0008  0.0008  0.0000\n",
      "\n",
      "Cytokinetic bridge\n",
      "[[11355    15]\n",
      " [    9   323]]  0.96  0.0284  0.0289  -0.0005\n",
      "\n",
      "Mitotic spindle\n",
      "[[11529     0]\n",
      " [    6   167]]  0.98  0.0148  0.0143  0.0005\n",
      "\n",
      "Microtubule organizing center\n",
      "[[11359     5]\n",
      " [    5   333]]  0.99  0.0289  0.0289  0.0000\n",
      "\n",
      "Centrosome\n",
      "[[11002     3]\n",
      " [    4   693]]  0.99  0.0596  0.0595  0.0001\n",
      "\n",
      "Lipid droplets\n",
      "[[11636     0]\n",
      " [    0    66]]  1.00  0.0056  0.0056  0.0000\n",
      "\n",
      "Plasma membrane\n",
      "[[10210     6]\n",
      " [   16  1470]]  0.99  0.1270  0.1261  0.0009\n",
      "\n",
      "Cell junctions\n",
      "[[11354     4]\n",
      " [   10   334]]  0.98  0.0294  0.0289  0.0005\n",
      "\n",
      "Mitochondria\n",
      "[[10815     2]\n",
      " [    6   879]]  1.00  0.0756  0.0753  0.0003\n",
      "\n",
      "Aggresome\n",
      "[[11580     0]\n",
      " [    0   122]]  1.00  0.0104  0.0104  0.0000\n",
      "\n",
      "Cytosol\n",
      "[[9065   16]\n",
      " [  33 2588]]  0.99  0.2240  0.2225  0.0015\n",
      "\n",
      "Cytoplasmic bodies\n",
      "[[11364     3]\n",
      " [    0   335]]  1.00  0.0286  0.0289  -0.0003\n",
      "\n",
      "Rods & rings\n",
      "[[11695     0]\n",
      " [    2     5]]  0.83  0.0006  0.0004  0.0002\n",
      "\n",
      "f1 macro\n",
      "0.9861395355809461\n"
     ]
    },
    {
     "data": {
      "text/plain": [
       "0.9861395355809461"
      ]
     },
     "execution_count": 23,
     "metadata": {},
     "output_type": "execute_result"
    }
   ],
   "source": [
    "f1_confusion(fname,'sub/'+prefix+midx+'.csv')"
   ]
  },
  {
   "cell_type": "code",
   "execution_count": null,
   "metadata": {},
   "outputs": [],
   "source": []
  }
 ],
 "metadata": {
  "kernelspec": {
   "display_name": "Python 3",
   "language": "python",
   "name": "python3"
  },
  "language_info": {
   "codemirror_mode": {
    "name": "ipython",
    "version": 3
   },
   "file_extension": ".py",
   "mimetype": "text/x-python",
   "name": "python",
   "nbconvert_exporter": "python",
   "pygments_lexer": "ipython3",
   "version": "3.6.5"
  }
 },
 "nbformat": 4,
 "nbformat_minor": 2
}
