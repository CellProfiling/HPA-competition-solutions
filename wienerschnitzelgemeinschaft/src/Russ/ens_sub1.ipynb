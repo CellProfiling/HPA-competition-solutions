{
 "cells": [
  {
   "cell_type": "code",
   "execution_count": 180,
   "metadata": {},
   "outputs": [
    {
     "name": "stdout",
     "output_type": "stream",
     "text": [
      "ens 1 -1.38\n"
     ]
    }
   ],
   "source": [
    "fidx = 'ens'\n",
    "midx = '1'\n",
    "threshold = -1.38\n",
    "print(fidx,midx,threshold)"
   ]
  },
  {
   "cell_type": "code",
   "execution_count": 181,
   "metadata": {},
   "outputs": [
    {
     "name": "stdout",
     "output_type": "stream",
     "text": [
      "['iv3_a1', 'irv2_a1', 'se_resnext_a9', 'resnet34_46']\n",
      "[1, 1, 1, 5]\n"
     ]
    }
   ],
   "source": [
    "# results from ens_oof.ipynb\n",
    "mnames = ['iv3_a1','irv2_a1','se_resnext_a9','resnet34_46']\n",
    "weights = [1,1,1,5]\n",
    "assert(len(mnames)==len(weights))\n",
    "print(mnames)\n",
    "print(weights)"
   ]
  },
  {
   "cell_type": "code",
   "execution_count": 182,
   "metadata": {},
   "outputs": [
    {
     "name": "stdout",
     "output_type": "stream",
     "text": [
      "['resnet34_46']\n"
     ]
    }
   ],
   "source": [
    "klist = ['resnet34_46']\n",
    "print(klist)"
   ]
  },
  {
   "cell_type": "code",
   "execution_count": 183,
   "metadata": {},
   "outputs": [],
   "source": [
    "import numpy as np\n",
    "import pandas as pd\n",
    "import pickle\n",
    "import os\n",
    "from os import path\n",
    "from random import randint\n",
    "\n",
    "import matplotlib.pyplot as plt\n",
    "plt.style.use('seaborn-white')\n",
    "import seaborn as sns\n",
    "sns.set_style(\"white\")\n",
    "\n",
    "from sklearn.model_selection import train_test_split\n",
    "\n",
    "from keras.preprocessing.image import load_img\n",
    "\n",
    "import pydensecrf.densecrf as dcrf\n",
    "from pydensecrf.utils import unary_from_labels, create_pairwise_bilateral\n",
    "from skimage.color import gray2rgb\n",
    "from skimage.color import rgb2gray\n",
    "from skimage.transform import resize\n",
    "\n",
    "from scipy.special import logit\n",
    "from sklearn.model_selection import StratifiedKFold\n",
    "from sklearn.metrics import jaccard_similarity_score, f1_score\n",
    "\n",
    "from scipy.special import logit, expit\n",
    "\n",
    "import gc\n",
    "import cv2\n",
    "from tqdm import tqdm_notebook\n",
    "\n",
    "from numpy import inf"
   ]
  },
  {
   "cell_type": "code",
   "execution_count": 184,
   "metadata": {},
   "outputs": [],
   "source": [
    "name_label_dict = {\n",
    "    0:  \"Nucleoplasm\",  \n",
    "    1:  \"Nuclear membrane\",   \n",
    "    2:  \"Nucleoli\",   \n",
    "    3:  \"Nucleoli fibrillar center\",   \n",
    "    4:  \"Nuclear speckles\",\n",
    "    5:  \"Nuclear bodies\",   \n",
    "    6:  \"Endoplasmic reticulum\",   \n",
    "    7:  \"Golgi apparatus\",   \n",
    "    8:  \"Peroxisomes\",   \n",
    "    9:  \"Endosomes\",   \n",
    "    10:  \"Lysosomes\",   \n",
    "    11:  \"Intermediate filaments\",   \n",
    "    12:  \"Actin filaments\",   \n",
    "    13:  \"Focal adhesion sites\",   \n",
    "    14:  \"Microtubules\",   \n",
    "    15:  \"Microtubule ends\",   \n",
    "    16:  \"Cytokinetic bridge\",   \n",
    "    17:  \"Mitotic spindle\",   \n",
    "    18:  \"Microtubule organizing center\",   \n",
    "    19:  \"Centrosome\",   \n",
    "    20:  \"Lipid droplets\",   \n",
    "    21:  \"Plasma membrane\",   \n",
    "    22:  \"Cell junctions\",   \n",
    "    23:  \"Mitochondria\",   \n",
    "    24:  \"Aggresome\",   \n",
    "    25:  \"Cytosol\",   \n",
    "    26:  \"Cytoplasmic bodies\",   \n",
    "    27:  \"Rods & rings\"\n",
    "}"
   ]
  },
  {
   "cell_type": "code",
   "execution_count": 185,
   "metadata": {},
   "outputs": [
    {
     "name": "stdout",
     "output_type": "stream",
     "text": [
      "                                      Predicted\n",
      "Id                                             \n",
      "00008af0-bad0-11e8-b2b8-ac1f6b6435d0          0\n",
      "0000a892-bacf-11e8-b2b8-ac1f6b6435d0          0\n",
      "0006faa6-bac7-11e8-b2b7-ac1f6b6435d0          0\n",
      "0008baca-bad7-11e8-b2b9-ac1f6b6435d0          0\n",
      "000cce7e-bad4-11e8-b2b8-ac1f6b6435d0          0\n",
      "(11702, 1)\n"
     ]
    }
   ],
   "source": [
    "test_df = pd.read_csv(\"sample_submission.csv\", index_col=\"Id\")\n",
    "print(test_df.head())\n",
    "print(test_df.shape)"
   ]
  },
  {
   "cell_type": "code",
   "execution_count": 186,
   "metadata": {
    "_uuid": "b18c1f50cefd7504eae7e7b9605be3814c7cad6d"
   },
   "outputs": [],
   "source": [
    "# test_df[\"images\"] = [np.array(load_img(\"images/{}.png\".format(idx), \\\n",
    "#                                         color_mode = \"grayscale\")) / 255. \\\n",
    "#                                         # grayscale=True)) / 255. \\\n",
    "#                       for idx in tqdm_notebook(test_df.index)]\n",
    "# print(test_df.shape)"
   ]
  },
  {
   "cell_type": "code",
   "execution_count": 187,
   "metadata": {},
   "outputs": [
    {
     "data": {
      "text/plain": [
       "Index(['Predicted'], dtype='object')"
      ]
     },
     "execution_count": 187,
     "metadata": {},
     "output_type": "execute_result"
    }
   ],
   "source": [
    "test_df.columns"
   ]
  },
  {
   "cell_type": "code",
   "execution_count": 188,
   "metadata": {},
   "outputs": [],
   "source": [
    "# save a base copy for reuse below\n",
    "test_df0 = test_df.copy()\n",
    "sub_dir = './sub/'"
   ]
  },
  {
   "cell_type": "code",
   "execution_count": 189,
   "metadata": {},
   "outputs": [
    {
     "name": "stdout",
     "output_type": "stream",
     "text": [
      "\n",
      "./sub/iv3_a1_0_bag.pkl\n",
      "-6.0 -4.2462173 1.6556447\n",
      "(11702, 28) -6.0 -4.2462173 1.6556447\n",
      "\n",
      "./sub/iv3_a1_1_bag.pkl\n",
      "-6.0 -4.774103 6.0\n",
      "(11702, 28) -6.0 -4.774103 6.0\n",
      "[[1.         0.71843217]\n",
      " [0.71843217 1.        ]]\n",
      "\n",
      "./sub/iv3_a1_2_bag.pkl\n",
      "-6.0 -4.8116436 6.0\n",
      "(11702, 28) -6.0 -4.8116436 6.0\n",
      "[[1.        0.9232942]\n",
      " [0.9232942 1.       ]]\n",
      "\n",
      "./sub/iv3_a1_3_bag.pkl\n",
      "-6.0 -4.7986145 6.0\n",
      "(11702, 28) -6.0 -4.7986145 6.0\n",
      "[[1.         0.95559135]\n",
      " [0.95559135 1.        ]]\n",
      "\n",
      "./sub/iv3_a1_4_bag.pkl\n",
      "-6.0 -4.8122125 6.0\n",
      "(11702, 28) -6.0 -4.8122125 6.0\n",
      "[[1.         0.96210165]\n",
      " [0.96210165 1.        ]]\n",
      "iv3_a1 0 (11702, 28) -6.0 -4.688558 5.131129 0.06762275068974778\n",
      "\n",
      "./sub/irv2_a1_0_bag.pkl\n",
      "-6.0 -4.769983 6.0\n",
      "(11702, 28) -6.0 -4.769983 6.0\n",
      "\n",
      "./sub/irv2_a1_1_bag.pkl\n",
      "-6.0 -4.7980456 6.0\n",
      "(11702, 28) -6.0 -4.7980456 6.0\n",
      "[[1.         0.95866195]\n",
      " [0.95866195 1.        ]]\n",
      "\n",
      "./sub/irv2_a1_2_bag.pkl\n",
      "-6.0 -4.828511 6.0\n",
      "(11702, 28) -6.0 -4.828511 6.0\n",
      "[[1.        0.9606052]\n",
      " [0.9606052 1.       ]]\n",
      "\n",
      "./sub/irv2_a1_3_bag.pkl\n",
      "-6.0 -4.7985363 6.0\n",
      "(11702, 28) -6.0 -4.7985363 6.0\n",
      "[[1.         0.96955865]\n",
      " [0.96955865 1.        ]]\n",
      "\n",
      "./sub/irv2_a1_4_bag.pkl\n",
      "-6.0 -4.8269677 6.0\n",
      "(11702, 28) -6.0 -4.8269677 6.0\n",
      "[[1.         0.96920107]\n",
      " [0.96920107 1.        ]]\n",
      "irv2_a1 0 (11702, 28) -6.0 -4.8044086 6.0 0.0737633371584833\n",
      "\n",
      "./sub/se_resnext_a9_0_bag.pkl\n",
      "-6.0 -4.9508476 6.0\n",
      "(11702, 28) -6.0 -4.9508476 6.0\n",
      "\n",
      "./sub/se_resnext_a9_1_bag.pkl\n",
      "-6.0 -4.9274755 6.0\n",
      "(11702, 28) -6.0 -4.9274755 6.0\n",
      "[[1.         0.95540405]\n",
      " [0.95540405 1.        ]]\n",
      "\n",
      "./sub/se_resnext_a9_2_bag.pkl\n",
      "-6.0 -4.8445563 6.0\n",
      "(11702, 28) -6.0 -4.8445563 6.0\n",
      "[[1.         0.96151341]\n",
      " [0.96151341 1.        ]]\n",
      "\n",
      "./sub/se_resnext_a9_3_bag.pkl\n",
      "-6.0 -4.9820194 6.0\n",
      "(11702, 28) -6.0 -4.9820194 6.0\n",
      "[[1.         0.96806458]\n",
      " [0.96806458 1.        ]]\n",
      "\n",
      "./sub/se_resnext_a9_4_bag.pkl\n",
      "-6.0 -4.9381957 6.0\n",
      "(11702, 28) -6.0 -4.9381957 6.0\n",
      "[[1.         0.97233018]\n",
      " [0.97233018 1.        ]]\n",
      "se_resnext_a9 0 (11702, 28) -6.0 -4.928618 6.0 0.07283858681055741\n",
      "\n",
      "./sub/resnet34_46_0.pkl\n",
      "-6.0 -3.1508086 6.0\n",
      "(11702, 28) -6.0 -3.1508086 6.0\n",
      "\n",
      "./sub/resnet34_46_1.pkl\n",
      "-6.0 -3.0783 6.0\n",
      "(11702, 28) -6.0 -3.0783 6.0\n",
      "[[1.         0.95492123]\n",
      " [0.95492123 1.        ]]\n",
      "\n",
      "./sub/resnet34_46_2.pkl\n",
      "-6.0 -3.0856829 4.956825\n",
      "(11702, 28) -6.0 -3.0856829 4.956825\n",
      "[[1.         0.96818488]\n",
      " [0.96818488 1.        ]]\n",
      "\n",
      "./sub/resnet34_46_3.pkl\n",
      "-6.0 -3.0479524 6.0\n",
      "(11702, 28) -6.0 -3.0479524 6.0\n",
      "[[1.        0.9714217]\n",
      " [0.9714217 1.       ]]\n",
      "\n",
      "./sub/resnet34_46_4.pkl\n",
      "-6.0 -3.10276 5.5849032\n",
      "(11702, 28) -6.0 -3.10276 5.5849032\n",
      "[[1.         0.97169604]\n",
      " [0.97169604 1.        ]]\n",
      "\n",
      "./sub/resnet34_46_5.pkl\n",
      "-6.0 -3.0689316 5.4589205\n",
      "(11702, 28) -6.0 -3.0689316 5.4589205\n",
      "[[1.         0.97375859]\n",
      " [0.97375859 1.        ]]\n",
      "\n",
      "./sub/resnet34_46_6.pkl\n",
      "-6.0 -3.049025 5.0698414\n",
      "(11702, 28) -6.0 -3.049025 5.0698414\n",
      "[[1.         0.97390468]\n",
      " [0.97390468 1.        ]]\n",
      "\n",
      "./sub/resnet34_46_7.pkl\n",
      "-6.0 -3.0950286 5.4176774\n",
      "(11702, 28) -6.0 -3.0950286 5.4176774\n",
      "[[1.         0.97431564]\n",
      " [0.97431564 1.        ]]\n",
      "\n",
      "./sub/resnet34_46_8.pkl\n",
      "-6.0 -3.1117923 6.0\n",
      "(11702, 28) -6.0 -3.1117923 6.0\n",
      "[[1.         0.97562649]\n",
      " [0.97562649 1.        ]]\n",
      "\n",
      "./sub/resnet34_46_9.pkl\n",
      "-6.0 -3.0687797 5.2438\n",
      "(11702, 28) -6.0 -3.0687797 5.2438\n",
      "[[1.         0.97573152]\n",
      " [0.97573152 1.        ]]\n",
      "resnet34_46 0 (11702, 28) -6.0 -3.0859056 5.178076 0.1655760919989257\n"
     ]
    }
   ],
   "source": [
    "# build submission ensemble as weighted average on logit scale\n",
    "test_df = test_df0.copy()\n",
    "idx = test_df.index.values\n",
    "\n",
    "nfold = 20\n",
    "\n",
    "firstm = True\n",
    "\n",
    "klist\n",
    "\n",
    "for m in mnames:\n",
    "\n",
    "    firstf = True\n",
    "    if m in klist: suffix = '.pkl'\n",
    "    else: suffix = '_bag.pkl'\n",
    "    for fold in range(nfold):\n",
    "        # print('')\n",
    "        # print(m+'_'+str(fold))\n",
    "        first = True\n",
    "        nr = 0\n",
    "        for rep in ['','a','b','c','d','e','f','g','h','i']:\n",
    "            fname = sub_dir + m + rep + '_' + str(fold) + suffix\n",
    "            if os.path.exists(fname):\n",
    "                print('')\n",
    "                print(fname)\n",
    "                idb, ptestb = pickle.load(open(fname,'rb'))\n",
    "                if m in klist: \n",
    "                    ptestb = logit(ptestb)\n",
    "                \n",
    "                ptestb = np.clip(ptestb,-6.0,6.0)\n",
    "                # ptestb[ptestb==-inf] = -6.0\n",
    "                # ptestb[ptestb==inf] = 6.0\n",
    "                \n",
    "                print(ptestb.min(),ptestb.mean(),ptestb.max())\n",
    "                \n",
    "                if first:\n",
    "                    ptestf = ptestb.copy()\n",
    "                    idb0 = idb\n",
    "                    first = False\n",
    "                else:\n",
    "                    checki = [i0 != i1 for i0,i1 in zip(idb0,idb)]\n",
    "                    si = np.array(checki).sum()\n",
    "                    # print(si)\n",
    "                    assert si == 0\n",
    "                    print(np.corrcoef(np.array(ptestf).flatten(),\n",
    "                                      np.array(ptestb).flatten()))\n",
    "\n",
    "                    ptestf += ptestb\n",
    "                    \n",
    "                nr += 1\n",
    "        if nr > 0:\n",
    "            ptestf /= nr\n",
    "            print(ptestf.shape,ptestf.min(),ptestf.mean(),ptestf.max())\n",
    "\n",
    "            if firstf:\n",
    "                id = idb\n",
    "                ptest = ptestf.copy()\n",
    "                navg = 1\n",
    "                firstf = False\n",
    "            else:\n",
    "                print(np.corrcoef(np.array(ptest).flatten(),\n",
    "                                  np.array(ptestf).flatten()))\n",
    "                ptest += ptestf\n",
    "                navg += 1\n",
    "    \n",
    "    if navg == 0: print('Error: No files found')\n",
    "    ptest /= navg\n",
    "    pmask = (ptest > threshold).astype(int)\n",
    "    print(m,nr,ptest.shape,ptest.min(),ptest.mean(),ptest.max(),pmask.mean())\n",
    "    td = pd.DataFrame({'id':id})\n",
    "    td[m] = [a for a in ptest]\n",
    "    td.set_index('id',inplace=True)\n",
    "    test_df = test_df.join(td)\n"
   ]
  },
  {
   "cell_type": "code",
   "execution_count": 190,
   "metadata": {},
   "outputs": [
    {
     "data": {
      "text/plain": [
       "Index(['Predicted', 'iv3_a1', 'irv2_a1', 'se_resnext_a9', 'resnet34_46'], dtype='object')"
      ]
     },
     "execution_count": 190,
     "metadata": {},
     "output_type": "execute_result"
    }
   ],
   "source": [
    "test_df.columns"
   ]
  },
  {
   "cell_type": "code",
   "execution_count": 191,
   "metadata": {},
   "outputs": [
    {
     "name": "stdout",
     "output_type": "stream",
     "text": [
      "['00008af0-bad0-11e8-b2b8-ac1f6b6435d0' '0000a892-bacf-11e8-b2b8-ac1f6b6435d0'\n",
      " '0006faa6-bac7-11e8-b2b7-ac1f6b6435d0' '0008baca-bad7-11e8-b2b9-ac1f6b6435d0'\n",
      " '000cce7e-bad4-11e8-b2b8-ac1f6b6435d0']\n"
     ]
    }
   ],
   "source": [
    "print(idx[:5])"
   ]
  },
  {
   "cell_type": "code",
   "execution_count": 192,
   "metadata": {},
   "outputs": [
    {
     "name": "stdout",
     "output_type": "stream",
     "text": [
      "['iv3_a1', 'irv2_a1', 'se_resnext_a9', 'resnet34_46']\n",
      "[[1.         0.96825456 0.92398428 0.84297115]\n",
      " [0.96825456 1.         0.94098438 0.81877957]\n",
      " [0.92398428 0.94098438 1.         0.78338892]\n",
      " [0.84297115 0.81877957 0.78338892 1.        ]]\n"
     ]
    }
   ],
   "source": [
    "f = []\n",
    "clist = list(test_df.columns[1:])\n",
    "for c in clist:\n",
    "    f.append(np.array(list(test_df[c])).flatten())\n",
    "print(clist)\n",
    "print(np.corrcoef(f))   "
   ]
  },
  {
   "cell_type": "code",
   "execution_count": 193,
   "metadata": {},
   "outputs": [
    {
     "name": "stdout",
     "output_type": "stream",
     "text": [
      "(4, 11702, 28)\n"
     ]
    }
   ],
   "source": [
    "f = []\n",
    "clist = list(test_df.columns[1:])\n",
    "for c in clist:\n",
    "    f.append(np.array(list(test_df[c])))\n",
    "m = np.array(f)\n",
    "print(m.shape)"
   ]
  },
  {
   "cell_type": "code",
   "execution_count": 194,
   "metadata": {},
   "outputs": [
    {
     "name": "stdout",
     "output_type": "stream",
     "text": [
      "[1 1 1 5]\n"
     ]
    }
   ],
   "source": [
    "weights = np.array(weights)\n",
    "print(weights)"
   ]
  },
  {
   "cell_type": "code",
   "execution_count": 195,
   "metadata": {},
   "outputs": [
    {
     "name": "stdout",
     "output_type": "stream",
     "text": [
      "(11702, 28)\n"
     ]
    }
   ],
   "source": [
    "ens = np.average(m,axis=0,weights=weights)\n",
    "print(ens.shape)"
   ]
  },
  {
   "cell_type": "code",
   "execution_count": 196,
   "metadata": {},
   "outputs": [
    {
     "name": "stdout",
     "output_type": "stream",
     "text": [
      "[-1.71807368 -4.06105471 -2.74299109 -1.4073924  -3.1620895   1.29985215 -1.92410454 -3.14663529\n",
      " -4.35456383 -5.93782318 -5.92866158 -2.27279924 -3.48140284 -3.33864078 -3.04929906 -4.63518333\n",
      " -3.05364445 -3.8272385  -3.18728307 -2.42492881 -4.1446062  -2.52172697 -3.18410242 -1.83430684\n",
      " -3.21221188 -0.76789249 -3.39337683 -5.03960085]\n"
     ]
    }
   ],
   "source": [
    "print(ens[1])"
   ]
  },
  {
   "cell_type": "code",
   "execution_count": 197,
   "metadata": {},
   "outputs": [],
   "source": [
    "# fname = 'mthresh.pkl'\n",
    "# if os.path.isfile(fname): mthresh = pickle.load(open(fname,'rb'))\n",
    "# mthresh[mname]"
   ]
  },
  {
   "cell_type": "code",
   "execution_count": 198,
   "metadata": {},
   "outputs": [
    {
     "name": "stdout",
     "output_type": "stream",
     "text": [
      "{0: 0.36239782, 1: 0.043841336, 2: 0.075268817, 3: 0.059322034, 4: 0.075268817, 5: 0.075268817, 6: 0.043841336, 7: 0.075268817, 8: 0.004, 9: 0.004, 10: 0.004, 11: 0.043841336, 12: 0.043841336, 13: 0.014198783, 14: 0.043841336, 15: 0.004, 16: 0.028806584, 17: 0.014198783, 18: 0.028806584, 19: 0.059322034, 20: 0.004, 21: 0.126126126, 22: 0.028806584, 23: 0.075268817, 24: 0.004, 25: 0.222493888, 26: 0.028806584, 27: 0.004}\n"
     ]
    }
   ],
   "source": [
    "# desired class proportions from lb probing\n",
    "eps = 0.004\n",
    "desired = {\n",
    "0 : 0.36239782,\n",
    "1 : 0.043841336,\n",
    "2 : 0.075268817,\n",
    "3 : 0.059322034,\n",
    "4 : 0.075268817,\n",
    "5 : 0.075268817,\n",
    "6 : 0.043841336,\n",
    "7 : 0.075268817,\n",
    "8 : eps,\n",
    "9 : eps,\n",
    "10 : eps,\n",
    "11 : 0.043841336,\n",
    "12 : 0.043841336,\n",
    "13 : 0.014198783,\n",
    "14 : 0.043841336,\n",
    "15 : eps,\n",
    "16 : 0.028806584,\n",
    "17 : 0.014198783,\n",
    "18 : 0.028806584,\n",
    "19 : 0.059322034,\n",
    "20 : eps,\n",
    "21 : 0.126126126,\n",
    "22 : 0.028806584,\n",
    "23 : 0.075268817,\n",
    "24 : eps,\n",
    "25 : 0.222493888,\n",
    "26 : 0.028806584,\n",
    "27 : eps\n",
    "}\n",
    "print(desired)"
   ]
  },
  {
   "cell_type": "code",
   "execution_count": 199,
   "metadata": {},
   "outputs": [
    {
     "name": "stdout",
     "output_type": "stream",
     "text": [
      "lb.csv\n"
     ]
    }
   ],
   "source": [
    "idx = range(28)\n",
    "loc = [name_label_dict[j] for j in idx]\n",
    "lb = [desired[j] for j in idx]\n",
    "\n",
    "df = pd.DataFrame({'idx':idx, 'loc':loc, 'lb':lb})\n",
    "fname = 'lb.csv'\n",
    "df.to_csv(fname,index=False)\n",
    "print(fname)"
   ]
  },
  {
   "cell_type": "code",
   "execution_count": 200,
   "metadata": {},
   "outputs": [
    {
     "name": "stdout",
     "output_type": "stream",
     "text": [
      "fixed threshold -1.38\n",
      "0 0.3624 0.6292 Nucleoplasm\n",
      "1 0.0438 0.0471 Nuclear membrane\n",
      "2 0.0753 0.1864 Nucleoli\n",
      "3 0.0593 0.0548 Nucleoli fibrillar center\n",
      "4 0.0753 0.0579 Nuclear speckles\n",
      "5 0.0753 0.1271 Nuclear bodies\n",
      "6 0.0438 0.0446 Endoplasmic reticulum\n",
      "7 0.0753 0.1447 Golgi apparatus\n",
      "8 0.0040 0.0015 Peroxisomes\n",
      "9 0.0040 0.0011 Endosomes\n",
      "10 0.0040 0.0008 Lysosomes\n",
      "11 0.0438 0.0542 Intermediate filaments\n",
      "12 0.0438 0.0288 Actin filaments\n",
      "13 0.0142 0.0203 Focal adhesion sites\n",
      "14 0.0438 0.0584 Microtubules\n",
      "15 0.0040 0.0001 Microtubule ends\n",
      "16 0.0288 0.0354 Cytokinetic bridge\n",
      "17 0.0142 0.0264 Mitotic spindle\n",
      "18 0.0288 0.0674 Microtubule organizing center\n",
      "19 0.0593 0.0837 Centrosome\n",
      "20 0.0040 0.0067 Lipid droplets\n",
      "21 0.1261 0.3414 Plasma membrane\n",
      "22 0.0288 0.0341 Cell junctions\n",
      "23 0.0753 0.1536 Mitochondria\n",
      "24 0.0040 0.0142 Aggresome\n",
      "25 0.2225 0.6090 Cytosol\n",
      "26 0.0288 0.0203 Cytoplasmic bodies\n",
      "27 0.0040 0.0001 Rods & rings\n"
     ]
    }
   ],
   "source": [
    "# fixed global threshold\n",
    "pred = (ens > threshold).astype(int)\n",
    "print('fixed threshold',threshold)\n",
    "for j in range(pred.shape[1]):\n",
    "    prop = np.mean(pred[:,j])\n",
    "    print(j,'%6.4f' % desired[j],'%6.4f' % prop,name_label_dict[j],)"
   ]
  },
  {
   "cell_type": "code",
   "execution_count": 201,
   "metadata": {},
   "outputs": [
    {
     "name": "stdout",
     "output_type": "stream",
     "text": [
      "0 0.6 0.3624 0.3711 Nucleoplasm\n",
      "1 -1.3 0.0438 0.0455 Nuclear membrane\n",
      "2 0.4 0.0753 0.0774 Nucleoli\n",
      "3 -1.6 0.0593 0.0640 Nucleoli fibrillar center\n",
      "4 -1.8 0.0753 0.0778 Nuclear speckles\n",
      "5 -0.8 0.0753 0.0782 Nuclear bodies\n",
      "6 -1.4 0.0438 0.0456 Endoplasmic reticulum\n",
      "7 -0.4 0.0753 0.0784 Golgi apparatus\n",
      "8 -2.3 0.0040 0.0040 Peroxisomes\n",
      "9 -2.3 0.0040 0.0043 Endosomes\n",
      "10 -2.8 0.0040 0.0043 Lysosomes\n",
      "11 -1.1 0.0438 0.0456 Intermediate filaments\n",
      "12 -1.9 0.0438 0.0444 Actin filaments\n",
      "13 -0.9 0.0142 0.0144 Focal adhesion sites\n",
      "14 -0.6 0.0438 0.0446 Microtubules\n",
      "15 -3.1 0.0040 0.0042 Microtubule ends\n",
      "16 -1.3 0.0288 0.0317 Cytokinetic bridge\n",
      "17 -0.8 0.0142 0.0148 Mitotic spindle\n",
      "18 -0.6 0.0288 0.0306 Microtubule organizing center\n",
      "19 -1.0 0.0593 0.0614 Centrosome\n",
      "20 -0.9 0.0040 0.0040 Lipid droplets\n",
      "21 0.1 0.1261 0.1346 Plasma membrane\n",
      "22 -1.2 0.0288 0.0303 Cell junctions\n",
      "23 -0.1 0.0753 0.0761 Mitochondria\n",
      "24 1.7 0.0040 0.0041 Aggresome\n",
      "25 0.3 0.2225 0.2434 Cytosol\n",
      "26 -1.8 0.0288 0.0294 Cytoplasmic bodies\n",
      "27 -3.6 0.0040 0.0040 Rods & rings\n"
     ]
    }
   ],
   "source": [
    "# custom thresholds to match lb proportions\n",
    "thresholds = np.linspace(5, -5, 101)\n",
    "pred = ens.copy()\n",
    "for j in range(pred.shape[1]):\n",
    "    for t in thresholds:\n",
    "        pred[:,j] = (ens[:,j] > t).astype(int)\n",
    "        prop = np.mean(pred[:,j])\n",
    "        if prop >= desired[j]: break\n",
    "    print(j,'%3.1f' % t,'%6.4f' % desired[j],'%6.4f' % prop,name_label_dict[j],)"
   ]
  },
  {
   "cell_type": "code",
   "execution_count": 202,
   "metadata": {},
   "outputs": [
    {
     "name": "stdout",
     "output_type": "stream",
     "text": [
      "[[0 0 1 0 0 0 0 0 0 0 0 0 0 0 0 0 0 0 0 0 0 0 0 0 0 0 0 0]\n",
      " [0 0 0 1 0 1 0 0 0 0 0 0 0 0 0 0 0 0 0 0 0 0 0 0 0 0 0 0]\n",
      " [1 0 0 0 0 1 0 0 0 0 0 0 0 0 0 0 0 0 0 0 0 0 0 0 0 1 0 0]\n",
      " [1 0 0 0 0 0 0 0 0 0 0 0 0 0 0 0 0 0 0 0 0 0 0 0 0 0 0 0]\n",
      " [0 0 0 0 0 0 0 0 0 0 0 0 0 0 0 0 0 0 0 0 0 0 0 1 0 0 0 0]]\n"
     ]
    }
   ],
   "source": [
    "np.set_printoptions(linewidth=100)\n",
    "print(pred[:5].astype(int))"
   ]
  },
  {
   "cell_type": "code",
   "execution_count": 203,
   "metadata": {},
   "outputs": [
    {
     "name": "stdout",
     "output_type": "stream",
     "text": [
      "(11702,)\n",
      "0.0 1.6684327465390532 7.0\n"
     ]
    }
   ],
   "source": [
    "xps = np.sum(pred,axis=1)\n",
    "print(xps.shape)\n",
    "print(xps.min(),xps.mean(),xps.max())"
   ]
  },
  {
   "cell_type": "code",
   "execution_count": 204,
   "metadata": {},
   "outputs": [
    {
     "name": "stdout",
     "output_type": "stream",
     "text": [
      "0.035634934199282174\n"
     ]
    }
   ],
   "source": [
    "print(sum(xps==0)/pred.shape[0])"
   ]
  },
  {
   "cell_type": "code",
   "execution_count": 205,
   "metadata": {},
   "outputs": [
    {
     "name": "stdout",
     "output_type": "stream",
     "text": [
      "0 00008af0-bad0-11e8-b2b8-ac1f6b6435d0 2\n",
      "1000 15efe29e-bad4-11e8-b2b8-ac1f6b6435d0 26\n",
      "2000 2bd51caa-bad9-11e8-b2b9-ac1f6b6435d0 24\n",
      "3000 42f7f174-bace-11e8-b2b8-ac1f6b6435d0 0\n",
      "4000 589b3070-bad0-11e8-b2b8-ac1f6b6435d0 3 5\n",
      "5000 6dd7e7b6-bac7-11e8-b2b7-ac1f6b6435d0 25\n",
      "6000 835f7a30-bad7-11e8-b2b9-ac1f6b6435d0 2 23\n",
      "7000 9932fa46-bac6-11e8-b2b7-ac1f6b6435d0 21 25\n",
      "8000 aeabe93c-bacb-11e8-b2b8-ac1f6b6435d0 1 5\n",
      "9000 c4ad1a3a-bada-11e8-b2b9-ac1f6b6435d0 11\n",
      "10000 da851aec-bada-11e8-b2b9-ac1f6b6435d0 25\n",
      "11000 f071ee12-bad9-11e8-b2b9-ac1f6b6435d0 12 21\n",
      "{'ids': ['00008af0-bad0-11e8-b2b8-ac1f6b6435d0', '0000a892-bacf-11e8-b2b8-ac1f6b6435d0', '0006faa6-bac7-11e8-b2b7-ac1f6b6435d0', '0008baca-bad7-11e8-b2b9-ac1f6b6435d0', '000cce7e-bad4-11e8-b2b8-ac1f6b6435d0', '00109f6a-bac8-11e8-b2b7-ac1f6b6435d0', '001765de-bacd-11e8-b2b8-ac1f6b6435d0', '0018641a-bac9-11e8-b2b8-ac1f6b6435d0', '00200f22-bad7-11e8-b2b9-ac1f6b6435d0', '0026f154-bac6-11e8-b2b7-ac1f6b6435d0'], 'subs': ['2', '3 5', '0 5 25', '0', '23', '4', '0 4 25', '0 25', '0', '25']}\n",
      "11702 11702\n"
     ]
    }
   ],
   "source": [
    "subs = []\n",
    "ids = []\n",
    "for i,fid in enumerate(test_df.index.values):\n",
    "    subrow = ' '.join(list([str(i) for i in np.nonzero(pred[i])[0]]))\n",
    "    subs.append(subrow)\n",
    "    ids.append(fid)\n",
    "    if i % 1000 == 0: print(i,fid,subrow)\n",
    "print({'ids':ids[:10], 'subs':subs[:10]})\n",
    "print(len(ids), len(subs))"
   ]
  },
  {
   "cell_type": "code",
   "execution_count": 206,
   "metadata": {},
   "outputs": [
    {
     "name": "stdout",
     "output_type": "stream",
     "text": [
      "sub/ens1.csv\n"
     ]
    }
   ],
   "source": [
    "subm = pd.DataFrame.from_dict({'Id':ids, 'Predicted':subs}, orient='index').T\n",
    "fname = 'sub/' + fidx + midx + '.csv'\n",
    "subm.to_csv(fname, index=False)\n",
    "print(fname)"
   ]
  },
  {
   "cell_type": "code",
   "execution_count": 207,
   "metadata": {},
   "outputs": [
    {
     "name": "stdout",
     "output_type": "stream",
     "text": [
      "0 Nucleoplasm count 4343 prop 0.3711\n",
      "1 Nuclear membrane count 533 prop 0.0455\n",
      "2 Nucleoli count 906 prop 0.0774\n",
      "3 Nucleoli fibrillar center count 749 prop 0.0640\n",
      "4 Nuclear speckles count 910 prop 0.0778\n",
      "5 Nuclear bodies count 915 prop 0.0782\n",
      "6 Endoplasmic reticulum count 534 prop 0.0456\n",
      "7 Golgi apparatus count 918 prop 0.0784\n",
      "8 Peroxisomes count 47 prop 0.0040\n",
      "9 Endosomes count 50 prop 0.0043\n",
      "10 Lysosomes count 50 prop 0.0043\n",
      "11 Intermediate filaments count 534 prop 0.0456\n",
      "12 Actin filaments count 520 prop 0.0444\n",
      "13 Focal adhesion sites count 169 prop 0.0144\n",
      "14 Microtubules count 522 prop 0.0446\n",
      "15 Microtubule ends count 49 prop 0.0042\n",
      "16 Cytokinetic bridge count 371 prop 0.0317\n",
      "17 Mitotic spindle count 173 prop 0.0148\n",
      "18 Microtubule organizing center count 358 prop 0.0306\n",
      "19 Centrosome count 719 prop 0.0614\n",
      "20 Lipid droplets count 47 prop 0.0040\n",
      "21 Plasma membrane count 1575 prop 0.1346\n",
      "22 Cell junctions count 354 prop 0.0303\n",
      "23 Mitochondria count 891 prop 0.0761\n",
      "24 Aggresome count 48 prop 0.0041\n",
      "25 Cytosol count 2848 prop 0.2434\n",
      "26 Cytoplasmic bodies count 344 prop 0.0294\n",
      "27 Rods & rings count 47 prop 0.0040\n"
     ]
    }
   ],
   "source": [
    "from itertools import chain\n",
    "from collections import Counter\n",
    "max_idx = 27\n",
    "subm['target_list'] = subm['Predicted'].map(lambda x: \\\n",
    "            [int(a) if a != '' else -1 for a in str(x).split(' ')])\n",
    "subm['target_vec'] = subm['target_list'].map(lambda ck: \\\n",
    "            [i in ck for i in range(max_idx+1)])\n",
    "all_labels = list(chain.from_iterable(subm['target_list'].values))\n",
    "c_val = Counter(all_labels)\n",
    "n_keys = c_val.keys()\n",
    "max_idx = max(n_keys)\n",
    "for k,v in name_label_dict.items():\n",
    "    print(k,v, 'count', c_val[k] if k in c_val else 0,\n",
    "             'prop', '%6.4f' % (c_val[k]/len(ids) if k in c_val else 0))"
   ]
  },
  {
   "cell_type": "code",
   "execution_count": 208,
   "metadata": {},
   "outputs": [
    {
     "data": {
      "image/png": "[encoded data removed]",
      "text/plain": [
       "<Figure size 432x288 with 1 Axes>"
      ]
     },
     "metadata": {},
     "output_type": "display_data"
    }
   ],
   "source": [
    "train_sum_vec = np.sum(np.stack(subm['target_vec'].values, 0), 0)\n",
    "_ = plt.bar(n_keys, [train_sum_vec[k] for k in n_keys])"
   ]
  },
  {
   "cell_type": "code",
   "execution_count": 209,
   "metadata": {},
   "outputs": [],
   "source": [
    "from sklearn.metrics import f1_score\n",
    "\n",
    "# compute f1 score between two submission files\n",
    "def f1_sub(csv0, csv1, num_classes=28):\n",
    "    c0 = pd.read_csv(csv0)\n",
    "    c1 = pd.read_csv(csv1)\n",
    "    assert c0.shape == c1.shape\n",
    "    s0 = [s if isinstance(s,str) else '' for s in c0.Predicted]\n",
    "    s1 = [s if isinstance(s,str) else '' for s in c1.Predicted]\n",
    "    p0 = [s.split() for s in s0]\n",
    "    p1 = [s.split() for s in s1]\n",
    "    y0 = np.zeros((c0.shape[0],num_classes)).astype(int)\n",
    "    y1 = np.zeros((c0.shape[0],num_classes)).astype(int)\n",
    "    # print(p0[:5])\n",
    "    for i in range(c0.shape[0]):\n",
    "        for j in p0[i]: y0[i,int(j)] = 1\n",
    "        for j in p1[i]: y1[i,int(j)] = 1\n",
    "    # print(y0[:5])\n",
    "            \n",
    "    return f1_score(y0, y1, average='macro')"
   ]
  },
  {
   "cell_type": "code",
   "execution_count": 210,
   "metadata": {},
   "outputs": [
    {
     "data": {
      "text/plain": [
       "0.7512368342677388"
      ]
     },
     "execution_count": 210,
     "metadata": {},
     "output_type": "execute_result"
    }
   ],
   "source": [
    "f1_sub(fname,'sub/protein_classification.csv')"
   ]
  },
  {
   "cell_type": "code",
   "execution_count": 211,
   "metadata": {},
   "outputs": [
    {
     "data": {
      "text/plain": [
       "0.5962398361591438"
      ]
     },
     "execution_count": 211,
     "metadata": {},
     "output_type": "execute_result"
    }
   ],
   "source": [
    "f1_sub(fname,'sub/submit_InceptionV3.csv')"
   ]
  },
  {
   "cell_type": "code",
   "execution_count": 212,
   "metadata": {},
   "outputs": [
    {
     "data": {
      "text/plain": [
       "0.5783064676976434"
      ]
     },
     "execution_count": 212,
     "metadata": {},
     "output_type": "execute_result"
    }
   ],
   "source": [
    "f1_sub(fname,'sub/submit_InceptionResNetV2_3.csv')"
   ]
  },
  {
   "cell_type": "code",
   "execution_count": 213,
   "metadata": {},
   "outputs": [
    {
     "data": {
      "text/plain": [
       "0.6451386493533474"
      ]
     },
     "execution_count": 213,
     "metadata": {},
     "output_type": "execute_result"
    }
   ],
   "source": [
    "f1_sub(fname,'sub/se_resnext5.csv')"
   ]
  },
  {
   "cell_type": "code",
   "execution_count": 214,
   "metadata": {},
   "outputs": [
    {
     "data": {
      "text/plain": [
       "0.8707000364128348"
      ]
     },
     "execution_count": 214,
     "metadata": {},
     "output_type": "execute_result"
    }
   ],
   "source": [
    "f1_sub(fname,'sub/resnet34_0.csv')"
   ]
  },
  {
   "cell_type": "code",
   "execution_count": 215,
   "metadata": {},
   "outputs": [
    {
     "data": {
      "text/plain": [
       "0.8668413698190406"
      ]
     },
     "execution_count": 215,
     "metadata": {},
     "output_type": "execute_result"
    }
   ],
   "source": [
    "f1_sub(fname,'sub/ens0.csv')"
   ]
  },
  {
   "cell_type": "code",
   "execution_count": 216,
   "metadata": {},
   "outputs": [
    {
     "data": {
      "text/plain": [
       "0.6432439747575565"
      ]
     },
     "execution_count": 216,
     "metadata": {},
     "output_type": "execute_result"
    }
   ],
   "source": [
    "f1_sub('bojan/submit_InceptionV3.csv','sub/submit_InceptionV3.csv')"
   ]
  },
  {
   "cell_type": "code",
   "execution_count": 217,
   "metadata": {},
   "outputs": [
    {
     "data": {
      "text/plain": [
       "0.5987392720028134"
      ]
     },
     "execution_count": 217,
     "metadata": {},
     "output_type": "execute_result"
    }
   ],
   "source": [
    "f1_sub('bojan/inceptionv3_2.csv','sub/submit_InceptionV3.csv')"
   ]
  },
  {
   "cell_type": "code",
   "execution_count": 218,
   "metadata": {},
   "outputs": [
    {
     "data": {
      "text/plain": [
       "0.4642857142857143"
      ]
     },
     "execution_count": 218,
     "metadata": {},
     "output_type": "execute_result"
    }
   ],
   "source": [
    "f1_sub('bojan/inceptionv3_0.csv','bojan/inceptionv3_1.csv')"
   ]
  },
  {
   "cell_type": "code",
   "execution_count": 219,
   "metadata": {},
   "outputs": [
    {
     "data": {
      "text/plain": [
       "0.1426221052396753"
      ]
     },
     "execution_count": 219,
     "metadata": {},
     "output_type": "execute_result"
    }
   ],
   "source": [
    "f1_sub('bojan/inceptionv3_0.csv','bojan/inceptionv3_2.csv')"
   ]
  },
  {
   "cell_type": "code",
   "execution_count": 220,
   "metadata": {},
   "outputs": [
    {
     "data": {
      "text/plain": [
       "0.5918623923200268"
      ]
     },
     "execution_count": 220,
     "metadata": {},
     "output_type": "execute_result"
    }
   ],
   "source": [
    "f1_sub('sub/submit_InceptionResNetV2_3.csv','sub/submit_InceptionV3.csv')"
   ]
  },
  {
   "cell_type": "code",
   "execution_count": 221,
   "metadata": {},
   "outputs": [
    {
     "data": {
      "text/plain": [
       "0.6575760350950599"
      ]
     },
     "execution_count": 221,
     "metadata": {},
     "output_type": "execute_result"
    }
   ],
   "source": [
    "f1_sub('sub/submit_InceptionResNetV2_3.csv','bojan/inceptionresnetv2_1.csv')"
   ]
  },
  {
   "cell_type": "code",
   "execution_count": null,
   "metadata": {},
   "outputs": [],
   "source": []
  }
 ],
 "metadata": {
  "kernelspec": {
   "display_name": "Python 3",
   "language": "python",
   "name": "python3"
  },
  "language_info": {
   "codemirror_mode": {
    "name": "ipython",
    "version": 3
   },
   "file_extension": ".py",
   "mimetype": "text/x-python",
   "name": "python",
   "nbconvert_exporter": "python",
   "pygments_lexer": "ipython3",
   "version": "3.6.6"
  }
 },
 "nbformat": 4,
 "nbformat_minor": 2
}
