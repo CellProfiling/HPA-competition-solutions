{
 "cells": [
  {
   "cell_type": "code",
   "execution_count": 225,
   "metadata": {},
   "outputs": [],
   "source": [
    "# pytorch models with folds\n",
    "mnames = ['se_resnext_d10','se_resnext_d11','iv3_a3','iv3_a4','iv3_a5','iv3_a6',\n",
    "          'resnet_a10','resnet_a11','resnet_a13','resnet_a15',\n",
    "          'resnet_b15','resnet_b18',\n",
    "          'nas_a7','irv2_a4','irv2_a6',\n",
    "          'se_resnet_a18','se_resnet_b18','se_resnet_b22',\n",
    "          'se_resnext_e11',\n",
    "          'dpn_a0','dpn_a7','dpn_b6']\n",
    "special = 'iv3_a6'\n",
    "nfold = 4"
   ]
  },
  {
   "cell_type": "code",
   "execution_count": 226,
   "metadata": {},
   "outputs": [],
   "source": [
    "import numpy as np\n",
    "import pandas as pd\n",
    "import pickle\n",
    "import os\n",
    "from random import randint\n",
    "\n",
    "import matplotlib.pyplot as plt\n",
    "plt.style.use('seaborn-white')\n",
    "import seaborn as sns\n",
    "sns.set_style(\"white\")\n",
    "\n",
    "from sklearn.model_selection import train_test_split\n",
    "\n",
    "from keras.preprocessing.image import load_img\n",
    "from keras import Model\n",
    "from keras.callbacks import EarlyStopping, ModelCheckpoint, ReduceLROnPlateau\n",
    "from keras.models import load_model\n",
    "from keras.optimizers import Adam\n",
    "from keras.utils.vis_utils import plot_model\n",
    "from keras.preprocessing.image import ImageDataGenerator\n",
    "from keras.layers import Input, Conv2D, Conv2DTranspose, Concatenate, concatenate\n",
    "from keras.layers import Dense, GlobalAveragePooling2D, Reshape, Lambda, Activation\n",
    "from keras.layers import UpSampling2D, Dropout, BatchNormalization, MaxPooling2D\n",
    "from keras.losses import binary_crossentropy\n",
    "from keras import backend as K\n",
    "from keras.applications import MobileNet\n",
    "\n",
    "import pydensecrf.densecrf as dcrf\n",
    "from pydensecrf.utils import unary_from_labels, create_pairwise_bilateral\n",
    "from skimage.color import gray2rgb\n",
    "from skimage.color import rgb2gray\n",
    "from skimage.transform import resize\n",
    "from skimage.morphology import opening, closing\n",
    "\n",
    "from scipy.special import logit, expit\n",
    "import scipy.optimize as opt\n",
    "from sklearn.model_selection import StratifiedKFold\n",
    "\n",
    "import gc\n",
    "import cv2\n",
    "from tqdm import tqdm_notebook\n",
    "\n",
    "from sklearn.metrics import jaccard_similarity_score, f1_score\n",
    "\n",
    "# from metrics import iou_metric, iou_metric_batch\n",
    "# from metric import mean_iou"
   ]
  },
  {
   "cell_type": "code",
   "execution_count": 227,
   "metadata": {},
   "outputs": [],
   "source": [
    "PATH_TO_TRAIN = './train/'\n",
    "PATH_TO_TEST = './test/'\n",
    "PATH_TO_TARGET = './train.csv'\n",
    "PATH_TO_SUB = './sample_submission.csv'\n",
    "\n",
    "LABEL_MAP = {\n",
    "0: \"Nucleoplasm\" ,\n",
    "1: \"Nuclear membrane\"   ,\n",
    "2: \"Nucleoli\"   ,\n",
    "3: \"Nucleoli fibrillar center\",   \n",
    "4: \"Nuclear speckles\"   ,\n",
    "5: \"Nuclear bodies\"   ,\n",
    "6: \"Endoplasmic reticulum\"   ,\n",
    "7: \"Golgi apparatus\"  ,\n",
    "8: \"Peroxisomes\"   ,\n",
    "9:  \"Endosomes\"   ,\n",
    "10: \"Lysosomes\"   ,\n",
    "11: \"Intermediate filaments\"  , \n",
    "12: \"Actin filaments\"   ,\n",
    "13: \"Focal adhesion sites\"  ,\n",
    "14: \"Microtubules\"   ,\n",
    "15: \"Microtubule ends\"   ,\n",
    "16: \"Cytokinetic bridge\"   ,\n",
    "17: \"Mitotic spindle\"  ,\n",
    "18: \"Microtubule organizing center\",  \n",
    "19: \"Centrosome\",\n",
    "20: \"Lipid droplets\"   ,\n",
    "21: \"Plasma membrane\"  ,\n",
    "22: \"Cell junctions\"   ,\n",
    "23: \"Mitochondria\"   ,\n",
    "24: \"Aggresome\"   ,\n",
    "25: \"Cytosol\" ,\n",
    "26: \"Cytoplasmic bodies\",\n",
    "27: \"Rods & rings\"}"
   ]
  },
  {
   "cell_type": "code",
   "execution_count": 228,
   "metadata": {
    "_uuid": "95e82b2a7155377310f1d743dd8b077f99cba657",
    "collapsed": true
   },
   "outputs": [
    {
     "name": "stdout",
     "output_type": "stream",
     "text": [
      "                                       Target\n",
      "Id                                           \n",
      "00070df0-bbc3-11e8-b2bc-ac1f6b6435d0     16 0\n",
      "000a6c98-bb9b-11e8-b2b9-ac1f6b6435d0  7 1 2 0\n",
      "000a9596-bbc4-11e8-b2bc-ac1f6b6435d0        5\n",
      "000c99ba-bba4-11e8-b2b9-ac1f6b6435d0        1\n",
      "001838f8-bbca-11e8-b2bc-ac1f6b6435d0       18\n",
      "(31072, 1)\n"
     ]
    }
   ],
   "source": [
    "df = pd.read_csv(PATH_TO_TARGET)\n",
    "df.set_index('Id',inplace=True)\n",
    "print(df.head())\n",
    "print(df.shape)"
   ]
  },
  {
   "cell_type": "code",
   "execution_count": 229,
   "metadata": {
    "_uuid": "95e82b2a7155377310f1d743dd8b077f99cba657",
    "collapsed": true
   },
   "outputs": [
    {
     "name": "stdout",
     "output_type": "stream",
     "text": [
      "                                      Predicted\n",
      "Id                                             \n",
      "00008af0-bad0-11e8-b2b8-ac1f6b6435d0          0\n",
      "0000a892-bacf-11e8-b2b8-ac1f6b6435d0          0\n",
      "0006faa6-bac7-11e8-b2b7-ac1f6b6435d0          0\n",
      "0008baca-bad7-11e8-b2b9-ac1f6b6435d0          0\n",
      "000cce7e-bad4-11e8-b2b8-ac1f6b6435d0          0\n",
      "(11702, 1)\n"
     ]
    }
   ],
   "source": [
    "file_list = list(df.index.values)\n",
    "\n",
    "ss = pd.read_csv(PATH_TO_SUB)\n",
    "ss.set_index('Id',inplace=True)\n",
    "print(ss.head())\n",
    "print(ss.shape)"
   ]
  },
  {
   "cell_type": "code",
   "execution_count": 230,
   "metadata": {},
   "outputs": [],
   "source": [
    "# train_df[\"images\"] = [np.array(load_img(\"images/{}.png\".format(idx), color_mode = \"grayscale\")) / 255 \\\n",
    "#                       for idx in tqdm_notebook(train_df.index)]\n",
    "\n",
    "# train_df[\"masks\"] = [np.array(load_img(\"masks/{}.png\".format(idx), color_mode = \"grayscale\")) / 255 \\\n",
    "#                      for idx in tqdm_notebook(train_df.index)]"
   ]
  },
  {
   "cell_type": "code",
   "execution_count": 231,
   "metadata": {},
   "outputs": [
    {
     "data": {
      "text/plain": [
       "Index(['Target'], dtype='object')"
      ]
     },
     "execution_count": 231,
     "metadata": {},
     "output_type": "execute_result"
    }
   ],
   "source": [
    "df.columns"
   ]
  },
  {
   "cell_type": "code",
   "execution_count": 232,
   "metadata": {},
   "outputs": [],
   "source": [
    "oof = df.copy()\n",
    "# print(oof.head())\n",
    "# print(oof.shape)\n",
    "eps = 1e-6\n",
    "\n",
    "for k,m in enumerate(mnames):\n",
    "    # print(m),\n",
    "    first = True\n",
    "    for fold in range(nfold):\n",
    "        idf, pooff, yooff = pickle.load(open('oof/'+m+'_'+str(fold)+'.pkl','rb'))\n",
    "        # change to probability scale\n",
    "        pooff = expit(pooff)\n",
    "        \n",
    "        # average in any replicates\n",
    "        nx = 0\n",
    "        for rep in ['a','b','c','d','e','f','g','h','i']:\n",
    "            fname = 'oof/'+m+rep+'_'+str(fold)+'.pkl'\n",
    "            if os.path.exists(fname):\n",
    "                print('found replicate ' + fname + ' for ' + m)\n",
    "                if m in three_baggers:\n",
    "                    idfx, pooffx, logitx = pickle.load(open(fname,'rb'))\n",
    "                    logitf += logitx\n",
    "                else:\n",
    "                    idfx, pooffx = pickle.load(open(fname,'rb'))\n",
    "                  \n",
    "                # change to probability scale\n",
    "                pooffx = expit(pooffx)\n",
    "                pooff += pooffx \n",
    "                nx = nx + 1\n",
    "        if nx: pooff /= (nx+1.) \n",
    "\n",
    "        if first:\n",
    "            id = idf\n",
    "            poof = pooff.copy()\n",
    "            yoof = yooff.copy()\n",
    "            first = False\n",
    "        else:\n",
    "            id = id + idf\n",
    "            poof = np.concatenate((poof,pooff))\n",
    "            yoof = np.concatenate((yoof,yooff))\n",
    "    \n",
    "    mdf = pd.DataFrame({'Id':id})\n",
    "    # print(poof.shape)\n",
    "    if k==0: mdf['y'] = [yoof[i] for i in range(yoof.shape[0])]\n",
    "    mdf[m] = [poof[i] for i in range(poof.shape[0])]\n",
    "    mdf.set_index('Id',inplace=True)\n",
    "    oof = oof.join(mdf)\n"
   ]
  },
  {
   "cell_type": "code",
   "execution_count": 233,
   "metadata": {},
   "outputs": [
    {
     "name": "stdout",
     "output_type": "stream",
     "text": [
      "(31072, 24)\n"
     ]
    }
   ],
   "source": [
    "# print(oof.head())\n",
    "print(oof.shape)"
   ]
  },
  {
   "cell_type": "code",
   "execution_count": 234,
   "metadata": {},
   "outputs": [
    {
     "data": {
      "text/plain": [
       "Index(['Target', 'y', 'se_resnext_d10', 'se_resnext_d11', 'iv3_a3', 'iv3_a4',\n",
       "       'iv3_a5', 'iv3_a6', 'resnet_a10', 'resnet_a11', 'resnet_a13',\n",
       "       'resnet_a15', 'resnet_b15', 'resnet_b18', 'nas_a7', 'irv2_a4',\n",
       "       'irv2_a6', 'se_resnet_a18', 'se_resnet_b18', 'se_resnet_b22',\n",
       "       'se_resnext_e11', 'dpn_a0', 'dpn_a7', 'dpn_b6'],\n",
       "      dtype='object')"
      ]
     },
     "execution_count": 234,
     "metadata": {},
     "output_type": "execute_result"
    }
   ],
   "source": [
    "oof.columns"
   ]
  },
  {
   "cell_type": "code",
   "execution_count": 235,
   "metadata": {},
   "outputs": [
    {
     "name": "stdout",
     "output_type": "stream",
     "text": [
      "(31072, 24)\n"
     ]
    }
   ],
   "source": [
    "vp = oof.loc[oof['y'].notnull()]\n",
    "print(vp.shape)"
   ]
  },
  {
   "cell_type": "code",
   "execution_count": 236,
   "metadata": {},
   "outputs": [
    {
     "data": {
      "text/html": [
       "<div>\n",
       "<style scoped>\n",
       "    .dataframe tbody tr th:only-of-type {\n",
       "        vertical-align: middle;\n",
       "    }\n",
       "\n",
       "    .dataframe tbody tr th {\n",
       "        vertical-align: top;\n",
       "    }\n",
       "\n",
       "    .dataframe thead th {\n",
       "        text-align: right;\n",
       "    }\n",
       "</style>\n",
       "<table border=\"1\" class=\"dataframe\">\n",
       "  <thead>\n",
       "    <tr style=\"text-align: right;\">\n",
       "      <th></th>\n",
       "      <th>Target</th>\n",
       "      <th>y</th>\n",
       "      <th>se_resnext_d10</th>\n",
       "      <th>se_resnext_d11</th>\n",
       "      <th>iv3_a3</th>\n",
       "      <th>iv3_a4</th>\n",
       "      <th>iv3_a5</th>\n",
       "      <th>iv3_a6</th>\n",
       "      <th>resnet_a10</th>\n",
       "      <th>resnet_a11</th>\n",
       "      <th>...</th>\n",
       "      <th>nas_a7</th>\n",
       "      <th>irv2_a4</th>\n",
       "      <th>irv2_a6</th>\n",
       "      <th>se_resnet_a18</th>\n",
       "      <th>se_resnet_b18</th>\n",
       "      <th>se_resnet_b22</th>\n",
       "      <th>se_resnext_e11</th>\n",
       "      <th>dpn_a0</th>\n",
       "      <th>dpn_a7</th>\n",
       "      <th>dpn_b6</th>\n",
       "    </tr>\n",
       "    <tr>\n",
       "      <th>Id</th>\n",
       "      <th></th>\n",
       "      <th></th>\n",
       "      <th></th>\n",
       "      <th></th>\n",
       "      <th></th>\n",
       "      <th></th>\n",
       "      <th></th>\n",
       "      <th></th>\n",
       "      <th></th>\n",
       "      <th></th>\n",
       "      <th></th>\n",
       "      <th></th>\n",
       "      <th></th>\n",
       "      <th></th>\n",
       "      <th></th>\n",
       "      <th></th>\n",
       "      <th></th>\n",
       "      <th></th>\n",
       "      <th></th>\n",
       "      <th></th>\n",
       "      <th></th>\n",
       "    </tr>\n",
       "  </thead>\n",
       "  <tbody>\n",
       "    <tr>\n",
       "      <th>00070df0-bbc3-11e8-b2bc-ac1f6b6435d0</th>\n",
       "      <td>16 0</td>\n",
       "      <td>[1.0, 0.0, 0.0, 0.0, 0.0, 0.0, 0.0, 0.0, 0.0, ...</td>\n",
       "      <td>[0.97631204, 0.00040827369, 0.027155839, 0.002...</td>\n",
       "      <td>[0.3902099, 0.0002638064, 0.0026036645, 0.0003...</td>\n",
       "      <td>[0.9891422, 6.656991e-05, 0.0013477312, 0.0003...</td>\n",
       "      <td>[0.40627512, 0.00090589176, 0.0013553868, 0.00...</td>\n",
       "      <td>[0.8239573, 0.00023192668, 0.009582425, 0.0020...</td>\n",
       "      <td>[0.23881483, 4.7133985e-06, 0.0017503233, 0.00...</td>\n",
       "      <td>[0.49014178, 0.10754361, 0.2720811, 0.19139074...</td>\n",
       "      <td>[0.41386524, 0.09576756, 0.28844136, 0.0747008...</td>\n",
       "      <td>...</td>\n",
       "      <td>[0.99999774, 4.6615467e-10, 3.4605725e-07, 3.6...</td>\n",
       "      <td>[0.9150919, 0.0009935455, 0.15155481, 0.011927...</td>\n",
       "      <td>[0.9441595, 0.0001919169, 0.022507522, 0.00050...</td>\n",
       "      <td>[0.5821155, 3.1793573e-07, 0.0005105834, 8.202...</td>\n",
       "      <td>[0.31098336, 6.4377457e-07, 8.852516e-06, 5.21...</td>\n",
       "      <td>[0.9918834, 3.232981e-07, 1.6308877e-05, 1.594...</td>\n",
       "      <td>[0.7366756, 0.00059972814, 0.003290994, 0.0012...</td>\n",
       "      <td>[0.44752684, 0.0026241515, 0.005336848, 0.0005...</td>\n",
       "      <td>[0.7728552, 6.490296e-05, 1.4489156e-05, 1.419...</td>\n",
       "      <td>[0.1896649, 0.0009342494, 0.00086473586, 1.699...</td>\n",
       "    </tr>\n",
       "    <tr>\n",
       "      <th>000a6c98-bb9b-11e8-b2b9-ac1f6b6435d0</th>\n",
       "      <td>7 1 2 0</td>\n",
       "      <td>[1.0, 1.0, 1.0, 0.0, 0.0, 0.0, 0.0, 1.0, 0.0, ...</td>\n",
       "      <td>[0.9521354, 0.9527805, 0.0019924014, 4.250244e...</td>\n",
       "      <td>[0.8342673, 0.9976215, 6.6813234e-05, 1.693680...</td>\n",
       "      <td>[0.7078934, 0.8210275, 0.0863061, 0.0353334, 0...</td>\n",
       "      <td>[0.27613226, 0.99382716, 0.1513784, 0.00552231...</td>\n",
       "      <td>[0.1841979, 0.9997899, 0.10534124, 0.001126670...</td>\n",
       "      <td>[0.7802134, 0.99731183, 0.18973923, 0.00180515...</td>\n",
       "      <td>[0.6304316, 0.5312503, 0.23735237, 0.1614804, ...</td>\n",
       "      <td>[0.58571404, 0.866836, 0.4812426, 0.10373016, ...</td>\n",
       "      <td>...</td>\n",
       "      <td>[0.8822161, 0.99998224, 0.42744225, 0.00021715...</td>\n",
       "      <td>[0.7700987, 0.9785033, 0.40990007, 0.0399978, ...</td>\n",
       "      <td>[0.73280996, 0.92130387, 0.9701412, 0.00067955...</td>\n",
       "      <td>[0.9967463, 0.61745274, 0.98285484, 0.02495887...</td>\n",
       "      <td>[0.9953334, 0.9985536, 0.99331254, 0.000328142...</td>\n",
       "      <td>[0.99778783, 0.99985254, 0.9828677, 6.398943e-...</td>\n",
       "      <td>[0.9098575, 0.8040256, 0.0035695233, 5.78177e-...</td>\n",
       "      <td>[0.9206252, 0.6409931, 0.9673797, 0.0036114666...</td>\n",
       "      <td>[0.83509785, 0.6088871, 0.82174736, 0.00049790...</td>\n",
       "      <td>[0.5315946, 0.9996326, 0.99990976, 0.000108916...</td>\n",
       "    </tr>\n",
       "    <tr>\n",
       "      <th>000a9596-bbc4-11e8-b2bc-ac1f6b6435d0</th>\n",
       "      <td>5</td>\n",
       "      <td>[0.0, 0.0, 0.0, 0.0, 0.0, 1.0, 0.0, 0.0, 0.0, ...</td>\n",
       "      <td>[0.5020701, 0.0062458036, 0.025552707, 0.03773...</td>\n",
       "      <td>[0.46325088, 0.0016569613, 0.016555335, 0.0069...</td>\n",
       "      <td>[0.5760826, 0.0006748021, 0.0033273406, 0.0624...</td>\n",
       "      <td>[0.2884413, 0.004674611, 0.05430049, 0.0792048...</td>\n",
       "      <td>[0.80905807, 0.0015114062, 0.3456989, 0.615903...</td>\n",
       "      <td>[0.9392793, 0.0016193952, 0.5919029, 0.1871529...</td>\n",
       "      <td>[0.47297847, 0.113954246, 0.16074447, 0.449507...</td>\n",
       "      <td>[0.49674734, 0.06255102, 0.26781502, 0.1932950...</td>\n",
       "      <td>...</td>\n",
       "      <td>[0.9935126, 7.240996e-07, 0.9220826, 0.0012048...</td>\n",
       "      <td>[0.5839344, 0.0020056465, 0.17583431, 0.460615...</td>\n",
       "      <td>[0.7437609, 0.0036200495, 0.12894857, 0.603494...</td>\n",
       "      <td>[0.9903351, 0.00057298824, 0.86397445, 0.05858...</td>\n",
       "      <td>[0.99911934, 0.0009379225, 0.9092788, 0.019548...</td>\n",
       "      <td>[0.9998677, 0.0017638305, 0.9878178, 0.0016283...</td>\n",
       "      <td>[0.39966783, 0.0019521557, 0.024693796, 0.0108...</td>\n",
       "      <td>[0.74704707, 0.0009578496, 0.08297252, 0.59388...</td>\n",
       "      <td>[0.7423774, 0.00036342928, 0.27006754, 0.76644...</td>\n",
       "      <td>[0.8873165, 0.0012255692, 0.71309763, 0.897055...</td>\n",
       "    </tr>\n",
       "    <tr>\n",
       "      <th>000c99ba-bba4-11e8-b2b9-ac1f6b6435d0</th>\n",
       "      <td>1</td>\n",
       "      <td>[0.0, 1.0, 0.0, 0.0, 0.0, 0.0, 0.0, 0.0, 0.0, ...</td>\n",
       "      <td>[0.98463815, 0.99956995, 9.431456e-05, 0.00033...</td>\n",
       "      <td>[0.8436162, 0.99856025, 0.0014307043, 0.000325...</td>\n",
       "      <td>[0.22251642, 0.9593693, 0.031344388, 0.0033644...</td>\n",
       "      <td>[0.03656807, 0.9976897, 0.013786195, 0.0005486...</td>\n",
       "      <td>[0.045751065, 0.9996164, 0.0020771865, 0.00029...</td>\n",
       "      <td>[0.12870792, 0.99676824, 0.003474811, 0.000910...</td>\n",
       "      <td>[0.5977819, 0.87700015, 0.13550837, 0.06767246...</td>\n",
       "      <td>[0.39042625, 0.78161925, 0.07551139, 0.0539259...</td>\n",
       "      <td>...</td>\n",
       "      <td>[1.0902692e-05, 0.997306, 0.0018032556, 6.5597...</td>\n",
       "      <td>[0.4540487, 0.9993031, 0.0049931128, 0.0017085...</td>\n",
       "      <td>[0.0058404896, 0.99995494, 0.0012768296, 0.001...</td>\n",
       "      <td>[0.18527779, 0.99990976, 1.2020706e-05, 1.6360...</td>\n",
       "      <td>[0.7040137, 0.9994106, 1.0928184e-06, 4.927297...</td>\n",
       "      <td>[0.14544973, 0.99997544, 1.4972135e-06, 1.7308...</td>\n",
       "      <td>[0.51575476, 0.995539, 0.0026553355, 0.0016633...</td>\n",
       "      <td>[0.20079435, 0.9992938, 0.0006392636, 0.000151...</td>\n",
       "      <td>[0.060861263, 0.99979025, 0.00018425095, 7.219...</td>\n",
       "      <td>[0.37822622, 0.99558544, 7.2230985e-05, 0.0001...</td>\n",
       "    </tr>\n",
       "    <tr>\n",
       "      <th>001838f8-bbca-11e8-b2bc-ac1f6b6435d0</th>\n",
       "      <td>18</td>\n",
       "      <td>[0.0, 0.0, 0.0, 0.0, 0.0, 0.0, 0.0, 0.0, 0.0, ...</td>\n",
       "      <td>[0.0012811207, 6.243958e-05, 0.066232264, 0.01...</td>\n",
       "      <td>[0.0033729093, 3.2519034e-05, 0.00063626486, 0...</td>\n",
       "      <td>[0.033586487, 3.8688069e-07, 0.09380202, 0.097...</td>\n",
       "      <td>[0.049450602, 4.0440483e-07, 0.011424261, 0.00...</td>\n",
       "      <td>[0.04662413, 1.3005252e-06, 0.000994107, 1.941...</td>\n",
       "      <td>[0.04881347, 9.554996e-07, 0.0042470666, 0.000...</td>\n",
       "      <td>[0.19601722, 0.06441643, 0.40898222, 0.2023934...</td>\n",
       "      <td>[0.17056409, 0.04018897, 0.09311058, 0.0446591...</td>\n",
       "      <td>...</td>\n",
       "      <td>[0.0048261434, 2.3863946e-05, 2.306125e-05, 6....</td>\n",
       "      <td>[0.16525216, 0.0013967467, 0.003257171, 5.7940...</td>\n",
       "      <td>[0.17118166, 1.7280465e-05, 0.0016045636, 9.14...</td>\n",
       "      <td>[0.07497809, 0.0051055895, 0.13871993, 0.00179...</td>\n",
       "      <td>[0.022577876, 0.0015860815, 0.0019575544, 0.00...</td>\n",
       "      <td>[4.730122e-05, 9.101826e-05, 0.0013030277, 2.5...</td>\n",
       "      <td>[0.001948853, 0.00017553473, 0.0044408175, 0.0...</td>\n",
       "      <td>[0.2739024, 0.0010013202, 0.05302975, 9.964523...</td>\n",
       "      <td>[0.019757444, 4.205371e-05, 0.020966282, 7.382...</td>\n",
       "      <td>[0.8805184, 0.0008217318, 0.17520824, 0.000154...</td>\n",
       "    </tr>\n",
       "  </tbody>\n",
       "</table>\n",
       "<p>5 rows × 24 columns</p>\n",
       "</div>"
      ],
      "text/plain": [
       "                                       Target  \\\n",
       "Id                                              \n",
       "00070df0-bbc3-11e8-b2bc-ac1f6b6435d0     16 0   \n",
       "000a6c98-bb9b-11e8-b2b9-ac1f6b6435d0  7 1 2 0   \n",
       "000a9596-bbc4-11e8-b2bc-ac1f6b6435d0        5   \n",
       "000c99ba-bba4-11e8-b2b9-ac1f6b6435d0        1   \n",
       "001838f8-bbca-11e8-b2bc-ac1f6b6435d0       18   \n",
       "\n",
       "                                                                                      y  \\\n",
       "Id                                                                                        \n",
       "00070df0-bbc3-11e8-b2bc-ac1f6b6435d0  [1.0, 0.0, 0.0, 0.0, 0.0, 0.0, 0.0, 0.0, 0.0, ...   \n",
       "000a6c98-bb9b-11e8-b2b9-ac1f6b6435d0  [1.0, 1.0, 1.0, 0.0, 0.0, 0.0, 0.0, 1.0, 0.0, ...   \n",
       "000a9596-bbc4-11e8-b2bc-ac1f6b6435d0  [0.0, 0.0, 0.0, 0.0, 0.0, 1.0, 0.0, 0.0, 0.0, ...   \n",
       "000c99ba-bba4-11e8-b2b9-ac1f6b6435d0  [0.0, 1.0, 0.0, 0.0, 0.0, 0.0, 0.0, 0.0, 0.0, ...   \n",
       "001838f8-bbca-11e8-b2bc-ac1f6b6435d0  [0.0, 0.0, 0.0, 0.0, 0.0, 0.0, 0.0, 0.0, 0.0, ...   \n",
       "\n",
       "                                                                         se_resnext_d10  \\\n",
       "Id                                                                                        \n",
       "00070df0-bbc3-11e8-b2bc-ac1f6b6435d0  [0.97631204, 0.00040827369, 0.027155839, 0.002...   \n",
       "000a6c98-bb9b-11e8-b2b9-ac1f6b6435d0  [0.9521354, 0.9527805, 0.0019924014, 4.250244e...   \n",
       "000a9596-bbc4-11e8-b2bc-ac1f6b6435d0  [0.5020701, 0.0062458036, 0.025552707, 0.03773...   \n",
       "000c99ba-bba4-11e8-b2b9-ac1f6b6435d0  [0.98463815, 0.99956995, 9.431456e-05, 0.00033...   \n",
       "001838f8-bbca-11e8-b2bc-ac1f6b6435d0  [0.0012811207, 6.243958e-05, 0.066232264, 0.01...   \n",
       "\n",
       "                                                                         se_resnext_d11  \\\n",
       "Id                                                                                        \n",
       "00070df0-bbc3-11e8-b2bc-ac1f6b6435d0  [0.3902099, 0.0002638064, 0.0026036645, 0.0003...   \n",
       "000a6c98-bb9b-11e8-b2b9-ac1f6b6435d0  [0.8342673, 0.9976215, 6.6813234e-05, 1.693680...   \n",
       "000a9596-bbc4-11e8-b2bc-ac1f6b6435d0  [0.46325088, 0.0016569613, 0.016555335, 0.0069...   \n",
       "000c99ba-bba4-11e8-b2b9-ac1f6b6435d0  [0.8436162, 0.99856025, 0.0014307043, 0.000325...   \n",
       "001838f8-bbca-11e8-b2bc-ac1f6b6435d0  [0.0033729093, 3.2519034e-05, 0.00063626486, 0...   \n",
       "\n",
       "                                                                                 iv3_a3  \\\n",
       "Id                                                                                        \n",
       "00070df0-bbc3-11e8-b2bc-ac1f6b6435d0  [0.9891422, 6.656991e-05, 0.0013477312, 0.0003...   \n",
       "000a6c98-bb9b-11e8-b2b9-ac1f6b6435d0  [0.7078934, 0.8210275, 0.0863061, 0.0353334, 0...   \n",
       "000a9596-bbc4-11e8-b2bc-ac1f6b6435d0  [0.5760826, 0.0006748021, 0.0033273406, 0.0624...   \n",
       "000c99ba-bba4-11e8-b2b9-ac1f6b6435d0  [0.22251642, 0.9593693, 0.031344388, 0.0033644...   \n",
       "001838f8-bbca-11e8-b2bc-ac1f6b6435d0  [0.033586487, 3.8688069e-07, 0.09380202, 0.097...   \n",
       "\n",
       "                                                                                 iv3_a4  \\\n",
       "Id                                                                                        \n",
       "00070df0-bbc3-11e8-b2bc-ac1f6b6435d0  [0.40627512, 0.00090589176, 0.0013553868, 0.00...   \n",
       "000a6c98-bb9b-11e8-b2b9-ac1f6b6435d0  [0.27613226, 0.99382716, 0.1513784, 0.00552231...   \n",
       "000a9596-bbc4-11e8-b2bc-ac1f6b6435d0  [0.2884413, 0.004674611, 0.05430049, 0.0792048...   \n",
       "000c99ba-bba4-11e8-b2b9-ac1f6b6435d0  [0.03656807, 0.9976897, 0.013786195, 0.0005486...   \n",
       "001838f8-bbca-11e8-b2bc-ac1f6b6435d0  [0.049450602, 4.0440483e-07, 0.011424261, 0.00...   \n",
       "\n",
       "                                                                                 iv3_a5  \\\n",
       "Id                                                                                        \n",
       "00070df0-bbc3-11e8-b2bc-ac1f6b6435d0  [0.8239573, 0.00023192668, 0.009582425, 0.0020...   \n",
       "000a6c98-bb9b-11e8-b2b9-ac1f6b6435d0  [0.1841979, 0.9997899, 0.10534124, 0.001126670...   \n",
       "000a9596-bbc4-11e8-b2bc-ac1f6b6435d0  [0.80905807, 0.0015114062, 0.3456989, 0.615903...   \n",
       "000c99ba-bba4-11e8-b2b9-ac1f6b6435d0  [0.045751065, 0.9996164, 0.0020771865, 0.00029...   \n",
       "001838f8-bbca-11e8-b2bc-ac1f6b6435d0  [0.04662413, 1.3005252e-06, 0.000994107, 1.941...   \n",
       "\n",
       "                                                                                 iv3_a6  \\\n",
       "Id                                                                                        \n",
       "00070df0-bbc3-11e8-b2bc-ac1f6b6435d0  [0.23881483, 4.7133985e-06, 0.0017503233, 0.00...   \n",
       "000a6c98-bb9b-11e8-b2b9-ac1f6b6435d0  [0.7802134, 0.99731183, 0.18973923, 0.00180515...   \n",
       "000a9596-bbc4-11e8-b2bc-ac1f6b6435d0  [0.9392793, 0.0016193952, 0.5919029, 0.1871529...   \n",
       "000c99ba-bba4-11e8-b2b9-ac1f6b6435d0  [0.12870792, 0.99676824, 0.003474811, 0.000910...   \n",
       "001838f8-bbca-11e8-b2bc-ac1f6b6435d0  [0.04881347, 9.554996e-07, 0.0042470666, 0.000...   \n",
       "\n",
       "                                                                             resnet_a10  \\\n",
       "Id                                                                                        \n",
       "00070df0-bbc3-11e8-b2bc-ac1f6b6435d0  [0.49014178, 0.10754361, 0.2720811, 0.19139074...   \n",
       "000a6c98-bb9b-11e8-b2b9-ac1f6b6435d0  [0.6304316, 0.5312503, 0.23735237, 0.1614804, ...   \n",
       "000a9596-bbc4-11e8-b2bc-ac1f6b6435d0  [0.47297847, 0.113954246, 0.16074447, 0.449507...   \n",
       "000c99ba-bba4-11e8-b2b9-ac1f6b6435d0  [0.5977819, 0.87700015, 0.13550837, 0.06767246...   \n",
       "001838f8-bbca-11e8-b2bc-ac1f6b6435d0  [0.19601722, 0.06441643, 0.40898222, 0.2023934...   \n",
       "\n",
       "                                                                             resnet_a11  \\\n",
       "Id                                                                                        \n",
       "00070df0-bbc3-11e8-b2bc-ac1f6b6435d0  [0.41386524, 0.09576756, 0.28844136, 0.0747008...   \n",
       "000a6c98-bb9b-11e8-b2b9-ac1f6b6435d0  [0.58571404, 0.866836, 0.4812426, 0.10373016, ...   \n",
       "000a9596-bbc4-11e8-b2bc-ac1f6b6435d0  [0.49674734, 0.06255102, 0.26781502, 0.1932950...   \n",
       "000c99ba-bba4-11e8-b2b9-ac1f6b6435d0  [0.39042625, 0.78161925, 0.07551139, 0.0539259...   \n",
       "001838f8-bbca-11e8-b2bc-ac1f6b6435d0  [0.17056409, 0.04018897, 0.09311058, 0.0446591...   \n",
       "\n",
       "                                                            ...                          \\\n",
       "Id                                                          ...                           \n",
       "00070df0-bbc3-11e8-b2bc-ac1f6b6435d0                        ...                           \n",
       "000a6c98-bb9b-11e8-b2b9-ac1f6b6435d0                        ...                           \n",
       "000a9596-bbc4-11e8-b2bc-ac1f6b6435d0                        ...                           \n",
       "000c99ba-bba4-11e8-b2b9-ac1f6b6435d0                        ...                           \n",
       "001838f8-bbca-11e8-b2bc-ac1f6b6435d0                        ...                           \n",
       "\n",
       "                                                                                 nas_a7  \\\n",
       "Id                                                                                        \n",
       "00070df0-bbc3-11e8-b2bc-ac1f6b6435d0  [0.99999774, 4.6615467e-10, 3.4605725e-07, 3.6...   \n",
       "000a6c98-bb9b-11e8-b2b9-ac1f6b6435d0  [0.8822161, 0.99998224, 0.42744225, 0.00021715...   \n",
       "000a9596-bbc4-11e8-b2bc-ac1f6b6435d0  [0.9935126, 7.240996e-07, 0.9220826, 0.0012048...   \n",
       "000c99ba-bba4-11e8-b2b9-ac1f6b6435d0  [1.0902692e-05, 0.997306, 0.0018032556, 6.5597...   \n",
       "001838f8-bbca-11e8-b2bc-ac1f6b6435d0  [0.0048261434, 2.3863946e-05, 2.306125e-05, 6....   \n",
       "\n",
       "                                                                                irv2_a4  \\\n",
       "Id                                                                                        \n",
       "00070df0-bbc3-11e8-b2bc-ac1f6b6435d0  [0.9150919, 0.0009935455, 0.15155481, 0.011927...   \n",
       "000a6c98-bb9b-11e8-b2b9-ac1f6b6435d0  [0.7700987, 0.9785033, 0.40990007, 0.0399978, ...   \n",
       "000a9596-bbc4-11e8-b2bc-ac1f6b6435d0  [0.5839344, 0.0020056465, 0.17583431, 0.460615...   \n",
       "000c99ba-bba4-11e8-b2b9-ac1f6b6435d0  [0.4540487, 0.9993031, 0.0049931128, 0.0017085...   \n",
       "001838f8-bbca-11e8-b2bc-ac1f6b6435d0  [0.16525216, 0.0013967467, 0.003257171, 5.7940...   \n",
       "\n",
       "                                                                                irv2_a6  \\\n",
       "Id                                                                                        \n",
       "00070df0-bbc3-11e8-b2bc-ac1f6b6435d0  [0.9441595, 0.0001919169, 0.022507522, 0.00050...   \n",
       "000a6c98-bb9b-11e8-b2b9-ac1f6b6435d0  [0.73280996, 0.92130387, 0.9701412, 0.00067955...   \n",
       "000a9596-bbc4-11e8-b2bc-ac1f6b6435d0  [0.7437609, 0.0036200495, 0.12894857, 0.603494...   \n",
       "000c99ba-bba4-11e8-b2b9-ac1f6b6435d0  [0.0058404896, 0.99995494, 0.0012768296, 0.001...   \n",
       "001838f8-bbca-11e8-b2bc-ac1f6b6435d0  [0.17118166, 1.7280465e-05, 0.0016045636, 9.14...   \n",
       "\n",
       "                                                                          se_resnet_a18  \\\n",
       "Id                                                                                        \n",
       "00070df0-bbc3-11e8-b2bc-ac1f6b6435d0  [0.5821155, 3.1793573e-07, 0.0005105834, 8.202...   \n",
       "000a6c98-bb9b-11e8-b2b9-ac1f6b6435d0  [0.9967463, 0.61745274, 0.98285484, 0.02495887...   \n",
       "000a9596-bbc4-11e8-b2bc-ac1f6b6435d0  [0.9903351, 0.00057298824, 0.86397445, 0.05858...   \n",
       "000c99ba-bba4-11e8-b2b9-ac1f6b6435d0  [0.18527779, 0.99990976, 1.2020706e-05, 1.6360...   \n",
       "001838f8-bbca-11e8-b2bc-ac1f6b6435d0  [0.07497809, 0.0051055895, 0.13871993, 0.00179...   \n",
       "\n",
       "                                                                          se_resnet_b18  \\\n",
       "Id                                                                                        \n",
       "00070df0-bbc3-11e8-b2bc-ac1f6b6435d0  [0.31098336, 6.4377457e-07, 8.852516e-06, 5.21...   \n",
       "000a6c98-bb9b-11e8-b2b9-ac1f6b6435d0  [0.9953334, 0.9985536, 0.99331254, 0.000328142...   \n",
       "000a9596-bbc4-11e8-b2bc-ac1f6b6435d0  [0.99911934, 0.0009379225, 0.9092788, 0.019548...   \n",
       "000c99ba-bba4-11e8-b2b9-ac1f6b6435d0  [0.7040137, 0.9994106, 1.0928184e-06, 4.927297...   \n",
       "001838f8-bbca-11e8-b2bc-ac1f6b6435d0  [0.022577876, 0.0015860815, 0.0019575544, 0.00...   \n",
       "\n",
       "                                                                          se_resnet_b22  \\\n",
       "Id                                                                                        \n",
       "00070df0-bbc3-11e8-b2bc-ac1f6b6435d0  [0.9918834, 3.232981e-07, 1.6308877e-05, 1.594...   \n",
       "000a6c98-bb9b-11e8-b2b9-ac1f6b6435d0  [0.99778783, 0.99985254, 0.9828677, 6.398943e-...   \n",
       "000a9596-bbc4-11e8-b2bc-ac1f6b6435d0  [0.9998677, 0.0017638305, 0.9878178, 0.0016283...   \n",
       "000c99ba-bba4-11e8-b2b9-ac1f6b6435d0  [0.14544973, 0.99997544, 1.4972135e-06, 1.7308...   \n",
       "001838f8-bbca-11e8-b2bc-ac1f6b6435d0  [4.730122e-05, 9.101826e-05, 0.0013030277, 2.5...   \n",
       "\n",
       "                                                                         se_resnext_e11  \\\n",
       "Id                                                                                        \n",
       "00070df0-bbc3-11e8-b2bc-ac1f6b6435d0  [0.7366756, 0.00059972814, 0.003290994, 0.0012...   \n",
       "000a6c98-bb9b-11e8-b2b9-ac1f6b6435d0  [0.9098575, 0.8040256, 0.0035695233, 5.78177e-...   \n",
       "000a9596-bbc4-11e8-b2bc-ac1f6b6435d0  [0.39966783, 0.0019521557, 0.024693796, 0.0108...   \n",
       "000c99ba-bba4-11e8-b2b9-ac1f6b6435d0  [0.51575476, 0.995539, 0.0026553355, 0.0016633...   \n",
       "001838f8-bbca-11e8-b2bc-ac1f6b6435d0  [0.001948853, 0.00017553473, 0.0044408175, 0.0...   \n",
       "\n",
       "                                                                                 dpn_a0  \\\n",
       "Id                                                                                        \n",
       "00070df0-bbc3-11e8-b2bc-ac1f6b6435d0  [0.44752684, 0.0026241515, 0.005336848, 0.0005...   \n",
       "000a6c98-bb9b-11e8-b2b9-ac1f6b6435d0  [0.9206252, 0.6409931, 0.9673797, 0.0036114666...   \n",
       "000a9596-bbc4-11e8-b2bc-ac1f6b6435d0  [0.74704707, 0.0009578496, 0.08297252, 0.59388...   \n",
       "000c99ba-bba4-11e8-b2b9-ac1f6b6435d0  [0.20079435, 0.9992938, 0.0006392636, 0.000151...   \n",
       "001838f8-bbca-11e8-b2bc-ac1f6b6435d0  [0.2739024, 0.0010013202, 0.05302975, 9.964523...   \n",
       "\n",
       "                                                                                 dpn_a7  \\\n",
       "Id                                                                                        \n",
       "00070df0-bbc3-11e8-b2bc-ac1f6b6435d0  [0.7728552, 6.490296e-05, 1.4489156e-05, 1.419...   \n",
       "000a6c98-bb9b-11e8-b2b9-ac1f6b6435d0  [0.83509785, 0.6088871, 0.82174736, 0.00049790...   \n",
       "000a9596-bbc4-11e8-b2bc-ac1f6b6435d0  [0.7423774, 0.00036342928, 0.27006754, 0.76644...   \n",
       "000c99ba-bba4-11e8-b2b9-ac1f6b6435d0  [0.060861263, 0.99979025, 0.00018425095, 7.219...   \n",
       "001838f8-bbca-11e8-b2bc-ac1f6b6435d0  [0.019757444, 4.205371e-05, 0.020966282, 7.382...   \n",
       "\n",
       "                                                                                 dpn_b6  \n",
       "Id                                                                                       \n",
       "00070df0-bbc3-11e8-b2bc-ac1f6b6435d0  [0.1896649, 0.0009342494, 0.00086473586, 1.699...  \n",
       "000a6c98-bb9b-11e8-b2b9-ac1f6b6435d0  [0.5315946, 0.9996326, 0.99990976, 0.000108916...  \n",
       "000a9596-bbc4-11e8-b2bc-ac1f6b6435d0  [0.8873165, 0.0012255692, 0.71309763, 0.897055...  \n",
       "000c99ba-bba4-11e8-b2b9-ac1f6b6435d0  [0.37822622, 0.99558544, 7.2230985e-05, 0.0001...  \n",
       "001838f8-bbca-11e8-b2bc-ac1f6b6435d0  [0.8805184, 0.0008217318, 0.17520824, 0.000154...  \n",
       "\n",
       "[5 rows x 24 columns]"
      ]
     },
     "execution_count": 236,
     "metadata": {},
     "output_type": "execute_result"
    }
   ],
   "source": [
    "vp.head()"
   ]
  },
  {
   "cell_type": "code",
   "execution_count": 237,
   "metadata": {},
   "outputs": [
    {
     "name": "stdout",
     "output_type": "stream",
     "text": [
      "2 22\n"
     ]
    }
   ],
   "source": [
    "offset = 2\n",
    "nm = vp.shape[1] - offset\n",
    "print(offset, nm)"
   ]
  },
  {
   "cell_type": "code",
   "execution_count": 238,
   "metadata": {},
   "outputs": [
    {
     "data": {
      "text/plain": [
       "(31072, 28)"
      ]
     },
     "execution_count": 238,
     "metadata": {},
     "output_type": "execute_result"
    }
   ],
   "source": [
    "y = np.array([a for a in vp.y])\n",
    "y.shape"
   ]
  },
  {
   "cell_type": "code",
   "execution_count": 239,
   "metadata": {},
   "outputs": [
    {
     "name": "stdout",
     "output_type": "stream",
     "text": [
      "(31072,)\n",
      "1.0 1.6343331 5.0\n"
     ]
    }
   ],
   "source": [
    "ys = np.sum(y,axis=1)\n",
    "print(ys.shape)\n",
    "print(ys.min(),ys.mean(),ys.max())"
   ]
  },
  {
   "cell_type": "code",
   "execution_count": 240,
   "metadata": {},
   "outputs": [
    {
     "name": "stdout",
     "output_type": "stream",
     "text": [
      "0 Nucleoplasm count 12885.0 prop 0.4147\n",
      "1 Nuclear membrane count 1254.0 prop 0.0404\n",
      "2 Nucleoli count 3621.0 prop 0.1165\n",
      "3 Nucleoli fibrillar center count 1561.0 prop 0.0502\n",
      "4 Nuclear speckles count 1858.0 prop 0.0598\n",
      "5 Nuclear bodies count 2513.0 prop 0.0809\n",
      "6 Endoplasmic reticulum count 1008.0 prop 0.0324\n",
      "7 Golgi apparatus count 2822.0 prop 0.0908\n",
      "8 Peroxisomes count 53.0 prop 0.0017\n",
      "9 Endosomes count 45.0 prop 0.0014\n",
      "10 Lysosomes count 28.0 prop 0.0009\n",
      "11 Intermediate filaments count 1093.0 prop 0.0352\n",
      "12 Actin filaments count 688.0 prop 0.0221\n",
      "13 Focal adhesion sites count 537.0 prop 0.0173\n",
      "14 Microtubules count 1066.0 prop 0.0343\n",
      "15 Microtubule ends count 21.0 prop 0.0007\n",
      "16 Cytokinetic bridge count 530.0 prop 0.0171\n",
      "17 Mitotic spindle count 210.0 prop 0.0068\n",
      "18 Microtubule organizing center count 902.0 prop 0.0290\n",
      "19 Centrosome count 1482.0 prop 0.0477\n",
      "20 Lipid droplets count 172.0 prop 0.0055\n",
      "21 Plasma membrane count 3777.0 prop 0.1216\n",
      "22 Cell junctions count 802.0 prop 0.0258\n",
      "23 Mitochondria count 2965.0 prop 0.0954\n",
      "24 Aggresome count 322.0 prop 0.0104\n",
      "25 Cytosol count 8228.0 prop 0.2648\n",
      "26 Cytoplasmic bodies count 328.0 prop 0.0106\n",
      "27 Rods & rings count 11.0 prop 0.0004\n"
     ]
    }
   ],
   "source": [
    "c_val = np.sum(y,axis=0)\n",
    "for k,v in LABEL_MAP.items():\n",
    "    print(k,v, 'count', c_val[k],\n",
    "             'prop', '%6.4f' % (c_val[k]/y.shape[0]))"
   ]
  },
  {
   "cell_type": "code",
   "execution_count": 241,
   "metadata": {},
   "outputs": [],
   "source": [
    "# idx = range(28)\n",
    "# loc = [LABEL_MAP[j] for j in idx]\n",
    "# lb = [c_val[j]/y.shape[0] for j in idx]\n",
    "\n",
    "# df = pd.DataFrame({'idx':idx, 'loc':loc, 'training':lb})\n",
    "# fname = 'train_props.csv'\n",
    "# df.to_csv(fname,index=False)\n",
    "# print(fname)"
   ]
  },
  {
   "cell_type": "code",
   "execution_count": 242,
   "metadata": {},
   "outputs": [],
   "source": [
    "# train_sum_vec = np.sum(np.stack(subm['target_vec'].values, 0), 0)\n",
    "# _ = plt.bar(n_keys, [train_sum_vec[k] for k in n_keys])"
   ]
  },
  {
   "cell_type": "code",
   "execution_count": 243,
   "metadata": {},
   "outputs": [
    {
     "name": "stdout",
     "output_type": "stream",
     "text": [
      "[0.415 0.04  0.117 0.05  0.06  0.081 0.032 0.091 0.002 0.001 0.001 0.035 0.022 0.017 0.034 0.001\n",
      " 0.017 0.007 0.029 0.048 0.006 0.122 0.026 0.095 0.01  0.265 0.011 0.   ]\n"
     ]
    }
   ],
   "source": [
    "ymean = np.mean(y,axis=0)\n",
    "print(ymean)"
   ]
  },
  {
   "cell_type": "code",
   "execution_count": 244,
   "metadata": {},
   "outputs": [
    {
     "name": "stdout",
     "output_type": "stream",
     "text": [
      "[   2.4115   24.7783    8.5811   19.9052   16.7234   12.3645   30.8254\n",
      "   11.0106  586.2642  690.4889 1109.7142   28.4282   45.1628   57.8622\n",
      "   29.1482 1479.6191   58.6264  147.9619   34.4479   20.9663  180.6512\n",
      "    8.2266   38.7431   10.4796   96.4969    3.7764   94.7317 2824.727 ]\n"
     ]
    }
   ],
   "source": [
    "w = 1.0/np.mean(y,axis=0)\n",
    "np.set_printoptions(precision=4,linewidth=80,suppress=True)\n",
    "print(w)"
   ]
  },
  {
   "cell_type": "code",
   "execution_count": 245,
   "metadata": {},
   "outputs": [
    {
     "name": "stdout",
     "output_type": "stream",
     "text": [
      "(31072, 28) 0.0 0.060788814 1.0\n"
     ]
    }
   ],
   "source": [
    "x = np.array([x for x in vp[special]])\n",
    "x = np.clip(x,-20,20)\n",
    "print(x.shape, x.min(), x.mean(), x.max())"
   ]
  },
  {
   "cell_type": "code",
   "execution_count": 246,
   "metadata": {},
   "outputs": [
    {
     "name": "stderr",
     "output_type": "stream",
     "text": [
      "/home/sasrdw/anaconda3/lib/python3.6/site-packages/matplotlib/axes/_axes.py:6462: UserWarning: The 'normed' kwarg is deprecated, and has been replaced by the 'density' kwarg.\n",
      "  warnings.warn(\"The 'normed' kwarg is deprecated, and has been \"\n"
     ]
    },
    {
     "data": {
      "text/plain": [
       "<matplotlib.axes._subplots.AxesSubplot at 0x7f9e3c86dcf8>"
      ]
     },
     "execution_count": 246,
     "metadata": {},
     "output_type": "execute_result"
    },
    {
     "data": {
      "image/png": "[encoded data removed]",
      "text/plain": [
       "<Figure size 432x288 with 1 Axes>"
      ]
     },
     "metadata": {},
     "output_type": "display_data"
    }
   ],
   "source": [
    "sns.distplot(x.flatten())"
   ]
  },
  {
   "cell_type": "code",
   "execution_count": 247,
   "metadata": {},
   "outputs": [
    {
     "name": "stdout",
     "output_type": "stream",
     "text": [
      "(31072,)\n",
      "0 2.16413491246138 6\n"
     ]
    }
   ],
   "source": [
    "# t = -0.12\n",
    "t = 0.2\n",
    "xp = np.int32(x > t)\n",
    "xps = np.sum(xp,axis=1)\n",
    "print(xps.shape)\n",
    "print(xps.min(),xps.mean(),xps.max())"
   ]
  },
  {
   "cell_type": "code",
   "execution_count": 248,
   "metadata": {},
   "outputs": [
    {
     "name": "stdout",
     "output_type": "stream",
     "text": [
      "[0.4983 0.0507 0.1395 0.0694 0.0735 0.1066 0.0511 0.0999 0.0011 0.0008 0.0003\n",
      " 0.0482 0.0402 0.03   0.0441 0.0005 0.0346 0.0174 0.066  0.0735 0.0081 0.1578\n",
      " 0.0522 0.1024 0.0152 0.3503 0.0321 0.0005]\n"
     ]
    }
   ],
   "source": [
    "print(np.mean(xp,axis=0))"
   ]
  },
  {
   "cell_type": "code",
   "execution_count": 249,
   "metadata": {},
   "outputs": [
    {
     "name": "stdout",
     "output_type": "stream",
     "text": [
      "0.004248197734294541\n"
     ]
    }
   ],
   "source": [
    "# proportion of zero predictions\n",
    "print(sum(xps==0)/x.shape[0])"
   ]
  },
  {
   "cell_type": "code",
   "execution_count": 250,
   "metadata": {},
   "outputs": [
    {
     "data": {
      "text/plain": [
       "0.5433911143266726"
      ]
     },
     "execution_count": 250,
     "metadata": {},
     "output_type": "execute_result"
    }
   ],
   "source": [
    "f1_score(y, xp, average='macro')"
   ]
  },
  {
   "cell_type": "code",
   "execution_count": 251,
   "metadata": {},
   "outputs": [],
   "source": [
    "# make sure every image has at least one prediction\n",
    "x1 = x.copy()\n",
    "for i in range(x.shape[0]):\n",
    "    x1[i,np.argmax(x[i])] = 30"
   ]
  },
  {
   "cell_type": "code",
   "execution_count": 252,
   "metadata": {},
   "outputs": [
    {
     "name": "stdout",
     "output_type": "stream",
     "text": [
      "(31072,)\n",
      "1 1.6886907826982491 6\n"
     ]
    }
   ],
   "source": [
    "t = 0.4\n",
    "x1p = np.int32(x1 > t)\n",
    "x1ps = np.sum(x1p,axis=1)\n",
    "print(x1ps.shape)\n",
    "print(x1ps.min(),x1ps.mean(),x1ps.max())"
   ]
  },
  {
   "cell_type": "code",
   "execution_count": 253,
   "metadata": {},
   "outputs": [
    {
     "name": "stdout",
     "output_type": "stream",
     "text": [
      "0.0\n"
     ]
    }
   ],
   "source": [
    "# proportion of zero predictions\n",
    "print(sum(x1ps==0)/x1.shape[0])"
   ]
  },
  {
   "cell_type": "code",
   "execution_count": 254,
   "metadata": {},
   "outputs": [
    {
     "data": {
      "text/plain": [
       "0.5696507981263289"
      ]
     },
     "execution_count": 254,
     "metadata": {},
     "output_type": "execute_result"
    }
   ],
   "source": [
    "f1_score(y, x1p, average='macro')"
   ]
  },
  {
   "cell_type": "code",
   "execution_count": 255,
   "metadata": {},
   "outputs": [
    {
     "name": "stdout",
     "output_type": "stream",
     "text": [
      "0 0.4700 0.4147 0.4147 Nucleoplasm\n",
      "1 0.5900 0.0404 0.0404 Nuclear membrane\n",
      "2 0.3800 0.1165 0.1172 Nucleoli\n",
      "3 0.4300 0.0502 0.0506 Nucleoli fibrillar center\n",
      "4 0.4100 0.0598 0.0598 Nuclear speckles\n",
      "5 0.3000 0.0809 0.0822 Nuclear bodies\n",
      "6 0.4300 0.0324 0.0327 Endoplasmic reticulum\n",
      "7 0.2700 0.0908 0.0915 Golgi apparatus\n",
      "8 0.0200 0.0017 0.0017 Peroxisomes\n",
      "9 0.0200 0.0014 0.0016 Endosomes\n",
      "10 0.0000 0.0009 0.9977 Lysosomes\n",
      "11 0.4600 0.0352 0.0353 Intermediate filaments\n",
      "12 0.7200 0.0221 0.0222 Actin filaments\n",
      "13 0.5400 0.0173 0.0173 Focal adhesion sites\n",
      "14 0.6100 0.0343 0.0344 Microtubules\n",
      "15 0.0300 0.0007 0.0008 Microtubule ends\n",
      "16 0.4800 0.0171 0.0173 Cytokinetic bridge\n",
      "17 0.8500 0.0068 0.0069 Mitotic spindle\n",
      "18 0.5500 0.0290 0.0291 Microtubule organizing center\n",
      "19 0.3400 0.0477 0.0484 Centrosome\n",
      "20 0.4700 0.0055 0.0056 Lipid droplets\n",
      "21 0.3400 0.1216 0.1224 Plasma membrane\n",
      "22 0.6400 0.0258 0.0259 Cell junctions\n",
      "23 0.2600 0.0954 0.0956 Mitochondria\n",
      "24 0.6800 0.0104 0.0104 Aggresome\n",
      "25 0.3500 0.2648 0.2678 Cytosol\n",
      "26 0.8800 0.0106 0.0109 Cytoplasmic bodies\n",
      "27 0.7300 0.0004 0.0004 Rods & rings\n",
      "0.5485787660635828\n"
     ]
    }
   ],
   "source": [
    "# custom thresholds to match lb proportions\n",
    "thresholds = np.linspace(5.0, -5., 1001)\n",
    "pred = x.copy()\n",
    "for j in range(pred.shape[1]):\n",
    "    for t in thresholds:\n",
    "        pred[:,j] = (x[:,j] > t).astype(int)\n",
    "        prop = np.mean(pred[:,j])\n",
    "        if prop >= ymean[j]: break\n",
    "    print(j,'%6.4f' % t,'%6.4f' % ymean[j],'%6.4f' % prop, LABEL_MAP[j])\n",
    "print(f1_score(y, pred, average='macro'))"
   ]
  },
  {
   "cell_type": "code",
   "execution_count": 256,
   "metadata": {},
   "outputs": [],
   "source": [
    "# estimate thresholds by least squares, from lafoss kernel\n",
    "# def sigmoid_np(x):\n",
    "#     return 1.0/(1.0 + np.exp(-x))\n",
    "\n",
    "# def F1_soft(preds,targs,th=0.5,d=50.0):\n",
    "#     preds = sigmoid_np(d*(preds - th))\n",
    "#     targs = targs.astype(np.float)\n",
    "#     score = 2.0*(preds*targs).sum(axis=0)/((preds+targs).sum(axis=0) + 1e-6)\n",
    "#     return score\n",
    "\n",
    "# def fit_val(x,y):\n",
    "#     params = 0.5*np.ones(len(name_label_dict))\n",
    "#     wd = 1e-5\n",
    "#     error = lambda p: np.concatenate((F1_soft(x,y,p) - 1.0,\n",
    "#                                       wd*(p - 0.5)), axis=None)\n",
    "#     p, success = opt.leastsq(error, params, maxfev=10000)\n",
    "#     return p"
   ]
  },
  {
   "cell_type": "code",
   "execution_count": 257,
   "metadata": {},
   "outputs": [],
   "source": [
    "# pred = sigmoid_np(x)\n",
    "# print(pred.min(),pred.mean(),pred.max())\n",
    "# name_label_dict = LABEL_MAP\n",
    "# th = fit_val(pred,y)\n",
    "# th[th<0.1] = 0.1\n",
    "# print('Thresholds: ',th)\n",
    "# print('F1 macro: ',f1_score(y, pred>th, average='macro'))\n",
    "# print('F1 macro (th = 0.5): ',f1_score(y, pred>0.5, average='macro'))\n",
    "# print('F1 micro: ',f1_score(y, pred>th, average='micro'))"
   ]
  },
  {
   "cell_type": "code",
   "execution_count": 258,
   "metadata": {},
   "outputs": [],
   "source": [
    "# pred = np.clip(x,-20,20)\n",
    "# print(pred.min(),pred.mean(),pred.max())\n",
    "# name_label_dict = LABEL_MAP\n",
    "# th = fit_val(pred,y)\n",
    "# # th[th<0.1] = 0.1\n",
    "# print('Thresholds: ',th)\n",
    "# print('F1 macro: ',f1_score(y, pred>th, average='macro'))\n",
    "# print('F1 macro (th = 0.0): ',f1_score(y, pred>0.0, average='macro'))\n",
    "# print('F1 micro: ',f1_score(y, pred>th, average='micro'))"
   ]
  },
  {
   "cell_type": "code",
   "execution_count": 259,
   "metadata": {},
   "outputs": [],
   "source": [
    "# for i in range(len(th)):\n",
    "#     print(i,np.round(th[i],decimals=2))"
   ]
  },
  {
   "cell_type": "code",
   "execution_count": 260,
   "metadata": {},
   "outputs": [],
   "source": [
    "# print(np.mean(x > th,axis=0))"
   ]
  },
  {
   "cell_type": "code",
   "execution_count": 261,
   "metadata": {},
   "outputs": [],
   "source": [
    "# f1_score(y, xp, average='samples')"
   ]
  },
  {
   "cell_type": "code",
   "execution_count": 262,
   "metadata": {},
   "outputs": [
    {
     "data": {
      "text/plain": [
       "0.6741904326165421"
      ]
     },
     "execution_count": 262,
     "metadata": {},
     "output_type": "execute_result"
    }
   ],
   "source": [
    "f1_score(y, xp, average='micro')"
   ]
  },
  {
   "cell_type": "code",
   "execution_count": 263,
   "metadata": {},
   "outputs": [
    {
     "name": "stdout",
     "output_type": "stream",
     "text": [
      "132\n"
     ]
    }
   ],
   "source": [
    "z = [(y,x) for y,x in zip(y,xp) if np.sum(x) == 0]\n",
    "print(len(z))"
   ]
  },
  {
   "cell_type": "code",
   "execution_count": 264,
   "metadata": {},
   "outputs": [],
   "source": [
    "# z[:5]"
   ]
  },
  {
   "cell_type": "code",
   "execution_count": 265,
   "metadata": {},
   "outputs": [
    {
     "data": {
      "text/plain": [
       "0.0"
      ]
     },
     "execution_count": 265,
     "metadata": {},
     "output_type": "execute_result"
    }
   ],
   "source": [
    "yz = np.array([t[0] for t in z])\n",
    "xz = np.array([t[1] for t in z])\n",
    "f1_score(yz,xz,average='macro')"
   ]
  },
  {
   "cell_type": "code",
   "execution_count": 266,
   "metadata": {},
   "outputs": [
    {
     "name": "stdout",
     "output_type": "stream",
     "text": [
      "0.0 0.684541178297615 1.0\n"
     ]
    },
    {
     "name": "stderr",
     "output_type": "stream",
     "text": [
      "/home/sasrdw/anaconda3/lib/python3.6/site-packages/matplotlib/axes/_axes.py:6462: UserWarning: The 'normed' kwarg is deprecated, and has been replaced by the 'density' kwarg.\n",
      "  warnings.warn(\"The 'normed' kwarg is deprecated, and has been \"\n"
     ]
    },
    {
     "data": {
      "image/png": "[encoded data removed]",
      "text/plain": [
       "<Figure size 432x288 with 1 Axes>"
      ]
     },
     "metadata": {},
     "output_type": "display_data"
    },
    {
     "data": {
      "text/plain": [
       "<Figure size 432x288 with 0 Axes>"
      ]
     },
     "metadata": {},
     "output_type": "display_data"
    }
   ],
   "source": [
    "f1b = np.array([f1_score(yi, xpi, average='binary') \\\n",
    "                 for yi,xpi in zip(y,xp)])\n",
    "print(f1b.min(),f1b.mean(),f1b.max())\n",
    "sns.distplot(f1b)\n",
    "plt.title(\"Distribution of Instance F1 Scores\")\n",
    "plt.show()\n",
    "plt.gcf().clear()"
   ]
  },
  {
   "cell_type": "code",
   "execution_count": 267,
   "metadata": {},
   "outputs": [
    {
     "name": "stdout",
     "output_type": "stream",
     "text": [
      "['se_resnext_d10', 'se_resnext_d11', 'iv3_a3', 'iv3_a4', 'iv3_a5', 'iv3_a6', 'resnet_a10', 'resnet_a11', 'resnet_a13', 'resnet_a15', 'resnet_b15', 'resnet_b18', 'nas_a7', 'irv2_a4', 'irv2_a6', 'se_resnet_a18', 'se_resnet_b18', 'se_resnet_b22', 'se_resnext_e11', 'dpn_a0', 'dpn_a7', 'dpn_b6']\n",
      "[[1.    0.859 0.804 0.789 0.786 0.779 0.7   0.754 0.749 0.764 0.77  0.774 0.765 0.762 0.774 0.753\n",
      "  0.763 0.752 0.857 0.777 0.766 0.687]\n",
      " [0.859 1.    0.807 0.859 0.813 0.805 0.705 0.77  0.758 0.765 0.786 0.79  0.777 0.776 0.791 0.753\n",
      "  0.775 0.761 0.869 0.776 0.766 0.691]\n",
      " [0.804 0.807 1.    0.862 0.831 0.817 0.725 0.779 0.766 0.774 0.785 0.792 0.746 0.8   0.802 0.754\n",
      "  0.77  0.755 0.78  0.782 0.764 0.707]\n",
      " [0.789 0.859 0.862 1.    0.841 0.828 0.716 0.784 0.764 0.767 0.79  0.797 0.754 0.79  0.807 0.75\n",
      "  0.775 0.761 0.796 0.778 0.764 0.699]\n",
      " [0.786 0.813 0.831 0.841 1.    0.918 0.692 0.776 0.792 0.801 0.826 0.844 0.78  0.81  0.847 0.77\n",
      "  0.799 0.784 0.793 0.81  0.791 0.744]\n",
      " [0.779 0.805 0.817 0.828 0.918 1.    0.681 0.77  0.786 0.796 0.821 0.835 0.774 0.793 0.837 0.767\n",
      "  0.795 0.791 0.79  0.805 0.788 0.738]\n",
      " [0.7   0.705 0.725 0.716 0.692 0.681 1.    0.812 0.778 0.681 0.663 0.67  0.628 0.734 0.681 0.667\n",
      "  0.654 0.638 0.655 0.685 0.659 0.656]\n",
      " [0.754 0.77  0.779 0.784 0.776 0.77  0.812 1.    0.875 0.73  0.76  0.763 0.695 0.748 0.757 0.714\n",
      "  0.731 0.718 0.745 0.744 0.725 0.721]\n",
      " [0.749 0.758 0.766 0.764 0.792 0.786 0.778 0.875 1.    0.766 0.804 0.801 0.716 0.764 0.779 0.75\n",
      "  0.765 0.748 0.735 0.781 0.762 0.755]\n",
      " [0.764 0.765 0.774 0.767 0.801 0.796 0.681 0.73  0.766 1.    0.833 0.831 0.749 0.777 0.787 0.799\n",
      "  0.788 0.771 0.741 0.828 0.809 0.703]\n",
      " [0.77  0.786 0.785 0.79  0.826 0.821 0.663 0.76  0.804 0.833 1.    0.884 0.763 0.762 0.808 0.777\n",
      "  0.808 0.795 0.773 0.811 0.8   0.729]\n",
      " [0.774 0.79  0.792 0.797 0.844 0.835 0.67  0.763 0.801 0.831 0.884 1.    0.766 0.777 0.813 0.769\n",
      "  0.798 0.784 0.773 0.805 0.788 0.724]\n",
      " [0.765 0.777 0.746 0.754 0.78  0.774 0.628 0.695 0.716 0.749 0.763 0.766 1.    0.731 0.762 0.734\n",
      "  0.754 0.741 0.766 0.759 0.752 0.669]\n",
      " [0.762 0.776 0.8   0.79  0.81  0.793 0.734 0.748 0.764 0.777 0.762 0.777 0.731 1.    0.831 0.759\n",
      "  0.75  0.734 0.73  0.786 0.762 0.694]\n",
      " [0.774 0.791 0.802 0.807 0.847 0.837 0.681 0.757 0.779 0.787 0.808 0.813 0.762 0.831 1.    0.771\n",
      "  0.797 0.78  0.775 0.808 0.79  0.731]\n",
      " [0.753 0.753 0.754 0.75  0.77  0.767 0.667 0.714 0.75  0.799 0.777 0.769 0.734 0.759 0.771 1.\n",
      "  0.865 0.825 0.731 0.831 0.828 0.708]\n",
      " [0.763 0.775 0.77  0.775 0.799 0.795 0.654 0.731 0.765 0.788 0.808 0.798 0.754 0.75  0.797 0.865\n",
      "  1.    0.892 0.765 0.822 0.826 0.733]\n",
      " [0.752 0.761 0.755 0.761 0.784 0.791 0.638 0.718 0.748 0.771 0.795 0.784 0.741 0.734 0.78  0.825\n",
      "  0.892 1.    0.755 0.797 0.807 0.707]\n",
      " [0.857 0.869 0.78  0.796 0.793 0.79  0.655 0.745 0.735 0.741 0.773 0.773 0.766 0.73  0.775 0.731\n",
      "  0.765 0.755 1.    0.755 0.752 0.688]\n",
      " [0.777 0.776 0.782 0.778 0.81  0.805 0.685 0.744 0.781 0.828 0.811 0.805 0.759 0.786 0.808 0.831\n",
      "  0.822 0.797 0.755 1.    0.908 0.778]\n",
      " [0.766 0.766 0.764 0.764 0.791 0.788 0.659 0.725 0.762 0.809 0.8   0.788 0.752 0.762 0.79  0.828\n",
      "  0.826 0.807 0.752 0.908 1.    0.747]\n",
      " [0.687 0.691 0.707 0.699 0.744 0.738 0.656 0.721 0.755 0.703 0.729 0.724 0.669 0.694 0.731 0.708\n",
      "  0.733 0.707 0.688 0.778 0.747 1.   ]]\n"
     ]
    }
   ],
   "source": [
    "np.set_printoptions(precision=3, linewidth=100, suppress=True)\n",
    "f = []\n",
    "for m in mnames:\n",
    "    f.append(np.array(list(vp[m])).flatten())\n",
    "print(mnames)\n",
    "r = np.corrcoef(f)\n",
    "print(r)   "
   ]
  },
  {
   "cell_type": "code",
   "execution_count": 268,
   "metadata": {},
   "outputs": [
    {
     "data": {
      "text/plain": [
       "<seaborn.matrix.ClusterGrid at 0x7f9e43c21860>"
      ]
     },
     "execution_count": 268,
     "metadata": {},
     "output_type": "execute_result"
    },
    {
     "data": {
      "image/png": "[encoded data removed]",
      "text/plain": [
       "<Figure size 720x720 with 4 Axes>"
      ]
     },
     "metadata": {},
     "output_type": "display_data"
    }
   ],
   "source": [
    "d = pd.DataFrame(r, columns=mnames)\n",
    "d['id'] = mnames\n",
    "d.set_index('id',inplace=True)\n",
    "del d.index.name\n",
    "\n",
    "sns.clustermap(d)\n",
    "\n",
    "\n",
    "# import scipy.cluster.hierarchy as hc\n",
    "# from matplotlib import pyplot\n",
    "# link = hc.linkage(d.values, method='centroid')\n",
    "# o1 = hc.leaves_list(link)\n",
    "\n",
    "# mat = d.iloc[o1,:]\n",
    "# mat = mat.iloc[:, o1[::-1]]\n",
    "# pyplot.imshow(mat)"
   ]
  },
  {
   "cell_type": "code",
   "execution_count": 269,
   "metadata": {},
   "outputs": [],
   "source": [
    "# # compute rank transform separately for every column\n",
    "# from scipy.stats import rankdata\n",
    "# n = vp.shape[0] * 28\n",
    "# for m in mnames:\n",
    "#     a = rankdata(np.array(list(vp[m])).flatten()).reshape((vp.shape[0],28))/n\n",
    "#     vp[m] = [i for i in a]\n",
    "# print(vp.shape)"
   ]
  },
  {
   "cell_type": "code",
   "execution_count": 270,
   "metadata": {},
   "outputs": [],
   "source": [
    "# f = []\n",
    "# for m in mnames:\n",
    "#     f.append(np.array(list(vp[m])).flatten())\n",
    "# print(mnames)\n",
    "# print(np.corrcoef(f))   "
   ]
  },
  {
   "cell_type": "code",
   "execution_count": 271,
   "metadata": {},
   "outputs": [
    {
     "name": "stdout",
     "output_type": "stream",
     "text": [
      "1.1532587e-26 1.0\n"
     ]
    }
   ],
   "source": [
    "print(f[0].min(),f[0].max())"
   ]
  },
  {
   "cell_type": "code",
   "execution_count": 272,
   "metadata": {},
   "outputs": [
    {
     "name": "stdout",
     "output_type": "stream",
     "text": [
      "0 se_resnext_d10 0.45 0.5532\n"
     ]
    },
    {
     "data": {
      "image/png": "[encoded data removed]",
      "text/plain": [
       "<Figure size 432x288 with 1 Axes>"
      ]
     },
     "metadata": {},
     "output_type": "display_data"
    },
    {
     "name": "stdout",
     "output_type": "stream",
     "text": [
      "1 se_resnext_d11 0.27 0.5681\n"
     ]
    },
    {
     "data": {
      "image/png": "[encoded data removed]",
      "text/plain": [
       "<Figure size 432x288 with 1 Axes>"
      ]
     },
     "metadata": {},
     "output_type": "display_data"
    },
    {
     "name": "stdout",
     "output_type": "stream",
     "text": [
      "2 iv3_a3 0.51 0.5549\n"
     ]
    },
    {
     "data": {
      "image/png": "[encoded data removed]",
      "text/plain": [
       "<Figure size 432x288 with 1 Axes>"
      ]
     },
     "metadata": {},
     "output_type": "display_data"
    },
    {
     "name": "stdout",
     "output_type": "stream",
     "text": [
      "3 iv3_a4 0.32 0.5628\n"
     ]
    },
    {
     "data": {
      "image/png": "[encoded data removed]",
      "text/plain": [
       "<Figure size 432x288 with 1 Axes>"
      ]
     },
     "metadata": {},
     "output_type": "display_data"
    },
    {
     "name": "stdout",
     "output_type": "stream",
     "text": [
      "4 iv3_a5 0.52 0.5752\n"
     ]
    },
    {
     "data": {
      "image/png": "[encoded data removed]",
      "text/plain": [
       "<Figure size 432x288 with 1 Axes>"
      ]
     },
     "metadata": {},
     "output_type": "display_data"
    },
    {
     "name": "stdout",
     "output_type": "stream",
     "text": [
      "5 iv3_a6 0.51 0.5759\n"
     ]
    },
    {
     "data": {
      "image/png": "[encoded data removed]",
      "text/plain": [
       "<Figure size 432x288 with 1 Axes>"
      ]
     },
     "metadata": {},
     "output_type": "display_data"
    },
    {
     "name": "stdout",
     "output_type": "stream",
     "text": [
      "6 resnet_a10 0.46 0.4698\n"
     ]
    },
    {
     "data": {
      "image/png": "[encoded data removed]",
      "text/plain": [
       "<Figure size 432x288 with 1 Axes>"
      ]
     },
     "metadata": {},
     "output_type": "display_data"
    },
    {
     "name": "stdout",
     "output_type": "stream",
     "text": [
      "7 resnet_a11 0.49 0.5721\n"
     ]
    },
    {
     "data": {
      "image/png": "[encoded data removed]",
      "text/plain": [
       "<Figure size 432x288 with 1 Axes>"
      ]
     },
     "metadata": {},
     "output_type": "display_data"
    },
    {
     "name": "stdout",
     "output_type": "stream",
     "text": [
      "8 resnet_a13 0.46 0.5686\n"
     ]
    },
    {
     "data": {
      "image/png": "[encoded data removed]",
      "text/plain": [
       "<Figure size 432x288 with 1 Axes>"
      ]
     },
     "metadata": {},
     "output_type": "display_data"
    },
    {
     "name": "stdout",
     "output_type": "stream",
     "text": [
      "9 resnet_a15 0.53 0.5550\n"
     ]
    },
    {
     "data": {
      "image/png": "[encoded data removed]",
      "text/plain": [
       "<Figure size 432x288 with 1 Axes>"
      ]
     },
     "metadata": {},
     "output_type": "display_data"
    },
    {
     "name": "stdout",
     "output_type": "stream",
     "text": [
      "10 resnet_b15 0.40 0.5999\n"
     ]
    },
    {
     "data": {
      "image/png": "[encoded data removed]",
      "text/plain": [
       "<Figure size 432x288 with 1 Axes>"
      ]
     },
     "metadata": {},
     "output_type": "display_data"
    },
    {
     "name": "stdout",
     "output_type": "stream",
     "text": [
      "11 resnet_b18 0.50 0.5951\n"
     ]
    },
    {
     "data": {
      "image/png": "[encoded data removed]",
      "text/plain": [
       "<Figure size 432x288 with 1 Axes>"
      ]
     },
     "metadata": {},
     "output_type": "display_data"
    },
    {
     "name": "stdout",
     "output_type": "stream",
     "text": [
      "12 nas_a7 0.50 0.5565\n"
     ]
    },
    {
     "data": {
      "image/png": "[encoded data removed]",
      "text/plain": [
       "<Figure size 432x288 with 1 Axes>"
      ]
     },
     "metadata": {},
     "output_type": "display_data"
    },
    {
     "name": "stdout",
     "output_type": "stream",
     "text": [
      "13 irv2_a4 0.43 0.4878\n"
     ]
    },
    {
     "data": {
      "image/png": "[encoded data removed]",
      "text/plain": [
       "<Figure size 432x288 with 1 Axes>"
      ]
     },
     "metadata": {},
     "output_type": "display_data"
    },
    {
     "name": "stdout",
     "output_type": "stream",
     "text": [
      "14 irv2_a6 0.51 0.5925\n"
     ]
    },
    {
     "data": {
      "image/png": "[encoded data removed]",
      "text/plain": [
       "<Figure size 432x288 with 1 Axes>"
      ]
     },
     "metadata": {},
     "output_type": "display_data"
    },
    {
     "name": "stdout",
     "output_type": "stream",
     "text": [
      "15 se_resnet_a18 0.42 0.5425\n"
     ]
    },
    {
     "data": {
      "image/png": "[encoded data removed]",
      "text/plain": [
       "<Figure size 432x288 with 1 Axes>"
      ]
     },
     "metadata": {},
     "output_type": "display_data"
    },
    {
     "name": "stdout",
     "output_type": "stream",
     "text": [
      "16 se_resnet_b18 0.46 0.6031\n"
     ]
    },
    {
     "data": {
      "image/png": "[encoded data removed]",
      "text/plain": [
       "<Figure size 432x288 with 1 Axes>"
      ]
     },
     "metadata": {},
     "output_type": "display_data"
    },
    {
     "name": "stdout",
     "output_type": "stream",
     "text": [
      "17 se_resnet_b22 0.36 0.6010\n"
     ]
    },
    {
     "data": {
      "image/png": "[encoded data removed]",
      "text/plain": [
       "<Figure size 432x288 with 1 Axes>"
      ]
     },
     "metadata": {},
     "output_type": "display_data"
    },
    {
     "name": "stdout",
     "output_type": "stream",
     "text": [
      "18 se_resnext_e11 0.51 0.6130\n"
     ]
    },
    {
     "data": {
      "image/png": "[encoded data removed]",
      "text/plain": [
       "<Figure size 432x288 with 1 Axes>"
      ]
     },
     "metadata": {},
     "output_type": "display_data"
    },
    {
     "name": "stdout",
     "output_type": "stream",
     "text": [
      "19 dpn_a0 0.44 0.5378\n"
     ]
    },
    {
     "data": {
      "image/png": "[encoded data removed]",
      "text/plain": [
       "<Figure size 432x288 with 1 Axes>"
      ]
     },
     "metadata": {},
     "output_type": "display_data"
    },
    {
     "name": "stdout",
     "output_type": "stream",
     "text": [
      "20 dpn_a7 0.29 0.5536\n"
     ]
    },
    {
     "data": {
      "image/png": "[encoded data removed]",
      "text/plain": [
       "<Figure size 432x288 with 1 Axes>"
      ]
     },
     "metadata": {},
     "output_type": "display_data"
    },
    {
     "name": "stdout",
     "output_type": "stream",
     "text": [
      "21 dpn_b6 0.90 0.5335\n"
     ]
    },
    {
     "data": {
      "image/png": "[encoded data removed]",
      "text/plain": [
       "<Figure size 432x288 with 1 Axes>"
      ]
     },
     "metadata": {},
     "output_type": "display_data"
    },
    {
     "name": "stdout",
     "output_type": "stream",
     "text": [
      "{'se_resnext_d10': 0.4528, 'se_resnext_d11': 0.2696, 'iv3_a3': 0.5064000000000001, 'iv3_a4': 0.3248, 'iv3_a5': 0.5232, 'iv3_a6': 0.508, 'resnet_a10': 0.45520000000000005, 'resnet_a11': 0.49040000000000006, 'resnet_a13': 0.46320000000000006, 'resnet_a15': 0.5344, 'resnet_b15': 0.404, 'resnet_b18': 0.5048, 'nas_a7': 0.49760000000000004, 'irv2_a4': 0.42800000000000005, 'irv2_a6': 0.5136000000000001, 'se_resnet_a18': 0.41600000000000004, 'se_resnet_b18': 0.46240000000000003, 'se_resnet_b22': 0.36319999999999997, 'se_resnext_e11': 0.5064000000000001, 'dpn_a0': 0.43920000000000003, 'dpn_a7': 0.2864, 'dpn_b6': 0.9}\n"
     ]
    },
    {
     "data": {
      "text/plain": [
       "<Figure size 432x288 with 0 Axes>"
      ]
     },
     "metadata": {},
     "output_type": "display_data"
    }
   ],
   "source": [
    "# model-specific global thresholds\n",
    "# compute best single logit threshold for computed ensemble\n",
    "\n",
    "# for probabilities\n",
    "thresholds = np.linspace(0.1, 0.9, 1001)\n",
    "\n",
    "# for logits\n",
    "# thresholds = np.linspace(-1, 1, 101)\n",
    "\n",
    "# for ranks\n",
    "# thresholds = np.linspace(0.9, 1, 101)\n",
    "\n",
    "# thresholds = [-0.4]\n",
    "\n",
    "fname = 'mthresh.pkl'\n",
    "# if os.path.isfile(fname): mthresh = pickle.load(open(fname,'rb'))\n",
    "# else: mthresh = {}\n",
    "mthresh = {}\n",
    "\n",
    "for i in range(nm):\n",
    "# for i in [3]:\n",
    "\n",
    "    mname = vp.columns[i+offset]\n",
    "    tv = np.array(list(vp.iloc[:,offset+i].values))\n",
    "\n",
    "    # if mname in mthresh or np.sum(np.isnan(tv)) > 0: continue\n",
    "\n",
    "    scores = np.array([f1_score(y, np.int32(tv > threshold),\n",
    "                                 average='macro') for threshold in thresholds])\n",
    "\n",
    "    besta = np.argmax(scores)\n",
    "    threshold_best = thresholds[besta]\n",
    "    score_best = scores[besta]\n",
    "    print(i, mname, \"%4.2f\" % threshold_best, \"%6.4f\" % score_best)\n",
    "    mthresh[mname] = threshold_best\n",
    "    \n",
    "    plt.plot(thresholds, scores)\n",
    "    plt.plot(threshold_best, score_best, \"xr\", label=\"best\")\n",
    "    plt.xlabel(\"threshold\")\n",
    "    plt.ylabel(\"f1\")\n",
    "    plt.title(mname + \" f1 vs threshold (%6.4f, %6.4f)\" % (threshold_best, score_best))\n",
    "    plt.legend()\n",
    "    plt.show()\n",
    "    plt.gcf().clear()\n",
    "\n",
    "pickle.dump(mthresh,open(fname,'wb'))\n",
    "print(mthresh)"
   ]
  },
  {
   "cell_type": "code",
   "execution_count": 273,
   "metadata": {},
   "outputs": [
    {
     "data": {
      "text/plain": [
       "Index(['Target', 'y', 'se_resnext_d10', 'se_resnext_d11', 'iv3_a3', 'iv3_a4',\n",
       "       'iv3_a5', 'iv3_a6', 'resnet_a10', 'resnet_a11', 'resnet_a13',\n",
       "       'resnet_a15', 'resnet_b15', 'resnet_b18', 'nas_a7', 'irv2_a4',\n",
       "       'irv2_a6', 'se_resnet_a18', 'se_resnet_b18', 'se_resnet_b22',\n",
       "       'se_resnext_e11', 'dpn_a0', 'dpn_a7', 'dpn_b6'],\n",
       "      dtype='object')"
      ]
     },
     "execution_count": 273,
     "metadata": {},
     "output_type": "execute_result"
    }
   ],
   "source": [
    "vp.columns"
   ]
  },
  {
   "cell_type": "code",
   "execution_count": 274,
   "metadata": {},
   "outputs": [],
   "source": [
    "# # model- and class-specific thresholds\n",
    "# # compute best logit threshold for computed ensemble\n",
    "\n",
    "# # thresholds = np.linspace(-2, 2, 101)\n",
    "\n",
    "# # thresholds = [-0.4]\n",
    "\n",
    "# fname = 'cthresh.pkl'\n",
    "# # if os.path.isfile(fname): cthresh = pickle.load(open(fname,'rb'))\n",
    "# cthresh = {}\n",
    "\n",
    "# for i in range(nm):\n",
    "# # for i in [2]:\n",
    "\n",
    "#     mname = vp.columns[i+offset]\n",
    "#     tv = np.array(list(vp.iloc[:,offset+i].values))\n",
    "\n",
    "#     fm = [[f1_score(y[:,j], (tv[:,j] > t).astype(int)) \\\n",
    "#            for t in thresholds] for j in range(y.shape[1])]\n",
    "    \n",
    "#     besti = [np.argmax(f) for f in fm]\n",
    "#     bestt = [thresholds[b] for b in besti]\n",
    "#     bests = [f[b] for f,b in zip(fm,besti)]\n",
    "#     print(mname, np.mean(bests))\n",
    "    \n",
    "#     td = {}\n",
    "#     for j in range(y.shape[1]):\n",
    "#         # print()\n",
    "#         # print(j, LABEL_MAP[j], \"%4.2f\" % bestt[j], \"%6.4f\" % bests[j])\n",
    "        \n",
    "#         # print(j, \"%4.2f\" % bestt[j], \"%6.4f\" % bests[j], LABEL_MAP[j])\n",
    "        \n",
    "#         # print(cm[j], '%4.2f' % fm[j])\n",
    "#         # print('')\n",
    "#         td[j] = np.round(bestt[j],decimals=2)\n",
    "    \n",
    "#     cthresh[mname] = td\n",
    "#     print()\n",
    "    \n",
    "# pickle.dump(cthresh,open(fname,'wb'))\n",
    "# # print(mthresh)\n",
    "# print(fname)"
   ]
  },
  {
   "cell_type": "code",
   "execution_count": 275,
   "metadata": {},
   "outputs": [],
   "source": [
    "# mthresh['irv2_a2']"
   ]
  },
  {
   "cell_type": "code",
   "execution_count": 276,
   "metadata": {},
   "outputs": [
    {
     "name": "stdout",
     "output_type": "stream",
     "text": [
      "using f1 threshold 0.36\n",
      "model 0 f1 for se_resnext_d10 = 0.5509\n",
      "model 1 f1 for se_resnext_d11 = 0.5671\n",
      "model 2 f1 for iv3_a3 = 0.5460\n",
      "model 3 f1 for iv3_a4 = 0.5621\n",
      "model 4 f1 for iv3_a5 = 0.5697\n",
      "model 5 f1 for iv3_a6 = 0.5694\n",
      "model 6 f1 for resnet_a10 = 0.4436\n",
      "model 7 f1 for resnet_a11 = 0.5305\n",
      "model 8 f1 for resnet_a13 = 0.5409\n",
      "model 9 f1 for resnet_a15 = 0.5501\n",
      "model 10 f1 for resnet_b15 = 0.5978\n",
      "model 11 f1 for resnet_b18 = 0.5878\n",
      "model 12 f1 for nas_a7 = 0.5519\n",
      "model 13 f1 for irv2_a4 = 0.4866\n",
      "model 14 f1 for irv2_a6 = 0.5874\n",
      "model 15 f1 for se_resnet_a18 = 0.5414\n",
      "model 16 f1 for se_resnet_b18 = 0.6009\n",
      "model 17 f1 for se_resnet_b22 = 0.6006\n",
      "model 18 f1 for se_resnext_e11 = 0.6072\n",
      "model 19 f1 for dpn_a0 = 0.5357\n",
      "model 20 f1 for dpn_a7 = 0.5515\n",
      "model 21 f1 for dpn_b6 = 0.4250\n",
      "step = 0   index = 18   name = se_resnext_e11    f1 = 0.6072\n",
      "    try 0 se_resnext_d10 0.6065\n",
      "    try 1 se_resnext_d11 0.6155\n",
      "    try 2 iv3_a3 0.6380\n",
      "    try 3 iv3_a4 0.6631\n",
      "    try 4 iv3_a5 0.6414\n",
      "    try 5 iv3_a6 0.6450\n",
      "    try 6 resnet_a10 0.6395\n",
      "    try 7 resnet_a11 0.6565\n",
      "    try 8 resnet_a13 0.6539\n",
      "    try 9 resnet_a15 0.6507\n",
      "    try 10 resnet_b15 0.6584\n",
      "    try 11 resnet_b18 0.6568\n",
      "    try 12 nas_a7 0.6078\n",
      "    try 13 irv2_a4 0.6335\n",
      "    try 14 irv2_a6 0.6727\n",
      "    try 15 se_resnet_a18 0.6457\n",
      "    try 16 se_resnet_b18 0.6703\n",
      "    try 17 se_resnet_b22 0.6741\n",
      "    try 18 se_resnext_e11 0.6072\n",
      "    try 19 dpn_a0 0.6466\n",
      "    try 20 dpn_a7 0.6504\n",
      "    try 21 dpn_b6 0.5159\n",
      "step = 1   index = 17   name = se_resnet_b22    f1 = 0.6741\n",
      "    try 0 se_resnext_d10 0.6309\n",
      "    try 1 se_resnext_d11 0.6449\n",
      "    try 2 iv3_a3 0.6741\n",
      "    try 3 iv3_a4 0.6821\n",
      "    try 4 iv3_a5 0.6813\n",
      "    try 5 iv3_a6 0.6629\n",
      "    try 6 resnet_a10 0.6772\n",
      "    try 7 resnet_a11 0.6906\n",
      "    try 8 resnet_a13 0.6826\n",
      "    try 9 resnet_a15 0.6670\n",
      "    try 10 resnet_b15 0.6780\n",
      "    try 11 resnet_b18 0.6782\n",
      "    try 12 nas_a7 0.6478\n",
      "    try 13 irv2_a4 0.6699\n",
      "    try 14 irv2_a6 0.6819\n",
      "    try 15 se_resnet_a18 0.6516\n",
      "    try 16 se_resnet_b18 0.6629\n",
      "    try 17 se_resnet_b22 0.6398\n",
      "    try 18 se_resnext_e11 0.6266\n",
      "    try 19 dpn_a0 0.6592\n",
      "    try 20 dpn_a7 0.6594\n",
      "    try 21 dpn_b6 0.6613\n",
      "step = 2   index = 7   name = resnet_a11    f1 = 0.6906\n",
      "    try 0 se_resnext_d10 0.6856\n",
      "    try 1 se_resnext_d11 0.6917\n",
      "    try 2 iv3_a3 0.6867\n",
      "    try 3 iv3_a4 0.6922\n",
      "    try 4 iv3_a5 0.6937\n",
      "    try 5 iv3_a6 0.6891\n",
      "    try 6 resnet_a10 0.6865\n",
      "    try 7 resnet_a11 0.6704\n",
      "    try 8 resnet_a13 0.6827\n",
      "    try 9 resnet_a15 0.6790\n",
      "    try 10 resnet_b15 0.6842\n",
      "    try 11 resnet_b18 0.6861\n",
      "    try 12 nas_a7 0.6972\n",
      "    try 13 irv2_a4 0.6850\n",
      "    try 14 irv2_a6 0.6932\n",
      "    try 15 se_resnet_a18 0.6751\n",
      "    try 16 se_resnet_b18 0.6817\n",
      "    try 17 se_resnet_b22 0.6613\n",
      "    try 18 se_resnext_e11 0.6813\n",
      "    try 19 dpn_a0 0.6766\n",
      "    try 20 dpn_a7 0.6810\n",
      "    try 21 dpn_b6 0.6708\n",
      "step = 3   index = 12   name = nas_a7    f1 = 0.6972\n",
      "    try 0 se_resnext_d10 0.6804\n",
      "    try 1 se_resnext_d11 0.6857\n",
      "    try 2 iv3_a3 0.7007\n",
      "    try 3 iv3_a4 0.7047\n",
      "    try 4 iv3_a5 0.7023\n",
      "    try 5 iv3_a6 0.6907\n",
      "    try 6 resnet_a10 0.6978\n",
      "    try 7 resnet_a11 0.6965\n",
      "    try 8 resnet_a13 0.6963\n",
      "    try 9 resnet_a15 0.6960\n",
      "    try 10 resnet_b15 0.7028\n",
      "    try 11 resnet_b18 0.7014\n",
      "    try 12 nas_a7 0.6404\n",
      "    try 13 irv2_a4 0.6989\n",
      "    try 14 irv2_a6 0.7073\n",
      "    try 15 se_resnet_a18 0.6938\n",
      "    try 16 se_resnet_b18 0.7033\n",
      "    try 17 se_resnet_b22 0.6908\n",
      "    try 18 se_resnext_e11 0.6796\n",
      "    try 19 dpn_a0 0.6947\n",
      "    try 20 dpn_a7 0.6946\n",
      "    try 21 dpn_b6 0.6868\n",
      "step = 4   index = 14   name = irv2_a6    f1 = 0.7073\n",
      "    try 0 se_resnext_d10 0.7049\n",
      "    try 1 se_resnext_d11 0.7062\n",
      "    try 2 iv3_a3 0.7028\n",
      "    try 3 iv3_a4 0.7030\n",
      "    try 4 iv3_a5 0.6967\n",
      "    try 5 iv3_a6 0.6969\n",
      "    try 6 resnet_a10 0.7029\n",
      "    try 7 resnet_a11 0.6999\n",
      "    try 8 resnet_a13 0.7015\n",
      "    try 9 resnet_a15 0.6933\n",
      "    try 10 resnet_b15 0.6943\n",
      "    try 11 resnet_b18 0.6932\n",
      "    try 12 nas_a7 0.6863\n",
      "    try 13 irv2_a4 0.6942\n",
      "    try 14 irv2_a6 0.6904\n",
      "    try 15 se_resnet_a18 0.6899\n",
      "    try 16 se_resnet_b18 0.6958\n",
      "    try 17 se_resnet_b22 0.6907\n",
      "    try 18 se_resnext_e11 0.7102\n",
      "    try 19 dpn_a0 0.6903\n",
      "    try 20 dpn_a7 0.6915\n",
      "    try 21 dpn_b6 0.6935\n",
      "step = 5   index = 18   name = se_resnext_e11    f1 = 0.7102\n",
      "    try 0 se_resnext_d10 0.6986\n",
      "    try 1 se_resnext_d11 0.7034\n",
      "    try 2 iv3_a3 0.7128\n",
      "    try 3 iv3_a4 0.7148\n",
      "    try 4 iv3_a5 0.7069\n",
      "    try 5 iv3_a6 0.7070\n",
      "    try 6 resnet_a10 0.7094\n",
      "    try 7 resnet_a11 0.7131\n",
      "    try 8 resnet_a13 0.7116\n",
      "    try 9 resnet_a15 0.7082\n",
      "    try 10 resnet_b15 0.7105\n",
      "    try 11 resnet_b18 0.7084\n",
      "    try 12 nas_a7 0.6948\n",
      "    try 13 irv2_a4 0.7067\n",
      "    try 14 irv2_a6 0.7069\n",
      "    try 15 se_resnet_a18 0.7071\n",
      "    try 16 se_resnet_b18 0.7158\n",
      "    try 17 se_resnet_b22 0.7102\n",
      "    try 18 se_resnext_e11 0.6910\n",
      "    try 19 dpn_a0 0.7039\n",
      "    try 20 dpn_a7 0.7060\n",
      "    try 21 dpn_b6 0.7089\n",
      "step = 6   index = 16   name = se_resnet_b18    f1 = 0.7158\n",
      "    try 0 se_resnext_d10 0.7122\n",
      "    try 1 se_resnext_d11 0.7190\n",
      "    try 2 iv3_a3 0.7133\n",
      "    try 3 iv3_a4 0.7170\n",
      "    try 4 iv3_a5 0.7192\n",
      "    try 5 iv3_a6 0.7151\n",
      "    try 6 resnet_a10 0.7140\n",
      "    try 7 resnet_a11 0.7119\n",
      "    try 8 resnet_a13 0.7122\n",
      "    try 9 resnet_a15 0.7112\n",
      "    try 10 resnet_b15 0.7160\n",
      "    try 11 resnet_b18 0.7140\n",
      "    try 12 nas_a7 0.7098\n",
      "    try 13 irv2_a4 0.7137\n",
      "    try 14 irv2_a6 0.7116\n",
      "    try 15 se_resnet_a18 0.7094\n",
      "    try 16 se_resnet_b18 0.7085\n",
      "    try 17 se_resnet_b22 0.7121\n",
      "    try 18 se_resnext_e11 0.7087\n",
      "    try 19 dpn_a0 0.7090\n",
      "    try 20 dpn_a7 0.7106\n",
      "    try 21 dpn_b6 0.7088\n",
      "step = 7   index = 4   name = iv3_a5    f1 = 0.7192\n",
      "    try 0 se_resnext_d10 0.7101\n",
      "    try 1 se_resnext_d11 0.7080\n",
      "    try 2 iv3_a3 0.7100\n",
      "    try 3 iv3_a4 0.7112\n",
      "    try 4 iv3_a5 0.7004\n",
      "    try 5 iv3_a6 0.7022\n",
      "    try 6 resnet_a10 0.7051\n",
      "    try 7 resnet_a11 0.7091\n",
      "    try 8 resnet_a13 0.7062\n",
      "    try 9 resnet_a15 0.7057\n",
      "    try 10 resnet_b15 0.7081\n",
      "    try 11 resnet_b18 0.7058\n",
      "    try 12 nas_a7 0.7049\n",
      "    try 13 irv2_a4 0.7061\n",
      "    try 14 irv2_a6 0.7022\n",
      "    try 15 se_resnet_a18 0.7033\n",
      "    try 16 se_resnet_b18 0.7076\n",
      "    try 17 se_resnet_b22 0.7038\n",
      "    try 18 se_resnext_e11 0.7095\n",
      "    try 19 dpn_a0 0.7027\n",
      "    try 20 dpn_a7 0.7036\n",
      "    try 21 dpn_b6 0.7097\n",
      "step = 8   index = 3   name = iv3_a4    f1 = 0.7112\n",
      "    try 0 se_resnext_d10 0.7161\n",
      "    try 1 se_resnext_d11 0.7126\n",
      "    try 2 iv3_a3 0.7103\n",
      "    try 3 iv3_a4 0.7042\n",
      "    try 4 iv3_a5 0.7064\n",
      "    try 5 iv3_a6 0.7050\n",
      "    try 6 resnet_a10 0.7110\n",
      "    try 7 resnet_a11 0.7083\n",
      "    try 8 resnet_a13 0.7070\n",
      "    try 9 resnet_a15 0.7052\n",
      "    try 10 resnet_b15 0.7049\n",
      "    try 11 resnet_b18 0.7080\n",
      "    try 12 nas_a7 0.7142\n",
      "    try 13 irv2_a4 0.7041\n",
      "    try 14 irv2_a6 0.7056\n",
      "    try 15 se_resnet_a18 0.7022\n",
      "    try 16 se_resnet_b18 0.7056\n",
      "    try 17 se_resnet_b22 0.7083\n",
      "    try 18 se_resnext_e11 0.7231\n",
      "    try 19 dpn_a0 0.7018\n",
      "    try 20 dpn_a7 0.7024\n",
      "    try 21 dpn_b6 0.7118\n",
      "step = 9   index = 18   name = se_resnext_e11    f1 = 0.7231\n",
      "    try 0 se_resnext_d10 0.7119\n",
      "    try 1 se_resnext_d11 0.7140\n",
      "    try 2 iv3_a3 0.7161\n",
      "    try 3 iv3_a4 0.7170\n",
      "    try 4 iv3_a5 0.7127\n",
      "    try 5 iv3_a6 0.7114\n",
      "    try 6 resnet_a10 0.7211\n",
      "    try 7 resnet_a11 0.7189\n",
      "    try 8 resnet_a13 0.7192\n",
      "    try 9 resnet_a15 0.7158\n",
      "    try 10 resnet_b15 0.7173\n",
      "    try 11 resnet_b18 0.7162\n",
      "    try 12 nas_a7 0.7134\n",
      "    try 13 irv2_a4 0.7145\n",
      "    try 14 irv2_a6 0.7167\n",
      "    try 15 se_resnet_a18 0.7129\n",
      "    try 16 se_resnet_b18 0.7210\n",
      "    try 17 se_resnet_b22 0.7200\n",
      "    try 18 se_resnext_e11 0.7070\n",
      "    try 19 dpn_a0 0.7125\n",
      "    try 20 dpn_a7 0.7119\n",
      "    try 21 dpn_b6 0.7185\n",
      "step = 10   index = 6   name = resnet_a10    f1 = 0.7211\n",
      "    try 0 se_resnext_d10 0.7109\n",
      "    try 1 se_resnext_d11 0.7105\n",
      "    try 2 iv3_a3 0.7098\n",
      "    try 3 iv3_a4 0.7123\n",
      "    try 4 iv3_a5 0.7081\n",
      "    try 5 iv3_a6 0.7093\n",
      "    try 6 resnet_a10 0.7058\n",
      "    try 7 resnet_a11 0.7082\n",
      "    try 8 resnet_a13 0.7111\n",
      "    try 9 resnet_a15 0.7080\n",
      "    try 10 resnet_b15 0.7112\n",
      "    try 11 resnet_b18 0.7129\n",
      "    try 12 nas_a7 0.7117\n",
      "    try 13 irv2_a4 0.7114\n",
      "    try 14 irv2_a6 0.7073\n",
      "    try 15 se_resnet_a18 0.7071\n",
      "    try 16 se_resnet_b18 0.7142\n",
      "    try 17 se_resnet_b22 0.7119\n",
      "    try 18 se_resnext_e11 0.7089\n",
      "    try 19 dpn_a0 0.7057\n",
      "    try 20 dpn_a7 0.7057\n",
      "    try 21 dpn_b6 0.7171\n",
      "step = 11   index = 21   name = dpn_b6    f1 = 0.7171\n",
      "    try 0 se_resnext_d10 0.7205\n",
      "    try 1 se_resnext_d11 0.7198\n",
      "    try 2 iv3_a3 0.7151\n",
      "    try 3 iv3_a4 0.7149\n",
      "    try 4 iv3_a5 0.7151\n",
      "    try 5 iv3_a6 0.7131\n",
      "    try 6 resnet_a10 0.7160\n",
      "    try 7 resnet_a11 0.7141\n",
      "    try 8 resnet_a13 0.7147\n",
      "    try 9 resnet_a15 0.7142\n",
      "    try 10 resnet_b15 0.7148\n",
      "    try 11 resnet_b18 0.7154\n",
      "    try 12 nas_a7 0.7218\n",
      "    try 13 irv2_a4 0.7135\n",
      "    try 14 irv2_a6 0.7149\n",
      "    try 15 se_resnet_a18 0.7132\n",
      "    try 16 se_resnet_b18 0.7132\n",
      "    try 17 se_resnet_b22 0.7168\n",
      "    try 18 se_resnext_e11 0.7171\n",
      "    try 19 dpn_a0 0.7126\n",
      "    try 20 dpn_a7 0.7137\n",
      "    try 21 dpn_b6 0.7080\n",
      "step = 12   index = 12   name = nas_a7    f1 = 0.7218\n",
      "    try 0 se_resnext_d10 0.7169\n",
      "    try 1 se_resnext_d11 0.7185\n",
      "    try 2 iv3_a3 0.7179\n",
      "    try 3 iv3_a4 0.7168\n",
      "    try 4 iv3_a5 0.7162\n",
      "    try 5 iv3_a6 0.7144\n",
      "    try 6 resnet_a10 0.7204\n",
      "    try 7 resnet_a11 0.7178\n",
      "    try 8 resnet_a13 0.7172\n",
      "    try 9 resnet_a15 0.7145\n",
      "    try 10 resnet_b15 0.7177\n",
      "    try 11 resnet_b18 0.7166\n",
      "    try 12 nas_a7 0.7124\n",
      "    try 13 irv2_a4 0.7160\n",
      "    try 14 irv2_a6 0.7172\n",
      "    try 15 se_resnet_a18 0.7144\n",
      "    try 16 se_resnet_b18 0.7178\n",
      "    try 17 se_resnet_b22 0.7200\n",
      "    try 18 se_resnext_e11 0.7177\n",
      "    try 19 dpn_a0 0.7138\n",
      "    try 20 dpn_a7 0.7142\n",
      "    try 21 dpn_b6 0.7119\n",
      "step = 13   index = 6   name = resnet_a10    f1 = 0.7204\n",
      "    try 0 se_resnext_d10 0.7117\n",
      "    try 1 se_resnext_d11 0.7100\n",
      "    try 2 iv3_a3 0.7088\n",
      "    try 3 iv3_a4 0.7110\n",
      "    try 4 iv3_a5 0.7090\n",
      "    try 5 iv3_a6 0.7076\n",
      "    try 6 resnet_a10 0.7124\n",
      "    try 7 resnet_a11 0.7112\n",
      "    try 8 resnet_a13 0.7098\n",
      "    try 9 resnet_a15 0.7101\n",
      "    try 10 resnet_b15 0.7126\n",
      "    try 11 resnet_b18 0.7114\n",
      "    try 12 nas_a7 0.7066\n",
      "    try 13 irv2_a4 0.7114\n",
      "    try 14 irv2_a6 0.7096\n",
      "    try 15 se_resnet_a18 0.7084\n",
      "    try 16 se_resnet_b18 0.7141\n",
      "    try 17 se_resnet_b22 0.7150\n",
      "    try 18 se_resnext_e11 0.7127\n",
      "    try 19 dpn_a0 0.7068\n",
      "    try 20 dpn_a7 0.7072\n",
      "    try 21 dpn_b6 0.7059\n",
      "step = 14   index = 17   name = se_resnet_b22    f1 = 0.7150\n",
      "    try 0 se_resnext_d10 0.7180\n",
      "    try 1 se_resnext_d11 0.7160\n",
      "    try 2 iv3_a3 0.7151\n",
      "    try 3 iv3_a4 0.7127\n",
      "    try 4 iv3_a5 0.7100\n",
      "    try 5 iv3_a6 0.7109\n",
      "    try 6 resnet_a10 0.7127\n",
      "    try 7 resnet_a11 0.7129\n",
      "    try 8 resnet_a13 0.7125\n",
      "    try 9 resnet_a15 0.7108\n",
      "    try 10 resnet_b15 0.7102\n",
      "    try 11 resnet_b18 0.7107\n",
      "    try 12 nas_a7 0.7135\n",
      "    try 13 irv2_a4 0.7091\n",
      "    try 14 irv2_a6 0.7109\n",
      "    try 15 se_resnet_a18 0.7094\n",
      "    try 16 se_resnet_b18 0.7112\n",
      "    try 17 se_resnet_b22 0.7084\n",
      "    try 18 se_resnext_e11 0.7214\n",
      "    try 19 dpn_a0 0.7091\n",
      "    try 20 dpn_a7 0.7088\n",
      "    try 21 dpn_b6 0.7104\n",
      "step = 15   index = 18   name = se_resnext_e11    f1 = 0.7214\n",
      "    try 0 se_resnext_d10 0.7175\n",
      "    try 1 se_resnext_d11 0.7177\n",
      "    try 2 iv3_a3 0.7200\n",
      "    try 3 iv3_a4 0.7209\n",
      "    try 4 iv3_a5 0.7181\n",
      "    try 5 iv3_a6 0.7185\n",
      "    try 6 resnet_a10 0.7171\n",
      "    try 7 resnet_a11 0.7214\n",
      "    try 8 resnet_a13 0.7206\n",
      "    try 9 resnet_a15 0.7202\n",
      "    try 10 resnet_b15 0.7217\n",
      "    try 11 resnet_b18 0.7211\n",
      "    try 12 nas_a7 0.7176\n",
      "    try 13 irv2_a4 0.7196\n",
      "    try 14 irv2_a6 0.7215\n",
      "    try 15 se_resnet_a18 0.7159\n",
      "    try 16 se_resnet_b18 0.7207\n",
      "    try 17 se_resnet_b22 0.7197\n",
      "    try 18 se_resnext_e11 0.7155\n",
      "    try 19 dpn_a0 0.7160\n",
      "    try 20 dpn_a7 0.7168\n",
      "    try 21 dpn_b6 0.7173\n",
      "step = 16   index = 10   name = resnet_b15    f1 = 0.7217\n",
      "    try 0 se_resnext_d10 0.7189\n",
      "    try 1 se_resnext_d11 0.7192\n",
      "    try 2 iv3_a3 0.7161\n",
      "    try 3 iv3_a4 0.7162\n",
      "    try 4 iv3_a5 0.7152\n",
      "    try 5 iv3_a6 0.7151\n",
      "    try 6 resnet_a10 0.7169\n",
      "    try 7 resnet_a11 0.7132\n",
      "    try 8 resnet_a13 0.7125\n",
      "    try 9 resnet_a15 0.7108\n",
      "    try 10 resnet_b15 0.7109\n",
      "    try 11 resnet_b18 0.7124\n",
      "    try 12 nas_a7 0.7166\n",
      "    try 13 irv2_a4 0.7131\n",
      "    try 14 irv2_a6 0.7156\n",
      "    try 15 se_resnet_a18 0.7119\n",
      "    try 16 se_resnet_b18 0.7143\n",
      "    try 17 se_resnet_b22 0.7121\n",
      "    try 18 se_resnext_e11 0.7195\n",
      "    try 19 dpn_a0 0.7106\n",
      "    try 20 dpn_a7 0.7107\n",
      "    try 21 dpn_b6 0.7130\n",
      "step = 17   index = 18   name = se_resnext_e11    f1 = 0.7195\n",
      "    try 0 se_resnext_d10 0.7167\n",
      "    try 1 se_resnext_d11 0.7187\n",
      "    try 2 iv3_a3 0.7193\n",
      "    try 3 iv3_a4 0.7209\n",
      "    try 4 iv3_a5 0.7216\n",
      "    try 5 iv3_a6 0.7222\n",
      "    try 6 resnet_a10 0.7194\n",
      "    try 7 resnet_a11 0.7209\n",
      "    try 8 resnet_a13 0.7215\n",
      "    try 9 resnet_a15 0.7188\n",
      "    try 10 resnet_b15 0.7197\n",
      "    try 11 resnet_b18 0.7210\n",
      "    try 12 nas_a7 0.7183\n",
      "    try 13 irv2_a4 0.7192\n",
      "    try 14 irv2_a6 0.7215\n",
      "    try 15 se_resnet_a18 0.7184\n",
      "    try 16 se_resnet_b18 0.7209\n",
      "    try 17 se_resnet_b22 0.7207\n",
      "    try 18 se_resnext_e11 0.7142\n",
      "    try 19 dpn_a0 0.7184\n",
      "    try 20 dpn_a7 0.7185\n",
      "    try 21 dpn_b6 0.7192\n",
      "step = 18   index = 5   name = iv3_a6    f1 = 0.7222\n",
      "    try 0 se_resnext_d10 0.7182\n",
      "    try 1 se_resnext_d11 0.7179\n",
      "    try 2 iv3_a3 0.7178\n",
      "    try 3 iv3_a4 0.7183\n",
      "    try 4 iv3_a5 0.7164\n",
      "    try 5 iv3_a6 0.7139\n",
      "    try 6 resnet_a10 0.7170\n",
      "    try 7 resnet_a11 0.7191\n",
      "    try 8 resnet_a13 0.7170\n",
      "    try 9 resnet_a15 0.7176\n",
      "    try 10 resnet_b15 0.7178\n",
      "    try 11 resnet_b18 0.7171\n",
      "    try 12 nas_a7 0.7176\n",
      "    try 13 irv2_a4 0.7181\n",
      "    try 14 irv2_a6 0.7202\n",
      "    try 15 se_resnet_a18 0.7146\n",
      "    try 16 se_resnet_b18 0.7194\n",
      "    try 17 se_resnet_b22 0.7199\n",
      "    try 18 se_resnext_e11 0.7168\n",
      "    try 19 dpn_a0 0.7152\n",
      "    try 20 dpn_a7 0.7147\n",
      "    try 21 dpn_b6 0.7158\n",
      "step = 19   index = 14   name = irv2_a6    f1 = 0.7202\n",
      "    try 0 se_resnext_d10 0.7217\n",
      "    try 1 se_resnext_d11 0.7198\n",
      "    try 2 iv3_a3 0.7164\n",
      "    try 3 iv3_a4 0.7170\n",
      "    try 4 iv3_a5 0.7151\n",
      "    try 5 iv3_a6 0.7145\n",
      "    try 6 resnet_a10 0.7171\n",
      "    try 7 resnet_a11 0.7151\n",
      "    try 8 resnet_a13 0.7155\n",
      "    try 9 resnet_a15 0.7148\n",
      "    try 10 resnet_b15 0.7151\n",
      "    try 11 resnet_b18 0.7154\n",
      "    try 12 nas_a7 0.7199\n",
      "    try 13 irv2_a4 0.7151\n",
      "    try 14 irv2_a6 0.7151\n",
      "    try 15 se_resnet_a18 0.7151\n",
      "    try 16 se_resnet_b18 0.7189\n",
      "    try 17 se_resnet_b22 0.7164\n",
      "    try 18 se_resnext_e11 0.7224\n",
      "    try 19 dpn_a0 0.7139\n",
      "    try 20 dpn_a7 0.7145\n",
      "    try 21 dpn_b6 0.7155\n",
      "step = 20   index = 18   name = se_resnext_e11    f1 = 0.7224\n",
      "    try 0 se_resnext_d10 0.7137\n",
      "    try 1 se_resnext_d11 0.7143\n",
      "    try 2 iv3_a3 0.7179\n",
      "    try 3 iv3_a4 0.7218\n",
      "    try 4 iv3_a5 0.7184\n",
      "    try 5 iv3_a6 0.7182\n",
      "    try 6 resnet_a10 0.7181\n",
      "    try 7 resnet_a11 0.7200\n",
      "    try 8 resnet_a13 0.7185\n",
      "    try 9 resnet_a15 0.7164\n",
      "    try 10 resnet_b15 0.7209\n",
      "    try 11 resnet_b18 0.7213\n",
      "    try 12 nas_a7 0.7147\n",
      "    try 13 irv2_a4 0.7198\n",
      "    try 14 irv2_a6 0.7177\n",
      "    try 15 se_resnet_a18 0.7172\n",
      "    try 16 se_resnet_b18 0.7225\n",
      "    try 17 se_resnet_b22 0.7216\n",
      "    try 18 se_resnext_e11 0.7120\n",
      "    try 19 dpn_a0 0.7184\n",
      "    try 20 dpn_a7 0.7164\n",
      "    try 21 dpn_b6 0.7191\n",
      "step = 21   index = 16   name = se_resnet_b18    f1 = 0.7225\n",
      "    try 0 se_resnext_d10 0.7218\n",
      "    try 1 se_resnext_d11 0.7217\n",
      "    try 2 iv3_a3 0.7209\n",
      "    try 3 iv3_a4 0.7213\n",
      "    try 4 iv3_a5 0.7210\n",
      "    try 5 iv3_a6 0.7204\n",
      "    try 6 resnet_a10 0.7205\n",
      "    try 7 resnet_a11 0.7217\n",
      "    try 8 resnet_a13 0.7211\n",
      "    try 9 resnet_a15 0.7193\n",
      "    try 10 resnet_b15 0.7208\n",
      "    try 11 resnet_b18 0.7210\n",
      "    try 12 nas_a7 0.7232\n",
      "    try 13 irv2_a4 0.7189\n",
      "    try 14 irv2_a6 0.7196\n",
      "    try 15 se_resnet_a18 0.7189\n",
      "    try 16 se_resnet_b18 0.7191\n",
      "    try 17 se_resnet_b22 0.7203\n",
      "    try 18 se_resnext_e11 0.7195\n",
      "    try 19 dpn_a0 0.7186\n",
      "    try 20 dpn_a7 0.7194\n",
      "    try 21 dpn_b6 0.7176\n",
      "step = 22   index = 12   name = nas_a7    f1 = 0.7232\n",
      "    try 0 se_resnext_d10 0.7180\n",
      "    try 1 se_resnext_d11 0.7192\n",
      "    try 2 iv3_a3 0.7224\n",
      "    try 3 iv3_a4 0.7226\n",
      "    try 4 iv3_a5 0.7183\n",
      "    try 5 iv3_a6 0.7188\n",
      "    try 6 resnet_a10 0.7214\n",
      "    try 7 resnet_a11 0.7225\n",
      "    try 8 resnet_a13 0.7215\n",
      "    try 9 resnet_a15 0.7193\n",
      "    try 10 resnet_b15 0.7208\n",
      "    try 11 resnet_b18 0.7216\n",
      "    try 12 nas_a7 0.7161\n",
      "    try 13 irv2_a4 0.7198\n",
      "    try 14 irv2_a6 0.7207\n",
      "    try 15 se_resnet_a18 0.7162\n",
      "    try 16 se_resnet_b18 0.7217\n",
      "    try 17 se_resnet_b22 0.7209\n",
      "    try 18 se_resnext_e11 0.7177\n",
      "    try 19 dpn_a0 0.7174\n",
      "    try 20 dpn_a7 0.7170\n",
      "    try 21 dpn_b6 0.7206\n",
      "step = 23   index = 3   name = iv3_a4    f1 = 0.7226\n",
      "    try 0 se_resnext_d10 0.7227\n",
      "    try 1 se_resnext_d11 0.7225\n",
      "    try 2 iv3_a3 0.7206\n",
      "    try 3 iv3_a4 0.7203\n",
      "    try 4 iv3_a5 0.7230\n",
      "    try 5 iv3_a6 0.7209\n",
      "    try 6 resnet_a10 0.7226\n",
      "    try 7 resnet_a11 0.7213\n",
      "    try 8 resnet_a13 0.7211\n",
      "    try 9 resnet_a15 0.7213\n",
      "    try 10 resnet_b15 0.7228\n",
      "    try 11 resnet_b18 0.7218\n",
      "    try 12 nas_a7 0.7214\n",
      "    try 13 irv2_a4 0.7212\n",
      "    try 14 irv2_a6 0.7223\n",
      "    try 15 se_resnet_a18 0.7212\n",
      "    try 16 se_resnet_b18 0.7217\n",
      "    try 17 se_resnet_b22 0.7238\n",
      "    try 18 se_resnext_e11 0.7229\n",
      "    try 19 dpn_a0 0.7213\n",
      "    try 20 dpn_a7 0.7215\n",
      "    try 21 dpn_b6 0.7201\n",
      "step = 24   index = 17   name = se_resnet_b22    f1 = 0.7238\n",
      "    try 0 se_resnext_d10 0.7218\n",
      "    try 1 se_resnext_d11 0.7211\n",
      "    try 2 iv3_a3 0.7155\n",
      "    try 3 iv3_a4 0.7161\n",
      "    try 4 iv3_a5 0.7166\n",
      "    try 5 iv3_a6 0.7142\n",
      "    try 6 resnet_a10 0.7186\n",
      "    try 7 resnet_a11 0.7137\n",
      "    try 8 resnet_a13 0.7163\n",
      "    try 9 resnet_a15 0.7144\n",
      "    try 10 resnet_b15 0.7149\n",
      "    try 11 resnet_b18 0.7150\n",
      "    try 12 nas_a7 0.7185\n",
      "    try 13 irv2_a4 0.7151\n",
      "    try 14 irv2_a6 0.7155\n",
      "    try 15 se_resnet_a18 0.7160\n",
      "    try 16 se_resnet_b18 0.7152\n",
      "    try 17 se_resnet_b22 0.7151\n",
      "    try 18 se_resnext_e11 0.7243\n",
      "    try 19 dpn_a0 0.7145\n",
      "    try 20 dpn_a7 0.7150\n",
      "    try 21 dpn_b6 0.7189\n",
      "step = 25   index = 18   name = se_resnext_e11    f1 = 0.7243\n",
      "    try 0 se_resnext_d10 0.7222\n",
      "    try 1 se_resnext_d11 0.7224\n",
      "    try 2 iv3_a3 0.7233\n",
      "    try 3 iv3_a4 0.7236\n",
      "    try 4 iv3_a5 0.7240\n",
      "    try 5 iv3_a6 0.7234\n",
      "    try 6 resnet_a10 0.7224\n",
      "    try 7 resnet_a11 0.7237\n",
      "    try 8 resnet_a13 0.7235\n",
      "    try 9 resnet_a15 0.7218\n",
      "    try 10 resnet_b15 0.7242\n",
      "    try 11 resnet_b18 0.7238\n",
      "    try 12 nas_a7 0.7222\n",
      "    try 13 irv2_a4 0.7216\n",
      "    try 14 irv2_a6 0.7234\n",
      "    try 15 se_resnet_a18 0.7210\n",
      "    try 16 se_resnet_b18 0.7231\n",
      "    try 17 se_resnet_b22 0.7229\n",
      "    try 18 se_resnext_e11 0.7200\n",
      "    try 19 dpn_a0 0.7215\n",
      "    try 20 dpn_a7 0.7217\n",
      "    try 21 dpn_b6 0.7219\n",
      "step = 26   index = 10   name = resnet_b15    f1 = 0.7242\n",
      "    try 0 se_resnext_d10 0.7225\n",
      "    try 1 se_resnext_d11 0.7229\n",
      "    try 2 iv3_a3 0.7212\n",
      "    try 3 iv3_a4 0.7213\n",
      "    try 4 iv3_a5 0.7238\n",
      "    try 5 iv3_a6 0.7210\n",
      "    try 6 resnet_a10 0.7234\n",
      "    try 7 resnet_a11 0.7232\n",
      "    try 8 resnet_a13 0.7221\n",
      "    try 9 resnet_a15 0.7211\n",
      "    try 10 resnet_b15 0.7218\n",
      "    try 11 resnet_b18 0.7222\n",
      "    try 12 nas_a7 0.7228\n",
      "    try 13 irv2_a4 0.7211\n",
      "    try 14 irv2_a6 0.7229\n",
      "    try 15 se_resnet_a18 0.7195\n",
      "    try 16 se_resnet_b18 0.7220\n",
      "    try 17 se_resnet_b22 0.7216\n",
      "    try 18 se_resnext_e11 0.7220\n",
      "    try 19 dpn_a0 0.7198\n",
      "    try 20 dpn_a7 0.7200\n",
      "    try 21 dpn_b6 0.7213\n",
      "step = 27   index = 4   name = iv3_a5    f1 = 0.7238\n",
      "    try 0 se_resnext_d10 0.7222\n",
      "    try 1 se_resnext_d11 0.7216\n",
      "    try 2 iv3_a3 0.7176\n",
      "    try 3 iv3_a4 0.7178\n",
      "    try 4 iv3_a5 0.7160\n",
      "    try 5 iv3_a6 0.7157\n",
      "    try 6 resnet_a10 0.7179\n",
      "    try 7 resnet_a11 0.7162\n",
      "    try 8 resnet_a13 0.7158\n",
      "    try 9 resnet_a15 0.7143\n",
      "    try 10 resnet_b15 0.7155\n",
      "    try 11 resnet_b18 0.7167\n",
      "    try 12 nas_a7 0.7197\n",
      "    try 13 irv2_a4 0.7154\n",
      "    try 14 irv2_a6 0.7161\n",
      "    try 15 se_resnet_a18 0.7155\n",
      "    try 16 se_resnet_b18 0.7171\n",
      "    try 17 se_resnet_b22 0.7173\n",
      "    try 18 se_resnext_e11 0.7240\n",
      "    try 19 dpn_a0 0.7138\n",
      "    try 20 dpn_a7 0.7142\n",
      "    try 21 dpn_b6 0.7205\n",
      "step = 28   index = 18   name = se_resnext_e11    f1 = 0.7240\n",
      "    try 0 se_resnext_d10 0.7222\n",
      "    try 1 se_resnext_d11 0.7223\n",
      "    try 2 iv3_a3 0.7237\n",
      "    try 3 iv3_a4 0.7236\n",
      "    try 4 iv3_a5 0.7236\n",
      "    try 5 iv3_a6 0.7228\n",
      "    try 6 resnet_a10 0.7230\n",
      "    try 7 resnet_a11 0.7241\n",
      "    try 8 resnet_a13 0.7243\n",
      "    try 9 resnet_a15 0.7220\n",
      "    try 10 resnet_b15 0.7235\n",
      "    try 11 resnet_b18 0.7233\n",
      "    try 12 nas_a7 0.7220\n",
      "    try 13 irv2_a4 0.7224\n",
      "    try 14 irv2_a6 0.7230\n",
      "    try 15 se_resnet_a18 0.7211\n",
      "    try 16 se_resnet_b18 0.7251\n",
      "    try 17 se_resnet_b22 0.7236\n",
      "    try 18 se_resnext_e11 0.7217\n",
      "    try 19 dpn_a0 0.7219\n",
      "    try 20 dpn_a7 0.7212\n",
      "    try 21 dpn_b6 0.7231\n",
      "step = 29   index = 16   name = se_resnet_b18    f1 = 0.7251\n",
      "best step = 29   best f1 = 0.7251310663025536\n",
      "\n"
     ]
    },
    {
     "data": {
      "image/png": "[encoded data removed]",
      "text/plain": [
       "<Figure size 432x288 with 1 Axes>"
      ]
     },
     "metadata": {},
     "output_type": "display_data"
    },
    {
     "name": "stdout",
     "output_type": "stream",
     "text": [
      "    step  midx     score             mod      f1_0\n",
      "0      0    18  0.607192  se_resnext_e11  0.607192\n",
      "1      1    17  0.674095   se_resnet_b22  0.600615\n",
      "2      2     7  0.690599      resnet_a11  0.530497\n",
      "3      3    12  0.697182          nas_a7  0.551936\n",
      "4      4    14  0.707350         irv2_a6  0.587423\n",
      "5      5    18  0.710157  se_resnext_e11  0.607192\n",
      "6      6    16  0.715796   se_resnet_b18  0.600886\n",
      "7      7     4  0.719201          iv3_a5  0.569710\n",
      "8      8     3  0.711215          iv3_a4  0.562121\n",
      "9      9    18  0.723133  se_resnext_e11  0.607192\n",
      "10    10     6  0.721081      resnet_a10  0.443578\n",
      "11    11    21  0.717051          dpn_b6  0.424971\n",
      "12    12    12  0.721836          nas_a7  0.551936\n",
      "13    13     6  0.720379      resnet_a10  0.443578\n",
      "14    14    17  0.715039   se_resnet_b22  0.600615\n",
      "15    15    18  0.721373  se_resnext_e11  0.607192\n",
      "16    16    10  0.721688      resnet_b15  0.597819\n",
      "17    17    18  0.719463  se_resnext_e11  0.607192\n",
      "18    18     5  0.722161          iv3_a6  0.569416\n",
      "19    19    14  0.720227         irv2_a6  0.587423\n",
      "20    20    18  0.722405  se_resnext_e11  0.607192\n",
      "21    21    16  0.722535   se_resnet_b18  0.600886\n",
      "22    22    12  0.723166          nas_a7  0.551936\n",
      "23    23     3  0.722630          iv3_a4  0.562121\n",
      "24    24    17  0.723756   se_resnet_b22  0.600615\n",
      "25    25    18  0.724256  se_resnext_e11  0.607192\n",
      "26    26    10  0.724170      resnet_b15  0.597819\n",
      "27    27     4  0.723828          iv3_a5  0.569710\n",
      "28    28    18  0.723985  se_resnext_e11  0.607192\n",
      "29    29    16  0.725131   se_resnet_b18  0.600886\n",
      "\n",
      "      weight             mod      f1_0\n",
      "midx                                  \n",
      "3          2          iv3_a4  0.562121\n",
      "4          2          iv3_a5  0.569710\n",
      "5          1          iv3_a6  0.569416\n",
      "6          2      resnet_a10  0.443578\n",
      "7          1      resnet_a11  0.530497\n",
      "10         2      resnet_b15  0.597819\n",
      "12         3          nas_a7  0.551936\n",
      "14         2         irv2_a6  0.587423\n",
      "16         3   se_resnet_b18  0.600886\n",
      "17         3   se_resnet_b22  0.600615\n",
      "18         8  se_resnext_e11  0.607192\n",
      "21         1          dpn_b6  0.424971\n"
     ]
    },
    {
     "data": {
      "text/plain": [
       "<Figure size 432x288 with 0 Axes>"
      ]
     },
     "metadata": {},
     "output_type": "display_data"
    }
   ],
   "source": [
    "# oof = small\n",
    "\n",
    "# hillclimbing\n",
    "# vp = oof.copy()\n",
    "# offset = 5\n",
    "# nm = vp.shape[1] - offset\n",
    "nr = vp.shape[0]\n",
    "y = np.array([y for y in vp.y])\n",
    "# y = np.array(list(vp['masks'].values))\n",
    "nstep = 30\n",
    "\n",
    "step0fix = -1\n",
    "# step0fix = 5\n",
    "step1fix = -1\n",
    "\n",
    "intercept = 0\n",
    "rez = pd.DataFrame({'step':np.zeros(nstep).astype(int),'midx':np.zeros(nstep).astype(int),\n",
    "                    'score':np.zeros(nstep)})\n",
    "currEnsemble = 0 * np.array(list(vp.iloc[:,offset].values))\n",
    "\n",
    "metric = 'f1'\n",
    "# metric = 'iou'\n",
    "\n",
    "# using model-specific thresholds below so set global to 0\n",
    "# threshold = 0.\n",
    "# threshold = -0.4\n",
    "threshold = 0.36\n",
    "\n",
    "print('using ' + metric + ' threshold',threshold)\n",
    "\n",
    "# metric = \"mcc\"\n",
    "# metric = \"corr\"\n",
    "# metric = \"rmse\"\n",
    "# metric = \"mse\"\n",
    "# metric = \"mae\"\n",
    "# metric = \"winsorized_mae\"\n",
    "# metric = \"auc\"\n",
    "\n",
    "# maximizing\n",
    "bestScore = -9999999\n",
    "single = pd.DataFrame({'mod':np.repeat(\"\",nm)})\n",
    "start = 0\n",
    "for step in range(start,nstep):\n",
    "    single[metric+'_'+str(step)] = np.nan\n",
    "\n",
    "for step in range(start,nstep):\n",
    "    currIndex = 0\n",
    "    currScore = -9999999\n",
    "\n",
    "    for i in range(nm):\n",
    "\n",
    "        mname = vp.columns[i+offset]\n",
    "        \n",
    "        tv = np.array(list(vp.iloc[:,offset+i].values))\n",
    "\n",
    "        # adjust by model-specific threshold\n",
    "#         tv = tv - mthresh[mname]\n",
    "        \n",
    "        # adjust by model-class-specific thresholds\n",
    "#         for j in range(tv.shape[1]):\n",
    "#             tv[:,j] = tv[:,j] - cthresh[mname][j]\n",
    "\n",
    "        if np.sum(np.isnan(tv)) > 0: continue\n",
    "            \n",
    "        if step==0:\n",
    "            tryEnsemble = tv\n",
    "        else:\n",
    "            # running mean\n",
    "            tryEnsemble = (step * currEnsemble + tv)/(step+1)\n",
    "            # full matrix\n",
    "            # choose median or mean here\n",
    "            # tryEnsemble = rowMedians(cbind(currEnsemble,tv))\n",
    "            # tryEnsemble = rowMeans(cbind(currEnsemble,tv))\n",
    "            # quantiles are a lot slower\n",
    "            # tryEnsemble = rowQuantiles(cbind(currEnsemble,tv),probs=0.6)\n",
    "\n",
    "        if metric==\"f1\":\n",
    "            tryScore = f1_score(y, np.int32(tryEnsemble > threshold),\n",
    "                                average='macro')\n",
    "            if step > 0: print('    try',i,mname,\"%6.4f\" % tryScore)\n",
    "        elif metric==\"iou\":\n",
    "            tryScore = iou_metric_batch(y, np.int32(tryEnsemble > threshold),\n",
    "                                        pred_eps=pred_eps)\n",
    "            if step > 0: print('    try',i,mname,\"%6.4f\" % tryScore)\n",
    "        elif metric==\"mse\":\n",
    "            tryScore = -mse(y,tryEnsemble)\n",
    "        elif metric==\"mae\": \n",
    "            tryScore = -mae(y,tryEnsemble)\n",
    "        elif metric==\"winsorized_mae\": \n",
    "            tryScore = -winsorized_mae(y,tryEnsemble+intercept)\n",
    "        elif metric==\"rmse\":\n",
    "            tryScore = -rmse(y,tryEnsemble)\n",
    "        elif metric==\"corr\":\n",
    "            tryScore = cor(y,tryEnsemble)\n",
    "        elif metric==\"mcc\":\n",
    "            opt = eval_mcc3(y,tryEnsemble,cut=T)\n",
    "            tryScore = opt[1]\n",
    "            cut = opt[2]\n",
    "            # opt = optimize(mcc,c(0.1,0.3),tryEnsemble,vp$y,maximum=T)\n",
    "            # tryScore = opt$objective\n",
    "        elif metric==\"logloss\":\n",
    "            # tryScore = -logLoss(vp$y,tryEnsemble,)\n",
    "            tryScore = -eval_logloss2(tryEnsemble,y)\n",
    "        elif metric==\"auc\":\n",
    "            tryScore = auc2(y,tryEnsemble)\n",
    "        elif metric==\"auprc\":\n",
    "            tryScore = auprc(tryEnsemble, y)\n",
    "            # tryScore = pr.curve(scores.class0 = tryEnsemble, weights.class0 = vp$y)$auc.integral\n",
    "            # tryScore = pr.curve(scores.class0 = tryEnsemble, weights.class0 = vp$y)$auc.davis.goadrich\n",
    "        elif metric==\"aurocpr\":\n",
    "            auroc = auc(y,tryEnsemble)\n",
    "            # auprc = pr.curve(scores.class0 = tryEnsemble, weights.class0 = vp$y)$auc.integral\n",
    "            tryScore = (auroc + auprc)/2\n",
    "        elif metric==\"sqwk\":\n",
    "            tryScore = sqwk(y,tryEnsemble,1,8)\n",
    "        \n",
    "        ok = 1\n",
    "        if (step==0) and (step0fix>-1) and (i!=step0fix): ok = 0 \n",
    "        if (step==1) and (step1fix>-1) and (i!=step1fix): ok = 0 \n",
    "\n",
    "        if (tryScore > currScore) and (ok==1):\n",
    "            currIndex = i\n",
    "            currScore = tryScore\n",
    "            if (step==0):\n",
    "                saveEnsemble = tv.copy()\n",
    "            else:\n",
    "                # running mean\n",
    "                saveEnsemble = tryEnsemble.copy()\n",
    "                # save whole matrix\n",
    "                # saveEnsemble = np.concatenate((currEnsemble,tv),axis=1)\n",
    "            if metric==\"mcc\": currCut = cut\n",
    "\n",
    "        # if (step==0) or ((step==1) and (step0fix>-1)) or ((step==2) and (step1fix>-1)):\n",
    "        if (step==0):\n",
    "            if (metric==\"mcc\"):\n",
    "                print(\"model\",i,metric,\"for\",vp.columns[i+offset],\"=\",tryScore,\"  cut =\",cut,\"\\n\")\n",
    "            else:\n",
    "                print(\"model\",i,metric,\"for\",vp.columns[i+offset],\"= %6.4f\" % tryScore)\n",
    "\n",
    "        if step==0:\n",
    "            single.loc[i,'mod'] = vp.columns[i+offset]  \n",
    "        single.iloc[i,step+1] = tryScore\n",
    "\n",
    "    if metric==\"mcc\":\n",
    "        print(\"step =\",step,\"  index =\",currIndex,\"  name =\", vp.columns[currIndex+offset],\"  \",\n",
    "            metric,\"= %6.4f\" % currScore,\"  cut =\",currCut)\n",
    "    else:\n",
    "        print(\"step =\",step,\"  index =\",currIndex,\"  name =\", vp.columns[currIndex+offset],\"  \",\n",
    "            metric,\"= %6.4f\" % currScore)\n",
    "\n",
    "    currEnsemble = saveEnsemble.copy()\n",
    "    if currScore > bestScore:\n",
    "        bestScore = currScore\n",
    "        bestStep = step\n",
    "        bestEnsemble = currEnsemble.copy()\n",
    "        if metric==\"mcc\": bestCut = currCut\n",
    "\n",
    "    rez.iloc[step,0] = step\n",
    "    rez.iloc[step,1] = currIndex\n",
    "    rez.iloc[step,2] = currScore\n",
    "\n",
    "if (metric==\"mcc\"):\n",
    "    print(\"best step =\",bestStep,\"  best\",metric,\"=\",bestScore,\"  best cut =\",bestCut)\n",
    "else:\n",
    "    print(\"best step =\",bestStep,\"  best\",metric,\"=\",bestScore)\n",
    "\n",
    "rez0 = rez.copy()\n",
    "\n",
    "# tb = table(rez$index[1:bestStep])\n",
    "# names(tb) = names(vp)[(offset+1):ncol(vp)][as.integer(names(table(rez$index[1:bestStep])))]\n",
    "\n",
    "# if (intercept!=0) {\n",
    "#   tb[\"Intercept\"] = intercept\n",
    "# }\n",
    "\n",
    "# print(tb[order(-tb)])\n",
    "# print(single[order(-single[,2]),][1:min(nrow(single),40),])\n",
    "\n",
    "# plot hillclimbing\n",
    "print('')\n",
    "plt.plot(rez0.step, rez0.score)\n",
    "plt.plot(bestStep, bestScore, \"xr\", label=\"Best\")\n",
    "plt.xlabel(\"Step\")\n",
    "plt.ylabel(\"IoU\")\n",
    "plt.title(\"IOU Hillclimbing ({}, {})\".format(bestStep, bestScore))\n",
    "plt.legend()\n",
    "plt.show()\n",
    "plt.gcf().clear()\n",
    "\n",
    "# display the weights\n",
    "rez = rez.iloc[:(bestStep+1)]\n",
    "# print(rez)\n",
    "\n",
    "single0 = single.iloc[:,:2]\n",
    "\n",
    "rez['midx'] = rez['midx'].astype(int)\n",
    "rez = rez.join(single0,how='left',on='midx')\n",
    "print(rez)\n",
    "print('')\n",
    "\n",
    "rez['weight'] = 1\n",
    "tb = rez.loc[:,['midx','weight']].groupby('midx').count()\n",
    "# print(tb)\n",
    "# print(single)\n",
    "\n",
    "tb = tb.join(single0,how='left')\n",
    "print(tb)"
   ]
  },
  {
   "cell_type": "code",
   "execution_count": 277,
   "metadata": {},
   "outputs": [
    {
     "name": "stdout",
     "output_type": "stream",
     "text": [
      "\n",
      "score_best 0.7251777074719807\n",
      "threshold_best 0.3608\n",
      "\n"
     ]
    },
    {
     "data": {
      "image/png": "[encoded data removed]",
      "text/plain": [
       "<Figure size 432x288 with 1 Axes>"
      ]
     },
     "metadata": {},
     "output_type": "display_data"
    },
    {
     "name": "stdout",
     "output_type": "stream",
     "text": [
      "               mod   mean_f1\n",
      "16   se_resnet_b18  0.707527\n",
      "3           iv3_a4  0.707362\n",
      "14         irv2_a6  0.707035\n",
      "10      resnet_b15  0.706973\n",
      "11      resnet_b18  0.706544\n",
      "4           iv3_a5  0.705345\n",
      "17   se_resnet_b22  0.705328\n",
      "8       resnet_a13  0.705033\n",
      "2           iv3_a3  0.705003\n",
      "7       resnet_a11  0.704867\n",
      "1   se_resnext_d11  0.704149\n",
      "5           iv3_a6  0.703643\n",
      "18  se_resnext_e11  0.703383\n",
      "9       resnet_a15  0.703060\n",
      "0   se_resnext_d10  0.702217\n",
      "20          dpn_a7  0.701800\n",
      "6       resnet_a10  0.701687\n",
      "13         irv2_a4  0.701167\n",
      "15   se_resnet_a18  0.700905\n",
      "19          dpn_a0  0.700746\n",
      "12          nas_a7  0.700175\n",
      "21          dpn_b6  0.694265\n"
     ]
    },
    {
     "data": {
      "text/plain": [
       "<Figure size 432x288 with 0 Axes>"
      ]
     },
     "metadata": {},
     "output_type": "display_data"
    }
   ],
   "source": [
    "# tb = table(rez$index[1:bestStep])\n",
    "# names(tb) = names(vp)[(offset+1):ncol(vp)][as.integer(names(table(rez$index[1:bestStep])))]\n",
    "\n",
    "# if (intercept!=0) {\n",
    "#   tb[\"Intercept\"] = intercept\n",
    "# }\n",
    "\n",
    "# print(tb[order(-tb)])\n",
    "# print(single[order(-single[,2]),][1:min(nrow(single),40),])\n",
    "\n",
    "# # plot hillclimbing\n",
    "# ggplot(data=rez, aes(x=step, y=score)) + \n",
    "#   geom_line(size=.75) + geom_point()   \n",
    "\n",
    "\n",
    "# compute best threshold for computed ensemble\n",
    "# thresholds = np.linspace(-2, 2, 41)\n",
    "scores = np.array([f1_score(y, np.int32(bestEnsemble > threshold),\n",
    "                        average='macro') for threshold in thresholds])\n",
    "# ious = np.array([iou_metric_batch(train_df.masks, np.int32(bestEnsemble > threshold), \\\n",
    "#                                   pred_eps=pred_eps) for threshold in thresholds])\n",
    "\n",
    "# threshold_best_index = np.argmax(ious[9:-10]) + 9\n",
    "threshold_best_index = np.argmax(scores)\n",
    "score_best = scores[threshold_best_index]\n",
    "threshold_best = thresholds[threshold_best_index]\n",
    "print('')\n",
    "print('score_best',score_best)\n",
    "print('threshold_best',threshold_best)\n",
    "print('')\n",
    "\n",
    "plt.plot(thresholds, scores)\n",
    "plt.plot(threshold_best, score_best, \"xr\", label=\"Best threshold\")\n",
    "plt.xlabel(\"Threshold\")\n",
    "plt.ylabel(\"F1\")\n",
    "plt.title(\"Threshold vs F1 ({}, {})\".format(threshold_best, score_best))\n",
    "plt.legend()\n",
    "plt.show()\n",
    "plt.gcf().clear()\n",
    "\n",
    "single['mean_'+metric] = single.iloc[:,1:].mean(axis=1)\n",
    "single.sort_values('mean_'+metric,ascending=False,inplace=True)\n",
    "print(single.loc[:,['mod','mean_'+metric]])"
   ]
  },
  {
   "cell_type": "code",
   "execution_count": 278,
   "metadata": {},
   "outputs": [
    {
     "name": "stdout",
     "output_type": "stream",
     "text": [
      "macro f1 0.7252\n",
      "\n",
      "class 16   prop 0.0171   f1 0.5443    Cytokinetic bridge\n",
      "[[30406   136]\n",
      " [  281   249]]\n",
      "\n",
      "class 18   prop 0.0290   f1 0.5854    Microtubule organizing center\n",
      "[[29842   328]\n",
      " [  393   509]]\n",
      "\n",
      "class 17   prop 0.0068   f1 0.5885    Mitotic spindle\n",
      "[[30801    61]\n",
      " [   97   113]]\n",
      "\n",
      "class 26   prop 0.0106   f1 0.5911    Cytoplasmic bodies\n",
      "[[30643   101]\n",
      " [  148   180]]\n",
      "\n",
      "class  6   prop 0.0324   f1 0.6270    Endoplasmic reticulum\n",
      "[[29629   435]\n",
      " [  349   659]]\n",
      "\n",
      "class 22   prop 0.0258   f1 0.6276    Cell junctions\n",
      "[[29935   335]\n",
      " [  282   520]]\n",
      "\n",
      "class 20   prop 0.0055   f1 0.6341    Lipid droplets\n",
      "[[30876    24]\n",
      " [   81    91]]\n",
      "\n",
      "class 19   prop 0.0477   f1 0.6515    Centrosome\n",
      "[[29110   480]\n",
      " [  534   948]]\n",
      "\n",
      "class  5   prop 0.0809   f1 0.6826    Nuclear bodies\n",
      "[[27959   600]\n",
      " [  900  1613]]\n",
      "\n",
      "class 13   prop 0.0173   f1 0.6860    Focal adhesion sites\n",
      "[[30392   143]\n",
      " [  182   355]]\n",
      "\n",
      "class 21   prop 0.1216   f1 0.6975    Plasma membrane\n",
      "[[26151  1144]\n",
      " [ 1142  2635]]\n",
      "\n",
      "class 25   prop 0.2648   f1 0.7133    Cytosol\n",
      "[[20223  2621]\n",
      " [ 2214  6014]]\n",
      "\n",
      "class 12   prop 0.0221   f1 0.7237    Actin filaments\n",
      "[[30199   185]\n",
      " [  193   495]]\n",
      "\n",
      "class  3   prop 0.0502   f1 0.7334    Nucleoli fibrillar center\n",
      "[[29129   382]\n",
      " [  436  1125]]\n",
      "\n",
      "class  8   prop 0.0017   f1 0.7529    Peroxisomes\n",
      "[[31019     0]\n",
      " [   21    32]]\n",
      "\n",
      "class 15   prop 0.0007   f1 0.7568    Microtubule ends\n",
      "[[31049     2]\n",
      " [    7    14]]\n",
      "\n",
      "class 24   prop 0.0104   f1 0.7631    Aggresome\n",
      "[[30683    67]\n",
      " [   82   240]]\n",
      "\n",
      "class 27   prop 0.0004   f1 0.7778    Rods & rings\n",
      "[[31061     0]\n",
      " [    4     7]]\n",
      "\n",
      "class 11   prop 0.0352   f1 0.7797    Intermediate filaments\n",
      "[[29798   181]\n",
      " [  279   814]]\n",
      "\n",
      "class  9   prop 0.0014   f1 0.7838    Endosomes\n",
      "[[31027     0]\n",
      " [   16    29]]\n",
      "\n",
      "class  4   prop 0.0598   f1 0.7966    Nuclear speckles\n",
      "[[28839   375]\n",
      " [  380  1478]]\n",
      "\n",
      "class  2   prop 0.1165   f1 0.8006    Nucleoli\n",
      "[[26781   670]\n",
      " [  757  2864]]\n",
      "\n",
      "class 10   prop 0.0009   f1 0.8085    Lysosomes\n",
      "[[31044     0]\n",
      " [    9    19]]\n",
      "\n",
      "class  7   prop 0.0908   f1 0.8127    Golgi apparatus\n",
      "[[27839   411]\n",
      " [  609  2213]]\n",
      "\n",
      "class 23   prop 0.0954   f1 0.8206    Mitochondria\n",
      "[[27667   440]\n",
      " [  596  2369]]\n",
      "\n",
      "class  1   prop 0.0404   f1 0.8460    Nuclear membrane\n",
      "[[29596   222]\n",
      " [  172  1082]]\n",
      "\n",
      "class  0   prop 0.4147   f1 0.8551    Nucleoplasm\n",
      "[[15431  2756]\n",
      " [ 1204 11681]]\n",
      "\n",
      "class 14   prop 0.0343   f1 0.8649    Microtubules\n",
      "[[29795   211]\n",
      " [   93   973]]\n",
      "\n"
     ]
    }
   ],
   "source": [
    "# error analysis\n",
    "from sklearn.metrics import confusion_matrix\n",
    "\n",
    "cm = [confusion_matrix(y[:,i], (bestEnsemble[:,i]  > threshold_best).astype(int)) \\\n",
    "       for i in range(y.shape[1])]\n",
    "fm = [f1_score(y[:,i], (bestEnsemble[:,i]  > threshold_best).astype(int)) \\\n",
    "       for i in range(y.shape[1])]\n",
    "\n",
    "print('macro f1','%6.4f' % np.mean(fm))\n",
    "print()\n",
    "\n",
    "# sort from worst to best\n",
    "order = np.array(fm).argsort()\n",
    "ymean = np.mean(y,axis=0)\n",
    "\n",
    "for i in range(y.shape[1]):\n",
    "    oi = order[i]\n",
    "    print('class', '%2d' % oi,'  prop', '%6.4f' % ymean[oi], \n",
    "                     '  f1', '%6.4f' % fm[oi], '  ', LABEL_MAP[oi])\n",
    "    print(cm[oi])\n",
    "    print()"
   ]
  },
  {
   "cell_type": "code",
   "execution_count": 279,
   "metadata": {},
   "outputs": [
    {
     "data": {
      "text/plain": [
       "0.7251777074719807"
      ]
     },
     "execution_count": 279,
     "metadata": {},
     "output_type": "execute_result"
    }
   ],
   "source": [
    "np.mean(fm)"
   ]
  },
  {
   "cell_type": "code",
   "execution_count": 280,
   "metadata": {},
   "outputs": [
    {
     "ename": "NameError",
     "evalue": "name 'ioua' is not defined",
     "output_type": "error",
     "traceback": [
      "\u001b[0;31m---------------------------------------------------------------------------\u001b[0m",
      "\u001b[0;31mNameError\u001b[0m                                 Traceback (most recent call last)",
      "\u001b[0;32m<ipython-input-280-6ae4d2a9684d>\u001b[0m in \u001b[0;36m<module>\u001b[0;34m()\u001b[0m\n\u001b[1;32m      2\u001b[0m \u001b[0;34m\u001b[0m\u001b[0m\n\u001b[1;32m      3\u001b[0m \u001b[0;31m# best possible score\u001b[0m\u001b[0;34m\u001b[0m\u001b[0;34m\u001b[0m\u001b[0m\n\u001b[0;32m----> 4\u001b[0;31m \u001b[0mnp\u001b[0m\u001b[0;34m.\u001b[0m\u001b[0mmean\u001b[0m\u001b[0;34m(\u001b[0m\u001b[0mnp\u001b[0m\u001b[0;34m.\u001b[0m\u001b[0mmax\u001b[0m\u001b[0;34m(\u001b[0m\u001b[0mioua\u001b[0m\u001b[0;34m,\u001b[0m\u001b[0maxis\u001b[0m\u001b[0;34m=\u001b[0m\u001b[0;36m0\u001b[0m\u001b[0;34m)\u001b[0m\u001b[0;34m)\u001b[0m\u001b[0;34m\u001b[0m\u001b[0m\n\u001b[0m",
      "\u001b[0;31mNameError\u001b[0m: name 'ioua' is not defined"
     ]
    }
   ],
   "source": [
    "########  OLD CODE BELOW HERE ###########\n",
    "\n",
    "# best possible score\n",
    "np.mean(np.max(ioua,axis=0))"
   ]
  },
  {
   "cell_type": "code",
   "execution_count": null,
   "metadata": {},
   "outputs": [],
   "source": [
    "am = (am + am2) // 2\n",
    "print(am.shape)\n",
    "print(am[:50])"
   ]
  },
  {
   "cell_type": "code",
   "execution_count": null,
   "metadata": {},
   "outputs": [],
   "source": [
    "train_df['best_thresh'] = [thresholds[a] for a in am]\n",
    "train_df['pred_mean'] = [np.mean(b) for b in bestEnsemble]\n",
    "train_df['pred_std'] = [np.std(b) for b in bestEnsemble]\n",
    "train_df['pred_min'] = [np.min(b) for b in bestEnsemble]\n",
    "train_df['pred_max'] = [np.max(b) for b in bestEnsemble]\n",
    "train_df['image_mean'] = [np.mean(b) for b in train_df.images]\n",
    "train_df['image_std'] = [np.std(b) for b in train_df.images]\n",
    "print(train_df.shape)"
   ]
  },
  {
   "cell_type": "code",
   "execution_count": null,
   "metadata": {},
   "outputs": [],
   "source": [
    "fname = 'best_thresh.csv'\n",
    "train_df.to_csv(fname)\n",
    "print(fname)"
   ]
  },
  {
   "cell_type": "code",
   "execution_count": null,
   "metadata": {},
   "outputs": [],
   "source": [
    "# predict best threshold with bootstrap forest in jmp\n",
    "btp = pd.read_csv('btp.csv')\n",
    "# btp = pd.read_csv('btp2.csv')\n",
    "print(btp.head())\n",
    "print(btp.shape)"
   ]
  },
  {
   "cell_type": "code",
   "execution_count": null,
   "metadata": {},
   "outputs": [],
   "source": [
    "btpa = btp.btp.values"
   ]
  },
  {
   "cell_type": "code",
   "execution_count": null,
   "metadata": {},
   "outputs": [],
   "source": [
    "ioub = np.array([iou_metric(m, np.int32(b > (t + 0.1)), pred_eps=pred_eps) \\\n",
    "                 for m, b, t in zip(train_df.masks, bestEnsemble, btpa)])\n",
    "\n",
    "print(np.mean(ioub))"
   ]
  },
  {
   "cell_type": "code",
   "execution_count": null,
   "metadata": {},
   "outputs": [],
   "source": [
    "# threshold_best_index = np.argmax(ious[9:-10]) + 9\n",
    "threshold_best_index = np.argmax(ious)\n",
    "iou_best = ious[threshold_best_index]\n",
    "threshold_best = thresholds[threshold_best_index]\n",
    "print('')\n",
    "print('iou_best',iou_best)\n",
    "print('threshold_best',threshold_best)\n",
    "print('')\n",
    "\n",
    "plt.plot(thresholds, ious)\n",
    "plt.plot(threshold_best, iou_best, \"xr\", label=\"Best threshold\")\n",
    "plt.xlabel(\"Threshold\")\n",
    "plt.ylabel(\"IoU\")\n",
    "plt.title(\"Threshold vs IoU ({}, {})\".format(threshold_best, iou_best))\n",
    "plt.legend()\n",
    "plt.show()\n",
    "plt.gcf().clear()"
   ]
  },
  {
   "cell_type": "code",
   "execution_count": null,
   "metadata": {},
   "outputs": [],
   "source": [
    "# compute best epsilon threshold for computed ensemble, still on logit scale\n",
    "peps = np.array([1e-12, 0.00001, 0.001, 0.002, 0.003, 0.004, 0.005, 0.006, 0.007, 0.008, 0.009, 0.01])\n",
    "ious = np.array([iou_metric_batch(train_df.masks, np.int32(bestEnsemble > threshold_best),\n",
    "                                  pred_eps=e) for e in peps])\n",
    "\n",
    "# threshold_best_index = np.argmax(ious[9:-10]) + 9\n",
    "eps_best_index = np.argmax(ious)\n",
    "iou_best = ious[eps_best_index]\n",
    "eps_best = peps[eps_best_index]\n",
    "print('')\n",
    "print('iou_best',iou_best)\n",
    "print('eps_best',eps_best)\n",
    "print('')\n",
    "\n",
    "plt.plot(peps, ious)\n",
    "plt.plot(eps_best, iou_best, \"xr\", label=\"Best epsilon\")\n",
    "plt.xlabel(\"Epsilon\")\n",
    "plt.ylabel(\"IoU\")\n",
    "plt.title(\"IOU vs Prediction Epsilon ({}, {})\".format(iou_best, eps_best))\n",
    "plt.legend()\n",
    "plt.show()\n",
    "plt.gcf().clear()"
   ]
  },
  {
   "cell_type": "code",
   "execution_count": null,
   "metadata": {},
   "outputs": [],
   "source": [
    "ious"
   ]
  },
  {
   "cell_type": "code",
   "execution_count": null,
   "metadata": {},
   "outputs": [],
   "source": [
    "v = [(np.mean(mask),np.mean(pred)) for mask,pred in zip(train_df.masks,\n",
    "        np.int32(bestEnsemble > threshold_best))]"
   ]
  },
  {
   "cell_type": "code",
   "execution_count": null,
   "metadata": {},
   "outputs": [],
   "source": [
    "v0 = [(a,b) for a,b in v if a == 0.0 and b > 0.5]"
   ]
  },
  {
   "cell_type": "code",
   "execution_count": null,
   "metadata": {},
   "outputs": [],
   "source": [
    "v0"
   ]
  },
  {
   "cell_type": "code",
   "execution_count": null,
   "metadata": {},
   "outputs": [],
   "source": [
    "v[:20]"
   ]
  },
  {
   "cell_type": "code",
   "execution_count": null,
   "metadata": {},
   "outputs": [],
   "source": [
    "# Error analysis\n",
    "ioum, ioub = iou_metric_batch(train_df.masks, np.int32(bestEnsemble > threshold_best), \\\n",
    "                              pred_eps=eps_best, return_all=True)\n",
    "ioub = np.array(ioub)\n",
    "print(ioub.min(),ioub.mean(),ioub.max())\n",
    "\n",
    "sns.distplot(ioub)\n",
    "plt.title(\"Distribution of OOF IOU Scores\")\n",
    "plt.show()\n",
    "plt.gcf().clear()\n",
    "\n",
    "train_df['ens'] = [bestEnsemble[i] for i in range(poof.shape[0])]\n",
    "\n",
    "train_df['ensb'] = [np.array(bestEnsemble[i] > threshold_best) for i in range(poof.shape[0])]\n",
    "\n",
    "train_df['pcov'] = [np.array(bestEnsemble[i] > threshold_best).mean() for i in range(poof.shape[0])]\n",
    "\n",
    "train_df['ioub'] = ioub\n",
    "print(train_df.columns)\n",
    "print(train_df.shape)\n",
    "\n",
    "ct = train_df.loc[:,['z','coverage','coverage_class','ioub']]\n",
    "print(ct.groupby('coverage_class').mean())\n",
    "print(ct.groupby('ioub').mean())\n",
    "\n",
    "# plot coverage\n",
    "print('')\n",
    "plt.plot(train_df.pcov, train_df.coverage, 'ro')\n",
    "plt.xlabel(\"Predicted Salt Coverage\")\n",
    "plt.ylabel(\"Observed Salt Coverage\")\n",
    "plt.title(\"Observed vs Predicted Salt Coverage\")\n",
    "plt.show()\n",
    "plt.gcf().clear()\n",
    "\n",
    "print('')\n",
    "# plt.plot(train_df.pcov, train_df.ioub, 'ro')\n",
    "sns.regplot(train_df.pcov, train_df.ioub, lowess=True)\n",
    "plt.xlabel(\"Predicted Salt Coverage\")\n",
    "plt.ylabel(\"IOU\")\n",
    "plt.title(\"IOU vs Predicted Salt Coverage\")\n",
    "plt.show()\n",
    "plt.gcf().clear()\n",
    "\n",
    "print('corr',train_df.loc[:,['ioub','coverage','pcov']].corr())\n",
    "\n",
    "# plot validation images with scores\n",
    "# sort from worst to best then by salt coverage\n",
    "train_dfs = train_df.sort_values(['ioub','coverage','pcov'],ascending=[True,True,False])\n",
    "\n",
    "start = 0\n",
    "stop = 500\n",
    "# grid_width = 10\n",
    "# grid_height = int(max_images / grid_width)\n",
    "# print(max_images,grid_height,grid_width)\n",
    "ni = 10\n",
    "\n",
    "# show worst fitting images\n",
    "for j in range(int(start/10),int(stop/10)):\n",
    "    jj = j*10\n",
    "    fig, axs = plt.subplots(2, ni, figsize=(20,4))\n",
    "    for i in range(ni):\n",
    "        img = train_dfs.iloc[jj+i].images\n",
    "        mask = train_dfs.iloc[jj+i].masks\n",
    "        pred = train_dfs.iloc[jj+i].ensb\n",
    "        iou = train_dfs.iloc[jj+i].ioub\n",
    "        cov = train_dfs.iloc[jj+i].coverage\n",
    "        pcov = train_dfs.iloc[jj+i].pcov\n",
    "        axs[0][i].imshow(img, cmap=\"Greys\")\n",
    "        axs[1][i].imshow(img, cmap=\"Greys\")\n",
    "        axs[1][i].imshow(mask, alpha=0.3, cmap=\"Greens\")\n",
    "        axs[1][i].imshow(pred, alpha=0.3, cmap=\"OrRd\")\n",
    "        axs[0][i].set_title(str(iou) + ' ' + str(np.round(cov,4)) + ' ' + str(np.round(pcov,4)))\n",
    "    fig.suptitle(\"Top row: original, bottom row: true salt green, predicted red\")\n",
    "    plt.show()\n",
    "    plt.gcf().clear()"
   ]
  },
  {
   "cell_type": "code",
   "execution_count": null,
   "metadata": {},
   "outputs": [],
   "source": [
    "print('')\n",
    "sns.regplot(train_df.pcov, train_df.ioub, lowess=True)\n",
    "plt.xlabel(\"Predicted Salt Coverage\")\n",
    "plt.ylabel(\"IOU\")\n",
    "plt.title(\"IOU vs Predicted Salt Coverage\")\n",
    "plt.show()\n",
    "plt.gcf().clear()"
   ]
  },
  {
   "cell_type": "code",
   "execution_count": null,
   "metadata": {},
   "outputs": [],
   "source": [
    "# offset = 3\n",
    "# nm = oof.shape[1] - offset\n",
    "# print(offset, oof.shape, nm)\n",
    "\n",
    "# oof.head()\n",
    "\n",
    "# np.array(list(oof.iloc[:,3])).shape\n",
    "\n",
    "# # simple mean ensemble over all models\n",
    "# first = True\n",
    "# for i in range(offset,offset+nm):\n",
    "#     print(i)\n",
    "#     p = np.array(list(oof.iloc[:,i].values))/nm\n",
    "#     if first: \n",
    "#         ens = p\n",
    "#         first = False\n",
    "#     else: ens += p\n",
    "# print(ens.shape)\n",
    "\n",
    "# sns.distplot(ens.flatten())\n",
    "# plt.show()\n",
    "# plt.gcf().clear()"
   ]
  },
  {
   "cell_type": "code",
   "execution_count": null,
   "metadata": {},
   "outputs": [],
   "source": [
    "d3 = train_df.loc[:,['ioub','coverage','pcov']]\n",
    "# print(d3.shape)\n",
    "d3q = d3.query('(coverage == 0.0) & (pcov >= 1e-6)')\n",
    "print(d3q.shape)\n",
    "print(d3q.describe())\n",
    "print(d3q)"
   ]
  },
  {
   "cell_type": "code",
   "execution_count": null,
   "metadata": {},
   "outputs": [],
   "source": [
    "# print(d3.shape)\n",
    "d0 = d3.query('(ioub == 0.0)')\n",
    "print(d0.describe())\n",
    "print(d0.shape)\n",
    "# print(d0)"
   ]
  },
  {
   "cell_type": "code",
   "execution_count": null,
   "metadata": {},
   "outputs": [],
   "source": [
    "# IOU = 0 values\n",
    "print('')\n",
    "plt.plot(d0.pcov, d0.coverage, 'ro')\n",
    "plt.xlabel(\"Predicted Salt Coverage\")\n",
    "plt.ylabel(\"Observed Salt Coverage\")\n",
    "plt.title(\"IOU = 0, Observed vs Predicted Salt Coverage\")\n",
    "plt.show()\n",
    "plt.gcf().clear()\n"
   ]
  },
  {
   "cell_type": "code",
   "execution_count": null,
   "metadata": {},
   "outputs": [],
   "source": [
    "ens = np.int32(bestEnsemble > threshold_best)\n",
    "iou_metric_batch(train_df.masks, ens, pred_eps=eps_best)"
   ]
  },
  {
   "cell_type": "code",
   "execution_count": null,
   "metadata": {},
   "outputs": [],
   "source": [
    "# average pixel accuracy\n",
    "ens_cut = []\n",
    "for e in ens:\n",
    "    cov = np.mean(e)\n",
    "    if cov <= pred_eps: e *= 0\n",
    "    ens_cut.append(e)\n",
    "    \n",
    "acc = [np.mean(gt == e) for (gt,e) in zip(train_df.masks,ens_cut)]\n",
    "print(np.mean(acc))"
   ]
  },
  {
   "cell_type": "code",
   "execution_count": null,
   "metadata": {},
   "outputs": [],
   "source": [
    "# binary cross entropy\n",
    "from scipy.special import expit\n",
    "ce = [-np.mean((gt < 0.5)*np.log(1.0 - expit(e)) + (gt > 0.5)*np.log(expit(e))) \\\n",
    "      for (gt,e) in zip(train_df.masks,bestEnsemble)]\n",
    "print(np.mean(ce))"
   ]
  },
  {
   "cell_type": "code",
   "execution_count": null,
   "metadata": {},
   "outputs": [],
   "source": [
    "np.sum(bestEnsemble > 10.)"
   ]
  },
  {
   "cell_type": "code",
   "execution_count": null,
   "metadata": {},
   "outputs": [],
   "source": [
    "# show max logits for each model, jackie becomes inf with eps <= 1e-4, np.clip does not work on upper bound\n",
    "scols = ['z','coverage','coverage_class','fold']\n",
    "mcols = [c for c in oof if c not in scols]\n",
    "for c in mcols:\n",
    "    print(c,np.array([m.max() for m in oof[c]]).max())"
   ]
  },
  {
   "cell_type": "code",
   "execution_count": null,
   "metadata": {},
   "outputs": [],
   "source": [
    "i = 0\n",
    "j = 0\n",
    "plt.figure(figsize=(30,15))\n",
    "plt.subplots_adjust(bottom=0.2, top=0.8, hspace=0.2)  #adjust this to change vertical and horiz. spacings..\n",
    "# Visualizing the predicted outputs\n",
    "while True:\n",
    "    # if str(df.loc[i,'rle_mask'])!=str(np.nan):        \n",
    "    if True:        \n",
    "        # decoded_mask = rle_decode(df.loc[i,'rle_mask'])\n",
    "        plt.subplot(1,6,j+1)\n",
    "        # plt.imshow(decoded_mask)\n",
    "        plt.imshow(ens[i])\n",
    "        plt.title('ID: '+train_df.index.values[i])\n",
    "        j = j + 1\n",
    "        if j>5:\n",
    "            break\n",
    "    i = i + 1"
   ]
  },
  {
   "cell_type": "code",
   "execution_count": null,
   "metadata": {},
   "outputs": [],
   "source": [
    "# crf kaggle kernel\n",
    "def crf(original_image, mask_img):\n",
    "    \n",
    "    # Converting annotated image to RGB if it is Gray scale\n",
    "    if(len(mask_img.shape)<3):\n",
    "        mask_img = gray2rgb(mask_img)\n",
    "\n",
    "#     # Converting the annotations RGB color to single 32 bit integer\n",
    "    annotated_label = mask_img[:,:,0] + (mask_img[:,:,1]<<8) + (mask_img[:,:,2]<<16)\n",
    "    \n",
    "#     # Convert the 32bit integer color to 0,1, 2, ... labels.\n",
    "    colors, labels = np.unique(annotated_label, return_inverse=True)\n",
    "\n",
    "    n_labels = 2\n",
    "    \n",
    "    # Setting up the CRF model\n",
    "    d = dcrf.DenseCRF2D(original_image.shape[1], original_image.shape[0], n_labels)\n",
    "\n",
    "    # get unary potentials (neg log probability)\n",
    "    U = unary_from_labels(labels, n_labels, gt_prob=0.7, zero_unsure=False)\n",
    "    d.setUnaryEnergy(U)\n",
    "\n",
    "    # This adds the color-independent term, features are the locations only.\n",
    "    d.addPairwiseGaussian(sxy=(3, 3), compat=3, kernel=dcrf.DIAG_KERNEL,\n",
    "                      normalization=dcrf.NORMALIZE_SYMMETRIC)\n",
    "        \n",
    "    # Run Inference for 10 steps \n",
    "    Q = d.inference(10)\n",
    "\n",
    "    # Find out the most probable class for each pixel.\n",
    "    MAP = np.argmax(Q, axis=0)\n",
    "\n",
    "    return MAP.reshape((original_image.shape[0],original_image.shape[1]))"
   ]
  },
  {
   "cell_type": "code",
   "execution_count": null,
   "metadata": {},
   "outputs": [],
   "source": [
    "ens_crf = []\n",
    "for i in range(train_df.shape[0]):\n",
    "    ens_crf.append(crf(train_df.masks[i],ens[i]))\n",
    "    if i % 1000 == 0: print(i)\n",
    "ens_crf = np.array(ens_crf)  "
   ]
  },
  {
   "cell_type": "code",
   "execution_count": null,
   "metadata": {},
   "outputs": [],
   "source": [
    "iou_metric_batch(train_df.masks,ens_crf,pred_eps=eps_best)"
   ]
  },
  {
   "cell_type": "code",
   "execution_count": null,
   "metadata": {},
   "outputs": [],
   "source": [
    "print(tb)"
   ]
  },
  {
   "cell_type": "code",
   "execution_count": null,
   "metadata": {},
   "outputs": [],
   "source": [
    "oof.shape"
   ]
  },
  {
   "cell_type": "code",
   "execution_count": null,
   "metadata": {},
   "outputs": [],
   "source": [
    "oof.columns"
   ]
  },
  {
   "cell_type": "code",
   "execution_count": null,
   "metadata": {},
   "outputs": [],
   "source": [
    "folds = pd.read_csv('folds.csv')\n",
    "print(folds.head())\n",
    "print(folds.shape)"
   ]
  },
  {
   "cell_type": "code",
   "execution_count": null,
   "metadata": {},
   "outputs": [],
   "source": [
    "oof = oof.join(folds.set_index('id'),how='left')\n",
    "print(oof.columns)"
   ]
  },
  {
   "cell_type": "code",
   "execution_count": null,
   "metadata": {},
   "outputs": [],
   "source": [
    "scols = ['z','coverage','coverage_class','fold']\n",
    "mcols = [c for c in oof if c not in scols]\n",
    "print(oof.loc[:,scols].describe())"
   ]
  },
  {
   "cell_type": "code",
   "execution_count": null,
   "metadata": {},
   "outputs": [],
   "source": [
    "d = 101\n",
    "s = oof.loc[:,scols]\n",
    "ss = pd.concat([s]*(d*d))\n",
    "print(ss.head())\n",
    "print(ss.shape)\n",
    "\n",
    "m = np.array(oof.loc[:,mcols])\n",
    "print(m.shape)"
   ]
  },
  {
   "cell_type": "code",
   "execution_count": null,
   "metadata": {},
   "outputs": [],
   "source": [
    "# pull out 10 x 10 central crop as a small test case\n",
    "small = oof.copy()\n",
    "for c in mcols:\n",
    "    # small[c] = [cc[45:55,45:55] for cc in small[c]]\n",
    "    small[c] = [cc[5:100:10,5:100:10] for cc in small[c]]\n",
    "print(small.shape)"
   ]
  },
  {
   "cell_type": "code",
   "execution_count": null,
   "metadata": {},
   "outputs": [],
   "source": [
    "d = 10\n",
    "s = small.loc[:,scols]\n",
    "ss = pd.concat([s]*(d*d))\n",
    "print(ss.head())\n",
    "print(ss.shape)\n",
    "\n",
    "m = np.array(small.loc[:,mcols])\n",
    "print(m.shape)"
   ]
  },
  {
   "cell_type": "code",
   "execution_count": null,
   "metadata": {},
   "outputs": [],
   "source": [
    "m = np.array([np.array(list(i)) for i in m])\n",
    "print(m.shape)"
   ]
  },
  {
   "cell_type": "code",
   "execution_count": null,
   "metadata": {},
   "outputs": [],
   "source": [
    "m = m.transpose((2,3,0,1))\n",
    "print(m.shape)"
   ]
  },
  {
   "cell_type": "code",
   "execution_count": null,
   "metadata": {},
   "outputs": [],
   "source": [
    "m = m.reshape((-1,m.shape[-1]))\n",
    "print(m.shape)"
   ]
  },
  {
   "cell_type": "code",
   "execution_count": null,
   "metadata": {},
   "outputs": [],
   "source": [
    "md = pd.DataFrame(m)\n",
    "md.columns = mcols\n",
    "print(md.shape)"
   ]
  },
  {
   "cell_type": "code",
   "execution_count": null,
   "metadata": {},
   "outputs": [],
   "source": [
    "sr = ss.reset_index()\n",
    "f = pd.concat((sr,md),axis=1)\n",
    "print(f.shape)"
   ]
  },
  {
   "cell_type": "code",
   "execution_count": null,
   "metadata": {},
   "outputs": [],
   "source": [
    "print(f.columns)"
   ]
  },
  {
   "cell_type": "code",
   "execution_count": null,
   "metadata": {},
   "outputs": [],
   "source": [
    "print(f['id'].head())"
   ]
  },
  {
   "cell_type": "code",
   "execution_count": null,
   "metadata": {},
   "outputs": [],
   "source": [
    "print(f.loc[:,['z','coverage','coverage_class','fold','images','masks','si0c20']].describe())"
   ]
  },
  {
   "cell_type": "code",
   "execution_count": null,
   "metadata": {},
   "outputs": [],
   "source": [
    "# fname = 'small_stack0.csv'\n",
    "# fname = 'small_stack1.csv'\n",
    "# fname = 'small_stack2.csv'\n",
    "fname = 'small_stack3.csv'\n",
    "f.to_csv(fname)\n",
    "print(fname)"
   ]
  },
  {
   "cell_type": "code",
   "execution_count": null,
   "metadata": {},
   "outputs": [],
   "source": [
    "ldf.head()"
   ]
  },
  {
   "cell_type": "code",
   "execution_count": null,
   "metadata": {},
   "outputs": [],
   "source": [
    "logit[:4]"
   ]
  },
  {
   "cell_type": "code",
   "execution_count": null,
   "metadata": {},
   "outputs": [],
   "source": [
    "ldf.drop('logit_xception_o0',inplace=True,axis=1)\n",
    "\n",
    "m = 'xception_o0'\n",
    "for j in range(3):\n",
    "    ldf[m+'_logit_'+str(j)] = [a for a in logit[:,j]]\n",
    "\n",
    "ldf.head()\n",
    "\n",
    "ldf.set_index('id',inplace=True)\n",
    "\n",
    "train_df = train_df.join(ldf)"
   ]
  },
  {
   "cell_type": "code",
   "execution_count": null,
   "metadata": {},
   "outputs": [],
   "source": [
    "train_df.columns"
   ]
  },
  {
   "cell_type": "code",
   "execution_count": null,
   "metadata": {},
   "outputs": [],
   "source": []
  }
 ],
 "metadata": {
  "kernelspec": {
   "display_name": "Python 3",
   "language": "python",
   "name": "python3"
  },
  "language_info": {
   "codemirror_mode": {
    "name": "ipython",
    "version": 3
   },
   "file_extension": ".py",
   "mimetype": "text/x-python",
   "name": "python",
   "nbconvert_exporter": "python",
   "pygments_lexer": "ipython3",
   "version": "3.6.5"
  }
 },
 "nbformat": 4,
 "nbformat_minor": 2
}
