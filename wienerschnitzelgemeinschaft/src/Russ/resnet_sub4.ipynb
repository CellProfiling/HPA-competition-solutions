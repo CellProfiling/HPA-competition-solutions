{
 "cells": [
  {
   "cell_type": "code",
   "execution_count": 47,
   "metadata": {},
   "outputs": [
    {
     "name": "stdout",
     "output_type": "stream",
     "text": [
      "resnet 4 0 20\n"
     ]
    }
   ],
   "source": [
    "fidx = 'resnet'\n",
    "midx = '4'\n",
    "\n",
    "mnames = ['resnet34_46','resnet50','resnet34','resnet_a8','resnet_a11']\n",
    "weights = [1,1,1,1,1]\n",
    "\n",
    "threshold = 0\n",
    "nfold = 20\n",
    "\n",
    "sub_dir = './sub/'\n",
    "\n",
    "print(fidx,midx,threshold,nfold)"
   ]
  },
  {
   "cell_type": "code",
   "execution_count": 48,
   "metadata": {},
   "outputs": [
    {
     "name": "stdout",
     "output_type": "stream",
     "text": [
      "['resnet34_46', 'resnet50', 'resnet34']\n"
     ]
    }
   ],
   "source": [
    "klist = ['resnet34_46','resnet50','resnet34']\n",
    "print(klist)"
   ]
  },
  {
   "cell_type": "code",
   "execution_count": 49,
   "metadata": {},
   "outputs": [],
   "source": [
    "# results from ens_oof.ipynb\n",
    "assert(len(mnames)==len(weights))\n",
    "# mname = 'se_resnext_a2'\n",
    "# print(mname,mnames,weights)"
   ]
  },
  {
   "cell_type": "code",
   "execution_count": 50,
   "metadata": {},
   "outputs": [],
   "source": [
    "import numpy as np\n",
    "import pandas as pd\n",
    "import pickle\n",
    "import os\n",
    "from os import path\n",
    "from random import randint\n",
    "\n",
    "import matplotlib.pyplot as plt\n",
    "plt.style.use('seaborn-white')\n",
    "import seaborn as sns\n",
    "sns.set_style(\"white\")\n",
    "\n",
    "from sklearn.model_selection import train_test_split\n",
    "\n",
    "from keras.preprocessing.image import load_img\n",
    "\n",
    "import pydensecrf.densecrf as dcrf\n",
    "from pydensecrf.utils import unary_from_labels, create_pairwise_bilateral\n",
    "from skimage.color import gray2rgb\n",
    "from skimage.color import rgb2gray\n",
    "from skimage.transform import resize\n",
    "\n",
    "from scipy.special import logit\n",
    "from sklearn.model_selection import StratifiedKFold\n",
    "from sklearn.metrics import jaccard_similarity_score, f1_score\n",
    "\n",
    "import scipy.optimize as opt\n",
    "\n",
    "import gc\n",
    "import cv2\n",
    "from tqdm import tqdm_notebook\n",
    "\n",
    "from numpy import inf"
   ]
  },
  {
   "cell_type": "code",
   "execution_count": 51,
   "metadata": {},
   "outputs": [],
   "source": [
    "name_label_dict = {\n",
    "    0:  \"Nucleoplasm\",  \n",
    "    1:  \"Nuclear membrane\",   \n",
    "    2:  \"Nucleoli\",   \n",
    "    3:  \"Nucleoli fibrillar center\",   \n",
    "    4:  \"Nuclear speckles\",\n",
    "    5:  \"Nuclear bodies\",   \n",
    "    6:  \"Endoplasmic reticulum\",   \n",
    "    7:  \"Golgi apparatus\",   \n",
    "    8:  \"Peroxisomes\",   \n",
    "    9:  \"Endosomes\",   \n",
    "    10:  \"Lysosomes\",   \n",
    "    11:  \"Intermediate filaments\",   \n",
    "    12:  \"Actin filaments\",   \n",
    "    13:  \"Focal adhesion sites\",   \n",
    "    14:  \"Microtubules\",   \n",
    "    15:  \"Microtubule ends\",   \n",
    "    16:  \"Cytokinetic bridge\",   \n",
    "    17:  \"Mitotic spindle\",   \n",
    "    18:  \"Microtubule organizing center\",   \n",
    "    19:  \"Centrosome\",   \n",
    "    20:  \"Lipid droplets\",   \n",
    "    21:  \"Plasma membrane\",   \n",
    "    22:  \"Cell junctions\",   \n",
    "    23:  \"Mitochondria\",   \n",
    "    24:  \"Aggresome\",   \n",
    "    25:  \"Cytosol\",   \n",
    "    26:  \"Cytoplasmic bodies\",   \n",
    "    27:  \"Rods & rings\"\n",
    "}"
   ]
  },
  {
   "cell_type": "code",
   "execution_count": 52,
   "metadata": {},
   "outputs": [
    {
     "name": "stdout",
     "output_type": "stream",
     "text": [
      "                                      Predicted\n",
      "Id                                             \n",
      "00008af0-bad0-11e8-b2b8-ac1f6b6435d0          0\n",
      "0000a892-bacf-11e8-b2b8-ac1f6b6435d0          0\n",
      "0006faa6-bac7-11e8-b2b7-ac1f6b6435d0          0\n",
      "0008baca-bad7-11e8-b2b9-ac1f6b6435d0          0\n",
      "000cce7e-bad4-11e8-b2b8-ac1f6b6435d0          0\n",
      "(11702, 1)\n"
     ]
    }
   ],
   "source": [
    "test_df = pd.read_csv(\"sample_submission.csv\", index_col=\"Id\")\n",
    "print(test_df.head())\n",
    "print(test_df.shape)"
   ]
  },
  {
   "cell_type": "code",
   "execution_count": 53,
   "metadata": {
    "_uuid": "b18c1f50cefd7504eae7e7b9605be3814c7cad6d"
   },
   "outputs": [],
   "source": [
    "# test_df[\"images\"] = [np.array(load_img(\"images/{}.png\".format(idx), \\\n",
    "#                                         color_mode = \"grayscale\")) / 255. \\\n",
    "#                                         # grayscale=True)) / 255. \\\n",
    "#                       for idx in tqdm_notebook(test_df.index)]\n",
    "# print(test_df.shape)"
   ]
  },
  {
   "cell_type": "code",
   "execution_count": 54,
   "metadata": {},
   "outputs": [
    {
     "data": {
      "text/plain": [
       "Index(['Predicted'], dtype='object')"
      ]
     },
     "execution_count": 54,
     "metadata": {},
     "output_type": "execute_result"
    }
   ],
   "source": [
    "test_df.columns"
   ]
  },
  {
   "cell_type": "code",
   "execution_count": 55,
   "metadata": {},
   "outputs": [],
   "source": [
    "# save a base copy for reuse below\n",
    "test_df0 = test_df.copy()\n"
   ]
  },
  {
   "cell_type": "code",
   "execution_count": 56,
   "metadata": {},
   "outputs": [
    {
     "name": "stdout",
     "output_type": "stream",
     "text": [
      "\n",
      "./sub/resnet34_46_0.pkl\n",
      "-20.0 -3.459926 6.296183\n",
      "(11702, 28) -20.0 -3.459926 6.296183\n",
      "\n",
      "./sub/resnet34_46_1.pkl\n",
      "-20.0 -3.3344078 6.165884\n",
      "(11702, 28) -20.0 -3.3344078 6.165884\n",
      "[[1.    0.955]\n",
      " [0.955 1.   ]]\n",
      "\n",
      "./sub/resnet34_46_2.pkl\n",
      "-20.0 -3.315843 4.956825\n",
      "(11702, 28) -20.0 -3.315843 4.956825\n",
      "[[1.    0.969]\n",
      " [0.969 1.   ]]\n",
      "\n",
      "./sub/resnet34_46_3.pkl\n",
      "-20.0 -3.3026276 6.137777\n",
      "(11702, 28) -20.0 -3.3026276 6.137777\n",
      "[[1.    0.972]\n",
      " [0.972 1.   ]]\n",
      "\n",
      "./sub/resnet34_46_4.pkl\n",
      "-20.0 -3.3562124 5.5849032\n",
      "(11702, 28) -20.0 -3.3562124 5.5849032\n",
      "[[1.    0.972]\n",
      " [0.972 1.   ]]\n",
      "\n",
      "./sub/resnet34_46_5.pkl\n",
      "-20.0 -3.3033059 5.4589205\n",
      "(11702, 28) -20.0 -3.3033059 5.4589205\n",
      "[[1.    0.973]\n",
      " [0.973 1.   ]]\n",
      "\n",
      "./sub/resnet34_46_6.pkl\n",
      "-20.0 -3.2824593 5.0698414\n",
      "(11702, 28) -20.0 -3.2824593 5.0698414\n",
      "[[1.    0.975]\n",
      " [0.975 1.   ]]\n",
      "\n",
      "./sub/resnet34_46_7.pkl\n",
      "-20.0 -3.3827417 5.4176774\n",
      "(11702, 28) -20.0 -3.3827417 5.4176774\n",
      "[[1.    0.973]\n",
      " [0.973 1.   ]]\n",
      "\n",
      "./sub/resnet34_46_8.pkl\n",
      "-20.0 -3.3863935 6.9515476\n",
      "(11702, 28) -20.0 -3.3863935 6.9515476\n",
      "[[1.    0.975]\n",
      " [0.975 1.   ]]\n",
      "\n",
      "./sub/resnet34_46_9.pkl\n",
      "-20.0 -3.3353167 5.2438\n",
      "(11702, 28) -20.0 -3.3353167 5.2438\n",
      "[[1.    0.976]\n",
      " [0.976 1.   ]]\n",
      "resnet34_46 10 (11702, 28) -19.51945 -3.3459241 5.246826 0.06570915838562395\n",
      "\n",
      "./sub/resnet50_0.pkl\n",
      "-20.0 -3.4374661 5.4698067\n",
      "(11702, 28) -20.0 -3.4374661 5.4698067\n",
      "\n",
      "./sub/resnet50_1.pkl\n",
      "-20.0 -3.4787993 5.6695094\n",
      "(11702, 28) -20.0 -3.4787993 5.6695094\n",
      "[[1.    0.957]\n",
      " [0.957 1.   ]]\n",
      "\n",
      "./sub/resnet50_2.pkl\n",
      "-20.0 -3.4041305 20.0\n",
      "(11702, 28) -20.0 -3.4041305 20.0\n",
      "[[1.    0.926]\n",
      " [0.926 1.   ]]\n",
      "\n",
      "./sub/resnet50_3.pkl\n",
      "-20.0 -3.4718451 20.0\n",
      "(11702, 28) -20.0 -3.4718451 20.0\n",
      "[[1.    0.968]\n",
      " [0.968 1.   ]]\n",
      "\n",
      "./sub/resnet50_4.pkl\n",
      "-20.0 -3.3809536 20.0\n",
      "(11702, 28) -20.0 -3.3809536 20.0\n",
      "[[1.    0.952]\n",
      " [0.952 1.   ]]\n",
      "\n",
      "./sub/resnet50_5.pkl\n",
      "-20.0 -3.3964107 20.0\n",
      "(11702, 28) -20.0 -3.3964107 20.0\n",
      "[[1.    0.962]\n",
      " [0.962 1.   ]]\n",
      "\n",
      "./sub/resnet50_6.pkl\n",
      "-20.0 -3.4071195 20.0\n",
      "(11702, 28) -20.0 -3.4071195 20.0\n",
      "[[1.    0.963]\n",
      " [0.963 1.   ]]\n",
      "\n",
      "./sub/resnet50_7.pkl\n",
      "-20.0 -3.4747295 6.3947253\n",
      "(11702, 28) -20.0 -3.4747295 6.3947253\n",
      "[[1.    0.978]\n",
      " [0.978 1.   ]]\n",
      "\n",
      "./sub/resnet50_9.pkl\n",
      "-20.0 -3.4286585 20.0\n",
      "(11702, 28) -20.0 -3.4286585 20.0\n",
      "[[1.    0.972]\n",
      " [0.972 1.   ]]\n",
      "resnet50 9 (11702, 28) -19.92649 -3.431124 6.764609 0.0636429670141856\n",
      "\n",
      "./sub/resnet34_0.pkl\n",
      "-17.284847 -2.617498 5.382547\n",
      "(11702, 28) -17.284847 -2.617498 5.382547\n",
      "\n",
      "./sub/resnet34_1.pkl\n",
      "-15.779639 -2.6350887 4.8213167\n",
      "(11702, 28) -15.779639 -2.6350887 4.8213167\n",
      "[[1.    0.961]\n",
      " [0.961 1.   ]]\n",
      "\n",
      "./sub/resnet34_2.pkl\n",
      "-17.90132 -2.6249335 4.9814715\n",
      "(11702, 28) -17.90132 -2.6249335 4.9814715\n",
      "[[1.    0.969]\n",
      " [0.969 1.   ]]\n",
      "\n",
      "./sub/resnet34_3.pkl\n",
      "-16.28629 -2.6446424 5.508618\n",
      "(11702, 28) -16.28629 -2.6446424 5.508618\n",
      "[[1.    0.971]\n",
      " [0.971 1.   ]]\n",
      "\n",
      "./sub/resnet34_4.pkl\n",
      "-14.8799305 -2.6497161 20.0\n",
      "(11702, 28) -14.8799305 -2.6497161 20.0\n",
      "[[1.    0.973]\n",
      " [0.973 1.   ]]\n",
      "\n",
      "./sub/resnet34_5.pkl\n",
      "-14.028401 -2.5280995 4.82246\n",
      "(11702, 28) -14.028401 -2.5280995 4.82246\n",
      "[[1.    0.973]\n",
      " [0.973 1.   ]]\n",
      "\n",
      "./sub/resnet34_6.pkl\n",
      "-16.85625 -2.6302779 4.9962897\n",
      "(11702, 28) -16.85625 -2.6302779 4.9962897\n",
      "[[1.    0.977]\n",
      " [0.977 1.   ]]\n",
      "\n",
      "./sub/resnet34_7.pkl\n",
      "-14.5068245 -2.6168377 4.779485\n",
      "(11702, 28) -14.5068245 -2.6168377 4.779485\n",
      "[[1.    0.976]\n",
      " [0.976 1.   ]]\n",
      "\n",
      "./sub/resnet34_8.pkl\n",
      "-17.552208 -2.6642296 5.178115\n",
      "(11702, 28) -17.552208 -2.6642296 5.178115\n",
      "[[1.    0.979]\n",
      " [0.979 1.   ]]\n",
      "\n",
      "./sub/resnet34_9.pkl\n",
      "-17.228626 -2.6146362 4.841208\n",
      "(11702, 28) -17.228626 -2.6146362 4.841208\n",
      "[[1.    0.976]\n",
      " [0.976 1.   ]]\n",
      "resnet34 10 (11702, 28) -15.189382 -2.622596 4.898327 0.07028102644236639\n",
      "\n",
      "./sub/resnet_a8_0_mm.pkl\n",
      "-12.901075 -2.7417943 3.7496073\n",
      "(11702, 28) -12.901075 -2.7417943 3.7496073\n",
      "\n",
      "./sub/resnet_a8_1_mm.pkl\n",
      "-20.0 -3.0196364 5.036895\n",
      "(11702, 28) -20.0 -3.0196364 5.036895\n",
      "[[1.    0.855]\n",
      " [0.855 1.   ]]\n",
      "\n",
      "./sub/resnet_a8_2_mm.pkl\n",
      "-20.0 -2.994235 4.762452\n",
      "(11702, 28) -20.0 -2.994235 4.762452\n",
      "[[1.    0.936]\n",
      " [0.936 1.   ]]\n",
      "\n",
      "./sub/resnet_a8_3_mm.pkl\n",
      "-20.0 -3.0171125 6.87572\n",
      "(11702, 28) -20.0 -3.0171125 6.87572\n",
      "[[1.    0.945]\n",
      " [0.945 1.   ]]\n",
      "\n",
      "./sub/resnet_a8_4_mm.pkl\n",
      "-20.0 -3.1118412 6.1896906\n",
      "(11702, 28) -20.0 -3.1118412 6.1896906\n",
      "[[1.    0.953]\n",
      " [0.953 1.   ]]\n",
      "resnet_a8 5 (11702, 28) -18.30862 -2.9769237 5.1419983 0.041888443977830404\n",
      "\n",
      "./sub/resnet_a11_0_mm.pkl\n",
      "-8.173618 -2.6228986 7.423024\n",
      "(11702, 28) -8.173618 -2.6228986 7.423024\n",
      "\n",
      "./sub/resnet_a11_1_mm.pkl\n",
      "-7.6975813 -2.3430274 4.4130306\n",
      "(11702, 28) -7.6975813 -2.3430274 4.4130306\n",
      "[[1.    0.869]\n",
      " [0.869 1.   ]]\n",
      "\n",
      "./sub/resnet_a11_2_mm.pkl\n",
      "-7.957811 -2.700749 5.132262\n",
      "(11702, 28) -7.957811 -2.700749 5.132262\n",
      "[[1.   0.88]\n",
      " [0.88 1.  ]]\n",
      "\n",
      "./sub/resnet_a11_3_mm.pkl\n",
      "-9.57699 -2.2857575 5.6379414\n",
      "(11702, 28) -9.57699 -2.2857575 5.6379414\n",
      "[[1.    0.885]\n",
      " [0.885 1.   ]]\n",
      "resnet_a11 4 (11702, 28) -6.750366 -2.4881077 4.527719 0.04046622067045926\n"
     ]
    }
   ],
   "source": [
    "# build submission ensemble as weighted average on logit scale\n",
    "test_df = test_df0.copy()\n",
    "idx = test_df.index.values\n",
    "\n",
    "firstm = True\n",
    "sumw = 0.\n",
    "\n",
    "for m in mnames:\n",
    "\n",
    "    firstf = True\n",
    "    if m in klist: suffix = '.pkl'\n",
    "    else: suffix = '_mm.pkl'\n",
    "    for fold in range(nfold):\n",
    "#         print('')\n",
    "#         print(m+'_'+str(fold))\n",
    "        first = True\n",
    "        nr = 0\n",
    "        for rep in ['','a','b','c','d','e','f','g','h','i']:\n",
    "            fname = sub_dir + m + rep + '_' + str(fold) + suffix\n",
    "            if os.path.exists(fname):\n",
    "                print()\n",
    "                print(fname)\n",
    "                if m in klist: \n",
    "                    idb, ptestb = pickle.load(open(fname,'rb'))\n",
    "                    ptestb = logit(ptestb)\n",
    "                else:\n",
    "                    idb, ptestb, ptestba = pickle.load(open(fname,'rb'))\n",
    "                \n",
    "                ptestb = np.clip(ptestb,-20.0,20.0)\n",
    "                # ptestb[ptestb==-inf] = -6.0\n",
    "                # ptestb[ptestb==inf] = 6.0\n",
    "                \n",
    "                print(ptestb.min(),ptestb.mean(),ptestb.max())\n",
    "                \n",
    "                if first:\n",
    "                    ptestf = ptestb.copy()\n",
    "                    idb0 = idb\n",
    "                    first = False\n",
    "                else:\n",
    "                    checki = [i0 != i1 for i0,i1 in zip(idb0,idb)]\n",
    "                    si = np.array(checki).sum()\n",
    "                    # print(si)\n",
    "                    assert si == 0\n",
    "                    print(np.corrcoef(np.array(ptestf).flatten(),\n",
    "                                      np.array(ptestb).flatten()))\n",
    "\n",
    "                    ptestf += ptestb\n",
    "                nr += 1\n",
    "                \n",
    "        if nr > 0:\n",
    "            ptestf /= nr\n",
    "            print(ptestf.shape,ptestf.min(),ptestf.mean(),ptestf.max())\n",
    "\n",
    "            if firstf:\n",
    "                id = idb\n",
    "                ptest = ptestf.copy()\n",
    "                navg = 1\n",
    "                firstf = False\n",
    "            else:\n",
    "                print(np.corrcoef(np.array(ptest).flatten(),\n",
    "                                  np.array(ptestf).flatten()))\n",
    "                ptest += ptestf\n",
    "                navg += 1\n",
    "    \n",
    "    if navg == 0: print('Error: No files found')\n",
    "    ptest /= navg\n",
    "    pmask = (ptest > threshold).astype(int)\n",
    "    print(m,navg,ptest.shape,ptest.min(),ptest.mean(),ptest.max(),pmask.mean())\n",
    "    td = pd.DataFrame({'id':id})\n",
    "    td[m] = [a for a in ptest]\n",
    "    td.set_index('id',inplace=True)\n",
    "    test_df = test_df.join(td)\n"
   ]
  },
  {
   "cell_type": "code",
   "execution_count": 57,
   "metadata": {},
   "outputs": [
    {
     "data": {
      "text/plain": [
       "Index(['Predicted', 'resnet34_46', 'resnet50', 'resnet34', 'resnet_a8',\n",
       "       'resnet_a11'],\n",
       "      dtype='object')"
      ]
     },
     "execution_count": 57,
     "metadata": {},
     "output_type": "execute_result"
    }
   ],
   "source": [
    "test_df.columns"
   ]
  },
  {
   "cell_type": "code",
   "execution_count": 58,
   "metadata": {},
   "outputs": [
    {
     "name": "stdout",
     "output_type": "stream",
     "text": [
      "['00008af0-bad0-11e8-b2b8-ac1f6b6435d0' '0000a892-bacf-11e8-b2b8-ac1f6b6435d0'\n",
      " '0006faa6-bac7-11e8-b2b7-ac1f6b6435d0' '0008baca-bad7-11e8-b2b9-ac1f6b6435d0'\n",
      " '000cce7e-bad4-11e8-b2b8-ac1f6b6435d0']\n"
     ]
    }
   ],
   "source": [
    "print(idx[:5])"
   ]
  },
  {
   "cell_type": "code",
   "execution_count": 59,
   "metadata": {},
   "outputs": [
    {
     "name": "stdout",
     "output_type": "stream",
     "text": [
      "['resnet34_46', 'resnet50', 'resnet34', 'resnet_a8', 'resnet_a11']\n",
      "[[1.    0.978 0.944 0.901 0.863]\n",
      " [0.978 1.    0.944 0.894 0.857]\n",
      " [0.944 0.944 1.    0.893 0.873]\n",
      " [0.901 0.894 0.893 1.    0.841]\n",
      " [0.863 0.857 0.873 0.841 1.   ]]\n"
     ]
    }
   ],
   "source": [
    "f = []\n",
    "clist = list(test_df.columns[1:])\n",
    "for c in clist:\n",
    "    f.append(np.array(list(test_df[c])).flatten())\n",
    "print(clist)\n",
    "print(np.corrcoef(f))   "
   ]
  },
  {
   "cell_type": "code",
   "execution_count": 60,
   "metadata": {},
   "outputs": [
    {
     "name": "stdout",
     "output_type": "stream",
     "text": [
      "(327656, 5)\n",
      "flat.csv\n"
     ]
    }
   ],
   "source": [
    "flat = np.transpose(np.array(f))\n",
    "print(flat.shape)\n",
    "fname = 'flat.csv'\n",
    "fdf = pd.DataFrame(flat)\n",
    "fdf.columns = clist\n",
    "fdf.to_csv(fname)\n",
    "print(fname)"
   ]
  },
  {
   "cell_type": "code",
   "execution_count": 61,
   "metadata": {},
   "outputs": [
    {
     "name": "stdout",
     "output_type": "stream",
     "text": [
      "(5, 11702, 28)\n"
     ]
    }
   ],
   "source": [
    "f = []\n",
    "clist = list(test_df.columns[1:])\n",
    "for c in clist:\n",
    "    f.append(np.array(list(test_df[c])))\n",
    "m = np.array(f)\n",
    "print(m.shape)"
   ]
  },
  {
   "cell_type": "code",
   "execution_count": 62,
   "metadata": {},
   "outputs": [
    {
     "name": "stdout",
     "output_type": "stream",
     "text": [
      "[1 1 1 1 1]\n"
     ]
    }
   ],
   "source": [
    "weights = np.array(weights)\n",
    "print(weights)"
   ]
  },
  {
   "cell_type": "code",
   "execution_count": 63,
   "metadata": {},
   "outputs": [
    {
     "name": "stdout",
     "output_type": "stream",
     "text": [
      "(11702, 28)\n"
     ]
    }
   ],
   "source": [
    "ens = np.average(m,axis=0,weights=weights)\n",
    "print(ens.shape)"
   ]
  },
  {
   "cell_type": "code",
   "execution_count": 64,
   "metadata": {},
   "outputs": [
    {
     "name": "stdout",
     "output_type": "stream",
     "text": [
      "[-1.146 -2.797 -1.97  -0.83  -2.337  1.103 -1.    -2.194 -3.213 -5.05  -5.065 -1.502 -2.347 -2.318\n",
      " -2.375 -3.407 -2.288 -2.759 -1.992 -1.559 -2.98  -1.836 -2.184 -1.019 -2.323 -0.593 -2.187 -4.118]\n"
     ]
    }
   ],
   "source": [
    "print(ens[1])"
   ]
  },
  {
   "cell_type": "code",
   "execution_count": 65,
   "metadata": {},
   "outputs": [],
   "source": [
    "# fname = 'mthresh.pkl'\n",
    "# if os.path.isfile(fname): mthresh = pickle.load(open(fname,'rb'))\n",
    "# mthresh[mname]"
   ]
  },
  {
   "cell_type": "code",
   "execution_count": 66,
   "metadata": {},
   "outputs": [
    {
     "name": "stdout",
     "output_type": "stream",
     "text": [
      "{0: 0.36239782, 1: 0.043841336, 2: 0.075268817, 3: 0.059322034, 4: 0.075268817, 5: 0.075268817, 6: 0.043841336, 7: 0.075268817, 8: 0.01, 9: 0.01, 10: 0.01, 11: 0.043841336, 12: 0.043841336, 13: 0.014198783, 14: 0.043841336, 15: 0.01, 16: 0.028806584, 17: 0.014198783, 18: 0.028806584, 19: 0.059322034, 20: 0.01, 21: 0.126126126, 22: 0.028806584, 23: 0.075268817, 24: 0.01, 25: 0.222493888, 26: 0.028806584, 27: 0.01}\n"
     ]
    }
   ],
   "source": [
    "# desired class proportions from lb probing\n",
    "eps = 0.01\n",
    "desired = {\n",
    "0 : 0.36239782,\n",
    "1 : 0.043841336,\n",
    "2 : 0.075268817,\n",
    "3 : 0.059322034,\n",
    "4 : 0.075268817,\n",
    "5 : 0.075268817,\n",
    "6 : 0.043841336,\n",
    "7 : 0.075268817,\n",
    "8 : eps,\n",
    "9 : eps,\n",
    "10 : eps,\n",
    "11 : 0.043841336,\n",
    "12 : 0.043841336,\n",
    "13 : 0.014198783,\n",
    "14 : 0.043841336,\n",
    "15 : eps,\n",
    "16 : 0.028806584,\n",
    "17 : 0.014198783,\n",
    "18 : 0.028806584,\n",
    "19 : 0.059322034,\n",
    "20 : eps,\n",
    "21 : 0.126126126,\n",
    "22 : 0.028806584,\n",
    "23 : 0.075268817,\n",
    "24 : eps,\n",
    "25 : 0.222493888,\n",
    "26 : 0.028806584,\n",
    "27 : eps\n",
    "}\n",
    "print(desired)"
   ]
  },
  {
   "cell_type": "code",
   "execution_count": 67,
   "metadata": {},
   "outputs": [
    {
     "name": "stdout",
     "output_type": "stream",
     "text": [
      "fixed threshold 0\n",
      "0 0.3624 0.4664 Nucleoplasm\n",
      "1 0.0438 0.0349 Nuclear membrane\n",
      "2 0.0753 0.0978 Nucleoli\n",
      "3 0.0593 0.0278 Nucleoli fibrillar center\n",
      "4 0.0753 0.0350 Nuclear speckles\n",
      "5 0.0753 0.0477 Nuclear bodies\n",
      "6 0.0438 0.0195 Endoplasmic reticulum\n",
      "7 0.0753 0.0668 Golgi apparatus\n",
      "8 0.0100 0.0003 Peroxisomes\n",
      "9 0.0100 0.0003 Endosomes\n",
      "10 0.0100 0.0002 Lysosomes\n",
      "11 0.0438 0.0284 Intermediate filaments\n",
      "12 0.0438 0.0164 Actin filaments\n",
      "13 0.0142 0.0088 Focal adhesion sites\n",
      "14 0.0438 0.0372 Microtubules\n",
      "15 0.0100 0.0000 Microtubule ends\n",
      "16 0.0288 0.0077 Cytokinetic bridge\n",
      "17 0.0142 0.0067 Mitotic spindle\n",
      "18 0.0288 0.0149 Microtubule organizing center\n",
      "19 0.0593 0.0320 Centrosome\n",
      "20 0.0100 0.0013 Lipid droplets\n",
      "21 0.1261 0.1473 Plasma membrane\n",
      "22 0.0288 0.0145 Cell junctions\n",
      "23 0.0753 0.0791 Mitochondria\n",
      "24 0.0100 0.0085 Aggresome\n",
      "25 0.2225 0.3236 Cytosol\n",
      "26 0.0288 0.0074 Cytoplasmic bodies\n",
      "27 0.0100 0.0000 Rods & rings\n"
     ]
    }
   ],
   "source": [
    "# fixed global threshold\n",
    "pred = (ens > threshold).astype(int)\n",
    "print('fixed threshold',threshold)\n",
    "for j in range(pred.shape[1]):\n",
    "    prop = np.mean(pred[:,j])\n",
    "    print(j,'%6.4f' % desired[j],'%6.4f' % prop,name_label_dict[j],)"
   ]
  },
  {
   "cell_type": "code",
   "execution_count": 68,
   "metadata": {},
   "outputs": [
    {
     "name": "stdout",
     "output_type": "stream",
     "text": [
      "Thresholds:  [0.622 0.36  0.61  0.309 0.28  0.408 0.33  0.467 0.122 0.112 0.104 0.349 0.271 0.375 0.418 0.115\n",
      " 0.31  0.38  0.425 0.375 0.234 0.533 0.358 0.52  0.44  0.569 0.256 0.101]\n",
      "Fractions:  [0.363 0.043 0.075 0.057 0.072 0.073 0.042 0.075 0.005 0.004 0.003 0.043 0.042 0.014 0.044 0.002\n",
      " 0.026 0.014 0.028 0.058 0.009 0.125 0.028 0.075 0.01  0.222 0.026 0.001]\n",
      "Fractions (th = 0.5):  [0.466 0.035 0.098 0.028 0.035 0.048 0.019 0.067 0.    0.    0.    0.028 0.016 0.009 0.037 0.\n",
      " 0.008 0.007 0.015 0.032 0.001 0.147 0.015 0.079 0.009 0.324 0.007 0.   ]\n"
     ]
    }
   ],
   "source": [
    "lb_prob = [\n",
    " 0.362397820,0.043841336,0.075268817,0.059322034,0.075268817,\n",
    " 0.075268817,0.043841336,0.075268817,0.010000000,0.010000000,\n",
    " 0.010000000,0.043841336,0.043841336,0.014198783,0.043841336,\n",
    " 0.010000000,0.028806584,0.014198783,0.028806584,0.059322034,\n",
    " 0.010000000,0.126126126,0.028806584,0.075268817,0.010000000,\n",
    " 0.222493880,0.028806584,0.010000000]\n",
    "\n",
    "from scipy.special import expit\n",
    "\n",
    "def sigmoid_np(x):\n",
    "    return 1.0/(1.0 + np.exp(-x))\n",
    "\n",
    "def Count_soft(preds,th=0.5,d=50.0):\n",
    "    preds = sigmoid_np(d*(preds - th))\n",
    "    return preds.mean(axis=0)\n",
    "\n",
    "def fit_test(x,y):\n",
    "    params = 0.5*np.ones(len(name_label_dict))\n",
    "    wd = 1e-5\n",
    "    error = lambda p: np.concatenate((Count_soft(x,p) - y,\n",
    "                                      wd*(p - 0.5)), axis=None)\n",
    "    p, success = opt.leastsq(error, params)\n",
    "    return p\n",
    "\n",
    "pred_t = expit(ens)\n",
    "th_t = fit_test(pred_t,lb_prob)\n",
    "th_t[th_t<0.1] = 0.1\n",
    "np.set_printoptions(precision=3, suppress=True, linewidth=100)\n",
    "print('Thresholds: ',th_t)\n",
    "print('Fractions: ',(pred_t > th_t).mean(axis=0))\n",
    "print('Fractions (th = 0.5): ',(pred_t > 0.5).mean(axis=0))\n",
    "pred = (pred_t > th_t).astype(int)"
   ]
  },
  {
   "cell_type": "code",
   "execution_count": 69,
   "metadata": {},
   "outputs": [
    {
     "name": "stdout",
     "output_type": "stream",
     "text": [
      "0 0.5034 0.3624 0.3624 Nucleoplasm\n",
      "1 -0.5960 0.0438 0.0439 Nuclear membrane\n",
      "2 0.4451 0.0753 0.0753 Nucleoli\n",
      "3 -0.8386 0.0593 0.0594 Nucleoli fibrillar center\n",
      "4 -0.9807 0.0753 0.0753 Nuclear speckles\n",
      "5 -0.3930 0.0753 0.0753 Nuclear bodies\n",
      "6 -0.7377 0.0438 0.0439 Endoplasmic reticulum\n",
      "7 -0.1352 0.0753 0.0753 Golgi apparatus\n",
      "8 -2.4239 0.0100 0.0102 Peroxisomes\n",
      "9 -2.6634 0.0100 0.0101 Endosomes\n",
      "10 -3.1465 0.0100 0.0101 Lysosomes\n",
      "11 -0.6601 0.0438 0.0439 Intermediate filaments\n",
      "12 -1.0301 0.0438 0.0439 Actin filaments\n",
      "13 -0.5313 0.0142 0.0143 Focal adhesion sites\n",
      "14 -0.3282 0.0438 0.0439 Microtubules\n",
      "15 -2.6156 0.0100 0.0101 Microtubule ends\n",
      "16 -0.8429 0.0288 0.0289 Cytokinetic bridge\n",
      "17 -0.5095 0.0142 0.0143 Mitotic spindle\n",
      "18 -0.3234 0.0288 0.0289 Microtubule organizing center\n",
      "19 -0.5290 0.0593 0.0594 Centrosome\n",
      "20 -1.2382 0.0100 0.0101 Lipid droplets\n",
      "21 0.1186 0.1261 0.1261 Plasma membrane\n",
      "22 -0.6105 0.0288 0.0289 Cell junctions\n",
      "23 0.0698 0.0753 0.0753 Mitochondria\n",
      "24 -0.2475 0.0100 0.0101 Aggresome\n",
      "25 0.2766 0.2225 0.2225 Cytosol\n",
      "26 -1.1278 0.0288 0.0289 Cytoplasmic bodies\n",
      "27 -3.1689 0.0100 0.0101 Rods & rings\n"
     ]
    }
   ],
   "source": [
    "# custom thresholds to match lb proportions\n",
    "thresholds = np.linspace(5, -5, 100001)\n",
    "pred = ens.copy()\n",
    "for j in range(pred.shape[1]):\n",
    "    for t in thresholds:\n",
    "        pred[:,j] = (ens[:,j] > t).astype(int)\n",
    "        prop = np.mean(pred[:,j])\n",
    "        if prop >= desired[j]: break\n",
    "    print(j,'%6.4f' % t,'%6.4f' % desired[j],'%6.4f' % prop,name_label_dict[j],)"
   ]
  },
  {
   "cell_type": "code",
   "execution_count": 70,
   "metadata": {},
   "outputs": [
    {
     "name": "stdout",
     "output_type": "stream",
     "text": [
      "[[0 0 1 0 0 0 0 0 0 0 0 0 0 0 0 0 0 0 0 0 0 0 0 0 0 0 0 0]\n",
      " [0 0 0 1 0 1 0 0 0 0 0 0 0 0 0 0 0 0 0 0 0 0 0 0 0 0 0 0]\n",
      " [1 0 0 0 0 1 0 0 0 0 0 0 0 0 0 0 0 0 0 0 0 0 0 0 0 1 0 0]\n",
      " [1 0 0 0 0 0 0 0 0 0 0 0 0 0 0 0 0 0 0 0 0 0 0 0 0 0 0 0]\n",
      " [0 0 0 0 0 0 0 0 0 0 0 0 0 0 0 0 0 0 0 0 0 0 0 1 0 0 0 0]]\n"
     ]
    }
   ],
   "source": [
    "np.set_printoptions(linewidth=100)\n",
    "print(pred[:5].astype(int))"
   ]
  },
  {
   "cell_type": "code",
   "execution_count": 71,
   "metadata": {},
   "outputs": [
    {
     "name": "stdout",
     "output_type": "stream",
     "text": [
      "(11702,)\n",
      "0.0 1.640659716287814 7.0\n"
     ]
    }
   ],
   "source": [
    "xps = np.sum(pred,axis=1)\n",
    "print(xps.shape)\n",
    "print(xps.min(),xps.mean(),xps.max())"
   ]
  },
  {
   "cell_type": "code",
   "execution_count": 72,
   "metadata": {},
   "outputs": [
    {
     "name": "stdout",
     "output_type": "stream",
     "text": [
      "0.05076055375149547\n"
     ]
    }
   ],
   "source": [
    "print(sum(xps==0)/pred.shape[0])"
   ]
  },
  {
   "cell_type": "code",
   "execution_count": 73,
   "metadata": {},
   "outputs": [
    {
     "name": "stdout",
     "output_type": "stream",
     "text": [
      "0 00008af0-bad0-11e8-b2b8-ac1f6b6435d0 2\n",
      "1000 15efe29e-bad4-11e8-b2b8-ac1f6b6435d0 26\n",
      "2000 2bd51caa-bad9-11e8-b2b9-ac1f6b6435d0 24\n",
      "3000 42f7f174-bace-11e8-b2b8-ac1f6b6435d0 0\n",
      "4000 589b3070-bad0-11e8-b2b8-ac1f6b6435d0 3\n",
      "5000 6dd7e7b6-bac7-11e8-b2b7-ac1f6b6435d0 25\n",
      "6000 835f7a30-bad7-11e8-b2b9-ac1f6b6435d0 2 23\n",
      "7000 9932fa46-bac6-11e8-b2b7-ac1f6b6435d0 \n",
      "8000 aeabe93c-bacb-11e8-b2b8-ac1f6b6435d0 1 5\n",
      "9000 c4ad1a3a-bada-11e8-b2b9-ac1f6b6435d0 11\n",
      "10000 da851aec-bada-11e8-b2b9-ac1f6b6435d0 25\n",
      "11000 f071ee12-bad9-11e8-b2b9-ac1f6b6435d0 12 21\n",
      "{'ids': ['00008af0-bad0-11e8-b2b8-ac1f6b6435d0', '0000a892-bacf-11e8-b2b8-ac1f6b6435d0', '0006faa6-bac7-11e8-b2b7-ac1f6b6435d0', '0008baca-bad7-11e8-b2b9-ac1f6b6435d0', '000cce7e-bad4-11e8-b2b8-ac1f6b6435d0', '00109f6a-bac8-11e8-b2b7-ac1f6b6435d0', '001765de-bacd-11e8-b2b8-ac1f6b6435d0', '0018641a-bac9-11e8-b2b8-ac1f6b6435d0', '00200f22-bad7-11e8-b2b9-ac1f6b6435d0', '0026f154-bac6-11e8-b2b7-ac1f6b6435d0'], 'subs': ['2', '3 5', '0 5 25', '0', '23', '4', '4 25', '0 25', '0', '25']}\n",
      "11702 11702\n"
     ]
    }
   ],
   "source": [
    "subs = []\n",
    "ids = []\n",
    "for i,fid in enumerate(test_df.index.values):\n",
    "    subrow = ' '.join(list([str(i) for i in np.nonzero(pred[i])[0]]))\n",
    "    subs.append(subrow)\n",
    "    ids.append(fid)\n",
    "    if i % 1000 == 0: print(i,fid,subrow)\n",
    "print({'ids':ids[:10], 'subs':subs[:10]})\n",
    "print(len(ids), len(subs))"
   ]
  },
  {
   "cell_type": "code",
   "execution_count": 74,
   "metadata": {},
   "outputs": [
    {
     "name": "stdout",
     "output_type": "stream",
     "text": [
      "sub/resnet4.csv\n"
     ]
    }
   ],
   "source": [
    "subm = pd.DataFrame.from_dict({'Id':ids, 'Predicted':subs}, orient='index').T\n",
    "fname = 'sub/' + fidx + midx + '.csv'\n",
    "subm.to_csv(fname, index=False)\n",
    "print(fname)"
   ]
  },
  {
   "cell_type": "code",
   "execution_count": 75,
   "metadata": {},
   "outputs": [
    {
     "name": "stdout",
     "output_type": "stream",
     "text": [
      "0 Nucleoplasm count 4241 prop 0.3624\n",
      "1 Nuclear membrane count 514 prop 0.0439\n",
      "2 Nucleoli count 881 prop 0.0753\n",
      "3 Nucleoli fibrillar center count 695 prop 0.0594\n",
      "4 Nuclear speckles count 881 prop 0.0753\n",
      "5 Nuclear bodies count 881 prop 0.0753\n",
      "6 Endoplasmic reticulum count 514 prop 0.0439\n",
      "7 Golgi apparatus count 881 prop 0.0753\n",
      "8 Peroxisomes count 119 prop 0.0102\n",
      "9 Endosomes count 118 prop 0.0101\n",
      "10 Lysosomes count 118 prop 0.0101\n",
      "11 Intermediate filaments count 514 prop 0.0439\n",
      "12 Actin filaments count 514 prop 0.0439\n",
      "13 Focal adhesion sites count 167 prop 0.0143\n",
      "14 Microtubules count 514 prop 0.0439\n",
      "15 Microtubule ends count 118 prop 0.0101\n",
      "16 Cytokinetic bridge count 338 prop 0.0289\n",
      "17 Mitotic spindle count 167 prop 0.0143\n",
      "18 Microtubule organizing center count 338 prop 0.0289\n",
      "19 Centrosome count 695 prop 0.0594\n",
      "20 Lipid droplets count 118 prop 0.0101\n",
      "21 Plasma membrane count 1476 prop 0.1261\n",
      "22 Cell junctions count 338 prop 0.0289\n",
      "23 Mitochondria count 881 prop 0.0753\n",
      "24 Aggresome count 118 prop 0.0101\n",
      "25 Cytosol count 2604 prop 0.2225\n",
      "26 Cytoplasmic bodies count 338 prop 0.0289\n",
      "27 Rods & rings count 118 prop 0.0101\n"
     ]
    }
   ],
   "source": [
    "from itertools import chain\n",
    "from collections import Counter\n",
    "max_idx = 27\n",
    "subm['target_list'] = subm['Predicted'].map(lambda x: \\\n",
    "            [int(a) if a != '' else -1 for a in str(x).split(' ')])\n",
    "subm['target_vec'] = subm['target_list'].map(lambda ck: \\\n",
    "            [i in ck for i in range(max_idx+1)])\n",
    "all_labels = list(chain.from_iterable(subm['target_list'].values))\n",
    "c_val = Counter(all_labels)\n",
    "n_keys = c_val.keys()\n",
    "max_idx = max(n_keys)\n",
    "for k,v in name_label_dict.items():\n",
    "    print(k,v, 'count', c_val[k] if k in c_val else 0,\n",
    "             'prop', '%6.4f' % (c_val[k]/len(ids) if k in c_val else 0))"
   ]
  },
  {
   "cell_type": "code",
   "execution_count": 76,
   "metadata": {},
   "outputs": [
    {
     "data": {
      "image/png": "[encoded data removed]",
      "text/plain": [
       "<Figure size 432x288 with 1 Axes>"
      ]
     },
     "metadata": {},
     "output_type": "display_data"
    }
   ],
   "source": [
    "train_sum_vec = np.sum(np.stack(subm['target_vec'].values, 0), 0)\n",
    "_ = plt.bar(n_keys, [train_sum_vec[k] for k in n_keys])"
   ]
  },
  {
   "cell_type": "code",
   "execution_count": 77,
   "metadata": {},
   "outputs": [],
   "source": [
    "from sklearn.metrics import f1_score\n",
    "\n",
    "# compute f1 score between two submission files\n",
    "def f1_sub(csv0, csv1, num_classes=28):\n",
    "    c0 = pd.read_csv(csv0)\n",
    "    c1 = pd.read_csv(csv1)\n",
    "    assert c0.shape == c1.shape\n",
    "    s0 = [s if isinstance(s,str) else '' for s in c0.Predicted]\n",
    "    s1 = [s if isinstance(s,str) else '' for s in c1.Predicted]\n",
    "    p0 = [s.split() for s in s0]\n",
    "    p1 = [s.split() for s in s1]\n",
    "    y0 = np.zeros((c0.shape[0],num_classes)).astype(int)\n",
    "    y1 = np.zeros((c0.shape[0],num_classes)).astype(int)\n",
    "    # print(p0[:5])\n",
    "    for i in range(c0.shape[0]):\n",
    "        for j in p0[i]: y0[i,int(j)] = 1\n",
    "        for j in p1[i]: y1[i,int(j)] = 1\n",
    "    # print(y0[:5])\n",
    "            \n",
    "    return f1_score(y0, y1, average='macro')"
   ]
  },
  {
   "cell_type": "code",
   "execution_count": 78,
   "metadata": {},
   "outputs": [
    {
     "data": {
      "text/plain": [
       "0.764550262807543"
      ]
     },
     "execution_count": 78,
     "metadata": {},
     "output_type": "execute_result"
    }
   ],
   "source": [
    "f1_sub(fname,'sub/protein_classification.csv')"
   ]
  },
  {
   "cell_type": "code",
   "execution_count": 79,
   "metadata": {},
   "outputs": [
    {
     "data": {
      "text/plain": [
       "0.5672170591130907"
      ]
     },
     "execution_count": 79,
     "metadata": {},
     "output_type": "execute_result"
    }
   ],
   "source": [
    "f1_sub(fname,'sub/submit_InceptionV3.csv')"
   ]
  },
  {
   "cell_type": "code",
   "execution_count": 80,
   "metadata": {},
   "outputs": [
    {
     "data": {
      "text/plain": [
       "0.5505950301316449"
      ]
     },
     "execution_count": 80,
     "metadata": {},
     "output_type": "execute_result"
    }
   ],
   "source": [
    "f1_sub(fname,'sub/submit_InceptionResNetV2_3.csv')"
   ]
  },
  {
   "cell_type": "code",
   "execution_count": 81,
   "metadata": {},
   "outputs": [
    {
     "data": {
      "text/plain": [
       "0.684176986864937"
      ]
     },
     "execution_count": 81,
     "metadata": {},
     "output_type": "execute_result"
    }
   ],
   "source": [
    "f1_sub(fname,'sub/se_resnext6.csv')"
   ]
  },
  {
   "cell_type": "code",
   "execution_count": 82,
   "metadata": {},
   "outputs": [
    {
     "data": {
      "text/plain": [
       "0.6695899980352956"
      ]
     },
     "execution_count": 82,
     "metadata": {},
     "output_type": "execute_result"
    }
   ],
   "source": [
    "f1_sub(fname,'sub/iv3_0.csv')"
   ]
  },
  {
   "cell_type": "code",
   "execution_count": 83,
   "metadata": {},
   "outputs": [
    {
     "data": {
      "text/plain": [
       "0.6946601565401511"
      ]
     },
     "execution_count": 83,
     "metadata": {},
     "output_type": "execute_result"
    }
   ],
   "source": [
    "f1_sub(fname,'sub/irv2_0.csv')"
   ]
  },
  {
   "cell_type": "code",
   "execution_count": 84,
   "metadata": {},
   "outputs": [
    {
     "data": {
      "text/plain": [
       "0.7246840088117853"
      ]
     },
     "execution_count": 84,
     "metadata": {},
     "output_type": "execute_result"
    }
   ],
   "source": [
    "f1_sub(fname,'sub/ens0.csv')"
   ]
  },
  {
   "cell_type": "code",
   "execution_count": 85,
   "metadata": {},
   "outputs": [
    {
     "data": {
      "text/plain": [
       "0.7967683567461493"
      ]
     },
     "execution_count": 85,
     "metadata": {},
     "output_type": "execute_result"
    }
   ],
   "source": [
    "f1_sub(fname,'sub/ens1.csv')"
   ]
  },
  {
   "cell_type": "code",
   "execution_count": 86,
   "metadata": {},
   "outputs": [
    {
     "data": {
      "text/plain": [
       "0.7910623640964253"
      ]
     },
     "execution_count": 86,
     "metadata": {},
     "output_type": "execute_result"
    }
   ],
   "source": [
    "f1_sub(fname,'sub/ens2.csv')"
   ]
  },
  {
   "cell_type": "code",
   "execution_count": 87,
   "metadata": {},
   "outputs": [
    {
     "data": {
      "text/plain": [
       "0.7996944067839422"
      ]
     },
     "execution_count": 87,
     "metadata": {},
     "output_type": "execute_result"
    }
   ],
   "source": [
    "f1_sub(fname,'sub/resnet34_0.csv')"
   ]
  },
  {
   "cell_type": "code",
   "execution_count": 88,
   "metadata": {},
   "outputs": [
    {
     "data": {
      "text/plain": [
       "0.7890680070375843"
      ]
     },
     "execution_count": 88,
     "metadata": {},
     "output_type": "execute_result"
    }
   ],
   "source": [
    "f1_sub(fname,'sub/resnet50_0.csv')"
   ]
  },
  {
   "cell_type": "code",
   "execution_count": 89,
   "metadata": {},
   "outputs": [
    {
     "data": {
      "text/plain": [
       "0.8280601477531034"
      ]
     },
     "execution_count": 89,
     "metadata": {},
     "output_type": "execute_result"
    }
   ],
   "source": [
    "f1_sub('sub/resnet34_0.csv','sub/resnet50_0.csv')"
   ]
  },
  {
   "cell_type": "code",
   "execution_count": 90,
   "metadata": {},
   "outputs": [
    {
     "name": "stdout",
     "output_type": "stream",
     "text": [
      "sub/resnet4.csv\n"
     ]
    }
   ],
   "source": [
    "print(fname)"
   ]
  },
  {
   "cell_type": "code",
   "execution_count": null,
   "metadata": {},
   "outputs": [],
   "source": []
  }
 ],
 "metadata": {
  "kernelspec": {
   "display_name": "Python 3",
   "language": "python",
   "name": "python3"
  },
  "language_info": {
   "codemirror_mode": {
    "name": "ipython",
    "version": 3
   },
   "file_extension": ".py",
   "mimetype": "text/x-python",
   "name": "python",
   "nbconvert_exporter": "python",
   "pygments_lexer": "ipython3",
   "version": "3.6.5"
  }
 },
 "nbformat": 4,
 "nbformat_minor": 2
}
