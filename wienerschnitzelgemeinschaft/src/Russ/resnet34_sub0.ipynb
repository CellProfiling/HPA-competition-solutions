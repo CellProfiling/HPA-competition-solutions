{
 "cells": [
  {
   "cell_type": "code",
   "execution_count": 97,
   "metadata": {},
   "outputs": [
    {
     "name": "stdout",
     "output_type": "stream",
     "text": [
      "resnet34_ 0 -1.38\n"
     ]
    }
   ],
   "source": [
    "fidx = 'resnet34_'\n",
    "midx = '0'\n",
    "threshold = -1.38\n",
    "print(fidx,midx,threshold)"
   ]
  },
  {
   "cell_type": "code",
   "execution_count": 98,
   "metadata": {},
   "outputs": [
    {
     "name": "stdout",
     "output_type": "stream",
     "text": [
      "['resnet34_46']\n",
      "[1]\n"
     ]
    }
   ],
   "source": [
    "# results from ens_oof.ipynb\n",
    "mnames = ['resnet34_46']\n",
    "weights = [1]\n",
    "assert(len(mnames)==len(weights))\n",
    "print(mnames)\n",
    "print(weights)"
   ]
  },
  {
   "cell_type": "code",
   "execution_count": 99,
   "metadata": {},
   "outputs": [],
   "source": [
    "import numpy as np\n",
    "import pandas as pd\n",
    "import pickle\n",
    "import os\n",
    "from os import path\n",
    "from random import randint\n",
    "\n",
    "import matplotlib.pyplot as plt\n",
    "plt.style.use('seaborn-white')\n",
    "import seaborn as sns\n",
    "sns.set_style(\"white\")\n",
    "\n",
    "from sklearn.model_selection import train_test_split\n",
    "\n",
    "from keras.preprocessing.image import load_img\n",
    "\n",
    "import pydensecrf.densecrf as dcrf\n",
    "from pydensecrf.utils import unary_from_labels, create_pairwise_bilateral\n",
    "from skimage.color import gray2rgb\n",
    "from skimage.color import rgb2gray\n",
    "from skimage.transform import resize\n",
    "\n",
    "from scipy.special import logit\n",
    "from sklearn.model_selection import StratifiedKFold\n",
    "from sklearn.metrics import jaccard_similarity_score, f1_score\n",
    "\n",
    "from scipy.special import logit, expit\n",
    "\n",
    "import gc\n",
    "import cv2\n",
    "from tqdm import tqdm_notebook\n",
    "\n",
    "from numpy import inf"
   ]
  },
  {
   "cell_type": "code",
   "execution_count": 100,
   "metadata": {},
   "outputs": [],
   "source": [
    "name_label_dict = {\n",
    "    0:  \"Nucleoplasm\",  \n",
    "    1:  \"Nuclear membrane\",   \n",
    "    2:  \"Nucleoli\",   \n",
    "    3:  \"Nucleoli fibrillar center\",   \n",
    "    4:  \"Nuclear speckles\",\n",
    "    5:  \"Nuclear bodies\",   \n",
    "    6:  \"Endoplasmic reticulum\",   \n",
    "    7:  \"Golgi apparatus\",   \n",
    "    8:  \"Peroxisomes\",   \n",
    "    9:  \"Endosomes\",   \n",
    "    10:  \"Lysosomes\",   \n",
    "    11:  \"Intermediate filaments\",   \n",
    "    12:  \"Actin filaments\",   \n",
    "    13:  \"Focal adhesion sites\",   \n",
    "    14:  \"Microtubules\",   \n",
    "    15:  \"Microtubule ends\",   \n",
    "    16:  \"Cytokinetic bridge\",   \n",
    "    17:  \"Mitotic spindle\",   \n",
    "    18:  \"Microtubule organizing center\",   \n",
    "    19:  \"Centrosome\",   \n",
    "    20:  \"Lipid droplets\",   \n",
    "    21:  \"Plasma membrane\",   \n",
    "    22:  \"Cell junctions\",   \n",
    "    23:  \"Mitochondria\",   \n",
    "    24:  \"Aggresome\",   \n",
    "    25:  \"Cytosol\",   \n",
    "    26:  \"Cytoplasmic bodies\",   \n",
    "    27:  \"Rods & rings\"\n",
    "}"
   ]
  },
  {
   "cell_type": "code",
   "execution_count": 101,
   "metadata": {},
   "outputs": [
    {
     "name": "stdout",
     "output_type": "stream",
     "text": [
      "                                      Predicted\n",
      "Id                                             \n",
      "00008af0-bad0-11e8-b2b8-ac1f6b6435d0          0\n",
      "0000a892-bacf-11e8-b2b8-ac1f6b6435d0          0\n",
      "0006faa6-bac7-11e8-b2b7-ac1f6b6435d0          0\n",
      "0008baca-bad7-11e8-b2b9-ac1f6b6435d0          0\n",
      "000cce7e-bad4-11e8-b2b8-ac1f6b6435d0          0\n",
      "(11702, 1)\n"
     ]
    }
   ],
   "source": [
    "test_df = pd.read_csv(\"sample_submission.csv\", index_col=\"Id\")\n",
    "print(test_df.head())\n",
    "print(test_df.shape)"
   ]
  },
  {
   "cell_type": "code",
   "execution_count": 102,
   "metadata": {
    "_uuid": "b18c1f50cefd7504eae7e7b9605be3814c7cad6d"
   },
   "outputs": [],
   "source": [
    "# test_df[\"images\"] = [np.array(load_img(\"images/{}.png\".format(idx), \\\n",
    "#                                         color_mode = \"grayscale\")) / 255. \\\n",
    "#                                         # grayscale=True)) / 255. \\\n",
    "#                       for idx in tqdm_notebook(test_df.index)]\n",
    "# print(test_df.shape)"
   ]
  },
  {
   "cell_type": "code",
   "execution_count": 103,
   "metadata": {},
   "outputs": [
    {
     "data": {
      "text/plain": [
       "Index(['Predicted'], dtype='object')"
      ]
     },
     "execution_count": 103,
     "metadata": {},
     "output_type": "execute_result"
    }
   ],
   "source": [
    "test_df.columns"
   ]
  },
  {
   "cell_type": "code",
   "execution_count": 104,
   "metadata": {},
   "outputs": [],
   "source": [
    "# save a base copy for reuse below\n",
    "test_df0 = test_df.copy()\n",
    "sub_dir = './sub/'"
   ]
  },
  {
   "cell_type": "code",
   "execution_count": 105,
   "metadata": {},
   "outputs": [
    {
     "name": "stdout",
     "output_type": "stream",
     "text": [
      "\n",
      "./sub/resnet34_46_0.pkl\n",
      "-6.0 -3.1508086 6.0\n",
      "(11702, 28) -6.0 -3.1508086 6.0\n",
      "\n",
      "./sub/resnet34_46_1.pkl\n",
      "-6.0 -3.0783 6.0\n",
      "(11702, 28) -6.0 -3.0783 6.0\n",
      "[[1.         0.95492123]\n",
      " [0.95492123 1.        ]]\n",
      "\n",
      "./sub/resnet34_46_2.pkl\n",
      "-6.0 -3.0856829 4.956825\n",
      "(11702, 28) -6.0 -3.0856829 4.956825\n",
      "[[1.         0.96818488]\n",
      " [0.96818488 1.        ]]\n",
      "\n",
      "./sub/resnet34_46_3.pkl\n",
      "-6.0 -3.0479524 6.0\n",
      "(11702, 28) -6.0 -3.0479524 6.0\n",
      "[[1.        0.9714217]\n",
      " [0.9714217 1.       ]]\n",
      "\n",
      "./sub/resnet34_46_4.pkl\n",
      "-6.0 -3.10276 5.5849032\n",
      "(11702, 28) -6.0 -3.10276 5.5849032\n",
      "[[1.         0.97169604]\n",
      " [0.97169604 1.        ]]\n",
      "\n",
      "./sub/resnet34_46_5.pkl\n",
      "-6.0 -3.0689316 5.4589205\n",
      "(11702, 28) -6.0 -3.0689316 5.4589205\n",
      "[[1.         0.97375859]\n",
      " [0.97375859 1.        ]]\n",
      "\n",
      "./sub/resnet34_46_6.pkl\n",
      "-6.0 -3.049025 5.0698414\n",
      "(11702, 28) -6.0 -3.049025 5.0698414\n",
      "[[1.         0.97390468]\n",
      " [0.97390468 1.        ]]\n",
      "\n",
      "./sub/resnet34_46_7.pkl\n",
      "-6.0 -3.0950286 5.4176774\n",
      "(11702, 28) -6.0 -3.0950286 5.4176774\n",
      "[[1.         0.97431564]\n",
      " [0.97431564 1.        ]]\n",
      "\n",
      "./sub/resnet34_46_8.pkl\n",
      "-6.0 -3.1117923 6.0\n",
      "(11702, 28) -6.0 -3.1117923 6.0\n",
      "[[1.         0.97562649]\n",
      " [0.97562649 1.        ]]\n",
      "\n",
      "./sub/resnet34_46_9.pkl\n",
      "-6.0 -3.0687797 5.2438\n",
      "(11702, 28) -6.0 -3.0687797 5.2438\n",
      "[[1.         0.97573152]\n",
      " [0.97573152 1.        ]]\n",
      "resnet34_46 0 (11702, 28) -6.0 -3.0859056 5.178076 0.1655760919989257\n",
      "(327656, 10)\n",
      "flat.csv\n"
     ]
    }
   ],
   "source": [
    "# build submission ensemble as weighted average on logit scale\n",
    "test_df = test_df0.copy()\n",
    "idx = test_df.index.values\n",
    "\n",
    "nfold = 20\n",
    "\n",
    "firstm = True\n",
    "sumw = 0.\n",
    "\n",
    "flat = []\n",
    "\n",
    "for m in mnames:\n",
    "\n",
    "    firstf = True\n",
    "    for fold in range(nfold):\n",
    "#         print('')\n",
    "#         print(m+'_'+str(fold))\n",
    "        first = True\n",
    "        nr = 0\n",
    "        for suffix in ['','a','b','c','d','e','f','g','h','i']:\n",
    "            # fname = sub_dir + m + suffix + '_' + str(fold) + '_bag.pkl'\n",
    "            fname = sub_dir + m + suffix + '_' + str(fold) + '.pkl'\n",
    "            # print(fname)\n",
    "            if os.path.exists(fname):\n",
    "                print('')\n",
    "                print(fname)\n",
    "                idb, ptestb = pickle.load(open(fname,'rb'))\n",
    "                # ptestb = np.load(fname)\n",
    "                ptestb = logit(ptestb)\n",
    "                \n",
    "                ptestb = np.clip(ptestb,-6.0,6.0)\n",
    "                # ptestb[ptestb==-inf] = -6.0\n",
    "                # ptestb[ptestb==inf] = 6.0\n",
    "                \n",
    "                print(ptestb.min(),ptestb.mean(),ptestb.max())\n",
    "                \n",
    "                if first:\n",
    "                    ptestf = ptestb.copy()\n",
    "                    idb0 = idb\n",
    "                    first = False\n",
    "                else:\n",
    "                    checki = [i0 != i1 for i0,i1 in zip(idb0,idb)]\n",
    "                    si = np.array(checki).sum()\n",
    "                    # print(si)\n",
    "                    assert si == 0\n",
    "                    print(np.corrcoef(np.array(ptestf).flatten(),\n",
    "                                      np.array(ptestb).flatten()))\n",
    "\n",
    "                    ptestf += ptestb\n",
    "                nr += 1\n",
    "         \n",
    "        if nr > 0:\n",
    "            ptestf /= nr\n",
    "            print(ptestf.shape,ptestf.min(),ptestf.mean(),ptestf.max())\n",
    "\n",
    "            if firstf:\n",
    "                # id = idb\n",
    "                id = idx\n",
    "                ptest = ptestf.copy()\n",
    "                navg = 1\n",
    "                firstf = False\n",
    "            else:\n",
    "                print(np.corrcoef(np.array(ptest).flatten(),\n",
    "                                  np.array(ptestf).flatten()))\n",
    "                ptest += ptestf\n",
    "                navg += 1\n",
    "                \n",
    "            flat.append(np.array(ptestf).flatten())\n",
    "\n",
    "    if navg == 0: print('Error: No files found')\n",
    "    ptest /= navg\n",
    "    pmask = (ptest > threshold).astype(int)\n",
    "    print(m,nr,ptest.shape,ptest.min(),ptest.mean(),ptest.max(),pmask.mean())\n",
    "    td = pd.DataFrame({'id':id})\n",
    "    td[m] = [a for a in ptest]\n",
    "    td.set_index('id',inplace=True)\n",
    "    test_df = test_df.join(td)\n",
    "\n",
    "\n",
    "flat = np.transpose(np.array(flat))\n",
    "print(flat.shape)\n",
    "fname = 'flat.csv'\n",
    "fdf = pd.DataFrame(flat)\n",
    "fdf.to_csv(fname)\n",
    "print(fname)"
   ]
  },
  {
   "cell_type": "code",
   "execution_count": 106,
   "metadata": {},
   "outputs": [
    {
     "data": {
      "text/plain": [
       "Index(['Predicted', 'resnet34_46'], dtype='object')"
      ]
     },
     "execution_count": 106,
     "metadata": {},
     "output_type": "execute_result"
    }
   ],
   "source": [
    "test_df.columns"
   ]
  },
  {
   "cell_type": "code",
   "execution_count": 107,
   "metadata": {},
   "outputs": [
    {
     "name": "stdout",
     "output_type": "stream",
     "text": [
      "['00008af0-bad0-11e8-b2b8-ac1f6b6435d0' '0000a892-bacf-11e8-b2b8-ac1f6b6435d0'\n",
      " '0006faa6-bac7-11e8-b2b7-ac1f6b6435d0' '0008baca-bad7-11e8-b2b9-ac1f6b6435d0'\n",
      " '000cce7e-bad4-11e8-b2b8-ac1f6b6435d0']\n"
     ]
    }
   ],
   "source": [
    "print(idx[:5])"
   ]
  },
  {
   "cell_type": "code",
   "execution_count": 108,
   "metadata": {},
   "outputs": [
    {
     "name": "stdout",
     "output_type": "stream",
     "text": [
      "['resnet34_46']\n",
      "1.0\n"
     ]
    }
   ],
   "source": [
    "f = []\n",
    "clist = list(test_df.columns[1:])\n",
    "for c in clist:\n",
    "    f.append(np.array(list(test_df[c])).flatten())\n",
    "print(clist)\n",
    "print(np.corrcoef(f))   "
   ]
  },
  {
   "cell_type": "code",
   "execution_count": 109,
   "metadata": {},
   "outputs": [
    {
     "name": "stdout",
     "output_type": "stream",
     "text": [
      "(1, 11702, 28)\n"
     ]
    }
   ],
   "source": [
    "f = []\n",
    "clist = list(test_df.columns[1:])\n",
    "for c in clist:\n",
    "    f.append(np.array(list(test_df[c])))\n",
    "m = np.array(f)\n",
    "print(m.shape)"
   ]
  },
  {
   "cell_type": "code",
   "execution_count": 110,
   "metadata": {},
   "outputs": [
    {
     "name": "stdout",
     "output_type": "stream",
     "text": [
      "[1]\n"
     ]
    }
   ],
   "source": [
    "weights = np.array(weights)\n",
    "print(weights)"
   ]
  },
  {
   "cell_type": "code",
   "execution_count": 111,
   "metadata": {},
   "outputs": [
    {
     "name": "stdout",
     "output_type": "stream",
     "text": [
      "(11702, 28)\n"
     ]
    }
   ],
   "source": [
    "ens = np.average(m,axis=0,weights=weights)\n",
    "print(ens.shape)"
   ]
  },
  {
   "cell_type": "code",
   "execution_count": 112,
   "metadata": {},
   "outputs": [
    {
     "name": "stdout",
     "output_type": "stream",
     "text": [
      "[-1.34534478 -3.51430368 -2.36726189 -0.74709284 -2.94204187  1.87709391 -1.30902624 -2.43386722\n",
      " -3.4190259  -5.90171242 -5.88585854 -1.77863157 -2.84937143 -2.56426024 -2.71282578 -3.96556997\n",
      " -2.74490547 -3.1808238  -2.73579931 -2.0388875  -3.30881953 -2.12558317 -2.3270936  -0.95166349\n",
      " -2.74524093 -0.55382222 -2.83931828 -4.46649837]\n"
     ]
    }
   ],
   "source": [
    "print(ens[1])"
   ]
  },
  {
   "cell_type": "code",
   "execution_count": 113,
   "metadata": {},
   "outputs": [],
   "source": [
    "# fname = 'mthresh.pkl'\n",
    "# if os.path.isfile(fname): mthresh = pickle.load(open(fname,'rb'))\n",
    "# mthresh[mname]"
   ]
  },
  {
   "cell_type": "code",
   "execution_count": 114,
   "metadata": {},
   "outputs": [
    {
     "name": "stdout",
     "output_type": "stream",
     "text": [
      "{0: 0.36239782, 1: 0.043841336, 2: 0.075268817, 3: 0.059322034, 4: 0.075268817, 5: 0.075268817, 6: 0.043841336, 7: 0.075268817, 8: 0.004, 9: 0.004, 10: 0.004, 11: 0.043841336, 12: 0.043841336, 13: 0.014198783, 14: 0.043841336, 15: 0.004, 16: 0.028806584, 17: 0.014198783, 18: 0.028806584, 19: 0.059322034, 20: 0.004, 21: 0.126126126, 22: 0.028806584, 23: 0.075268817, 24: 0.004, 25: 0.222493888, 26: 0.028806584, 27: 0.004}\n"
     ]
    }
   ],
   "source": [
    "# desired class proportions from lb probing\n",
    "eps = 0.004\n",
    "desired = {\n",
    "0 : 0.36239782,\n",
    "1 : 0.043841336,\n",
    "2 : 0.075268817,\n",
    "3 : 0.059322034,\n",
    "4 : 0.075268817,\n",
    "5 : 0.075268817,\n",
    "6 : 0.043841336,\n",
    "7 : 0.075268817,\n",
    "8 : eps,\n",
    "9 : eps,\n",
    "10 : eps,\n",
    "11 : 0.043841336,\n",
    "12 : 0.043841336,\n",
    "13 : 0.014198783,\n",
    "14 : 0.043841336,\n",
    "15 : eps,\n",
    "16 : 0.028806584,\n",
    "17 : 0.014198783,\n",
    "18 : 0.028806584,\n",
    "19 : 0.059322034,\n",
    "20 : eps,\n",
    "21 : 0.126126126,\n",
    "22 : 0.028806584,\n",
    "23 : 0.075268817,\n",
    "24 : eps,\n",
    "25 : 0.222493888,\n",
    "26 : 0.028806584,\n",
    "27 : eps\n",
    "}\n",
    "print(desired)\n",
    "\n",
    "lb_prob = [\n",
    " 0.362397820,0.043841336,0.075268817,0.059322034,0.075268817,\n",
    " 0.075268817,0.043841336,0.075268817,0.010000000,0.010000000,\n",
    " 0.010000000,0.043841336,0.043841336,0.014198783,0.043841336,\n",
    " 0.010000000,0.028806584,0.014198783,0.028806584,0.059322034,\n",
    " 0.010000000,0.126126126,0.028806584,0.075268817,0.010000000,\n",
    " 0.222493880,0.028806584,0.010000000]"
   ]
  },
  {
   "cell_type": "code",
   "execution_count": 115,
   "metadata": {},
   "outputs": [
    {
     "name": "stdout",
     "output_type": "stream",
     "text": [
      "fixed threshold -1.38\n",
      "0 0.3624 0.7378 Nucleoplasm\n",
      "1 0.0438 0.0834 Nuclear membrane\n",
      "2 0.0753 0.3301 Nucleoli\n",
      "3 0.0593 0.1225 Nucleoli fibrillar center\n",
      "4 0.0753 0.1283 Nuclear speckles\n",
      "5 0.0753 0.2927 Nuclear bodies\n",
      "6 0.0438 0.1037 Endoplasmic reticulum\n",
      "7 0.0753 0.2962 Golgi apparatus\n",
      "8 0.0040 0.0044 Peroxisomes\n",
      "9 0.0040 0.0044 Endosomes\n",
      "10 0.0040 0.0023 Lysosomes\n",
      "11 0.0438 0.1212 Intermediate filaments\n",
      "12 0.0438 0.0667 Actin filaments\n",
      "13 0.0142 0.0447 Focal adhesion sites\n",
      "14 0.0438 0.0840 Microtubules\n",
      "15 0.0040 0.0015 Microtubule ends\n",
      "16 0.0288 0.0966 Cytokinetic bridge\n",
      "17 0.0142 0.0686 Mitotic spindle\n",
      "18 0.0288 0.1542 Microtubule organizing center\n",
      "19 0.0593 0.1877 Centrosome\n",
      "20 0.0040 0.0230 Lipid droplets\n",
      "21 0.1261 0.4746 Plasma membrane\n",
      "22 0.0288 0.0845 Cell junctions\n",
      "23 0.0753 0.2894 Mitochondria\n",
      "24 0.0040 0.0259 Aggresome\n",
      "25 0.2225 0.7480 Cytosol\n",
      "26 0.0288 0.0594 Cytoplasmic bodies\n",
      "27 0.0040 0.0002 Rods & rings\n"
     ]
    }
   ],
   "source": [
    "# fixed global threshold\n",
    "pred = (ens > threshold).astype(int)\n",
    "print('fixed threshold',threshold)\n",
    "for j in range(pred.shape[1]):\n",
    "    prop = np.mean(pred[:,j])\n",
    "    print(j,'%6.4f' % desired[j],'%6.4f' % prop,name_label_dict[j],)"
   ]
  },
  {
   "cell_type": "code",
   "execution_count": 116,
   "metadata": {},
   "outputs": [
    {
     "name": "stdout",
     "output_type": "stream",
     "text": [
      "0 0.8 0.3624 0.3628 Nucleoplasm\n",
      "1 -0.4 0.0438 0.0459 Nuclear membrane\n",
      "2 0.8 0.0753 0.0789 Nucleoli\n",
      "3 -0.8 0.0593 0.0646 Nucleoli fibrillar center\n",
      "4 -0.9 0.0753 0.0778 Nuclear speckles\n",
      "5 -0.1 0.0753 0.0786 Nuclear bodies\n",
      "6 -0.7 0.0438 0.0457 Endoplasmic reticulum\n",
      "7 0.2 0.0753 0.0799 Golgi apparatus\n",
      "8 -1.3 0.0040 0.0042 Peroxisomes\n",
      "9 -1.3 0.0040 0.0040 Endosomes\n",
      "10 -1.9 0.0040 0.0042 Lysosomes\n",
      "11 -0.3 0.0438 0.0443 Intermediate filaments\n",
      "12 -1.0 0.0438 0.0441 Actin filaments\n",
      "13 -0.2 0.0142 0.0148 Focal adhesion sites\n",
      "14 -0.1 0.0438 0.0448 Microtubules\n",
      "15 -1.9 0.0040 0.0041 Microtubule ends\n",
      "16 -0.6 0.0288 0.0292 Cytokinetic bridge\n",
      "17 -0.2 0.0142 0.0155 Mitotic spindle\n",
      "18 -0.1 0.0288 0.0326 Microtubule organizing center\n",
      "19 -0.3 0.0593 0.0619 Centrosome\n",
      "20 -0.3 0.0040 0.0042 Lipid droplets\n",
      "21 0.3 0.1261 0.1357 Plasma membrane\n",
      "22 -0.5 0.0288 0.0316 Cell junctions\n",
      "23 0.5 0.0753 0.0788 Mitochondria\n",
      "24 1.6 0.0040 0.0042 Aggresome\n",
      "25 0.5 0.2225 0.2445 Cytosol\n",
      "26 -0.8 0.0288 0.0293 Cytoplasmic bodies\n",
      "27 -2.5 0.0040 0.0048 Rods & rings\n"
     ]
    }
   ],
   "source": [
    "# custom thresholds to match lb proportions\n",
    "thresholds = np.linspace(5, -5, 101)\n",
    "pred = ens.copy()\n",
    "for j in range(pred.shape[1]):\n",
    "    for t in thresholds:\n",
    "        pred[:,j] = (ens[:,j] > t).astype(int)\n",
    "        prop = np.mean(pred[:,j])\n",
    "        if prop >= desired[j]: break\n",
    "    print(j,'%3.1f' % t,'%6.4f' % desired[j],'%6.4f' % prop,name_label_dict[j],)"
   ]
  },
  {
   "cell_type": "code",
   "execution_count": 117,
   "metadata": {},
   "outputs": [
    {
     "name": "stdout",
     "output_type": "stream",
     "text": [
      "[[0 0 1 0 0 0 0 0 0 0 0 0 0 0 0 0 0 0 0 0 0 0 0 0 0 0 0 0]\n",
      " [0 0 0 1 0 1 0 0 0 0 0 0 0 0 0 0 0 0 0 0 0 0 0 0 0 0 0 0]\n",
      " [1 0 0 0 0 1 0 0 0 0 0 0 0 0 0 0 0 0 0 0 0 0 0 0 0 1 0 0]\n",
      " [1 0 0 0 0 0 0 0 0 0 0 0 0 0 0 0 0 0 0 0 0 0 0 0 0 0 0 0]\n",
      " [0 0 0 0 0 0 0 0 0 0 0 0 0 0 0 0 0 0 0 0 0 0 0 1 0 0 0 0]]\n"
     ]
    }
   ],
   "source": [
    "np.set_printoptions(linewidth=100)\n",
    "print(pred[:5].astype(int))"
   ]
  },
  {
   "cell_type": "code",
   "execution_count": 118,
   "metadata": {},
   "outputs": [
    {
     "name": "stdout",
     "output_type": "stream",
     "text": [
      "(11702,)\n",
      "0.0 1.6708254999145444 7.0\n"
     ]
    }
   ],
   "source": [
    "xps = np.sum(pred,axis=1)\n",
    "print(xps.shape)\n",
    "print(xps.min(),xps.mean(),xps.max())"
   ]
  },
  {
   "cell_type": "code",
   "execution_count": 119,
   "metadata": {},
   "outputs": [
    {
     "name": "stdout",
     "output_type": "stream",
     "text": [
      "0.03443855751153649\n"
     ]
    }
   ],
   "source": [
    "print(sum(xps==0)/pred.shape[0])"
   ]
  },
  {
   "cell_type": "code",
   "execution_count": 120,
   "metadata": {},
   "outputs": [
    {
     "name": "stdout",
     "output_type": "stream",
     "text": [
      "0 00008af0-bad0-11e8-b2b8-ac1f6b6435d0 2\n",
      "1000 15efe29e-bad4-11e8-b2b8-ac1f6b6435d0 26\n",
      "2000 2bd51caa-bad9-11e8-b2b9-ac1f6b6435d0 24\n",
      "3000 42f7f174-bace-11e8-b2b8-ac1f6b6435d0 0\n",
      "4000 589b3070-bad0-11e8-b2b8-ac1f6b6435d0 3 5\n",
      "5000 6dd7e7b6-bac7-11e8-b2b7-ac1f6b6435d0 25\n",
      "6000 835f7a30-bad7-11e8-b2b9-ac1f6b6435d0 2 23\n",
      "7000 9932fa46-bac6-11e8-b2b7-ac1f6b6435d0 21 25\n",
      "8000 aeabe93c-bacb-11e8-b2b8-ac1f6b6435d0 1 5\n",
      "9000 c4ad1a3a-bada-11e8-b2b9-ac1f6b6435d0 11\n",
      "10000 da851aec-bada-11e8-b2b9-ac1f6b6435d0 25\n",
      "11000 f071ee12-bad9-11e8-b2b9-ac1f6b6435d0 12 19 21\n",
      "{'ids': ['00008af0-bad0-11e8-b2b8-ac1f6b6435d0', '0000a892-bacf-11e8-b2b8-ac1f6b6435d0', '0006faa6-bac7-11e8-b2b7-ac1f6b6435d0', '0008baca-bad7-11e8-b2b9-ac1f6b6435d0', '000cce7e-bad4-11e8-b2b8-ac1f6b6435d0', '00109f6a-bac8-11e8-b2b7-ac1f6b6435d0', '001765de-bacd-11e8-b2b8-ac1f6b6435d0', '0018641a-bac9-11e8-b2b8-ac1f6b6435d0', '00200f22-bad7-11e8-b2b9-ac1f6b6435d0', '0026f154-bac6-11e8-b2b7-ac1f6b6435d0'], 'subs': ['2', '3 5', '0 5 25', '0', '23', '4', '4 25', '0', '0', '25']}\n",
      "11702 11702\n"
     ]
    }
   ],
   "source": [
    "subs = []\n",
    "ids = []\n",
    "for i,fid in enumerate(test_df.index.values):\n",
    "    subrow = ' '.join(list([str(i) for i in np.nonzero(pred[i])[0]]))\n",
    "    subs.append(subrow)\n",
    "    ids.append(fid)\n",
    "    if i % 1000 == 0: print(i,fid,subrow)\n",
    "print({'ids':ids[:10], 'subs':subs[:10]})\n",
    "print(len(ids), len(subs))"
   ]
  },
  {
   "cell_type": "code",
   "execution_count": 121,
   "metadata": {},
   "outputs": [
    {
     "name": "stdout",
     "output_type": "stream",
     "text": [
      "sub/resnet34_0.csv\n"
     ]
    }
   ],
   "source": [
    "subm = pd.DataFrame.from_dict({'Id':ids, 'Predicted':subs}, orient='index').T\n",
    "fname = 'sub/' + fidx + midx + '.csv'\n",
    "subm.to_csv(fname, index=False)\n",
    "print(fname)"
   ]
  },
  {
   "cell_type": "code",
   "execution_count": 122,
   "metadata": {},
   "outputs": [
    {
     "name": "stdout",
     "output_type": "stream",
     "text": [
      "0 Nucleoplasm count 4245 prop 0.3628\n",
      "1 Nuclear membrane count 537 prop 0.0459\n",
      "2 Nucleoli count 923 prop 0.0789\n",
      "3 Nucleoli fibrillar center count 756 prop 0.0646\n",
      "4 Nuclear speckles count 910 prop 0.0778\n",
      "5 Nuclear bodies count 920 prop 0.0786\n",
      "6 Endoplasmic reticulum count 535 prop 0.0457\n",
      "7 Golgi apparatus count 935 prop 0.0799\n",
      "8 Peroxisomes count 49 prop 0.0042\n",
      "9 Endosomes count 47 prop 0.0040\n",
      "10 Lysosomes count 49 prop 0.0042\n",
      "11 Intermediate filaments count 518 prop 0.0443\n",
      "12 Actin filaments count 516 prop 0.0441\n",
      "13 Focal adhesion sites count 173 prop 0.0148\n",
      "14 Microtubules count 524 prop 0.0448\n",
      "15 Microtubule ends count 48 prop 0.0041\n",
      "16 Cytokinetic bridge count 342 prop 0.0292\n",
      "17 Mitotic spindle count 181 prop 0.0155\n",
      "18 Microtubule organizing center count 382 prop 0.0326\n",
      "19 Centrosome count 724 prop 0.0619\n",
      "20 Lipid droplets count 49 prop 0.0042\n",
      "21 Plasma membrane count 1588 prop 0.1357\n",
      "22 Cell junctions count 370 prop 0.0316\n",
      "23 Mitochondria count 922 prop 0.0788\n",
      "24 Aggresome count 49 prop 0.0042\n",
      "25 Cytosol count 2861 prop 0.2445\n",
      "26 Cytoplasmic bodies count 343 prop 0.0293\n",
      "27 Rods & rings count 56 prop 0.0048\n"
     ]
    }
   ],
   "source": [
    "from itertools import chain\n",
    "from collections import Counter\n",
    "max_idx = 27\n",
    "subm['target_list'] = subm['Predicted'].map(lambda x: \\\n",
    "            [int(a) if a != '' else -1 for a in str(x).split(' ')])\n",
    "subm['target_vec'] = subm['target_list'].map(lambda ck: \\\n",
    "            [i in ck for i in range(max_idx+1)])\n",
    "all_labels = list(chain.from_iterable(subm['target_list'].values))\n",
    "c_val = Counter(all_labels)\n",
    "n_keys = c_val.keys()\n",
    "max_idx = max(n_keys)\n",
    "for k,v in name_label_dict.items():\n",
    "    print(k,v, 'count', c_val[k] if k in c_val else 0,\n",
    "             'prop', '%6.4f' % (c_val[k]/len(ids) if k in c_val else 0))"
   ]
  },
  {
   "cell_type": "code",
   "execution_count": 123,
   "metadata": {},
   "outputs": [
    {
     "data": {
      "image/png": "[encoded data removed]",
      "text/plain": [
       "<Figure size 432x288 with 1 Axes>"
      ]
     },
     "metadata": {},
     "output_type": "display_data"
    }
   ],
   "source": [
    "train_sum_vec = np.sum(np.stack(subm['target_vec'].values, 0), 0)\n",
    "_ = plt.bar(n_keys, [train_sum_vec[k] for k in n_keys])"
   ]
  },
  {
   "cell_type": "code",
   "execution_count": 124,
   "metadata": {},
   "outputs": [],
   "source": [
    "from sklearn.metrics import f1_score\n",
    "\n",
    "# compute f1 score between two submission files\n",
    "def f1_sub(csv0, csv1, num_classes=28):\n",
    "    c0 = pd.read_csv(csv0)\n",
    "    c1 = pd.read_csv(csv1)\n",
    "    assert c0.shape == c1.shape\n",
    "    s0 = [s if isinstance(s,str) else '' for s in c0.Predicted]\n",
    "    s1 = [s if isinstance(s,str) else '' for s in c1.Predicted]\n",
    "    p0 = [s.split() for s in s0]\n",
    "    p1 = [s.split() for s in s1]\n",
    "    y0 = np.zeros((c0.shape[0],num_classes)).astype(int)\n",
    "    y1 = np.zeros((c0.shape[0],num_classes)).astype(int)\n",
    "    # print(p0[:5])\n",
    "    for i in range(c0.shape[0]):\n",
    "        for j in p0[i]: y0[i,int(j)] = 1\n",
    "        for j in p1[i]: y1[i,int(j)] = 1\n",
    "    # print(y0[:5])\n",
    "            \n",
    "    return f1_score(y0, y1, average='macro')"
   ]
  },
  {
   "cell_type": "code",
   "execution_count": 125,
   "metadata": {},
   "outputs": [
    {
     "data": {
      "text/plain": [
       "0.7659111079071934"
      ]
     },
     "execution_count": 125,
     "metadata": {},
     "output_type": "execute_result"
    }
   ],
   "source": [
    "f1_sub(fname,'sub/protein_classification.csv')"
   ]
  },
  {
   "cell_type": "code",
   "execution_count": 126,
   "metadata": {},
   "outputs": [
    {
     "data": {
      "text/plain": [
       "0.5715851920586112"
      ]
     },
     "execution_count": 126,
     "metadata": {},
     "output_type": "execute_result"
    }
   ],
   "source": [
    "f1_sub(fname,'sub/submit_InceptionV3.csv')"
   ]
  },
  {
   "cell_type": "code",
   "execution_count": 127,
   "metadata": {},
   "outputs": [
    {
     "data": {
      "text/plain": [
       "0.5589902824409599"
      ]
     },
     "execution_count": 127,
     "metadata": {},
     "output_type": "execute_result"
    }
   ],
   "source": [
    "f1_sub(fname,'sub/submit_InceptionResNetV2_3.csv')"
   ]
  },
  {
   "cell_type": "code",
   "execution_count": 128,
   "metadata": {},
   "outputs": [
    {
     "data": {
      "text/plain": [
       "0.5990452255556317"
      ]
     },
     "execution_count": 128,
     "metadata": {},
     "output_type": "execute_result"
    }
   ],
   "source": [
    "f1_sub(fname,'sub/se_resnext5.csv')"
   ]
  },
  {
   "cell_type": "code",
   "execution_count": 129,
   "metadata": {},
   "outputs": [
    {
     "data": {
      "text/plain": [
       "0.7602997051065691"
      ]
     },
     "execution_count": 129,
     "metadata": {},
     "output_type": "execute_result"
    }
   ],
   "source": [
    "f1_sub('sub/protein_classification_10.csv','sub/protein_classification.csv')"
   ]
  },
  {
   "cell_type": "code",
   "execution_count": 130,
   "metadata": {},
   "outputs": [
    {
     "data": {
      "text/plain": [
       "0.7602997051065691"
      ]
     },
     "execution_count": 130,
     "metadata": {},
     "output_type": "execute_result"
    }
   ],
   "source": [
    "f1_sub('sub/protein_classification_19.csv','sub/protein_classification.csv')"
   ]
  },
  {
   "cell_type": "code",
   "execution_count": 131,
   "metadata": {},
   "outputs": [
    {
     "data": {
      "text/plain": [
       "1.0"
      ]
     },
     "execution_count": 131,
     "metadata": {},
     "output_type": "execute_result"
    }
   ],
   "source": [
    "f1_sub('sub/protein_classification_10.csv','sub/protein_classification_19.csv')"
   ]
  },
  {
   "cell_type": "code",
   "execution_count": 132,
   "metadata": {},
   "outputs": [
    {
     "data": {
      "text/plain": [
       "0.6432439747575565"
      ]
     },
     "execution_count": 132,
     "metadata": {},
     "output_type": "execute_result"
    }
   ],
   "source": [
    "f1_sub('bojan/submit_InceptionV3.csv','sub/submit_InceptionV3.csv')"
   ]
  },
  {
   "cell_type": "code",
   "execution_count": 133,
   "metadata": {},
   "outputs": [
    {
     "data": {
      "text/plain": [
       "0.5987392720028134"
      ]
     },
     "execution_count": 133,
     "metadata": {},
     "output_type": "execute_result"
    }
   ],
   "source": [
    "f1_sub('bojan/inceptionv3_2.csv','sub/submit_InceptionV3.csv')"
   ]
  },
  {
   "cell_type": "code",
   "execution_count": 134,
   "metadata": {},
   "outputs": [
    {
     "data": {
      "text/plain": [
       "0.4642857142857143"
      ]
     },
     "execution_count": 134,
     "metadata": {},
     "output_type": "execute_result"
    }
   ],
   "source": [
    "f1_sub('bojan/inceptionv3_0.csv','bojan/inceptionv3_1.csv')"
   ]
  },
  {
   "cell_type": "code",
   "execution_count": 135,
   "metadata": {},
   "outputs": [
    {
     "data": {
      "text/plain": [
       "0.1426221052396753"
      ]
     },
     "execution_count": 135,
     "metadata": {},
     "output_type": "execute_result"
    }
   ],
   "source": [
    "f1_sub('bojan/inceptionv3_0.csv','bojan/inceptionv3_2.csv')"
   ]
  },
  {
   "cell_type": "code",
   "execution_count": 136,
   "metadata": {},
   "outputs": [
    {
     "data": {
      "text/plain": [
       "0.5918623923200268"
      ]
     },
     "execution_count": 136,
     "metadata": {},
     "output_type": "execute_result"
    }
   ],
   "source": [
    "f1_sub('sub/submit_InceptionResNetV2_3.csv','sub/submit_InceptionV3.csv')"
   ]
  },
  {
   "cell_type": "code",
   "execution_count": 137,
   "metadata": {},
   "outputs": [
    {
     "data": {
      "text/plain": [
       "0.6575760350950599"
      ]
     },
     "execution_count": 137,
     "metadata": {},
     "output_type": "execute_result"
    }
   ],
   "source": [
    "f1_sub('sub/submit_InceptionResNetV2_3.csv','bojan/inceptionresnetv2_1.csv')"
   ]
  },
  {
   "cell_type": "code",
   "execution_count": null,
   "metadata": {},
   "outputs": [],
   "source": []
  }
 ],
 "metadata": {
  "kernelspec": {
   "display_name": "Python 3",
   "language": "python",
   "name": "python3"
  },
  "language_info": {
   "codemirror_mode": {
    "name": "ipython",
    "version": 3
   },
   "file_extension": ".py",
   "mimetype": "text/x-python",
   "name": "python",
   "nbconvert_exporter": "python",
   "pygments_lexer": "ipython3",
   "version": "3.6.5"
  }
 },
 "nbformat": 4,
 "nbformat_minor": 2
}
