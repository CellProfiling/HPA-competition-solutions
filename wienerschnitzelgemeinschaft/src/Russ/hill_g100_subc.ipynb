{
 "cells": [
  {
   "cell_type": "code",
   "execution_count": 12,
   "metadata": {},
   "outputs": [],
   "source": [
    "fidx = 'hill_'\n",
    "midx = 'g100c'\n",
    "midx0 = 'g100c'\n",
    "\n",
    "import numpy as np\n",
    "import pickle\n",
    "\n",
    "mnames = ['hill_g100']\n",
    "weights = [1]\n",
    "\n",
    "# pytorch models with folds\n",
    "\n",
    "hlist = mnames\n",
    "\n",
    "glist = ['air_m68','airx_m67','cbam_m67','preresnet_m67']\n",
    "\n",
    "dlist0 = ['airnet50_gwap','airnet50_gwap','airnext50_gwap','airnext50_gwap',\n",
    "          'bn_inception_wgap','dpn68_gwap','resnet34_gwap',\n",
    "          'se_resnext50_gwap']\n",
    "dlist1 = ['ch_018','ch_028','ch_018','ch_030',\n",
    "          'ch_042','ch_030','ch_042',\n",
    "          'ch_030']\n",
    "\n",
    "dlist = [i+'_'+j for i,j in zip(dlist0,dlist1)]\n",
    "\n",
    "glist += dlist\n"
   ]
  },
  {
   "cell_type": "code",
   "execution_count": 13,
   "metadata": {},
   "outputs": [
    {
     "name": "stdout",
     "output_type": "stream",
     "text": [
      "['hill_g100']\n",
      "1\n"
     ]
    }
   ],
   "source": [
    "# # list of unique model names\n",
    "# allm = [weights[i]['mod'].values for i in range(len(weights))]\n",
    "# mnames = list(set().union(*allm))\n",
    "print(mnames)\n",
    "print(len(mnames))"
   ]
  },
  {
   "cell_type": "code",
   "execution_count": 14,
   "metadata": {},
   "outputs": [
    {
     "name": "stdout",
     "output_type": "stream",
     "text": [
      "hill_ g100c 2 1\n"
     ]
    }
   ],
   "source": [
    "nfold = 2\n",
    "threshold = 0.45\n",
    "sub_dir = './sub/'\n",
    "\n",
    "print(fidx,midx,nfold,len(mnames))"
   ]
  },
  {
   "cell_type": "code",
   "execution_count": 15,
   "metadata": {},
   "outputs": [
    {
     "name": "stdout",
     "output_type": "stream",
     "text": [
      "['air_m68', 'airx_m67', 'cbam_m67', 'preresnet_m67', 'airnet50_gwap_ch_018', 'airnet50_gwap_ch_028', 'airnext50_gwap_ch_018', 'airnext50_gwap_ch_030', 'bn_inception_wgap_ch_042', 'dpn68_gwap_ch_030', 'resnet34_gwap_ch_042', 'se_resnext50_gwap_ch_030']\n",
      "['blend_0459']\n",
      "['iv3_a4', 'se_resnext_d10', 'se_resnext_d11']\n",
      "['resnet34_46', 'resnet50', 'resnet34']\n"
     ]
    }
   ],
   "source": [
    "blist = ['blend_0459']\n",
    "tlist = ['iv3_a4','se_resnext_d10','se_resnext_d11']\n",
    "klist = ['resnet34_46','resnet50','resnet34']\n",
    "print(glist)\n",
    "print(blist)\n",
    "print(tlist)\n",
    "print(klist)\n",
    "\n",
    "gpct = 97.5\n",
    "gscale = 1."
   ]
  },
  {
   "cell_type": "code",
   "execution_count": 16,
   "metadata": {},
   "outputs": [],
   "source": [
    "import numpy as np\n",
    "import pandas as pd\n",
    "import pickle\n",
    "import os\n",
    "from os import path\n",
    "from random import randint\n",
    "\n",
    "import matplotlib.pyplot as plt\n",
    "plt.style.use('seaborn-white')\n",
    "import seaborn as sns\n",
    "sns.set_style(\"white\")\n",
    "\n",
    "from sklearn.model_selection import train_test_split\n",
    "\n",
    "from keras.preprocessing.image import load_img\n",
    "\n",
    "import pydensecrf.densecrf as dcrf\n",
    "from pydensecrf.utils import unary_from_labels, create_pairwise_bilateral\n",
    "from skimage.color import gray2rgb\n",
    "from skimage.color import rgb2gray\n",
    "from skimage.transform import resize\n",
    "\n",
    "from scipy.special import logit, expit\n",
    "from sklearn.model_selection import StratifiedKFold\n",
    "from sklearn.metrics import jaccard_similarity_score, f1_score\n",
    "\n",
    "import scipy.optimize as opt\n",
    "\n",
    "import gc\n",
    "import cv2\n",
    "from tqdm import tqdm_notebook\n",
    "\n",
    "from numpy import inf"
   ]
  },
  {
   "cell_type": "code",
   "execution_count": 17,
   "metadata": {},
   "outputs": [],
   "source": [
    "name_label_dict = {\n",
    "    0:  \"Nucleoplasm\",  \n",
    "    1:  \"Nuclear membrane\",   \n",
    "    2:  \"Nucleoli\",   \n",
    "    3:  \"Nucleoli fibrillar center\",   \n",
    "    4:  \"Nuclear speckles\",\n",
    "    5:  \"Nuclear bodies\",   \n",
    "    6:  \"Endoplasmic reticulum\",   \n",
    "    7:  \"Golgi apparatus\",   \n",
    "    8:  \"Peroxisomes\",   \n",
    "    9:  \"Endosomes\",   \n",
    "    10:  \"Lysosomes\",   \n",
    "    11:  \"Intermediate filaments\",   \n",
    "    12:  \"Actin filaments\",   \n",
    "    13:  \"Focal adhesion sites\",   \n",
    "    14:  \"Microtubules\",   \n",
    "    15:  \"Microtubule ends\",   \n",
    "    16:  \"Cytokinetic bridge\",   \n",
    "    17:  \"Mitotic spindle\",   \n",
    "    18:  \"Microtubule organizing center\",   \n",
    "    19:  \"Centrosome\",   \n",
    "    20:  \"Lipid droplets\",   \n",
    "    21:  \"Plasma membrane\",   \n",
    "    22:  \"Cell junctions\",   \n",
    "    23:  \"Mitochondria\",   \n",
    "    24:  \"Aggresome\",   \n",
    "    25:  \"Cytosol\",   \n",
    "    26:  \"Cytoplasmic bodies\",   \n",
    "    27:  \"Rods & rings\"\n",
    "}\n",
    "LABEL_MAP = name_label_dict\n",
    "np.set_printoptions(precision=3, suppress=True, linewidth=100)"
   ]
  },
  {
   "cell_type": "code",
   "execution_count": 18,
   "metadata": {},
   "outputs": [
    {
     "name": "stdout",
     "output_type": "stream",
     "text": [
      "                                      Predicted\n",
      "Id                                             \n",
      "00008af0-bad0-11e8-b2b8-ac1f6b6435d0          0\n",
      "0000a892-bacf-11e8-b2b8-ac1f6b6435d0          0\n",
      "0006faa6-bac7-11e8-b2b7-ac1f6b6435d0          0\n",
      "0008baca-bad7-11e8-b2b9-ac1f6b6435d0          0\n",
      "000cce7e-bad4-11e8-b2b8-ac1f6b6435d0          0\n",
      "(11702, 1)\n"
     ]
    }
   ],
   "source": [
    "test_df = pd.read_csv(\"sample_submission.csv\", index_col=\"Id\")\n",
    "print(test_df.head())\n",
    "print(test_df.shape)"
   ]
  },
  {
   "cell_type": "code",
   "execution_count": 19,
   "metadata": {
    "_uuid": "b18c1f50cefd7504eae7e7b9605be3814c7cad6d"
   },
   "outputs": [],
   "source": [
    "# test_df[\"images\"] = [np.array(load_img(\"images/{}.png\".format(idx), \\\n",
    "#                                         color_mode = \"grayscale\")) / 255. \\\n",
    "#                                         # grayscale=True)) / 255. \\\n",
    "#                       for idx in tqdm_notebook(test_df.index)]\n",
    "# print(test_df.shape)"
   ]
  },
  {
   "cell_type": "code",
   "execution_count": 20,
   "metadata": {},
   "outputs": [
    {
     "data": {
      "text/plain": [
       "Index(['Predicted'], dtype='object')"
      ]
     },
     "execution_count": 20,
     "metadata": {},
     "output_type": "execute_result"
    }
   ],
   "source": [
    "test_df.columns"
   ]
  },
  {
   "cell_type": "code",
   "execution_count": 21,
   "metadata": {},
   "outputs": [],
   "source": [
    "# save a base copy for reuse below\n",
    "test_df0 = test_df.copy()\n"
   ]
  },
  {
   "cell_type": "code",
   "execution_count": 23,
   "metadata": {},
   "outputs": [
    {
     "name": "stdout",
     "output_type": "stream",
     "text": [
      "\n",
      "./sub/hill_g100_0.pkl\n",
      "2.0646003494022017e-09 0.12257564719219768 0.9999954168626155\n",
      "(11702, 28) 2.0646003494022017e-09 0.12257564719219768 0.9999954168626155\n",
      "\n",
      "./sub/hill_g100_1.pkl\n",
      "4.685959138740213e-08 0.1296316769557789 0.999959899333665\n",
      "(11702, 28) 4.685959138740213e-08 0.1296316769557789 0.999959899333665\n",
      "[[1.    0.955]\n",
      " [0.955 1.   ]]\n",
      "hill_g100 2 (11702, 28) 1.241353023026882e-06 0.1261036620739883 0.9999378884622834 0.1010144785995068\n"
     ]
    }
   ],
   "source": [
    "# build submission ensemble as weighted average on logit scale\n",
    "test_df = test_df0.copy()\n",
    "idx = test_df.index.values\n",
    "num_classes = 28\n",
    "firstm = True\n",
    "sumw = 0.\n",
    "d = 0\n",
    "for m in mnames:\n",
    "\n",
    "    firstf = True\n",
    "    navg = 0\n",
    "    if m in blist: suffix = '.npy'\n",
    "    elif m in klist: suffix = '.pkl'\n",
    "    elif m in hlist: suffix = '.pkl'\n",
    "    else: suffix = '_mm.pkl'\n",
    "    for fold in range(nfold):\n",
    "#         print('')\n",
    "#         print(m+'_'+str(fold))\n",
    "        first = True\n",
    "        nr = 0\n",
    "        for rep in ['']:\n",
    "            if m in blist:\n",
    "                fname = sub_dir + m + rep + suffix\n",
    "                if fold > 0: fname = fname + '_' + str(fold)\n",
    "            elif m in dlist:\n",
    "                if dlist0[d] == 'bn_inception_wgap': s = '_emb'\n",
    "                else: s = '_extra_emb'\n",
    "                fname = 'oof/Dmytro/'+dlist0[d]+s+'__fold_'+ \\\n",
    "                                str(fold)+'_'+dlist1[d]+'_test.csv'\n",
    "            else:\n",
    "                fname = sub_dir + m + rep + '_' + str(fold) + suffix\n",
    "            if os.path.exists(fname):\n",
    "                print()\n",
    "                print(fname)\n",
    "                if m in blist:\n",
    "                    ptestb = np.load(fname)\n",
    "                    idb = idb0\n",
    "                elif m in klist: \n",
    "                    idb, ptestb = pickle.load(open(fname,'rb'))\n",
    "                    # ptestb = logit(ptestb)\n",
    "                elif m in tlist:\n",
    "                    idb, ptestba, ptestb, ptestbb = pickle.load(open(fname,'rb'))\n",
    "                    ptestb = expit(ptestb)\n",
    "                elif m in dlist:\n",
    "                    o = pd.read_csv(fname)\n",
    "                    idb = list(o['Id'])\n",
    "                    ptestb = np.array(o.iloc[:,:num_classes])\n",
    "                    ptestb = expit(ptestb)\n",
    "                elif m in glist:\n",
    "                    idb, ptestb, ptestba = pickle.load(open(fname,'rb'))\n",
    "                    ptestb = np.percentile(ptestb, gpct, axis=(2,3))\n",
    "                    ptestb = 1./(1. + np.exp(-ptestb/gscale))\n",
    "                elif m in hlist:\n",
    "                    idb, ptestb = pickle.load(open(fname,'rb'))\n",
    "                else:\n",
    "                    idb, ptestb, ptestba = pickle.load(open(fname,'rb'))\n",
    "                    ptestb = expit(ptestb)\n",
    "                \n",
    "                # ptestb = np.clip(ptestb,-20.0,20.0)\n",
    "                # ptestb[ptestb==-inf] = -6.0\n",
    "                # ptestb[ptestb==inf] = 6.0\n",
    "                \n",
    "                print(ptestb.min(),ptestb.mean(),ptestb.max())\n",
    "                \n",
    "                if first:\n",
    "                    ptestf = ptestb.copy()\n",
    "                    idb0 = idb\n",
    "                    first = False\n",
    "                else:\n",
    "                    checki = [i0 != i1 for i0,i1 in zip(idb0,idb)]\n",
    "                    si = np.array(checki).sum()\n",
    "                    # print(si)\n",
    "                    assert si == 0\n",
    "                    print(np.corrcoef(np.array(ptestf).flatten(),\n",
    "                                      np.array(ptestb).flatten()))\n",
    "\n",
    "                    ptestf += ptestb\n",
    "                nr += 1\n",
    "                \n",
    "        if nr > 0:\n",
    "            ptestf /= nr\n",
    "            print(ptestf.shape,ptestf.min(),ptestf.mean(),ptestf.max())\n",
    "\n",
    "            if firstf:\n",
    "                id = idb\n",
    "                ptest = ptestf.copy()\n",
    "                firstf = False\n",
    "            else:\n",
    "                print(np.corrcoef(np.array(ptest).flatten(),\n",
    "                                  np.array(ptestf).flatten()))\n",
    "                ptest += ptestf\n",
    "                \n",
    "            navg += 1\n",
    "    \n",
    "    if navg != nfold: raise ValueError('Found %d folds for %s instead of %d' % (navg,m,nfold))\n",
    "    ptest /= navg\n",
    "    pmask = (ptest > threshold).astype(int)\n",
    "    print(m,navg,ptest.shape,ptest.min(),ptest.mean(),ptest.max(),pmask.mean())\n",
    "    td = pd.DataFrame({'id':id})\n",
    "    td[m] = [a for a in ptest]\n",
    "    td.set_index('id',inplace=True)\n",
    "    test_df = test_df.join(td)\n",
    "    if m in dlist: d += 1\n"
   ]
  },
  {
   "cell_type": "code",
   "execution_count": 24,
   "metadata": {},
   "outputs": [
    {
     "data": {
      "text/plain": [
       "Index(['Predicted', 'hill_g100'], dtype='object')"
      ]
     },
     "execution_count": 24,
     "metadata": {},
     "output_type": "execute_result"
    }
   ],
   "source": [
    "test_df.columns"
   ]
  },
  {
   "cell_type": "code",
   "execution_count": 25,
   "metadata": {},
   "outputs": [
    {
     "name": "stdout",
     "output_type": "stream",
     "text": [
      "['00008af0-bad0-11e8-b2b8-ac1f6b6435d0' '0000a892-bacf-11e8-b2b8-ac1f6b6435d0'\n",
      " '0006faa6-bac7-11e8-b2b7-ac1f6b6435d0' '0008baca-bad7-11e8-b2b9-ac1f6b6435d0'\n",
      " '000cce7e-bad4-11e8-b2b8-ac1f6b6435d0']\n"
     ]
    }
   ],
   "source": [
    "print(idx[:5])"
   ]
  },
  {
   "cell_type": "code",
   "execution_count": 26,
   "metadata": {},
   "outputs": [
    {
     "name": "stdout",
     "output_type": "stream",
     "text": [
      "(327656,) hill_g100\n",
      "1.0\n"
     ]
    }
   ],
   "source": [
    "f = []\n",
    "clist = list(test_df.columns[1:])\n",
    "for c in clist:\n",
    "    ff = np.array(list(test_df[c])).flatten()\n",
    "    print(ff.shape,c)\n",
    "    f.append(ff)\n",
    "# print(clist)\n",
    "r = np.corrcoef(f)\n",
    "print(r)"
   ]
  },
  {
   "cell_type": "code",
   "execution_count": 27,
   "metadata": {},
   "outputs": [],
   "source": [
    "if len(mnames) > 1:\n",
    "    d = pd.DataFrame(r, columns=mnames)\n",
    "    d['id'] = mnames\n",
    "    d.set_index('id',inplace=True)\n",
    "    del d.index.name\n",
    "\n",
    "    sns.clustermap(d)\n",
    "\n",
    "\n",
    "# import scipy.cluster.hierarchy as hc\n",
    "# from matplotlib import pyplot\n",
    "# link = hc.linkage(d.values, method='centroid')\n",
    "# o1 = hc.leaves_list(link)\n",
    "\n",
    "# mat = d.iloc[o1,:]\n",
    "# mat = mat.iloc[:, o1[::-1]]\n",
    "# pyplot.imshow(mat)"
   ]
  },
  {
   "cell_type": "code",
   "execution_count": 28,
   "metadata": {},
   "outputs": [
    {
     "name": "stdout",
     "output_type": "stream",
     "text": [
      "(327656, 1)\n",
      "flat.csv\n"
     ]
    }
   ],
   "source": [
    "flat = np.transpose(np.array(f))\n",
    "print(flat.shape)\n",
    "fname = 'flat.csv'\n",
    "fdf = pd.DataFrame(flat)\n",
    "fdf.columns = clist\n",
    "fdf.to_csv(fname)\n",
    "print(fname)"
   ]
  },
  {
   "cell_type": "code",
   "execution_count": 29,
   "metadata": {},
   "outputs": [
    {
     "name": "stdout",
     "output_type": "stream",
     "text": [
      "(1, 11702, 28)\n",
      "0 ['hill_g100'] [1]\n",
      "(1, 11702, 28)\n",
      "1 ['hill_g100'] [1]\n",
      "(1, 11702, 28)\n",
      "2 ['hill_g100'] [1]\n",
      "(1, 11702, 28)\n",
      "3 ['hill_g100'] [1]\n",
      "(1, 11702, 28)\n",
      "4 ['hill_g100'] [1]\n",
      "(1, 11702, 28)\n",
      "5 ['hill_g100'] [1]\n",
      "(1, 11702, 28)\n",
      "6 ['hill_g100'] [1]\n",
      "(1, 11702, 28)\n",
      "7 ['hill_g100'] [1]\n",
      "(1, 11702, 28)\n",
      "8 ['hill_g100'] [1]\n",
      "(1, 11702, 28)\n",
      "9 ['hill_g100'] [1]\n",
      "(1, 11702, 28)\n",
      "10 ['hill_g100'] [1]\n",
      "(1, 11702, 28)\n",
      "11 ['hill_g100'] [1]\n",
      "(1, 11702, 28)\n",
      "12 ['hill_g100'] [1]\n",
      "(1, 11702, 28)\n",
      "13 ['hill_g100'] [1]\n",
      "(1, 11702, 28)\n",
      "14 ['hill_g100'] [1]\n",
      "(1, 11702, 28)\n",
      "15 ['hill_g100'] [1]\n",
      "(1, 11702, 28)\n",
      "16 ['hill_g100'] [1]\n",
      "(1, 11702, 28)\n",
      "17 ['hill_g100'] [1]\n",
      "(1, 11702, 28)\n",
      "18 ['hill_g100'] [1]\n",
      "(1, 11702, 28)\n",
      "19 ['hill_g100'] [1]\n",
      "(1, 11702, 28)\n",
      "20 ['hill_g100'] [1]\n",
      "(1, 11702, 28)\n",
      "21 ['hill_g100'] [1]\n",
      "(1, 11702, 28)\n",
      "22 ['hill_g100'] [1]\n",
      "(1, 11702, 28)\n",
      "23 ['hill_g100'] [1]\n",
      "(1, 11702, 28)\n",
      "24 ['hill_g100'] [1]\n",
      "(1, 11702, 28)\n",
      "25 ['hill_g100'] [1]\n",
      "(1, 11702, 28)\n",
      "26 ['hill_g100'] [1]\n",
      "(1, 11702, 28)\n",
      "27 ['hill_g100'] [1]\n",
      "(11702, 28)\n"
     ]
    }
   ],
   "source": [
    "ens = np.zeros((test_df.shape[0],28))\n",
    "\n",
    "# apply class-specific ensemble weights\n",
    "for i in range(28):\n",
    "\n",
    "    f = []\n",
    "#     clist = weights[i]['mod'].values\n",
    "    clist = mnames\n",
    "    for c in clist:\n",
    "        f.append(np.array(list(test_df[c])))\n",
    "    m = np.array(f)\n",
    "    print(m.shape)\n",
    "\n",
    "#     w = np.array(weights[i]['weight'].values)\n",
    "    w = np.array(weights)\n",
    "    print(i, clist, w)\n",
    "\n",
    "    ens[:,i] = np.average(m,axis=0,weights=w)[:,i]\n",
    "    \n",
    "print(ens.shape)"
   ]
  },
  {
   "cell_type": "code",
   "execution_count": 30,
   "metadata": {},
   "outputs": [
    {
     "name": "stdout",
     "output_type": "stream",
     "text": [
      "[0.271 0.013 0.088 0.142 0.102 0.987 0.117 0.029 0.001 0.001 0.005 0.048 0.013 0.025 0.012 0.002\n",
      " 0.016 0.007 0.038 0.019 0.012 0.093 0.014 0.089 0.13  0.667 0.053 0.001]\n"
     ]
    }
   ],
   "source": [
    "print(ens[1])"
   ]
  },
  {
   "cell_type": "code",
   "execution_count": 31,
   "metadata": {},
   "outputs": [],
   "source": [
    "# fname = 'mthresh.pkl'\n",
    "# if os.path.isfile(fname): mthresh = pickle.load(open(fname,'rb'))\n",
    "# mthresh[mname]"
   ]
  },
  {
   "cell_type": "code",
   "execution_count": 32,
   "metadata": {},
   "outputs": [
    {
     "name": "stdout",
     "output_type": "stream",
     "text": [
      "{0: 0.36239782, 1: 0.043841336, 2: 0.075268817, 3: 0.059322034, 4: 0.075268817, 5: 0.075268817, 6: 0.043841336, 7: 0.075268817, 8: 0.0018, 9: 0.0014, 10: 0.0009, 11: 0.043841336, 12: 0.043841336, 13: 0.014198783, 14: 0.043841336, 15: 0.0007, 16: 0.028806584, 17: 0.014198783, 18: 0.028806584, 19: 0.059322034, 20: 0.0056, 21: 0.126126126, 22: 0.028806584, 23: 0.075268817, 24: 0.0104, 25: 0.222493888, 26: 0.028806584, 27: 0.0004}\n"
     ]
    }
   ],
   "source": [
    "# desired class proportions from lb probing\n",
    "\n",
    "desired = {\n",
    "0 : 0.36239782,\n",
    "1 : 0.043841336,\n",
    "2 : 0.075268817,\n",
    "3 : 0.059322034,\n",
    "4 : 0.075268817,\n",
    "5 : 0.075268817,\n",
    "6 : 0.043841336,\n",
    "7 : 0.075268817,\n",
    "8 : 0.0018,\n",
    "9 : 0.0014,\n",
    "10 : 0.0009,\n",
    "11 : 0.043841336,\n",
    "12 : 0.043841336,\n",
    "13 : 0.014198783,\n",
    "14 : 0.043841336,\n",
    "15 : 0.0007,\n",
    "16 : 0.028806584,\n",
    "17 : 0.014198783,\n",
    "18 : 0.028806584,\n",
    "19 : 0.059322034,\n",
    "20 : 0.0056,\n",
    "21 : 0.126126126,\n",
    "22 : 0.028806584,\n",
    "23 : 0.075268817,\n",
    "24 : 0.0104,\n",
    "25 : 0.222493888,\n",
    "26 : 0.028806584,\n",
    "27 : 0.0004\n",
    "}\n",
    "print(desired)"
   ]
  },
  {
   "cell_type": "code",
   "execution_count": 33,
   "metadata": {},
   "outputs": [
    {
     "name": "stdout",
     "output_type": "stream",
     "text": [
      "fixed threshold 0.45\n",
      "0 0.3624 0.6484 Nucleoplasm\n",
      "1 0.0438 0.0569 Nuclear membrane\n",
      "2 0.0753 0.1221 Nucleoli\n",
      "3 0.0593 0.0757 Nucleoli fibrillar center\n",
      "4 0.0753 0.0790 Nuclear speckles\n",
      "5 0.0753 0.1119 Nuclear bodies\n",
      "6 0.0438 0.0643 Endoplasmic reticulum\n",
      "7 0.0753 0.1118 Golgi apparatus\n",
      "8 0.0018 0.0015 Peroxisomes\n",
      "9 0.0014 0.0021 Endosomes\n",
      "10 0.0009 0.0022 Lysosomes\n",
      "11 0.0438 0.0494 Intermediate filaments\n",
      "12 0.0438 0.0628 Actin filaments\n",
      "13 0.0142 0.0224 Focal adhesion sites\n",
      "14 0.0438 0.0690 Microtubules\n",
      "15 0.0007 0.0005 Microtubule ends\n",
      "16 0.0288 0.0469 Cytokinetic bridge\n",
      "17 0.0142 0.0829 Mitotic spindle\n",
      "18 0.0288 0.0780 Microtubule organizing center\n",
      "19 0.0593 0.1083 Centrosome\n",
      "20 0.0056 0.0068 Lipid droplets\n",
      "21 0.1261 0.2624 Plasma membrane\n",
      "22 0.0288 0.0439 Cell junctions\n",
      "23 0.0753 0.1063 Mitochondria\n",
      "24 0.0104 0.0154 Aggresome\n",
      "25 0.2225 0.5611 Cytosol\n",
      "26 0.0288 0.0353 Cytoplasmic bodies\n",
      "27 0.0004 0.0010 Rods & rings\n"
     ]
    }
   ],
   "source": [
    "# fixed global threshold\n",
    "pred = (ens > threshold).astype(int)\n",
    "print('fixed threshold',threshold)\n",
    "for j in range(pred.shape[1]):\n",
    "    prop = np.mean(pred[:,j])\n",
    "    print(j,'%6.4f' % desired[j],'%6.4f' % prop,name_label_dict[j],)"
   ]
  },
  {
   "cell_type": "code",
   "execution_count": 34,
   "metadata": {},
   "outputs": [
    {
     "name": "stdout",
     "output_type": "stream",
     "text": [
      "Thresholds:  [0.705 0.676 0.683 0.656 0.632 0.661 0.663 0.675 0.596 0.597 0.598 0.651 0.663 0.686 0.694 0.593\n",
      " 0.674 0.726 0.708 0.687 0.621 0.692 0.674 0.67  0.694 0.709 0.654 0.595]\n",
      "Fractions:  [0.455 0.047 0.081 0.059 0.071 0.074 0.043 0.079 0.002 0.002 0.002 0.043 0.042 0.016 0.049 0.001\n",
      " 0.029 0.014 0.033 0.065 0.006 0.138 0.03  0.078 0.011 0.263 0.027 0.001]\n",
      "Fractions (th = 0.5):  [1. 1. 1. 1. 1. 1. 1. 1. 1. 1. 1. 1. 1. 1. 1. 1. 1. 1. 1. 1. 1. 1. 1. 1. 1. 1. 1. 1.]\n"
     ]
    }
   ],
   "source": [
    "lb_prob = [\n",
    " 0.362397820,0.043841336,0.075268817,0.059322034,0.075268817,\n",
    " 0.075268817,0.043841336,0.075268817,0.010000000,0.010000000,\n",
    " 0.010000000,0.043841336,0.043841336,0.014198783,0.043841336,\n",
    " 0.010000000,0.028806584,0.014198783,0.028806584,0.059322034,\n",
    " 0.010000000,0.126126126,0.028806584,0.075268817,0.010000000,\n",
    " 0.222493880,0.028806584,0.010000000]\n",
    "\n",
    "from scipy.special import expit\n",
    "\n",
    "def sigmoid_np(x):\n",
    "    return 1.0/(1.0 + np.exp(-x))\n",
    "\n",
    "def Count_soft(preds,th=0.5,d=50.0):\n",
    "    preds = sigmoid_np(d*(preds - th))\n",
    "    return preds.mean(axis=0)\n",
    "\n",
    "def fit_test(x,y):\n",
    "    params = 0.5*np.ones(len(name_label_dict))\n",
    "    wd = 1e-5\n",
    "    error = lambda p: np.concatenate((Count_soft(x,p) - y,\n",
    "                                      wd*(p - 0.5)), axis=None)\n",
    "    p, success = opt.leastsq(error, params)\n",
    "    return p\n",
    "\n",
    "pred_t = expit(ens)\n",
    "th_t = fit_test(pred_t,lb_prob)\n",
    "th_t[th_t<0.1] = 0.1\n",
    "np.set_printoptions(precision=3, suppress=True, linewidth=100)\n",
    "print('Thresholds: ',th_t)\n",
    "print('Fractions: ',(pred_t > th_t).mean(axis=0))\n",
    "print('Fractions (th = 0.5): ',(pred_t > 0.5).mean(axis=0))\n",
    "pred = (pred_t > th_t).astype(int)"
   ]
  },
  {
   "cell_type": "code",
   "execution_count": 35,
   "metadata": {},
   "outputs": [
    {
     "data": {
      "text/plain": [
       "(11702, 28)"
      ]
     },
     "execution_count": 35,
     "metadata": {},
     "output_type": "execute_result"
    }
   ],
   "source": [
    "ens.shape"
   ]
  },
  {
   "cell_type": "code",
   "execution_count": 36,
   "metadata": {},
   "outputs": [
    {
     "name": "stdout",
     "output_type": "stream",
     "text": [
      "(11702, 30)\n",
      "sub/subg100c_probs.csv\n"
     ]
    }
   ],
   "source": [
    "p = pd.DataFrame(ens)\n",
    "p.columns = ['p'+str(i) for i in range(ens.shape[1])]\n",
    "subp = pd.DataFrame({'id':test_df.index.values,'data':'sub'})\n",
    "subp = pd.concat((subp,p),axis=1)\n",
    "print(subp.shape)\n",
    "fname = 'sub/sub' + midx + '_probs.csv'\n",
    "subp.to_csv(fname, index=False)\n",
    "print(fname)"
   ]
  },
  {
   "cell_type": "code",
   "execution_count": 37,
   "metadata": {},
   "outputs": [],
   "source": [
    "# get frequencies from best submission\n",
    "best_sub = pd.read_csv('sub/b650.csv')\n",
    "s0 = [s if isinstance(s, str) else '' for s in best_sub.Predicted]\n",
    "p0 = [s.split() for s in s0]\n",
    "y0 = np.zeros((best_sub.shape[0], 28)).astype(int)\n",
    "for i in range(best_sub.shape[0]):\n",
    "    for j in p0[i]: y0[i, int(j)] = 1\n",
    "\n",
    "desired = {}\n",
    "for i in range(28):\n",
    "    desired[i] = y0[:,i].mean()\n",
    "    \n",
    "# # override majority classes\n",
    "# desired[0] = 0.37\n",
    "# desired[25] = 0.24"
   ]
  },
  {
   "cell_type": "code",
   "execution_count": 38,
   "metadata": {},
   "outputs": [
    {
     "name": "stdout",
     "output_type": "stream",
     "text": [
      "0 0.8665 0.4583 0.4583 Nucleoplasm\n",
      "1 0.8137 0.0447 0.0447 Nuclear membrane\n",
      "2 0.7271 0.0856 0.0856 Nucleoli\n",
      "3 0.6986 0.0553 0.0553 Nucleoli fibrillar center\n",
      "4 0.6418 0.0649 0.0649 Nuclear speckles\n",
      "5 0.6665 0.0740 0.0740 Nuclear bodies\n",
      "6 0.7193 0.0404 0.0404 Endoplasmic reticulum\n",
      "7 0.6925 0.0821 0.0821 Golgi apparatus\n",
      "8 0.6241 0.0012 0.0012 Peroxisomes\n",
      "9 0.8902 0.0018 0.0018 Endosomes\n",
      "10 0.8070 0.0017 0.0017 Lysosomes\n",
      "11 0.6446 0.0428 0.0428 Intermediate filaments\n",
      "12 0.7929 0.0369 0.0369 Actin filaments\n",
      "13 0.8282 0.0153 0.0153 Focal adhesion sites\n",
      "14 0.9038 0.0447 0.0447 Microtubules\n",
      "15 0.9900 0.0004 0.0004 Microtubule ends\n",
      "16 0.7784 0.0267 0.0267 Cytokinetic bridge\n",
      "17 0.9437 0.0177 0.0177 Mitotic spindle\n",
      "18 0.8837 0.0337 0.0337 Microtubule organizing center\n",
      "19 0.8263 0.0598 0.0598 Centrosome\n",
      "20 0.8037 0.0052 0.0052 Lipid droplets\n",
      "21 0.7836 0.1475 0.1475 Plasma membrane\n",
      "22 0.7384 0.0301 0.0301 Cell junctions\n",
      "23 0.6435 0.0853 0.0853 Mitochondria\n",
      "24 0.9139 0.0108 0.0108 Aggresome\n",
      "25 0.8622 0.2938 0.2938 Cytosol\n",
      "26 0.7818 0.0236 0.0236 Cytoplasmic bodies\n",
      "27 0.9900 0.0008 0.0008 Rods & rings\n"
     ]
    }
   ],
   "source": [
    "# custom thresholds to match best sub proportions\n",
    "thresholds = np.linspace(0.99, 0.01, 100001)\n",
    "pred = ens.copy()\n",
    "th = []\n",
    "for j in range(pred.shape[1]):\n",
    "    for t in thresholds:\n",
    "        pred[:,j] = (ens[:,j] > t).astype(int)\n",
    "        prop = np.mean(pred[:,j])\n",
    "        if prop >= desired[j]: break\n",
    "    th.append(t)\n",
    "    print(j,'%6.4f' % t,'%6.4f' % desired[j],'%6.4f' % prop,name_label_dict[j])"
   ]
  },
  {
   "cell_type": "code",
   "execution_count": 39,
   "metadata": {},
   "outputs": [],
   "source": [
    "# # custom thresholds to match lb proportions\n",
    "# thresholds = np.linspace(1.0, 0., 100001)\n",
    "# pred = ens.copy()\n",
    "# th = []\n",
    "# for j in range(pred.shape[1]):\n",
    "#     for t in thresholds:\n",
    "#         pred[:,j] = (ens[:,j] > t).astype(int)\n",
    "#         prop = np.mean(pred[:,j])\n",
    "#         if prop >= desired[j]: break\n",
    "#     th.append(t)\n",
    "#     print(j,'%6.4f' % t,'%6.4f' % desired[j],'%6.4f' % prop,name_label_dict[j])"
   ]
  },
  {
   "cell_type": "code",
   "execution_count": 40,
   "metadata": {},
   "outputs": [],
   "source": [
    "# bestCut = pickle.load(open('ens_cuts'+midx0+'.pkl','rb'))\n",
    "# th = np.array(th)\n",
    "# c = bestCut**2 + th**2\n",
    "\n",
    "# fig, ax = plt.subplots()\n",
    "# ax.scatter(bestCut, th, s=25, c=c, cmap=plt.cm.coolwarm, zorder=10)\n",
    "\n",
    "# lims = [\n",
    "#     np.min([ax.get_xlim(), ax.get_ylim()]),  # min of both axes\n",
    "#     np.max([ax.get_xlim(), ax.get_ylim()]),  # max of both axes\n",
    "# ]\n",
    "\n",
    "# # now plot both limits against each other\n",
    "# ax.plot(lims, lims, 'k-', alpha=0.75, zorder=0)\n",
    "# ax.set_aspect('equal')\n",
    "# ax.set_xlim(lims)\n",
    "# ax.set_ylim(lims)\n",
    "# # fig.savefig('/Users/paul/Desktop/so.png', dpi=300)"
   ]
  },
  {
   "cell_type": "code",
   "execution_count": 41,
   "metadata": {},
   "outputs": [],
   "source": [
    "# # shrink thresholds toward best ones from oofs\n",
    "# alpha = 0.8\n",
    "# pred = ens > (alpha*th + (1.-alpha)*bestCut)"
   ]
  },
  {
   "cell_type": "code",
   "execution_count": 42,
   "metadata": {},
   "outputs": [],
   "source": [
    "# # linear adjustment of thresholds estimated in ens_oof.ipynb\n",
    "# for j in range(pred.shape[1]):\n",
    "#     t = 0.094 + 0.827*th[j]\n",
    "#     pred[:,j] = (ens[:,j] > t).astype(int)\n",
    "#     prop = np.mean(pred[:,j])\n",
    "#     print(j,'%6.4f' % t,'%6.4f' % desired[j],'%6.4f' % prop,name_label_dict[j])"
   ]
  },
  {
   "cell_type": "code",
   "execution_count": 43,
   "metadata": {},
   "outputs": [
    {
     "name": "stdout",
     "output_type": "stream",
     "text": [
      "[[0 0 1 0 0 0 0 0 0 0 0 0 0 0 0 0 0 0 0 0 0 0 0 0 0 0 0 0]\n",
      " [0 0 0 0 0 1 0 0 0 0 0 0 0 0 0 0 0 0 0 0 0 0 0 0 0 0 0 0]\n",
      " [1 0 0 0 0 1 0 0 0 0 0 0 0 0 0 0 0 0 0 0 0 0 0 0 0 1 0 0]\n",
      " [1 0 0 0 0 0 0 0 0 0 0 0 0 0 0 0 0 0 0 0 0 0 0 0 0 0 0 0]\n",
      " [0 0 0 0 0 0 0 0 0 0 0 0 0 0 0 0 0 0 0 0 0 0 0 0 0 0 0 0]]\n"
     ]
    }
   ],
   "source": [
    "np.set_printoptions(linewidth=100)\n",
    "print(pred[:5].astype(int))"
   ]
  },
  {
   "cell_type": "code",
   "execution_count": 44,
   "metadata": {},
   "outputs": [
    {
     "name": "stdout",
     "output_type": "stream",
     "text": [
      "(11702,)\n",
      "0.0 1.7851649290719536 6.0\n"
     ]
    }
   ],
   "source": [
    "xps = np.sum(pred,axis=1)\n",
    "print(xps.shape)\n",
    "print(xps.min(),xps.mean(),xps.max())"
   ]
  },
  {
   "cell_type": "code",
   "execution_count": 45,
   "metadata": {},
   "outputs": [
    {
     "name": "stdout",
     "output_type": "stream",
     "text": [
      "0.02922577337207315\n"
     ]
    }
   ],
   "source": [
    "print(sum(xps==0)/pred.shape[0])"
   ]
  },
  {
   "cell_type": "code",
   "execution_count": 46,
   "metadata": {},
   "outputs": [
    {
     "name": "stdout",
     "output_type": "stream",
     "text": [
      "0 00008af0-bad0-11e8-b2b8-ac1f6b6435d0 2\n",
      "1000 15efe29e-bad4-11e8-b2b8-ac1f6b6435d0 26\n",
      "2000 2bd51caa-bad9-11e8-b2b9-ac1f6b6435d0 24\n",
      "3000 42f7f174-bace-11e8-b2b8-ac1f6b6435d0 0\n",
      "4000 589b3070-bad0-11e8-b2b8-ac1f6b6435d0 3 5\n",
      "5000 6dd7e7b6-bac7-11e8-b2b7-ac1f6b6435d0 25\n",
      "6000 835f7a30-bad7-11e8-b2b9-ac1f6b6435d0 2 3 23 25\n",
      "7000 9932fa46-bac6-11e8-b2b7-ac1f6b6435d0 21 25\n",
      "8000 aeabe93c-bacb-11e8-b2b8-ac1f6b6435d0 1\n",
      "9000 c4ad1a3a-bada-11e8-b2b9-ac1f6b6435d0 11\n",
      "10000 da851aec-bada-11e8-b2b9-ac1f6b6435d0 0 21 25\n",
      "11000 f071ee12-bad9-11e8-b2b9-ac1f6b6435d0 21\n",
      "{'ids': ['00008af0-bad0-11e8-b2b8-ac1f6b6435d0', '0000a892-bacf-11e8-b2b8-ac1f6b6435d0', '0006faa6-bac7-11e8-b2b7-ac1f6b6435d0', '0008baca-bad7-11e8-b2b9-ac1f6b6435d0', '000cce7e-bad4-11e8-b2b8-ac1f6b6435d0', '00109f6a-bac8-11e8-b2b7-ac1f6b6435d0', '001765de-bacd-11e8-b2b8-ac1f6b6435d0', '0018641a-bac9-11e8-b2b8-ac1f6b6435d0', '00200f22-bad7-11e8-b2b9-ac1f6b6435d0', '0026f154-bac6-11e8-b2b7-ac1f6b6435d0'], 'subs': ['2', '5', '0 5 25', '0', '', '4', '0 4 25', '0', '0 26', '4 21 25']}\n",
      "11702 11702\n"
     ]
    }
   ],
   "source": [
    "subs = []\n",
    "ids = []\n",
    "for i,fid in enumerate(test_df.index.values):\n",
    "    subrow = ' '.join(list([str(i) for i in np.nonzero(pred[i])[0]]))\n",
    "    subs.append(subrow)\n",
    "    ids.append(fid)\n",
    "    if i % 1000 == 0: print(i,fid,subrow)\n",
    "print({'ids':ids[:10], 'subs':subs[:10]})\n",
    "print(len(ids), len(subs))"
   ]
  },
  {
   "cell_type": "code",
   "execution_count": 47,
   "metadata": {},
   "outputs": [
    {
     "name": "stdout",
     "output_type": "stream",
     "text": [
      "sub/hill_g100c.csv\n"
     ]
    }
   ],
   "source": [
    "subm = pd.DataFrame.from_dict({'Id':ids, 'Predicted':subs}, orient='index').T\n",
    "fname = 'sub/' + fidx + midx + '.csv'\n",
    "subm.to_csv(fname, index=False)\n",
    "print(fname)"
   ]
  },
  {
   "cell_type": "code",
   "execution_count": 48,
   "metadata": {},
   "outputs": [
    {
     "name": "stdout",
     "output_type": "stream",
     "text": [
      "0 Nucleoplasm count 5363 prop 0.4583\n",
      "1 Nuclear membrane count 523 prop 0.0447\n",
      "2 Nucleoli count 1002 prop 0.0856\n",
      "3 Nucleoli fibrillar center count 647 prop 0.0553\n",
      "4 Nuclear speckles count 760 prop 0.0649\n",
      "5 Nuclear bodies count 866 prop 0.0740\n",
      "6 Endoplasmic reticulum count 473 prop 0.0404\n",
      "7 Golgi apparatus count 961 prop 0.0821\n",
      "8 Peroxisomes count 14 prop 0.0012\n",
      "9 Endosomes count 21 prop 0.0018\n",
      "10 Lysosomes count 20 prop 0.0017\n",
      "11 Intermediate filaments count 501 prop 0.0428\n",
      "12 Actin filaments count 432 prop 0.0369\n",
      "13 Focal adhesion sites count 179 prop 0.0153\n",
      "14 Microtubules count 523 prop 0.0447\n",
      "15 Microtubule ends count 5 prop 0.0004\n",
      "16 Cytokinetic bridge count 313 prop 0.0267\n",
      "17 Mitotic spindle count 207 prop 0.0177\n",
      "18 Microtubule organizing center count 394 prop 0.0337\n",
      "19 Centrosome count 700 prop 0.0598\n",
      "20 Lipid droplets count 61 prop 0.0052\n",
      "21 Plasma membrane count 1726 prop 0.1475\n",
      "22 Cell junctions count 352 prop 0.0301\n",
      "23 Mitochondria count 998 prop 0.0853\n",
      "24 Aggresome count 126 prop 0.0108\n",
      "25 Cytosol count 3438 prop 0.2938\n",
      "26 Cytoplasmic bodies count 276 prop 0.0236\n",
      "27 Rods & rings count 9 prop 0.0008\n"
     ]
    }
   ],
   "source": [
    "from itertools import chain\n",
    "from collections import Counter\n",
    "max_idx = 27\n",
    "subm['target_list'] = subm['Predicted'].map(lambda x: \\\n",
    "            [int(a) if a != '' else -1 for a in str(x).split(' ')])\n",
    "subm['target_vec'] = subm['target_list'].map(lambda ck: \\\n",
    "            [i in ck for i in range(max_idx+1)])\n",
    "all_labels = list(chain.from_iterable(subm['target_list'].values))\n",
    "c_val = Counter(all_labels)\n",
    "n_keys = c_val.keys()\n",
    "max_idx = max(n_keys)\n",
    "for k,v in name_label_dict.items():\n",
    "    print(k,v, 'count', c_val[k] if k in c_val else 0,\n",
    "             'prop', '%6.4f' % (c_val[k]/len(ids) if k in c_val else 0))"
   ]
  },
  {
   "cell_type": "code",
   "execution_count": 49,
   "metadata": {},
   "outputs": [
    {
     "data": {
      "image/png": "[encoded data removed]",
      "text/plain": [
       "<Figure size 432x288 with 1 Axes>"
      ]
     },
     "metadata": {},
     "output_type": "display_data"
    }
   ],
   "source": [
    "train_sum_vec = np.sum(np.stack(subm['target_vec'].values, 0), 0)\n",
    "_ = plt.bar(n_keys, [train_sum_vec[k] for k in n_keys])"
   ]
  },
  {
   "cell_type": "code",
   "execution_count": 50,
   "metadata": {},
   "outputs": [],
   "source": [
    "from sklearn.metrics import f1_score\n",
    "from sklearn.metrics import confusion_matrix\n",
    "\n",
    "\n",
    "# computute confusion matrices between two submission files\n",
    "def f1_confusion(csv0, csv1, num_classes=28):\n",
    "    c0 = pd.read_csv(csv0)\n",
    "    c1 = pd.read_csv(csv1)\n",
    "    assert c0.shape == c1.shape\n",
    "    s0 = [s if isinstance(s,str) else '' for s in c0.Predicted]\n",
    "    s1 = [s if isinstance(s,str) else '' for s in c1.Predicted]\n",
    "    p0 = [s.split() for s in s0]\n",
    "    p1 = [s.split() for s in s1]\n",
    "    y0 = np.zeros((c0.shape[0],num_classes)).astype(int)\n",
    "    y1 = np.zeros((c0.shape[0],num_classes)).astype(int)\n",
    "    # print(p0[:5])\n",
    "    for i in range(c0.shape[0]):\n",
    "        for j in p0[i]: y0[i,int(j)] = 1\n",
    "        for j in p1[i]: y1[i,int(j)] = 1\n",
    "    # print(y0[:5])\n",
    "    \n",
    "    y0avg = np.average(y0,axis=0)\n",
    "    y1avg = np.average(y1,axis=0)\n",
    "    cm = [confusion_matrix(y0[:,i], y1[:,i]) for i in range(y0.shape[1])]\n",
    "    fm = [f1_score(y0[:,i], y1[:,i]) for i in range(y0.shape[1])]\n",
    "    for i in range(y0.shape[1]):\n",
    "        print(LABEL_MAP[i])\n",
    "        print(cm[i],' %4.2f' % fm[i],' %6.4f' % y0avg[i],' %6.4f' % y1avg[i],\n",
    "             ' %6.4f' % (y0avg[i] - y1avg[i]))\n",
    "        print()\n",
    "#     print('y0avg')\n",
    "#     print(y0avg)\n",
    "#     print('y1avg')\n",
    "#     print(y1avg)\n",
    "#     print('y0avg - y1avg')\n",
    "#     print(y0avg-y1avg)\n",
    "    print('f1 macro')\n",
    "    print(np.mean(fm))       \n",
    "    return f1_score(y0, y1, average='macro')\n",
    "    \n",
    "# compute f1 score between two submission files\n",
    "def f1_sub(csv0, csv1, num_classes=28):\n",
    "    c0 = pd.read_csv(csv0)\n",
    "    c1 = pd.read_csv(csv1)\n",
    "    assert c0.shape == c1.shape\n",
    "    s0 = [s if isinstance(s,str) else '' for s in c0.Predicted]\n",
    "    s1 = [s if isinstance(s,str) else '' for s in c1.Predicted]\n",
    "    p0 = [s.split() for s in s0]\n",
    "    p1 = [s.split() for s in s1]\n",
    "    y0 = np.zeros((c0.shape[0],num_classes)).astype(int)\n",
    "    y1 = np.zeros((c0.shape[0],num_classes)).astype(int)\n",
    "    # print(p0[:5])\n",
    "    for i in range(c0.shape[0]):\n",
    "        for j in p0[i]: y0[i,int(j)] = 1\n",
    "        for j in p1[i]: y1[i,int(j)] = 1\n",
    "    # print(y0[:5])\n",
    "            \n",
    "    return f1_score(y0, y1, average='macro')"
   ]
  },
  {
   "cell_type": "code",
   "execution_count": 51,
   "metadata": {},
   "outputs": [
    {
     "data": {
      "text/plain": [
       "0.8231518309756627"
      ]
     },
     "execution_count": 51,
     "metadata": {},
     "output_type": "execute_result"
    }
   ],
   "source": [
    "f1_sub(fname,'sub/ens71.csv')"
   ]
  },
  {
   "cell_type": "code",
   "execution_count": 52,
   "metadata": {},
   "outputs": [
    {
     "data": {
      "text/plain": [
       "0.827580758596303"
      ]
     },
     "execution_count": 52,
     "metadata": {},
     "output_type": "execute_result"
    }
   ],
   "source": [
    "f1_sub(fname,'sub/ens71d.csv')"
   ]
  },
  {
   "cell_type": "code",
   "execution_count": 53,
   "metadata": {},
   "outputs": [
    {
     "data": {
      "text/plain": [
       "0.8261903071529174"
      ]
     },
     "execution_count": 53,
     "metadata": {},
     "output_type": "execute_result"
    }
   ],
   "source": [
    "f1_sub(fname,'sub/ens76.csv')"
   ]
  },
  {
   "cell_type": "code",
   "execution_count": 54,
   "metadata": {},
   "outputs": [
    {
     "data": {
      "text/plain": [
       "0.837267196998984"
      ]
     },
     "execution_count": 54,
     "metadata": {},
     "output_type": "execute_result"
    }
   ],
   "source": [
    "f1_sub(fname,'sub/ens85.csv')"
   ]
  },
  {
   "cell_type": "code",
   "execution_count": 55,
   "metadata": {},
   "outputs": [
    {
     "data": {
      "text/plain": [
       "0.8492898840717839"
      ]
     },
     "execution_count": 55,
     "metadata": {},
     "output_type": "execute_result"
    }
   ],
   "source": [
    "f1_sub(fname,'sub/ens85b.csv')"
   ]
  },
  {
   "cell_type": "code",
   "execution_count": 56,
   "metadata": {},
   "outputs": [
    {
     "data": {
      "text/plain": [
       "0.8377391025026782"
      ]
     },
     "execution_count": 56,
     "metadata": {},
     "output_type": "execute_result"
    }
   ],
   "source": [
    "f1_sub(fname,'sub/ens86b.csv')"
   ]
  },
  {
   "cell_type": "code",
   "execution_count": 57,
   "metadata": {},
   "outputs": [
    {
     "data": {
      "text/plain": [
       "0.8414418824091422"
      ]
     },
     "execution_count": 57,
     "metadata": {},
     "output_type": "execute_result"
    }
   ],
   "source": [
    "f1_sub(fname,'sub/ens87b.csv')"
   ]
  },
  {
   "cell_type": "code",
   "execution_count": 58,
   "metadata": {},
   "outputs": [
    {
     "data": {
      "text/plain": [
       "0.8251745231417542"
      ]
     },
     "execution_count": 58,
     "metadata": {},
     "output_type": "execute_result"
    }
   ],
   "source": [
    "f1_sub(fname,'sub/ens88b.csv')"
   ]
  },
  {
   "cell_type": "code",
   "execution_count": 59,
   "metadata": {},
   "outputs": [
    {
     "data": {
      "text/plain": [
       "0.8238107450856365"
      ]
     },
     "execution_count": 59,
     "metadata": {},
     "output_type": "execute_result"
    }
   ],
   "source": [
    "f1_sub(fname,'sub/ens89b.csv')"
   ]
  },
  {
   "cell_type": "code",
   "execution_count": 60,
   "metadata": {},
   "outputs": [
    {
     "data": {
      "text/plain": [
       "0.8516161499727612"
      ]
     },
     "execution_count": 60,
     "metadata": {},
     "output_type": "execute_result"
    }
   ],
   "source": [
    "f1_sub(fname,'sub/ens92b.csv')"
   ]
  },
  {
   "cell_type": "code",
   "execution_count": 61,
   "metadata": {},
   "outputs": [
    {
     "data": {
      "text/plain": [
       "0.8641723315160998"
      ]
     },
     "execution_count": 61,
     "metadata": {},
     "output_type": "execute_result"
    }
   ],
   "source": [
    "f1_sub(fname,'sub/ens92c.csv')"
   ]
  },
  {
   "cell_type": "code",
   "execution_count": 62,
   "metadata": {},
   "outputs": [
    {
     "data": {
      "text/plain": [
       "0.8292030831273254"
      ]
     },
     "execution_count": 62,
     "metadata": {},
     "output_type": "execute_result"
    }
   ],
   "source": [
    "f1_sub(fname,'sub/hill_b92.csv')"
   ]
  },
  {
   "cell_type": "code",
   "execution_count": 85,
   "metadata": {},
   "outputs": [
    {
     "data": {
      "text/plain": [
       "0.8301247718459327"
      ]
     },
     "execution_count": 85,
     "metadata": {},
     "output_type": "execute_result"
    }
   ],
   "source": [
    "f1_sub(fname,'sub/hill_b93.csv')"
   ]
  },
  {
   "cell_type": "code",
   "execution_count": 63,
   "metadata": {},
   "outputs": [
    {
     "data": {
      "text/plain": [
       "0.8462150285650257"
      ]
     },
     "execution_count": 63,
     "metadata": {},
     "output_type": "execute_result"
    }
   ],
   "source": [
    "f1_sub(fname,'sub/hill_m92.csv')"
   ]
  },
  {
   "cell_type": "code",
   "execution_count": 64,
   "metadata": {},
   "outputs": [
    {
     "data": {
      "text/plain": [
       "0.8384224875821891"
      ]
     },
     "execution_count": 64,
     "metadata": {},
     "output_type": "execute_result"
    }
   ],
   "source": [
    "f1_sub(fname,'sub/hill_m94.csv')"
   ]
  },
  {
   "cell_type": "code",
   "execution_count": 65,
   "metadata": {},
   "outputs": [
    {
     "data": {
      "text/plain": [
       "0.9508020618948362"
      ]
     },
     "execution_count": 65,
     "metadata": {},
     "output_type": "execute_result"
    }
   ],
   "source": [
    "f1_sub(fname,'sub/hill_m95c.csv')"
   ]
  },
  {
   "cell_type": "code",
   "execution_count": 66,
   "metadata": {},
   "outputs": [
    {
     "data": {
      "text/plain": [
       "0.922611488800044"
      ]
     },
     "execution_count": 66,
     "metadata": {},
     "output_type": "execute_result"
    }
   ],
   "source": [
    "f1_sub(fname,'sub/hill_m96c.csv')"
   ]
  },
  {
   "cell_type": "code",
   "execution_count": 67,
   "metadata": {},
   "outputs": [
    {
     "data": {
      "text/plain": [
       "0.9362484817963274"
      ]
     },
     "execution_count": 67,
     "metadata": {},
     "output_type": "execute_result"
    }
   ],
   "source": [
    "f1_sub(fname,'sub/hill_m97c.csv')"
   ]
  },
  {
   "cell_type": "code",
   "execution_count": 86,
   "metadata": {},
   "outputs": [
    {
     "data": {
      "text/plain": [
       "0.933544421027434"
      ]
     },
     "execution_count": 86,
     "metadata": {},
     "output_type": "execute_result"
    }
   ],
   "source": [
    "f1_sub(fname,'sub/hill_m100c.csv')"
   ]
  },
  {
   "cell_type": "code",
   "execution_count": 68,
   "metadata": {},
   "outputs": [
    {
     "data": {
      "text/plain": [
       "0.8407864328431581"
      ]
     },
     "execution_count": 68,
     "metadata": {},
     "output_type": "execute_result"
    }
   ],
   "source": [
    "f1_sub(fname,'sub/hill_u94.csv')"
   ]
  },
  {
   "cell_type": "code",
   "execution_count": 69,
   "metadata": {},
   "outputs": [
    {
     "data": {
      "text/plain": [
       "0.8750735076373718"
      ]
     },
     "execution_count": 69,
     "metadata": {},
     "output_type": "execute_result"
    }
   ],
   "source": [
    "f1_sub(fname,'sub/hill_u94c.csv')"
   ]
  },
  {
   "cell_type": "code",
   "execution_count": 70,
   "metadata": {},
   "outputs": [
    {
     "data": {
      "text/plain": [
       "0.8791892235077562"
      ]
     },
     "execution_count": 70,
     "metadata": {},
     "output_type": "execute_result"
    }
   ],
   "source": [
    "f1_sub(fname,'sub/hill_u95c.csv')"
   ]
  },
  {
   "cell_type": "code",
   "execution_count": 87,
   "metadata": {},
   "outputs": [
    {
     "data": {
      "text/plain": [
       "0.8773506124452978"
      ]
     },
     "execution_count": 87,
     "metadata": {},
     "output_type": "execute_result"
    }
   ],
   "source": [
    "f1_sub(fname,'sub/hill_u97c.csv')"
   ]
  },
  {
   "cell_type": "code",
   "execution_count": 71,
   "metadata": {},
   "outputs": [
    {
     "data": {
      "text/plain": [
       "0.7892765590986309"
      ]
     },
     "execution_count": 71,
     "metadata": {},
     "output_type": "execute_result"
    }
   ],
   "source": [
    "f1_sub(fname,'sub/preresnet0.csv')"
   ]
  },
  {
   "cell_type": "code",
   "execution_count": 72,
   "metadata": {},
   "outputs": [
    {
     "data": {
      "text/plain": [
       "0.7952565777775663"
      ]
     },
     "execution_count": 72,
     "metadata": {},
     "output_type": "execute_result"
    }
   ],
   "source": [
    "f1_sub(fname,'sub/preresnet0d.csv')"
   ]
  },
  {
   "cell_type": "code",
   "execution_count": 73,
   "metadata": {},
   "outputs": [
    {
     "data": {
      "text/plain": [
       "0.6254989318783003"
      ]
     },
     "execution_count": 73,
     "metadata": {},
     "output_type": "execute_result"
    }
   ],
   "source": [
    "f1_sub(fname,'sub/resnet11.csv')"
   ]
  },
  {
   "cell_type": "code",
   "execution_count": 74,
   "metadata": {},
   "outputs": [
    {
     "data": {
      "text/plain": [
       "0.6588586842341674"
      ]
     },
     "execution_count": 74,
     "metadata": {},
     "output_type": "execute_result"
    }
   ],
   "source": [
    "f1_sub(fname,'sub/resnet12.csv')"
   ]
  },
  {
   "cell_type": "code",
   "execution_count": 75,
   "metadata": {},
   "outputs": [
    {
     "data": {
      "text/plain": [
       "0.6515930570067853"
      ]
     },
     "execution_count": 75,
     "metadata": {},
     "output_type": "execute_result"
    }
   ],
   "source": [
    "f1_sub(fname,'sub/resnet13.csv')"
   ]
  },
  {
   "cell_type": "code",
   "execution_count": 76,
   "metadata": {},
   "outputs": [
    {
     "data": {
      "text/plain": [
       "0.7566919561274762"
      ]
     },
     "execution_count": 76,
     "metadata": {},
     "output_type": "execute_result"
    }
   ],
   "source": [
    "f1_sub(fname,'sub/resnet15.csv')"
   ]
  },
  {
   "cell_type": "code",
   "execution_count": 77,
   "metadata": {},
   "outputs": [
    {
     "data": {
      "text/plain": [
       "0.7612927923965127"
      ]
     },
     "execution_count": 77,
     "metadata": {},
     "output_type": "execute_result"
    }
   ],
   "source": [
    "f1_sub(fname,'sub/resnet15c.csv')"
   ]
  },
  {
   "cell_type": "code",
   "execution_count": 78,
   "metadata": {},
   "outputs": [
    {
     "data": {
      "text/plain": [
       "0.6982408516289126"
      ]
     },
     "execution_count": 78,
     "metadata": {},
     "output_type": "execute_result"
    }
   ],
   "source": [
    "f1_sub(fname,'sub/resnet16.csv')"
   ]
  },
  {
   "cell_type": "code",
   "execution_count": 79,
   "metadata": {},
   "outputs": [
    {
     "data": {
      "text/plain": [
       "0.7922804644327568"
      ]
     },
     "execution_count": 79,
     "metadata": {},
     "output_type": "execute_result"
    }
   ],
   "source": [
    "f1_sub(fname,'sub/resnet17.csv')"
   ]
  },
  {
   "cell_type": "code",
   "execution_count": 80,
   "metadata": {},
   "outputs": [
    {
     "data": {
      "text/plain": [
       "0.7922804644327568"
      ]
     },
     "execution_count": 80,
     "metadata": {},
     "output_type": "execute_result"
    }
   ],
   "source": [
    "f1_sub(fname,'sub/resnet17.csv')"
   ]
  },
  {
   "cell_type": "code",
   "execution_count": 81,
   "metadata": {},
   "outputs": [
    {
     "data": {
      "text/plain": [
       "0.7493108270438026"
      ]
     },
     "execution_count": 81,
     "metadata": {},
     "output_type": "execute_result"
    }
   ],
   "source": [
    "f1_sub(fname,'sub/se_resnext11.csv')"
   ]
  },
  {
   "cell_type": "code",
   "execution_count": 82,
   "metadata": {},
   "outputs": [
    {
     "data": {
      "text/plain": [
       "0.7527447938060987"
      ]
     },
     "execution_count": 82,
     "metadata": {},
     "output_type": "execute_result"
    }
   ],
   "source": [
    "f1_sub(fname,'sub/se_resnext11d.csv')"
   ]
  },
  {
   "cell_type": "code",
   "execution_count": 83,
   "metadata": {},
   "outputs": [
    {
     "name": "stdout",
     "output_type": "stream",
     "text": [
      "sub/hill_g100c.csv\n"
     ]
    }
   ],
   "source": [
    "print(fname)"
   ]
  },
  {
   "cell_type": "code",
   "execution_count": 84,
   "metadata": {},
   "outputs": [],
   "source": [
    "# f1_confusion(fname, 'sub/ens56.csv')"
   ]
  }
 ],
 "metadata": {
  "kernelspec": {
   "display_name": "Python 3",
   "language": "python",
   "name": "python3"
  },
  "language_info": {
   "codemirror_mode": {
    "name": "ipython",
    "version": 3
   },
   "file_extension": ".py",
   "mimetype": "text/x-python",
   "name": "python",
   "nbconvert_exporter": "python",
   "pygments_lexer": "ipython3",
   "version": "3.6.5"
  }
 },
 "nbformat": 4,
 "nbformat_minor": 2
}
