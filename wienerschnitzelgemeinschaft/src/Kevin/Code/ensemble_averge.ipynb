{
 "cells": [
  {
   "cell_type": "code",
   "execution_count": 2,
   "metadata": {},
   "outputs": [],
   "source": [
    "import pandas as pd\n",
    "import numpy as np"
   ]
  },
  {
   "cell_type": "code",
   "execution_count": 125,
   "metadata": {},
   "outputs": [],
   "source": [
    "path = '../results/'\n",
    "SAMPLE = '../input/sample_submission.csv'\n",
    "path_out = '../submit/'"
   ]
  },
  {
   "cell_type": "markdown",
   "metadata": {},
   "source": [
    "# Ensemble 4\n",
    "\n",
    "filenames = ['pred_resnext50_rgb_aug_2e-4_a4_tta16.csv', 'pred_ResNext50_aug_2e-4_a5_tta16.csv', \\\n",
    "             'pred_t_ResNext50_alls_512_2e-4_a5_0532.csv']\n",
    "weights = [0.4, 0.4, 0.2]\n",
    "\n",
    "'HPAC_05_ResNext50_ensemble_4.csv'\n",
    "\n",
    "LB = 0.586\n",
    "\n",
    "'HPAC_val_avg_ResNext50_ensemble_2.csv' \n",
    "\n",
    "th_weights = [0.34, 0.33, 0.33]\n",
    "\n",
    "th = [0.51826031 0.51834734 0.44045049 0.43685385 0.41942717 0.45609431\n",
    " 0.46838908 0.4533698  0.56985803 0.46896371 0.48165665 0.5228005\n",
    " 0.46618311 0.49207598 0.52469812 0.38642988 0.56906955 0.61506067\n",
    " 0.49123079 0.47437382 0.48727312 0.44976784 0.45648292 0.46852538\n",
    " 0.59508656 0.5028526  0.49060101 0.56784335]\n",
    " \n",
    "LB = 0.595"
   ]
  },
  {
   "cell_type": "markdown",
   "metadata": {},
   "source": [
    "# Ensemble 5\n",
    "\n",
    "filenames = ['pred_resnext50_rgb_aug_2e-4_a4_tta16.csv', 'pred_ResNext50_aug_2e-4_a5_tta16.csv', \\ 'pred_t_ResNext50_alls_512_2e-4_a5_0532.csv'] \n",
    "weights = [0.5, 0.25, 0.25]\n",
    "\n",
    "'HPAC_05_ResNext50_ensemble_4.csv'\n",
    "\n",
    "\n",
    "'HPAC_val_avg_ResNext50_ensemble_5a.csv'\n",
    "\n",
    "th_weights = [0.34, 0.33, 0.33]\n",
    "\n",
    "#5a. (th_val_avg - 0.5)*1+0.5\n"
   ]
  },
  {
   "cell_type": "code",
   "execution_count": 10,
   "metadata": {},
   "outputs": [],
   "source": [
    "# # Ensemble 4 \n",
    "# filenames = ['pred_resnext50_rgb_aug_2e-4_a4_tta16.csv', 'pred_ResNext50_aug_2e-4_a5_tta16.csv', \\\n",
    "#              'pred_t_ResNext50_alls_512_2e-4_a5_0532.csv']\n",
    "# weights = [0.4, 0.4, 0.2]"
   ]
  },
  {
   "cell_type": "code",
   "execution_count": 108,
   "metadata": {},
   "outputs": [],
   "source": [
    "# Ensemble 5\n",
    "filenames = ['pred_resnext50_rgb_aug_2e-4_a4_tta16.csv', 'pred_ResNext50_aug_2e-4_a5_tta16.csv', \\\n",
    "             'pred_t_ResNext50_alls_512_2e-4_a5_0532.csv'] \n",
    "\n",
    "weights = [0.5, 0.25, 0.25]\n",
    "\n",
    "# 'HPAC_05_ResNext50_ensemble_5.csv' LB = 0.586\n",
    "# 'HPAC_val_avg_ResNext50_ensemble_5.csv'\n",
    "# th_weights = [0.34, 0.33, 0.33]\n",
    "# 5a. (th_val_avg - 0.5)*1+0.5 \n"
   ]
  },
  {
   "cell_type": "code",
   "execution_count": null,
   "metadata": {},
   "outputs": [],
   "source": [
    "# # Ensemble 6\n",
    "# filenames = ['pred_resnext50_rgb_aug01_2e-4_a3.csv', 'pred_ResNext50_aug_2e-4_a5_tta16.csv', \\\n",
    "#              'pred_t_ResNext50_alls_512_2e-4_a5_0532.csv'] \n",
    "# weights = [0.5, 0.25, 0.25]"
   ]
  },
  {
   "cell_type": "code",
   "execution_count": 82,
   "metadata": {},
   "outputs": [],
   "source": [
    "# Ensemble 7 Augmentation Only\n",
    "filenames = ['pred_resnext50_rgb_aug01_2e-4_a3.csv','pred_resnext50_rgb_aug_2e-4_a4_tta16.csv', \\\n",
    "             'pred_ResNext50_aug_2e-4_a5_tta16.csv'] \n",
    "\n",
    "weights = [0.4, 0.3, 0.3]\n"
   ]
  },
  {
   "cell_type": "code",
   "execution_count": 99,
   "metadata": {},
   "outputs": [],
   "source": [
    "filenames = ['pred_resnext50_rgb_aug01_2e-4_a3.csv'] \n",
    "weights = [1.0]"
   ]
  },
  {
   "cell_type": "code",
   "execution_count": 45,
   "metadata": {},
   "outputs": [],
   "source": [
    "# Ensemble 8\n",
    "filenames = ['pred_resnext50_rgb_aug01_2e-4_a3.csv','pred_resnext50_rgb_aug_2e-4_a4_tta16.csv', \\\n",
    "             'pred_ResNext50_aug_2e-4_a5_tta16.csv','pred_t_ResNext50_alls_512_2e-4_a5_0532.csv'] \n",
    "\n",
    "weights = [0.25, 0.25, 0.25, 0.25]\n",
    "\n",
    "#leak_HPAC_05_ResNext50_ensemble_7 0.589\n",
    "#leak_HPAC_05_ResNext50_ensemble_8 0.594\n",
    "\n",
    "#leak_HPAC_avg_ResNext50_ensemble_8 0.576\n",
    "#leak_HPAC_avg_ResNext50_ensemble_7 0.578"
   ]
  },
  {
   "cell_type": "code",
   "execution_count": 125,
   "metadata": {},
   "outputs": [],
   "source": [
    "# Ensemble 9\n",
    "filenames = ['pred_resnext50_g_aug01_2e-4_a4.csv', 'pred_resnext50_rgb_aug01_2e-4_a3.csv', \\\n",
    "             'pred_resnext50_rgb_aug_2e-4_a4_tta16.csv', \\\n",
    "             'pred_ResNext50_aug_2e-4_a5_tta16.csv'] \n",
    "\n",
    "weights = [0.25, 0.25, 0.25, 0.25]\n"
   ]
  },
  {
   "cell_type": "code",
   "execution_count": 4,
   "metadata": {},
   "outputs": [],
   "source": [
    "# Ensemble 10\n",
    "filenames = ['pred_resnext50_g_aug01_2e-4_a4.csv', 'pred_resnext50_rgb_aug01_2e-4_a3.csv'] \n",
    "weights = [0.4, 0.6] "
   ]
  },
  {
   "cell_type": "code",
   "execution_count": 145,
   "metadata": {},
   "outputs": [],
   "source": [
    "# Ensemble 11\n",
    "filenames = ['pred_resnext50_g_aug01_2e-4_a4.csv', 'pred_resnext50_rgb_aug01_2e-4_a3.csv', \\\n",
    "             'pred_resnext50_rgb_aug_2e-4_a4_tta16.csv', 'pred_t_ResNext50_alls_512_2e-4_a5_0532.csv', \\\n",
    "             'pred_ResNext50_aug_2e-4_a5_tta16.csv'] \n",
    "weights = [0.2, 0.2, 0.2, 0.2, 0.2]"
   ]
  },
  {
   "cell_type": "code",
   "execution_count": 123,
   "metadata": {},
   "outputs": [],
   "source": [
    "def ensemble_pred_t(path, filenames, weights):\n",
    "    df_tmp = pd.read_csv( path + filenames[0], header=None)\n",
    "    pred_t_avg = np.zeros(df_tmp.shape)\n",
    "    for idx, fn in enumerate(filenames):\n",
    "        df_pred_t = pd.read_csv( path + fn, header=None)\n",
    "        pred_t_avg  += weights[idx] * df_pred_t.values\n",
    "    return pred_t_avg"
   ]
  },
  {
   "cell_type": "code",
   "execution_count": 126,
   "metadata": {},
   "outputs": [],
   "source": [
    "pred_t_avg = ensemble_pred_t(path,filenames,weights)"
   ]
  },
  {
   "cell_type": "code",
   "execution_count": 7,
   "metadata": {},
   "outputs": [
    {
     "data": {
      "text/plain": [
       "array([0.29532034, 0.11505628, 0.8736142 , 0.31118699, 0.0577689 ,\n",
       "       0.09029678, 0.06937022, 0.11484424, 0.00880837, 0.00903134,\n",
       "       0.00827767, 0.09884527, 0.08611616, 0.08648144, 0.07095751,\n",
       "       0.02080619, 0.11812469, 0.05020141, 0.06390308, 0.12256631,\n",
       "       0.04825627, 0.15551864, 0.10627953, 0.10731821, 0.07279442,\n",
       "       0.21124111, 0.05288337, 0.00946671])"
      ]
     },
     "execution_count": 7,
     "metadata": {},
     "output_type": "execute_result"
    }
   ],
   "source": [
    "pred_t_avg[0]"
   ]
  },
  {
   "cell_type": "code",
   "execution_count": 127,
   "metadata": {},
   "outputs": [],
   "source": [
    "def save_pred_ensemble(pred_t_avg, th=0.5, fname='HPAC_ensemble.csv'):\n",
    "    pred_list = []\n",
    "    for line in pred_t_avg:\n",
    "        s = ' '.join(list([str(i) for i in np.nonzero(line>th)[0]]))\n",
    "        pred_list.append(s)  \n",
    "    #print(len(pred_list))\n",
    "    sample_df = pd.read_csv(SAMPLE)\n",
    "    sample_list = list(sample_df.Id)\n",
    "    df = pd.DataFrame({'Id':sample_list,'Predicted':pred_list})\n",
    "    df.to_csv(fname, header=True, index=False)"
   ]
  },
  {
   "cell_type": "code",
   "execution_count": 69,
   "metadata": {},
   "outputs": [],
   "source": [
    "# th_val = [0.5442,  0.48696, 0.49523, 0.47363, 0.49234, 0.53067, 0.51578, 0.52985, 0.57223, 0.44015, 0.39442, 0.52157, 0.5529,\n",
    "#  0.47324, 0.53367, 0.33757, 0.54152, 0.5405,  0.5094,  0.49972, 0.34266, 0.46905, 0.48302, 0.49949, 0.67206, 0.49534,\n",
    "#  0.52171, 0.1]"
   ]
  },
  {
   "cell_type": "code",
   "execution_count": 11,
   "metadata": {},
   "outputs": [],
   "source": [
    "th_val = 0.5"
   ]
  },
  {
   "cell_type": "code",
   "execution_count": 12,
   "metadata": {},
   "outputs": [],
   "source": [
    "save_pred_ensemble(pred_t_avg, th_val, path_out + 'HPAC_05_ResNext50_ensemble_10.csv')  #"
   ]
  },
  {
   "cell_type": "markdown",
   "metadata": {},
   "source": [
    "# Average threholds"
   ]
  },
  {
   "cell_type": "code",
   "execution_count": 65,
   "metadata": {},
   "outputs": [],
   "source": [
    "import numpy as np"
   ]
  },
  {
   "cell_type": "code",
   "execution_count": 160,
   "metadata": {},
   "outputs": [
    {
     "name": "stdout",
     "output_type": "stream",
     "text": [
      "[0.57070623 0.51003616 0.43988972 0.39796211 0.35883555 0.44813901\n",
      " 0.44103565 0.47598195 0.36516875 0.36033791 0.37720638 0.59991494\n",
      " 0.53324825 0.43802859 0.66840096 0.21193804 0.78880557 0.8632035\n",
      " 0.55797015 0.52991138 0.40336949 0.50362334 0.51436169 0.46225313\n",
      " 0.67998279 0.55011653 0.48422682 0.28764028]\n"
     ]
    }
   ],
   "source": [
    "val_th0 = np.loadtxt('../results/th_t_ResNext50_ext_rgby_512_4e-4_a5')\n",
    "print(val_th0)"
   ]
  },
  {
   "cell_type": "code",
   "execution_count": 165,
   "metadata": {},
   "outputs": [
    {
     "name": "stdout",
     "output_type": "stream",
     "text": [
      "[0.49455225 0.56251784 0.5012595  0.56738266 0.49911196 0.48403277\n",
      " 0.5242301  0.52758346 0.6562069  0.72320268 0.69233769 0.60310985\n",
      " 0.50922743 0.50569189 0.49048811 0.64418039 0.49409103 0.585058\n",
      " 0.49058089 0.51715521 0.59531758 0.43693436 0.49533075 0.50760859\n",
      " 0.67477996 0.47145523 0.59365451 0.59965281]\n"
     ]
    }
   ],
   "source": [
    "val_th1 = np.loadtxt('../results/th_val_resnext50_rgb_aug01_2e-4_a3')\n",
    "print(val_th1)"
   ]
  },
  {
   "cell_type": "code",
   "execution_count": 166,
   "metadata": {},
   "outputs": [
    {
     "name": "stdout",
     "output_type": "stream",
     "text": [
      "[0.50442968 0.52322375 0.48975788 0.53735386 0.50360203 0.44821487\n",
      " 0.47312491 0.50907311 0.56437858 0.65340895 0.65087824 0.62634725\n",
      " 0.47303976 0.51938361 0.5016778  0.55064831 0.45434426 0.60450683\n",
      " 0.47851627 0.49568782 0.54204196 0.44567619 0.47429942 0.48791403\n",
      " 0.61099812 0.47709219 0.49408461 0.56926828]\n"
     ]
    }
   ],
   "source": [
    "val_th4 = np.loadtxt('../results/val_th_resnext50_g_aug01_2e-4_a4')\n",
    "print(val_th4)"
   ]
  },
  {
   "cell_type": "code",
   "execution_count": 121,
   "metadata": {},
   "outputs": [
    {
     "name": "stdout",
     "output_type": "stream",
     "text": [
      "[0.56 0.5  0.53 0.5  0.5  0.5  0.5  0.53 0.41 0.41 0.41 0.47 0.47 0.47\n",
      " 0.5  0.38 0.47 0.44 0.47 0.5  0.44 0.53 0.5  0.53 0.44 0.56 0.44 0.41]\n"
     ]
    }
   ],
   "source": [
    "th_log05_03 = np.loadtxt('../results/th_log05_03')\n",
    "print(th_log05_03)"
   ]
  },
  {
   "cell_type": "code",
   "execution_count": 103,
   "metadata": {},
   "outputs": [
    {
     "name": "stdout",
     "output_type": "stream",
     "text": [
      "[0.49455225 0.56251784 0.5012595  0.56738266 0.49911196 0.48403277\n",
      " 0.5242301  0.52758346 0.6562069  0.72320268 0.69233769 0.60310985\n",
      " 0.50922743 0.50569189 0.49048811 0.64418039 0.49409103 0.585058\n",
      " 0.49058089 0.51715521 0.59531758 0.43693436 0.49533075 0.50760859\n",
      " 0.67477996 0.47145523 0.59365451 0.59965281]\n"
     ]
    }
   ],
   "source": [
    "# val_th_aug01_1 = np.loadtxt('../results/th_val_resnext50_rgb_aug01_2e-4_a3')\n",
    "# print(val_th_aug01_1)"
   ]
  },
  {
   "cell_type": "code",
   "execution_count": 104,
   "metadata": {},
   "outputs": [
    {
     "name": "stdout",
     "output_type": "stream",
     "text": [
      "[0.55086503 0.66366021 0.46077093 0.62797187 0.42707351 0.52103469\n",
      " 0.43303898 0.46337338 0.26195846 0.3812259  0.36029122 0.81160713\n",
      " 0.53464153 0.67920407 0.69806073 0.53016358 0.74992153 0.96686591\n",
      " 0.6500398  0.58219254 0.59275124 0.46609648 0.54150991 0.46153752\n",
      " 0.95399954 0.47559097 0.69305958 0.68874326]\n"
     ]
    }
   ],
   "source": [
    "# val_th_aug01_2 = np.loadtxt('../results/HPAC_lab_resnext50_rgb_aug01_2e-4_a3')\n",
    "# print(val_th_aug01_2)"
   ]
  },
  {
   "cell_type": "code",
   "execution_count": 159,
   "metadata": {},
   "outputs": [
    {
     "name": "stdout",
     "output_type": "stream",
     "text": [
      "[0.54286594 0.47671645 0.45814865 0.41342844 0.31883753 0.43948032\n",
      " 0.41718255 0.4673339  0.31819943 0.37462211 0.40264104 0.54675537\n",
      " 0.52354426 0.51592596 0.66556241 0.21772833 0.73915162 0.85210296\n",
      " 0.55098627 0.50351457 0.41518648 0.50621615 0.5003707  0.44507548\n",
      " 0.63029807 0.55111256 0.47572021 0.28093657]\n"
     ]
    }
   ],
   "source": [
    "# val_th_test2 = np.loadtxt('../results/th_t_ResNext50_alls_2e-4_a6')\n",
    "# print(val_th_test2)"
   ]
  },
  {
   "cell_type": "code",
   "execution_count": 167,
   "metadata": {},
   "outputs": [
    {
     "name": "stdout",
     "output_type": "stream",
     "text": [
      "[0.52324349 0.59933501 0.48951228 0.5102197  0.47889414 0.5181027\n",
      " 0.51587274 0.48753971 0.69905065 0.6114674  0.68276035 0.5699579\n",
      " 0.48037592 0.66026371 0.52169516 0.47931115 0.50890226 0.53490769\n",
      " 0.52377545 0.5001984  0.59964247 0.44151858 0.48851553 0.53193192\n",
      " 0.67490364 0.50381841 0.56018209 0.89800371]\n"
     ]
    }
   ],
   "source": [
    "val_th2 = np.loadtxt('../results/th_val_resnext50_rgb_aug_2e-4_a4_tta16')\n",
    "print(val_th2)"
   ]
  },
  {
   "cell_type": "code",
   "execution_count": 168,
   "metadata": {},
   "outputs": [
    {
     "name": "stdout",
     "output_type": "stream",
     "text": [
      "[0.52303631 0.53857721 0.46206628 0.51787732 0.50922255 0.47249619\n",
      " 0.51991081 0.49120978 0.68009678 0.6460234  0.63531593 0.64542999\n",
      " 0.52580405 0.54040505 0.4751523  0.60126476 0.54340321 0.61936891\n",
      " 0.49938983 0.51882865 0.64513146 0.45548137 0.47661609 0.51347522\n",
      " 0.54602668 0.49984591 0.60547922 0.80431848]\n"
     ]
    }
   ],
   "source": [
    "val_th3 = np.loadtxt('../results/th_val_ResNext50_aug_2e-4_a4_tta16')\n",
    "print(val_th3)"
   ]
  },
  {
   "cell_type": "code",
   "execution_count": 90,
   "metadata": {},
   "outputs": [
    {
     "name": "stdout",
     "output_type": "stream",
     "text": [
      "[0.51361068 0.56681002 0.48427935 0.53182656 0.49574288 0.49154389\n",
      " 0.52000455 0.50211098 0.67845144 0.66023116 0.67013799 0.60616591\n",
      " 0.5051358  0.56878689 0.49577852 0.57491877 0.5154655  0.5797782\n",
      " 0.50458206 0.51206075 0.61336384 0.44464477 0.48682079 0.51767191\n",
      " 0.63190343 0.49170651 0.58643861 0.767325  ]\n",
      "[0.52324349 0.59933501 0.5012595  0.56738266 0.50922255 0.5181027\n",
      " 0.5242301  0.52758346 0.69905065 0.72320268 0.69233769 0.64542999\n",
      " 0.52580405 0.66026371 0.52169516 0.64418039 0.54340321 0.61936891\n",
      " 0.52377545 0.51882865 0.64513146 0.45548137 0.49533075 0.53193192\n",
      " 0.67490364 0.50381841 0.60547922 0.89800371]\n",
      "[0.49455225 0.53857721 0.46206628 0.5102197  0.47889414 0.47249619\n",
      " 0.51587274 0.48753971 0.6562069  0.6114674  0.63531593 0.5699579\n",
      " 0.48037592 0.50569189 0.4751523  0.47931115 0.49409103 0.53490769\n",
      " 0.49058089 0.5001984  0.59531758 0.43693436 0.47661609 0.50760859\n",
      " 0.54602668 0.47145523 0.56018209 0.59965281]\n"
     ]
    }
   ],
   "source": [
    "val_th_7 = np.zeros((len(val_th1),3))\n",
    "for i, val in enumerate([val_th1, val_th2,  val_th3]):\n",
    "    val_th_7[:,i] = np.array(val)\n",
    "\n",
    "print(val_th_7.mean(axis=-1))\n",
    "print(val_th_7.max(axis=-1))\n",
    "print(val_th_7.min(axis=-1))"
   ]
  },
  {
   "cell_type": "code",
   "execution_count": 56,
   "metadata": {},
   "outputs": [
    {
     "name": "stdout",
     "output_type": "stream",
     "text": [
      "[0.52788457 0.55261655 0.47318194 0.49836045 0.46151605 0.48069267\n",
      " 0.50026233 0.49557873 0.60013077 0.58525785 0.59690509 0.60460317\n",
      " 0.51216391 0.53609731 0.53893413 0.48417359 0.58380052 0.65063453\n",
      " 0.51792908 0.51652341 0.56086525 0.45938942 0.49370601 0.50381721\n",
      " 0.64392327 0.50630902 0.56088566 0.64740382]\n"
     ]
    }
   ],
   "source": [
    "val_th_avg = (val_th0 + val_th1 + val_th2 + val_th3)/4\n",
    "print(val_th_avg)"
   ]
  },
  {
   "cell_type": "code",
   "execution_count": 105,
   "metadata": {},
   "outputs": [],
   "source": [
    "val_th_aug01 = (val_th_aug01_1+val_th_aug01_2)/2"
   ]
  },
  {
   "cell_type": "code",
   "execution_count": 106,
   "metadata": {},
   "outputs": [],
   "source": [
    "save_pred_ensemble(pred_t_avg, val_th_aug01, path_out + 'HPAC_val_lab_ResNext50_aug01.csv')"
   ]
  },
  {
   "cell_type": "code",
   "execution_count": 13,
   "metadata": {},
   "outputs": [],
   "source": [
    "# val_th_avg = val_th1 * weights[0] +val_th2 * weights[1] + val_th3 * weights[2]\n",
    "# print(val_th_avg)"
   ]
  },
  {
   "cell_type": "code",
   "execution_count": 71,
   "metadata": {},
   "outputs": [],
   "source": [
    "save_pred_ensemble(pred_t_avg, val_th_7, path_out + 'HPAC_val_ResNext50_ensemble_7.csv')"
   ]
  },
  {
   "cell_type": "code",
   "execution_count": 57,
   "metadata": {},
   "outputs": [],
   "source": [
    "# save_pred_ensemble(pred_t_avg, val_th_avg, path_out + 'HPAC_val_ResNext50_ensemble_8.csv')"
   ]
  },
  {
   "cell_type": "code",
   "execution_count": 91,
   "metadata": {},
   "outputs": [],
   "source": [
    "save_pred_ensemble(pred_t_avg, val_th_7.max(axis=-1), path_out + 'HPAC_valmax_ResNext50_ensemble_7.csv')"
   ]
  },
  {
   "cell_type": "code",
   "execution_count": 92,
   "metadata": {},
   "outputs": [],
   "source": [
    "save_pred_ensemble(pred_t_avg, val_th_7.min(axis=-1), path_out + 'HPAC_valmin_ResNext50_ensemble_7.csv')"
   ]
  },
  {
   "cell_type": "code",
   "execution_count": 172,
   "metadata": {},
   "outputs": [
    {
     "name": "stdout",
     "output_type": "stream",
     "text": [
      "[0.52319359 0.54673799 0.47649713 0.50615913 0.46993325 0.47419711\n",
      " 0.49483484 0.4982776  0.59298033 0.59888807 0.60769972 0.60895199\n",
      " 0.50433908 0.53275457 0.53148286 0.49746853 0.55790926 0.64140899\n",
      " 0.51004652 0.51235629 0.55710059 0.45664677 0.4898247  0.50063658\n",
      " 0.63733824 0.50046565 0.54752545 0.63177671]\n"
     ]
    }
   ],
   "source": [
    "#ensemble 11 #LB 0.572, th=0.5, LB 0.593\n",
    "val_th_avg_11 = (val_th0 + val_th1 + val_th2 + val_th3 + val_th4)/5\n",
    "print(val_th_avg_11)\n",
    "save_pred_ensemble(pred_t_avg, val_th_avg_11, path_out + 'HPAC_val_avg_ResNext50_ensemble_11.csv')"
   ]
  },
  {
   "cell_type": "markdown",
   "metadata": {},
   "source": [
    "# majority vote"
   ]
  },
  {
   "cell_type": "code",
   "execution_count": 149,
   "metadata": {},
   "outputs": [],
   "source": [
    "def get_predict(path_in, fn):\n",
    "    pred = np.zeros((11702,28))\n",
    "    df_tmp = pd.read_csv( path_in + fn)\n",
    "    null_idx = df_tmp[df_tmp['Predicted'].isnull()]['Predicted'].index\n",
    "    for idx,s in enumerate(df_tmp['Predicted']):\n",
    "        if idx in null_idx:\n",
    "            pred[idx,:] = np.zeros(28,dtype=np.int)\n",
    "        else:\n",
    "            label_idx = [int(i) for i in df_tmp['Predicted'][idx].split()]\n",
    "            pred[idx,:] = np.eye(28,dtype=np.float)[label_idx].sum(axis=0) \n",
    "    return pred  \n",
    "        \n",
    "def m_vote(path_in, path_out, filenames, fn_voted = 'voted_5_a.csv'):\n",
    "    pred_sum = np.zeros((11702,28))\n",
    "    for fn in filenames:\n",
    "        pred = get_predict(path_in, fn)\n",
    "        pred_sum += pred\n",
    "    \n",
    "    # set threshold for majority votes\n",
    "    th_mv = len(filenames)/2.0\n",
    "    th_mv = 0.5\n",
    "    pred_list = []\n",
    "    for ns in range(pred_test.shape[0]):\n",
    "        s = ' '.join(list([str(i) for i in np.nonzero(pred_test[ns,:]> th_mv)[0]]))\n",
    "        pred_list.append(s)\n",
    "        \n",
    "    sample_df = pd.read_csv(SAMPLE)\n",
    "    sample_list = list(sample_df.Id)\n",
    "\n",
    "    df = pd.DataFrame({'Id':sample_list,'Predicted':pred_list})\n",
    "    df.to_csv(path_out+fn_voted, header=True, index=False)\n",
    "    \n",
    "    return pred_sum"
   ]
  },
  {
   "cell_type": "code",
   "execution_count": null,
   "metadata": {},
   "outputs": [],
   "source": [
    "# fns.append('leak_HPAC_val_avg_ResNext50_ensemble_4.csv')\n",
    "# fns.append('leak_HPAC_val_avg_ResNext50_ensemble_5a.csv')\n",
    "# fns.append('leak_HPAC_05_ResNext50_ensemble_9.csv')\n",
    "# fns.append('leak_HPAC_05_ResNext50_ensemble_10a.csv')\n",
    "# fns.append('leak_HPAC_05_ResNext50_ensemble_11.csv')\n",
    "\n",
    "# pred_test = m_vote(path_in, path_out, fns, 'voted_5_d.csv')\n",
    "# th_mv = 2.5 LB = 0.592 5b\n",
    "# th_mv = 1.5 LB = 0.599 5c\n",
    "# th_mv = 0.5 LB = 0.602 5d"
   ]
  },
  {
   "cell_type": "code",
   "execution_count": 151,
   "metadata": {},
   "outputs": [],
   "source": [
    "import numpy as np\n",
    "import pandas as pd\n",
    "\n",
    "path = '../submit/'\n",
    "path_in = '../submit/'\n",
    "SAMPLE = '../input/sample_submission.csv'\n",
    "path_out = '../submit/'\n",
    "fns = []\n",
    "fns.append('leak_HPAC_val_avg_ResNext50_ensemble_4.csv')\n",
    "fns.append('leak_HPAC_val_avg_ResNext50_ensemble_5a.csv')\n",
    "fns.append('leak_HPAC_05_ResNext50_ensemble_9.csv')\n",
    "fns.append('leak_HPAC_05_ResNext50_ensemble_10a.csv')\n",
    "#fns.append('leak_HPAC_05_ResNext50_ensemble_11.csv')\n",
    "fns.append('leak_HPAC_th_manual_3_resnext50_rgb_aug005_a4_tta16.csv')\n",
    "\n",
    "pred_test = m_vote(path_in, path_out, fns, 'voted_5_e.csv')"
   ]
  },
  {
   "cell_type": "code",
   "execution_count": 109,
   "metadata": {},
   "outputs": [
    {
     "data": {
      "text/plain": [
       "array([    0,     1,     2, ..., 11700, 11701, 11701])"
      ]
     },
     "execution_count": 109,
     "metadata": {},
     "output_type": "execute_result"
    }
   ],
   "source": [
    "test = np.nonzero(pred_test>=1.5)\n",
    "test[0]"
   ]
  },
  {
   "cell_type": "code",
   "execution_count": 110,
   "metadata": {},
   "outputs": [
    {
     "data": {
      "text/plain": [
       "(array([ 0,  1,  2,  3,  4,  5,  6,  7,  8,  9, 10, 11, 12, 13, 14, 15, 16,\n",
       "        17, 18, 19, 20, 21, 22, 23, 24, 25, 26, 27]),\n",
       " array([5190,  438,  967,  442,  419,  606,  230,  803,    6,   10,   10,\n",
       "         440,  244,  178,  464,    5,  207,  271,  374,  530,   48, 1284,\n",
       "         297,  858,  124, 3882,  124,   13]))"
      ]
     },
     "execution_count": 110,
     "metadata": {},
     "output_type": "execute_result"
    }
   ],
   "source": [
    "unique, counts = np.unique(test[1], return_counts=True)\n",
    "unique, counts"
   ]
  },
  {
   "cell_type": "code",
   "execution_count": null,
   "metadata": {},
   "outputs": [],
   "source": []
  }
 ],
 "metadata": {
  "kernelspec": {
   "display_name": "Python 3",
   "language": "python",
   "name": "python3"
  },
  "language_info": {
   "codemirror_mode": {
    "name": "ipython",
    "version": 3
   },
   "file_extension": ".py",
   "mimetype": "text/x-python",
   "name": "python",
   "nbconvert_exporter": "python",
   "pygments_lexer": "ipython3",
   "version": "3.6.6"
  }
 },
 "nbformat": 4,
 "nbformat_minor": 2
}
