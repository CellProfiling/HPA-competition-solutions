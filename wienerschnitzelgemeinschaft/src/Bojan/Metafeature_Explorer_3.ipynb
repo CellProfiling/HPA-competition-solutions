{
 "cells": [
  {
   "cell_type": "code",
   "execution_count": 42,
   "metadata": {},
   "outputs": [],
   "source": [
    "import numpy as np\n",
    "import pandas as pd\n",
    "from sklearn.metrics import f1_score\n",
    "from scipy.special import logit, expit\n",
    "import pickle\n",
    "from sklearn.linear_model import Ridge\n",
    "from sklearn.preprocessing import MinMaxScaler\n",
    "from sklearn.linear_model import LogisticRegression\n",
    "from tqdm import tqdm"
   ]
  },
  {
   "cell_type": "code",
   "execution_count": 10,
   "metadata": {},
   "outputs": [],
   "source": [
    "glist = ['air_x68', 'airx_w70', 'airx_x70', 'cbam_w69', 'cbam_x69',\n",
    "           'preresnet_x67',\n",
    "           'resnet_x80', 'se_resnext_w29'\n",
    "           ]"
   ]
  },
  {
   "cell_type": "code",
   "execution_count": 3,
   "metadata": {},
   "outputs": [],
   "source": [
    "nfold = 4\n",
    "\n",
    "oof_dir = '../../Human_Protein_Atlas/metafeatures/oof/'"
   ]
  },
  {
   "cell_type": "code",
   "execution_count": 4,
   "metadata": {},
   "outputs": [],
   "source": [
    "\n",
    "PATH_TO_TRAIN = '../../Human_Protein_Atlas/input/train/'\n",
    "PATH_TO_TEST = '../../Human_Protein_Atlas/input/test/'\n",
    "PATH_TO_TARGET = '../../Human_Protein_Atlas/input/train.csv'\n",
    "PATH_TO_SUB = '../../Human_Protein_Atlas/input/sample_submission.csv'"
   ]
  },
  {
   "cell_type": "code",
   "execution_count": 5,
   "metadata": {},
   "outputs": [],
   "source": [
    "sub = pd.read_csv(PATH_TO_SUB)"
   ]
  },
  {
   "cell_type": "code",
   "execution_count": 13,
   "metadata": {},
   "outputs": [
    {
     "name": "stdout",
     "output_type": "stream",
     "text": [
      "                                       Target\n",
      "Id                                           \n",
      "00070df0-bbc3-11e8-b2bc-ac1f6b6435d0     16 0\n",
      "000a6c98-bb9b-11e8-b2b9-ac1f6b6435d0  7 1 2 0\n",
      "000a9596-bbc4-11e8-b2bc-ac1f6b6435d0        5\n",
      "000c99ba-bba4-11e8-b2b9-ac1f6b6435d0        1\n",
      "001838f8-bbca-11e8-b2bc-ac1f6b6435d0       18\n",
      "(31072, 1)\n"
     ]
    }
   ],
   "source": [
    "df = pd.read_csv(PATH_TO_TARGET)\n",
    "df.set_index('Id',inplace=True)\n",
    "print(df.head())\n",
    "print(df.shape)"
   ]
  },
  {
   "cell_type": "code",
   "execution_count": 14,
   "metadata": {},
   "outputs": [
    {
     "name": "stdout",
     "output_type": "stream",
     "text": [
      "                                      Predicted\n",
      "Id                                             \n",
      "00008af0-bad0-11e8-b2b8-ac1f6b6435d0          0\n",
      "0000a892-bacf-11e8-b2b8-ac1f6b6435d0          0\n",
      "0006faa6-bac7-11e8-b2b7-ac1f6b6435d0          0\n",
      "0008baca-bad7-11e8-b2b9-ac1f6b6435d0          0\n",
      "000cce7e-bad4-11e8-b2b8-ac1f6b6435d0          0\n",
      "(11702, 1)\n"
     ]
    }
   ],
   "source": [
    "file_list = list(df.index.values)\n",
    "\n",
    "ss = pd.read_csv(PATH_TO_SUB)\n",
    "ss.set_index('Id',inplace=True)\n",
    "print(ss.head())\n",
    "print(ss.shape)"
   ]
  },
  {
   "cell_type": "code",
   "execution_count": 15,
   "metadata": {},
   "outputs": [],
   "source": [
    "oof = df.copy()\n",
    "# print(oof.head())\n",
    "# print(oof.shape)\n",
    "eps = 1e-6"
   ]
  },
  {
   "cell_type": "code",
   "execution_count": 16,
   "metadata": {},
   "outputs": [],
   "source": [
    "oof = df.copy()\n",
    "# print(oof.head())\n",
    "# print(oof.shape)\n",
    "eps = 1e-6\n",
    "\n",
    "for k,m in enumerate(glist):\n",
    "    # print(m),\n",
    "    first = True\n",
    "    for fold in range(nfold):\n",
    "        idf, pooff, yooff = pickle.load(open(oof_dir+m+'_'+str(fold)+'.pkl','rb'))\n",
    "        # change to probability scale\n",
    "        pooff = expit(pooff)\n",
    "        \n",
    "\n",
    "        if first:\n",
    "            id = idf\n",
    "            poof = pooff.copy()\n",
    "            yoof = yooff.copy()\n",
    "            first = False\n",
    "        else:\n",
    "            id = id + idf\n",
    "            poof = np.concatenate((poof,pooff))\n",
    "            yoof = np.concatenate((yoof,yooff))\n",
    "    \n",
    "    mdf = pd.DataFrame({'Id':id})\n",
    "    # print(poof.shape)\n",
    "    if k==0: mdf['y'] = [yoof[i] for i in range(yoof.shape[0])]\n",
    "    mdf[m] = [poof[i] for i in range(poof.shape[0])]\n",
    "    mdf.set_index('Id',inplace=True)\n",
    "    oof = oof.join(mdf)"
   ]
  },
  {
   "cell_type": "code",
   "execution_count": 17,
   "metadata": {},
   "outputs": [
    {
     "data": {
      "text/plain": [
       "(31072, 10)"
      ]
     },
     "execution_count": 17,
     "metadata": {},
     "output_type": "execute_result"
    }
   ],
   "source": [
    "oof.shape"
   ]
  },
  {
   "cell_type": "code",
   "execution_count": 18,
   "metadata": {},
   "outputs": [
    {
     "data": {
      "text/html": [
       "<div>\n",
       "<style scoped>\n",
       "    .dataframe tbody tr th:only-of-type {\n",
       "        vertical-align: middle;\n",
       "    }\n",
       "\n",
       "    .dataframe tbody tr th {\n",
       "        vertical-align: top;\n",
       "    }\n",
       "\n",
       "    .dataframe thead th {\n",
       "        text-align: right;\n",
       "    }\n",
       "</style>\n",
       "<table border=\"1\" class=\"dataframe\">\n",
       "  <thead>\n",
       "    <tr style=\"text-align: right;\">\n",
       "      <th></th>\n",
       "      <th>Target</th>\n",
       "      <th>y</th>\n",
       "      <th>air_x68</th>\n",
       "      <th>airx_w70</th>\n",
       "      <th>airx_x70</th>\n",
       "      <th>cbam_w69</th>\n",
       "      <th>cbam_x69</th>\n",
       "      <th>preresnet_x67</th>\n",
       "      <th>resnet_x80</th>\n",
       "      <th>se_resnext_w29</th>\n",
       "    </tr>\n",
       "    <tr>\n",
       "      <th>Id</th>\n",
       "      <th></th>\n",
       "      <th></th>\n",
       "      <th></th>\n",
       "      <th></th>\n",
       "      <th></th>\n",
       "      <th></th>\n",
       "      <th></th>\n",
       "      <th></th>\n",
       "      <th></th>\n",
       "      <th></th>\n",
       "    </tr>\n",
       "  </thead>\n",
       "  <tbody>\n",
       "    <tr>\n",
       "      <th>00070df0-bbc3-11e8-b2bc-ac1f6b6435d0</th>\n",
       "      <td>16 0</td>\n",
       "      <td>[1.0, 0.0, 0.0, 0.0, 0.0, 0.0, 0.0, 0.0, 0.0, ...</td>\n",
       "      <td>[[[0.9787988]], [[0.0052320026]], [[0.01596593...</td>\n",
       "      <td>[[[0.99222034]], [[0.0460565]], [[0.42665052]]...</td>\n",
       "      <td>[[[0.9887283]], [[0.0044118366]], [[0.0483257]...</td>\n",
       "      <td>[[[0.9861458]], [[0.027592985]], [[0.02133973]...</td>\n",
       "      <td>[[[0.988283]], [[0.0025513505]], [[0.004176334...</td>\n",
       "      <td>[[[0.8970872]], [[0.008869448]], [[0.055458836...</td>\n",
       "      <td>[[[0.9969104]], [[0.00054191396]], [[0.0029697...</td>\n",
       "      <td>[[[0.97751975]], [[0.0056676073]], [[0.0086767...</td>\n",
       "    </tr>\n",
       "    <tr>\n",
       "      <th>000a6c98-bb9b-11e8-b2b9-ac1f6b6435d0</th>\n",
       "      <td>7 1 2 0</td>\n",
       "      <td>[1.0, 1.0, 1.0, 0.0, 0.0, 0.0, 0.0, 1.0, 0.0, ...</td>\n",
       "      <td>[[[0.9482032]], [[0.99923646]], [[0.2553666]],...</td>\n",
       "      <td>[[[0.98804307]], [[0.99944]], [[0.8884882]], [...</td>\n",
       "      <td>[[[0.9356185]], [[0.9996531]], [[0.28268027]],...</td>\n",
       "      <td>[[[0.8147194]], [[0.9847713]], [[0.8856964]], ...</td>\n",
       "      <td>[[[0.89690334]], [[0.9982436]], [[0.50983506]]...</td>\n",
       "      <td>[[[0.7879986]], [[0.99876785]], [[0.20188548]]...</td>\n",
       "      <td>[[[0.95630693]], [[0.98895735]], [[0.4966281]]...</td>\n",
       "      <td>[[[0.8519948]], [[0.99280554]], [[0.4493405]],...</td>\n",
       "    </tr>\n",
       "    <tr>\n",
       "      <th>000a9596-bbc4-11e8-b2bc-ac1f6b6435d0</th>\n",
       "      <td>5</td>\n",
       "      <td>[0.0, 0.0, 0.0, 0.0, 0.0, 1.0, 0.0, 0.0, 0.0, ...</td>\n",
       "      <td>[[[0.97671866]], [[0.008819221]], [[0.26768178...</td>\n",
       "      <td>[[[0.9762942]], [[0.00044200078]], [[0.1994801...</td>\n",
       "      <td>[[[0.95093626]], [[0.002990259]], [[0.35776192...</td>\n",
       "      <td>[[[0.906691]], [[0.0030315567]], [[0.18325233]...</td>\n",
       "      <td>[[[0.9529328]], [[0.0063327136]], [[0.38913277...</td>\n",
       "      <td>[[[0.9673825]], [[0.014083675]], [[0.49590272]...</td>\n",
       "      <td>[[[0.9538216]], [[0.028962485]], [[0.6092043]]...</td>\n",
       "      <td>[[[0.97027844]], [[0.0054005343]], [[0.0740023...</td>\n",
       "    </tr>\n",
       "    <tr>\n",
       "      <th>000c99ba-bba4-11e8-b2b9-ac1f6b6435d0</th>\n",
       "      <td>1</td>\n",
       "      <td>[0.0, 1.0, 0.0, 0.0, 0.0, 0.0, 0.0, 0.0, 0.0, ...</td>\n",
       "      <td>[[[0.75368506]], [[0.9990901]], [[0.007122622]...</td>\n",
       "      <td>[[[0.8679903]], [[0.9959116]], [[0.006667033]]...</td>\n",
       "      <td>[[[0.89748365]], [[0.9986174]], [[0.006502283]...</td>\n",
       "      <td>[[[0.97068834]], [[0.99854183]], [[0.016839104...</td>\n",
       "      <td>[[[0.94940335]], [[0.9986092]], [[0.0075771045...</td>\n",
       "      <td>[[[0.8388359]], [[0.99796]], [[0.021880563]], ...</td>\n",
       "      <td>[[[0.90697163]], [[0.9907246]], [[0.03382511]]...</td>\n",
       "      <td>[[[0.7687788]], [[0.9998683]], [[0.04143162]],...</td>\n",
       "    </tr>\n",
       "    <tr>\n",
       "      <th>001838f8-bbca-11e8-b2bc-ac1f6b6435d0</th>\n",
       "      <td>18</td>\n",
       "      <td>[0.0, 0.0, 0.0, 0.0, 0.0, 0.0, 0.0, 0.0, 0.0, ...</td>\n",
       "      <td>[[[0.6745915]], [[0.0005763447]], [[0.01309148...</td>\n",
       "      <td>[[[0.18778084]], [[0.0002924658]], [[0.0095870...</td>\n",
       "      <td>[[[0.0859067]], [[0.00020192834]], [[0.0059314...</td>\n",
       "      <td>[[[0.040219273]], [[0.0010586925]], [[0.066332...</td>\n",
       "      <td>[[[0.030123226]], [[0.000552267]], [[0.0271959...</td>\n",
       "      <td>[[[0.2969415]], [[0.0012038597]], [[0.02706289...</td>\n",
       "      <td>[[[0.754145]], [[0.004845952]], [[0.008448062]...</td>\n",
       "      <td>[[[0.1935358]], [[0.003470425]], [[0.09278208]...</td>\n",
       "    </tr>\n",
       "  </tbody>\n",
       "</table>\n",
       "</div>"
      ],
      "text/plain": [
       "                                       Target  \\\n",
       "Id                                              \n",
       "00070df0-bbc3-11e8-b2bc-ac1f6b6435d0     16 0   \n",
       "000a6c98-bb9b-11e8-b2b9-ac1f6b6435d0  7 1 2 0   \n",
       "000a9596-bbc4-11e8-b2bc-ac1f6b6435d0        5   \n",
       "000c99ba-bba4-11e8-b2b9-ac1f6b6435d0        1   \n",
       "001838f8-bbca-11e8-b2bc-ac1f6b6435d0       18   \n",
       "\n",
       "                                                                                      y  \\\n",
       "Id                                                                                        \n",
       "00070df0-bbc3-11e8-b2bc-ac1f6b6435d0  [1.0, 0.0, 0.0, 0.0, 0.0, 0.0, 0.0, 0.0, 0.0, ...   \n",
       "000a6c98-bb9b-11e8-b2b9-ac1f6b6435d0  [1.0, 1.0, 1.0, 0.0, 0.0, 0.0, 0.0, 1.0, 0.0, ...   \n",
       "000a9596-bbc4-11e8-b2bc-ac1f6b6435d0  [0.0, 0.0, 0.0, 0.0, 0.0, 1.0, 0.0, 0.0, 0.0, ...   \n",
       "000c99ba-bba4-11e8-b2b9-ac1f6b6435d0  [0.0, 1.0, 0.0, 0.0, 0.0, 0.0, 0.0, 0.0, 0.0, ...   \n",
       "001838f8-bbca-11e8-b2bc-ac1f6b6435d0  [0.0, 0.0, 0.0, 0.0, 0.0, 0.0, 0.0, 0.0, 0.0, ...   \n",
       "\n",
       "                                                                                air_x68  \\\n",
       "Id                                                                                        \n",
       "00070df0-bbc3-11e8-b2bc-ac1f6b6435d0  [[[0.9787988]], [[0.0052320026]], [[0.01596593...   \n",
       "000a6c98-bb9b-11e8-b2b9-ac1f6b6435d0  [[[0.9482032]], [[0.99923646]], [[0.2553666]],...   \n",
       "000a9596-bbc4-11e8-b2bc-ac1f6b6435d0  [[[0.97671866]], [[0.008819221]], [[0.26768178...   \n",
       "000c99ba-bba4-11e8-b2b9-ac1f6b6435d0  [[[0.75368506]], [[0.9990901]], [[0.007122622]...   \n",
       "001838f8-bbca-11e8-b2bc-ac1f6b6435d0  [[[0.6745915]], [[0.0005763447]], [[0.01309148...   \n",
       "\n",
       "                                                                               airx_w70  \\\n",
       "Id                                                                                        \n",
       "00070df0-bbc3-11e8-b2bc-ac1f6b6435d0  [[[0.99222034]], [[0.0460565]], [[0.42665052]]...   \n",
       "000a6c98-bb9b-11e8-b2b9-ac1f6b6435d0  [[[0.98804307]], [[0.99944]], [[0.8884882]], [...   \n",
       "000a9596-bbc4-11e8-b2bc-ac1f6b6435d0  [[[0.9762942]], [[0.00044200078]], [[0.1994801...   \n",
       "000c99ba-bba4-11e8-b2b9-ac1f6b6435d0  [[[0.8679903]], [[0.9959116]], [[0.006667033]]...   \n",
       "001838f8-bbca-11e8-b2bc-ac1f6b6435d0  [[[0.18778084]], [[0.0002924658]], [[0.0095870...   \n",
       "\n",
       "                                                                               airx_x70  \\\n",
       "Id                                                                                        \n",
       "00070df0-bbc3-11e8-b2bc-ac1f6b6435d0  [[[0.9887283]], [[0.0044118366]], [[0.0483257]...   \n",
       "000a6c98-bb9b-11e8-b2b9-ac1f6b6435d0  [[[0.9356185]], [[0.9996531]], [[0.28268027]],...   \n",
       "000a9596-bbc4-11e8-b2bc-ac1f6b6435d0  [[[0.95093626]], [[0.002990259]], [[0.35776192...   \n",
       "000c99ba-bba4-11e8-b2b9-ac1f6b6435d0  [[[0.89748365]], [[0.9986174]], [[0.006502283]...   \n",
       "001838f8-bbca-11e8-b2bc-ac1f6b6435d0  [[[0.0859067]], [[0.00020192834]], [[0.0059314...   \n",
       "\n",
       "                                                                               cbam_w69  \\\n",
       "Id                                                                                        \n",
       "00070df0-bbc3-11e8-b2bc-ac1f6b6435d0  [[[0.9861458]], [[0.027592985]], [[0.02133973]...   \n",
       "000a6c98-bb9b-11e8-b2b9-ac1f6b6435d0  [[[0.8147194]], [[0.9847713]], [[0.8856964]], ...   \n",
       "000a9596-bbc4-11e8-b2bc-ac1f6b6435d0  [[[0.906691]], [[0.0030315567]], [[0.18325233]...   \n",
       "000c99ba-bba4-11e8-b2b9-ac1f6b6435d0  [[[0.97068834]], [[0.99854183]], [[0.016839104...   \n",
       "001838f8-bbca-11e8-b2bc-ac1f6b6435d0  [[[0.040219273]], [[0.0010586925]], [[0.066332...   \n",
       "\n",
       "                                                                               cbam_x69  \\\n",
       "Id                                                                                        \n",
       "00070df0-bbc3-11e8-b2bc-ac1f6b6435d0  [[[0.988283]], [[0.0025513505]], [[0.004176334...   \n",
       "000a6c98-bb9b-11e8-b2b9-ac1f6b6435d0  [[[0.89690334]], [[0.9982436]], [[0.50983506]]...   \n",
       "000a9596-bbc4-11e8-b2bc-ac1f6b6435d0  [[[0.9529328]], [[0.0063327136]], [[0.38913277...   \n",
       "000c99ba-bba4-11e8-b2b9-ac1f6b6435d0  [[[0.94940335]], [[0.9986092]], [[0.0075771045...   \n",
       "001838f8-bbca-11e8-b2bc-ac1f6b6435d0  [[[0.030123226]], [[0.000552267]], [[0.0271959...   \n",
       "\n",
       "                                                                          preresnet_x67  \\\n",
       "Id                                                                                        \n",
       "00070df0-bbc3-11e8-b2bc-ac1f6b6435d0  [[[0.8970872]], [[0.008869448]], [[0.055458836...   \n",
       "000a6c98-bb9b-11e8-b2b9-ac1f6b6435d0  [[[0.7879986]], [[0.99876785]], [[0.20188548]]...   \n",
       "000a9596-bbc4-11e8-b2bc-ac1f6b6435d0  [[[0.9673825]], [[0.014083675]], [[0.49590272]...   \n",
       "000c99ba-bba4-11e8-b2b9-ac1f6b6435d0  [[[0.8388359]], [[0.99796]], [[0.021880563]], ...   \n",
       "001838f8-bbca-11e8-b2bc-ac1f6b6435d0  [[[0.2969415]], [[0.0012038597]], [[0.02706289...   \n",
       "\n",
       "                                                                             resnet_x80  \\\n",
       "Id                                                                                        \n",
       "00070df0-bbc3-11e8-b2bc-ac1f6b6435d0  [[[0.9969104]], [[0.00054191396]], [[0.0029697...   \n",
       "000a6c98-bb9b-11e8-b2b9-ac1f6b6435d0  [[[0.95630693]], [[0.98895735]], [[0.4966281]]...   \n",
       "000a9596-bbc4-11e8-b2bc-ac1f6b6435d0  [[[0.9538216]], [[0.028962485]], [[0.6092043]]...   \n",
       "000c99ba-bba4-11e8-b2b9-ac1f6b6435d0  [[[0.90697163]], [[0.9907246]], [[0.03382511]]...   \n",
       "001838f8-bbca-11e8-b2bc-ac1f6b6435d0  [[[0.754145]], [[0.004845952]], [[0.008448062]...   \n",
       "\n",
       "                                                                         se_resnext_w29  \n",
       "Id                                                                                       \n",
       "00070df0-bbc3-11e8-b2bc-ac1f6b6435d0  [[[0.97751975]], [[0.0056676073]], [[0.0086767...  \n",
       "000a6c98-bb9b-11e8-b2b9-ac1f6b6435d0  [[[0.8519948]], [[0.99280554]], [[0.4493405]],...  \n",
       "000a9596-bbc4-11e8-b2bc-ac1f6b6435d0  [[[0.97027844]], [[0.0054005343]], [[0.0740023...  \n",
       "000c99ba-bba4-11e8-b2b9-ac1f6b6435d0  [[[0.7687788]], [[0.9998683]], [[0.04143162]],...  \n",
       "001838f8-bbca-11e8-b2bc-ac1f6b6435d0  [[[0.1935358]], [[0.003470425]], [[0.09278208]...  "
      ]
     },
     "execution_count": 18,
     "metadata": {},
     "output_type": "execute_result"
    }
   ],
   "source": [
    "oof.head()"
   ]
  },
  {
   "cell_type": "code",
   "execution_count": 20,
   "metadata": {},
   "outputs": [
    {
     "name": "stdout",
     "output_type": "stream",
     "text": [
      "[4.1468203e-01 4.0357880e-02 1.1653579e-01 5.0238155e-02 5.9796602e-02\n",
      " 8.0876671e-02 3.2440782e-02 9.0821318e-02 1.7057158e-03 1.4482492e-03\n",
      " 9.0113288e-04 3.5176363e-02 2.2142122e-02 1.7282441e-02 3.4307417e-02\n",
      " 6.7584962e-04 1.7057158e-02 6.7584962e-03 2.9029351e-02 4.7695674e-02\n",
      " 5.5355304e-03 1.2155639e-01 2.5811020e-02 9.5423535e-02 1.0363027e-02\n",
      " 2.6480433e-01 1.0556128e-02 3.5401649e-04]\n"
     ]
    }
   ],
   "source": [
    "y = np.array(oof.y.values.tolist())\n",
    "ymean = np.mean(y,axis=0)\n",
    "print(ymean)"
   ]
  },
  {
   "cell_type": "code",
   "execution_count": 21,
   "metadata": {},
   "outputs": [],
   "source": [
    "thresholds =np.transpose(np.array([list(np.linspace(0.01,0.99, 99))]*28))"
   ]
  },
  {
   "cell_type": "code",
   "execution_count": 22,
   "metadata": {},
   "outputs": [
    {
     "data": {
      "text/plain": [
       "0.7191127624933157"
      ]
     },
     "execution_count": 22,
     "metadata": {},
     "output_type": "execute_result"
    }
   ],
   "source": [
    "air_x68 = np.array(oof.air_x68.values.tolist())\n",
    "air_x68 = air_x68.reshape((31072, 28))\n",
    "Big_Tensor = (air_x68[:,np.newaxis] > thresholds)*1.\n",
    "Final_Tensor = [f1_score(y, Big_Tensor[:,x,:], average=None) for x in range(99)]\n",
    "np.max(Final_Tensor, axis=0).mean()"
   ]
  },
  {
   "cell_type": "code",
   "execution_count": 23,
   "metadata": {},
   "outputs": [
    {
     "data": {
      "text/plain": [
       "0.7270174019390939"
      ]
     },
     "execution_count": 23,
     "metadata": {},
     "output_type": "execute_result"
    }
   ],
   "source": [
    "airx_w70 = np.array(oof.airx_w70.values.tolist())\n",
    "airx_w70 = airx_w70.reshape((31072, 28))\n",
    "Big_Tensor = (airx_w70[:,np.newaxis] > thresholds)*1.\n",
    "Final_Tensor = [f1_score(y, Big_Tensor[:,x,:], average=None) for x in range(99)]\n",
    "np.max(Final_Tensor, axis=0).mean()"
   ]
  },
  {
   "cell_type": "code",
   "execution_count": 24,
   "metadata": {},
   "outputs": [
    {
     "data": {
      "text/plain": [
       "0.7441451689139543"
      ]
     },
     "execution_count": 24,
     "metadata": {},
     "output_type": "execute_result"
    }
   ],
   "source": [
    "airx_x70 = np.array(oof.airx_x70.values.tolist())\n",
    "airx_x70 = airx_x70.reshape((31072, 28))\n",
    "Big_Tensor = (airx_x70[:,np.newaxis] > thresholds)*1.\n",
    "Final_Tensor = [f1_score(y, Big_Tensor[:,x,:], average=None) for x in range(99)]\n",
    "np.max(Final_Tensor, axis=0).mean()"
   ]
  },
  {
   "cell_type": "code",
   "execution_count": 25,
   "metadata": {},
   "outputs": [
    {
     "data": {
      "text/plain": [
       "0.7070331096093305"
      ]
     },
     "execution_count": 25,
     "metadata": {},
     "output_type": "execute_result"
    }
   ],
   "source": [
    "cbam_w69 = np.array(oof.cbam_w69.values.tolist())\n",
    "cbam_w69 = cbam_w69.reshape((31072, 28))\n",
    "Big_Tensor = (cbam_w69[:,np.newaxis] > thresholds)*1.\n",
    "Final_Tensor = [f1_score(y, Big_Tensor[:,x,:], average=None) for x in range(99)]\n",
    "np.max(Final_Tensor, axis=0).mean()"
   ]
  },
  {
   "cell_type": "code",
   "execution_count": 26,
   "metadata": {},
   "outputs": [
    {
     "data": {
      "text/plain": [
       "0.7334733436769992"
      ]
     },
     "execution_count": 26,
     "metadata": {},
     "output_type": "execute_result"
    }
   ],
   "source": [
    "cbam_x69 = np.array(oof.cbam_x69.values.tolist())\n",
    "cbam_x69 = cbam_x69.reshape((31072, 28))\n",
    "Big_Tensor = (cbam_x69[:,np.newaxis] > thresholds)*1.\n",
    "Final_Tensor = [f1_score(y, Big_Tensor[:,x,:], average=None) for x in range(99)]\n",
    "np.max(Final_Tensor, axis=0).mean()"
   ]
  },
  {
   "cell_type": "code",
   "execution_count": 27,
   "metadata": {},
   "outputs": [
    {
     "data": {
      "text/plain": [
       "0.7210377682235267"
      ]
     },
     "execution_count": 27,
     "metadata": {},
     "output_type": "execute_result"
    }
   ],
   "source": [
    "preresnet_x67 = np.array(oof.preresnet_x67.values.tolist())\n",
    "preresnet_x67 = preresnet_x67.reshape((31072, 28))\n",
    "Big_Tensor = (preresnet_x67[:,np.newaxis] > thresholds)*1.\n",
    "Final_Tensor = [f1_score(y, Big_Tensor[:,x,:], average=None) for x in range(99)]\n",
    "np.max(Final_Tensor, axis=0).mean()"
   ]
  },
  {
   "cell_type": "code",
   "execution_count": 28,
   "metadata": {},
   "outputs": [
    {
     "data": {
      "text/plain": [
       "0.6646229786849619"
      ]
     },
     "execution_count": 28,
     "metadata": {},
     "output_type": "execute_result"
    }
   ],
   "source": [
    "resnet_x80 = np.array(oof.resnet_x80.values.tolist())\n",
    "resnet_x80 = resnet_x80.reshape((31072, 28))\n",
    "Big_Tensor = (resnet_x80[:,np.newaxis] > thresholds)*1.\n",
    "Final_Tensor = [f1_score(y, Big_Tensor[:,x,:], average=None) for x in range(99)]\n",
    "np.max(Final_Tensor, axis=0).mean()"
   ]
  },
  {
   "cell_type": "code",
   "execution_count": 29,
   "metadata": {},
   "outputs": [
    {
     "data": {
      "text/plain": [
       "0.6840275346144953"
      ]
     },
     "execution_count": 29,
     "metadata": {},
     "output_type": "execute_result"
    }
   ],
   "source": [
    "se_resnext_w29 = np.array(oof.se_resnext_w29.values.tolist())\n",
    "se_resnext_w29 = se_resnext_w29.reshape((31072, 28))\n",
    "Big_Tensor = (se_resnext_w29[:,np.newaxis] > thresholds)*1.\n",
    "Final_Tensor = [f1_score(y, Big_Tensor[:,x,:], average=None) for x in range(99)]\n",
    "np.max(Final_Tensor, axis=0).mean()"
   ]
  },
  {
   "cell_type": "code",
   "execution_count": 30,
   "metadata": {},
   "outputs": [
    {
     "data": {
      "text/plain": [
       "(31072, 224)"
      ]
     },
     "execution_count": 30,
     "metadata": {},
     "output_type": "execute_result"
    }
   ],
   "source": [
    "thresholds_0 = np.linspace(0.01, 0.99, 99)\n",
    "train_eight = np.hstack((air_x68, airx_w70, airx_x70, cbam_w69, cbam_x69, preresnet_x67, resnet_x80, se_resnext_w29))\n",
    "train_eight.shape"
   ]
  },
  {
   "cell_type": "code",
   "execution_count": 31,
   "metadata": {},
   "outputs": [],
   "source": [
    "cluster4x_folds = pd.read_csv('../Russ/cluster4x_folds.csv')"
   ]
  },
  {
   "cell_type": "code",
   "execution_count": 32,
   "metadata": {},
   "outputs": [],
   "source": [
    "oof_folds = oof.merge(cluster4x_folds, on='Id')"
   ]
  },
  {
   "cell_type": "code",
   "execution_count": 33,
   "metadata": {},
   "outputs": [],
   "source": [
    "cluster4 = oof_folds.cluster4.values"
   ]
  },
  {
   "cell_type": "code",
   "execution_count": 37,
   "metadata": {},
   "outputs": [
    {
     "name": "stderr",
     "output_type": "stream",
     "text": [
      "  0%|          | 0/28 [00:00<?, ?it/s]"
     ]
    },
    {
     "name": "stdout",
     "output_type": "stream",
     "text": [
      "Fitting feature 0\n",
      "0\n",
      "0.8397904981241411\n",
      "28\n",
      "0.845354006686997\n",
      "56\n",
      "0.8479749851101845\n",
      "84\n",
      "0.8514441899977839\n",
      "112\n",
      "0.8521933085501859\n",
      "196\n",
      "0.852635458901585\n",
      "12\n",
      "0.852789256198347\n",
      "13\n",
      "0.8528581380852858\n",
      "16\n",
      "0.8530544854155202\n",
      "33\n",
      "0.8531967030519045\n",
      "36\n",
      "0.8532709586396376\n",
      "38\n",
      "0.8532808496416502\n",
      "42\n",
      "0.8533224380641088\n",
      "126\n",
      "0.8534085845833952\n",
      "162\n",
      "0.8534105247532101\n",
      "167\n",
      "0.8534313179675611\n",
      "180\n",
      "0.8535126499981426\n",
      "202\n",
      "0.8535779271417431\n",
      "206\n",
      "0.8536096256684491\n"
     ]
    },
    {
     "name": "stderr",
     "output_type": "stream",
     "text": [
      "  4%|▎         | 1/28 [03:20<1:30:21, 200.80s/it]"
     ]
    },
    {
     "name": "stdout",
     "output_type": "stream",
     "text": [
      "Fitting feature 1\n",
      "1\n",
      "0.8453768453768453\n",
      "29\n",
      "0.8611111111111112\n",
      "57\n",
      "0.8641878669275929\n",
      "85\n",
      "0.869737887212073\n",
      "197\n",
      "0.8712091374556913\n",
      "16\n",
      "0.8712871287128713\n",
      "17\n",
      "0.871310507674144\n",
      "19\n",
      "0.8716323296354992\n",
      "21\n",
      "0.87199684915321\n",
      "23\n",
      "0.8723404255319149\n",
      "35\n",
      "0.872684272763106\n",
      "41\n",
      "0.8730283911671923\n",
      "60\n",
      "0.8733727810650886\n"
     ]
    },
    {
     "name": "stderr",
     "output_type": "stream",
     "text": [
      "  7%|▋         | 2/28 [06:07<1:22:38, 190.70s/it]"
     ]
    },
    {
     "name": "stdout",
     "output_type": "stream",
     "text": [
      "Fitting feature 2\n",
      "2\n",
      "0.8058681099558467\n",
      "30\n",
      "0.8190636862083509\n",
      "58\n",
      "0.8219023426474739\n",
      "86\n",
      "0.8234622520336806\n",
      "114\n",
      "0.8269871145214999\n",
      "142\n",
      "0.8276361529548087\n",
      "3\n",
      "0.8299595141700405\n",
      "7\n",
      "0.8299970989266029\n",
      "11\n",
      "0.8301667875271936\n",
      "15\n",
      "0.8302924992759918\n",
      "24\n",
      "0.8304618502968005\n",
      "28\n",
      "0.8306184229494018\n",
      "29\n",
      "0.8307381776239907\n",
      "32\n",
      "0.8308579668348955\n",
      "84\n",
      "0.8309513497906742\n",
      "89\n",
      "0.8311913357400723\n",
      "173\n",
      "0.8313078703703705\n"
     ]
    },
    {
     "name": "stderr",
     "output_type": "stream",
     "text": [
      " 11%|█         | 3/28 [09:05<1:17:48, 186.75s/it]"
     ]
    },
    {
     "name": "stdout",
     "output_type": "stream",
     "text": [
      "Fitting feature 3\n",
      "3\n",
      "0.7790432801822322\n",
      "31\n",
      "0.7930924208506557\n",
      "59\n",
      "0.7993388429752066\n",
      "87\n",
      "0.8011889035667106\n",
      "115\n",
      "0.8032840722495894\n",
      "143\n",
      "0.8037761294672962\n",
      "199\n",
      "0.8051097281362594\n",
      "0\n",
      "0.8072368421052633\n",
      "5\n",
      "0.8084127505750903\n",
      "6\n",
      "0.8084265964450297\n",
      "11\n",
      "0.8084684088653655\n",
      "14\n",
      "0.8087359364659166\n",
      "22\n",
      "0.8088624338624338\n",
      "29\n",
      "0.8091300033079722\n",
      "44\n",
      "0.8095238095238096\n",
      "96\n",
      "0.809791597750579\n",
      "161\n",
      "0.80990099009901\n",
      "162\n",
      "0.8099173553719008\n",
      "168\n",
      "0.8103106411103767\n",
      "174\n",
      "0.8105785123966942\n"
     ]
    },
    {
     "name": "stderr",
     "output_type": "stream",
     "text": [
      " 14%|█▍        | 4/28 [11:56<1:12:51, 182.15s/it]"
     ]
    },
    {
     "name": "stdout",
     "output_type": "stream",
     "text": [
      "Fitting feature 4\n",
      "4\n",
      "0.8036826428378012\n",
      "32\n",
      "0.8089705485004053\n",
      "60\n",
      "0.8153078202995008\n",
      "88\n",
      "0.8206229860365197\n",
      "200\n",
      "0.8216100561647499\n",
      "0\n",
      "0.8230892570817744\n",
      "5\n",
      "0.8237486687965921\n",
      "7\n",
      "0.8238424693986163\n",
      "11\n",
      "0.8240617513973915\n",
      "53\n",
      "0.8241875332978157\n",
      "61\n",
      "0.8247202983484283\n",
      "97\n",
      "0.8249400479616307\n",
      "102\n",
      "0.8251599147121537\n",
      "140\n",
      "0.8253798986936817\n",
      "154\n",
      "0.8256\n"
     ]
    },
    {
     "name": "stderr",
     "output_type": "stream",
     "text": [
      " 18%|█▊        | 5/28 [14:57<1:09:36, 181.57s/it]"
     ]
    },
    {
     "name": "stdout",
     "output_type": "stream",
     "text": [
      "Fitting feature 5\n",
      "5\n",
      "0.6977252843394575\n",
      "33\n",
      "0.7180873180873181\n",
      "61\n",
      "0.7254408060453401\n",
      "89\n",
      "0.735523613963039\n",
      "145\n",
      "0.7355302070130967\n",
      "173\n",
      "0.7356175972927242\n",
      "201\n",
      "0.7390029325513197\n",
      "2\n",
      "0.739845865444699\n",
      "4\n",
      "0.740462789243277\n",
      "27\n",
      "0.7409575580179804\n",
      "29\n",
      "0.7412207357859532\n",
      "34\n",
      "0.7413757056240853\n",
      "35\n",
      "0.7414225941422595\n",
      "43\n",
      "0.7414980179428333\n",
      "48\n",
      "0.7416527545909849\n",
      "50\n",
      "0.7417605340008343\n",
      "51\n",
      "0.7420701168614358\n",
      "59\n",
      "0.7425124792013311\n",
      "85\n",
      "0.743035343035343\n",
      "87\n",
      "0.743142144638404\n",
      "95\n",
      "0.7432488574989614\n",
      "98\n",
      "0.7434032827758155\n",
      "106\n",
      "0.7436643124221023\n",
      "125\n",
      "0.7439733998337491\n"
     ]
    },
    {
     "name": "stderr",
     "output_type": "stream",
     "text": [
      " 21%|██▏       | 6/28 [17:57<1:06:29, 181.36s/it]"
     ]
    },
    {
     "name": "stdout",
     "output_type": "stream",
     "text": [
      "Fitting feature 6\n",
      "6\n",
      "0.6071784646061815\n",
      "34\n",
      "0.6599698643897539\n",
      "62\n",
      "0.673934588701685\n",
      "90\n",
      "0.686284289276808\n",
      "118\n",
      "0.6894502228826151\n",
      "174\n",
      "0.6897918731417244\n",
      "202\n",
      "0.6898263027295286\n",
      "2\n",
      "0.6902038786673297\n",
      "7\n",
      "0.6905829596412556\n",
      "25\n",
      "0.6909807787087234\n",
      "31\n",
      "0.6922330097087379\n",
      "51\n",
      "0.6941176470588234\n",
      "70\n",
      "0.6947574718275356\n",
      "130\n",
      "0.6950980392156864\n",
      "175\n",
      "0.6954389406571849\n",
      "193\n",
      "0.6954813359528487\n",
      "196\n",
      "0.696165191740413\n",
      "198\n",
      "0.6964636542239686\n",
      "200\n",
      "0.6968058968058968\n"
     ]
    },
    {
     "name": "stderr",
     "output_type": "stream",
     "text": [
      " 25%|██▌       | 7/28 [20:46<1:02:06, 177.45s/it]"
     ]
    },
    {
     "name": "stdout",
     "output_type": "stream",
     "text": [
      "Fitting feature 7\n",
      "7\n",
      "0.8099388095679585\n",
      "35\n",
      "0.8227401129943503\n",
      "63\n",
      "0.8252856616291928\n",
      "91\n",
      "0.8297268534941468\n",
      "119\n",
      "0.8318487547718597\n",
      "203\n",
      "0.8362657091561939\n",
      "0\n",
      "0.8364768357443692\n",
      "1\n",
      "0.8370991253644315\n",
      "6\n",
      "0.8375319459656809\n",
      "11\n",
      "0.8376255707762557\n",
      "37\n",
      "0.8376599634369288\n",
      "49\n",
      "0.8377192982456141\n",
      "52\n",
      "0.8378131285426952\n",
      "53\n",
      "0.8384854582037681\n",
      "61\n",
      "0.8385445236789174\n",
      "62\n",
      "0.8386035459696582\n",
      "64\n",
      "0.8389102212470287\n",
      "84\n",
      "0.8390047566776435\n",
      "93\n",
      "0.8393118594436311\n",
      "128\n",
      "0.8393706549579217\n",
      "182\n",
      "0.8394294074615948\n",
      "208\n",
      "0.8395829522590086\n"
     ]
    },
    {
     "name": "stderr",
     "output_type": "stream",
     "text": [
      " 29%|██▊       | 8/28 [23:47<59:32, 178.61s/it]  "
     ]
    },
    {
     "name": "stdout",
     "output_type": "stream",
     "text": [
      "Fitting feature 8\n",
      "8\n",
      "0.9215686274509803\n",
      "36\n",
      "0.9306930693069307\n",
      "64\n",
      "0.9423076923076923\n"
     ]
    },
    {
     "name": "stderr",
     "output_type": "stream",
     "text": [
      " 32%|███▏      | 9/28 [26:34<55:28, 175.17s/it]"
     ]
    },
    {
     "name": "stdout",
     "output_type": "stream",
     "text": [
      "Fitting feature 9\n",
      "9\n",
      "0.8505747126436781\n",
      "37\n",
      "0.9090909090909092\n",
      "65\n",
      "0.946236559139785\n"
     ]
    },
    {
     "name": "stderr",
     "output_type": "stream",
     "text": [
      " 36%|███▌      | 10/28 [29:12<51:00, 170.01s/it]"
     ]
    },
    {
     "name": "stdout",
     "output_type": "stream",
     "text": [
      "Fitting feature 10\n",
      "10\n",
      "0.8363636363636364\n",
      "38\n",
      "0.962962962962963\n"
     ]
    },
    {
     "name": "stderr",
     "output_type": "stream",
     "text": [
      " 39%|███▉      | 11/28 [31:48<46:56, 165.69s/it]"
     ]
    },
    {
     "name": "stdout",
     "output_type": "stream",
     "text": [
      "Fitting feature 11\n",
      "11\n",
      "0.7854477611940299\n",
      "39\n",
      "0.8003972194637536\n",
      "67\n",
      "0.803134182174339\n",
      "95\n",
      "0.8186813186813187\n",
      "123\n",
      "0.819538670284939\n",
      "2\n",
      "0.8201178069777979\n",
      "18\n",
      "0.8206990467544258\n",
      "56\n",
      "0.8209090909090909\n",
      "156\n",
      "0.8212341197822142\n",
      "180\n",
      "0.8212824010914052\n",
      "184\n",
      "0.8214447978191731\n",
      "198\n",
      "0.8218181818181819\n"
     ]
    },
    {
     "name": "stderr",
     "output_type": "stream",
     "text": [
      " 43%|████▎     | 12/28 [34:36<44:21, 166.35s/it]"
     ]
    },
    {
     "name": "stdout",
     "output_type": "stream",
     "text": [
      "Fitting feature 12\n",
      "12\n",
      "0.7452180566182096\n",
      "40\n",
      "0.7538699690402476\n",
      "68\n",
      "0.7591776798825257\n",
      "96\n",
      "0.7652303120356612\n",
      "124\n",
      "0.7688921496698459\n",
      "208\n",
      "0.7781109445277362\n",
      "0\n",
      "0.7787742899850523\n",
      "21\n",
      "0.78125\n",
      "23\n",
      "0.7818317200297842\n",
      "25\n",
      "0.7824143070044709\n",
      "49\n",
      "0.7831236121391563\n",
      "50\n",
      "0.78364312267658\n",
      "51\n",
      "0.7842261904761905\n",
      "89\n",
      "0.7843426883308715\n",
      "109\n",
      "0.7849223946784922\n"
     ]
    },
    {
     "name": "stderr",
     "output_type": "stream",
     "text": [
      " 46%|████▋     | 13/28 [37:24<41:44, 166.94s/it]"
     ]
    },
    {
     "name": "stdout",
     "output_type": "stream",
     "text": [
      "Fitting feature 13\n",
      "13\n",
      "0.7490196078431374\n",
      "41\n",
      "0.769990128331688\n",
      "69\n",
      "0.7781094527363183\n",
      "125\n",
      "0.77882797731569\n",
      "181\n",
      "0.7819548872180451\n",
      "5\n",
      "0.7820267686424474\n",
      "12\n",
      "0.7834456207892203\n",
      "21\n",
      "0.7851711026615971\n",
      "22\n",
      "0.7865384615384615\n",
      "25\n",
      "0.7881112176414189\n",
      "51\n",
      "0.7885167464114832\n",
      "77\n",
      "0.7892720306513409\n",
      "86\n",
      "0.7900287631831255\n",
      "93\n",
      "0.7907869481765835\n"
     ]
    },
    {
     "name": "stderr",
     "output_type": "stream",
     "text": [
      " 50%|█████     | 14/28 [40:12<39:02, 167.32s/it]"
     ]
    },
    {
     "name": "stdout",
     "output_type": "stream",
     "text": [
      "Fitting feature 14\n",
      "14\n",
      "0.8742569730224051\n",
      "42\n",
      "0.8814192343604109\n",
      "70\n",
      "0.8847795163584636\n",
      "98\n",
      "0.8849809885931559\n",
      "182\n",
      "0.8859315589353611\n",
      "5\n",
      "0.8864608076009501\n",
      "6\n",
      "0.8865882352941176\n",
      "11\n",
      "0.8869075551384327\n",
      "21\n",
      "0.8869976359338061\n",
      "28\n",
      "0.8873370577281192\n"
     ]
    },
    {
     "name": "stderr",
     "output_type": "stream",
     "text": [
      " 54%|█████▎    | 15/28 [43:01<36:19, 167.64s/it]"
     ]
    },
    {
     "name": "stdout",
     "output_type": "stream",
     "text": [
      "Fitting feature 15\n",
      "15\n",
      "0.742857142857143\n",
      "71\n",
      "0.7567567567567567\n"
     ]
    },
    {
     "name": "stderr",
     "output_type": "stream",
     "text": [
      " 57%|█████▋    | 16/28 [45:37<32:49, 164.15s/it]"
     ]
    },
    {
     "name": "stdout",
     "output_type": "stream",
     "text": [
      "Fitting feature 16\n",
      "16\n",
      "0.3010471204188482\n",
      "44\n",
      "0.3894823336072309\n",
      "72\n",
      "0.40165289256198344\n",
      "100\n",
      "0.4548162859980139\n",
      "128\n",
      "0.4577861163227017\n",
      "184\n",
      "0.4585635359116022\n",
      "212\n",
      "0.5115830115830117\n",
      "0\n",
      "0.5137795275590551\n",
      "5\n",
      "0.5152409046214356\n",
      "13\n",
      "0.515748031496063\n",
      "17\n",
      "0.5184466019417476\n",
      "18\n",
      "0.5190243902439025\n",
      "25\n",
      "0.5194805194805194\n",
      "26\n",
      "0.5203574975173783\n",
      "47\n",
      "0.5208747514910538\n",
      "54\n",
      "0.5215646940822467\n",
      "56\n",
      "0.5232903865213083\n",
      "58\n",
      "0.5242334322453017\n",
      "62\n",
      "0.5247524752475247\n",
      "84\n",
      "0.5251727541954592\n",
      "88\n",
      "0.5256916996047432\n",
      "89\n",
      "0.526211671612265\n"
     ]
    },
    {
     "name": "stderr",
     "output_type": "stream",
     "text": [
      " 61%|██████    | 17/28 [48:31<30:40, 167.35s/it]"
     ]
    },
    {
     "name": "stdout",
     "output_type": "stream",
     "text": [
      "Fitting feature 17\n",
      "17\n",
      "0.3611650485436893\n",
      "45\n",
      "0.3959731543624161\n",
      "73\n",
      "0.41318681318681316\n",
      "101\n",
      "0.4163265306122449\n",
      "129\n",
      "0.4260869565217391\n",
      "157\n",
      "0.4267241379310345\n",
      "213\n",
      "0.42889390519187365\n",
      "0\n",
      "0.4334085778781038\n",
      "109\n",
      "0.43438914027149317\n",
      "214\n",
      "0.43636363636363634\n"
     ]
    },
    {
     "name": "stderr",
     "output_type": "stream",
     "text": [
      " 64%|██████▍   | 18/28 [51:15<27:41, 166.20s/it]"
     ]
    },
    {
     "name": "stdout",
     "output_type": "stream",
     "text": [
      "Fitting feature 18\n",
      "18\n",
      "0.4124414145717938\n",
      "46\n",
      "0.5687753917585606\n",
      "74\n",
      "0.5822510822510822\n",
      "102\n",
      "0.6093916755602988\n",
      "130\n",
      "0.6141732283464567\n",
      "186\n",
      "0.6174496644295302\n",
      "214\n",
      "0.6233766233766234\n",
      "1\n",
      "0.6234332425068121\n",
      "5\n",
      "0.6235038084874864\n",
      "6\n",
      "0.6238121855785356\n",
      "7\n",
      "0.623964660408614\n",
      "13\n",
      "0.6247240618101545\n",
      "32\n",
      "0.6254826254826256\n",
      "45\n",
      "0.6258278145695364\n",
      "81\n",
      "0.6258426966292134\n",
      "93\n",
      "0.62619449128724\n",
      "106\n",
      "0.626614261650758\n",
      "107\n",
      "0.6269662921348315\n",
      "109\n",
      "0.6270330902972518\n",
      "114\n",
      "0.6273849607182941\n",
      "146\n",
      "0.6277372262773722\n",
      "150\n",
      "0.6280898876404494\n",
      "174\n",
      "0.6284429454749859\n",
      "194\n",
      "0.6287964004499438\n",
      "199\n",
      "0.6291502532357907\n",
      "200\n",
      "0.6292134831460675\n",
      "209\n",
      "0.629567172568859\n"
     ]
    },
    {
     "name": "stderr",
     "output_type": "stream",
     "text": [
      " 68%|██████▊   | 19/28 [54:09<25:17, 168.63s/it]"
     ]
    },
    {
     "name": "stdout",
     "output_type": "stream",
     "text": [
      "Fitting feature 19\n",
      "19\n",
      "0.5894876912840984\n",
      "47\n",
      "0.6393659180977543\n",
      "75\n",
      "0.6462608695652174\n",
      "103\n",
      "0.6619166369789811\n",
      "131\n",
      "0.6621206955335834\n",
      "159\n",
      "0.6632088520055326\n",
      "187\n",
      "0.6761614106476772\n",
      "215\n",
      "0.6804812834224598\n",
      "0\n",
      "0.682061579651941\n",
      "1\n",
      "0.6830225711481845\n",
      "2\n",
      "0.6834532374100719\n",
      "6\n",
      "0.6836768073274453\n",
      "7\n",
      "0.6840901666122181\n",
      "14\n",
      "0.6845199216198563\n",
      "16\n",
      "0.6852960745176314\n",
      "17\n",
      "0.6856763925729443\n",
      "25\n",
      "0.6859060402684564\n",
      "26\n",
      "0.6864064602960969\n",
      "33\n",
      "0.6876419072332144\n",
      "34\n",
      "0.6878650227125243\n",
      "35\n",
      "0.6879106438896189\n",
      "41\n",
      "0.6885892798421571\n",
      "42\n",
      "0.6887939533355241\n",
      "64\n",
      "0.6890203813280736\n",
      "77\n",
      "0.6892469582374219\n",
      "101\n",
      "0.6894736842105263\n",
      "108\n",
      "0.6897005593945377\n",
      "114\n",
      "0.6899275839368005\n",
      "125\n",
      "0.6901547579848535\n",
      "133\n",
      "0.6903820816864296\n",
      "141\n",
      "0.6904055390702275\n",
      "143\n",
      "0.6908371786420567\n",
      "151\n",
      "0.691089108910891\n",
      "157\n",
      "0.691545574636724\n",
      "171\n",
      "0.6918238993710691\n",
      "177\n",
      "0.6920529801324503\n",
      "184\n",
      "0.6922567835870285\n",
      "188\n",
      "0.6926893814091961\n",
      "191\n",
      "0.6927152317880795\n",
      "195\n",
      "0.6933509758518029\n",
      "197\n",
      "0.6938099966898378\n",
      "216\n",
      "0.6942696257038754\n"
     ]
    },
    {
     "name": "stderr",
     "output_type": "stream",
     "text": [
      " 71%|███████▏  | 20/28 [57:10<22:58, 172.25s/it]"
     ]
    },
    {
     "name": "stdout",
     "output_type": "stream",
     "text": [
      "Fitting feature 20\n",
      "20\n",
      "0.6863905325443787\n",
      "48\n",
      "0.7184466019417477\n",
      "76\n",
      "0.7413793103448275\n",
      "104\n",
      "0.7630057803468209\n",
      "132\n",
      "0.7701149425287357\n",
      "160\n",
      "0.7714285714285714\n",
      "188\n",
      "0.7719298245614037\n",
      "216\n",
      "0.7771084337349399\n",
      "9\n",
      "0.7794561933534744\n",
      "38\n",
      "0.781818181818182\n",
      "150\n",
      "0.7823529411764707\n",
      "163\n",
      "0.784431137724551\n",
      "177\n",
      "0.785498489425982\n",
      "206\n",
      "0.7867867867867868\n"
     ]
    },
    {
     "name": "stderr",
     "output_type": "stream",
     "text": [
      " 75%|███████▌  | 21/28 [59:56<19:52, 170.34s/it]"
     ]
    },
    {
     "name": "stdout",
     "output_type": "stream",
     "text": [
      "Fitting feature 21\n",
      "21\n",
      "0.6855856982122766\n",
      "49\n",
      "0.701772955808415\n",
      "77\n",
      "0.7074829931972788\n",
      "105\n",
      "0.7093095326639397\n",
      "133\n",
      "0.7118513773222293\n",
      "161\n",
      "0.7124662292551138\n",
      "189\n",
      "0.7139214686384497\n",
      "217\n",
      "0.7164829530889515\n",
      "0\n",
      "0.7169467239807216\n",
      "1\n",
      "0.717185028993147\n",
      "2\n",
      "0.7183877766069549\n",
      "16\n",
      "0.7190922285261909\n",
      "20\n",
      "0.7191663368948686\n",
      "24\n",
      "0.7192612137203166\n",
      "32\n",
      "0.7193978608213389\n",
      "34\n",
      "0.7197350993377484\n",
      "46\n",
      "0.7198727296831499\n",
      "76\n",
      "0.7199576495500264\n",
      "93\n",
      "0.7200529450694905\n",
      "96\n",
      "0.7201257861635219\n",
      "97\n",
      "0.7206615909687581\n",
      "134\n",
      "0.720933280901822\n",
      "135\n",
      "0.7213114754098361\n"
     ]
    },
    {
     "name": "stderr",
     "output_type": "stream",
     "text": [
      " 79%|███████▊  | 22/28 [1:03:05<17:35, 175.87s/it]"
     ]
    },
    {
     "name": "stdout",
     "output_type": "stream",
     "text": [
      "Fitting feature 22\n",
      "22\n",
      "0.6289620882535737\n",
      "50\n",
      "0.6732429099876696\n",
      "78\n",
      "0.6838632273545291\n",
      "106\n",
      "0.6929716399506781\n",
      "162\n",
      "0.6952789699570815\n",
      "190\n",
      "0.6972477064220184\n",
      "218\n",
      "0.7000000000000001\n",
      "1\n",
      "0.7002457002457002\n",
      "2\n",
      "0.7023370233702337\n",
      "12\n",
      "0.7024636765634871\n",
      "24\n",
      "0.7029077117572693\n",
      "30\n",
      "0.7037974683544304\n",
      "77\n",
      "0.705596107055961\n",
      "79\n",
      "0.7056672760511884\n",
      "88\n",
      "0.7064555420219245\n"
     ]
    },
    {
     "name": "stderr",
     "output_type": "stream",
     "text": [
      " 82%|████████▏ | 23/28 [1:05:55<14:31, 174.30s/it]"
     ]
    },
    {
     "name": "stdout",
     "output_type": "stream",
     "text": [
      "Fitting feature 23\n",
      "23\n",
      "0.8281516911513496\n",
      "51\n",
      "0.835893011216566\n",
      "79\n",
      "0.8360951599671862\n",
      "107\n",
      "0.8441907320349228\n",
      "135\n",
      "0.8452672022354174\n",
      "163\n",
      "0.8456122273742058\n",
      "219\n",
      "0.84801912568306\n",
      "0\n",
      "0.8483920367534457\n",
      "1\n",
      "0.8491942324003393\n",
      "7\n",
      "0.8495062989445011\n",
      "11\n",
      "0.8497444633730834\n",
      "20\n",
      "0.8504688832054561\n",
      "33\n",
      "0.8506139154160982\n",
      "34\n",
      "0.851150895140665\n",
      "44\n",
      "0.8512960436562075\n",
      "46\n",
      "0.8514412416851442\n",
      "53\n",
      "0.8520286396181385\n",
      "58\n",
      "0.8521739130434783\n",
      "69\n",
      "0.8523695874531197\n",
      "72\n",
      "0.8524199045671439\n"
     ]
    },
    {
     "name": "stderr",
     "output_type": "stream",
     "text": [
      " 86%|████████▌ | 24/28 [1:08:56<11:44, 176.17s/it]"
     ]
    },
    {
     "name": "stdout",
     "output_type": "stream",
     "text": [
      "Fitting feature 24\n",
      "24\n",
      "0.6563573883161513\n",
      "52\n",
      "0.7127496159754225\n",
      "80\n",
      "0.719242902208202\n",
      "108\n",
      "0.7313195548489667\n",
      "9\n",
      "0.732258064516129\n"
     ]
    },
    {
     "name": "stderr",
     "output_type": "stream",
     "text": [
      " 89%|████████▉ | 25/28 [1:11:33<08:31, 170.61s/it]"
     ]
    },
    {
     "name": "stdout",
     "output_type": "stream",
     "text": [
      "Fitting feature 25\n",
      "25\n",
      "0.7005261462471813\n",
      "53\n",
      "0.7083637999887507\n",
      "81\n",
      "0.7141174490997813\n",
      "137\n",
      "0.7168738502703607\n",
      "221\n",
      "0.7176952883697423\n",
      "4\n",
      "0.717870978608725\n",
      "9\n",
      "0.7179112857944975\n",
      "11\n",
      "0.7179141380085413\n",
      "13\n",
      "0.7179314221472737\n",
      "15\n",
      "0.718057731036026\n",
      "20\n",
      "0.718309067401203\n",
      "22\n",
      "0.7184498736310024\n",
      "23\n",
      "0.7184607617658608\n",
      "28\n",
      "0.718534194698151\n",
      "36\n",
      "0.7185568732253215\n",
      "40\n",
      "0.7186142363818646\n",
      "47\n",
      "0.7187953151143335\n",
      "50\n",
      "0.7190508171032012\n",
      "55\n",
      "0.719122502658235\n",
      "64\n",
      "0.7192123706752698\n",
      "72\n",
      "0.7195237300395037\n",
      "73\n",
      "0.7197416768733995\n",
      "78\n",
      "0.7200400022223458\n",
      "80\n",
      "0.7202265282327467\n",
      "83\n",
      "0.7202354509107063\n",
      "107\n",
      "0.7202533051883124\n",
      "129\n",
      "0.7204658901830283\n",
      "136\n",
      "0.7206167840701092\n",
      "138\n",
      "0.7217064544650751\n",
      "157\n",
      "0.7218011838247497\n",
      "222\n",
      "0.7219085575113472\n"
     ]
    },
    {
     "name": "stderr",
     "output_type": "stream",
     "text": [
      " 93%|█████████▎| 26/28 [1:14:48<05:55, 177.66s/it]"
     ]
    },
    {
     "name": "stdout",
     "output_type": "stream",
     "text": [
      "Fitting feature 26\n",
      "26\n",
      "0.5256410256410255\n",
      "54\n",
      "0.6252045826513911\n",
      "4\n",
      "0.6262295081967214\n",
      "17\n",
      "0.6272577996715927\n",
      "19\n",
      "0.6282894736842105\n",
      "28\n",
      "0.6293245469522241\n",
      "84\n",
      "0.6303630363036303\n"
     ]
    },
    {
     "name": "stderr",
     "output_type": "stream",
     "text": [
      " 96%|█████████▋| 27/28 [1:17:27<02:52, 172.11s/it]"
     ]
    },
    {
     "name": "stdout",
     "output_type": "stream",
     "text": [
      "Fitting feature 27\n",
      "27\n",
      "0.7272727272727273\n",
      "55\n",
      "0.7692307692307692\n",
      "139\n",
      "0.8\n"
     ]
    },
    {
     "name": "stderr",
     "output_type": "stream",
     "text": [
      "100%|██████████| 28/28 [1:20:01<00:00, 166.79s/it]\n"
     ]
    }
   ],
   "source": [
    "all_columns = set(range(224))\n",
    "\n",
    "all_good_features = []\n",
    "all_best_scores = []\n",
    "\n",
    "for ii in tqdm(range(28)):\n",
    "    print(\"Fitting feature\", ii)\n",
    "    first_eight =  set(np.array(range(8))*(28)+ii)\n",
    "    the_rest = np.array(list(all_columns - first_eight))\n",
    "    the_list = list(np.sort(list(first_eight)))+list(the_rest)\n",
    "    best_score = 0\n",
    "    good_features = []\n",
    "    for feature in the_list:\n",
    "        new_oof = np.zeros(train_eight.shape[0])\n",
    "        temp_good_features = good_features+[feature]\n",
    "        for i in range(4):\n",
    "            val_idx = np.where(cluster4 == i)[0]\n",
    "            trn_idx = np.where(cluster4 != i)[0]\n",
    "            train_x, val_x = train_eight[:,temp_good_features][trn_idx, :], train_eight[:,temp_good_features][val_idx, :]\n",
    "            train_y, val_y = y[:,ii][trn_idx], y[:,ii][val_idx]\n",
    "            clf = Ridge(alpha=0)\n",
    "            clf.fit(train_x, train_y)\n",
    "            oof_preds = clf.predict(val_x)\n",
    "            new_oof[val_idx] = oof_preds\n",
    "            \n",
    "        scaler = MinMaxScaler()\n",
    "        new_oof = scaler.fit_transform(new_oof.reshape(-1,1))\n",
    "        scores = [f1_score(y[:,ii], (new_oof > th)*1.,) for th in thresholds_0]\n",
    "        new_score = np.max(scores)\n",
    "        if new_score > best_score:\n",
    "            print(feature)\n",
    "            print(new_score)\n",
    "            best_score = new_score\n",
    "            good_features.append(feature)\n",
    "            \n",
    "    all_best_scores.append(best_score)\n",
    "            \n",
    "    all_good_features.append(good_features)\n",
    "        "
   ]
  },
  {
   "cell_type": "code",
   "execution_count": 38,
   "metadata": {},
   "outputs": [
    {
     "data": {
      "text/plain": [
       "0.7716383951904737"
      ]
     },
     "execution_count": 38,
     "metadata": {},
     "output_type": "execute_result"
    }
   ],
   "source": [
    "np.mean(all_best_scores)"
   ]
  },
  {
   "cell_type": "code",
   "execution_count": 39,
   "metadata": {},
   "outputs": [],
   "source": [
    "np.save('all_good_features_4', all_good_features)"
   ]
  },
  {
   "cell_type": "code",
   "execution_count": 40,
   "metadata": {},
   "outputs": [],
   "source": [
    "sub_dir = '../../Human_Protein_Atlas/metafeatures/sub/'"
   ]
  },
  {
   "cell_type": "code",
   "execution_count": 41,
   "metadata": {},
   "outputs": [],
   "source": [
    "folds = []\n",
    "\n",
    "for fold in range(nfold):\n",
    "    preds = []\n",
    "    for k,m in enumerate(glist):\n",
    "        idf, pooff, yooff = pickle.load(open(sub_dir+m+'_'+str(fold)+'_mm.pkl','rb'))\n",
    "        pooff = pooff.reshape((11702, 28))\n",
    "        preds.append(pooff)\n",
    "    folds.append(preds)"
   ]
  },
  {
   "cell_type": "code",
   "execution_count": 43,
   "metadata": {},
   "outputs": [
    {
     "data": {
      "text/plain": [
       "4"
      ]
     },
     "execution_count": 43,
     "metadata": {},
     "output_type": "execute_result"
    }
   ],
   "source": [
    "len(folds)"
   ]
  },
  {
   "cell_type": "code",
   "execution_count": 44,
   "metadata": {},
   "outputs": [
    {
     "name": "stderr",
     "output_type": "stream",
     "text": [
      "  0%|          | 0/28 [00:00<?, ?it/s]"
     ]
    },
    {
     "name": "stdout",
     "output_type": "stream",
     "text": [
      "Fitting feature 0\n"
     ]
    },
    {
     "name": "stderr",
     "output_type": "stream",
     "text": [
      "/Users/btunguz/anaconda3/lib/python3.6/site-packages/sklearn/linear_model/logistic.py:433: FutureWarning: Default solver will be changed to 'lbfgs' in 0.22. Specify a solver to silence this warning.\n",
      "  FutureWarning)\n",
      "/Users/btunguz/anaconda3/lib/python3.6/site-packages/sklearn/linear_model/logistic.py:433: FutureWarning: Default solver will be changed to 'lbfgs' in 0.22. Specify a solver to silence this warning.\n",
      "  FutureWarning)\n",
      "/Users/btunguz/anaconda3/lib/python3.6/site-packages/sklearn/linear_model/logistic.py:433: FutureWarning: Default solver will be changed to 'lbfgs' in 0.22. Specify a solver to silence this warning.\n",
      "  FutureWarning)\n",
      "/Users/btunguz/anaconda3/lib/python3.6/site-packages/sklearn/linear_model/logistic.py:433: FutureWarning: Default solver will be changed to 'lbfgs' in 0.22. Specify a solver to silence this warning.\n",
      "  FutureWarning)\n",
      "  4%|▎         | 1/28 [00:01<00:30,  1.13s/it]/Users/btunguz/anaconda3/lib/python3.6/site-packages/sklearn/linear_model/logistic.py:433: FutureWarning: Default solver will be changed to 'lbfgs' in 0.22. Specify a solver to silence this warning.\n",
      "  FutureWarning)\n",
      "/Users/btunguz/anaconda3/lib/python3.6/site-packages/sklearn/linear_model/logistic.py:433: FutureWarning: Default solver will be changed to 'lbfgs' in 0.22. Specify a solver to silence this warning.\n",
      "  FutureWarning)\n"
     ]
    },
    {
     "name": "stdout",
     "output_type": "stream",
     "text": [
      "Fitting feature 1\n"
     ]
    },
    {
     "name": "stderr",
     "output_type": "stream",
     "text": [
      "/Users/btunguz/anaconda3/lib/python3.6/site-packages/sklearn/linear_model/logistic.py:433: FutureWarning: Default solver will be changed to 'lbfgs' in 0.22. Specify a solver to silence this warning.\n",
      "  FutureWarning)\n",
      "/Users/btunguz/anaconda3/lib/python3.6/site-packages/sklearn/linear_model/logistic.py:433: FutureWarning: Default solver will be changed to 'lbfgs' in 0.22. Specify a solver to silence this warning.\n",
      "  FutureWarning)\n",
      "  7%|▋         | 2/28 [00:01<00:23,  1.12it/s]/Users/btunguz/anaconda3/lib/python3.6/site-packages/sklearn/linear_model/logistic.py:433: FutureWarning: Default solver will be changed to 'lbfgs' in 0.22. Specify a solver to silence this warning.\n",
      "  FutureWarning)\n"
     ]
    },
    {
     "name": "stdout",
     "output_type": "stream",
     "text": [
      "Fitting feature 2\n"
     ]
    },
    {
     "name": "stderr",
     "output_type": "stream",
     "text": [
      "/Users/btunguz/anaconda3/lib/python3.6/site-packages/sklearn/linear_model/logistic.py:433: FutureWarning: Default solver will be changed to 'lbfgs' in 0.22. Specify a solver to silence this warning.\n",
      "  FutureWarning)\n",
      "/Users/btunguz/anaconda3/lib/python3.6/site-packages/sklearn/linear_model/logistic.py:433: FutureWarning: Default solver will be changed to 'lbfgs' in 0.22. Specify a solver to silence this warning.\n",
      "  FutureWarning)\n",
      "/Users/btunguz/anaconda3/lib/python3.6/site-packages/sklearn/linear_model/logistic.py:433: FutureWarning: Default solver will be changed to 'lbfgs' in 0.22. Specify a solver to silence this warning.\n",
      "  FutureWarning)\n",
      " 11%|█         | 3/28 [00:01<00:18,  1.33it/s]/Users/btunguz/anaconda3/lib/python3.6/site-packages/sklearn/linear_model/logistic.py:433: FutureWarning: Default solver will be changed to 'lbfgs' in 0.22. Specify a solver to silence this warning.\n",
      "  FutureWarning)\n"
     ]
    },
    {
     "name": "stdout",
     "output_type": "stream",
     "text": [
      "Fitting feature 3\n"
     ]
    },
    {
     "name": "stderr",
     "output_type": "stream",
     "text": [
      "/Users/btunguz/anaconda3/lib/python3.6/site-packages/sklearn/linear_model/logistic.py:433: FutureWarning: Default solver will be changed to 'lbfgs' in 0.22. Specify a solver to silence this warning.\n",
      "  FutureWarning)\n",
      "/Users/btunguz/anaconda3/lib/python3.6/site-packages/sklearn/linear_model/logistic.py:433: FutureWarning: Default solver will be changed to 'lbfgs' in 0.22. Specify a solver to silence this warning.\n",
      "  FutureWarning)\n",
      "/Users/btunguz/anaconda3/lib/python3.6/site-packages/sklearn/linear_model/logistic.py:433: FutureWarning: Default solver will be changed to 'lbfgs' in 0.22. Specify a solver to silence this warning.\n",
      "  FutureWarning)\n",
      " 14%|█▍        | 4/28 [00:02<00:16,  1.49it/s]/Users/btunguz/anaconda3/lib/python3.6/site-packages/sklearn/linear_model/logistic.py:433: FutureWarning: Default solver will be changed to 'lbfgs' in 0.22. Specify a solver to silence this warning.\n",
      "  FutureWarning)\n",
      "/Users/btunguz/anaconda3/lib/python3.6/site-packages/sklearn/linear_model/logistic.py:433: FutureWarning: Default solver will be changed to 'lbfgs' in 0.22. Specify a solver to silence this warning.\n",
      "  FutureWarning)\n"
     ]
    },
    {
     "name": "stdout",
     "output_type": "stream",
     "text": [
      "Fitting feature 4\n"
     ]
    },
    {
     "name": "stderr",
     "output_type": "stream",
     "text": [
      "/Users/btunguz/anaconda3/lib/python3.6/site-packages/sklearn/linear_model/logistic.py:433: FutureWarning: Default solver will be changed to 'lbfgs' in 0.22. Specify a solver to silence this warning.\n",
      "  FutureWarning)\n",
      "/Users/btunguz/anaconda3/lib/python3.6/site-packages/sklearn/linear_model/logistic.py:433: FutureWarning: Default solver will be changed to 'lbfgs' in 0.22. Specify a solver to silence this warning.\n",
      "  FutureWarning)\n",
      " 18%|█▊        | 5/28 [00:02<00:13,  1.73it/s]/Users/btunguz/anaconda3/lib/python3.6/site-packages/sklearn/linear_model/logistic.py:433: FutureWarning: Default solver will be changed to 'lbfgs' in 0.22. Specify a solver to silence this warning.\n",
      "  FutureWarning)\n",
      "/Users/btunguz/anaconda3/lib/python3.6/site-packages/sklearn/linear_model/logistic.py:433: FutureWarning: Default solver will be changed to 'lbfgs' in 0.22. Specify a solver to silence this warning.\n",
      "  FutureWarning)\n"
     ]
    },
    {
     "name": "stdout",
     "output_type": "stream",
     "text": [
      "Fitting feature 5\n"
     ]
    },
    {
     "name": "stderr",
     "output_type": "stream",
     "text": [
      "/Users/btunguz/anaconda3/lib/python3.6/site-packages/sklearn/linear_model/logistic.py:433: FutureWarning: Default solver will be changed to 'lbfgs' in 0.22. Specify a solver to silence this warning.\n",
      "  FutureWarning)\n",
      "/Users/btunguz/anaconda3/lib/python3.6/site-packages/sklearn/linear_model/logistic.py:433: FutureWarning: Default solver will be changed to 'lbfgs' in 0.22. Specify a solver to silence this warning.\n",
      "  FutureWarning)\n",
      " 21%|██▏       | 6/28 [00:03<00:12,  1.74it/s]/Users/btunguz/anaconda3/lib/python3.6/site-packages/sklearn/linear_model/logistic.py:433: FutureWarning: Default solver will be changed to 'lbfgs' in 0.22. Specify a solver to silence this warning.\n",
      "  FutureWarning)\n",
      "/Users/btunguz/anaconda3/lib/python3.6/site-packages/sklearn/linear_model/logistic.py:433: FutureWarning: Default solver will be changed to 'lbfgs' in 0.22. Specify a solver to silence this warning.\n",
      "  FutureWarning)\n"
     ]
    },
    {
     "name": "stdout",
     "output_type": "stream",
     "text": [
      "Fitting feature 6\n"
     ]
    },
    {
     "name": "stderr",
     "output_type": "stream",
     "text": [
      "/Users/btunguz/anaconda3/lib/python3.6/site-packages/sklearn/linear_model/logistic.py:433: FutureWarning: Default solver will be changed to 'lbfgs' in 0.22. Specify a solver to silence this warning.\n",
      "  FutureWarning)\n",
      "/Users/btunguz/anaconda3/lib/python3.6/site-packages/sklearn/linear_model/logistic.py:433: FutureWarning: Default solver will be changed to 'lbfgs' in 0.22. Specify a solver to silence this warning.\n",
      "  FutureWarning)\n",
      " 25%|██▌       | 7/28 [00:03<00:10,  1.93it/s]/Users/btunguz/anaconda3/lib/python3.6/site-packages/sklearn/linear_model/logistic.py:433: FutureWarning: Default solver will be changed to 'lbfgs' in 0.22. Specify a solver to silence this warning.\n",
      "  FutureWarning)\n",
      "/Users/btunguz/anaconda3/lib/python3.6/site-packages/sklearn/linear_model/logistic.py:433: FutureWarning: Default solver will be changed to 'lbfgs' in 0.22. Specify a solver to silence this warning.\n",
      "  FutureWarning)\n"
     ]
    },
    {
     "name": "stdout",
     "output_type": "stream",
     "text": [
      "Fitting feature 7\n"
     ]
    },
    {
     "name": "stderr",
     "output_type": "stream",
     "text": [
      "/Users/btunguz/anaconda3/lib/python3.6/site-packages/sklearn/linear_model/logistic.py:433: FutureWarning: Default solver will be changed to 'lbfgs' in 0.22. Specify a solver to silence this warning.\n",
      "  FutureWarning)\n",
      "/Users/btunguz/anaconda3/lib/python3.6/site-packages/sklearn/linear_model/logistic.py:433: FutureWarning: Default solver will be changed to 'lbfgs' in 0.22. Specify a solver to silence this warning.\n",
      "  FutureWarning)\n",
      " 29%|██▊       | 8/28 [00:04<00:09,  2.05it/s]/Users/btunguz/anaconda3/lib/python3.6/site-packages/sklearn/linear_model/logistic.py:433: FutureWarning: Default solver will be changed to 'lbfgs' in 0.22. Specify a solver to silence this warning.\n",
      "  FutureWarning)\n",
      "/Users/btunguz/anaconda3/lib/python3.6/site-packages/sklearn/linear_model/logistic.py:433: FutureWarning: Default solver will be changed to 'lbfgs' in 0.22. Specify a solver to silence this warning.\n",
      "  FutureWarning)\n",
      "/Users/btunguz/anaconda3/lib/python3.6/site-packages/sklearn/linear_model/logistic.py:433: FutureWarning: Default solver will be changed to 'lbfgs' in 0.22. Specify a solver to silence this warning.\n",
      "  FutureWarning)\n",
      "/Users/btunguz/anaconda3/lib/python3.6/site-packages/sklearn/linear_model/logistic.py:433: FutureWarning: Default solver will be changed to 'lbfgs' in 0.22. Specify a solver to silence this warning.\n",
      "  FutureWarning)\n",
      " 32%|███▏      | 9/28 [00:04<00:07,  2.64it/s]"
     ]
    },
    {
     "name": "stdout",
     "output_type": "stream",
     "text": [
      "Fitting feature 8\n",
      "Fitting feature 9\n"
     ]
    },
    {
     "name": "stderr",
     "output_type": "stream",
     "text": [
      "/Users/btunguz/anaconda3/lib/python3.6/site-packages/sklearn/linear_model/logistic.py:433: FutureWarning: Default solver will be changed to 'lbfgs' in 0.22. Specify a solver to silence this warning.\n",
      "  FutureWarning)\n",
      "/Users/btunguz/anaconda3/lib/python3.6/site-packages/sklearn/linear_model/logistic.py:433: FutureWarning: Default solver will be changed to 'lbfgs' in 0.22. Specify a solver to silence this warning.\n",
      "  FutureWarning)\n",
      "/Users/btunguz/anaconda3/lib/python3.6/site-packages/sklearn/linear_model/logistic.py:433: FutureWarning: Default solver will be changed to 'lbfgs' in 0.22. Specify a solver to silence this warning.\n",
      "  FutureWarning)\n",
      "/Users/btunguz/anaconda3/lib/python3.6/site-packages/sklearn/linear_model/logistic.py:433: FutureWarning: Default solver will be changed to 'lbfgs' in 0.22. Specify a solver to silence this warning.\n",
      "  FutureWarning)\n",
      " 36%|███▌      | 10/28 [00:04<00:05,  3.23it/s]/Users/btunguz/anaconda3/lib/python3.6/site-packages/sklearn/linear_model/logistic.py:433: FutureWarning: Default solver will be changed to 'lbfgs' in 0.22. Specify a solver to silence this warning.\n",
      "  FutureWarning)\n",
      "/Users/btunguz/anaconda3/lib/python3.6/site-packages/sklearn/linear_model/logistic.py:433: FutureWarning: Default solver will be changed to 'lbfgs' in 0.22. Specify a solver to silence this warning.\n",
      "  FutureWarning)\n",
      "/Users/btunguz/anaconda3/lib/python3.6/site-packages/sklearn/linear_model/logistic.py:433: FutureWarning: Default solver will be changed to 'lbfgs' in 0.22. Specify a solver to silence this warning.\n",
      "  FutureWarning)\n",
      "/Users/btunguz/anaconda3/lib/python3.6/site-packages/sklearn/linear_model/logistic.py:433: FutureWarning: Default solver will be changed to 'lbfgs' in 0.22. Specify a solver to silence this warning.\n",
      "  FutureWarning)\n",
      " 39%|███▉      | 11/28 [00:04<00:04,  3.92it/s]/Users/btunguz/anaconda3/lib/python3.6/site-packages/sklearn/linear_model/logistic.py:433: FutureWarning: Default solver will be changed to 'lbfgs' in 0.22. Specify a solver to silence this warning.\n",
      "  FutureWarning)\n"
     ]
    },
    {
     "name": "stdout",
     "output_type": "stream",
     "text": [
      "Fitting feature 10\n",
      "Fitting feature 11\n"
     ]
    },
    {
     "name": "stderr",
     "output_type": "stream",
     "text": [
      "/Users/btunguz/anaconda3/lib/python3.6/site-packages/sklearn/linear_model/logistic.py:433: FutureWarning: Default solver will be changed to 'lbfgs' in 0.22. Specify a solver to silence this warning.\n",
      "  FutureWarning)\n",
      "/Users/btunguz/anaconda3/lib/python3.6/site-packages/sklearn/linear_model/logistic.py:433: FutureWarning: Default solver will be changed to 'lbfgs' in 0.22. Specify a solver to silence this warning.\n",
      "  FutureWarning)\n",
      "/Users/btunguz/anaconda3/lib/python3.6/site-packages/sklearn/linear_model/logistic.py:433: FutureWarning: Default solver will be changed to 'lbfgs' in 0.22. Specify a solver to silence this warning.\n",
      "  FutureWarning)\n",
      " 43%|████▎     | 12/28 [00:04<00:04,  3.70it/s]/Users/btunguz/anaconda3/lib/python3.6/site-packages/sklearn/linear_model/logistic.py:433: FutureWarning: Default solver will be changed to 'lbfgs' in 0.22. Specify a solver to silence this warning.\n",
      "  FutureWarning)\n",
      "/Users/btunguz/anaconda3/lib/python3.6/site-packages/sklearn/linear_model/logistic.py:433: FutureWarning: Default solver will be changed to 'lbfgs' in 0.22. Specify a solver to silence this warning.\n",
      "  FutureWarning)\n"
     ]
    },
    {
     "name": "stdout",
     "output_type": "stream",
     "text": [
      "Fitting feature 12\n"
     ]
    },
    {
     "name": "stderr",
     "output_type": "stream",
     "text": [
      "/Users/btunguz/anaconda3/lib/python3.6/site-packages/sklearn/linear_model/logistic.py:433: FutureWarning: Default solver will be changed to 'lbfgs' in 0.22. Specify a solver to silence this warning.\n",
      "  FutureWarning)\n",
      "/Users/btunguz/anaconda3/lib/python3.6/site-packages/sklearn/linear_model/logistic.py:433: FutureWarning: Default solver will be changed to 'lbfgs' in 0.22. Specify a solver to silence this warning.\n",
      "  FutureWarning)\n",
      " 46%|████▋     | 13/28 [00:05<00:04,  3.15it/s]/Users/btunguz/anaconda3/lib/python3.6/site-packages/sklearn/linear_model/logistic.py:433: FutureWarning: Default solver will be changed to 'lbfgs' in 0.22. Specify a solver to silence this warning.\n",
      "  FutureWarning)\n",
      "/Users/btunguz/anaconda3/lib/python3.6/site-packages/sklearn/linear_model/logistic.py:433: FutureWarning: Default solver will be changed to 'lbfgs' in 0.22. Specify a solver to silence this warning.\n",
      "  FutureWarning)\n",
      "/Users/btunguz/anaconda3/lib/python3.6/site-packages/sklearn/linear_model/logistic.py:433: FutureWarning: Default solver will be changed to 'lbfgs' in 0.22. Specify a solver to silence this warning.\n",
      "  FutureWarning)\n"
     ]
    },
    {
     "name": "stdout",
     "output_type": "stream",
     "text": [
      "Fitting feature 13\n"
     ]
    },
    {
     "name": "stderr",
     "output_type": "stream",
     "text": [
      "/Users/btunguz/anaconda3/lib/python3.6/site-packages/sklearn/linear_model/logistic.py:433: FutureWarning: Default solver will be changed to 'lbfgs' in 0.22. Specify a solver to silence this warning.\n",
      "  FutureWarning)\n",
      " 50%|█████     | 14/28 [00:05<00:04,  3.15it/s]/Users/btunguz/anaconda3/lib/python3.6/site-packages/sklearn/linear_model/logistic.py:433: FutureWarning: Default solver will be changed to 'lbfgs' in 0.22. Specify a solver to silence this warning.\n",
      "  FutureWarning)\n",
      "/Users/btunguz/anaconda3/lib/python3.6/site-packages/sklearn/linear_model/logistic.py:433: FutureWarning: Default solver will be changed to 'lbfgs' in 0.22. Specify a solver to silence this warning.\n",
      "  FutureWarning)\n"
     ]
    },
    {
     "name": "stdout",
     "output_type": "stream",
     "text": [
      "Fitting feature 14\n"
     ]
    },
    {
     "name": "stderr",
     "output_type": "stream",
     "text": [
      "/Users/btunguz/anaconda3/lib/python3.6/site-packages/sklearn/linear_model/logistic.py:433: FutureWarning: Default solver will be changed to 'lbfgs' in 0.22. Specify a solver to silence this warning.\n",
      "  FutureWarning)\n",
      "/Users/btunguz/anaconda3/lib/python3.6/site-packages/sklearn/linear_model/logistic.py:433: FutureWarning: Default solver will be changed to 'lbfgs' in 0.22. Specify a solver to silence this warning.\n",
      "  FutureWarning)\n",
      " 54%|█████▎    | 15/28 [00:05<00:04,  3.23it/s]/Users/btunguz/anaconda3/lib/python3.6/site-packages/sklearn/linear_model/logistic.py:433: FutureWarning: Default solver will be changed to 'lbfgs' in 0.22. Specify a solver to silence this warning.\n",
      "  FutureWarning)\n",
      "/Users/btunguz/anaconda3/lib/python3.6/site-packages/sklearn/linear_model/logistic.py:433: FutureWarning: Default solver will be changed to 'lbfgs' in 0.22. Specify a solver to silence this warning.\n",
      "  FutureWarning)\n",
      "/Users/btunguz/anaconda3/lib/python3.6/site-packages/sklearn/linear_model/logistic.py:433: FutureWarning: Default solver will be changed to 'lbfgs' in 0.22. Specify a solver to silence this warning.\n",
      "  FutureWarning)\n",
      "/Users/btunguz/anaconda3/lib/python3.6/site-packages/sklearn/linear_model/logistic.py:433: FutureWarning: Default solver will be changed to 'lbfgs' in 0.22. Specify a solver to silence this warning.\n",
      "  FutureWarning)\n",
      " 57%|█████▋    | 16/28 [00:05<00:03,  3.94it/s]/Users/btunguz/anaconda3/lib/python3.6/site-packages/sklearn/linear_model/logistic.py:433: FutureWarning: Default solver will be changed to 'lbfgs' in 0.22. Specify a solver to silence this warning.\n",
      "  FutureWarning)\n"
     ]
    },
    {
     "name": "stdout",
     "output_type": "stream",
     "text": [
      "Fitting feature 15\n",
      "Fitting feature 16\n"
     ]
    },
    {
     "name": "stderr",
     "output_type": "stream",
     "text": [
      "/Users/btunguz/anaconda3/lib/python3.6/site-packages/sklearn/linear_model/logistic.py:433: FutureWarning: Default solver will be changed to 'lbfgs' in 0.22. Specify a solver to silence this warning.\n",
      "  FutureWarning)\n",
      "/Users/btunguz/anaconda3/lib/python3.6/site-packages/sklearn/linear_model/logistic.py:433: FutureWarning: Default solver will be changed to 'lbfgs' in 0.22. Specify a solver to silence this warning.\n",
      "  FutureWarning)\n",
      "/Users/btunguz/anaconda3/lib/python3.6/site-packages/sklearn/linear_model/logistic.py:433: FutureWarning: Default solver will be changed to 'lbfgs' in 0.22. Specify a solver to silence this warning.\n",
      "  FutureWarning)\n",
      " 61%|██████    | 17/28 [00:06<00:03,  3.19it/s]/Users/btunguz/anaconda3/lib/python3.6/site-packages/sklearn/linear_model/logistic.py:433: FutureWarning: Default solver will be changed to 'lbfgs' in 0.22. Specify a solver to silence this warning.\n",
      "  FutureWarning)\n",
      "/Users/btunguz/anaconda3/lib/python3.6/site-packages/sklearn/linear_model/logistic.py:433: FutureWarning: Default solver will be changed to 'lbfgs' in 0.22. Specify a solver to silence this warning.\n",
      "  FutureWarning)\n"
     ]
    },
    {
     "name": "stdout",
     "output_type": "stream",
     "text": [
      "Fitting feature 17\n"
     ]
    },
    {
     "name": "stderr",
     "output_type": "stream",
     "text": [
      "/Users/btunguz/anaconda3/lib/python3.6/site-packages/sklearn/linear_model/logistic.py:433: FutureWarning: Default solver will be changed to 'lbfgs' in 0.22. Specify a solver to silence this warning.\n",
      "  FutureWarning)\n",
      "/Users/btunguz/anaconda3/lib/python3.6/site-packages/sklearn/linear_model/logistic.py:433: FutureWarning: Default solver will be changed to 'lbfgs' in 0.22. Specify a solver to silence this warning.\n",
      "  FutureWarning)\n",
      " 64%|██████▍   | 18/28 [00:06<00:02,  3.36it/s]/Users/btunguz/anaconda3/lib/python3.6/site-packages/sklearn/linear_model/logistic.py:433: FutureWarning: Default solver will be changed to 'lbfgs' in 0.22. Specify a solver to silence this warning.\n",
      "  FutureWarning)\n"
     ]
    },
    {
     "name": "stdout",
     "output_type": "stream",
     "text": [
      "Fitting feature 18\n"
     ]
    },
    {
     "name": "stderr",
     "output_type": "stream",
     "text": [
      "/Users/btunguz/anaconda3/lib/python3.6/site-packages/sklearn/linear_model/logistic.py:433: FutureWarning: Default solver will be changed to 'lbfgs' in 0.22. Specify a solver to silence this warning.\n",
      "  FutureWarning)\n",
      "/Users/btunguz/anaconda3/lib/python3.6/site-packages/sklearn/linear_model/logistic.py:433: FutureWarning: Default solver will be changed to 'lbfgs' in 0.22. Specify a solver to silence this warning.\n",
      "  FutureWarning)\n",
      "/Users/btunguz/anaconda3/lib/python3.6/site-packages/sklearn/linear_model/logistic.py:433: FutureWarning: Default solver will be changed to 'lbfgs' in 0.22. Specify a solver to silence this warning.\n",
      "  FutureWarning)\n",
      " 68%|██████▊   | 19/28 [00:07<00:03,  2.61it/s]/Users/btunguz/anaconda3/lib/python3.6/site-packages/sklearn/linear_model/logistic.py:433: FutureWarning: Default solver will be changed to 'lbfgs' in 0.22. Specify a solver to silence this warning.\n",
      "  FutureWarning)\n"
     ]
    },
    {
     "name": "stdout",
     "output_type": "stream",
     "text": [
      "Fitting feature 19\n"
     ]
    },
    {
     "name": "stderr",
     "output_type": "stream",
     "text": [
      "/Users/btunguz/anaconda3/lib/python3.6/site-packages/sklearn/linear_model/logistic.py:433: FutureWarning: Default solver will be changed to 'lbfgs' in 0.22. Specify a solver to silence this warning.\n",
      "  FutureWarning)\n",
      "/Users/btunguz/anaconda3/lib/python3.6/site-packages/sklearn/linear_model/logistic.py:433: FutureWarning: Default solver will be changed to 'lbfgs' in 0.22. Specify a solver to silence this warning.\n",
      "  FutureWarning)\n",
      "/Users/btunguz/anaconda3/lib/python3.6/site-packages/sklearn/linear_model/logistic.py:433: FutureWarning: Default solver will be changed to 'lbfgs' in 0.22. Specify a solver to silence this warning.\n",
      "  FutureWarning)\n",
      " 71%|███████▏  | 20/28 [00:07<00:03,  2.09it/s]/Users/btunguz/anaconda3/lib/python3.6/site-packages/sklearn/linear_model/logistic.py:433: FutureWarning: Default solver will be changed to 'lbfgs' in 0.22. Specify a solver to silence this warning.\n",
      "  FutureWarning)\n"
     ]
    },
    {
     "name": "stdout",
     "output_type": "stream",
     "text": [
      "Fitting feature 20\n"
     ]
    },
    {
     "name": "stderr",
     "output_type": "stream",
     "text": [
      "/Users/btunguz/anaconda3/lib/python3.6/site-packages/sklearn/linear_model/logistic.py:433: FutureWarning: Default solver will be changed to 'lbfgs' in 0.22. Specify a solver to silence this warning.\n",
      "  FutureWarning)\n",
      "/Users/btunguz/anaconda3/lib/python3.6/site-packages/sklearn/linear_model/logistic.py:433: FutureWarning: Default solver will be changed to 'lbfgs' in 0.22. Specify a solver to silence this warning.\n",
      "  FutureWarning)\n",
      "/Users/btunguz/anaconda3/lib/python3.6/site-packages/sklearn/linear_model/logistic.py:433: FutureWarning: Default solver will be changed to 'lbfgs' in 0.22. Specify a solver to silence this warning.\n",
      "  FutureWarning)\n",
      " 75%|███████▌  | 21/28 [00:08<00:02,  2.43it/s]/Users/btunguz/anaconda3/lib/python3.6/site-packages/sklearn/linear_model/logistic.py:433: FutureWarning: Default solver will be changed to 'lbfgs' in 0.22. Specify a solver to silence this warning.\n",
      "  FutureWarning)\n",
      "/Users/btunguz/anaconda3/lib/python3.6/site-packages/sklearn/linear_model/logistic.py:433: FutureWarning: Default solver will be changed to 'lbfgs' in 0.22. Specify a solver to silence this warning.\n",
      "  FutureWarning)\n"
     ]
    },
    {
     "name": "stdout",
     "output_type": "stream",
     "text": [
      "Fitting feature 21\n"
     ]
    },
    {
     "name": "stderr",
     "output_type": "stream",
     "text": [
      "/Users/btunguz/anaconda3/lib/python3.6/site-packages/sklearn/linear_model/logistic.py:433: FutureWarning: Default solver will be changed to 'lbfgs' in 0.22. Specify a solver to silence this warning.\n",
      "  FutureWarning)\n",
      "/Users/btunguz/anaconda3/lib/python3.6/site-packages/sklearn/linear_model/logistic.py:433: FutureWarning: Default solver will be changed to 'lbfgs' in 0.22. Specify a solver to silence this warning.\n",
      "  FutureWarning)\n",
      " 79%|███████▊  | 22/28 [00:08<00:02,  2.41it/s]/Users/btunguz/anaconda3/lib/python3.6/site-packages/sklearn/linear_model/logistic.py:433: FutureWarning: Default solver will be changed to 'lbfgs' in 0.22. Specify a solver to silence this warning.\n",
      "  FutureWarning)\n",
      "/Users/btunguz/anaconda3/lib/python3.6/site-packages/sklearn/linear_model/logistic.py:433: FutureWarning: Default solver will be changed to 'lbfgs' in 0.22. Specify a solver to silence this warning.\n",
      "  FutureWarning)\n",
      "/Users/btunguz/anaconda3/lib/python3.6/site-packages/sklearn/linear_model/logistic.py:433: FutureWarning: Default solver will be changed to 'lbfgs' in 0.22. Specify a solver to silence this warning.\n",
      "  FutureWarning)\n"
     ]
    },
    {
     "name": "stdout",
     "output_type": "stream",
     "text": [
      "Fitting feature 22\n"
     ]
    },
    {
     "name": "stderr",
     "output_type": "stream",
     "text": [
      "/Users/btunguz/anaconda3/lib/python3.6/site-packages/sklearn/linear_model/logistic.py:433: FutureWarning: Default solver will be changed to 'lbfgs' in 0.22. Specify a solver to silence this warning.\n",
      "  FutureWarning)\n",
      " 82%|████████▏ | 23/28 [00:09<00:01,  2.51it/s]/Users/btunguz/anaconda3/lib/python3.6/site-packages/sklearn/linear_model/logistic.py:433: FutureWarning: Default solver will be changed to 'lbfgs' in 0.22. Specify a solver to silence this warning.\n",
      "  FutureWarning)\n"
     ]
    },
    {
     "name": "stdout",
     "output_type": "stream",
     "text": [
      "Fitting feature 23\n"
     ]
    },
    {
     "name": "stderr",
     "output_type": "stream",
     "text": [
      "/Users/btunguz/anaconda3/lib/python3.6/site-packages/sklearn/linear_model/logistic.py:433: FutureWarning: Default solver will be changed to 'lbfgs' in 0.22. Specify a solver to silence this warning.\n",
      "  FutureWarning)\n",
      "/Users/btunguz/anaconda3/lib/python3.6/site-packages/sklearn/linear_model/logistic.py:433: FutureWarning: Default solver will be changed to 'lbfgs' in 0.22. Specify a solver to silence this warning.\n",
      "  FutureWarning)\n",
      "/Users/btunguz/anaconda3/lib/python3.6/site-packages/sklearn/linear_model/logistic.py:433: FutureWarning: Default solver will be changed to 'lbfgs' in 0.22. Specify a solver to silence this warning.\n",
      "  FutureWarning)\n",
      " 86%|████████▌ | 24/28 [00:09<00:01,  2.58it/s]/Users/btunguz/anaconda3/lib/python3.6/site-packages/sklearn/linear_model/logistic.py:433: FutureWarning: Default solver will be changed to 'lbfgs' in 0.22. Specify a solver to silence this warning.\n",
      "  FutureWarning)\n",
      "/Users/btunguz/anaconda3/lib/python3.6/site-packages/sklearn/linear_model/logistic.py:433: FutureWarning: Default solver will be changed to 'lbfgs' in 0.22. Specify a solver to silence this warning.\n",
      "  FutureWarning)\n",
      "/Users/btunguz/anaconda3/lib/python3.6/site-packages/sklearn/linear_model/logistic.py:433: FutureWarning: Default solver will be changed to 'lbfgs' in 0.22. Specify a solver to silence this warning.\n",
      "  FutureWarning)\n",
      "/Users/btunguz/anaconda3/lib/python3.6/site-packages/sklearn/linear_model/logistic.py:433: FutureWarning: Default solver will be changed to 'lbfgs' in 0.22. Specify a solver to silence this warning.\n",
      "  FutureWarning)\n",
      " 89%|████████▉ | 25/28 [00:09<00:00,  3.16it/s]/Users/btunguz/anaconda3/lib/python3.6/site-packages/sklearn/linear_model/logistic.py:433: FutureWarning: Default solver will be changed to 'lbfgs' in 0.22. Specify a solver to silence this warning.\n",
      "  FutureWarning)\n"
     ]
    },
    {
     "name": "stdout",
     "output_type": "stream",
     "text": [
      "Fitting feature 24\n",
      "Fitting feature 25\n"
     ]
    },
    {
     "name": "stderr",
     "output_type": "stream",
     "text": [
      "/Users/btunguz/anaconda3/lib/python3.6/site-packages/sklearn/linear_model/logistic.py:433: FutureWarning: Default solver will be changed to 'lbfgs' in 0.22. Specify a solver to silence this warning.\n",
      "  FutureWarning)\n",
      "/Users/btunguz/anaconda3/lib/python3.6/site-packages/sklearn/linear_model/logistic.py:433: FutureWarning: Default solver will be changed to 'lbfgs' in 0.22. Specify a solver to silence this warning.\n",
      "  FutureWarning)\n",
      "/Users/btunguz/anaconda3/lib/python3.6/site-packages/sklearn/linear_model/logistic.py:433: FutureWarning: Default solver will be changed to 'lbfgs' in 0.22. Specify a solver to silence this warning.\n",
      "  FutureWarning)\n",
      " 93%|█████████▎| 26/28 [00:10<00:00,  2.23it/s]/Users/btunguz/anaconda3/lib/python3.6/site-packages/sklearn/linear_model/logistic.py:433: FutureWarning: Default solver will be changed to 'lbfgs' in 0.22. Specify a solver to silence this warning.\n",
      "  FutureWarning)\n",
      "/Users/btunguz/anaconda3/lib/python3.6/site-packages/sklearn/linear_model/logistic.py:433: FutureWarning: Default solver will be changed to 'lbfgs' in 0.22. Specify a solver to silence this warning.\n",
      "  FutureWarning)\n",
      "/Users/btunguz/anaconda3/lib/python3.6/site-packages/sklearn/linear_model/logistic.py:433: FutureWarning: Default solver will be changed to 'lbfgs' in 0.22. Specify a solver to silence this warning.\n",
      "  FutureWarning)\n",
      "/Users/btunguz/anaconda3/lib/python3.6/site-packages/sklearn/linear_model/logistic.py:433: FutureWarning: Default solver will be changed to 'lbfgs' in 0.22. Specify a solver to silence this warning.\n",
      "  FutureWarning)\n"
     ]
    },
    {
     "name": "stdout",
     "output_type": "stream",
     "text": [
      "Fitting feature 26\n"
     ]
    },
    {
     "name": "stderr",
     "output_type": "stream",
     "text": [
      " 96%|█████████▋| 27/28 [00:10<00:00,  2.64it/s]/Users/btunguz/anaconda3/lib/python3.6/site-packages/sklearn/linear_model/logistic.py:433: FutureWarning: Default solver will be changed to 'lbfgs' in 0.22. Specify a solver to silence this warning.\n",
      "  FutureWarning)\n",
      "/Users/btunguz/anaconda3/lib/python3.6/site-packages/sklearn/linear_model/logistic.py:433: FutureWarning: Default solver will be changed to 'lbfgs' in 0.22. Specify a solver to silence this warning.\n",
      "  FutureWarning)\n",
      "/Users/btunguz/anaconda3/lib/python3.6/site-packages/sklearn/linear_model/logistic.py:433: FutureWarning: Default solver will be changed to 'lbfgs' in 0.22. Specify a solver to silence this warning.\n",
      "  FutureWarning)\n",
      "/Users/btunguz/anaconda3/lib/python3.6/site-packages/sklearn/linear_model/logistic.py:433: FutureWarning: Default solver will be changed to 'lbfgs' in 0.22. Specify a solver to silence this warning.\n",
      "  FutureWarning)\n",
      "100%|██████████| 28/28 [00:10<00:00,  3.32it/s]"
     ]
    },
    {
     "name": "stdout",
     "output_type": "stream",
     "text": [
      "Fitting feature 27\n"
     ]
    },
    {
     "name": "stderr",
     "output_type": "stream",
     "text": [
      "\n"
     ]
    }
   ],
   "source": [
    "best_scores = []\n",
    "best_thresholds = []\n",
    "total_preds = []\n",
    "total_preds_all_folds = []\n",
    "oofs = []\n",
    "for ii in tqdm(range(28)):\n",
    "    print(\"Fitting feature\", ii)\n",
    "    new_oof = np.zeros(train_eight.shape[0])\n",
    "    new_oof = new_oof.reshape(-1,1)\n",
    "    feature_preds = 0\n",
    "    feature_preds_list = []\n",
    "    for i in range(4):\n",
    "        val_idx = np.where(cluster4 == i)[0]\n",
    "        trn_idx = np.where(cluster4 != i)[0]\n",
    "        train_x, val_x = train_eight[:,all_good_features[ii]][trn_idx, :], train_eight[:,all_good_features[ii]][val_idx, :]\n",
    "        train_y, val_y = y[:,ii][trn_idx], y[:,ii][val_idx]\n",
    "        clf = LogisticRegression(C=0.2)\n",
    "        clf.fit(train_x, train_y)\n",
    "        oof_preds = clf.predict_proba(val_x)[:,1]\n",
    "        new_oof[val_idx] = oof_preds.reshape(-1,1)\n",
    "        feature_preds += 0.25*clf.predict_proba(np.hstack(folds[i])[:,all_good_features[ii]])[:,1]\n",
    "        feature_preds_list.append(clf.predict_proba(np.hstack(folds[i])[:,all_good_features[ii]])[:,1])\n",
    "            \n",
    "    oofs.append(new_oof)\n",
    "\n",
    "    #scores = [f1_score(y[:,ii], (new_oof > th)*1.,) for th in thresholds_0]\n",
    "    #new_score = np.max(scores)\n",
    "    #best_scores.append(best_score)\n",
    "    #best_thresholds.append((np.argmax(scores)+1)/100.)\n",
    "    \n",
    "    total_preds.append(feature_preds)\n",
    "    total_preds_all_folds.append(feature_preds_list)\n",
    "\n",
    "        "
   ]
  },
  {
   "cell_type": "code",
   "execution_count": 45,
   "metadata": {},
   "outputs": [
    {
     "name": "stderr",
     "output_type": "stream",
     "text": [
      "  0%|          | 0/28 [00:00<?, ?it/s]/Users/btunguz/anaconda3/lib/python3.6/site-packages/sklearn/metrics/classification.py:1143: UndefinedMetricWarning: F-score is ill-defined and being set to 0.0 due to no predicted samples.\n",
      "  'precision', 'predicted', average, warn_for)\n",
      "100%|██████████| 28/28 [03:21<00:00,  7.08s/it]\n"
     ]
    }
   ],
   "source": [
    "thresholds_1000 = np.linspace(0.001, 0.999, 999)\n",
    "best_scores = []\n",
    "best_thresholds = []\n",
    "for ii in tqdm(range(28)):\n",
    "    scores = [f1_score(y[:,ii], (oofs[ii].flatten() > th)*1.,) for th in thresholds_1000]\n",
    "    best_scores.append(np.max(scores))\n",
    "    best_thresholds.append((np.argmax(scores)+1)/1000.)"
   ]
  },
  {
   "cell_type": "code",
   "execution_count": 46,
   "metadata": {},
   "outputs": [
    {
     "data": {
      "text/plain": [
       "0.7723700140846949"
      ]
     },
     "execution_count": 46,
     "metadata": {},
     "output_type": "execute_result"
    }
   ],
   "source": [
    "np.mean(best_scores)"
   ]
  },
  {
   "cell_type": "code",
   "execution_count": 47,
   "metadata": {},
   "outputs": [
    {
     "data": {
      "text/plain": [
       "[0.574,\n",
       " 0.563,\n",
       " 0.492,\n",
       " 0.498,\n",
       " 0.518,\n",
       " 0.476,\n",
       " 0.441,\n",
       " 0.469,\n",
       " 0.016,\n",
       " 0.017,\n",
       " 0.012,\n",
       " 0.276,\n",
       " 0.409,\n",
       " 0.387,\n",
       " 0.608,\n",
       " 0.032,\n",
       " 0.242,\n",
       " 0.247,\n",
       " 0.2,\n",
       " 0.343,\n",
       " 0.416,\n",
       " 0.36,\n",
       " 0.351,\n",
       " 0.511,\n",
       " 0.228,\n",
       " 0.431,\n",
       " 0.325,\n",
       " 0.018]"
      ]
     },
     "execution_count": 47,
     "metadata": {},
     "output_type": "execute_result"
    }
   ],
   "source": [
    "best_thresholds"
   ]
  },
  {
   "cell_type": "code",
   "execution_count": 50,
   "metadata": {},
   "outputs": [],
   "source": [
    "oofs_ar = np.array(np.transpose(oofs))\n",
    "oofs_ar = oofs_ar.reshape((31072, 28))\n",
    "oof_df = pd.DataFrame(data=oofs_ar)\n",
    "oof_df['Id'] = cluster4x_folds['Id']\n",
    "oof_df['cluster4'] = cluster4x_folds['cluster4']"
   ]
  },
  {
   "cell_type": "code",
   "execution_count": 51,
   "metadata": {},
   "outputs": [],
   "source": [
    "all_preds = []\n",
    "\n",
    "for i in range(4):\n",
    "    temp_preds = []\n",
    "    for j in range(28):\n",
    "        temp_preds.append(total_preds_all_folds[j][i])\n",
    "    all_preds.append(pd.DataFrame(data=np.transpose(np.array(temp_preds))))"
   ]
  },
  {
   "cell_type": "code",
   "execution_count": 52,
   "metadata": {},
   "outputs": [],
   "source": [
    "oof_df.to_csv('../../Human_Protein_Atlas/L2_metafeatures/oof_df_LR_2.csv', index=False)"
   ]
  },
  {
   "cell_type": "code",
   "execution_count": 53,
   "metadata": {},
   "outputs": [],
   "source": [
    "for i in range(4):\n",
    "    all_preds[i].to_csv('../../Human_Protein_Atlas/L2_metafeatures/test_preds_LR_2_fold_'+str(i)+'.csv', index=False)"
   ]
  },
  {
   "cell_type": "code",
   "execution_count": null,
   "metadata": {},
   "outputs": [],
   "source": []
  }
 ],
 "metadata": {
  "kernelspec": {
   "display_name": "Python 3",
   "language": "python",
   "name": "python3"
  },
  "language_info": {
   "codemirror_mode": {
    "name": "ipython",
    "version": 3
   },
   "file_extension": ".py",
   "mimetype": "text/x-python",
   "name": "python",
   "nbconvert_exporter": "python",
   "pygments_lexer": "ipython3",
   "version": "3.6.6"
  }
 },
 "nbformat": 4,
 "nbformat_minor": 2
}
