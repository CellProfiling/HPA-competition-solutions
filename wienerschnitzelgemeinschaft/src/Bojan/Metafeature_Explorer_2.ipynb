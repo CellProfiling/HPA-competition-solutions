{
 "cells": [
  {
   "cell_type": "code",
   "execution_count": 1,
   "metadata": {},
   "outputs": [],
   "source": [
    "import numpy as np\n",
    "import pandas as pd\n",
    "from sklearn.metrics import f1_score\n",
    "from scipy.special import logit, expit\n",
    "import pickle"
   ]
  },
  {
   "cell_type": "code",
   "execution_count": 10,
   "metadata": {},
   "outputs": [],
   "source": [
    "glist = ['air_u67', 'airx_u67',\n",
    "           'preresnet_u67','preresnet_u101',\n",
    "           'resnet_w65', 'se_resnext_u29'\n",
    "           ]"
   ]
  },
  {
   "cell_type": "code",
   "execution_count": 11,
   "metadata": {},
   "outputs": [],
   "source": [
    "nfold = 4\n",
    "\n",
    "oof_dir = '../../Human_Protein_Atlas/metafeatures/oof/'"
   ]
  },
  {
   "cell_type": "code",
   "execution_count": 12,
   "metadata": {},
   "outputs": [],
   "source": [
    "\n",
    "PATH_TO_TRAIN = '../../Human_Protein_Atlas/input/train/'\n",
    "PATH_TO_TEST = '../../Human_Protein_Atlas/input/test/'\n",
    "PATH_TO_TARGET = '../../Human_Protein_Atlas/input/train.csv'\n",
    "PATH_TO_SUB = '../../Human_Protein_Atlas/input/sample_submission.csv'"
   ]
  },
  {
   "cell_type": "code",
   "execution_count": 13,
   "metadata": {},
   "outputs": [],
   "source": [
    "sub = pd.read_csv(PATH_TO_SUB)"
   ]
  },
  {
   "cell_type": "code",
   "execution_count": 14,
   "metadata": {},
   "outputs": [
    {
     "data": {
      "text/html": [
       "<div>\n",
       "<style scoped>\n",
       "    .dataframe tbody tr th:only-of-type {\n",
       "        vertical-align: middle;\n",
       "    }\n",
       "\n",
       "    .dataframe tbody tr th {\n",
       "        vertical-align: top;\n",
       "    }\n",
       "\n",
       "    .dataframe thead th {\n",
       "        text-align: right;\n",
       "    }\n",
       "</style>\n",
       "<table border=\"1\" class=\"dataframe\">\n",
       "  <thead>\n",
       "    <tr style=\"text-align: right;\">\n",
       "      <th></th>\n",
       "      <th>Id</th>\n",
       "      <th>Predicted</th>\n",
       "    </tr>\n",
       "  </thead>\n",
       "  <tbody>\n",
       "    <tr>\n",
       "      <th>0</th>\n",
       "      <td>00008af0-bad0-11e8-b2b8-ac1f6b6435d0</td>\n",
       "      <td>0</td>\n",
       "    </tr>\n",
       "    <tr>\n",
       "      <th>1</th>\n",
       "      <td>0000a892-bacf-11e8-b2b8-ac1f6b6435d0</td>\n",
       "      <td>0</td>\n",
       "    </tr>\n",
       "    <tr>\n",
       "      <th>2</th>\n",
       "      <td>0006faa6-bac7-11e8-b2b7-ac1f6b6435d0</td>\n",
       "      <td>0</td>\n",
       "    </tr>\n",
       "    <tr>\n",
       "      <th>3</th>\n",
       "      <td>0008baca-bad7-11e8-b2b9-ac1f6b6435d0</td>\n",
       "      <td>0</td>\n",
       "    </tr>\n",
       "    <tr>\n",
       "      <th>4</th>\n",
       "      <td>000cce7e-bad4-11e8-b2b8-ac1f6b6435d0</td>\n",
       "      <td>0</td>\n",
       "    </tr>\n",
       "  </tbody>\n",
       "</table>\n",
       "</div>"
      ],
      "text/plain": [
       "                                     Id  Predicted\n",
       "0  00008af0-bad0-11e8-b2b8-ac1f6b6435d0          0\n",
       "1  0000a892-bacf-11e8-b2b8-ac1f6b6435d0          0\n",
       "2  0006faa6-bac7-11e8-b2b7-ac1f6b6435d0          0\n",
       "3  0008baca-bad7-11e8-b2b9-ac1f6b6435d0          0\n",
       "4  000cce7e-bad4-11e8-b2b8-ac1f6b6435d0          0"
      ]
     },
     "execution_count": 14,
     "metadata": {},
     "output_type": "execute_result"
    }
   ],
   "source": [
    "sub.head()"
   ]
  },
  {
   "cell_type": "code",
   "execution_count": 15,
   "metadata": {},
   "outputs": [
    {
     "name": "stdout",
     "output_type": "stream",
     "text": [
      "                                       Target\n",
      "Id                                           \n",
      "00070df0-bbc3-11e8-b2bc-ac1f6b6435d0     16 0\n",
      "000a6c98-bb9b-11e8-b2b9-ac1f6b6435d0  7 1 2 0\n",
      "000a9596-bbc4-11e8-b2bc-ac1f6b6435d0        5\n",
      "000c99ba-bba4-11e8-b2b9-ac1f6b6435d0        1\n",
      "001838f8-bbca-11e8-b2bc-ac1f6b6435d0       18\n",
      "(31072, 1)\n"
     ]
    }
   ],
   "source": [
    "df = pd.read_csv(PATH_TO_TARGET)\n",
    "df.set_index('Id',inplace=True)\n",
    "print(df.head())\n",
    "print(df.shape)"
   ]
  },
  {
   "cell_type": "code",
   "execution_count": 16,
   "metadata": {},
   "outputs": [
    {
     "name": "stdout",
     "output_type": "stream",
     "text": [
      "                                      Predicted\n",
      "Id                                             \n",
      "00008af0-bad0-11e8-b2b8-ac1f6b6435d0          0\n",
      "0000a892-bacf-11e8-b2b8-ac1f6b6435d0          0\n",
      "0006faa6-bac7-11e8-b2b7-ac1f6b6435d0          0\n",
      "0008baca-bad7-11e8-b2b9-ac1f6b6435d0          0\n",
      "000cce7e-bad4-11e8-b2b8-ac1f6b6435d0          0\n",
      "(11702, 1)\n"
     ]
    }
   ],
   "source": [
    "file_list = list(df.index.values)\n",
    "\n",
    "ss = pd.read_csv(PATH_TO_SUB)\n",
    "ss.set_index('Id',inplace=True)\n",
    "print(ss.head())\n",
    "print(ss.shape)"
   ]
  },
  {
   "cell_type": "code",
   "execution_count": 17,
   "metadata": {},
   "outputs": [],
   "source": [
    "oof = df.copy()\n",
    "# print(oof.head())\n",
    "# print(oof.shape)\n",
    "eps = 1e-6"
   ]
  },
  {
   "cell_type": "code",
   "execution_count": 18,
   "metadata": {},
   "outputs": [],
   "source": [
    "glist = ['air_u67', 'airx_u67',\n",
    "           'preresnet_u67','preresnet_u101',\n",
    "           'resnet_w65', 'se_resnext_u29'\n",
    "           ]\n",
    "\n",
    "\n",
    "oof = df.copy()\n",
    "# print(oof.head())\n",
    "# print(oof.shape)\n",
    "eps = 1e-6\n",
    "\n",
    "for k,m in enumerate(glist):\n",
    "    # print(m),\n",
    "    first = True\n",
    "    for fold in range(nfold):\n",
    "        idf, pooff, yooff = pickle.load(open(oof_dir+m+'_'+str(fold)+'.pkl','rb'))\n",
    "        # change to probability scale\n",
    "        pooff = expit(pooff)\n",
    "        \n",
    "\n",
    "        if first:\n",
    "            id = idf\n",
    "            poof = pooff.copy()\n",
    "            yoof = yooff.copy()\n",
    "            first = False\n",
    "        else:\n",
    "            id = id + idf\n",
    "            poof = np.concatenate((poof,pooff))\n",
    "            yoof = np.concatenate((yoof,yooff))\n",
    "    \n",
    "    mdf = pd.DataFrame({'Id':id})\n",
    "    # print(poof.shape)\n",
    "    if k==0: mdf['y'] = [yoof[i] for i in range(yoof.shape[0])]\n",
    "    mdf[m] = [poof[i] for i in range(poof.shape[0])]\n",
    "    mdf.set_index('Id',inplace=True)\n",
    "    oof = oof.join(mdf)"
   ]
  },
  {
   "cell_type": "code",
   "execution_count": 19,
   "metadata": {},
   "outputs": [
    {
     "data": {
      "text/plain": [
       "(31072, 8)"
      ]
     },
     "execution_count": 19,
     "metadata": {},
     "output_type": "execute_result"
    }
   ],
   "source": [
    "oof.shape"
   ]
  },
  {
   "cell_type": "code",
   "execution_count": 20,
   "metadata": {},
   "outputs": [
    {
     "data": {
      "text/html": [
       "<div>\n",
       "<style scoped>\n",
       "    .dataframe tbody tr th:only-of-type {\n",
       "        vertical-align: middle;\n",
       "    }\n",
       "\n",
       "    .dataframe tbody tr th {\n",
       "        vertical-align: top;\n",
       "    }\n",
       "\n",
       "    .dataframe thead th {\n",
       "        text-align: right;\n",
       "    }\n",
       "</style>\n",
       "<table border=\"1\" class=\"dataframe\">\n",
       "  <thead>\n",
       "    <tr style=\"text-align: right;\">\n",
       "      <th></th>\n",
       "      <th>Target</th>\n",
       "      <th>y</th>\n",
       "      <th>air_u67</th>\n",
       "      <th>airx_u67</th>\n",
       "      <th>preresnet_u67</th>\n",
       "      <th>preresnet_u101</th>\n",
       "      <th>resnet_w65</th>\n",
       "      <th>se_resnext_u29</th>\n",
       "    </tr>\n",
       "    <tr>\n",
       "      <th>Id</th>\n",
       "      <th></th>\n",
       "      <th></th>\n",
       "      <th></th>\n",
       "      <th></th>\n",
       "      <th></th>\n",
       "      <th></th>\n",
       "      <th></th>\n",
       "      <th></th>\n",
       "    </tr>\n",
       "  </thead>\n",
       "  <tbody>\n",
       "    <tr>\n",
       "      <th>00070df0-bbc3-11e8-b2bc-ac1f6b6435d0</th>\n",
       "      <td>16 0</td>\n",
       "      <td>[1.0, 0.0, 0.0, 0.0, 0.0, 0.0, 0.0, 0.0, 0.0, ...</td>\n",
       "      <td>[[[0.9552974]], [[0.011893719]], [[0.02456743]...</td>\n",
       "      <td>[[[0.978872]], [[0.018665675]], [[0.018864695]...</td>\n",
       "      <td>[[[0.9008]], [[0.04977778]], [[0.06152666]], [...</td>\n",
       "      <td>[[[0.9928462]], [[0.0033091686]], [[0.02205755...</td>\n",
       "      <td>[[[0.9949687]], [[0.008769571]], [[0.05128505]...</td>\n",
       "      <td>[[[0.99430543]], [[0.016006052]], [[0.02002830...</td>\n",
       "    </tr>\n",
       "    <tr>\n",
       "      <th>000a6c98-bb9b-11e8-b2b9-ac1f6b6435d0</th>\n",
       "      <td>7 1 2 0</td>\n",
       "      <td>[1.0, 1.0, 1.0, 0.0, 0.0, 0.0, 0.0, 1.0, 0.0, ...</td>\n",
       "      <td>[[[0.97475284]], [[0.9937784]], [[0.37172255]]...</td>\n",
       "      <td>[[[0.9416815]], [[0.9996081]], [[0.13789588]],...</td>\n",
       "      <td>[[[0.7416709]], [[0.99948597]], [[0.072097324]...</td>\n",
       "      <td>[[[0.8883914]], [[0.99836713]], [[0.21986316]]...</td>\n",
       "      <td>[[[0.9355388]], [[0.99766314]], [[0.25203508]]...</td>\n",
       "      <td>[[[0.7101919]], [[0.969549]], [[0.27546024]], ...</td>\n",
       "    </tr>\n",
       "    <tr>\n",
       "      <th>000a9596-bbc4-11e8-b2bc-ac1f6b6435d0</th>\n",
       "      <td>5</td>\n",
       "      <td>[0.0, 0.0, 0.0, 0.0, 0.0, 1.0, 0.0, 0.0, 0.0, ...</td>\n",
       "      <td>[[[0.9680168]], [[0.0082058655]], [[0.29154035...</td>\n",
       "      <td>[[[0.92289203]], [[0.0016525302]], [[0.3881246...</td>\n",
       "      <td>[[[0.9560007]], [[0.0061894692]], [[0.3604504]...</td>\n",
       "      <td>[[[0.93580484]], [[0.037184846]], [[0.48354197...</td>\n",
       "      <td>[[[0.89877224]], [[0.007357184]], [[0.47415993...</td>\n",
       "      <td>[[[0.9792124]], [[0.017325625]], [[0.5496751]]...</td>\n",
       "    </tr>\n",
       "    <tr>\n",
       "      <th>000c99ba-bba4-11e8-b2b9-ac1f6b6435d0</th>\n",
       "      <td>1</td>\n",
       "      <td>[0.0, 1.0, 0.0, 0.0, 0.0, 0.0, 0.0, 0.0, 0.0, ...</td>\n",
       "      <td>[[[0.9572456]], [[0.99069935]], [[0.05033453]]...</td>\n",
       "      <td>[[[0.82916695]], [[0.9932394]], [[0.038969096]...</td>\n",
       "      <td>[[[0.31696457]], [[0.99046564]], [[0.003620990...</td>\n",
       "      <td>[[[0.90816665]], [[0.998226]], [[0.04174795]],...</td>\n",
       "      <td>[[[0.9247875]], [[0.9722527]], [[0.03123361]],...</td>\n",
       "      <td>[[[0.846639]], [[0.99171513]], [[0.06439011]],...</td>\n",
       "    </tr>\n",
       "    <tr>\n",
       "      <th>001838f8-bbca-11e8-b2bc-ac1f6b6435d0</th>\n",
       "      <td>18</td>\n",
       "      <td>[0.0, 0.0, 0.0, 0.0, 0.0, 0.0, 0.0, 0.0, 0.0, ...</td>\n",
       "      <td>[[[0.184256]], [[0.0006398597]], [[0.014315954...</td>\n",
       "      <td>[[[0.4236294]], [[0.0005882182]], [[0.00424228...</td>\n",
       "      <td>[[[0.037844375]], [[0.00064213324]], [[0.00495...</td>\n",
       "      <td>[[[0.6757472]], [[0.0011689868]], [[0.01058629...</td>\n",
       "      <td>[[[0.12146013]], [[0.000605252]], [[0.04767052...</td>\n",
       "      <td>[[[0.5738917]], [[0.0033817638]], [[0.01807783...</td>\n",
       "    </tr>\n",
       "  </tbody>\n",
       "</table>\n",
       "</div>"
      ],
      "text/plain": [
       "                                       Target  \\\n",
       "Id                                              \n",
       "00070df0-bbc3-11e8-b2bc-ac1f6b6435d0     16 0   \n",
       "000a6c98-bb9b-11e8-b2b9-ac1f6b6435d0  7 1 2 0   \n",
       "000a9596-bbc4-11e8-b2bc-ac1f6b6435d0        5   \n",
       "000c99ba-bba4-11e8-b2b9-ac1f6b6435d0        1   \n",
       "001838f8-bbca-11e8-b2bc-ac1f6b6435d0       18   \n",
       "\n",
       "                                                                                      y  \\\n",
       "Id                                                                                        \n",
       "00070df0-bbc3-11e8-b2bc-ac1f6b6435d0  [1.0, 0.0, 0.0, 0.0, 0.0, 0.0, 0.0, 0.0, 0.0, ...   \n",
       "000a6c98-bb9b-11e8-b2b9-ac1f6b6435d0  [1.0, 1.0, 1.0, 0.0, 0.0, 0.0, 0.0, 1.0, 0.0, ...   \n",
       "000a9596-bbc4-11e8-b2bc-ac1f6b6435d0  [0.0, 0.0, 0.0, 0.0, 0.0, 1.0, 0.0, 0.0, 0.0, ...   \n",
       "000c99ba-bba4-11e8-b2b9-ac1f6b6435d0  [0.0, 1.0, 0.0, 0.0, 0.0, 0.0, 0.0, 0.0, 0.0, ...   \n",
       "001838f8-bbca-11e8-b2bc-ac1f6b6435d0  [0.0, 0.0, 0.0, 0.0, 0.0, 0.0, 0.0, 0.0, 0.0, ...   \n",
       "\n",
       "                                                                                air_u67  \\\n",
       "Id                                                                                        \n",
       "00070df0-bbc3-11e8-b2bc-ac1f6b6435d0  [[[0.9552974]], [[0.011893719]], [[0.02456743]...   \n",
       "000a6c98-bb9b-11e8-b2b9-ac1f6b6435d0  [[[0.97475284]], [[0.9937784]], [[0.37172255]]...   \n",
       "000a9596-bbc4-11e8-b2bc-ac1f6b6435d0  [[[0.9680168]], [[0.0082058655]], [[0.29154035...   \n",
       "000c99ba-bba4-11e8-b2b9-ac1f6b6435d0  [[[0.9572456]], [[0.99069935]], [[0.05033453]]...   \n",
       "001838f8-bbca-11e8-b2bc-ac1f6b6435d0  [[[0.184256]], [[0.0006398597]], [[0.014315954...   \n",
       "\n",
       "                                                                               airx_u67  \\\n",
       "Id                                                                                        \n",
       "00070df0-bbc3-11e8-b2bc-ac1f6b6435d0  [[[0.978872]], [[0.018665675]], [[0.018864695]...   \n",
       "000a6c98-bb9b-11e8-b2b9-ac1f6b6435d0  [[[0.9416815]], [[0.9996081]], [[0.13789588]],...   \n",
       "000a9596-bbc4-11e8-b2bc-ac1f6b6435d0  [[[0.92289203]], [[0.0016525302]], [[0.3881246...   \n",
       "000c99ba-bba4-11e8-b2b9-ac1f6b6435d0  [[[0.82916695]], [[0.9932394]], [[0.038969096]...   \n",
       "001838f8-bbca-11e8-b2bc-ac1f6b6435d0  [[[0.4236294]], [[0.0005882182]], [[0.00424228...   \n",
       "\n",
       "                                                                          preresnet_u67  \\\n",
       "Id                                                                                        \n",
       "00070df0-bbc3-11e8-b2bc-ac1f6b6435d0  [[[0.9008]], [[0.04977778]], [[0.06152666]], [...   \n",
       "000a6c98-bb9b-11e8-b2b9-ac1f6b6435d0  [[[0.7416709]], [[0.99948597]], [[0.072097324]...   \n",
       "000a9596-bbc4-11e8-b2bc-ac1f6b6435d0  [[[0.9560007]], [[0.0061894692]], [[0.3604504]...   \n",
       "000c99ba-bba4-11e8-b2b9-ac1f6b6435d0  [[[0.31696457]], [[0.99046564]], [[0.003620990...   \n",
       "001838f8-bbca-11e8-b2bc-ac1f6b6435d0  [[[0.037844375]], [[0.00064213324]], [[0.00495...   \n",
       "\n",
       "                                                                         preresnet_u101  \\\n",
       "Id                                                                                        \n",
       "00070df0-bbc3-11e8-b2bc-ac1f6b6435d0  [[[0.9928462]], [[0.0033091686]], [[0.02205755...   \n",
       "000a6c98-bb9b-11e8-b2b9-ac1f6b6435d0  [[[0.8883914]], [[0.99836713]], [[0.21986316]]...   \n",
       "000a9596-bbc4-11e8-b2bc-ac1f6b6435d0  [[[0.93580484]], [[0.037184846]], [[0.48354197...   \n",
       "000c99ba-bba4-11e8-b2b9-ac1f6b6435d0  [[[0.90816665]], [[0.998226]], [[0.04174795]],...   \n",
       "001838f8-bbca-11e8-b2bc-ac1f6b6435d0  [[[0.6757472]], [[0.0011689868]], [[0.01058629...   \n",
       "\n",
       "                                                                             resnet_w65  \\\n",
       "Id                                                                                        \n",
       "00070df0-bbc3-11e8-b2bc-ac1f6b6435d0  [[[0.9949687]], [[0.008769571]], [[0.05128505]...   \n",
       "000a6c98-bb9b-11e8-b2b9-ac1f6b6435d0  [[[0.9355388]], [[0.99766314]], [[0.25203508]]...   \n",
       "000a9596-bbc4-11e8-b2bc-ac1f6b6435d0  [[[0.89877224]], [[0.007357184]], [[0.47415993...   \n",
       "000c99ba-bba4-11e8-b2b9-ac1f6b6435d0  [[[0.9247875]], [[0.9722527]], [[0.03123361]],...   \n",
       "001838f8-bbca-11e8-b2bc-ac1f6b6435d0  [[[0.12146013]], [[0.000605252]], [[0.04767052...   \n",
       "\n",
       "                                                                         se_resnext_u29  \n",
       "Id                                                                                       \n",
       "00070df0-bbc3-11e8-b2bc-ac1f6b6435d0  [[[0.99430543]], [[0.016006052]], [[0.02002830...  \n",
       "000a6c98-bb9b-11e8-b2b9-ac1f6b6435d0  [[[0.7101919]], [[0.969549]], [[0.27546024]], ...  \n",
       "000a9596-bbc4-11e8-b2bc-ac1f6b6435d0  [[[0.9792124]], [[0.017325625]], [[0.5496751]]...  \n",
       "000c99ba-bba4-11e8-b2b9-ac1f6b6435d0  [[[0.846639]], [[0.99171513]], [[0.06439011]],...  \n",
       "001838f8-bbca-11e8-b2bc-ac1f6b6435d0  [[[0.5738917]], [[0.0033817638]], [[0.01807783...  "
      ]
     },
     "execution_count": 20,
     "metadata": {},
     "output_type": "execute_result"
    }
   ],
   "source": [
    "oof.head()"
   ]
  },
  {
   "cell_type": "code",
   "execution_count": 21,
   "metadata": {},
   "outputs": [],
   "source": [
    "y = np.array(oof.y.values.tolist())"
   ]
  },
  {
   "cell_type": "code",
   "execution_count": 22,
   "metadata": {},
   "outputs": [
    {
     "data": {
      "text/plain": [
       "(31072, 28)"
      ]
     },
     "execution_count": 22,
     "metadata": {},
     "output_type": "execute_result"
    }
   ],
   "source": [
    "y.shape"
   ]
  },
  {
   "cell_type": "code",
   "execution_count": 23,
   "metadata": {},
   "outputs": [
    {
     "name": "stdout",
     "output_type": "stream",
     "text": [
      "[4.1468203e-01 4.0357880e-02 1.1653579e-01 5.0238155e-02 5.9796602e-02\n",
      " 8.0876671e-02 3.2440782e-02 9.0821318e-02 1.7057158e-03 1.4482492e-03\n",
      " 9.0113288e-04 3.5176363e-02 2.2142122e-02 1.7282441e-02 3.4307417e-02\n",
      " 6.7584962e-04 1.7057158e-02 6.7584962e-03 2.9029351e-02 4.7695674e-02\n",
      " 5.5355304e-03 1.2155639e-01 2.5811020e-02 9.5423535e-02 1.0363027e-02\n",
      " 2.6480433e-01 1.0556128e-02 3.5401649e-04]\n"
     ]
    }
   ],
   "source": [
    "\n",
    "ymean = np.mean(y,axis=0)\n",
    "print(ymean)"
   ]
  },
  {
   "cell_type": "code",
   "execution_count": 24,
   "metadata": {},
   "outputs": [],
   "source": [
    "thresholds =np.transpose(np.array([list(np.linspace(0.01,0.99, 99))]*28))"
   ]
  },
  {
   "cell_type": "code",
   "execution_count": 25,
   "metadata": {},
   "outputs": [
    {
     "data": {
      "text/plain": [
       "0.7108776996492326"
      ]
     },
     "execution_count": 25,
     "metadata": {},
     "output_type": "execute_result"
    }
   ],
   "source": [
    "air_u67 = np.array(oof.air_u67.values.tolist())\n",
    "\n",
    "air_u67 = air_u67.reshape((31072, 28))\n",
    "Big_Tensor = (air_u67[:,np.newaxis] > thresholds)*1.\n",
    "Final_Tensor = [f1_score(y, Big_Tensor[:,x,:], average=None) for x in range(99)]\n",
    "np.max(Final_Tensor, axis=0).mean()"
   ]
  },
  {
   "cell_type": "code",
   "execution_count": 26,
   "metadata": {},
   "outputs": [
    {
     "data": {
      "text/plain": [
       "0.7141724152027961"
      ]
     },
     "execution_count": 26,
     "metadata": {},
     "output_type": "execute_result"
    }
   ],
   "source": [
    "airx_u67 = np.array(oof.airx_u67.values.tolist())\n",
    "\n",
    "airx_u67 = airx_u67.reshape((31072, 28))\n",
    "Big_Tensor = (airx_u67[:,np.newaxis] > thresholds)*1.\n",
    "Final_Tensor = [f1_score(y, Big_Tensor[:,x,:], average=None) for x in range(99)]\n",
    "np.max(Final_Tensor, axis=0).mean()"
   ]
  },
  {
   "cell_type": "code",
   "execution_count": 27,
   "metadata": {},
   "outputs": [],
   "source": [
    "preresnet_u67 = np.array(oof.preresnet_u67.values.tolist())\n",
    "preresnet_u101 = np.array(oof.preresnet_u101.values.tolist())\n",
    "preresnet_u67 = preresnet_u67.reshape((31072, 28))\n",
    "preresnet_u101 = preresnet_u101.reshape((31072, 28))"
   ]
  },
  {
   "cell_type": "code",
   "execution_count": 28,
   "metadata": {},
   "outputs": [
    {
     "data": {
      "text/plain": [
       "0.7092749679908568"
      ]
     },
     "execution_count": 28,
     "metadata": {},
     "output_type": "execute_result"
    }
   ],
   "source": [
    "Big_Tensor = (preresnet_u67[:,np.newaxis] > thresholds)*1.\n",
    "Final_Tensor = [f1_score(y, Big_Tensor[:,x,:], average=None) for x in range(99)]\n",
    "Final_Tensor = np.array(Final_Tensor)\n",
    "np.max(Final_Tensor, axis=0).mean()"
   ]
  },
  {
   "cell_type": "code",
   "execution_count": 29,
   "metadata": {},
   "outputs": [
    {
     "data": {
      "text/plain": [
       "0.7056871990007961"
      ]
     },
     "execution_count": 29,
     "metadata": {},
     "output_type": "execute_result"
    }
   ],
   "source": [
    "Big_Tensor = (preresnet_u101[:,np.newaxis] > thresholds)*1.\n",
    "Final_Tensor = [f1_score(y, Big_Tensor[:,x,:], average=None) for x in range(99)]\n",
    "Final_Tensor = np.array(Final_Tensor)\n",
    "np.max(Final_Tensor, axis=0).mean()"
   ]
  },
  {
   "cell_type": "code",
   "execution_count": 30,
   "metadata": {},
   "outputs": [],
   "source": [
    "se_resnext_u29 = np.array(oof.se_resnext_u29.values.tolist())\n",
    "resnet_w65 = np.array(oof.resnet_w65.values.tolist())\n",
    "se_resnext_u29 = se_resnext_u29.reshape((31072, 28))\n",
    "resnet_w65 = resnet_w65.reshape((31072, 28))"
   ]
  },
  {
   "cell_type": "code",
   "execution_count": 31,
   "metadata": {},
   "outputs": [
    {
     "data": {
      "text/plain": [
       "0.7015426593208052"
      ]
     },
     "execution_count": 31,
     "metadata": {},
     "output_type": "execute_result"
    }
   ],
   "source": [
    "Big_Tensor = (se_resnext_u29[:,np.newaxis] > thresholds)*1.\n",
    "Final_Tensor = [f1_score(y, Big_Tensor[:,x,:], average=None) for x in range(99)]\n",
    "Final_Tensor = np.array(Final_Tensor)\n",
    "np.max(Final_Tensor, axis=0).mean()"
   ]
  },
  {
   "cell_type": "code",
   "execution_count": 32,
   "metadata": {},
   "outputs": [
    {
     "data": {
      "text/plain": [
       "0.7088338470137628"
      ]
     },
     "execution_count": 32,
     "metadata": {},
     "output_type": "execute_result"
    }
   ],
   "source": [
    "Big_Tensor = (resnet_w65[:,np.newaxis] > thresholds)*1.\n",
    "Final_Tensor = [f1_score(y, Big_Tensor[:,x,:], average=None) for x in range(99)]\n",
    "Final_Tensor = np.array(Final_Tensor)\n",
    "np.max(Final_Tensor, axis=0).mean()"
   ]
  },
  {
   "cell_type": "code",
   "execution_count": 33,
   "metadata": {},
   "outputs": [],
   "source": [
    "thresholds_0 = np.linspace(0.01, 0.99, 99)"
   ]
  },
  {
   "cell_type": "code",
   "execution_count": 34,
   "metadata": {},
   "outputs": [],
   "source": [
    "pred0 = np.load('../../Human_Protein_Atlas/metafeatures/oof/GAPNet_14_ext/pred0.npy')\n",
    "pred1 = np.load('../../Human_Protein_Atlas/metafeatures/oof/GAPNet_14_ext/pred1.npy')\n",
    "pred2 = np.load('../../Human_Protein_Atlas/metafeatures/oof/GAPNet_14_ext/pred2.npy')\n",
    "pred3 = np.load('../../Human_Protein_Atlas/metafeatures/oof/GAPNet_14_ext/pred3.npy')"
   ]
  },
  {
   "cell_type": "code",
   "execution_count": 36,
   "metadata": {},
   "outputs": [
    {
     "data": {
      "text/plain": [
       "(11702, 28)"
      ]
     },
     "execution_count": 36,
     "metadata": {},
     "output_type": "execute_result"
    }
   ],
   "source": [
    "pred1.shape"
   ]
  },
  {
   "cell_type": "code",
   "execution_count": 37,
   "metadata": {},
   "outputs": [],
   "source": [
    "thresholds_0 = np.linspace(0.01, 0.99, 99)\n",
    "train_six = np.hstack((air_u67, airx_u67, preresnet_u67, preresnet_u101, resnet_w65, se_resnext_u29))\n",
    "train_six.shape"
   ]
  },
  {
   "cell_type": "code",
   "execution_count": 38,
   "metadata": {},
   "outputs": [
    {
     "data": {
      "text/plain": [
       "(31072, 168)"
      ]
     },
     "execution_count": 38,
     "metadata": {},
     "output_type": "execute_result"
    }
   ],
   "source": [
    "train_six.shape"
   ]
  },
  {
   "cell_type": "code",
   "execution_count": 39,
   "metadata": {},
   "outputs": [],
   "source": [
    "cluster4x_folds = pd.read_csv('../Russ/cluster4x_folds.csv')"
   ]
  },
  {
   "cell_type": "code",
   "execution_count": 40,
   "metadata": {},
   "outputs": [
    {
     "data": {
      "text/html": [
       "<div>\n",
       "<style scoped>\n",
       "    .dataframe tbody tr th:only-of-type {\n",
       "        vertical-align: middle;\n",
       "    }\n",
       "\n",
       "    .dataframe tbody tr th {\n",
       "        vertical-align: top;\n",
       "    }\n",
       "\n",
       "    .dataframe thead th {\n",
       "        text-align: right;\n",
       "    }\n",
       "</style>\n",
       "<table border=\"1\" class=\"dataframe\">\n",
       "  <thead>\n",
       "    <tr style=\"text-align: right;\">\n",
       "      <th></th>\n",
       "      <th>Id</th>\n",
       "      <th>cluster4</th>\n",
       "    </tr>\n",
       "  </thead>\n",
       "  <tbody>\n",
       "    <tr>\n",
       "      <th>0</th>\n",
       "      <td>00070df0-bbc3-11e8-b2bc-ac1f6b6435d0</td>\n",
       "      <td>0</td>\n",
       "    </tr>\n",
       "    <tr>\n",
       "      <th>1</th>\n",
       "      <td>000a6c98-bb9b-11e8-b2b9-ac1f6b6435d0</td>\n",
       "      <td>1</td>\n",
       "    </tr>\n",
       "    <tr>\n",
       "      <th>2</th>\n",
       "      <td>000a9596-bbc4-11e8-b2bc-ac1f6b6435d0</td>\n",
       "      <td>1</td>\n",
       "    </tr>\n",
       "    <tr>\n",
       "      <th>3</th>\n",
       "      <td>000c99ba-bba4-11e8-b2b9-ac1f6b6435d0</td>\n",
       "      <td>0</td>\n",
       "    </tr>\n",
       "    <tr>\n",
       "      <th>4</th>\n",
       "      <td>001838f8-bbca-11e8-b2bc-ac1f6b6435d0</td>\n",
       "      <td>3</td>\n",
       "    </tr>\n",
       "  </tbody>\n",
       "</table>\n",
       "</div>"
      ],
      "text/plain": [
       "                                     Id  cluster4\n",
       "0  00070df0-bbc3-11e8-b2bc-ac1f6b6435d0         0\n",
       "1  000a6c98-bb9b-11e8-b2b9-ac1f6b6435d0         1\n",
       "2  000a9596-bbc4-11e8-b2bc-ac1f6b6435d0         1\n",
       "3  000c99ba-bba4-11e8-b2b9-ac1f6b6435d0         0\n",
       "4  001838f8-bbca-11e8-b2bc-ac1f6b6435d0         3"
      ]
     },
     "execution_count": 40,
     "metadata": {},
     "output_type": "execute_result"
    }
   ],
   "source": [
    "cluster4x_folds.head()"
   ]
  },
  {
   "cell_type": "code",
   "execution_count": 41,
   "metadata": {},
   "outputs": [
    {
     "data": {
      "text/plain": [
       "(array([0, 1, 2, 3]), array([ 9970, 15381, 13030, 18620]))"
      ]
     },
     "execution_count": 41,
     "metadata": {},
     "output_type": "execute_result"
    }
   ],
   "source": [
    "np.unique(cluster4x_folds.cluster4.values, return_counts=True)"
   ]
  },
  {
   "cell_type": "code",
   "execution_count": 42,
   "metadata": {},
   "outputs": [],
   "source": [
    "oof_folds = oof.merge(cluster4x_folds, on='Id')"
   ]
  },
  {
   "cell_type": "code",
   "execution_count": 43,
   "metadata": {},
   "outputs": [
    {
     "data": {
      "text/html": [
       "<div>\n",
       "<style scoped>\n",
       "    .dataframe tbody tr th:only-of-type {\n",
       "        vertical-align: middle;\n",
       "    }\n",
       "\n",
       "    .dataframe tbody tr th {\n",
       "        vertical-align: top;\n",
       "    }\n",
       "\n",
       "    .dataframe thead th {\n",
       "        text-align: right;\n",
       "    }\n",
       "</style>\n",
       "<table border=\"1\" class=\"dataframe\">\n",
       "  <thead>\n",
       "    <tr style=\"text-align: right;\">\n",
       "      <th></th>\n",
       "      <th>Id</th>\n",
       "      <th>Target</th>\n",
       "      <th>y</th>\n",
       "      <th>air_u67</th>\n",
       "      <th>airx_u67</th>\n",
       "      <th>preresnet_u67</th>\n",
       "      <th>preresnet_u101</th>\n",
       "      <th>resnet_w65</th>\n",
       "      <th>se_resnext_u29</th>\n",
       "      <th>cluster4</th>\n",
       "    </tr>\n",
       "  </thead>\n",
       "  <tbody>\n",
       "    <tr>\n",
       "      <th>0</th>\n",
       "      <td>00070df0-bbc3-11e8-b2bc-ac1f6b6435d0</td>\n",
       "      <td>16 0</td>\n",
       "      <td>[1.0, 0.0, 0.0, 0.0, 0.0, 0.0, 0.0, 0.0, 0.0, ...</td>\n",
       "      <td>[[[0.9552974]], [[0.011893719]], [[0.02456743]...</td>\n",
       "      <td>[[[0.978872]], [[0.018665675]], [[0.018864695]...</td>\n",
       "      <td>[[[0.9008]], [[0.04977778]], [[0.06152666]], [...</td>\n",
       "      <td>[[[0.9928462]], [[0.0033091686]], [[0.02205755...</td>\n",
       "      <td>[[[0.9949687]], [[0.008769571]], [[0.05128505]...</td>\n",
       "      <td>[[[0.99430543]], [[0.016006052]], [[0.02002830...</td>\n",
       "      <td>0</td>\n",
       "    </tr>\n",
       "    <tr>\n",
       "      <th>1</th>\n",
       "      <td>000a6c98-bb9b-11e8-b2b9-ac1f6b6435d0</td>\n",
       "      <td>7 1 2 0</td>\n",
       "      <td>[1.0, 1.0, 1.0, 0.0, 0.0, 0.0, 0.0, 1.0, 0.0, ...</td>\n",
       "      <td>[[[0.97475284]], [[0.9937784]], [[0.37172255]]...</td>\n",
       "      <td>[[[0.9416815]], [[0.9996081]], [[0.13789588]],...</td>\n",
       "      <td>[[[0.7416709]], [[0.99948597]], [[0.072097324]...</td>\n",
       "      <td>[[[0.8883914]], [[0.99836713]], [[0.21986316]]...</td>\n",
       "      <td>[[[0.9355388]], [[0.99766314]], [[0.25203508]]...</td>\n",
       "      <td>[[[0.7101919]], [[0.969549]], [[0.27546024]], ...</td>\n",
       "      <td>1</td>\n",
       "    </tr>\n",
       "    <tr>\n",
       "      <th>2</th>\n",
       "      <td>000a9596-bbc4-11e8-b2bc-ac1f6b6435d0</td>\n",
       "      <td>5</td>\n",
       "      <td>[0.0, 0.0, 0.0, 0.0, 0.0, 1.0, 0.0, 0.0, 0.0, ...</td>\n",
       "      <td>[[[0.9680168]], [[0.0082058655]], [[0.29154035...</td>\n",
       "      <td>[[[0.92289203]], [[0.0016525302]], [[0.3881246...</td>\n",
       "      <td>[[[0.9560007]], [[0.0061894692]], [[0.3604504]...</td>\n",
       "      <td>[[[0.93580484]], [[0.037184846]], [[0.48354197...</td>\n",
       "      <td>[[[0.89877224]], [[0.007357184]], [[0.47415993...</td>\n",
       "      <td>[[[0.9792124]], [[0.017325625]], [[0.5496751]]...</td>\n",
       "      <td>1</td>\n",
       "    </tr>\n",
       "    <tr>\n",
       "      <th>3</th>\n",
       "      <td>000c99ba-bba4-11e8-b2b9-ac1f6b6435d0</td>\n",
       "      <td>1</td>\n",
       "      <td>[0.0, 1.0, 0.0, 0.0, 0.0, 0.0, 0.0, 0.0, 0.0, ...</td>\n",
       "      <td>[[[0.9572456]], [[0.99069935]], [[0.05033453]]...</td>\n",
       "      <td>[[[0.82916695]], [[0.9932394]], [[0.038969096]...</td>\n",
       "      <td>[[[0.31696457]], [[0.99046564]], [[0.003620990...</td>\n",
       "      <td>[[[0.90816665]], [[0.998226]], [[0.04174795]],...</td>\n",
       "      <td>[[[0.9247875]], [[0.9722527]], [[0.03123361]],...</td>\n",
       "      <td>[[[0.846639]], [[0.99171513]], [[0.06439011]],...</td>\n",
       "      <td>0</td>\n",
       "    </tr>\n",
       "    <tr>\n",
       "      <th>4</th>\n",
       "      <td>001838f8-bbca-11e8-b2bc-ac1f6b6435d0</td>\n",
       "      <td>18</td>\n",
       "      <td>[0.0, 0.0, 0.0, 0.0, 0.0, 0.0, 0.0, 0.0, 0.0, ...</td>\n",
       "      <td>[[[0.184256]], [[0.0006398597]], [[0.014315954...</td>\n",
       "      <td>[[[0.4236294]], [[0.0005882182]], [[0.00424228...</td>\n",
       "      <td>[[[0.037844375]], [[0.00064213324]], [[0.00495...</td>\n",
       "      <td>[[[0.6757472]], [[0.0011689868]], [[0.01058629...</td>\n",
       "      <td>[[[0.12146013]], [[0.000605252]], [[0.04767052...</td>\n",
       "      <td>[[[0.5738917]], [[0.0033817638]], [[0.01807783...</td>\n",
       "      <td>3</td>\n",
       "    </tr>\n",
       "  </tbody>\n",
       "</table>\n",
       "</div>"
      ],
      "text/plain": [
       "                                     Id   Target  \\\n",
       "0  00070df0-bbc3-11e8-b2bc-ac1f6b6435d0     16 0   \n",
       "1  000a6c98-bb9b-11e8-b2b9-ac1f6b6435d0  7 1 2 0   \n",
       "2  000a9596-bbc4-11e8-b2bc-ac1f6b6435d0        5   \n",
       "3  000c99ba-bba4-11e8-b2b9-ac1f6b6435d0        1   \n",
       "4  001838f8-bbca-11e8-b2bc-ac1f6b6435d0       18   \n",
       "\n",
       "                                                   y  \\\n",
       "0  [1.0, 0.0, 0.0, 0.0, 0.0, 0.0, 0.0, 0.0, 0.0, ...   \n",
       "1  [1.0, 1.0, 1.0, 0.0, 0.0, 0.0, 0.0, 1.0, 0.0, ...   \n",
       "2  [0.0, 0.0, 0.0, 0.0, 0.0, 1.0, 0.0, 0.0, 0.0, ...   \n",
       "3  [0.0, 1.0, 0.0, 0.0, 0.0, 0.0, 0.0, 0.0, 0.0, ...   \n",
       "4  [0.0, 0.0, 0.0, 0.0, 0.0, 0.0, 0.0, 0.0, 0.0, ...   \n",
       "\n",
       "                                             air_u67  \\\n",
       "0  [[[0.9552974]], [[0.011893719]], [[0.02456743]...   \n",
       "1  [[[0.97475284]], [[0.9937784]], [[0.37172255]]...   \n",
       "2  [[[0.9680168]], [[0.0082058655]], [[0.29154035...   \n",
       "3  [[[0.9572456]], [[0.99069935]], [[0.05033453]]...   \n",
       "4  [[[0.184256]], [[0.0006398597]], [[0.014315954...   \n",
       "\n",
       "                                            airx_u67  \\\n",
       "0  [[[0.978872]], [[0.018665675]], [[0.018864695]...   \n",
       "1  [[[0.9416815]], [[0.9996081]], [[0.13789588]],...   \n",
       "2  [[[0.92289203]], [[0.0016525302]], [[0.3881246...   \n",
       "3  [[[0.82916695]], [[0.9932394]], [[0.038969096]...   \n",
       "4  [[[0.4236294]], [[0.0005882182]], [[0.00424228...   \n",
       "\n",
       "                                       preresnet_u67  \\\n",
       "0  [[[0.9008]], [[0.04977778]], [[0.06152666]], [...   \n",
       "1  [[[0.7416709]], [[0.99948597]], [[0.072097324]...   \n",
       "2  [[[0.9560007]], [[0.0061894692]], [[0.3604504]...   \n",
       "3  [[[0.31696457]], [[0.99046564]], [[0.003620990...   \n",
       "4  [[[0.037844375]], [[0.00064213324]], [[0.00495...   \n",
       "\n",
       "                                      preresnet_u101  \\\n",
       "0  [[[0.9928462]], [[0.0033091686]], [[0.02205755...   \n",
       "1  [[[0.8883914]], [[0.99836713]], [[0.21986316]]...   \n",
       "2  [[[0.93580484]], [[0.037184846]], [[0.48354197...   \n",
       "3  [[[0.90816665]], [[0.998226]], [[0.04174795]],...   \n",
       "4  [[[0.6757472]], [[0.0011689868]], [[0.01058629...   \n",
       "\n",
       "                                          resnet_w65  \\\n",
       "0  [[[0.9949687]], [[0.008769571]], [[0.05128505]...   \n",
       "1  [[[0.9355388]], [[0.99766314]], [[0.25203508]]...   \n",
       "2  [[[0.89877224]], [[0.007357184]], [[0.47415993...   \n",
       "3  [[[0.9247875]], [[0.9722527]], [[0.03123361]],...   \n",
       "4  [[[0.12146013]], [[0.000605252]], [[0.04767052...   \n",
       "\n",
       "                                      se_resnext_u29  cluster4  \n",
       "0  [[[0.99430543]], [[0.016006052]], [[0.02002830...         0  \n",
       "1  [[[0.7101919]], [[0.969549]], [[0.27546024]], ...         1  \n",
       "2  [[[0.9792124]], [[0.017325625]], [[0.5496751]]...         1  \n",
       "3  [[[0.846639]], [[0.99171513]], [[0.06439011]],...         0  \n",
       "4  [[[0.5738917]], [[0.0033817638]], [[0.01807783...         3  "
      ]
     },
     "execution_count": 43,
     "metadata": {},
     "output_type": "execute_result"
    }
   ],
   "source": [
    "oof_folds.head()"
   ]
  },
  {
   "cell_type": "code",
   "execution_count": 44,
   "metadata": {},
   "outputs": [],
   "source": [
    "cluster4 = oof_folds.cluster4.values"
   ]
  },
  {
   "cell_type": "code",
   "execution_count": 45,
   "metadata": {},
   "outputs": [
    {
     "data": {
      "text/plain": [
       "array([1., 0., 1., ..., 1., 0., 0.], dtype=float32)"
      ]
     },
     "execution_count": 45,
     "metadata": {},
     "output_type": "execute_result"
    }
   ],
   "source": [
    "y[:,0][np.where(cluster4 == 0)[0]]"
   ]
  },
  {
   "cell_type": "code",
   "execution_count": 46,
   "metadata": {},
   "outputs": [],
   "source": [
    "from sklearn.linear_model import Ridge"
   ]
  },
  {
   "cell_type": "code",
   "execution_count": 48,
   "metadata": {},
   "outputs": [],
   "source": [
    "new_oof = np.zeros(train_six.shape[0])\n",
    "for i in range(4):\n",
    "    val_idx = np.where(cluster4 == i)[0]\n",
    "    trn_idx = np.where(cluster4 != i)[0]\n",
    "    train_x, val_x = train_six[trn_idx, :], train_six[val_idx, :]\n",
    "    train_y, val_y = y[:,0][trn_idx], y[:,0][val_idx]\n",
    "    clf = Ridge(alpha=0)\n",
    "    clf.fit(train_x, train_y)\n",
    "    oof_preds = clf.predict(val_x)\n",
    "    new_oof[val_idx] = oof_preds\n",
    "    \n"
   ]
  },
  {
   "cell_type": "code",
   "execution_count": 49,
   "metadata": {},
   "outputs": [
    {
     "data": {
      "text/plain": [
       "1.1296746730804443"
      ]
     },
     "execution_count": 49,
     "metadata": {},
     "output_type": "execute_result"
    }
   ],
   "source": [
    "new_oof.max()"
   ]
  },
  {
   "cell_type": "code",
   "execution_count": 50,
   "metadata": {},
   "outputs": [
    {
     "data": {
      "text/plain": [
       "(10771, 168)"
      ]
     },
     "execution_count": 50,
     "metadata": {},
     "output_type": "execute_result"
    }
   ],
   "source": [
    "val_x.shape"
   ]
  },
  {
   "cell_type": "code",
   "execution_count": 51,
   "metadata": {},
   "outputs": [],
   "source": [
    "from sklearn.linear_model import Ridge\n",
    "from sklearn.preprocessing import MinMaxScaler"
   ]
  },
  {
   "cell_type": "code",
   "execution_count": null,
   "metadata": {},
   "outputs": [],
   "source": []
  },
  {
   "cell_type": "code",
   "execution_count": 52,
   "metadata": {},
   "outputs": [],
   "source": [
    "scaler = MinMaxScaler()\n",
    "new_oof = scaler.fit_transform(new_oof.reshape(-1,1))"
   ]
  },
  {
   "cell_type": "code",
   "execution_count": 53,
   "metadata": {},
   "outputs": [
    {
     "data": {
      "text/plain": [
       "1.0"
      ]
     },
     "execution_count": 53,
     "metadata": {},
     "output_type": "execute_result"
    }
   ],
   "source": [
    "new_oof.max()"
   ]
  },
  {
   "cell_type": "code",
   "execution_count": 54,
   "metadata": {},
   "outputs": [
    {
     "data": {
      "text/plain": [
       "0.8423565709248513"
      ]
     },
     "execution_count": 54,
     "metadata": {},
     "output_type": "execute_result"
    }
   ],
   "source": [
    "f1_score(y[:,0], (new_oof > 0.68)*1.)"
   ]
  },
  {
   "cell_type": "code",
   "execution_count": 56,
   "metadata": {},
   "outputs": [
    {
     "data": {
      "text/plain": [
       "0.8341106434611155"
      ]
     },
     "execution_count": 56,
     "metadata": {},
     "output_type": "execute_result"
    }
   ],
   "source": [
    "f1_score(y[:,0], (train_six[:,0] > 0.88)*1.)"
   ]
  },
  {
   "cell_type": "code",
   "execution_count": 58,
   "metadata": {},
   "outputs": [],
   "source": [
    "scores = [f1_score(y[:,0], (new_oof > th)*1.,) for th in thresholds_0]"
   ]
  },
  {
   "cell_type": "code",
   "execution_count": 59,
   "metadata": {},
   "outputs": [
    {
     "data": {
      "text/plain": [
       "0.8423565709248513"
      ]
     },
     "execution_count": 59,
     "metadata": {},
     "output_type": "execute_result"
    }
   ],
   "source": [
    "np.max(scores)"
   ]
  },
  {
   "cell_type": "code",
   "execution_count": 116,
   "metadata": {},
   "outputs": [
    {
     "data": {
      "text/plain": [
       "0.8280603193376701"
      ]
     },
     "execution_count": 116,
     "metadata": {},
     "output_type": "execute_result"
    }
   ],
   "source": [
    "scores = [f1_score(y[:,0], (train_five[:,4*28] > th)*1.,) for th in threshold_0]\n",
    "np.max(scores)"
   ]
  },
  {
   "cell_type": "code",
   "execution_count": 60,
   "metadata": {},
   "outputs": [],
   "source": [
    "from tqdm import tqdm"
   ]
  },
  {
   "cell_type": "code",
   "execution_count": 62,
   "metadata": {},
   "outputs": [
    {
     "name": "stderr",
     "output_type": "stream",
     "text": [
      "  0%|          | 0/28 [00:00<?, ?it/s]"
     ]
    },
    {
     "name": "stdout",
     "output_type": "stream",
     "text": [
      "Fitting feature 0\n",
      "0\n",
      "0.8360929557007989\n",
      "28\n",
      "0.8416567871962062\n",
      "56\n",
      "0.8438464931627702\n",
      "84\n",
      "0.8460675837320574\n",
      "140\n",
      "0.8489261547513974\n",
      "3\n",
      "0.8490343505823381\n",
      "8\n",
      "0.8491101367036369\n",
      "9\n",
      "0.8492262343404569\n",
      "18\n",
      "0.8492848475934845\n",
      "30\n",
      "0.849408033046878\n",
      "41\n",
      "0.8496312684365782\n",
      "50\n",
      "0.8497237569060774\n",
      "63\n",
      "0.8497463056923817\n",
      "64\n",
      "0.8497990190655308\n",
      "67\n",
      "0.8498063087991146\n",
      "68\n",
      "0.8498625659312087\n",
      "78\n",
      "0.8499219504943135\n",
      "81\n",
      "0.8500166771671053\n",
      "82\n",
      "0.8500592943966795\n",
      "83\n",
      "0.850090797909795\n",
      "121\n",
      "0.8501445193804196\n",
      "155\n",
      "0.8501538119417368\n"
     ]
    },
    {
     "name": "stderr",
     "output_type": "stream",
     "text": [
      "  4%|▎         | 1/28 [02:21<1:03:48, 141.79s/it]"
     ]
    },
    {
     "name": "stdout",
     "output_type": "stream",
     "text": [
      "Fitting feature 1\n",
      "1\n",
      "0.834178696839641\n",
      "29\n",
      "0.8453855373551739\n",
      "57\n",
      "0.8505935325419566\n",
      "85\n",
      "0.8531965272296764\n",
      "113\n",
      "0.8542673107890499\n",
      "141\n",
      "0.8618342010412495\n",
      "0\n",
      "0.8631163708086785\n",
      "6\n",
      "0.8639240506329113\n",
      "11\n",
      "0.8641584158415841\n",
      "23\n",
      "0.8646080760095013\n",
      "109\n",
      "0.8648434403487911\n",
      "116\n",
      "0.8651863600317207\n"
     ]
    },
    {
     "name": "stderr",
     "output_type": "stream",
     "text": [
      "  7%|▋         | 2/28 [04:23<58:49, 135.75s/it]  "
     ]
    },
    {
     "name": "stdout",
     "output_type": "stream",
     "text": [
      "Fitting feature 2\n",
      "2\n",
      "0.7938359017076219\n",
      "30\n",
      "0.8091321610890527\n",
      "58\n",
      "0.8126866733039396\n",
      "114\n",
      "0.8161180476730988\n",
      "0\n",
      "0.8170800450958287\n",
      "3\n",
      "0.8175974860734181\n",
      "4\n",
      "0.8177523264137437\n",
      "7\n",
      "0.8181170773394104\n",
      "12\n",
      "0.8181818181818181\n",
      "19\n",
      "0.8184281842818428\n",
      "21\n",
      "0.8186086214255227\n",
      "22\n",
      "0.818766986125018\n",
      "27\n",
      "0.8189359267734554\n",
      "40\n",
      "0.8190394511149228\n",
      "41\n",
      "0.8191048191048191\n",
      "46\n",
      "0.8192736631398342\n",
      "47\n",
      "0.8194940688866658\n",
      "74\n",
      "0.8196627607887969\n",
      "75\n",
      "0.8197799056738603\n",
      "82\n",
      "0.8198314044863554\n",
      "83\n",
      "0.8199343138654862\n",
      "111\n",
      "0.8200000000000001\n",
      "154\n",
      "0.8201685473503786\n"
     ]
    },
    {
     "name": "stderr",
     "output_type": "stream",
     "text": [
      " 11%|█         | 3/28 [06:32<55:46, 133.85s/it]"
     ]
    },
    {
     "name": "stdout",
     "output_type": "stream",
     "text": [
      "Fitting feature 3\n",
      "3\n",
      "0.7400572701240852\n",
      "31\n",
      "0.7633004141446321\n",
      "59\n",
      "0.7693270735524257\n",
      "87\n",
      "0.7699004975124378\n",
      "115\n",
      "0.7719869706840391\n",
      "0\n",
      "0.774886141834743\n",
      "4\n",
      "0.7750325097529258\n",
      "5\n",
      "0.7759241086032057\n",
      "6\n",
      "0.7766233766233767\n",
      "11\n",
      "0.7771280051981806\n",
      "12\n",
      "0.7776332899869961\n",
      "18\n",
      "0.778030549236269\n",
      "32\n",
      "0.7781747320558624\n",
      "39\n",
      "0.7785714285714286\n",
      "124\n",
      "0.7788242936018188\n"
     ]
    },
    {
     "name": "stderr",
     "output_type": "stream",
     "text": [
      " 14%|█▍        | 4/28 [08:36<52:17, 130.75s/it]"
     ]
    },
    {
     "name": "stdout",
     "output_type": "stream",
     "text": [
      "Fitting feature 4\n",
      "4\n",
      "0.7757544224765869\n",
      "32\n",
      "0.7849865951742628\n",
      "60\n",
      "0.7915174882952354\n",
      "116\n",
      "0.7956243329775881\n",
      "0\n",
      "0.7971346704871061\n",
      "1\n",
      "0.7974792323116586\n",
      "6\n",
      "0.7978235967926689\n",
      "46\n",
      "0.7980521340590089\n",
      "50\n",
      "0.7983963344788086\n",
      "103\n",
      "0.7986250358063591\n",
      "140\n",
      "0.7989690721649485\n",
      "142\n",
      "0.7993129115373604\n",
      "143\n",
      "0.7996565540927304\n"
     ]
    },
    {
     "name": "stderr",
     "output_type": "stream",
     "text": [
      " 18%|█▊        | 5/28 [10:40<49:19, 128.66s/it]"
     ]
    },
    {
     "name": "stdout",
     "output_type": "stream",
     "text": [
      "Fitting feature 5\n",
      "5\n",
      "0.6931027209449484\n",
      "33\n",
      "0.7092138630600169\n",
      "89\n",
      "0.7136545339785398\n",
      "117\n",
      "0.7180907734924354\n",
      "3\n",
      "0.7187435420541434\n",
      "6\n",
      "0.7187951310088714\n",
      "7\n",
      "0.7191568505889647\n",
      "11\n",
      "0.7194542071531941\n",
      "25\n",
      "0.7194869673148531\n",
      "26\n",
      "0.7197047365183514\n",
      "31\n",
      "0.7198523379819524\n",
      "40\n",
      "0.7201477226097661\n",
      "41\n",
      "0.7201806610552248\n",
      "55\n",
      "0.7204257060990585\n",
      "57\n",
      "0.7206212957285918\n",
      "58\n",
      "0.7215137803373097\n",
      "62\n",
      "0.7215815485996705\n",
      "63\n",
      "0.7216282894736843\n",
      "67\n",
      "0.721891058581706\n",
      "68\n",
      "0.7220394736842104\n",
      "70\n",
      "0.7224506578947367\n",
      "77\n",
      "0.7227132579650566\n",
      "79\n",
      "0.722737579880437\n",
      "87\n",
      "0.723607647547797\n",
      "95\n",
      "0.7236431690580161\n",
      "96\n",
      "0.7241379310344827\n",
      "98\n",
      "0.7244029075804777\n",
      "108\n",
      "0.7245894824360839\n",
      "111\n",
      "0.7247401247401247\n",
      "115\n",
      "0.7255599748796315\n",
      "120\n",
      "0.7258267057346169\n",
      "127\n",
      "0.7259414225941422\n",
      "143\n",
      "0.7260960334029227\n",
      "158\n",
      "0.7263993316624896\n"
     ]
    },
    {
     "name": "stderr",
     "output_type": "stream",
     "text": [
      " 21%|██▏       | 6/28 [12:49<47:17, 128.99s/it]"
     ]
    },
    {
     "name": "stdout",
     "output_type": "stream",
     "text": [
      "Fitting feature 6\n",
      "6\n",
      "0.5623242736644798\n",
      "34\n",
      "0.6057737813535258\n",
      "62\n",
      "0.6175748649975454\n",
      "118\n",
      "0.6339622641509435\n",
      "146\n",
      "0.6424664346096469\n",
      "2\n",
      "0.6430354468297553\n",
      "5\n",
      "0.6433915211970075\n",
      "10\n",
      "0.6437468858993523\n",
      "16\n",
      "0.6444223107569722\n",
      "21\n",
      "0.6452569169960474\n",
      "25\n",
      "0.6493506493506492\n",
      "31\n",
      "0.6496876501681883\n",
      "48\n",
      "0.6499032882011605\n",
      "50\n",
      "0.6502177068214804\n",
      "56\n",
      "0.6518804243008679\n"
     ]
    },
    {
     "name": "stderr",
     "output_type": "stream",
     "text": [
      " 25%|██▌       | 7/28 [31:43<2:30:39, 430.47s/it]"
     ]
    },
    {
     "name": "stdout",
     "output_type": "stream",
     "text": [
      "Fitting feature 7\n",
      "7\n",
      "0.8000750891683875\n",
      "35\n",
      "0.8154300479881874\n",
      "63\n",
      "0.8207444886158295\n",
      "91\n",
      "0.823443756825628\n",
      "119\n",
      "0.8249027237354086\n",
      "147\n",
      "0.8283870967741935\n",
      "1\n",
      "0.8287822878228782\n",
      "2\n",
      "0.8288652221814177\n",
      "23\n",
      "0.8295997062063899\n",
      "25\n",
      "0.8297405918889295\n",
      "28\n",
      "0.8300784814747216\n",
      "29\n",
      "0.8306686046511628\n",
      "30\n",
      "0.8310933527061387\n",
      "32\n",
      "0.831334060341694\n",
      "37\n",
      "0.8313625613971257\n",
      "46\n",
      "0.8315058479532164\n",
      "47\n",
      "0.8315674095725247\n",
      "53\n",
      "0.8322368421052633\n",
      "69\n",
      "0.8323276650210276\n",
      "84\n",
      "0.8326649653663872\n",
      "85\n",
      "0.8327259475218658\n",
      "87\n",
      "0.8328167730173199\n",
      "90\n",
      "0.8330295297119942\n",
      "92\n",
      "0.8331814038286236\n",
      "124\n",
      "0.8333333333333334\n",
      "138\n",
      "0.8334853182564289\n"
     ]
    },
    {
     "name": "stderr",
     "output_type": "stream",
     "text": [
      " 29%|██▊       | 8/28 [33:59<1:54:03, 342.17s/it]"
     ]
    },
    {
     "name": "stdout",
     "output_type": "stream",
     "text": [
      "Fitting feature 8\n",
      "8\n",
      "0.9074074074074073\n",
      "36\n",
      "0.9215686274509803\n",
      "92\n",
      "0.9306930693069307\n"
     ]
    },
    {
     "name": "stderr",
     "output_type": "stream",
     "text": [
      " 32%|███▏      | 9/28 [35:54<1:26:40, 273.73s/it]"
     ]
    },
    {
     "name": "stdout",
     "output_type": "stream",
     "text": [
      "Fitting feature 9\n",
      "9\n",
      "0.8409090909090908\n",
      "37\n",
      "0.9130434782608695\n",
      "93\n",
      "0.9148936170212767\n",
      "121\n",
      "0.924731182795699\n"
     ]
    },
    {
     "name": "stderr",
     "output_type": "stream",
     "text": [
      " 36%|███▌      | 10/28 [37:49<1:07:55, 226.40s/it]"
     ]
    },
    {
     "name": "stdout",
     "output_type": "stream",
     "text": [
      "Fitting feature 10\n",
      "10\n",
      "0.8518518518518519\n",
      "38\n",
      "0.923076923076923\n",
      "66\n",
      "0.9259259259259259\n",
      "94\n",
      "0.9285714285714286\n",
      "122\n",
      "0.9454545454545454\n"
     ]
    },
    {
     "name": "stderr",
     "output_type": "stream",
     "text": [
      " 39%|███▉      | 11/28 [39:45<54:45, 193.26s/it]  "
     ]
    },
    {
     "name": "stdout",
     "output_type": "stream",
     "text": [
      "Fitting feature 11\n",
      "11\n",
      "0.7424872861766065\n",
      "39\n",
      "0.7769985974754557\n",
      "67\n",
      "0.78544061302682\n",
      "95\n",
      "0.7894992707826932\n",
      "123\n",
      "0.794970986460348\n",
      "0\n",
      "0.796340876263842\n",
      "4\n",
      "0.7974927675988427\n",
      "6\n",
      "0.7980722891566265\n",
      "7\n",
      "0.7984533591106815\n",
      "22\n",
      "0.7994200096665056\n",
      "84\n",
      "0.8\n",
      "112\n",
      "0.8003866602223296\n",
      "113\n",
      "0.8005794302269434\n",
      "115\n",
      "0.8009661835748793\n",
      "129\n",
      "0.8013533107781537\n"
     ]
    },
    {
     "name": "stderr",
     "output_type": "stream",
     "text": [
      " 43%|████▎     | 12/28 [41:49<45:58, 172.43s/it]"
     ]
    },
    {
     "name": "stdout",
     "output_type": "stream",
     "text": [
      "Fitting feature 12\n",
      "12\n",
      "0.6856368563685636\n",
      "40\n",
      "0.7109004739336494\n",
      "68\n",
      "0.7198211624441132\n",
      "124\n",
      "0.7267683772538143\n",
      "152\n",
      "0.7391613361762616\n",
      "13\n",
      "0.7391623806024983\n",
      "21\n",
      "0.7399999999999999\n",
      "22\n",
      "0.740528949249464\n",
      "41\n",
      "0.7419585418155825\n",
      "58\n",
      "0.7424892703862661\n",
      "61\n",
      "0.7430207587687903\n"
     ]
    },
    {
     "name": "stderr",
     "output_type": "stream",
     "text": [
      " 46%|████▋     | 13/28 [43:52<39:21, 157.43s/it]"
     ]
    },
    {
     "name": "stdout",
     "output_type": "stream",
     "text": [
      "Fitting feature 13\n",
      "13\n",
      "0.6941649899396379\n",
      "41\n",
      "0.722620266120778\n",
      "69\n",
      "0.7512899896800824\n",
      "125\n",
      "0.7597989949748744\n",
      "0\n",
      "0.7601184600197433\n",
      "4\n",
      "0.7611496531219029\n",
      "37\n",
      "0.7616221562809099\n",
      "49\n",
      "0.7630522088353415\n",
      "50\n",
      "0.7655310621242485\n",
      "51\n",
      "0.7662988966900701\n",
      "60\n",
      "0.7665995975855131\n",
      "77\n",
      "0.7668711656441718\n",
      "91\n",
      "0.7676560900716478\n",
      "134\n",
      "0.7687564234326824\n"
     ]
    },
    {
     "name": "stderr",
     "output_type": "stream",
     "text": [
      " 50%|█████     | 14/28 [45:54<34:15, 146.84s/it]"
     ]
    },
    {
     "name": "stdout",
     "output_type": "stream",
     "text": [
      "Fitting feature 14\n",
      "14\n",
      "0.8389715832205684\n",
      "42\n",
      "0.860093896713615\n",
      "70\n",
      "0.869198312236287\n",
      "98\n",
      "0.8729703915950334\n",
      "126\n",
      "0.8748841519925856\n",
      "154\n",
      "0.8775413711583924\n",
      "2\n",
      "0.8780718336483933\n",
      "12\n",
      "0.878186968838527\n",
      "16\n",
      "0.8783068783068783\n",
      "19\n",
      "0.8787295476419633\n",
      "21\n",
      "0.8791946308724832\n",
      "22\n",
      "0.8795411089866156\n",
      "26\n",
      "0.8797316722568279\n",
      "34\n",
      "0.8799999999999999\n",
      "44\n",
      "0.8801552644347405\n",
      "48\n",
      "0.8805825242718447\n",
      "67\n",
      "0.8807339449541285\n",
      "75\n",
      "0.8812741312741311\n",
      "133\n",
      "0.8823529411764706\n",
      "134\n",
      "0.8827785817655572\n"
     ]
    },
    {
     "name": "stderr",
     "output_type": "stream",
     "text": [
      " 54%|█████▎    | 15/28 [47:58<30:20, 140.03s/it]"
     ]
    },
    {
     "name": "stdout",
     "output_type": "stream",
     "text": [
      "Fitting feature 15\n",
      "15\n",
      "0.6666666666666666\n",
      "71\n",
      "0.6857142857142857\n"
     ]
    },
    {
     "name": "stderr",
     "output_type": "stream",
     "text": [
      " 57%|█████▋    | 16/28 [49:52<26:26, 132.18s/it]"
     ]
    },
    {
     "name": "stdout",
     "output_type": "stream",
     "text": [
      "Fitting feature 16\n",
      "16\n",
      "0.4134790528233151\n",
      "72\n",
      "0.45286686103012636\n",
      "100\n",
      "0.4653130287648054\n",
      "128\n",
      "0.47070506454816285\n",
      "156\n",
      "0.4918414918414919\n",
      "0\n",
      "0.49517684887459806\n",
      "7\n",
      "0.4951974386339381\n",
      "12\n",
      "0.495475113122172\n",
      "14\n",
      "0.49716231555051077\n",
      "17\n",
      "0.5072951739618407\n",
      "18\n",
      "0.5075268817204301\n",
      "21\n",
      "0.5097613882863341\n",
      "22\n",
      "0.5098468271334792\n",
      "23\n",
      "0.5104052573932093\n",
      "24\n",
      "0.5109649122807016\n",
      "25\n",
      "0.5113636363636364\n",
      "28\n",
      "0.5119453924914676\n",
      "86\n",
      "0.5125284738041002\n",
      "127\n",
      "0.5131578947368421\n",
      "131\n",
      "0.5147864184008762\n",
      "133\n",
      "0.5158469945355191\n",
      "163\n",
      "0.5164113785557988\n"
     ]
    },
    {
     "name": "stderr",
     "output_type": "stream",
     "text": [
      " 61%|██████    | 17/28 [51:54<23:40, 129.12s/it]"
     ]
    },
    {
     "name": "stdout",
     "output_type": "stream",
     "text": [
      "Fitting feature 17\n",
      "17\n",
      "0.4043478260869565\n",
      "45\n",
      "0.4096385542168674\n",
      "129\n",
      "0.4324324324324324\n",
      "15\n",
      "0.43349753694581283\n",
      "161\n",
      "0.4345679012345679\n"
     ]
    },
    {
     "name": "stderr",
     "output_type": "stream",
     "text": [
      " 64%|██████▍   | 18/28 [53:50<20:52, 125.27s/it]"
     ]
    },
    {
     "name": "stdout",
     "output_type": "stream",
     "text": [
      "Fitting feature 18\n",
      "18\n",
      "0.5225027442371021\n",
      "46\n",
      "0.5598669623059866\n",
      "74\n",
      "0.5754422476586888\n",
      "102\n",
      "0.5777777777777777\n",
      "130\n",
      "0.5810575246949449\n",
      "14\n",
      "0.5813549507817024\n",
      "21\n",
      "0.5815279361459522\n",
      "34\n",
      "0.5818596691386195\n",
      "35\n",
      "0.581986143187067\n",
      "41\n",
      "0.5823223570190641\n",
      "42\n",
      "0.5831408775981525\n",
      "44\n",
      "0.5836711059640995\n",
      "52\n",
      "0.5839002267573696\n",
      "57\n",
      "0.5841526894158473\n",
      "68\n",
      "0.5844907407407408\n",
      "78\n",
      "0.5847025495750708\n",
      "79\n",
      "0.585034013605442\n",
      "89\n",
      "0.5880361173814899\n",
      "137\n",
      "0.588235294117647\n",
      "140\n",
      "0.5899363794100636\n",
      "144\n",
      "0.5908828620888633\n",
      "145\n",
      "0.5913544668587896\n",
      "146\n",
      "0.5916955017301038\n"
     ]
    },
    {
     "name": "stderr",
     "output_type": "stream",
     "text": [
      " 68%|██████▊   | 19/28 [55:55<18:46, 125.19s/it]"
     ]
    },
    {
     "name": "stdout",
     "output_type": "stream",
     "text": [
      "Fitting feature 19\n",
      "19\n",
      "0.6118892001244943\n",
      "47\n",
      "0.6307258632840027\n",
      "75\n",
      "0.6403242147922998\n",
      "131\n",
      "0.6488316965797494\n",
      "0\n",
      "0.6509308510638298\n",
      "1\n",
      "0.651394422310757\n",
      "2\n",
      "0.6522606382978723\n",
      "5\n",
      "0.6528631510837917\n",
      "7\n",
      "0.6529546196539342\n",
      "14\n",
      "0.6531810766721043\n",
      "40\n",
      "0.6536203522504893\n",
      "53\n",
      "0.6537820726424525\n",
      "54\n",
      "0.6542180726908969\n",
      "56\n",
      "0.6544591386910817\n",
      "62\n",
      "0.6546811397557667\n",
      "76\n",
      "0.654903291482864\n",
      "113\n",
      "0.6549865229110513\n",
      "115\n",
      "0.6552072800808898\n",
      "124\n",
      "0.6554395419333109\n",
      "151\n",
      "0.6556603773584906\n"
     ]
    },
    {
     "name": "stderr",
     "output_type": "stream",
     "text": [
      " 71%|███████▏  | 20/28 [58:02<16:46, 125.77s/it]"
     ]
    },
    {
     "name": "stdout",
     "output_type": "stream",
     "text": [
      "Fitting feature 20\n",
      "20\n",
      "0.6072423398328691\n",
      "48\n",
      "0.653968253968254\n",
      "76\n",
      "0.6686217008797654\n",
      "160\n",
      "0.7171052631578947\n",
      "0\n",
      "0.7179487179487181\n",
      "1\n",
      "0.7202572347266881\n"
     ]
    },
    {
     "name": "stderr",
     "output_type": "stream",
     "text": [
      " 75%|███████▌  | 21/28 [59:58<14:18, 122.70s/it]"
     ]
    },
    {
     "name": "stdout",
     "output_type": "stream",
     "text": [
      "Fitting feature 21\n",
      "21\n",
      "0.6661354581673307\n",
      "49\n",
      "0.6817610062893082\n",
      "77\n",
      "0.6918075422626788\n",
      "105\n",
      "0.6936628977123324\n",
      "133\n",
      "0.6967181713701954\n",
      "161\n",
      "0.7021727609962903\n",
      "0\n",
      "0.7033639143730887\n",
      "6\n",
      "0.7050691244239632\n",
      "7\n",
      "0.7053856978380454\n",
      "10\n",
      "0.7055961070559611\n",
      "13\n",
      "0.7056705670567057\n",
      "19\n",
      "0.7058671824629272\n",
      "23\n",
      "0.7061855670103092\n",
      "33\n",
      "0.7062459755312299\n",
      "37\n",
      "0.7063369397217929\n"
     ]
    },
    {
     "name": "stderr",
     "output_type": "stream",
     "text": [
      " 79%|███████▊  | 22/28 [1:02:10<12:34, 125.68s/it]"
     ]
    },
    {
     "name": "stdout",
     "output_type": "stream",
     "text": [
      "Fitting feature 22\n",
      "22\n",
      "0.5974329054842473\n",
      "50\n",
      "0.6332916145181476\n",
      "78\n",
      "0.6523341523341523\n",
      "162\n",
      "0.6644649933949802\n",
      "1\n",
      "0.6653594771241831\n",
      "5\n",
      "0.6653620352250489\n",
      "12\n",
      "0.6657894736842106\n",
      "17\n",
      "0.6662312214239061\n",
      "19\n",
      "0.6666666666666667\n",
      "21\n",
      "0.669471153846154\n",
      "25\n",
      "0.670076726342711\n",
      "67\n",
      "0.670505438259757\n"
     ]
    },
    {
     "name": "stderr",
     "output_type": "stream",
     "text": [
      " 82%|████████▏ | 23/28 [1:04:12<10:22, 124.50s/it]"
     ]
    },
    {
     "name": "stdout",
     "output_type": "stream",
     "text": [
      "Fitting feature 23\n",
      "23\n",
      "0.8014718766427193\n",
      "51\n",
      "0.8160762942779293\n",
      "79\n",
      "0.8173109818679439\n",
      "135\n",
      "0.8186078805762887\n",
      "163\n",
      "0.8246797033041134\n",
      "5\n",
      "0.8248396895038811\n",
      "7\n",
      "0.8265670120604723\n",
      "11\n",
      "0.8267074413863404\n",
      "12\n",
      "0.8271267509395286\n",
      "16\n",
      "0.8274683976768021\n",
      "20\n",
      "0.8280689772921291\n",
      "22\n",
      "0.8282103825136612\n",
      "26\n",
      "0.8282344898307982\n",
      "29\n",
      "0.8283760683760684\n",
      "35\n",
      "0.8284933378886232\n",
      "46\n",
      "0.8285176953325354\n",
      "47\n",
      "0.8286593707250342\n",
      "48\n",
      "0.8288843258042435\n",
      "77\n",
      "0.8289676425269645\n",
      "80\n",
      "0.8291680931187948\n",
      "82\n",
      "0.8293684750984084\n",
      "101\n",
      "0.8294268605645851\n",
      "103\n",
      "0.8296270954498803\n",
      "124\n",
      "0.8296853625170998\n"
     ]
    },
    {
     "name": "stderr",
     "output_type": "stream",
     "text": [
      " 86%|████████▌ | 24/28 [1:06:24<08:26, 126.64s/it]"
     ]
    },
    {
     "name": "stdout",
     "output_type": "stream",
     "text": [
      "Fitting feature 24\n",
      "24\n",
      "0.6807866868381242\n",
      "52\n",
      "0.7260940032414911\n",
      "80\n",
      "0.7342995169082125\n",
      "108\n",
      "0.7390648567119156\n",
      "5\n",
      "0.7424242424242424\n",
      "48\n",
      "0.7435508345978756\n",
      "147\n",
      "0.7446808510638298\n"
     ]
    },
    {
     "name": "stderr",
     "output_type": "stream",
     "text": [
      " 89%|████████▉ | 25/28 [1:08:21<06:11, 123.77s/it]"
     ]
    },
    {
     "name": "stdout",
     "output_type": "stream",
     "text": [
      "Fitting feature 25\n",
      "25\n",
      "0.679745493107105\n",
      "53\n",
      "0.6881991664838781\n",
      "81\n",
      "0.6969515839808726\n",
      "109\n",
      "0.7\n",
      "165\n",
      "0.7042776080314272\n",
      "0\n",
      "0.7064106031917772\n",
      "1\n",
      "0.7065440778799352\n",
      "2\n",
      "0.706931451392308\n",
      "5\n",
      "0.7073478571036602\n",
      "7\n",
      "0.7078769196895469\n",
      "8\n",
      "0.7079597337587326\n",
      "11\n",
      "0.708354011579818\n",
      "15\n",
      "0.7084321402966965\n",
      "29\n",
      "0.7088342340355135\n",
      "30\n",
      "0.7089276862917884\n",
      "31\n",
      "0.7089457748417286\n",
      "36\n",
      "0.7090098519456215\n",
      "45\n",
      "0.7092276445078773\n",
      "48\n",
      "0.7093055174306891\n",
      "57\n",
      "0.709426094590146\n",
      "83\n",
      "0.7094650205761316\n",
      "85\n",
      "0.709925340360123\n",
      "89\n",
      "0.7099676339897966\n",
      "93\n",
      "0.7100916424298962\n",
      "99\n",
      "0.7101624231782266\n",
      "117\n",
      "0.7101942280258972\n",
      "121\n",
      "0.7102085620197586\n",
      "140\n",
      "0.7107201759208357\n",
      "143\n",
      "0.7109082911809984\n",
      "155\n",
      "0.7110182537937103\n"
     ]
    },
    {
     "name": "stderr",
     "output_type": "stream",
     "text": [
      " 93%|█████████▎| 26/28 [1:10:43<04:18, 129.44s/it]"
     ]
    },
    {
     "name": "stdout",
     "output_type": "stream",
     "text": [
      "Fitting feature 26\n",
      "26\n",
      "0.528358208955224\n",
      "54\n",
      "0.5576923076923077\n",
      "82\n",
      "0.5774647887323944\n",
      "110\n",
      "0.5846599131693198\n",
      "5\n",
      "0.5858585858585859\n",
      "25\n",
      "0.5863570391872279\n",
      "30\n",
      "0.5884057971014492\n",
      "47\n",
      "0.5892597968069666\n"
     ]
    },
    {
     "name": "stderr",
     "output_type": "stream",
     "text": [
      " 96%|█████████▋| 27/28 [1:12:42<02:06, 126.14s/it]"
     ]
    },
    {
     "name": "stdout",
     "output_type": "stream",
     "text": [
      "Fitting feature 27\n",
      "27\n",
      "0.7200000000000001\n",
      "55\n",
      "0.7826086956521738\n",
      "83\n",
      "0.8181818181818182\n"
     ]
    },
    {
     "name": "stderr",
     "output_type": "stream",
     "text": [
      "100%|██████████| 28/28 [1:14:36<00:00, 122.51s/it]\n"
     ]
    }
   ],
   "source": [
    "all_columns = set(range(168))\n",
    "\n",
    "all_good_features = []\n",
    "all_best_scores = []\n",
    "\n",
    "for ii in tqdm(range(28)):\n",
    "    print(\"Fitting feature\", ii)\n",
    "    first_six =  set(np.array(range(6))*(28)+ii)\n",
    "    the_rest = np.array(list(all_columns - first_six))\n",
    "    the_list = list(np.sort(list(first_six)))+list(the_rest)\n",
    "    best_score = 0\n",
    "    good_features = []\n",
    "    for feature in the_list:\n",
    "        new_oof = np.zeros(train_six.shape[0])\n",
    "        temp_good_features = good_features+[feature]\n",
    "        for i in range(4):\n",
    "            val_idx = np.where(cluster4 == i)[0]\n",
    "            trn_idx = np.where(cluster4 != i)[0]\n",
    "            train_x, val_x = train_six[:,temp_good_features][trn_idx, :], train_six[:,temp_good_features][val_idx, :]\n",
    "            train_y, val_y = y[:,ii][trn_idx], y[:,ii][val_idx]\n",
    "            clf = Ridge(alpha=0)\n",
    "            clf.fit(train_x, train_y)\n",
    "            oof_preds = clf.predict(val_x)\n",
    "            new_oof[val_idx] = oof_preds\n",
    "            \n",
    "        scaler = MinMaxScaler()\n",
    "        new_oof = scaler.fit_transform(new_oof.reshape(-1,1))\n",
    "        scores = [f1_score(y[:,ii], (new_oof > th)*1.,) for th in thresholds_0]\n",
    "        new_score = np.max(scores)\n",
    "        if new_score > best_score:\n",
    "            print(feature)\n",
    "            print(new_score)\n",
    "            best_score = new_score\n",
    "            good_features.append(feature)\n",
    "            \n",
    "    all_best_scores.append(best_score)\n",
    "            \n",
    "    all_good_features.append(good_features)\n",
    "        "
   ]
  },
  {
   "cell_type": "code",
   "execution_count": 64,
   "metadata": {},
   "outputs": [
    {
     "data": {
      "text/plain": [
       "0.7498756304716229"
      ]
     },
     "execution_count": 64,
     "metadata": {},
     "output_type": "execute_result"
    }
   ],
   "source": [
    "np.mean(all_best_scores)"
   ]
  },
  {
   "cell_type": "code",
   "execution_count": 66,
   "metadata": {},
   "outputs": [],
   "source": [
    "all_good_features_array = np.array(all_good_features)"
   ]
  },
  {
   "cell_type": "code",
   "execution_count": 67,
   "metadata": {},
   "outputs": [
    {
     "data": {
      "text/plain": [
       "array([list([0, 28, 56, 84, 140, 3, 8, 9, 18, 30, 41, 50, 63, 64, 67, 68, 78, 81, 82, 83, 121, 155]),\n",
       "       list([1, 29, 57, 85, 113, 141, 0, 6, 11, 23, 109, 116]),\n",
       "       list([2, 30, 58, 114, 0, 3, 4, 7, 12, 19, 21, 22, 27, 40, 41, 46, 47, 74, 75, 82, 83, 111, 154]),\n",
       "       list([3, 31, 59, 87, 115, 0, 4, 5, 6, 11, 12, 18, 32, 39, 124]),\n",
       "       list([4, 32, 60, 116, 0, 1, 6, 46, 50, 103, 140, 142, 143]),\n",
       "       list([5, 33, 89, 117, 3, 6, 7, 11, 25, 26, 31, 40, 41, 55, 57, 58, 62, 63, 67, 68, 70, 77, 79, 87, 95, 96, 98, 108, 111, 115, 120, 127, 143, 158]),\n",
       "       list([6, 34, 62, 118, 146, 2, 5, 10, 16, 21, 25, 31, 48, 50, 56]),\n",
       "       list([7, 35, 63, 91, 119, 147, 1, 2, 23, 25, 28, 29, 30, 32, 37, 46, 47, 53, 69, 84, 85, 87, 90, 92, 124, 138]),\n",
       "       list([8, 36, 92]), list([9, 37, 93, 121]),\n",
       "       list([10, 38, 66, 94, 122]),\n",
       "       list([11, 39, 67, 95, 123, 0, 4, 6, 7, 22, 84, 112, 113, 115, 129]),\n",
       "       list([12, 40, 68, 124, 152, 13, 21, 22, 41, 58, 61]),\n",
       "       list([13, 41, 69, 125, 0, 4, 37, 49, 50, 51, 60, 77, 91, 134]),\n",
       "       list([14, 42, 70, 98, 126, 154, 2, 12, 16, 19, 21, 22, 26, 34, 44, 48, 67, 75, 133, 134]),\n",
       "       list([15, 71]),\n",
       "       list([16, 72, 100, 128, 156, 0, 7, 12, 14, 17, 18, 21, 22, 23, 24, 25, 28, 86, 127, 131, 133, 163]),\n",
       "       list([17, 45, 129, 15, 161]),\n",
       "       list([18, 46, 74, 102, 130, 14, 21, 34, 35, 41, 42, 44, 52, 57, 68, 78, 79, 89, 137, 140, 144, 145, 146]),\n",
       "       list([19, 47, 75, 131, 0, 1, 2, 5, 7, 14, 40, 53, 54, 56, 62, 76, 113, 115, 124, 151]),\n",
       "       list([20, 48, 76, 160, 0, 1]),\n",
       "       list([21, 49, 77, 105, 133, 161, 0, 6, 7, 10, 13, 19, 23, 33, 37]),\n",
       "       list([22, 50, 78, 162, 1, 5, 12, 17, 19, 21, 25, 67]),\n",
       "       list([23, 51, 79, 135, 163, 5, 7, 11, 12, 16, 20, 22, 26, 29, 35, 46, 47, 48, 77, 80, 82, 101, 103, 124]),\n",
       "       list([24, 52, 80, 108, 5, 48, 147]),\n",
       "       list([25, 53, 81, 109, 165, 0, 1, 2, 5, 7, 8, 11, 15, 29, 30, 31, 36, 45, 48, 57, 83, 85, 89, 93, 99, 117, 121, 140, 143, 155]),\n",
       "       list([26, 54, 82, 110, 5, 25, 30, 47]), list([27, 55, 83])],\n",
       "      dtype=object)"
      ]
     },
     "execution_count": 67,
     "metadata": {},
     "output_type": "execute_result"
    }
   ],
   "source": [
    "all_good_features_array"
   ]
  },
  {
   "cell_type": "code",
   "execution_count": 68,
   "metadata": {},
   "outputs": [],
   "source": [
    "np.save('all_good_features_2', all_good_features)"
   ]
  },
  {
   "cell_type": "code",
   "execution_count": 69,
   "metadata": {},
   "outputs": [],
   "source": [
    "all_good_features_2 = np.load('all_good_features_2.npy')"
   ]
  },
  {
   "cell_type": "code",
   "execution_count": 70,
   "metadata": {},
   "outputs": [
    {
     "data": {
      "text/plain": [
       "array([list([0, 28, 56, 84, 140, 3, 8, 9, 18, 30, 41, 50, 63, 64, 67, 68, 78, 81, 82, 83, 121, 155]),\n",
       "       list([1, 29, 57, 85, 113, 141, 0, 6, 11, 23, 109, 116]),\n",
       "       list([2, 30, 58, 114, 0, 3, 4, 7, 12, 19, 21, 22, 27, 40, 41, 46, 47, 74, 75, 82, 83, 111, 154]),\n",
       "       list([3, 31, 59, 87, 115, 0, 4, 5, 6, 11, 12, 18, 32, 39, 124]),\n",
       "       list([4, 32, 60, 116, 0, 1, 6, 46, 50, 103, 140, 142, 143]),\n",
       "       list([5, 33, 89, 117, 3, 6, 7, 11, 25, 26, 31, 40, 41, 55, 57, 58, 62, 63, 67, 68, 70, 77, 79, 87, 95, 96, 98, 108, 111, 115, 120, 127, 143, 158]),\n",
       "       list([6, 34, 62, 118, 146, 2, 5, 10, 16, 21, 25, 31, 48, 50, 56]),\n",
       "       list([7, 35, 63, 91, 119, 147, 1, 2, 23, 25, 28, 29, 30, 32, 37, 46, 47, 53, 69, 84, 85, 87, 90, 92, 124, 138]),\n",
       "       list([8, 36, 92]), list([9, 37, 93, 121]),\n",
       "       list([10, 38, 66, 94, 122]),\n",
       "       list([11, 39, 67, 95, 123, 0, 4, 6, 7, 22, 84, 112, 113, 115, 129]),\n",
       "       list([12, 40, 68, 124, 152, 13, 21, 22, 41, 58, 61]),\n",
       "       list([13, 41, 69, 125, 0, 4, 37, 49, 50, 51, 60, 77, 91, 134]),\n",
       "       list([14, 42, 70, 98, 126, 154, 2, 12, 16, 19, 21, 22, 26, 34, 44, 48, 67, 75, 133, 134]),\n",
       "       list([15, 71]),\n",
       "       list([16, 72, 100, 128, 156, 0, 7, 12, 14, 17, 18, 21, 22, 23, 24, 25, 28, 86, 127, 131, 133, 163]),\n",
       "       list([17, 45, 129, 15, 161]),\n",
       "       list([18, 46, 74, 102, 130, 14, 21, 34, 35, 41, 42, 44, 52, 57, 68, 78, 79, 89, 137, 140, 144, 145, 146]),\n",
       "       list([19, 47, 75, 131, 0, 1, 2, 5, 7, 14, 40, 53, 54, 56, 62, 76, 113, 115, 124, 151]),\n",
       "       list([20, 48, 76, 160, 0, 1]),\n",
       "       list([21, 49, 77, 105, 133, 161, 0, 6, 7, 10, 13, 19, 23, 33, 37]),\n",
       "       list([22, 50, 78, 162, 1, 5, 12, 17, 19, 21, 25, 67]),\n",
       "       list([23, 51, 79, 135, 163, 5, 7, 11, 12, 16, 20, 22, 26, 29, 35, 46, 47, 48, 77, 80, 82, 101, 103, 124]),\n",
       "       list([24, 52, 80, 108, 5, 48, 147]),\n",
       "       list([25, 53, 81, 109, 165, 0, 1, 2, 5, 7, 8, 11, 15, 29, 30, 31, 36, 45, 48, 57, 83, 85, 89, 93, 99, 117, 121, 140, 143, 155]),\n",
       "       list([26, 54, 82, 110, 5, 25, 30, 47]), list([27, 55, 83])],\n",
       "      dtype=object)"
      ]
     },
     "execution_count": 70,
     "metadata": {},
     "output_type": "execute_result"
    }
   ],
   "source": [
    "all_good_features_2"
   ]
  },
  {
   "cell_type": "code",
   "execution_count": 72,
   "metadata": {},
   "outputs": [],
   "source": [
    "Christof_oof_preds = pd.read_csv('../../Human_Protein_Atlas/metafeatures/oof/GAPNet_14_ext/oof_pred.csv')"
   ]
  },
  {
   "cell_type": "code",
   "execution_count": 73,
   "metadata": {},
   "outputs": [
    {
     "data": {
      "text/html": [
       "<div>\n",
       "<style scoped>\n",
       "    .dataframe tbody tr th:only-of-type {\n",
       "        vertical-align: middle;\n",
       "    }\n",
       "\n",
       "    .dataframe tbody tr th {\n",
       "        vertical-align: top;\n",
       "    }\n",
       "\n",
       "    .dataframe thead th {\n",
       "        text-align: right;\n",
       "    }\n",
       "</style>\n",
       "<table border=\"1\" class=\"dataframe\">\n",
       "  <thead>\n",
       "    <tr style=\"text-align: right;\">\n",
       "      <th></th>\n",
       "      <th>Id</th>\n",
       "      <th>Target</th>\n",
       "      <th>fold</th>\n",
       "      <th>pred_0</th>\n",
       "      <th>pred_1</th>\n",
       "      <th>pred_2</th>\n",
       "      <th>pred_3</th>\n",
       "      <th>pred_4</th>\n",
       "      <th>pred_5</th>\n",
       "      <th>pred_6</th>\n",
       "      <th>...</th>\n",
       "      <th>pred_18</th>\n",
       "      <th>pred_19</th>\n",
       "      <th>pred_20</th>\n",
       "      <th>pred_21</th>\n",
       "      <th>pred_22</th>\n",
       "      <th>pred_23</th>\n",
       "      <th>pred_24</th>\n",
       "      <th>pred_25</th>\n",
       "      <th>pred_26</th>\n",
       "      <th>pred_27</th>\n",
       "    </tr>\n",
       "  </thead>\n",
       "  <tbody>\n",
       "    <tr>\n",
       "      <th>0</th>\n",
       "      <td>00070df0-bbc3-11e8-b2bc-ac1f6b6435d0</td>\n",
       "      <td>16 0</td>\n",
       "      <td>0</td>\n",
       "      <td>0.953081</td>\n",
       "      <td>0.002805</td>\n",
       "      <td>0.045376</td>\n",
       "      <td>0.001540</td>\n",
       "      <td>0.003110</td>\n",
       "      <td>0.069791</td>\n",
       "      <td>0.000767</td>\n",
       "      <td>...</td>\n",
       "      <td>0.970529</td>\n",
       "      <td>0.481568</td>\n",
       "      <td>0.000034</td>\n",
       "      <td>0.122002</td>\n",
       "      <td>0.004993</td>\n",
       "      <td>0.015003</td>\n",
       "      <td>0.000105</td>\n",
       "      <td>0.432573</td>\n",
       "      <td>0.000032</td>\n",
       "      <td>6.785499e-07</td>\n",
       "    </tr>\n",
       "    <tr>\n",
       "      <th>1</th>\n",
       "      <td>000a6c98-bb9b-11e8-b2b9-ac1f6b6435d0</td>\n",
       "      <td>7 1 2 0</td>\n",
       "      <td>1</td>\n",
       "      <td>0.769686</td>\n",
       "      <td>0.999566</td>\n",
       "      <td>0.425338</td>\n",
       "      <td>0.012970</td>\n",
       "      <td>0.000898</td>\n",
       "      <td>0.040802</td>\n",
       "      <td>0.002442</td>\n",
       "      <td>...</td>\n",
       "      <td>0.001096</td>\n",
       "      <td>0.006145</td>\n",
       "      <td>0.000011</td>\n",
       "      <td>0.021171</td>\n",
       "      <td>0.003723</td>\n",
       "      <td>0.005379</td>\n",
       "      <td>0.000575</td>\n",
       "      <td>0.139700</td>\n",
       "      <td>0.000336</td>\n",
       "      <td>2.664577e-06</td>\n",
       "    </tr>\n",
       "    <tr>\n",
       "      <th>2</th>\n",
       "      <td>000a9596-bbc4-11e8-b2bc-ac1f6b6435d0</td>\n",
       "      <td>5</td>\n",
       "      <td>1</td>\n",
       "      <td>0.920565</td>\n",
       "      <td>0.010179</td>\n",
       "      <td>0.531457</td>\n",
       "      <td>0.423629</td>\n",
       "      <td>0.024148</td>\n",
       "      <td>0.918234</td>\n",
       "      <td>0.012125</td>\n",
       "      <td>...</td>\n",
       "      <td>0.267045</td>\n",
       "      <td>0.300161</td>\n",
       "      <td>0.000151</td>\n",
       "      <td>0.134051</td>\n",
       "      <td>0.087772</td>\n",
       "      <td>0.030957</td>\n",
       "      <td>0.000593</td>\n",
       "      <td>0.482627</td>\n",
       "      <td>0.001335</td>\n",
       "      <td>1.798913e-05</td>\n",
       "    </tr>\n",
       "    <tr>\n",
       "      <th>3</th>\n",
       "      <td>000c99ba-bba4-11e8-b2b9-ac1f6b6435d0</td>\n",
       "      <td>1</td>\n",
       "      <td>0</td>\n",
       "      <td>0.758010</td>\n",
       "      <td>0.998355</td>\n",
       "      <td>0.013991</td>\n",
       "      <td>0.001843</td>\n",
       "      <td>0.012320</td>\n",
       "      <td>0.005001</td>\n",
       "      <td>0.321245</td>\n",
       "      <td>...</td>\n",
       "      <td>0.000994</td>\n",
       "      <td>0.003252</td>\n",
       "      <td>0.000012</td>\n",
       "      <td>0.108415</td>\n",
       "      <td>0.011570</td>\n",
       "      <td>0.068579</td>\n",
       "      <td>0.000002</td>\n",
       "      <td>0.652738</td>\n",
       "      <td>0.000047</td>\n",
       "      <td>4.592995e-06</td>\n",
       "    </tr>\n",
       "    <tr>\n",
       "      <th>4</th>\n",
       "      <td>001838f8-bbca-11e8-b2bc-ac1f6b6435d0</td>\n",
       "      <td>18</td>\n",
       "      <td>3</td>\n",
       "      <td>0.505837</td>\n",
       "      <td>0.000687</td>\n",
       "      <td>0.034368</td>\n",
       "      <td>0.007865</td>\n",
       "      <td>0.002112</td>\n",
       "      <td>0.010435</td>\n",
       "      <td>0.001773</td>\n",
       "      <td>...</td>\n",
       "      <td>0.993149</td>\n",
       "      <td>0.464579</td>\n",
       "      <td>0.000035</td>\n",
       "      <td>0.010500</td>\n",
       "      <td>0.002290</td>\n",
       "      <td>0.002902</td>\n",
       "      <td>0.005780</td>\n",
       "      <td>0.261669</td>\n",
       "      <td>0.000003</td>\n",
       "      <td>4.012958e-07</td>\n",
       "    </tr>\n",
       "  </tbody>\n",
       "</table>\n",
       "<p>5 rows × 31 columns</p>\n",
       "</div>"
      ],
      "text/plain": [
       "                                     Id   Target  fold    pred_0    pred_1  \\\n",
       "0  00070df0-bbc3-11e8-b2bc-ac1f6b6435d0     16 0     0  0.953081  0.002805   \n",
       "1  000a6c98-bb9b-11e8-b2b9-ac1f6b6435d0  7 1 2 0     1  0.769686  0.999566   \n",
       "2  000a9596-bbc4-11e8-b2bc-ac1f6b6435d0        5     1  0.920565  0.010179   \n",
       "3  000c99ba-bba4-11e8-b2b9-ac1f6b6435d0        1     0  0.758010  0.998355   \n",
       "4  001838f8-bbca-11e8-b2bc-ac1f6b6435d0       18     3  0.505837  0.000687   \n",
       "\n",
       "     pred_2    pred_3    pred_4    pred_5    pred_6      ...        pred_18  \\\n",
       "0  0.045376  0.001540  0.003110  0.069791  0.000767      ...       0.970529   \n",
       "1  0.425338  0.012970  0.000898  0.040802  0.002442      ...       0.001096   \n",
       "2  0.531457  0.423629  0.024148  0.918234  0.012125      ...       0.267045   \n",
       "3  0.013991  0.001843  0.012320  0.005001  0.321245      ...       0.000994   \n",
       "4  0.034368  0.007865  0.002112  0.010435  0.001773      ...       0.993149   \n",
       "\n",
       "    pred_19   pred_20   pred_21   pred_22   pred_23   pred_24   pred_25  \\\n",
       "0  0.481568  0.000034  0.122002  0.004993  0.015003  0.000105  0.432573   \n",
       "1  0.006145  0.000011  0.021171  0.003723  0.005379  0.000575  0.139700   \n",
       "2  0.300161  0.000151  0.134051  0.087772  0.030957  0.000593  0.482627   \n",
       "3  0.003252  0.000012  0.108415  0.011570  0.068579  0.000002  0.652738   \n",
       "4  0.464579  0.000035  0.010500  0.002290  0.002902  0.005780  0.261669   \n",
       "\n",
       "    pred_26       pred_27  \n",
       "0  0.000032  6.785499e-07  \n",
       "1  0.000336  2.664577e-06  \n",
       "2  0.001335  1.798913e-05  \n",
       "3  0.000047  4.592995e-06  \n",
       "4  0.000003  4.012958e-07  \n",
       "\n",
       "[5 rows x 31 columns]"
      ]
     },
     "execution_count": 73,
     "metadata": {},
     "output_type": "execute_result"
    }
   ],
   "source": [
    "Christof_oof_preds.head()"
   ]
  },
  {
   "cell_type": "code",
   "execution_count": 74,
   "metadata": {},
   "outputs": [
    {
     "data": {
      "text/plain": [
       "(31072, 31)"
      ]
     },
     "execution_count": 74,
     "metadata": {},
     "output_type": "execute_result"
    }
   ],
   "source": [
    "Christof_oof_preds.shape"
   ]
  },
  {
   "cell_type": "code",
   "execution_count": 75,
   "metadata": {},
   "outputs": [
    {
     "data": {
      "text/plain": [
       "(31072, 168)"
      ]
     },
     "execution_count": 75,
     "metadata": {},
     "output_type": "execute_result"
    }
   ],
   "source": [
    "train_six.shape"
   ]
  },
  {
   "cell_type": "code",
   "execution_count": 79,
   "metadata": {},
   "outputs": [],
   "source": [
    "Christof_oof_preds = Christof_oof_preds[Christof_oof_preds.columns[3:]].values"
   ]
  },
  {
   "cell_type": "code",
   "execution_count": 80,
   "metadata": {},
   "outputs": [
    {
     "data": {
      "text/plain": [
       "(31072, 28)"
      ]
     },
     "execution_count": 80,
     "metadata": {},
     "output_type": "execute_result"
    }
   ],
   "source": [
    "Christof_oof_preds.shape"
   ]
  },
  {
   "cell_type": "code",
   "execution_count": 81,
   "metadata": {},
   "outputs": [],
   "source": [
    "train_seven = np.hstack((train_six, Christof_oof_preds))"
   ]
  },
  {
   "cell_type": "code",
   "execution_count": 82,
   "metadata": {},
   "outputs": [
    {
     "data": {
      "text/plain": [
       "(31072, 196)"
      ]
     },
     "execution_count": 82,
     "metadata": {},
     "output_type": "execute_result"
    }
   ],
   "source": [
    "train_seven.shape"
   ]
  },
  {
   "cell_type": "code",
   "execution_count": 83,
   "metadata": {},
   "outputs": [
    {
     "name": "stderr",
     "output_type": "stream",
     "text": [
      "  0%|          | 0/28 [00:00<?, ?it/s]"
     ]
    },
    {
     "name": "stdout",
     "output_type": "stream",
     "text": [
      "Fitting feature 0\n",
      "0\n",
      "0.8360929557007989\n",
      "28\n",
      "0.8416567871962062\n",
      "56\n",
      "0.8438464931627702\n",
      "84\n",
      "0.8460675837320574\n",
      "140\n",
      "0.8489261547513974\n",
      "168\n",
      "0.8495338558110166\n",
      "3\n",
      "0.8497697905836922\n",
      "9\n",
      "0.8497790321981653\n",
      "12\n",
      "0.849866745632218\n",
      "13\n",
      "0.8499462106317468\n",
      "15\n",
      "0.8500741839762611\n",
      "20\n",
      "0.8502111267501297\n"
     ]
    },
    {
     "name": "stderr",
     "output_type": "stream",
     "text": [
      "  4%|▎         | 1/28 [02:58<1:20:07, 178.07s/it]"
     ]
    },
    {
     "name": "stdout",
     "output_type": "stream",
     "text": [
      "Fitting feature 1\n",
      "1\n",
      "0.834178696839641\n",
      "29\n",
      "0.8453855373551739\n",
      "57\n",
      "0.8505935325419566\n",
      "85\n",
      "0.8531965272296764\n",
      "113\n",
      "0.8542673107890499\n",
      "141\n",
      "0.8618342010412495\n",
      "169\n",
      "0.8651199370821864\n",
      "0\n",
      "0.8653093187157401\n",
      "4\n",
      "0.8656482569526047\n",
      "5\n",
      "0.8661971830985916\n",
      "6\n",
      "0.8665362035225048\n",
      "8\n",
      "0.8666928824223359\n",
      "11\n",
      "0.8667711598746083\n",
      "19\n",
      "0.8672150411280845\n",
      "45\n",
      "0.8675548589341693\n",
      "146\n",
      "0.8679984332158245\n"
     ]
    },
    {
     "name": "stderr",
     "output_type": "stream",
     "text": [
      "  7%|▋         | 2/28 [05:38<1:14:53, 172.82s/it]"
     ]
    },
    {
     "name": "stdout",
     "output_type": "stream",
     "text": [
      "Fitting feature 2\n",
      "2\n",
      "0.7938359017076219\n",
      "30\n",
      "0.8091321610890527\n",
      "58\n",
      "0.8126866733039396\n",
      "114\n",
      "0.8161180476730988\n",
      "0\n",
      "0.8170800450958287\n",
      "3\n",
      "0.8175974860734181\n",
      "4\n",
      "0.8177523264137437\n",
      "7\n",
      "0.8181170773394104\n",
      "12\n",
      "0.8181818181818181\n",
      "19\n",
      "0.8184281842818428\n",
      "21\n",
      "0.8186086214255227\n",
      "22\n",
      "0.818766986125018\n",
      "27\n",
      "0.8189359267734554\n",
      "40\n",
      "0.8190394511149228\n",
      "41\n",
      "0.8191048191048191\n",
      "46\n",
      "0.8192736631398342\n",
      "47\n",
      "0.8194940688866658\n",
      "74\n",
      "0.8196627607887969\n",
      "75\n",
      "0.8197799056738603\n",
      "82\n",
      "0.8198314044863554\n",
      "83\n",
      "0.8199343138654862\n",
      "111\n",
      "0.8200000000000001\n",
      "154\n",
      "0.8201685473503786\n"
     ]
    },
    {
     "name": "stderr",
     "output_type": "stream",
     "text": [
      " 11%|█         | 3/28 [08:25<1:11:18, 171.14s/it]"
     ]
    },
    {
     "name": "stdout",
     "output_type": "stream",
     "text": [
      "Fitting feature 3\n",
      "3\n",
      "0.7400572701240852\n",
      "31\n",
      "0.7633004141446321\n",
      "59\n",
      "0.7693270735524257\n",
      "87\n",
      "0.7699004975124378\n",
      "115\n",
      "0.7719869706840391\n",
      "171\n",
      "0.7749216300940438\n",
      "2\n",
      "0.7793696275071633\n",
      "6\n",
      "0.779866199426569\n",
      "20\n",
      "0.7801147227533461\n",
      "142\n",
      "0.7806431072906719\n"
     ]
    },
    {
     "name": "stderr",
     "output_type": "stream",
     "text": [
      " 14%|█▍        | 4/28 [11:01<1:06:32, 166.37s/it]"
     ]
    },
    {
     "name": "stdout",
     "output_type": "stream",
     "text": [
      "Fitting feature 4\n",
      "4\n",
      "0.7757544224765869\n",
      "32\n",
      "0.7849865951742628\n",
      "60\n",
      "0.7915174882952354\n",
      "116\n",
      "0.7956243329775881\n",
      "172\n",
      "0.7998918334234721\n",
      "0\n",
      "0.8024891774891775\n",
      "15\n",
      "0.8025959978366685\n",
      "22\n",
      "0.8028245518739815\n",
      "23\n",
      "0.8034744842562431\n",
      "58\n",
      "0.8037991858887381\n"
     ]
    },
    {
     "name": "stderr",
     "output_type": "stream",
     "text": [
      " 18%|█▊        | 5/28 [13:36<1:02:31, 163.10s/it]"
     ]
    },
    {
     "name": "stdout",
     "output_type": "stream",
     "text": [
      "Fitting feature 5\n",
      "5\n",
      "0.6931027209449484\n",
      "33\n",
      "0.7092138630600169\n",
      "89\n",
      "0.7136545339785398\n",
      "117\n",
      "0.7180907734924354\n",
      "3\n",
      "0.7187435420541434\n",
      "6\n",
      "0.7187951310088714\n",
      "7\n",
      "0.7191568505889647\n",
      "11\n",
      "0.7194542071531941\n",
      "25\n",
      "0.7194869673148531\n",
      "26\n",
      "0.7197047365183514\n",
      "31\n",
      "0.7198523379819524\n",
      "40\n",
      "0.7201477226097661\n",
      "41\n",
      "0.7201806610552248\n",
      "55\n",
      "0.7204257060990585\n",
      "57\n",
      "0.7206212957285918\n",
      "58\n",
      "0.7215137803373097\n",
      "62\n",
      "0.7215815485996705\n",
      "63\n",
      "0.7216282894736843\n",
      "67\n",
      "0.721891058581706\n",
      "68\n",
      "0.7220394736842104\n",
      "70\n",
      "0.7224506578947367\n",
      "77\n",
      "0.7227132579650566\n",
      "79\n",
      "0.722737579880437\n",
      "87\n",
      "0.723607647547797\n",
      "95\n",
      "0.7236431690580161\n",
      "96\n",
      "0.7241379310344827\n",
      "98\n",
      "0.7244029075804777\n",
      "108\n",
      "0.7245894824360839\n",
      "111\n",
      "0.7247401247401247\n",
      "115\n",
      "0.7255599748796315\n",
      "120\n",
      "0.7258267057346169\n",
      "127\n",
      "0.7259414225941422\n",
      "143\n",
      "0.7260960334029227\n",
      "158\n",
      "0.7263993316624896\n"
     ]
    },
    {
     "name": "stderr",
     "output_type": "stream",
     "text": [
      " 21%|██▏       | 6/28 [16:24<1:00:18, 164.48s/it]"
     ]
    },
    {
     "name": "stdout",
     "output_type": "stream",
     "text": [
      "Fitting feature 6\n",
      "6\n",
      "0.5623242736644798\n",
      "34\n",
      "0.6057737813535258\n",
      "62\n",
      "0.6175748649975454\n",
      "118\n",
      "0.6339622641509435\n",
      "146\n",
      "0.6424664346096469\n",
      "174\n",
      "0.6444007858546169\n",
      "2\n",
      "0.6447174447174446\n",
      "5\n",
      "0.6453516969995081\n",
      "20\n",
      "0.6456692913385828\n",
      "21\n",
      "0.647117296222664\n",
      "25\n",
      "0.6500244738130201\n",
      "26\n",
      "0.6503428011753184\n",
      "39\n",
      "0.6510034263338229\n",
      "45\n",
      "0.6513222331047992\n",
      "46\n",
      "0.6516413522782949\n",
      "56\n",
      "0.6519823788546255\n",
      "57\n",
      "0.6523016650342802\n",
      "137\n",
      "0.6542526421741318\n",
      "151\n",
      "0.6546003016591252\n",
      "187\n",
      "0.6549295774647887\n"
     ]
    },
    {
     "name": "stderr",
     "output_type": "stream",
     "text": [
      " 25%|██▌       | 7/28 [19:01<56:46, 162.23s/it]  "
     ]
    },
    {
     "name": "stdout",
     "output_type": "stream",
     "text": [
      "Fitting feature 7\n",
      "7\n",
      "0.8000750891683875\n",
      "35\n",
      "0.8154300479881874\n",
      "63\n",
      "0.8207444886158295\n",
      "91\n",
      "0.823443756825628\n",
      "119\n",
      "0.8249027237354086\n",
      "147\n",
      "0.8283870967741935\n",
      "1\n",
      "0.8287822878228782\n",
      "2\n",
      "0.8288652221814177\n",
      "23\n",
      "0.8295997062063899\n",
      "25\n",
      "0.8297405918889295\n",
      "28\n",
      "0.8300784814747216\n",
      "29\n",
      "0.8306686046511628\n",
      "30\n",
      "0.8310933527061387\n",
      "32\n",
      "0.831334060341694\n",
      "37\n",
      "0.8313625613971257\n",
      "46\n",
      "0.8315058479532164\n",
      "47\n",
      "0.8315674095725247\n",
      "53\n",
      "0.8322368421052633\n",
      "69\n",
      "0.8323276650210276\n",
      "84\n",
      "0.8326649653663872\n",
      "85\n",
      "0.8327259475218658\n",
      "87\n",
      "0.8328167730173199\n",
      "90\n",
      "0.8330295297119942\n",
      "92\n",
      "0.8331814038286236\n",
      "124\n",
      "0.8333333333333334\n",
      "138\n",
      "0.8334853182564289\n",
      "178\n",
      "0.8337586584032082\n",
      "181\n",
      "0.8339106654512306\n"
     ]
    },
    {
     "name": "stderr",
     "output_type": "stream",
     "text": [
      " 29%|██▊       | 8/28 [21:48<54:32, 163.61s/it]"
     ]
    },
    {
     "name": "stdout",
     "output_type": "stream",
     "text": [
      "Fitting feature 8\n",
      "8\n",
      "0.9074074074074073\n",
      "36\n",
      "0.9215686274509803\n",
      "92\n",
      "0.9306930693069307\n"
     ]
    },
    {
     "name": "stderr",
     "output_type": "stream",
     "text": [
      " 32%|███▏      | 9/28 [24:09<49:43, 157.02s/it]"
     ]
    },
    {
     "name": "stdout",
     "output_type": "stream",
     "text": [
      "Fitting feature 9\n",
      "9\n",
      "0.8409090909090908\n",
      "37\n",
      "0.9130434782608695\n",
      "93\n",
      "0.9148936170212767\n",
      "121\n",
      "0.924731182795699\n"
     ]
    },
    {
     "name": "stderr",
     "output_type": "stream",
     "text": [
      " 36%|███▌      | 10/28 [26:33<45:56, 153.12s/it]"
     ]
    },
    {
     "name": "stdout",
     "output_type": "stream",
     "text": [
      "Fitting feature 10\n",
      "10\n",
      "0.8518518518518519\n",
      "38\n",
      "0.923076923076923\n",
      "66\n",
      "0.9259259259259259\n",
      "94\n",
      "0.9285714285714286\n",
      "122\n",
      "0.9454545454545454\n"
     ]
    },
    {
     "name": "stderr",
     "output_type": "stream",
     "text": [
      " 39%|███▉      | 11/28 [28:56<42:28, 149.93s/it]"
     ]
    },
    {
     "name": "stdout",
     "output_type": "stream",
     "text": [
      "Fitting feature 11\n",
      "11\n",
      "0.7424872861766065\n",
      "39\n",
      "0.7769985974754557\n",
      "67\n",
      "0.78544061302682\n",
      "95\n",
      "0.7894992707826932\n",
      "123\n",
      "0.794970986460348\n",
      "179\n",
      "0.8013371537726838\n",
      "0\n",
      "0.8026692087702575\n",
      "77\n",
      "0.8032551460028723\n",
      "78\n",
      "0.803639846743295\n",
      "100\n",
      "0.8038277511961723\n",
      "192\n",
      "0.8042226487523992\n"
     ]
    },
    {
     "name": "stderr",
     "output_type": "stream",
     "text": [
      " 43%|████▎     | 12/28 [31:31<40:22, 151.41s/it]"
     ]
    },
    {
     "name": "stdout",
     "output_type": "stream",
     "text": [
      "Fitting feature 12\n",
      "12\n",
      "0.6856368563685636\n",
      "40\n",
      "0.7109004739336494\n",
      "68\n",
      "0.7198211624441132\n",
      "124\n",
      "0.7267683772538143\n",
      "152\n",
      "0.7391613361762616\n",
      "180\n",
      "0.7449856733524355\n",
      "6\n",
      "0.7458840372226198\n",
      "21\n",
      "0.7490802060338484\n",
      "22\n",
      "0.7496318114874816\n",
      "28\n",
      "0.7501842299189388\n",
      "86\n",
      "0.750367107195301\n",
      "190\n",
      "0.7516292541636495\n"
     ]
    },
    {
     "name": "stderr",
     "output_type": "stream",
     "text": [
      " 46%|████▋     | 13/28 [34:03<37:57, 151.83s/it]"
     ]
    },
    {
     "name": "stdout",
     "output_type": "stream",
     "text": [
      "Fitting feature 13\n",
      "13\n",
      "0.6941649899396379\n",
      "41\n",
      "0.722620266120778\n",
      "69\n",
      "0.7512899896800824\n",
      "125\n",
      "0.7597989949748744\n",
      "0\n",
      "0.7601184600197433\n",
      "4\n",
      "0.7611496531219029\n",
      "37\n",
      "0.7616221562809099\n",
      "49\n",
      "0.7630522088353415\n",
      "50\n",
      "0.7655310621242485\n",
      "51\n",
      "0.7662988966900701\n",
      "60\n",
      "0.7665995975855131\n",
      "77\n",
      "0.7668711656441718\n",
      "91\n",
      "0.7676560900716478\n",
      "134\n",
      "0.7687564234326824\n"
     ]
    },
    {
     "name": "stderr",
     "output_type": "stream",
     "text": [
      " 50%|█████     | 14/28 [36:35<35:25, 151.80s/it]"
     ]
    },
    {
     "name": "stdout",
     "output_type": "stream",
     "text": [
      "Fitting feature 14\n",
      "14\n",
      "0.8389715832205684\n",
      "42\n",
      "0.860093896713615\n",
      "70\n",
      "0.869198312236287\n",
      "98\n",
      "0.8729703915950334\n",
      "126\n",
      "0.8748841519925856\n",
      "154\n",
      "0.8775413711583924\n",
      "2\n",
      "0.8780718336483933\n",
      "12\n",
      "0.878186968838527\n",
      "16\n",
      "0.8783068783068783\n",
      "19\n",
      "0.8787295476419633\n",
      "21\n",
      "0.8791946308724832\n",
      "22\n",
      "0.8795411089866156\n",
      "26\n",
      "0.8797316722568279\n",
      "34\n",
      "0.8799999999999999\n",
      "44\n",
      "0.8801552644347405\n",
      "48\n",
      "0.8805825242718447\n",
      "67\n",
      "0.8807339449541285\n",
      "75\n",
      "0.8812741312741311\n",
      "133\n",
      "0.8823529411764706\n",
      "134\n",
      "0.8827785817655572\n"
     ]
    },
    {
     "name": "stderr",
     "output_type": "stream",
     "text": [
      " 54%|█████▎    | 15/28 [39:13<33:15, 153.48s/it]"
     ]
    },
    {
     "name": "stdout",
     "output_type": "stream",
     "text": [
      "Fitting feature 15\n",
      "15\n",
      "0.6666666666666666\n",
      "71\n",
      "0.6857142857142857\n"
     ]
    },
    {
     "name": "stderr",
     "output_type": "stream",
     "text": [
      " 57%|█████▋    | 16/28 [41:33<29:53, 149.47s/it]"
     ]
    },
    {
     "name": "stdout",
     "output_type": "stream",
     "text": [
      "Fitting feature 16\n",
      "16\n",
      "0.4134790528233151\n",
      "72\n",
      "0.45286686103012636\n",
      "100\n",
      "0.4653130287648054\n",
      "128\n",
      "0.47070506454816285\n",
      "156\n",
      "0.4918414918414919\n",
      "184\n",
      "0.4946745562130178\n",
      "0\n",
      "0.49592549476135034\n",
      "2\n",
      "0.49767441860465117\n",
      "4\n",
      "0.4988399071925755\n",
      "17\n",
      "0.5021276595744681\n",
      "18\n",
      "0.5031982942430704\n",
      "19\n",
      "0.5038335158817087\n",
      "21\n",
      "0.5048335123523094\n",
      "23\n",
      "0.5053763440860214\n",
      "25\n",
      "0.5056433408577877\n",
      "28\n",
      "0.5062146892655368\n",
      "32\n",
      "0.507760532150776\n",
      "35\n",
      "0.5082872928176795\n",
      "42\n",
      "0.5105438401775806\n",
      "58\n",
      "0.5111111111111112\n",
      "59\n",
      "0.5139043381535039\n",
      "60\n",
      "0.5144766146993318\n",
      "84\n",
      "0.5150501672240803\n",
      "98\n",
      "0.5154867256637169\n",
      "114\n",
      "0.5160575858250277\n",
      "125\n",
      "0.516629711751663\n",
      "181\n",
      "0.5172031076581576\n"
     ]
    },
    {
     "name": "stderr",
     "output_type": "stream",
     "text": [
      " 61%|██████    | 17/28 [44:09<27:47, 151.62s/it]"
     ]
    },
    {
     "name": "stdout",
     "output_type": "stream",
     "text": [
      "Fitting feature 17\n",
      "17\n",
      "0.4043478260869565\n",
      "45\n",
      "0.4096385542168674\n",
      "129\n",
      "0.4324324324324324\n",
      "185\n",
      "0.45412844036697253\n",
      "2\n",
      "0.4547563805104408\n",
      "14\n",
      "0.4551724137931034\n",
      "28\n",
      "0.45622119815668205\n",
      "34\n",
      "0.45833333333333337\n",
      "58\n",
      "0.45977011494252873\n",
      "86\n",
      "0.46082949308755755\n",
      "113\n",
      "0.4618937644341801\n"
     ]
    },
    {
     "name": "stderr",
     "output_type": "stream",
     "text": [
      " 64%|██████▍   | 18/28 [46:36<25:01, 150.16s/it]"
     ]
    },
    {
     "name": "stdout",
     "output_type": "stream",
     "text": [
      "Fitting feature 18\n",
      "18\n",
      "0.5225027442371021\n",
      "46\n",
      "0.5598669623059866\n",
      "74\n",
      "0.5754422476586888\n",
      "102\n",
      "0.5777777777777777\n",
      "130\n",
      "0.5810575246949449\n",
      "14\n",
      "0.5813549507817024\n",
      "21\n",
      "0.5815279361459522\n",
      "34\n",
      "0.5818596691386195\n",
      "35\n",
      "0.581986143187067\n",
      "41\n",
      "0.5823223570190641\n",
      "42\n",
      "0.5831408775981525\n",
      "44\n",
      "0.5836711059640995\n",
      "52\n",
      "0.5839002267573696\n",
      "57\n",
      "0.5841526894158473\n",
      "68\n",
      "0.5844907407407408\n",
      "78\n",
      "0.5847025495750708\n",
      "79\n",
      "0.585034013605442\n",
      "89\n",
      "0.5880361173814899\n",
      "137\n",
      "0.588235294117647\n",
      "140\n",
      "0.5899363794100636\n",
      "144\n",
      "0.5908828620888633\n",
      "145\n",
      "0.5913544668587896\n",
      "146\n",
      "0.5916955017301038\n",
      "182\n",
      "0.5920369301788805\n",
      "194\n",
      "0.592378752886836\n"
     ]
    },
    {
     "name": "stderr",
     "output_type": "stream",
     "text": [
      " 68%|██████▊   | 19/28 [49:13<22:50, 152.26s/it]"
     ]
    },
    {
     "name": "stdout",
     "output_type": "stream",
     "text": [
      "Fitting feature 19\n",
      "19\n",
      "0.6118892001244943\n",
      "47\n",
      "0.6307258632840027\n",
      "75\n",
      "0.6403242147922998\n",
      "131\n",
      "0.6488316965797494\n",
      "187\n",
      "0.6595121951219513\n",
      "1\n",
      "0.6607958251793868\n",
      "2\n",
      "0.6610169491525425\n",
      "9\n",
      "0.6612324747310074\n",
      "16\n",
      "0.662748938948743\n",
      "26\n",
      "0.6629653821032006\n",
      "44\n",
      "0.6629762292412894\n",
      "68\n",
      "0.6631921824104233\n",
      "69\n",
      "0.6634082763115021\n",
      "174\n",
      "0.6634114583333333\n"
     ]
    },
    {
     "name": "stderr",
     "output_type": "stream",
     "text": [
      " 71%|███████▏  | 20/28 [51:51<20:31, 153.95s/it]"
     ]
    },
    {
     "name": "stdout",
     "output_type": "stream",
     "text": [
      "Fitting feature 20\n",
      "20\n",
      "0.6072423398328691\n",
      "48\n",
      "0.653968253968254\n",
      "76\n",
      "0.6686217008797654\n",
      "160\n",
      "0.7171052631578947\n",
      "188\n",
      "0.7191780821917808\n"
     ]
    },
    {
     "name": "stderr",
     "output_type": "stream",
     "text": [
      " 75%|███████▌  | 21/28 [54:15<17:35, 150.81s/it]"
     ]
    },
    {
     "name": "stdout",
     "output_type": "stream",
     "text": [
      "Fitting feature 21\n",
      "21\n",
      "0.6661354581673307\n",
      "49\n",
      "0.6817610062893082\n",
      "77\n",
      "0.6918075422626788\n",
      "105\n",
      "0.6936628977123324\n",
      "133\n",
      "0.6967181713701954\n",
      "161\n",
      "0.7021727609962903\n",
      "0\n",
      "0.7033639143730887\n",
      "6\n",
      "0.7050691244239632\n",
      "7\n",
      "0.7053856978380454\n",
      "10\n",
      "0.7055961070559611\n",
      "13\n",
      "0.7056705670567057\n",
      "19\n",
      "0.7058671824629272\n",
      "23\n",
      "0.7061855670103092\n",
      "33\n",
      "0.7062459755312299\n",
      "37\n",
      "0.7063369397217929\n",
      "175\n",
      "0.7065497679216091\n"
     ]
    },
    {
     "name": "stderr",
     "output_type": "stream",
     "text": [
      " 79%|███████▊  | 22/28 [57:02<15:34, 155.77s/it]"
     ]
    },
    {
     "name": "stdout",
     "output_type": "stream",
     "text": [
      "Fitting feature 22\n",
      "22\n",
      "0.5974329054842473\n",
      "50\n",
      "0.6332916145181476\n",
      "78\n",
      "0.6523341523341523\n",
      "162\n",
      "0.6644649933949802\n",
      "190\n",
      "0.6649076517150396\n",
      "3\n",
      "0.6653465346534654\n",
      "4\n",
      "0.6662269129287599\n",
      "11\n",
      "0.6666666666666667\n",
      "20\n",
      "0.667107001321004\n",
      "21\n",
      "0.67012987012987\n",
      "26\n",
      "0.6705501618122978\n",
      "28\n",
      "0.6707021791767555\n",
      "31\n",
      "0.6723095525997582\n",
      "158\n",
      "0.6727162734422262\n"
     ]
    },
    {
     "name": "stderr",
     "output_type": "stream",
     "text": [
      " 82%|████████▏ | 23/28 [59:35<12:54, 154.83s/it]"
     ]
    },
    {
     "name": "stdout",
     "output_type": "stream",
     "text": [
      "Fitting feature 23\n",
      "23\n",
      "0.8014718766427193\n",
      "51\n",
      "0.8160762942779293\n",
      "79\n",
      "0.8173109818679439\n",
      "135\n",
      "0.8186078805762887\n",
      "163\n",
      "0.8246797033041134\n",
      "191\n",
      "0.8283963227783452\n",
      "2\n",
      "0.8287123660486476\n",
      "7\n",
      "0.829611817244933\n",
      "19\n",
      "0.829754337742656\n",
      "20\n",
      "0.8301045774044231\n",
      "22\n",
      "0.8303311031051638\n",
      "26\n",
      "0.8306160974772612\n",
      "31\n",
      "0.8308167467398765\n",
      "32\n",
      "0.8310752872577601\n",
      "40\n",
      "0.8311019567456231\n",
      "59\n",
      "0.8311599176389841\n",
      "74\n",
      "0.831302557061953\n",
      "86\n",
      "0.8314452454514247\n",
      "97\n",
      "0.831645786854299\n",
      "175\n",
      "0.8319039451114923\n",
      "177\n",
      "0.8320466632355464\n",
      "186\n",
      "0.8322170702387086\n"
     ]
    },
    {
     "name": "stderr",
     "output_type": "stream",
     "text": [
      " 86%|████████▌ | 24/28 [1:02:19<10:30, 157.58s/it]"
     ]
    },
    {
     "name": "stdout",
     "output_type": "stream",
     "text": [
      "Fitting feature 24\n",
      "24\n",
      "0.6807866868381242\n",
      "52\n",
      "0.7260940032414911\n",
      "80\n",
      "0.7342995169082125\n",
      "108\n",
      "0.7390648567119156\n",
      "192\n",
      "0.7468354430379748\n",
      "2\n",
      "0.7475083056478405\n",
      "3\n",
      "0.7488151658767773\n"
     ]
    },
    {
     "name": "stderr",
     "output_type": "stream",
     "text": [
      " 89%|████████▉ | 25/28 [1:04:44<07:42, 154.01s/it]"
     ]
    },
    {
     "name": "stdout",
     "output_type": "stream",
     "text": [
      "Fitting feature 25\n",
      "25\n",
      "0.679745493107105\n",
      "53\n",
      "0.6881991664838781\n",
      "81\n",
      "0.6969515839808726\n",
      "109\n",
      "0.7\n",
      "165\n",
      "0.7042776080314272\n",
      "0\n",
      "0.7064805798983014\n",
      "1\n",
      "0.7065440778799352\n",
      "2\n",
      "0.706931451392308\n",
      "5\n",
      "0.7073478571036602\n",
      "7\n",
      "0.7078769196895469\n",
      "8\n",
      "0.7079597337587326\n",
      "11\n",
      "0.708354011579818\n",
      "15\n",
      "0.7084321402966965\n",
      "29\n",
      "0.7088342340355135\n",
      "30\n",
      "0.7089276862917884\n",
      "31\n",
      "0.7089457748417286\n",
      "36\n",
      "0.7090098519456215\n",
      "45\n",
      "0.7092276445078773\n",
      "48\n",
      "0.7093055174306891\n",
      "57\n",
      "0.709426094590146\n",
      "83\n",
      "0.7094650205761316\n",
      "85\n",
      "0.709925340360123\n",
      "89\n",
      "0.7099676339897966\n",
      "93\n",
      "0.7100916424298962\n",
      "99\n",
      "0.7101624231782266\n",
      "117\n",
      "0.7101942280258972\n",
      "121\n",
      "0.7102085620197586\n",
      "140\n",
      "0.7107201759208357\n",
      "143\n",
      "0.7109082911809984\n",
      "155\n",
      "0.7110182537937103\n",
      "176\n",
      "0.711096447817002\n"
     ]
    },
    {
     "name": "stderr",
     "output_type": "stream",
     "text": [
      " 93%|█████████▎| 26/28 [1:07:45<05:24, 162.16s/it]"
     ]
    },
    {
     "name": "stdout",
     "output_type": "stream",
     "text": [
      "Fitting feature 26\n",
      "26\n",
      "0.528358208955224\n",
      "54\n",
      "0.5576923076923077\n",
      "82\n",
      "0.5774647887323944\n",
      "110\n",
      "0.5846599131693198\n",
      "5\n",
      "0.5858585858585859\n",
      "25\n",
      "0.5863570391872279\n",
      "30\n",
      "0.5884057971014492\n",
      "47\n",
      "0.5892597968069666\n"
     ]
    },
    {
     "name": "stderr",
     "output_type": "stream",
     "text": [
      " 96%|█████████▋| 27/28 [1:10:13<02:37, 157.67s/it]"
     ]
    },
    {
     "name": "stdout",
     "output_type": "stream",
     "text": [
      "Fitting feature 27\n",
      "27\n",
      "0.7200000000000001\n",
      "55\n",
      "0.7826086956521738\n",
      "83\n",
      "0.8181818181818182\n"
     ]
    },
    {
     "name": "stderr",
     "output_type": "stream",
     "text": [
      "100%|██████████| 28/28 [1:12:33<00:00, 152.41s/it]\n"
     ]
    }
   ],
   "source": [
    "all_columns = set(range(196))\n",
    "\n",
    "all_good_features = []\n",
    "all_best_scores = []\n",
    "\n",
    "for ii in tqdm(range(28)):\n",
    "    print(\"Fitting feature\", ii)\n",
    "    first_seven =  set(np.array(range(7))*(28)+ii)\n",
    "    the_rest = np.array(list(all_columns - first_seven))\n",
    "    the_list = list(np.sort(list(first_seven)))+list(the_rest)\n",
    "    best_score = 0\n",
    "    good_features = []\n",
    "    for feature in the_list:\n",
    "        new_oof = np.zeros(train_seven.shape[0])\n",
    "        temp_good_features = good_features+[feature]\n",
    "        for i in range(4):\n",
    "            val_idx = np.where(cluster4 == i)[0]\n",
    "            trn_idx = np.where(cluster4 != i)[0]\n",
    "            train_x, val_x = train_seven[:,temp_good_features][trn_idx, :], train_seven[:,temp_good_features][val_idx, :]\n",
    "            train_y, val_y = y[:,ii][trn_idx], y[:,ii][val_idx]\n",
    "            clf = Ridge(alpha=0)\n",
    "            clf.fit(train_x, train_y)\n",
    "            oof_preds = clf.predict(val_x)\n",
    "            new_oof[val_idx] = oof_preds\n",
    "            \n",
    "        scaler = MinMaxScaler()\n",
    "        new_oof = scaler.fit_transform(new_oof.reshape(-1,1))\n",
    "        scores = [f1_score(y[:,ii], (new_oof > th)*1.,) for th in thresholds_0]\n",
    "        new_score = np.max(scores)\n",
    "        if new_score > best_score:\n",
    "            print(feature)\n",
    "            print(new_score)\n",
    "            best_score = new_score\n",
    "            good_features.append(feature)\n",
    "            \n",
    "    all_best_scores.append(best_score)\n",
    "            \n",
    "    all_good_features.append(good_features)\n",
    "        "
   ]
  },
  {
   "cell_type": "code",
   "execution_count": 84,
   "metadata": {},
   "outputs": [
    {
     "data": {
      "text/plain": [
       "0.7523193382946214"
      ]
     },
     "execution_count": 84,
     "metadata": {},
     "output_type": "execute_result"
    }
   ],
   "source": [
    "np.mean(all_best_scores)"
   ]
  },
  {
   "cell_type": "code",
   "execution_count": 85,
   "metadata": {},
   "outputs": [],
   "source": [
    "np.save('all_good_features_3', all_good_features)"
   ]
  },
  {
   "cell_type": "code",
   "execution_count": 86,
   "metadata": {},
   "outputs": [],
   "source": [
    "sub_dir = '../../Human_Protein_Atlas/metafeatures/sub/'"
   ]
  },
  {
   "cell_type": "code",
   "execution_count": 97,
   "metadata": {},
   "outputs": [],
   "source": [
    "idf, pooff, yooff = pickle.load(open(sub_dir+glist[0]+'_'+str(0)+'_mm.pkl','rb'))"
   ]
  },
  {
   "cell_type": "code",
   "execution_count": 100,
   "metadata": {},
   "outputs": [
    {
     "data": {
      "text/plain": [
       "11702"
      ]
     },
     "execution_count": 100,
     "metadata": {},
     "output_type": "execute_result"
    }
   ],
   "source": [
    "len(idf)"
   ]
  },
  {
   "cell_type": "code",
   "execution_count": 102,
   "metadata": {},
   "outputs": [
    {
     "data": {
      "text/plain": [
       "(31072, 8)"
      ]
     },
     "execution_count": 102,
     "metadata": {},
     "output_type": "execute_result"
    }
   ],
   "source": [
    "oof.shape"
   ]
  },
  {
   "cell_type": "code",
   "execution_count": 107,
   "metadata": {},
   "outputs": [],
   "source": [
    "yooff = yooff.reshape((11702, 28))"
   ]
  },
  {
   "cell_type": "code",
   "execution_count": 104,
   "metadata": {},
   "outputs": [
    {
     "ename": "AssertionError",
     "evalue": "Shape of new values must be compatible with manager shape",
     "output_type": "error",
     "traceback": [
      "\u001b[0;31m---------------------------------------------------------------------------\u001b[0m",
      "\u001b[0;31mAssertionError\u001b[0m                            Traceback (most recent call last)",
      "\u001b[0;32m<ipython-input-104-102875f536f8>\u001b[0m in \u001b[0;36m<module>\u001b[0;34m\u001b[0m\n\u001b[1;32m      1\u001b[0m \u001b[0msub\u001b[0m \u001b[0;34m=\u001b[0m \u001b[0mpd\u001b[0m\u001b[0;34m.\u001b[0m\u001b[0mDataFrame\u001b[0m\u001b[0;34m(\u001b[0m\u001b[0;34m{\u001b[0m\u001b[0;34m'Id'\u001b[0m\u001b[0;34m:\u001b[0m\u001b[0midf\u001b[0m\u001b[0;34m}\u001b[0m\u001b[0;34m)\u001b[0m\u001b[0;34m\u001b[0m\u001b[0m\n\u001b[0;32m----> 2\u001b[0;31m \u001b[0msub\u001b[0m\u001b[0;34m[\u001b[0m\u001b[0mglist\u001b[0m\u001b[0;34m[\u001b[0m\u001b[0;36m0\u001b[0m\u001b[0;34m]\u001b[0m\u001b[0;34m]\u001b[0m \u001b[0;34m=\u001b[0m \u001b[0myooff\u001b[0m\u001b[0;34m\u001b[0m\u001b[0m\n\u001b[0m\u001b[1;32m      3\u001b[0m \u001b[0msub\u001b[0m\u001b[0;34m.\u001b[0m\u001b[0mhead\u001b[0m\u001b[0;34m(\u001b[0m\u001b[0;34m)\u001b[0m\u001b[0;34m\u001b[0m\u001b[0m\n",
      "\u001b[0;32m~/anaconda3/lib/python3.6/site-packages/pandas/core/frame.py\u001b[0m in \u001b[0;36m__setitem__\u001b[0;34m(self, key, value)\u001b[0m\n\u001b[1;32m   3117\u001b[0m         \u001b[0;32melse\u001b[0m\u001b[0;34m:\u001b[0m\u001b[0;34m\u001b[0m\u001b[0m\n\u001b[1;32m   3118\u001b[0m             \u001b[0;31m# set column\u001b[0m\u001b[0;34m\u001b[0m\u001b[0;34m\u001b[0m\u001b[0m\n\u001b[0;32m-> 3119\u001b[0;31m             \u001b[0mself\u001b[0m\u001b[0;34m.\u001b[0m\u001b[0m_set_item\u001b[0m\u001b[0;34m(\u001b[0m\u001b[0mkey\u001b[0m\u001b[0;34m,\u001b[0m \u001b[0mvalue\u001b[0m\u001b[0;34m)\u001b[0m\u001b[0;34m\u001b[0m\u001b[0m\n\u001b[0m\u001b[1;32m   3120\u001b[0m \u001b[0;34m\u001b[0m\u001b[0m\n\u001b[1;32m   3121\u001b[0m     \u001b[0;32mdef\u001b[0m \u001b[0m_setitem_slice\u001b[0m\u001b[0;34m(\u001b[0m\u001b[0mself\u001b[0m\u001b[0;34m,\u001b[0m \u001b[0mkey\u001b[0m\u001b[0;34m,\u001b[0m \u001b[0mvalue\u001b[0m\u001b[0;34m)\u001b[0m\u001b[0;34m:\u001b[0m\u001b[0;34m\u001b[0m\u001b[0m\n",
      "\u001b[0;32m~/anaconda3/lib/python3.6/site-packages/pandas/core/frame.py\u001b[0m in \u001b[0;36m_set_item\u001b[0;34m(self, key, value)\u001b[0m\n\u001b[1;32m   3193\u001b[0m         \u001b[0mself\u001b[0m\u001b[0;34m.\u001b[0m\u001b[0m_ensure_valid_index\u001b[0m\u001b[0;34m(\u001b[0m\u001b[0mvalue\u001b[0m\u001b[0;34m)\u001b[0m\u001b[0;34m\u001b[0m\u001b[0m\n\u001b[1;32m   3194\u001b[0m         \u001b[0mvalue\u001b[0m \u001b[0;34m=\u001b[0m \u001b[0mself\u001b[0m\u001b[0;34m.\u001b[0m\u001b[0m_sanitize_column\u001b[0m\u001b[0;34m(\u001b[0m\u001b[0mkey\u001b[0m\u001b[0;34m,\u001b[0m \u001b[0mvalue\u001b[0m\u001b[0;34m)\u001b[0m\u001b[0;34m\u001b[0m\u001b[0m\n\u001b[0;32m-> 3195\u001b[0;31m         \u001b[0mNDFrame\u001b[0m\u001b[0;34m.\u001b[0m\u001b[0m_set_item\u001b[0m\u001b[0;34m(\u001b[0m\u001b[0mself\u001b[0m\u001b[0;34m,\u001b[0m \u001b[0mkey\u001b[0m\u001b[0;34m,\u001b[0m \u001b[0mvalue\u001b[0m\u001b[0;34m)\u001b[0m\u001b[0;34m\u001b[0m\u001b[0m\n\u001b[0m\u001b[1;32m   3196\u001b[0m \u001b[0;34m\u001b[0m\u001b[0m\n\u001b[1;32m   3197\u001b[0m         \u001b[0;31m# check if we are modifying a copy\u001b[0m\u001b[0;34m\u001b[0m\u001b[0;34m\u001b[0m\u001b[0m\n",
      "\u001b[0;32m~/anaconda3/lib/python3.6/site-packages/pandas/core/generic.py\u001b[0m in \u001b[0;36m_set_item\u001b[0;34m(self, key, value)\u001b[0m\n\u001b[1;32m   2598\u001b[0m \u001b[0;34m\u001b[0m\u001b[0m\n\u001b[1;32m   2599\u001b[0m     \u001b[0;32mdef\u001b[0m \u001b[0m_set_item\u001b[0m\u001b[0;34m(\u001b[0m\u001b[0mself\u001b[0m\u001b[0;34m,\u001b[0m \u001b[0mkey\u001b[0m\u001b[0;34m,\u001b[0m \u001b[0mvalue\u001b[0m\u001b[0;34m)\u001b[0m\u001b[0;34m:\u001b[0m\u001b[0;34m\u001b[0m\u001b[0m\n\u001b[0;32m-> 2600\u001b[0;31m         \u001b[0mself\u001b[0m\u001b[0;34m.\u001b[0m\u001b[0m_data\u001b[0m\u001b[0;34m.\u001b[0m\u001b[0mset\u001b[0m\u001b[0;34m(\u001b[0m\u001b[0mkey\u001b[0m\u001b[0;34m,\u001b[0m \u001b[0mvalue\u001b[0m\u001b[0;34m)\u001b[0m\u001b[0;34m\u001b[0m\u001b[0m\n\u001b[0m\u001b[1;32m   2601\u001b[0m         \u001b[0mself\u001b[0m\u001b[0;34m.\u001b[0m\u001b[0m_clear_item_cache\u001b[0m\u001b[0;34m(\u001b[0m\u001b[0;34m)\u001b[0m\u001b[0;34m\u001b[0m\u001b[0m\n\u001b[1;32m   2602\u001b[0m \u001b[0;34m\u001b[0m\u001b[0m\n",
      "\u001b[0;32m~/anaconda3/lib/python3.6/site-packages/pandas/core/internals.py\u001b[0m in \u001b[0;36mset\u001b[0;34m(self, item, value, check)\u001b[0m\n\u001b[1;32m   4237\u001b[0m \u001b[0;34m\u001b[0m\u001b[0m\n\u001b[1;32m   4238\u001b[0m             \u001b[0;32mif\u001b[0m \u001b[0mvalue\u001b[0m\u001b[0;34m.\u001b[0m\u001b[0mshape\u001b[0m\u001b[0;34m[\u001b[0m\u001b[0;36m1\u001b[0m\u001b[0;34m:\u001b[0m\u001b[0;34m]\u001b[0m \u001b[0;34m!=\u001b[0m \u001b[0mself\u001b[0m\u001b[0;34m.\u001b[0m\u001b[0mshape\u001b[0m\u001b[0;34m[\u001b[0m\u001b[0;36m1\u001b[0m\u001b[0;34m:\u001b[0m\u001b[0;34m]\u001b[0m\u001b[0;34m:\u001b[0m\u001b[0;34m\u001b[0m\u001b[0m\n\u001b[0;32m-> 4239\u001b[0;31m                 raise AssertionError('Shape of new values must be compatible '\n\u001b[0m\u001b[1;32m   4240\u001b[0m                                      'with manager shape')\n\u001b[1;32m   4241\u001b[0m \u001b[0;34m\u001b[0m\u001b[0m\n",
      "\u001b[0;31mAssertionError\u001b[0m: Shape of new values must be compatible with manager shape"
     ]
    }
   ],
   "source": [
    "sub = pd.DataFrame({'Id':idf})\n",
    "mdf[m] = [poof[i] for i in range(poof.shape[0])]\n",
    "sub[glist[0]] = yooff\n",
    "sub.head()"
   ]
  },
  {
   "cell_type": "code",
   "execution_count": 109,
   "metadata": {},
   "outputs": [
    {
     "data": {
      "text/plain": [
       "array([[9.55297410e-01, 1.18937194e-02, 2.45674308e-02, ...,\n",
       "        4.32572931e-01, 3.18431885e-05, 6.78549895e-07],\n",
       "       [9.74752843e-01, 9.93778408e-01, 3.71722549e-01, ...,\n",
       "        1.39700353e-01, 3.35894380e-04, 2.66457664e-06],\n",
       "       [9.68016803e-01, 8.20586551e-03, 2.91540354e-01, ...,\n",
       "        4.82627362e-01, 1.33526605e-03, 1.79891267e-05],\n",
       "       ...,\n",
       "       [5.15302159e-02, 1.68831944e-02, 9.27164927e-02, ...,\n",
       "        6.66059852e-01, 2.07813628e-05, 1.10266128e-05],\n",
       "       [3.96215528e-01, 1.85226798e-02, 9.03444052e-01, ...,\n",
       "        9.90998745e-01, 7.64248520e-03, 1.78813445e-06],\n",
       "       [9.93071616e-01, 2.34166771e-01, 9.96309578e-01, ...,\n",
       "        6.13405406e-01, 2.90418714e-02, 2.25477779e-05]])"
      ]
     },
     "execution_count": 109,
     "metadata": {},
     "output_type": "execute_result"
    }
   ],
   "source": [
    "train_seven"
   ]
  },
  {
   "cell_type": "code",
   "execution_count": null,
   "metadata": {},
   "outputs": [],
   "source": [
    "\n",
    "sub = df.copy()\n",
    "# print(oof.head())\n",
    "# print(oof.shape)\n",
    "eps = 1e-6\n",
    "\n",
    "for k,m in enumerate(glist):\n",
    "    # print(m),\n",
    "    first = True\n",
    "    for fold in range(nfold):\n",
    "        idf, pooff, yooff = pickle.load(open(sub_dir+m+'_'+str(fold)+'_mm.pkl','rb'))\n",
    "        # change to probability scale\n",
    "        pooff = expit(pooff)\n",
    "        \n",
    "\n",
    "        if first:\n",
    "            id = idf\n",
    "            poof = pooff.copy()\n",
    "            yoof = yooff.copy()\n",
    "            first = False\n",
    "        else:\n",
    "            id = id + idf\n",
    "            poof = np.concatenate((poof,pooff))\n",
    "            yoof = np.concatenate((yoof,yooff))\n",
    "    \n",
    "    mdf = pd.DataFrame({'Id':id})\n",
    "    # print(poof.shape)\n",
    "    if k==0: mdf['y'] = [yoof[i] for i in range(yoof.shape[0])]\n",
    "    mdf[m] = [poof[i] for i in range(poof.shape[0])]\n",
    "    mdf.set_index('Id',inplace=True)\n",
    "    oof = oof.join(mdf)"
   ]
  },
  {
   "cell_type": "code",
   "execution_count": 121,
   "metadata": {},
   "outputs": [
    {
     "data": {
      "text/plain": [
       "array([[1., 0., 0., ..., 0., 0., 0.],\n",
       "       [0., 1., 0., ..., 0., 0., 0.],\n",
       "       [1., 0., 0., ..., 0., 0., 0.],\n",
       "       ...,\n",
       "       [0., 0., 0., ..., 0., 0., 0.],\n",
       "       [0., 0., 0., ..., 0., 0., 0.],\n",
       "       [1., 0., 1., ..., 0., 0., 0.]], dtype=float32)"
      ]
     },
     "execution_count": 121,
     "metadata": {},
     "output_type": "execute_result"
    }
   ],
   "source": [
    "yoof"
   ]
  },
  {
   "cell_type": "code",
   "execution_count": 130,
   "metadata": {},
   "outputs": [],
   "source": [
    "folds = []\n",
    "\n",
    "for fold in range(nfold):\n",
    "    preds = []\n",
    "    for k,m in enumerate(glist):\n",
    "        idf, pooff, yooff = pickle.load(open(sub_dir+m+'_'+str(fold)+'_mm.pkl','rb'))\n",
    "        pooff = pooff.reshape((11702, 28))\n",
    "        preds.append(pooff)\n",
    "    christoff_pred = np.load('../../Human_Protein_Atlas/metafeatures/oof/GAPNet_14_ext/pred'+str(fold)+'.npy')\n",
    "    preds.append(christoff_pred)\n",
    "    folds.append(preds)"
   ]
  },
  {
   "cell_type": "code",
   "execution_count": 131,
   "metadata": {},
   "outputs": [
    {
     "data": {
      "text/plain": [
       "(11702, 196)"
      ]
     },
     "execution_count": 131,
     "metadata": {},
     "output_type": "execute_result"
    }
   ],
   "source": [
    "np.hstack(folds[0]).shape"
   ]
  },
  {
   "cell_type": "code",
   "execution_count": 128,
   "metadata": {},
   "outputs": [],
   "source": [
    "christoff_pred_0 = np.load('../../Human_Protein_Atlas/metafeatures/oof/GAPNet_14_ext/pred0.npy')"
   ]
  },
  {
   "cell_type": "code",
   "execution_count": 129,
   "metadata": {},
   "outputs": [
    {
     "data": {
      "text/plain": [
       "(11702, 28)"
      ]
     },
     "execution_count": 129,
     "metadata": {},
     "output_type": "execute_result"
    }
   ],
   "source": [
    "christoff_pred_0.shape"
   ]
  },
  {
   "cell_type": "code",
   "execution_count": 138,
   "metadata": {},
   "outputs": [
    {
     "data": {
      "text/plain": [
       "(11702, 12)"
      ]
     },
     "execution_count": 138,
     "metadata": {},
     "output_type": "execute_result"
    }
   ],
   "source": [
    "np.hstack(folds[0])[:,all_good_features[0]].shape"
   ]
  },
  {
   "cell_type": "code",
   "execution_count": 133,
   "metadata": {},
   "outputs": [
    {
     "data": {
      "text/plain": [
       "28"
      ]
     },
     "execution_count": 133,
     "metadata": {},
     "output_type": "execute_result"
    }
   ],
   "source": [
    "len(all_good_features)"
   ]
  },
  {
   "cell_type": "code",
   "execution_count": 134,
   "metadata": {},
   "outputs": [],
   "source": [
    "from sklearn.linear_model import LogisticRegression"
   ]
  },
  {
   "cell_type": "code",
   "execution_count": 136,
   "metadata": {},
   "outputs": [],
   "source": [
    "clf = LogisticRegression()"
   ]
  },
  {
   "cell_type": "code",
   "execution_count": null,
   "metadata": {},
   "outputs": [],
   "source": [
    "clf.pred"
   ]
  },
  {
   "cell_type": "code",
   "execution_count": 214,
   "metadata": {},
   "outputs": [
    {
     "name": "stderr",
     "output_type": "stream",
     "text": [
      "\n",
      "  0%|          | 0/28 [00:00<?, ?it/s]\u001b[A"
     ]
    },
    {
     "name": "stdout",
     "output_type": "stream",
     "text": [
      "Fitting feature 0\n"
     ]
    },
    {
     "name": "stderr",
     "output_type": "stream",
     "text": [
      "/Users/btunguz/anaconda3/lib/python3.6/site-packages/sklearn/linear_model/logistic.py:433: FutureWarning: Default solver will be changed to 'lbfgs' in 0.22. Specify a solver to silence this warning.\n",
      "  FutureWarning)\n",
      "/Users/btunguz/anaconda3/lib/python3.6/site-packages/sklearn/linear_model/logistic.py:433: FutureWarning: Default solver will be changed to 'lbfgs' in 0.22. Specify a solver to silence this warning.\n",
      "  FutureWarning)\n",
      "/Users/btunguz/anaconda3/lib/python3.6/site-packages/sklearn/linear_model/logistic.py:433: FutureWarning: Default solver will be changed to 'lbfgs' in 0.22. Specify a solver to silence this warning.\n",
      "  FutureWarning)\n",
      "/Users/btunguz/anaconda3/lib/python3.6/site-packages/sklearn/linear_model/logistic.py:433: FutureWarning: Default solver will be changed to 'lbfgs' in 0.22. Specify a solver to silence this warning.\n",
      "  FutureWarning)\n",
      "\n",
      "  4%|▎         | 1/28 [00:01<00:40,  1.50s/it]\u001b[A/Users/btunguz/anaconda3/lib/python3.6/site-packages/sklearn/linear_model/logistic.py:433: FutureWarning: Default solver will be changed to 'lbfgs' in 0.22. Specify a solver to silence this warning.\n",
      "  FutureWarning)\n",
      "/Users/btunguz/anaconda3/lib/python3.6/site-packages/sklearn/linear_model/logistic.py:433: FutureWarning: Default solver will be changed to 'lbfgs' in 0.22. Specify a solver to silence this warning.\n",
      "  FutureWarning)\n"
     ]
    },
    {
     "name": "stdout",
     "output_type": "stream",
     "text": [
      "Fitting feature 1\n"
     ]
    },
    {
     "name": "stderr",
     "output_type": "stream",
     "text": [
      "/Users/btunguz/anaconda3/lib/python3.6/site-packages/sklearn/linear_model/logistic.py:433: FutureWarning: Default solver will be changed to 'lbfgs' in 0.22. Specify a solver to silence this warning.\n",
      "  FutureWarning)\n",
      "/Users/btunguz/anaconda3/lib/python3.6/site-packages/sklearn/linear_model/logistic.py:433: FutureWarning: Default solver will be changed to 'lbfgs' in 0.22. Specify a solver to silence this warning.\n",
      "  FutureWarning)\n",
      "\n",
      "  7%|▋         | 2/28 [00:01<00:30,  1.17s/it]\u001b[A/Users/btunguz/anaconda3/lib/python3.6/site-packages/sklearn/linear_model/logistic.py:433: FutureWarning: Default solver will be changed to 'lbfgs' in 0.22. Specify a solver to silence this warning.\n",
      "  FutureWarning)\n",
      "/Users/btunguz/anaconda3/lib/python3.6/site-packages/sklearn/linear_model/logistic.py:433: FutureWarning: Default solver will be changed to 'lbfgs' in 0.22. Specify a solver to silence this warning.\n",
      "  FutureWarning)\n"
     ]
    },
    {
     "name": "stdout",
     "output_type": "stream",
     "text": [
      "Fitting feature 2\n"
     ]
    },
    {
     "name": "stderr",
     "output_type": "stream",
     "text": [
      "/Users/btunguz/anaconda3/lib/python3.6/site-packages/sklearn/linear_model/logistic.py:433: FutureWarning: Default solver will be changed to 'lbfgs' in 0.22. Specify a solver to silence this warning.\n",
      "  FutureWarning)\n",
      "/Users/btunguz/anaconda3/lib/python3.6/site-packages/sklearn/linear_model/logistic.py:433: FutureWarning: Default solver will be changed to 'lbfgs' in 0.22. Specify a solver to silence this warning.\n",
      "  FutureWarning)\n",
      "\n",
      " 11%|█         | 3/28 [00:02<00:24,  1.01it/s]\u001b[A/Users/btunguz/anaconda3/lib/python3.6/site-packages/sklearn/linear_model/logistic.py:433: FutureWarning: Default solver will be changed to 'lbfgs' in 0.22. Specify a solver to silence this warning.\n",
      "  FutureWarning)\n",
      "/Users/btunguz/anaconda3/lib/python3.6/site-packages/sklearn/linear_model/logistic.py:433: FutureWarning: Default solver will be changed to 'lbfgs' in 0.22. Specify a solver to silence this warning.\n",
      "  FutureWarning)\n",
      "/Users/btunguz/anaconda3/lib/python3.6/site-packages/sklearn/linear_model/logistic.py:433: FutureWarning: Default solver will be changed to 'lbfgs' in 0.22. Specify a solver to silence this warning.\n",
      "  FutureWarning)\n"
     ]
    },
    {
     "name": "stdout",
     "output_type": "stream",
     "text": [
      "Fitting feature 3\n"
     ]
    },
    {
     "name": "stderr",
     "output_type": "stream",
     "text": [
      "/Users/btunguz/anaconda3/lib/python3.6/site-packages/sklearn/linear_model/logistic.py:433: FutureWarning: Default solver will be changed to 'lbfgs' in 0.22. Specify a solver to silence this warning.\n",
      "  FutureWarning)\n",
      "\n",
      " 14%|█▍        | 4/28 [00:02<00:18,  1.28it/s]\u001b[A/Users/btunguz/anaconda3/lib/python3.6/site-packages/sklearn/linear_model/logistic.py:433: FutureWarning: Default solver will be changed to 'lbfgs' in 0.22. Specify a solver to silence this warning.\n",
      "  FutureWarning)\n",
      "/Users/btunguz/anaconda3/lib/python3.6/site-packages/sklearn/linear_model/logistic.py:433: FutureWarning: Default solver will be changed to 'lbfgs' in 0.22. Specify a solver to silence this warning.\n",
      "  FutureWarning)\n",
      "/Users/btunguz/anaconda3/lib/python3.6/site-packages/sklearn/linear_model/logistic.py:433: FutureWarning: Default solver will be changed to 'lbfgs' in 0.22. Specify a solver to silence this warning.\n",
      "  FutureWarning)\n"
     ]
    },
    {
     "name": "stdout",
     "output_type": "stream",
     "text": [
      "Fitting feature 4\n"
     ]
    },
    {
     "name": "stderr",
     "output_type": "stream",
     "text": [
      "/Users/btunguz/anaconda3/lib/python3.6/site-packages/sklearn/linear_model/logistic.py:433: FutureWarning: Default solver will be changed to 'lbfgs' in 0.22. Specify a solver to silence this warning.\n",
      "  FutureWarning)\n",
      "\n",
      " 18%|█▊        | 5/28 [00:03<00:14,  1.56it/s]\u001b[A/Users/btunguz/anaconda3/lib/python3.6/site-packages/sklearn/linear_model/logistic.py:433: FutureWarning: Default solver will be changed to 'lbfgs' in 0.22. Specify a solver to silence this warning.\n",
      "  FutureWarning)\n"
     ]
    },
    {
     "name": "stdout",
     "output_type": "stream",
     "text": [
      "Fitting feature 5\n"
     ]
    },
    {
     "name": "stderr",
     "output_type": "stream",
     "text": [
      "/Users/btunguz/anaconda3/lib/python3.6/site-packages/sklearn/linear_model/logistic.py:433: FutureWarning: Default solver will be changed to 'lbfgs' in 0.22. Specify a solver to silence this warning.\n",
      "  FutureWarning)\n",
      "/Users/btunguz/anaconda3/lib/python3.6/site-packages/sklearn/linear_model/logistic.py:433: FutureWarning: Default solver will be changed to 'lbfgs' in 0.22. Specify a solver to silence this warning.\n",
      "  FutureWarning)\n",
      "/Users/btunguz/anaconda3/lib/python3.6/site-packages/sklearn/linear_model/logistic.py:433: FutureWarning: Default solver will be changed to 'lbfgs' in 0.22. Specify a solver to silence this warning.\n",
      "  FutureWarning)\n",
      "\n",
      " 21%|██▏       | 6/28 [00:03<00:15,  1.41it/s]\u001b[A/Users/btunguz/anaconda3/lib/python3.6/site-packages/sklearn/linear_model/logistic.py:433: FutureWarning: Default solver will be changed to 'lbfgs' in 0.22. Specify a solver to silence this warning.\n",
      "  FutureWarning)\n",
      "/Users/btunguz/anaconda3/lib/python3.6/site-packages/sklearn/linear_model/logistic.py:433: FutureWarning: Default solver will be changed to 'lbfgs' in 0.22. Specify a solver to silence this warning.\n",
      "  FutureWarning)\n"
     ]
    },
    {
     "name": "stdout",
     "output_type": "stream",
     "text": [
      "Fitting feature 6\n"
     ]
    },
    {
     "name": "stderr",
     "output_type": "stream",
     "text": [
      "/Users/btunguz/anaconda3/lib/python3.6/site-packages/sklearn/linear_model/logistic.py:433: FutureWarning: Default solver will be changed to 'lbfgs' in 0.22. Specify a solver to silence this warning.\n",
      "  FutureWarning)\n",
      "/Users/btunguz/anaconda3/lib/python3.6/site-packages/sklearn/linear_model/logistic.py:433: FutureWarning: Default solver will be changed to 'lbfgs' in 0.22. Specify a solver to silence this warning.\n",
      "  FutureWarning)\n",
      "\n",
      " 25%|██▌       | 7/28 [00:04<00:13,  1.52it/s]\u001b[A/Users/btunguz/anaconda3/lib/python3.6/site-packages/sklearn/linear_model/logistic.py:433: FutureWarning: Default solver will be changed to 'lbfgs' in 0.22. Specify a solver to silence this warning.\n",
      "  FutureWarning)\n"
     ]
    },
    {
     "name": "stdout",
     "output_type": "stream",
     "text": [
      "Fitting feature 7\n"
     ]
    },
    {
     "name": "stderr",
     "output_type": "stream",
     "text": [
      "/Users/btunguz/anaconda3/lib/python3.6/site-packages/sklearn/linear_model/logistic.py:433: FutureWarning: Default solver will be changed to 'lbfgs' in 0.22. Specify a solver to silence this warning.\n",
      "  FutureWarning)\n",
      "/Users/btunguz/anaconda3/lib/python3.6/site-packages/sklearn/linear_model/logistic.py:433: FutureWarning: Default solver will be changed to 'lbfgs' in 0.22. Specify a solver to silence this warning.\n",
      "  FutureWarning)\n",
      "/Users/btunguz/anaconda3/lib/python3.6/site-packages/sklearn/linear_model/logistic.py:433: FutureWarning: Default solver will be changed to 'lbfgs' in 0.22. Specify a solver to silence this warning.\n",
      "  FutureWarning)\n",
      "\n",
      " 29%|██▊       | 8/28 [00:05<00:13,  1.43it/s]\u001b[A/Users/btunguz/anaconda3/lib/python3.6/site-packages/sklearn/linear_model/logistic.py:433: FutureWarning: Default solver will be changed to 'lbfgs' in 0.22. Specify a solver to silence this warning.\n",
      "  FutureWarning)\n",
      "/Users/btunguz/anaconda3/lib/python3.6/site-packages/sklearn/linear_model/logistic.py:433: FutureWarning: Default solver will be changed to 'lbfgs' in 0.22. Specify a solver to silence this warning.\n",
      "  FutureWarning)\n",
      "/Users/btunguz/anaconda3/lib/python3.6/site-packages/sklearn/linear_model/logistic.py:433: FutureWarning: Default solver will be changed to 'lbfgs' in 0.22. Specify a solver to silence this warning.\n",
      "  FutureWarning)\n",
      "/Users/btunguz/anaconda3/lib/python3.6/site-packages/sklearn/linear_model/logistic.py:433: FutureWarning: Default solver will be changed to 'lbfgs' in 0.22. Specify a solver to silence this warning.\n",
      "  FutureWarning)\n"
     ]
    },
    {
     "name": "stdout",
     "output_type": "stream",
     "text": [
      "Fitting feature 8\n"
     ]
    },
    {
     "name": "stderr",
     "output_type": "stream",
     "text": [
      "\n",
      " 32%|███▏      | 9/28 [00:05<00:10,  1.82it/s]\u001b[A/Users/btunguz/anaconda3/lib/python3.6/site-packages/sklearn/linear_model/logistic.py:433: FutureWarning: Default solver will be changed to 'lbfgs' in 0.22. Specify a solver to silence this warning.\n",
      "  FutureWarning)\n",
      "/Users/btunguz/anaconda3/lib/python3.6/site-packages/sklearn/linear_model/logistic.py:433: FutureWarning: Default solver will be changed to 'lbfgs' in 0.22. Specify a solver to silence this warning.\n",
      "  FutureWarning)\n",
      "/Users/btunguz/anaconda3/lib/python3.6/site-packages/sklearn/linear_model/logistic.py:433: FutureWarning: Default solver will be changed to 'lbfgs' in 0.22. Specify a solver to silence this warning.\n",
      "  FutureWarning)\n",
      "/Users/btunguz/anaconda3/lib/python3.6/site-packages/sklearn/linear_model/logistic.py:433: FutureWarning: Default solver will be changed to 'lbfgs' in 0.22. Specify a solver to silence this warning.\n",
      "  FutureWarning)\n"
     ]
    },
    {
     "name": "stdout",
     "output_type": "stream",
     "text": [
      "Fitting feature 9\n"
     ]
    },
    {
     "name": "stderr",
     "output_type": "stream",
     "text": [
      "\n",
      " 36%|███▌      | 10/28 [00:05<00:08,  2.23it/s]\u001b[A/Users/btunguz/anaconda3/lib/python3.6/site-packages/sklearn/linear_model/logistic.py:433: FutureWarning: Default solver will be changed to 'lbfgs' in 0.22. Specify a solver to silence this warning.\n",
      "  FutureWarning)\n",
      "/Users/btunguz/anaconda3/lib/python3.6/site-packages/sklearn/linear_model/logistic.py:433: FutureWarning: Default solver will be changed to 'lbfgs' in 0.22. Specify a solver to silence this warning.\n",
      "  FutureWarning)\n",
      "/Users/btunguz/anaconda3/lib/python3.6/site-packages/sklearn/linear_model/logistic.py:433: FutureWarning: Default solver will be changed to 'lbfgs' in 0.22. Specify a solver to silence this warning.\n",
      "  FutureWarning)\n",
      "/Users/btunguz/anaconda3/lib/python3.6/site-packages/sklearn/linear_model/logistic.py:433: FutureWarning: Default solver will be changed to 'lbfgs' in 0.22. Specify a solver to silence this warning.\n",
      "  FutureWarning)\n"
     ]
    },
    {
     "name": "stdout",
     "output_type": "stream",
     "text": [
      "Fitting feature 10\n"
     ]
    },
    {
     "name": "stderr",
     "output_type": "stream",
     "text": [
      "\n",
      " 39%|███▉      | 11/28 [00:05<00:06,  2.60it/s]\u001b[A/Users/btunguz/anaconda3/lib/python3.6/site-packages/sklearn/linear_model/logistic.py:433: FutureWarning: Default solver will be changed to 'lbfgs' in 0.22. Specify a solver to silence this warning.\n",
      "  FutureWarning)\n",
      "/Users/btunguz/anaconda3/lib/python3.6/site-packages/sklearn/linear_model/logistic.py:433: FutureWarning: Default solver will be changed to 'lbfgs' in 0.22. Specify a solver to silence this warning.\n",
      "  FutureWarning)\n"
     ]
    },
    {
     "name": "stdout",
     "output_type": "stream",
     "text": [
      "Fitting feature 11\n"
     ]
    },
    {
     "name": "stderr",
     "output_type": "stream",
     "text": [
      "/Users/btunguz/anaconda3/lib/python3.6/site-packages/sklearn/linear_model/logistic.py:433: FutureWarning: Default solver will be changed to 'lbfgs' in 0.22. Specify a solver to silence this warning.\n",
      "  FutureWarning)\n",
      "/Users/btunguz/anaconda3/lib/python3.6/site-packages/sklearn/linear_model/logistic.py:433: FutureWarning: Default solver will be changed to 'lbfgs' in 0.22. Specify a solver to silence this warning.\n",
      "  FutureWarning)\n",
      "\n",
      " 43%|████▎     | 12/28 [00:06<00:05,  2.68it/s]\u001b[A/Users/btunguz/anaconda3/lib/python3.6/site-packages/sklearn/linear_model/logistic.py:433: FutureWarning: Default solver will be changed to 'lbfgs' in 0.22. Specify a solver to silence this warning.\n",
      "  FutureWarning)\n",
      "/Users/btunguz/anaconda3/lib/python3.6/site-packages/sklearn/linear_model/logistic.py:433: FutureWarning: Default solver will be changed to 'lbfgs' in 0.22. Specify a solver to silence this warning.\n",
      "  FutureWarning)\n"
     ]
    },
    {
     "name": "stdout",
     "output_type": "stream",
     "text": [
      "Fitting feature 12\n"
     ]
    },
    {
     "name": "stderr",
     "output_type": "stream",
     "text": [
      "/Users/btunguz/anaconda3/lib/python3.6/site-packages/sklearn/linear_model/logistic.py:433: FutureWarning: Default solver will be changed to 'lbfgs' in 0.22. Specify a solver to silence this warning.\n",
      "  FutureWarning)\n",
      "/Users/btunguz/anaconda3/lib/python3.6/site-packages/sklearn/linear_model/logistic.py:433: FutureWarning: Default solver will be changed to 'lbfgs' in 0.22. Specify a solver to silence this warning.\n",
      "  FutureWarning)\n",
      "\n",
      " 46%|████▋     | 13/28 [00:06<00:05,  2.66it/s]\u001b[A/Users/btunguz/anaconda3/lib/python3.6/site-packages/sklearn/linear_model/logistic.py:433: FutureWarning: Default solver will be changed to 'lbfgs' in 0.22. Specify a solver to silence this warning.\n",
      "  FutureWarning)\n",
      "/Users/btunguz/anaconda3/lib/python3.6/site-packages/sklearn/linear_model/logistic.py:433: FutureWarning: Default solver will be changed to 'lbfgs' in 0.22. Specify a solver to silence this warning.\n",
      "  FutureWarning)\n"
     ]
    },
    {
     "name": "stdout",
     "output_type": "stream",
     "text": [
      "Fitting feature 13\n"
     ]
    },
    {
     "name": "stderr",
     "output_type": "stream",
     "text": [
      "/Users/btunguz/anaconda3/lib/python3.6/site-packages/sklearn/linear_model/logistic.py:433: FutureWarning: Default solver will be changed to 'lbfgs' in 0.22. Specify a solver to silence this warning.\n",
      "  FutureWarning)\n",
      "/Users/btunguz/anaconda3/lib/python3.6/site-packages/sklearn/linear_model/logistic.py:433: FutureWarning: Default solver will be changed to 'lbfgs' in 0.22. Specify a solver to silence this warning.\n",
      "  FutureWarning)\n",
      "\n",
      " 50%|█████     | 14/28 [00:07<00:05,  2.54it/s]\u001b[A/Users/btunguz/anaconda3/lib/python3.6/site-packages/sklearn/linear_model/logistic.py:433: FutureWarning: Default solver will be changed to 'lbfgs' in 0.22. Specify a solver to silence this warning.\n",
      "  FutureWarning)\n",
      "/Users/btunguz/anaconda3/lib/python3.6/site-packages/sklearn/linear_model/logistic.py:433: FutureWarning: Default solver will be changed to 'lbfgs' in 0.22. Specify a solver to silence this warning.\n",
      "  FutureWarning)\n"
     ]
    },
    {
     "name": "stdout",
     "output_type": "stream",
     "text": [
      "Fitting feature 14\n"
     ]
    },
    {
     "name": "stderr",
     "output_type": "stream",
     "text": [
      "/Users/btunguz/anaconda3/lib/python3.6/site-packages/sklearn/linear_model/logistic.py:433: FutureWarning: Default solver will be changed to 'lbfgs' in 0.22. Specify a solver to silence this warning.\n",
      "  FutureWarning)\n",
      "/Users/btunguz/anaconda3/lib/python3.6/site-packages/sklearn/linear_model/logistic.py:433: FutureWarning: Default solver will be changed to 'lbfgs' in 0.22. Specify a solver to silence this warning.\n",
      "  FutureWarning)\n",
      "\n",
      " 54%|█████▎    | 15/28 [00:07<00:05,  2.48it/s]\u001b[A/Users/btunguz/anaconda3/lib/python3.6/site-packages/sklearn/linear_model/logistic.py:433: FutureWarning: Default solver will be changed to 'lbfgs' in 0.22. Specify a solver to silence this warning.\n",
      "  FutureWarning)\n",
      "/Users/btunguz/anaconda3/lib/python3.6/site-packages/sklearn/linear_model/logistic.py:433: FutureWarning: Default solver will be changed to 'lbfgs' in 0.22. Specify a solver to silence this warning.\n",
      "  FutureWarning)\n",
      "/Users/btunguz/anaconda3/lib/python3.6/site-packages/sklearn/linear_model/logistic.py:433: FutureWarning: Default solver will be changed to 'lbfgs' in 0.22. Specify a solver to silence this warning.\n",
      "  FutureWarning)\n",
      "/Users/btunguz/anaconda3/lib/python3.6/site-packages/sklearn/linear_model/logistic.py:433: FutureWarning: Default solver will be changed to 'lbfgs' in 0.22. Specify a solver to silence this warning.\n",
      "  FutureWarning)\n",
      "\n",
      " 57%|█████▋    | 16/28 [00:07<00:04,  2.96it/s]\u001b[A"
     ]
    },
    {
     "name": "stdout",
     "output_type": "stream",
     "text": [
      "Fitting feature 15\n",
      "Fitting feature 16\n"
     ]
    },
    {
     "name": "stderr",
     "output_type": "stream",
     "text": [
      "/Users/btunguz/anaconda3/lib/python3.6/site-packages/sklearn/linear_model/logistic.py:433: FutureWarning: Default solver will be changed to 'lbfgs' in 0.22. Specify a solver to silence this warning.\n",
      "  FutureWarning)\n",
      "/Users/btunguz/anaconda3/lib/python3.6/site-packages/sklearn/linear_model/logistic.py:433: FutureWarning: Default solver will be changed to 'lbfgs' in 0.22. Specify a solver to silence this warning.\n",
      "  FutureWarning)\n",
      "/Users/btunguz/anaconda3/lib/python3.6/site-packages/sklearn/linear_model/logistic.py:433: FutureWarning: Default solver will be changed to 'lbfgs' in 0.22. Specify a solver to silence this warning.\n",
      "  FutureWarning)\n",
      "/Users/btunguz/anaconda3/lib/python3.6/site-packages/sklearn/linear_model/logistic.py:433: FutureWarning: Default solver will be changed to 'lbfgs' in 0.22. Specify a solver to silence this warning.\n",
      "  FutureWarning)\n",
      "\n",
      " 61%|██████    | 17/28 [00:08<00:04,  2.36it/s]\u001b[A/Users/btunguz/anaconda3/lib/python3.6/site-packages/sklearn/linear_model/logistic.py:433: FutureWarning: Default solver will be changed to 'lbfgs' in 0.22. Specify a solver to silence this warning.\n",
      "  FutureWarning)\n",
      "/Users/btunguz/anaconda3/lib/python3.6/site-packages/sklearn/linear_model/logistic.py:433: FutureWarning: Default solver will be changed to 'lbfgs' in 0.22. Specify a solver to silence this warning.\n",
      "  FutureWarning)\n",
      "/Users/btunguz/anaconda3/lib/python3.6/site-packages/sklearn/linear_model/logistic.py:433: FutureWarning: Default solver will be changed to 'lbfgs' in 0.22. Specify a solver to silence this warning.\n",
      "  FutureWarning)\n"
     ]
    },
    {
     "name": "stdout",
     "output_type": "stream",
     "text": [
      "Fitting feature 17\n"
     ]
    },
    {
     "name": "stderr",
     "output_type": "stream",
     "text": [
      "/Users/btunguz/anaconda3/lib/python3.6/site-packages/sklearn/linear_model/logistic.py:433: FutureWarning: Default solver will be changed to 'lbfgs' in 0.22. Specify a solver to silence this warning.\n",
      "  FutureWarning)\n",
      "\n",
      " 64%|██████▍   | 18/28 [00:08<00:03,  2.62it/s]\u001b[A/Users/btunguz/anaconda3/lib/python3.6/site-packages/sklearn/linear_model/logistic.py:433: FutureWarning: Default solver will be changed to 'lbfgs' in 0.22. Specify a solver to silence this warning.\n",
      "  FutureWarning)\n",
      "/Users/btunguz/anaconda3/lib/python3.6/site-packages/sklearn/linear_model/logistic.py:433: FutureWarning: Default solver will be changed to 'lbfgs' in 0.22. Specify a solver to silence this warning.\n",
      "  FutureWarning)\n"
     ]
    },
    {
     "name": "stdout",
     "output_type": "stream",
     "text": [
      "Fitting feature 18\n"
     ]
    },
    {
     "name": "stderr",
     "output_type": "stream",
     "text": [
      "/Users/btunguz/anaconda3/lib/python3.6/site-packages/sklearn/linear_model/logistic.py:433: FutureWarning: Default solver will be changed to 'lbfgs' in 0.22. Specify a solver to silence this warning.\n",
      "  FutureWarning)\n",
      "/Users/btunguz/anaconda3/lib/python3.6/site-packages/sklearn/linear_model/logistic.py:433: FutureWarning: Default solver will be changed to 'lbfgs' in 0.22. Specify a solver to silence this warning.\n",
      "  FutureWarning)\n",
      "\n",
      " 68%|██████▊   | 19/28 [00:09<00:03,  2.45it/s]\u001b[A/Users/btunguz/anaconda3/lib/python3.6/site-packages/sklearn/linear_model/logistic.py:433: FutureWarning: Default solver will be changed to 'lbfgs' in 0.22. Specify a solver to silence this warning.\n",
      "  FutureWarning)\n",
      "/Users/btunguz/anaconda3/lib/python3.6/site-packages/sklearn/linear_model/logistic.py:433: FutureWarning: Default solver will be changed to 'lbfgs' in 0.22. Specify a solver to silence this warning.\n",
      "  FutureWarning)\n",
      "/Users/btunguz/anaconda3/lib/python3.6/site-packages/sklearn/linear_model/logistic.py:433: FutureWarning: Default solver will be changed to 'lbfgs' in 0.22. Specify a solver to silence this warning.\n",
      "  FutureWarning)\n"
     ]
    },
    {
     "name": "stdout",
     "output_type": "stream",
     "text": [
      "Fitting feature 19\n"
     ]
    },
    {
     "name": "stderr",
     "output_type": "stream",
     "text": [
      "/Users/btunguz/anaconda3/lib/python3.6/site-packages/sklearn/linear_model/logistic.py:433: FutureWarning: Default solver will be changed to 'lbfgs' in 0.22. Specify a solver to silence this warning.\n",
      "  FutureWarning)\n",
      "\n",
      " 71%|███████▏  | 20/28 [00:09<00:03,  2.57it/s]\u001b[A/Users/btunguz/anaconda3/lib/python3.6/site-packages/sklearn/linear_model/logistic.py:433: FutureWarning: Default solver will be changed to 'lbfgs' in 0.22. Specify a solver to silence this warning.\n",
      "  FutureWarning)\n",
      "/Users/btunguz/anaconda3/lib/python3.6/site-packages/sklearn/linear_model/logistic.py:433: FutureWarning: Default solver will be changed to 'lbfgs' in 0.22. Specify a solver to silence this warning.\n",
      "  FutureWarning)\n",
      "/Users/btunguz/anaconda3/lib/python3.6/site-packages/sklearn/linear_model/logistic.py:433: FutureWarning: Default solver will be changed to 'lbfgs' in 0.22. Specify a solver to silence this warning.\n",
      "  FutureWarning)\n",
      "/Users/btunguz/anaconda3/lib/python3.6/site-packages/sklearn/linear_model/logistic.py:433: FutureWarning: Default solver will be changed to 'lbfgs' in 0.22. Specify a solver to silence this warning.\n",
      "  FutureWarning)\n",
      "\n",
      " 75%|███████▌  | 21/28 [00:09<00:02,  3.02it/s]\u001b[A"
     ]
    },
    {
     "name": "stdout",
     "output_type": "stream",
     "text": [
      "Fitting feature 20\n",
      "Fitting feature 21\n"
     ]
    },
    {
     "name": "stderr",
     "output_type": "stream",
     "text": [
      "/Users/btunguz/anaconda3/lib/python3.6/site-packages/sklearn/linear_model/logistic.py:433: FutureWarning: Default solver will be changed to 'lbfgs' in 0.22. Specify a solver to silence this warning.\n",
      "  FutureWarning)\n",
      "/Users/btunguz/anaconda3/lib/python3.6/site-packages/sklearn/linear_model/logistic.py:433: FutureWarning: Default solver will be changed to 'lbfgs' in 0.22. Specify a solver to silence this warning.\n",
      "  FutureWarning)\n",
      "/Users/btunguz/anaconda3/lib/python3.6/site-packages/sklearn/linear_model/logistic.py:433: FutureWarning: Default solver will be changed to 'lbfgs' in 0.22. Specify a solver to silence this warning.\n",
      "  FutureWarning)\n",
      "/Users/btunguz/anaconda3/lib/python3.6/site-packages/sklearn/linear_model/logistic.py:433: FutureWarning: Default solver will be changed to 'lbfgs' in 0.22. Specify a solver to silence this warning.\n",
      "  FutureWarning)\n",
      "\n",
      " 79%|███████▊  | 22/28 [00:10<00:02,  2.84it/s]\u001b[A/Users/btunguz/anaconda3/lib/python3.6/site-packages/sklearn/linear_model/logistic.py:433: FutureWarning: Default solver will be changed to 'lbfgs' in 0.22. Specify a solver to silence this warning.\n",
      "  FutureWarning)\n",
      "/Users/btunguz/anaconda3/lib/python3.6/site-packages/sklearn/linear_model/logistic.py:433: FutureWarning: Default solver will be changed to 'lbfgs' in 0.22. Specify a solver to silence this warning.\n",
      "  FutureWarning)\n",
      "/Users/btunguz/anaconda3/lib/python3.6/site-packages/sklearn/linear_model/logistic.py:433: FutureWarning: Default solver will be changed to 'lbfgs' in 0.22. Specify a solver to silence this warning.\n",
      "  FutureWarning)\n"
     ]
    },
    {
     "name": "stdout",
     "output_type": "stream",
     "text": [
      "Fitting feature 22\n"
     ]
    },
    {
     "name": "stderr",
     "output_type": "stream",
     "text": [
      "/Users/btunguz/anaconda3/lib/python3.6/site-packages/sklearn/linear_model/logistic.py:433: FutureWarning: Default solver will be changed to 'lbfgs' in 0.22. Specify a solver to silence this warning.\n",
      "  FutureWarning)\n",
      "\n",
      " 82%|████████▏ | 23/28 [00:10<00:01,  2.82it/s]\u001b[A/Users/btunguz/anaconda3/lib/python3.6/site-packages/sklearn/linear_model/logistic.py:433: FutureWarning: Default solver will be changed to 'lbfgs' in 0.22. Specify a solver to silence this warning.\n",
      "  FutureWarning)\n",
      "/Users/btunguz/anaconda3/lib/python3.6/site-packages/sklearn/linear_model/logistic.py:433: FutureWarning: Default solver will be changed to 'lbfgs' in 0.22. Specify a solver to silence this warning.\n",
      "  FutureWarning)\n"
     ]
    },
    {
     "name": "stdout",
     "output_type": "stream",
     "text": [
      "Fitting feature 23\n"
     ]
    },
    {
     "name": "stderr",
     "output_type": "stream",
     "text": [
      "/Users/btunguz/anaconda3/lib/python3.6/site-packages/sklearn/linear_model/logistic.py:433: FutureWarning: Default solver will be changed to 'lbfgs' in 0.22. Specify a solver to silence this warning.\n",
      "  FutureWarning)\n",
      "/Users/btunguz/anaconda3/lib/python3.6/site-packages/sklearn/linear_model/logistic.py:433: FutureWarning: Default solver will be changed to 'lbfgs' in 0.22. Specify a solver to silence this warning.\n",
      "  FutureWarning)\n",
      "\n",
      " 86%|████████▌ | 24/28 [00:10<00:01,  2.46it/s]\u001b[A/Users/btunguz/anaconda3/lib/python3.6/site-packages/sklearn/linear_model/logistic.py:433: FutureWarning: Default solver will be changed to 'lbfgs' in 0.22. Specify a solver to silence this warning.\n",
      "  FutureWarning)\n",
      "/Users/btunguz/anaconda3/lib/python3.6/site-packages/sklearn/linear_model/logistic.py:433: FutureWarning: Default solver will be changed to 'lbfgs' in 0.22. Specify a solver to silence this warning.\n",
      "  FutureWarning)\n",
      "/Users/btunguz/anaconda3/lib/python3.6/site-packages/sklearn/linear_model/logistic.py:433: FutureWarning: Default solver will be changed to 'lbfgs' in 0.22. Specify a solver to silence this warning.\n",
      "  FutureWarning)\n",
      "/Users/btunguz/anaconda3/lib/python3.6/site-packages/sklearn/linear_model/logistic.py:433: FutureWarning: Default solver will be changed to 'lbfgs' in 0.22. Specify a solver to silence this warning.\n",
      "  FutureWarning)\n"
     ]
    },
    {
     "name": "stdout",
     "output_type": "stream",
     "text": [
      "Fitting feature 24\n"
     ]
    },
    {
     "name": "stderr",
     "output_type": "stream",
     "text": [
      "\n",
      " 89%|████████▉ | 25/28 [00:11<00:01,  2.84it/s]\u001b[A/Users/btunguz/anaconda3/lib/python3.6/site-packages/sklearn/linear_model/logistic.py:433: FutureWarning: Default solver will be changed to 'lbfgs' in 0.22. Specify a solver to silence this warning.\n",
      "  FutureWarning)\n"
     ]
    },
    {
     "name": "stdout",
     "output_type": "stream",
     "text": [
      "Fitting feature 25\n"
     ]
    },
    {
     "name": "stderr",
     "output_type": "stream",
     "text": [
      "/Users/btunguz/anaconda3/lib/python3.6/site-packages/sklearn/linear_model/logistic.py:433: FutureWarning: Default solver will be changed to 'lbfgs' in 0.22. Specify a solver to silence this warning.\n",
      "  FutureWarning)\n",
      "/Users/btunguz/anaconda3/lib/python3.6/site-packages/sklearn/linear_model/logistic.py:433: FutureWarning: Default solver will be changed to 'lbfgs' in 0.22. Specify a solver to silence this warning.\n",
      "  FutureWarning)\n",
      "/Users/btunguz/anaconda3/lib/python3.6/site-packages/sklearn/linear_model/logistic.py:433: FutureWarning: Default solver will be changed to 'lbfgs' in 0.22. Specify a solver to silence this warning.\n",
      "  FutureWarning)\n",
      "\n",
      " 93%|█████████▎| 26/28 [00:11<00:01,  1.99it/s]\u001b[A/Users/btunguz/anaconda3/lib/python3.6/site-packages/sklearn/linear_model/logistic.py:433: FutureWarning: Default solver will be changed to 'lbfgs' in 0.22. Specify a solver to silence this warning.\n",
      "  FutureWarning)\n",
      "/Users/btunguz/anaconda3/lib/python3.6/site-packages/sklearn/linear_model/logistic.py:433: FutureWarning: Default solver will be changed to 'lbfgs' in 0.22. Specify a solver to silence this warning.\n",
      "  FutureWarning)\n",
      "/Users/btunguz/anaconda3/lib/python3.6/site-packages/sklearn/linear_model/logistic.py:433: FutureWarning: Default solver will be changed to 'lbfgs' in 0.22. Specify a solver to silence this warning.\n",
      "  FutureWarning)\n",
      "/Users/btunguz/anaconda3/lib/python3.6/site-packages/sklearn/linear_model/logistic.py:433: FutureWarning: Default solver will be changed to 'lbfgs' in 0.22. Specify a solver to silence this warning.\n",
      "  FutureWarning)\n",
      "\n"
     ]
    },
    {
     "name": "stdout",
     "output_type": "stream",
     "text": [
      "Fitting feature 26\n"
     ]
    },
    {
     "name": "stderr",
     "output_type": "stream",
     "text": [
      " 96%|█████████▋| 27/28 [00:12<00:00,  2.42it/s]\u001b[A/Users/btunguz/anaconda3/lib/python3.6/site-packages/sklearn/linear_model/logistic.py:433: FutureWarning: Default solver will be changed to 'lbfgs' in 0.22. Specify a solver to silence this warning.\n",
      "  FutureWarning)\n",
      "/Users/btunguz/anaconda3/lib/python3.6/site-packages/sklearn/linear_model/logistic.py:433: FutureWarning: Default solver will be changed to 'lbfgs' in 0.22. Specify a solver to silence this warning.\n",
      "  FutureWarning)\n",
      "/Users/btunguz/anaconda3/lib/python3.6/site-packages/sklearn/linear_model/logistic.py:433: FutureWarning: Default solver will be changed to 'lbfgs' in 0.22. Specify a solver to silence this warning.\n",
      "  FutureWarning)\n",
      "/Users/btunguz/anaconda3/lib/python3.6/site-packages/sklearn/linear_model/logistic.py:433: FutureWarning: Default solver will be changed to 'lbfgs' in 0.22. Specify a solver to silence this warning.\n",
      "  FutureWarning)\n",
      "\n",
      "100%|██████████| 28/28 [00:12<00:00,  2.99it/s]\u001b[A\n",
      "\u001b[A"
     ]
    },
    {
     "name": "stdout",
     "output_type": "stream",
     "text": [
      "Fitting feature 27\n"
     ]
    }
   ],
   "source": [
    "best_scores = []\n",
    "best_thresholds = []\n",
    "total_preds = []\n",
    "total_preds_all_folds = []\n",
    "oofs = []\n",
    "for ii in tqdm(range(28)):\n",
    "    print(\"Fitting feature\", ii)\n",
    "    new_oof = np.zeros(train_seven.shape[0])\n",
    "    new_oof = new_oof.reshape(-1,1)\n",
    "    feature_preds = 0\n",
    "    feature_preds_list = []\n",
    "    for i in range(4):\n",
    "        val_idx = np.where(cluster4 == i)[0]\n",
    "        trn_idx = np.where(cluster4 != i)[0]\n",
    "        train_x, val_x = train_seven[:,all_good_features[ii]][trn_idx, :], train_seven[:,all_good_features[ii]][val_idx, :]\n",
    "        train_y, val_y = y[:,ii][trn_idx], y[:,ii][val_idx]\n",
    "        clf = LogisticRegression(C=0.2)\n",
    "        clf.fit(train_x, train_y)\n",
    "        oof_preds = clf.predict_proba(val_x)[:,1]\n",
    "        new_oof[val_idx] = oof_preds.reshape(-1,1)\n",
    "        feature_preds += 0.25*clf.predict_proba(np.hstack(folds[i])[:,all_good_features[ii]])[:,1]\n",
    "        feature_preds_list.append(clf.predict_proba(np.hstack(folds[i])[:,all_good_features[ii]])[:,1])\n",
    "            \n",
    "    oofs.append(new_oof)\n",
    "\n",
    "    #scores = [f1_score(y[:,ii], (new_oof > th)*1.,) for th in thresholds_0]\n",
    "    #new_score = np.max(scores)\n",
    "    #best_scores.append(best_score)\n",
    "    #best_thresholds.append((np.argmax(scores)+1)/100.)\n",
    "    \n",
    "    total_preds.append(feature_preds)\n",
    "    total_preds_all_folds.append(feature_preds_list)\n",
    "\n",
    "        "
   ]
  },
  {
   "cell_type": "code",
   "execution_count": 191,
   "metadata": {},
   "outputs": [
    {
     "data": {
      "text/plain": [
       "array([[0.82185963],\n",
       "       [0.58871823],\n",
       "       [0.84771541],\n",
       "       ...,\n",
       "       [0.00837861],\n",
       "       [0.03938513],\n",
       "       [0.85734962]])"
      ]
     },
     "execution_count": 191,
     "metadata": {},
     "output_type": "execute_result"
    }
   ],
   "source": [
    "oofs[0]"
   ]
  },
  {
   "cell_type": "code",
   "execution_count": 158,
   "metadata": {},
   "outputs": [
    {
     "data": {
      "text/plain": [
       "array([[7.47655741e-04],\n",
       "       [8.73129515e-01],\n",
       "       [8.33156465e-04],\n",
       "       ...,\n",
       "       [2.56638777e-03],\n",
       "       [2.55098265e-03],\n",
       "       [4.59512389e-03]])"
      ]
     },
     "execution_count": 158,
     "metadata": {},
     "output_type": "execute_result"
    }
   ],
   "source": [
    "oofs[1]"
   ]
  },
  {
   "cell_type": "code",
   "execution_count": 159,
   "metadata": {},
   "outputs": [
    {
     "data": {
      "text/plain": [
       "28"
      ]
     },
     "execution_count": 159,
     "metadata": {},
     "output_type": "execute_result"
    }
   ],
   "source": [
    "len(total_preds)"
   ]
  },
  {
   "cell_type": "code",
   "execution_count": 161,
   "metadata": {},
   "outputs": [
    {
     "data": {
      "text/plain": [
       "array([9.55019952e-05, 3.35504022e-04, 9.99999594e-01, ...,\n",
       "       1.13655942e-03, 9.79716737e-01, 9.95445614e-01])"
      ]
     },
     "execution_count": 161,
     "metadata": {},
     "output_type": "execute_result"
    }
   ],
   "source": [
    "total_preds[0]"
   ]
  },
  {
   "cell_type": "code",
   "execution_count": 166,
   "metadata": {},
   "outputs": [
    {
     "data": {
      "text/plain": [
       "array([0.95529741, 0.97475284, 0.9680168 , ..., 0.05153022, 0.39621553,\n",
       "       0.99307162])"
      ]
     },
     "execution_count": 166,
     "metadata": {},
     "output_type": "execute_result"
    }
   ],
   "source": [
    "train_seven[:,0]"
   ]
  },
  {
   "cell_type": "code",
   "execution_count": 169,
   "metadata": {},
   "outputs": [
    {
     "name": "stderr",
     "output_type": "stream",
     "text": [
      "/Users/btunguz/anaconda3/lib/python3.6/site-packages/sklearn/metrics/classification.py:1143: UndefinedMetricWarning: F-score is ill-defined and being set to 0.0 due to no predicted samples.\n",
      "  'precision', 'predicted', average, warn_for)\n"
     ]
    }
   ],
   "source": [
    "scores = [f1_score(y[:,0], (oofs[0].flatten() > th)*1.,) for th in thresholds_0]"
   ]
  },
  {
   "cell_type": "code",
   "execution_count": 170,
   "metadata": {},
   "outputs": [
    {
     "data": {
      "text/plain": [
       "0.8493475682087782"
      ]
     },
     "execution_count": 170,
     "metadata": {},
     "output_type": "execute_result"
    }
   ],
   "source": [
    "np.max(scores)"
   ]
  },
  {
   "cell_type": "code",
   "execution_count": 205,
   "metadata": {},
   "outputs": [
    {
     "name": "stderr",
     "output_type": "stream",
     "text": [
      "\n",
      "  0%|          | 0/28 [00:00<?, ?it/s]\u001b[A/Users/btunguz/anaconda3/lib/python3.6/site-packages/sklearn/metrics/classification.py:1143: UndefinedMetricWarning: F-score is ill-defined and being set to 0.0 due to no predicted samples.\n",
      "  'precision', 'predicted', average, warn_for)\n",
      "\n",
      "  4%|▎         | 1/28 [00:00<00:23,  1.14it/s]\u001b[A\n",
      "  7%|▋         | 2/28 [00:01<00:23,  1.11it/s]\u001b[A\n",
      " 11%|█         | 3/28 [00:02<00:22,  1.12it/s]\u001b[A\n",
      " 14%|█▍        | 4/28 [00:03<00:20,  1.14it/s]\u001b[A\n",
      " 18%|█▊        | 5/28 [00:04<00:19,  1.20it/s]\u001b[A\n",
      " 21%|██▏       | 6/28 [00:05<00:18,  1.18it/s]\u001b[A\n",
      " 25%|██▌       | 7/28 [00:05<00:17,  1.20it/s]\u001b[A\n",
      " 29%|██▊       | 8/28 [00:06<00:16,  1.21it/s]\u001b[A\n",
      " 32%|███▏      | 9/28 [00:07<00:15,  1.23it/s]\u001b[A\n",
      " 36%|███▌      | 10/28 [00:08<00:14,  1.28it/s]\u001b[A\n",
      " 39%|███▉      | 11/28 [00:08<00:12,  1.34it/s]\u001b[A\n",
      " 43%|████▎     | 12/28 [00:09<00:11,  1.36it/s]\u001b[A\n",
      " 46%|████▋     | 13/28 [00:10<00:10,  1.38it/s]\u001b[A\n",
      " 50%|█████     | 14/28 [00:10<00:09,  1.42it/s]\u001b[A\n",
      " 54%|█████▎    | 15/28 [00:11<00:09,  1.41it/s]\u001b[A\n",
      " 57%|█████▋    | 16/28 [00:12<00:08,  1.41it/s]\u001b[A\n",
      " 61%|██████    | 17/28 [00:13<00:07,  1.41it/s]\u001b[A\n",
      " 64%|██████▍   | 18/28 [00:13<00:06,  1.43it/s]\u001b[A\n",
      " 68%|██████▊   | 19/28 [00:14<00:06,  1.41it/s]\u001b[A\n",
      " 71%|███████▏  | 20/28 [00:15<00:05,  1.41it/s]\u001b[A\n",
      " 75%|███████▌  | 21/28 [00:15<00:04,  1.43it/s]\u001b[A\n",
      " 79%|███████▊  | 22/28 [00:16<00:04,  1.42it/s]\u001b[A\n",
      " 82%|████████▏ | 23/28 [00:17<00:03,  1.42it/s]\u001b[A\n",
      " 86%|████████▌ | 24/28 [00:18<00:02,  1.40it/s]\u001b[A\n",
      " 89%|████████▉ | 25/28 [00:18<00:02,  1.40it/s]\u001b[A\n",
      " 93%|█████████▎| 26/28 [00:19<00:01,  1.35it/s]\u001b[A\n",
      " 96%|█████████▋| 27/28 [00:20<00:00,  1.36it/s]\u001b[A\n",
      "100%|██████████| 28/28 [00:20<00:00,  1.41it/s]\u001b[A\n",
      "\u001b[A"
     ]
    }
   ],
   "source": [
    "best_scores = []\n",
    "best_thresholds = []\n",
    "for ii in tqdm(range(28)):\n",
    "    scores = [f1_score(y[:,ii], (oofs[ii].flatten() > th)*1.,) for th in thresholds_0]\n",
    "    best_scores.append(np.max(scores))\n",
    "    best_thresholds.append((np.argmax(scores)+1)/100.)"
   ]
  },
  {
   "cell_type": "code",
   "execution_count": 174,
   "metadata": {},
   "outputs": [
    {
     "data": {
      "text/plain": [
       "0.7544497944033335"
      ]
     },
     "execution_count": 174,
     "metadata": {},
     "output_type": "execute_result"
    }
   ],
   "source": [
    "np.mean(best_scores)"
   ]
  },
  {
   "cell_type": "code",
   "execution_count": 183,
   "metadata": {},
   "outputs": [
    {
     "data": {
      "text/plain": [
       "0.7536573651894838"
      ]
     },
     "execution_count": 183,
     "metadata": {},
     "output_type": "execute_result"
    }
   ],
   "source": [
    "np.mean(best_scores)"
   ]
  },
  {
   "cell_type": "code",
   "execution_count": 186,
   "metadata": {},
   "outputs": [
    {
     "data": {
      "text/plain": [
       "0.7547762635387866"
      ]
     },
     "execution_count": 186,
     "metadata": {},
     "output_type": "execute_result"
    }
   ],
   "source": [
    "np.mean(best_scores)"
   ]
  },
  {
   "cell_type": "code",
   "execution_count": 189,
   "metadata": {},
   "outputs": [
    {
     "data": {
      "text/plain": [
       "0.7499543011234424"
      ]
     },
     "execution_count": 189,
     "metadata": {},
     "output_type": "execute_result"
    }
   ],
   "source": [
    "np.mean(best_scores)"
   ]
  },
  {
   "cell_type": "code",
   "execution_count": 193,
   "metadata": {},
   "outputs": [
    {
     "data": {
      "text/plain": [
       "0.7547412880140296"
      ]
     },
     "execution_count": 193,
     "metadata": {},
     "output_type": "execute_result"
    }
   ],
   "source": [
    "np.mean(best_scores)"
   ]
  },
  {
   "cell_type": "code",
   "execution_count": 196,
   "metadata": {},
   "outputs": [
    {
     "data": {
      "text/plain": [
       "0.7522404917924858"
      ]
     },
     "execution_count": 196,
     "metadata": {},
     "output_type": "execute_result"
    }
   ],
   "source": [
    "np.mean(best_scores)"
   ]
  },
  {
   "cell_type": "code",
   "execution_count": 200,
   "metadata": {},
   "outputs": [
    {
     "data": {
      "text/plain": [
       "0.7546804953838604"
      ]
     },
     "execution_count": 200,
     "metadata": {},
     "output_type": "execute_result"
    }
   ],
   "source": [
    "np.mean(best_scores)"
   ]
  },
  {
   "cell_type": "code",
   "execution_count": 203,
   "metadata": {},
   "outputs": [
    {
     "data": {
      "text/plain": [
       "0.7529747904530862"
      ]
     },
     "execution_count": 203,
     "metadata": {},
     "output_type": "execute_result"
    }
   ],
   "source": [
    "np.mean(best_scores)"
   ]
  },
  {
   "cell_type": "code",
   "execution_count": 206,
   "metadata": {},
   "outputs": [
    {
     "data": {
      "text/plain": [
       "0.7547762635387866"
      ]
     },
     "execution_count": 206,
     "metadata": {},
     "output_type": "execute_result"
    }
   ],
   "source": [
    "np.mean(best_scores)"
   ]
  },
  {
   "cell_type": "code",
   "execution_count": 207,
   "metadata": {},
   "outputs": [
    {
     "data": {
      "text/plain": [
       "[0.58,\n",
       " 0.6,\n",
       " 0.62,\n",
       " 0.42,\n",
       " 0.51,\n",
       " 0.51,\n",
       " 0.3,\n",
       " 0.61,\n",
       " 0.04,\n",
       " 0.05,\n",
       " 0.05,\n",
       " 0.54,\n",
       " 0.41,\n",
       " 0.5,\n",
       " 0.59,\n",
       " 0.01,\n",
       " 0.31,\n",
       " 0.26,\n",
       " 0.37,\n",
       " 0.39,\n",
       " 0.41,\n",
       " 0.43,\n",
       " 0.41,\n",
       " 0.43,\n",
       " 0.27,\n",
       " 0.42,\n",
       " 0.27,\n",
       " 0.03]"
      ]
     },
     "execution_count": 207,
     "metadata": {},
     "output_type": "execute_result"
    }
   ],
   "source": [
    "best_thresholds"
   ]
  },
  {
   "cell_type": "code",
   "execution_count": 176,
   "metadata": {},
   "outputs": [
    {
     "data": {
      "text/plain": [
       "0.01"
      ]
     },
     "execution_count": 176,
     "metadata": {},
     "output_type": "execute_result"
    }
   ],
   "source": [
    "thresholds_0[0]"
   ]
  },
  {
   "cell_type": "code",
   "execution_count": 178,
   "metadata": {},
   "outputs": [
    {
     "data": {
      "text/plain": [
       "0.8421052631578948"
      ]
     },
     "execution_count": 178,
     "metadata": {},
     "output_type": "execute_result"
    }
   ],
   "source": [
    "np.max(scores)"
   ]
  },
  {
   "cell_type": "code",
   "execution_count": 179,
   "metadata": {},
   "outputs": [
    {
     "data": {
      "text/plain": [
       "26"
      ]
     },
     "execution_count": 179,
     "metadata": {},
     "output_type": "execute_result"
    }
   ],
   "source": [
    "np.argmax(scores)"
   ]
  },
  {
   "cell_type": "code",
   "execution_count": 180,
   "metadata": {},
   "outputs": [
    {
     "data": {
      "text/plain": [
       "[0.5714285714285714,\n",
       " 0.5925925925925926,\n",
       " 0.64,\n",
       " 0.6666666666666667,\n",
       " 0.6666666666666667,\n",
       " 0.6666666666666667,\n",
       " 0.6666666666666667,\n",
       " 0.6956521739130435,\n",
       " 0.7272727272727273,\n",
       " 0.7272727272727273,\n",
       " 0.7272727272727273,\n",
       " 0.7272727272727273,\n",
       " 0.7272727272727273,\n",
       " 0.7272727272727273,\n",
       " 0.7272727272727273,\n",
       " 0.761904761904762,\n",
       " 0.761904761904762,\n",
       " 0.761904761904762,\n",
       " 0.761904761904762,\n",
       " 0.761904761904762,\n",
       " 0.7999999999999999,\n",
       " 0.7999999999999999,\n",
       " 0.7999999999999999,\n",
       " 0.7999999999999999,\n",
       " 0.7999999999999999,\n",
       " 0.7999999999999999,\n",
       " 0.8421052631578948,\n",
       " 0.8421052631578948,\n",
       " 0.8421052631578948,\n",
       " 0.8421052631578948,\n",
       " 0.8421052631578948,\n",
       " 0.8421052631578948,\n",
       " 0.8421052631578948,\n",
       " 0.8421052631578948,\n",
       " 0.8421052631578948,\n",
       " 0.8421052631578948,\n",
       " 0.8421052631578948,\n",
       " 0.8421052631578948,\n",
       " 0.8421052631578948,\n",
       " 0.8421052631578948,\n",
       " 0.8421052631578948,\n",
       " 0.8421052631578948,\n",
       " 0.8421052631578948,\n",
       " 0.7777777777777778,\n",
       " 0.7777777777777778,\n",
       " 0.7058823529411764,\n",
       " 0.7058823529411764,\n",
       " 0.5333333333333333,\n",
       " 0.5333333333333333,\n",
       " 0.5333333333333333,\n",
       " 0.16666666666666669,\n",
       " 0.16666666666666669,\n",
       " 0.16666666666666669,\n",
       " 0.16666666666666669,\n",
       " 0.16666666666666669,\n",
       " 0.16666666666666669,\n",
       " 0.16666666666666669,\n",
       " 0.0,\n",
       " 0.0,\n",
       " 0.0,\n",
       " 0.0,\n",
       " 0.0,\n",
       " 0.0,\n",
       " 0.0,\n",
       " 0.0,\n",
       " 0.0,\n",
       " 0.0,\n",
       " 0.0,\n",
       " 0.0,\n",
       " 0.0,\n",
       " 0.0,\n",
       " 0.0,\n",
       " 0.0,\n",
       " 0.0,\n",
       " 0.0,\n",
       " 0.0,\n",
       " 0.0,\n",
       " 0.0,\n",
       " 0.0,\n",
       " 0.0,\n",
       " 0.0,\n",
       " 0.0,\n",
       " 0.0,\n",
       " 0.0,\n",
       " 0.0,\n",
       " 0.0,\n",
       " 0.0,\n",
       " 0.0,\n",
       " 0.0,\n",
       " 0.0,\n",
       " 0.0,\n",
       " 0.0,\n",
       " 0.0,\n",
       " 0.0,\n",
       " 0.0,\n",
       " 0.0,\n",
       " 0.0,\n",
       " 0.0,\n",
       " 0.0]"
      ]
     },
     "execution_count": 180,
     "metadata": {},
     "output_type": "execute_result"
    }
   ],
   "source": [
    "scores"
   ]
  },
  {
   "cell_type": "code",
   "execution_count": 208,
   "metadata": {},
   "outputs": [],
   "source": [
    "thresholds_1000 = np.linspace(0.001, 0.999, 999)"
   ]
  },
  {
   "cell_type": "code",
   "execution_count": 210,
   "metadata": {},
   "outputs": [
    {
     "data": {
      "text/plain": [
       "(999,)"
      ]
     },
     "execution_count": 210,
     "metadata": {},
     "output_type": "execute_result"
    }
   ],
   "source": [
    "thresholds_1000.shape"
   ]
  },
  {
   "cell_type": "code",
   "execution_count": 211,
   "metadata": {},
   "outputs": [
    {
     "name": "stderr",
     "output_type": "stream",
     "text": [
      "\n",
      "  0%|          | 0/28 [00:00<?, ?it/s]\u001b[A/Users/btunguz/anaconda3/lib/python3.6/site-packages/sklearn/metrics/classification.py:1143: UndefinedMetricWarning: F-score is ill-defined and being set to 0.0 due to no predicted samples.\n",
      "  'precision', 'predicted', average, warn_for)\n",
      "\n",
      "  4%|▎         | 1/28 [00:08<03:47,  8.43s/it]\u001b[A\n",
      "  7%|▋         | 2/28 [00:15<03:30,  8.09s/it]\u001b[A\n",
      " 11%|█         | 3/28 [00:23<03:17,  7.90s/it]\u001b[A\n",
      " 14%|█▍        | 4/28 [00:30<03:01,  7.58s/it]\u001b[A\n",
      " 18%|█▊        | 5/28 [00:37<02:50,  7.43s/it]\u001b[A\n",
      " 21%|██▏       | 6/28 [00:44<02:42,  7.40s/it]\u001b[A\n",
      " 25%|██▌       | 7/28 [00:51<02:33,  7.29s/it]\u001b[A\n",
      " 29%|██▊       | 8/28 [00:58<02:25,  7.27s/it]\u001b[A\n",
      " 32%|███▏      | 9/28 [01:05<02:14,  7.07s/it]\u001b[A\n",
      " 36%|███▌      | 10/28 [01:12<02:05,  6.99s/it]\u001b[A\n",
      " 39%|███▉      | 11/28 [01:18<01:57,  6.94s/it]\u001b[A\n",
      " 43%|████▎     | 12/28 [01:25<01:51,  6.97s/it]\u001b[A\n",
      " 46%|████▋     | 13/28 [01:32<01:44,  6.97s/it]\u001b[A\n",
      " 50%|█████     | 14/28 [01:39<01:37,  6.97s/it]\u001b[A\n",
      " 54%|█████▎    | 15/28 [01:46<01:31,  7.01s/it]\u001b[A\n",
      " 57%|█████▋    | 16/28 [01:53<01:23,  6.96s/it]\u001b[A\n",
      " 61%|██████    | 17/28 [02:00<01:16,  6.98s/it]\u001b[A\n",
      " 64%|██████▍   | 18/28 [02:07<01:09,  6.94s/it]\u001b[A\n",
      " 68%|██████▊   | 19/28 [02:14<01:02,  6.97s/it]\u001b[A\n",
      " 71%|███████▏  | 20/28 [02:21<00:56,  7.03s/it]\u001b[A\n",
      " 75%|███████▌  | 21/28 [02:28<00:48,  6.96s/it]\u001b[A\n",
      " 79%|███████▊  | 22/28 [02:36<00:42,  7.12s/it]\u001b[A\n",
      " 82%|████████▏ | 23/28 [02:43<00:35,  7.11s/it]\u001b[A\n",
      " 86%|████████▌ | 24/28 [02:50<00:29,  7.28s/it]\u001b[A\n",
      " 89%|████████▉ | 25/28 [02:57<00:21,  7.14s/it]\u001b[A\n",
      " 93%|█████████▎| 26/28 [03:05<00:14,  7.42s/it]\u001b[A\n",
      " 96%|█████████▋| 27/28 [03:12<00:07,  7.21s/it]\u001b[A\n",
      "100%|██████████| 28/28 [03:20<00:00,  7.29s/it]\u001b[A\n",
      "\u001b[A"
     ]
    }
   ],
   "source": [
    "best_scores = []\n",
    "best_thresholds = []\n",
    "for ii in tqdm(range(28)):\n",
    "    scores = [f1_score(y[:,ii], (oofs[ii].flatten() > th)*1.,) for th in thresholds_1000]\n",
    "    best_scores.append(np.max(scores))\n",
    "    best_thresholds.append((np.argmax(scores)+1)/1000.)"
   ]
  },
  {
   "cell_type": "code",
   "execution_count": 212,
   "metadata": {},
   "outputs": [
    {
     "data": {
      "text/plain": [
       "0.7552140501350012"
      ]
     },
     "execution_count": 212,
     "metadata": {},
     "output_type": "execute_result"
    }
   ],
   "source": [
    "np.mean(best_scores)"
   ]
  },
  {
   "cell_type": "code",
   "execution_count": 213,
   "metadata": {},
   "outputs": [
    {
     "data": {
      "text/plain": [
       "[0.581,\n",
       " 0.606,\n",
       " 0.626,\n",
       " 0.415,\n",
       " 0.522,\n",
       " 0.51,\n",
       " 0.352,\n",
       " 0.613,\n",
       " 0.036,\n",
       " 0.045,\n",
       " 0.048,\n",
       " 0.539,\n",
       " 0.392,\n",
       " 0.501,\n",
       " 0.586,\n",
       " 0.01,\n",
       " 0.312,\n",
       " 0.26,\n",
       " 0.37,\n",
       " 0.391,\n",
       " 0.438,\n",
       " 0.428,\n",
       " 0.41,\n",
       " 0.427,\n",
       " 0.27,\n",
       " 0.418,\n",
       " 0.283,\n",
       " 0.029]"
      ]
     },
     "execution_count": 213,
     "metadata": {},
     "output_type": "execute_result"
    }
   ],
   "source": [
    "best_thresholds"
   ]
  },
  {
   "cell_type": "code",
   "execution_count": 216,
   "metadata": {},
   "outputs": [
    {
     "data": {
      "text/plain": [
       "28"
      ]
     },
     "execution_count": 216,
     "metadata": {},
     "output_type": "execute_result"
    }
   ],
   "source": [
    "len(oofs)"
   ]
  },
  {
   "cell_type": "code",
   "execution_count": 220,
   "metadata": {},
   "outputs": [],
   "source": [
    "oofs_ar = np.array(np.transpose(oofs))"
   ]
  },
  {
   "cell_type": "code",
   "execution_count": 222,
   "metadata": {},
   "outputs": [],
   "source": [
    "oofs_ar = oofs_ar.reshape((31072, 28))"
   ]
  },
  {
   "cell_type": "code",
   "execution_count": 223,
   "metadata": {},
   "outputs": [],
   "source": [
    "oof_df = pd.DataFrame(data=oofs_ar)"
   ]
  },
  {
   "cell_type": "code",
   "execution_count": 224,
   "metadata": {},
   "outputs": [
    {
     "data": {
      "text/html": [
       "<div>\n",
       "<style scoped>\n",
       "    .dataframe tbody tr th:only-of-type {\n",
       "        vertical-align: middle;\n",
       "    }\n",
       "\n",
       "    .dataframe tbody tr th {\n",
       "        vertical-align: top;\n",
       "    }\n",
       "\n",
       "    .dataframe thead th {\n",
       "        text-align: right;\n",
       "    }\n",
       "</style>\n",
       "<table border=\"1\" class=\"dataframe\">\n",
       "  <thead>\n",
       "    <tr style=\"text-align: right;\">\n",
       "      <th></th>\n",
       "      <th>0</th>\n",
       "      <th>1</th>\n",
       "      <th>2</th>\n",
       "      <th>3</th>\n",
       "      <th>4</th>\n",
       "      <th>5</th>\n",
       "      <th>6</th>\n",
       "      <th>7</th>\n",
       "      <th>8</th>\n",
       "      <th>9</th>\n",
       "      <th>...</th>\n",
       "      <th>18</th>\n",
       "      <th>19</th>\n",
       "      <th>20</th>\n",
       "      <th>21</th>\n",
       "      <th>22</th>\n",
       "      <th>23</th>\n",
       "      <th>24</th>\n",
       "      <th>25</th>\n",
       "      <th>26</th>\n",
       "      <th>27</th>\n",
       "    </tr>\n",
       "  </thead>\n",
       "  <tbody>\n",
       "    <tr>\n",
       "      <th>0</th>\n",
       "      <td>0.819872</td>\n",
       "      <td>0.001255</td>\n",
       "      <td>0.010088</td>\n",
       "      <td>0.004730</td>\n",
       "      <td>0.004004</td>\n",
       "      <td>0.072005</td>\n",
       "      <td>0.003875</td>\n",
       "      <td>0.005704</td>\n",
       "      <td>0.001824</td>\n",
       "      <td>0.001772</td>\n",
       "      <td>...</td>\n",
       "      <td>0.017457</td>\n",
       "      <td>0.017645</td>\n",
       "      <td>0.002358</td>\n",
       "      <td>0.011077</td>\n",
       "      <td>0.003908</td>\n",
       "      <td>0.007014</td>\n",
       "      <td>0.003239</td>\n",
       "      <td>0.053142</td>\n",
       "      <td>0.003605</td>\n",
       "      <td>0.001558</td>\n",
       "    </tr>\n",
       "    <tr>\n",
       "      <th>1</th>\n",
       "      <td>0.593233</td>\n",
       "      <td>0.861980</td>\n",
       "      <td>0.026842</td>\n",
       "      <td>0.005026</td>\n",
       "      <td>0.003742</td>\n",
       "      <td>0.013390</td>\n",
       "      <td>0.010246</td>\n",
       "      <td>0.253743</td>\n",
       "      <td>0.002087</td>\n",
       "      <td>0.002068</td>\n",
       "      <td>...</td>\n",
       "      <td>0.002716</td>\n",
       "      <td>0.005479</td>\n",
       "      <td>0.002469</td>\n",
       "      <td>0.006166</td>\n",
       "      <td>0.004643</td>\n",
       "      <td>0.005053</td>\n",
       "      <td>0.003074</td>\n",
       "      <td>0.012185</td>\n",
       "      <td>0.005409</td>\n",
       "      <td>0.001738</td>\n",
       "    </tr>\n",
       "    <tr>\n",
       "      <th>2</th>\n",
       "      <td>0.842677</td>\n",
       "      <td>0.001378</td>\n",
       "      <td>0.059814</td>\n",
       "      <td>0.155937</td>\n",
       "      <td>0.005004</td>\n",
       "      <td>0.704619</td>\n",
       "      <td>0.002630</td>\n",
       "      <td>0.016034</td>\n",
       "      <td>0.002102</td>\n",
       "      <td>0.002065</td>\n",
       "      <td>...</td>\n",
       "      <td>0.002074</td>\n",
       "      <td>0.010153</td>\n",
       "      <td>0.007015</td>\n",
       "      <td>0.007338</td>\n",
       "      <td>0.003464</td>\n",
       "      <td>0.008193</td>\n",
       "      <td>0.001922</td>\n",
       "      <td>0.032244</td>\n",
       "      <td>0.003139</td>\n",
       "      <td>0.001744</td>\n",
       "    </tr>\n",
       "    <tr>\n",
       "      <th>3</th>\n",
       "      <td>0.459891</td>\n",
       "      <td>0.896107</td>\n",
       "      <td>0.009642</td>\n",
       "      <td>0.005258</td>\n",
       "      <td>0.004286</td>\n",
       "      <td>0.011575</td>\n",
       "      <td>0.013448</td>\n",
       "      <td>0.004831</td>\n",
       "      <td>0.001820</td>\n",
       "      <td>0.001767</td>\n",
       "      <td>...</td>\n",
       "      <td>0.004495</td>\n",
       "      <td>0.004501</td>\n",
       "      <td>0.002326</td>\n",
       "      <td>0.007614</td>\n",
       "      <td>0.003822</td>\n",
       "      <td>0.006508</td>\n",
       "      <td>0.003195</td>\n",
       "      <td>0.241150</td>\n",
       "      <td>0.004394</td>\n",
       "      <td>0.001550</td>\n",
       "    </tr>\n",
       "    <tr>\n",
       "      <th>4</th>\n",
       "      <td>0.059189</td>\n",
       "      <td>0.003724</td>\n",
       "      <td>0.007134</td>\n",
       "      <td>0.005194</td>\n",
       "      <td>0.007420</td>\n",
       "      <td>0.011877</td>\n",
       "      <td>0.009707</td>\n",
       "      <td>0.010360</td>\n",
       "      <td>0.002279</td>\n",
       "      <td>0.002170</td>\n",
       "      <td>...</td>\n",
       "      <td>0.788075</td>\n",
       "      <td>0.014129</td>\n",
       "      <td>0.002708</td>\n",
       "      <td>0.009455</td>\n",
       "      <td>0.005474</td>\n",
       "      <td>0.003048</td>\n",
       "      <td>0.004225</td>\n",
       "      <td>0.010782</td>\n",
       "      <td>0.005728</td>\n",
       "      <td>0.001829</td>\n",
       "    </tr>\n",
       "  </tbody>\n",
       "</table>\n",
       "<p>5 rows × 28 columns</p>\n",
       "</div>"
      ],
      "text/plain": [
       "         0         1         2         3         4         5         6   \\\n",
       "0  0.819872  0.001255  0.010088  0.004730  0.004004  0.072005  0.003875   \n",
       "1  0.593233  0.861980  0.026842  0.005026  0.003742  0.013390  0.010246   \n",
       "2  0.842677  0.001378  0.059814  0.155937  0.005004  0.704619  0.002630   \n",
       "3  0.459891  0.896107  0.009642  0.005258  0.004286  0.011575  0.013448   \n",
       "4  0.059189  0.003724  0.007134  0.005194  0.007420  0.011877  0.009707   \n",
       "\n",
       "         7         8         9     ...           18        19        20  \\\n",
       "0  0.005704  0.001824  0.001772    ...     0.017457  0.017645  0.002358   \n",
       "1  0.253743  0.002087  0.002068    ...     0.002716  0.005479  0.002469   \n",
       "2  0.016034  0.002102  0.002065    ...     0.002074  0.010153  0.007015   \n",
       "3  0.004831  0.001820  0.001767    ...     0.004495  0.004501  0.002326   \n",
       "4  0.010360  0.002279  0.002170    ...     0.788075  0.014129  0.002708   \n",
       "\n",
       "         21        22        23        24        25        26        27  \n",
       "0  0.011077  0.003908  0.007014  0.003239  0.053142  0.003605  0.001558  \n",
       "1  0.006166  0.004643  0.005053  0.003074  0.012185  0.005409  0.001738  \n",
       "2  0.007338  0.003464  0.008193  0.001922  0.032244  0.003139  0.001744  \n",
       "3  0.007614  0.003822  0.006508  0.003195  0.241150  0.004394  0.001550  \n",
       "4  0.009455  0.005474  0.003048  0.004225  0.010782  0.005728  0.001829  \n",
       "\n",
       "[5 rows x 28 columns]"
      ]
     },
     "execution_count": 224,
     "metadata": {},
     "output_type": "execute_result"
    }
   ],
   "source": [
    "oof_df.head()"
   ]
  },
  {
   "cell_type": "code",
   "execution_count": 225,
   "metadata": {},
   "outputs": [
    {
     "data": {
      "text/plain": [
       "array([0.81987165, 0.5932327 , 0.84267659, ..., 0.00899772, 0.04146459,\n",
       "       0.85461374])"
      ]
     },
     "execution_count": 225,
     "metadata": {},
     "output_type": "execute_result"
    }
   ],
   "source": [
    "oofs[0].flatten()"
   ]
  },
  {
   "cell_type": "code",
   "execution_count": 230,
   "metadata": {},
   "outputs": [],
   "source": [
    "oof_df['Id'] = cluster4x_folds['Id']\n",
    "oof_df['cluster4'] = cluster4x_folds['cluster4']"
   ]
  },
  {
   "cell_type": "code",
   "execution_count": 231,
   "metadata": {},
   "outputs": [
    {
     "data": {
      "text/html": [
       "<div>\n",
       "<style scoped>\n",
       "    .dataframe tbody tr th:only-of-type {\n",
       "        vertical-align: middle;\n",
       "    }\n",
       "\n",
       "    .dataframe tbody tr th {\n",
       "        vertical-align: top;\n",
       "    }\n",
       "\n",
       "    .dataframe thead th {\n",
       "        text-align: right;\n",
       "    }\n",
       "</style>\n",
       "<table border=\"1\" class=\"dataframe\">\n",
       "  <thead>\n",
       "    <tr style=\"text-align: right;\">\n",
       "      <th></th>\n",
       "      <th>0</th>\n",
       "      <th>1</th>\n",
       "      <th>2</th>\n",
       "      <th>3</th>\n",
       "      <th>4</th>\n",
       "      <th>5</th>\n",
       "      <th>6</th>\n",
       "      <th>7</th>\n",
       "      <th>8</th>\n",
       "      <th>9</th>\n",
       "      <th>...</th>\n",
       "      <th>20</th>\n",
       "      <th>21</th>\n",
       "      <th>22</th>\n",
       "      <th>23</th>\n",
       "      <th>24</th>\n",
       "      <th>25</th>\n",
       "      <th>26</th>\n",
       "      <th>27</th>\n",
       "      <th>Id</th>\n",
       "      <th>cluster4</th>\n",
       "    </tr>\n",
       "  </thead>\n",
       "  <tbody>\n",
       "    <tr>\n",
       "      <th>0</th>\n",
       "      <td>0.819872</td>\n",
       "      <td>0.001255</td>\n",
       "      <td>0.010088</td>\n",
       "      <td>0.004730</td>\n",
       "      <td>0.004004</td>\n",
       "      <td>0.072005</td>\n",
       "      <td>0.003875</td>\n",
       "      <td>0.005704</td>\n",
       "      <td>0.001824</td>\n",
       "      <td>0.001772</td>\n",
       "      <td>...</td>\n",
       "      <td>0.002358</td>\n",
       "      <td>0.011077</td>\n",
       "      <td>0.003908</td>\n",
       "      <td>0.007014</td>\n",
       "      <td>0.003239</td>\n",
       "      <td>0.053142</td>\n",
       "      <td>0.003605</td>\n",
       "      <td>0.001558</td>\n",
       "      <td>00070df0-bbc3-11e8-b2bc-ac1f6b6435d0</td>\n",
       "      <td>0</td>\n",
       "    </tr>\n",
       "    <tr>\n",
       "      <th>1</th>\n",
       "      <td>0.593233</td>\n",
       "      <td>0.861980</td>\n",
       "      <td>0.026842</td>\n",
       "      <td>0.005026</td>\n",
       "      <td>0.003742</td>\n",
       "      <td>0.013390</td>\n",
       "      <td>0.010246</td>\n",
       "      <td>0.253743</td>\n",
       "      <td>0.002087</td>\n",
       "      <td>0.002068</td>\n",
       "      <td>...</td>\n",
       "      <td>0.002469</td>\n",
       "      <td>0.006166</td>\n",
       "      <td>0.004643</td>\n",
       "      <td>0.005053</td>\n",
       "      <td>0.003074</td>\n",
       "      <td>0.012185</td>\n",
       "      <td>0.005409</td>\n",
       "      <td>0.001738</td>\n",
       "      <td>000a6c98-bb9b-11e8-b2b9-ac1f6b6435d0</td>\n",
       "      <td>1</td>\n",
       "    </tr>\n",
       "    <tr>\n",
       "      <th>2</th>\n",
       "      <td>0.842677</td>\n",
       "      <td>0.001378</td>\n",
       "      <td>0.059814</td>\n",
       "      <td>0.155937</td>\n",
       "      <td>0.005004</td>\n",
       "      <td>0.704619</td>\n",
       "      <td>0.002630</td>\n",
       "      <td>0.016034</td>\n",
       "      <td>0.002102</td>\n",
       "      <td>0.002065</td>\n",
       "      <td>...</td>\n",
       "      <td>0.007015</td>\n",
       "      <td>0.007338</td>\n",
       "      <td>0.003464</td>\n",
       "      <td>0.008193</td>\n",
       "      <td>0.001922</td>\n",
       "      <td>0.032244</td>\n",
       "      <td>0.003139</td>\n",
       "      <td>0.001744</td>\n",
       "      <td>000a9596-bbc4-11e8-b2bc-ac1f6b6435d0</td>\n",
       "      <td>1</td>\n",
       "    </tr>\n",
       "    <tr>\n",
       "      <th>3</th>\n",
       "      <td>0.459891</td>\n",
       "      <td>0.896107</td>\n",
       "      <td>0.009642</td>\n",
       "      <td>0.005258</td>\n",
       "      <td>0.004286</td>\n",
       "      <td>0.011575</td>\n",
       "      <td>0.013448</td>\n",
       "      <td>0.004831</td>\n",
       "      <td>0.001820</td>\n",
       "      <td>0.001767</td>\n",
       "      <td>...</td>\n",
       "      <td>0.002326</td>\n",
       "      <td>0.007614</td>\n",
       "      <td>0.003822</td>\n",
       "      <td>0.006508</td>\n",
       "      <td>0.003195</td>\n",
       "      <td>0.241150</td>\n",
       "      <td>0.004394</td>\n",
       "      <td>0.001550</td>\n",
       "      <td>000c99ba-bba4-11e8-b2b9-ac1f6b6435d0</td>\n",
       "      <td>0</td>\n",
       "    </tr>\n",
       "    <tr>\n",
       "      <th>4</th>\n",
       "      <td>0.059189</td>\n",
       "      <td>0.003724</td>\n",
       "      <td>0.007134</td>\n",
       "      <td>0.005194</td>\n",
       "      <td>0.007420</td>\n",
       "      <td>0.011877</td>\n",
       "      <td>0.009707</td>\n",
       "      <td>0.010360</td>\n",
       "      <td>0.002279</td>\n",
       "      <td>0.002170</td>\n",
       "      <td>...</td>\n",
       "      <td>0.002708</td>\n",
       "      <td>0.009455</td>\n",
       "      <td>0.005474</td>\n",
       "      <td>0.003048</td>\n",
       "      <td>0.004225</td>\n",
       "      <td>0.010782</td>\n",
       "      <td>0.005728</td>\n",
       "      <td>0.001829</td>\n",
       "      <td>001838f8-bbca-11e8-b2bc-ac1f6b6435d0</td>\n",
       "      <td>3</td>\n",
       "    </tr>\n",
       "  </tbody>\n",
       "</table>\n",
       "<p>5 rows × 30 columns</p>\n",
       "</div>"
      ],
      "text/plain": [
       "          0         1         2         3         4         5         6  \\\n",
       "0  0.819872  0.001255  0.010088  0.004730  0.004004  0.072005  0.003875   \n",
       "1  0.593233  0.861980  0.026842  0.005026  0.003742  0.013390  0.010246   \n",
       "2  0.842677  0.001378  0.059814  0.155937  0.005004  0.704619  0.002630   \n",
       "3  0.459891  0.896107  0.009642  0.005258  0.004286  0.011575  0.013448   \n",
       "4  0.059189  0.003724  0.007134  0.005194  0.007420  0.011877  0.009707   \n",
       "\n",
       "          7         8         9    ...           20        21        22  \\\n",
       "0  0.005704  0.001824  0.001772    ...     0.002358  0.011077  0.003908   \n",
       "1  0.253743  0.002087  0.002068    ...     0.002469  0.006166  0.004643   \n",
       "2  0.016034  0.002102  0.002065    ...     0.007015  0.007338  0.003464   \n",
       "3  0.004831  0.001820  0.001767    ...     0.002326  0.007614  0.003822   \n",
       "4  0.010360  0.002279  0.002170    ...     0.002708  0.009455  0.005474   \n",
       "\n",
       "         23        24        25        26        27  \\\n",
       "0  0.007014  0.003239  0.053142  0.003605  0.001558   \n",
       "1  0.005053  0.003074  0.012185  0.005409  0.001738   \n",
       "2  0.008193  0.001922  0.032244  0.003139  0.001744   \n",
       "3  0.006508  0.003195  0.241150  0.004394  0.001550   \n",
       "4  0.003048  0.004225  0.010782  0.005728  0.001829   \n",
       "\n",
       "                                     Id  cluster4  \n",
       "0  00070df0-bbc3-11e8-b2bc-ac1f6b6435d0         0  \n",
       "1  000a6c98-bb9b-11e8-b2b9-ac1f6b6435d0         1  \n",
       "2  000a9596-bbc4-11e8-b2bc-ac1f6b6435d0         1  \n",
       "3  000c99ba-bba4-11e8-b2b9-ac1f6b6435d0         0  \n",
       "4  001838f8-bbca-11e8-b2bc-ac1f6b6435d0         3  \n",
       "\n",
       "[5 rows x 30 columns]"
      ]
     },
     "execution_count": 231,
     "metadata": {},
     "output_type": "execute_result"
    }
   ],
   "source": [
    "oof_df.head()"
   ]
  },
  {
   "cell_type": "code",
   "execution_count": 240,
   "metadata": {},
   "outputs": [
    {
     "data": {
      "text/plain": [
       "(11702,)"
      ]
     },
     "execution_count": 240,
     "metadata": {},
     "output_type": "execute_result"
    }
   ],
   "source": [
    "total_preds_all_folds[17][3].shape"
   ]
  },
  {
   "cell_type": "code",
   "execution_count": 245,
   "metadata": {},
   "outputs": [],
   "source": [
    "all_preds = []\n",
    "\n",
    "for i in range(4):\n",
    "    temp_preds = []\n",
    "    for j in range(28):\n",
    "        temp_preds.append(total_preds_all_folds[j][i])\n",
    "    all_preds.append(pd.DataFrame(data=np.transpose(np.array(temp_preds))))\n",
    "    "
   ]
  },
  {
   "cell_type": "code",
   "execution_count": 246,
   "metadata": {},
   "outputs": [
    {
     "data": {
      "text/plain": [
       "4"
      ]
     },
     "execution_count": 246,
     "metadata": {},
     "output_type": "execute_result"
    }
   ],
   "source": [
    "len(all_preds)"
   ]
  },
  {
   "cell_type": "code",
   "execution_count": 250,
   "metadata": {},
   "outputs": [
    {
     "data": {
      "text/html": [
       "<div>\n",
       "<style scoped>\n",
       "    .dataframe tbody tr th:only-of-type {\n",
       "        vertical-align: middle;\n",
       "    }\n",
       "\n",
       "    .dataframe tbody tr th {\n",
       "        vertical-align: top;\n",
       "    }\n",
       "\n",
       "    .dataframe thead th {\n",
       "        text-align: right;\n",
       "    }\n",
       "</style>\n",
       "<table border=\"1\" class=\"dataframe\">\n",
       "  <thead>\n",
       "    <tr style=\"text-align: right;\">\n",
       "      <th></th>\n",
       "      <th>0</th>\n",
       "      <th>1</th>\n",
       "      <th>2</th>\n",
       "      <th>3</th>\n",
       "      <th>4</th>\n",
       "      <th>5</th>\n",
       "      <th>6</th>\n",
       "      <th>7</th>\n",
       "      <th>8</th>\n",
       "      <th>9</th>\n",
       "      <th>...</th>\n",
       "      <th>18</th>\n",
       "      <th>19</th>\n",
       "      <th>20</th>\n",
       "      <th>21</th>\n",
       "      <th>22</th>\n",
       "      <th>23</th>\n",
       "      <th>24</th>\n",
       "      <th>25</th>\n",
       "      <th>26</th>\n",
       "      <th>27</th>\n",
       "    </tr>\n",
       "  </thead>\n",
       "  <tbody>\n",
       "    <tr>\n",
       "      <th>0</th>\n",
       "      <td>0.001263</td>\n",
       "      <td>3.099695e-07</td>\n",
       "      <td>1.000000e+00</td>\n",
       "      <td>8.739093e-14</td>\n",
       "      <td>2.144667e-17</td>\n",
       "      <td>4.261845e-11</td>\n",
       "      <td>2.081191e-13</td>\n",
       "      <td>2.346268e-12</td>\n",
       "      <td>1.178048e-25</td>\n",
       "      <td>6.566304e-27</td>\n",
       "      <td>...</td>\n",
       "      <td>1.055553e-18</td>\n",
       "      <td>3.793562e-10</td>\n",
       "      <td>3.345323e-24</td>\n",
       "      <td>1.896347e-10</td>\n",
       "      <td>4.379397e-09</td>\n",
       "      <td>1.993170e-02</td>\n",
       "      <td>2.709866e-20</td>\n",
       "      <td>1.086190e-12</td>\n",
       "      <td>1.873815e-19</td>\n",
       "      <td>3.163003e-15</td>\n",
       "    </tr>\n",
       "    <tr>\n",
       "      <th>1</th>\n",
       "      <td>0.000001</td>\n",
       "      <td>1.274295e-15</td>\n",
       "      <td>2.139089e-07</td>\n",
       "      <td>9.175001e-12</td>\n",
       "      <td>1.175656e-09</td>\n",
       "      <td>1.000000e+00</td>\n",
       "      <td>1.043879e-08</td>\n",
       "      <td>1.503118e-11</td>\n",
       "      <td>1.710132e-28</td>\n",
       "      <td>4.077621e-29</td>\n",
       "      <td>...</td>\n",
       "      <td>1.176809e-07</td>\n",
       "      <td>7.295626e-11</td>\n",
       "      <td>1.883266e-22</td>\n",
       "      <td>2.332208e-07</td>\n",
       "      <td>1.565213e-10</td>\n",
       "      <td>2.918335e-06</td>\n",
       "      <td>1.551856e-13</td>\n",
       "      <td>5.303397e-01</td>\n",
       "      <td>3.652265e-12</td>\n",
       "      <td>4.333532e-12</td>\n",
       "    </tr>\n",
       "    <tr>\n",
       "      <th>2</th>\n",
       "      <td>0.999999</td>\n",
       "      <td>1.661266e-16</td>\n",
       "      <td>3.827674e-07</td>\n",
       "      <td>1.142613e-13</td>\n",
       "      <td>3.103842e-08</td>\n",
       "      <td>1.000000e+00</td>\n",
       "      <td>1.621008e-15</td>\n",
       "      <td>1.406103e-07</td>\n",
       "      <td>1.482097e-30</td>\n",
       "      <td>1.026785e-34</td>\n",
       "      <td>...</td>\n",
       "      <td>2.075863e-12</td>\n",
       "      <td>2.278940e-06</td>\n",
       "      <td>1.758399e-28</td>\n",
       "      <td>3.071496e-03</td>\n",
       "      <td>1.805984e-13</td>\n",
       "      <td>1.725151e-09</td>\n",
       "      <td>1.309173e-19</td>\n",
       "      <td>9.996889e-01</td>\n",
       "      <td>5.885852e-23</td>\n",
       "      <td>2.778529e-13</td>\n",
       "    </tr>\n",
       "    <tr>\n",
       "      <th>3</th>\n",
       "      <td>1.000000</td>\n",
       "      <td>2.965215e-03</td>\n",
       "      <td>7.388267e-10</td>\n",
       "      <td>4.782987e-16</td>\n",
       "      <td>7.587603e-13</td>\n",
       "      <td>5.238220e-04</td>\n",
       "      <td>3.150887e-16</td>\n",
       "      <td>6.310522e-01</td>\n",
       "      <td>1.287754e-23</td>\n",
       "      <td>7.100084e-31</td>\n",
       "      <td>...</td>\n",
       "      <td>1.277161e-11</td>\n",
       "      <td>6.064996e-08</td>\n",
       "      <td>3.921936e-22</td>\n",
       "      <td>1.910006e-01</td>\n",
       "      <td>7.304387e-12</td>\n",
       "      <td>4.608637e-03</td>\n",
       "      <td>4.909262e-24</td>\n",
       "      <td>7.661669e-03</td>\n",
       "      <td>3.536779e-19</td>\n",
       "      <td>7.982431e-13</td>\n",
       "    </tr>\n",
       "    <tr>\n",
       "      <th>4</th>\n",
       "      <td>0.010350</td>\n",
       "      <td>1.852704e-07</td>\n",
       "      <td>2.395586e-06</td>\n",
       "      <td>4.135122e-10</td>\n",
       "      <td>4.424475e-15</td>\n",
       "      <td>2.046585e-07</td>\n",
       "      <td>3.036353e-14</td>\n",
       "      <td>5.648181e-02</td>\n",
       "      <td>1.943420e-16</td>\n",
       "      <td>1.221878e-30</td>\n",
       "      <td>...</td>\n",
       "      <td>1.479647e-15</td>\n",
       "      <td>1.742754e-11</td>\n",
       "      <td>1.676700e-22</td>\n",
       "      <td>4.001982e-06</td>\n",
       "      <td>9.756453e-14</td>\n",
       "      <td>9.997012e-01</td>\n",
       "      <td>1.268247e-21</td>\n",
       "      <td>2.819774e-03</td>\n",
       "      <td>7.630982e-15</td>\n",
       "      <td>3.632173e-13</td>\n",
       "    </tr>\n",
       "  </tbody>\n",
       "</table>\n",
       "<p>5 rows × 28 columns</p>\n",
       "</div>"
      ],
      "text/plain": [
       "         0             1             2             3             4   \\\n",
       "0  0.001263  3.099695e-07  1.000000e+00  8.739093e-14  2.144667e-17   \n",
       "1  0.000001  1.274295e-15  2.139089e-07  9.175001e-12  1.175656e-09   \n",
       "2  0.999999  1.661266e-16  3.827674e-07  1.142613e-13  3.103842e-08   \n",
       "3  1.000000  2.965215e-03  7.388267e-10  4.782987e-16  7.587603e-13   \n",
       "4  0.010350  1.852704e-07  2.395586e-06  4.135122e-10  4.424475e-15   \n",
       "\n",
       "             5             6             7             8             9   \\\n",
       "0  4.261845e-11  2.081191e-13  2.346268e-12  1.178048e-25  6.566304e-27   \n",
       "1  1.000000e+00  1.043879e-08  1.503118e-11  1.710132e-28  4.077621e-29   \n",
       "2  1.000000e+00  1.621008e-15  1.406103e-07  1.482097e-30  1.026785e-34   \n",
       "3  5.238220e-04  3.150887e-16  6.310522e-01  1.287754e-23  7.100084e-31   \n",
       "4  2.046585e-07  3.036353e-14  5.648181e-02  1.943420e-16  1.221878e-30   \n",
       "\n",
       "       ...                 18            19            20            21  \\\n",
       "0      ...       1.055553e-18  3.793562e-10  3.345323e-24  1.896347e-10   \n",
       "1      ...       1.176809e-07  7.295626e-11  1.883266e-22  2.332208e-07   \n",
       "2      ...       2.075863e-12  2.278940e-06  1.758399e-28  3.071496e-03   \n",
       "3      ...       1.277161e-11  6.064996e-08  3.921936e-22  1.910006e-01   \n",
       "4      ...       1.479647e-15  1.742754e-11  1.676700e-22  4.001982e-06   \n",
       "\n",
       "             22            23            24            25            26  \\\n",
       "0  4.379397e-09  1.993170e-02  2.709866e-20  1.086190e-12  1.873815e-19   \n",
       "1  1.565213e-10  2.918335e-06  1.551856e-13  5.303397e-01  3.652265e-12   \n",
       "2  1.805984e-13  1.725151e-09  1.309173e-19  9.996889e-01  5.885852e-23   \n",
       "3  7.304387e-12  4.608637e-03  4.909262e-24  7.661669e-03  3.536779e-19   \n",
       "4  9.756453e-14  9.997012e-01  1.268247e-21  2.819774e-03  7.630982e-15   \n",
       "\n",
       "             27  \n",
       "0  3.163003e-15  \n",
       "1  4.333532e-12  \n",
       "2  2.778529e-13  \n",
       "3  7.982431e-13  \n",
       "4  3.632173e-13  \n",
       "\n",
       "[5 rows x 28 columns]"
      ]
     },
     "execution_count": 250,
     "metadata": {},
     "output_type": "execute_result"
    }
   ],
   "source": [
    "all_preds[3].head()"
   ]
  },
  {
   "cell_type": "code",
   "execution_count": 251,
   "metadata": {},
   "outputs": [],
   "source": [
    "oof_df.to_csv('../../Human_Protein_Atlas/L2_metafeatures/oof_df_LR_1.csv', index=False)"
   ]
  },
  {
   "cell_type": "code",
   "execution_count": 252,
   "metadata": {},
   "outputs": [],
   "source": [
    "for i in range(4):\n",
    "    all_preds[i].to_csv('../../Human_Protein_Atlas/L2_metafeatures/test_preds_LR_1_fold_'+str(i)+'.csv', index=False)"
   ]
  },
  {
   "cell_type": "code",
   "execution_count": null,
   "metadata": {},
   "outputs": [],
   "source": []
  }
 ],
 "metadata": {
  "kernelspec": {
   "display_name": "Python 3",
   "language": "python",
   "name": "python3"
  },
  "language_info": {
   "codemirror_mode": {
    "name": "ipython",
    "version": 3
   },
   "file_extension": ".py",
   "mimetype": "text/x-python",
   "name": "python",
   "nbconvert_exporter": "python",
   "pygments_lexer": "ipython3",
   "version": "3.6.6"
  }
 },
 "nbformat": 4,
 "nbformat_minor": 2
}
