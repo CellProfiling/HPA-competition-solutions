{
 "cells": [
  {
   "cell_type": "code",
   "execution_count": 1,
   "metadata": {},
   "outputs": [],
   "source": [
    "import os, sys\n",
    "import numpy as np\n",
    "import pandas as pd"
   ]
  },
  {
   "cell_type": "code",
   "execution_count": 3,
   "metadata": {},
   "outputs": [],
   "source": [
    "draw_predict_1 = np.load('../preds/draw_predict_1.npy')\n",
    "draw_predict_2 = np.load('../preds/draw_predict_2.npy')\n",
    "draw_predict_3 = np.load('../preds/draw_predict_3.npy')\n",
    "draw_predict_4 = np.load('../preds/draw_predict_4.npy')\n",
    "draw_predict_5 = np.load('../preds/draw_predict_5.npy')\n",
    "draw_predict_6 = np.load('../preds/draw_predict_6.npy')\n",
    "draw_predict_7 = np.load('../preds/draw_predict_7.npy')\n",
    "draw_predict_4_b = np.load('../preds/draw_predict_4_b.npy')\n",
    "draw_predict_5_b = np.load('../preds/draw_predict_5_b.npy')\n",
    "draw_predict_6_b = np.load('../preds/draw_predict_6_b.npy')\n",
    "draw_predict_7_b = np.load('../preds/draw_predict_7_b.npy')"
   ]
  },
  {
   "cell_type": "code",
   "execution_count": 2,
   "metadata": {},
   "outputs": [],
   "source": [
    "# Load dataset info\n",
    "path_to_train = '../../Human_Protein_Atlas/input/train/'\n",
    "data = pd.read_csv('../../Human_Protein_Atlas/input/train.csv')\n",
    "\n",
    "train_dataset_info = []\n",
    "for name, labels in zip(data['Id'], data['Target'].str.split(' ')):\n",
    "    train_dataset_info.append({\n",
    "        'path':os.path.join(path_to_train, name),\n",
    "        'labels':np.array([int(label) for label in labels])})\n",
    "train_dataset_info = np.array(train_dataset_info)"
   ]
  },
  {
   "cell_type": "code",
   "execution_count": 12,
   "metadata": {},
   "outputs": [],
   "source": [
    "submit = pd.read_csv('../../Human_Protein_Atlas/input/sample_submission.csv')\n",
    "\n",
    "predicted = []\n",
    "for i, _ in enumerate(submit['Id']):\n",
    "    score_predict = (0.9*(0.7*(0.5*(0.3*draw_predict_1[i]+0.35*draw_predict_2[i])+1.5*0.35*draw_predict_3[i])+\n",
    "                    0.3*(0.25*draw_predict_4[i]+0.25*draw_predict_5[i]+0.25*draw_predict_6[i]+0.25*draw_predict_7[i]))+\n",
    "                     0.1*(0.25*draw_predict_4_b[i]+0.25*draw_predict_5_b[i]+0.25*draw_predict_6_b[i]+0.25*draw_predict_7_b[i]))\n",
    "    label_predict = np.arange(28)[score_predict>=0.2]\n",
    "    str_predict_label = ' '.join(str(l) for l in label_predict)\n",
    "    predicted.append(str_predict_label)\n",
    "    \n",
    "submit['Predicted'] = predicted\n",
    "submit.to_csv('blend_InceptionV3_InceptionResNetV2_9.csv', index=False)"
   ]
  },
  {
   "cell_type": "code",
   "execution_count": 4,
   "metadata": {},
   "outputs": [],
   "source": [
    "th_t = np.array([0.565,0.39,0.55,0.345,0.33,0.39,0.33,0.45,0.38,0.39,\n",
    "               0.34,0.42,0.31,0.38,0.49,0.50,0.38,0.43,0.46,0.40,\n",
    "               0.39,0.505,0.37,0.47,0.41,0.545,0.32,0.1])\n",
    "\n",
    "submit = pd.read_csv('../../Human_Protein_Atlas/input/sample_submission.csv')\n",
    "\n",
    "predicted = []\n",
    "for i, _ in enumerate(submit['Id']):\n",
    "    score_predict = (0.9*(0.7*(0.5*(0.3*draw_predict_1[i]+0.35*draw_predict_2[i])+1.5*0.35*draw_predict_3[i])+\n",
    "                    0.3*(0.25*draw_predict_4[i]+0.25*draw_predict_5[i]+0.25*draw_predict_6[i]+0.25*draw_predict_7[i]))+\n",
    "                     0.1*(0.25*draw_predict_4_b[i]+0.25*draw_predict_5_b[i]+0.25*draw_predict_6_b[i]+0.25*draw_predict_7_b[i]))\n",
    "    label_predict = np.arange(28)[score_predict>=th_t]\n",
    "    str_predict_label = ' '.join(str(l) for l in label_predict)\n",
    "    predicted.append(str_predict_label)\n",
    "    \n",
    "submit['Predicted'] = predicted\n",
    "submit.to_csv('blend_InceptionV3_InceptionResNetV2_th_t.csv', index=False)"
   ]
  },
  {
   "cell_type": "code",
   "execution_count": 5,
   "metadata": {},
   "outputs": [
    {
     "data": {
      "text/html": [
       "<div>\n",
       "<style scoped>\n",
       "    .dataframe tbody tr th:only-of-type {\n",
       "        vertical-align: middle;\n",
       "    }\n",
       "\n",
       "    .dataframe tbody tr th {\n",
       "        vertical-align: top;\n",
       "    }\n",
       "\n",
       "    .dataframe thead th {\n",
       "        text-align: right;\n",
       "    }\n",
       "</style>\n",
       "<table border=\"1\" class=\"dataframe\">\n",
       "  <thead>\n",
       "    <tr style=\"text-align: right;\">\n",
       "      <th></th>\n",
       "      <th>Id</th>\n",
       "      <th>Predicted</th>\n",
       "    </tr>\n",
       "  </thead>\n",
       "  <tbody>\n",
       "    <tr>\n",
       "      <th>0</th>\n",
       "      <td>00008af0-bad0-11e8-b2b8-ac1f6b6435d0</td>\n",
       "      <td>2</td>\n",
       "    </tr>\n",
       "    <tr>\n",
       "      <th>1</th>\n",
       "      <td>0000a892-bacf-11e8-b2b8-ac1f6b6435d0</td>\n",
       "      <td>5</td>\n",
       "    </tr>\n",
       "    <tr>\n",
       "      <th>2</th>\n",
       "      <td>0006faa6-bac7-11e8-b2b7-ac1f6b6435d0</td>\n",
       "      <td>0 5 25</td>\n",
       "    </tr>\n",
       "    <tr>\n",
       "      <th>3</th>\n",
       "      <td>0008baca-bad7-11e8-b2b9-ac1f6b6435d0</td>\n",
       "      <td>0</td>\n",
       "    </tr>\n",
       "    <tr>\n",
       "      <th>4</th>\n",
       "      <td>000cce7e-bad4-11e8-b2b8-ac1f6b6435d0</td>\n",
       "      <td></td>\n",
       "    </tr>\n",
       "  </tbody>\n",
       "</table>\n",
       "</div>"
      ],
      "text/plain": [
       "                                     Id Predicted\n",
       "0  00008af0-bad0-11e8-b2b8-ac1f6b6435d0         2\n",
       "1  0000a892-bacf-11e8-b2b8-ac1f6b6435d0         5\n",
       "2  0006faa6-bac7-11e8-b2b7-ac1f6b6435d0    0 5 25\n",
       "3  0008baca-bad7-11e8-b2b9-ac1f6b6435d0         0\n",
       "4  000cce7e-bad4-11e8-b2b8-ac1f6b6435d0          "
      ]
     },
     "execution_count": 5,
     "metadata": {},
     "output_type": "execute_result"
    }
   ],
   "source": [
    "submit.head()"
   ]
  },
  {
   "cell_type": "code",
   "execution_count": null,
   "metadata": {},
   "outputs": [],
   "source": []
  }
 ],
 "metadata": {
  "kernelspec": {
   "display_name": "Python 3",
   "language": "python",
   "name": "python3"
  },
  "language_info": {
   "codemirror_mode": {
    "name": "ipython",
    "version": 3
   },
   "file_extension": ".py",
   "mimetype": "text/x-python",
   "name": "python",
   "nbconvert_exporter": "python",
   "pygments_lexer": "ipython3",
   "version": "3.6.5"
  }
 },
 "nbformat": 4,
 "nbformat_minor": 2
}
