{
 "cells": [
  {
   "cell_type": "code",
   "execution_count": 1,
   "metadata": {},
   "outputs": [],
   "source": [
    "import numpy as np\n",
    "import pandas as pd\n",
    "from sklearn.metrics import f1_score\n",
    "from scipy.special import logit, expit\n",
    "import pickle"
   ]
  },
  {
   "cell_type": "code",
   "execution_count": 23,
   "metadata": {},
   "outputs": [],
   "source": [
    "oof = pd.read_csv('../preds/oof_pred.csv')"
   ]
  },
  {
   "cell_type": "code",
   "execution_count": 24,
   "metadata": {},
   "outputs": [
    {
     "data": {
      "text/html": [
       "<div>\n",
       "<style scoped>\n",
       "    .dataframe tbody tr th:only-of-type {\n",
       "        vertical-align: middle;\n",
       "    }\n",
       "\n",
       "    .dataframe tbody tr th {\n",
       "        vertical-align: top;\n",
       "    }\n",
       "\n",
       "    .dataframe thead th {\n",
       "        text-align: right;\n",
       "    }\n",
       "</style>\n",
       "<table border=\"1\" class=\"dataframe\">\n",
       "  <thead>\n",
       "    <tr style=\"text-align: right;\">\n",
       "      <th></th>\n",
       "      <th>Id</th>\n",
       "      <th>Target</th>\n",
       "      <th>fold</th>\n",
       "      <th>pred_0</th>\n",
       "      <th>pred_1</th>\n",
       "      <th>pred_2</th>\n",
       "      <th>pred_3</th>\n",
       "      <th>pred_4</th>\n",
       "      <th>pred_5</th>\n",
       "      <th>pred_6</th>\n",
       "      <th>...</th>\n",
       "      <th>pred_18</th>\n",
       "      <th>pred_19</th>\n",
       "      <th>pred_20</th>\n",
       "      <th>pred_21</th>\n",
       "      <th>pred_22</th>\n",
       "      <th>pred_23</th>\n",
       "      <th>pred_24</th>\n",
       "      <th>pred_25</th>\n",
       "      <th>pred_26</th>\n",
       "      <th>pred_27</th>\n",
       "    </tr>\n",
       "  </thead>\n",
       "  <tbody>\n",
       "    <tr>\n",
       "      <th>0</th>\n",
       "      <td>00070df0-bbc3-11e8-b2bc-ac1f6b6435d0</td>\n",
       "      <td>16 0</td>\n",
       "      <td>2</td>\n",
       "      <td>0.940042</td>\n",
       "      <td>0.019254</td>\n",
       "      <td>0.351159</td>\n",
       "      <td>0.006079</td>\n",
       "      <td>0.015875</td>\n",
       "      <td>0.145716</td>\n",
       "      <td>0.002299</td>\n",
       "      <td>...</td>\n",
       "      <td>0.423793</td>\n",
       "      <td>0.155631</td>\n",
       "      <td>3.311639e-05</td>\n",
       "      <td>0.130876</td>\n",
       "      <td>0.007847</td>\n",
       "      <td>0.017331</td>\n",
       "      <td>0.000069</td>\n",
       "      <td>0.376820</td>\n",
       "      <td>0.000992</td>\n",
       "      <td>2.412575e-05</td>\n",
       "    </tr>\n",
       "    <tr>\n",
       "      <th>1</th>\n",
       "      <td>000a6c98-bb9b-11e8-b2b9-ac1f6b6435d0</td>\n",
       "      <td>7 1 2 0</td>\n",
       "      <td>1</td>\n",
       "      <td>0.820848</td>\n",
       "      <td>0.999116</td>\n",
       "      <td>0.525593</td>\n",
       "      <td>0.045257</td>\n",
       "      <td>0.000969</td>\n",
       "      <td>0.047155</td>\n",
       "      <td>0.023687</td>\n",
       "      <td>...</td>\n",
       "      <td>0.005552</td>\n",
       "      <td>0.005257</td>\n",
       "      <td>5.749720e-05</td>\n",
       "      <td>0.033169</td>\n",
       "      <td>0.002660</td>\n",
       "      <td>0.010750</td>\n",
       "      <td>0.000110</td>\n",
       "      <td>0.195760</td>\n",
       "      <td>0.000041</td>\n",
       "      <td>7.956502e-07</td>\n",
       "    </tr>\n",
       "    <tr>\n",
       "      <th>2</th>\n",
       "      <td>000a9596-bbc4-11e8-b2bc-ac1f6b6435d0</td>\n",
       "      <td>5</td>\n",
       "      <td>2</td>\n",
       "      <td>0.920208</td>\n",
       "      <td>0.020876</td>\n",
       "      <td>0.622096</td>\n",
       "      <td>0.165277</td>\n",
       "      <td>0.058788</td>\n",
       "      <td>0.969752</td>\n",
       "      <td>0.011474</td>\n",
       "      <td>...</td>\n",
       "      <td>0.048177</td>\n",
       "      <td>0.172556</td>\n",
       "      <td>7.293192e-05</td>\n",
       "      <td>0.196732</td>\n",
       "      <td>0.162877</td>\n",
       "      <td>0.035505</td>\n",
       "      <td>0.010758</td>\n",
       "      <td>0.295205</td>\n",
       "      <td>0.001464</td>\n",
       "      <td>2.621121e-05</td>\n",
       "    </tr>\n",
       "    <tr>\n",
       "      <th>3</th>\n",
       "      <td>000c99ba-bba4-11e8-b2b9-ac1f6b6435d0</td>\n",
       "      <td>1</td>\n",
       "      <td>2</td>\n",
       "      <td>0.612504</td>\n",
       "      <td>0.924049</td>\n",
       "      <td>0.119747</td>\n",
       "      <td>0.012099</td>\n",
       "      <td>0.038203</td>\n",
       "      <td>0.005261</td>\n",
       "      <td>0.968421</td>\n",
       "      <td>...</td>\n",
       "      <td>0.005491</td>\n",
       "      <td>0.018319</td>\n",
       "      <td>1.812955e-04</td>\n",
       "      <td>0.556480</td>\n",
       "      <td>0.061768</td>\n",
       "      <td>0.017533</td>\n",
       "      <td>0.000006</td>\n",
       "      <td>0.606015</td>\n",
       "      <td>0.019924</td>\n",
       "      <td>1.735940e-05</td>\n",
       "    </tr>\n",
       "    <tr>\n",
       "      <th>4</th>\n",
       "      <td>001838f8-bbca-11e8-b2bc-ac1f6b6435d0</td>\n",
       "      <td>18</td>\n",
       "      <td>4</td>\n",
       "      <td>0.252602</td>\n",
       "      <td>0.001148</td>\n",
       "      <td>0.022260</td>\n",
       "      <td>0.003731</td>\n",
       "      <td>0.001436</td>\n",
       "      <td>0.018437</td>\n",
       "      <td>0.002753</td>\n",
       "      <td>...</td>\n",
       "      <td>0.994571</td>\n",
       "      <td>0.328054</td>\n",
       "      <td>9.264447e-07</td>\n",
       "      <td>0.010853</td>\n",
       "      <td>0.002268</td>\n",
       "      <td>0.003845</td>\n",
       "      <td>0.000694</td>\n",
       "      <td>0.285621</td>\n",
       "      <td>0.000002</td>\n",
       "      <td>2.986564e-08</td>\n",
       "    </tr>\n",
       "  </tbody>\n",
       "</table>\n",
       "<p>5 rows × 31 columns</p>\n",
       "</div>"
      ],
      "text/plain": [
       "                                     Id   Target  fold    pred_0    pred_1  \\\n",
       "0  00070df0-bbc3-11e8-b2bc-ac1f6b6435d0     16 0     2  0.940042  0.019254   \n",
       "1  000a6c98-bb9b-11e8-b2b9-ac1f6b6435d0  7 1 2 0     1  0.820848  0.999116   \n",
       "2  000a9596-bbc4-11e8-b2bc-ac1f6b6435d0        5     2  0.920208  0.020876   \n",
       "3  000c99ba-bba4-11e8-b2b9-ac1f6b6435d0        1     2  0.612504  0.924049   \n",
       "4  001838f8-bbca-11e8-b2bc-ac1f6b6435d0       18     4  0.252602  0.001148   \n",
       "\n",
       "     pred_2    pred_3    pred_4    pred_5    pred_6      ...        pred_18  \\\n",
       "0  0.351159  0.006079  0.015875  0.145716  0.002299      ...       0.423793   \n",
       "1  0.525593  0.045257  0.000969  0.047155  0.023687      ...       0.005552   \n",
       "2  0.622096  0.165277  0.058788  0.969752  0.011474      ...       0.048177   \n",
       "3  0.119747  0.012099  0.038203  0.005261  0.968421      ...       0.005491   \n",
       "4  0.022260  0.003731  0.001436  0.018437  0.002753      ...       0.994571   \n",
       "\n",
       "    pred_19       pred_20   pred_21   pred_22   pred_23   pred_24   pred_25  \\\n",
       "0  0.155631  3.311639e-05  0.130876  0.007847  0.017331  0.000069  0.376820   \n",
       "1  0.005257  5.749720e-05  0.033169  0.002660  0.010750  0.000110  0.195760   \n",
       "2  0.172556  7.293192e-05  0.196732  0.162877  0.035505  0.010758  0.295205   \n",
       "3  0.018319  1.812955e-04  0.556480  0.061768  0.017533  0.000006  0.606015   \n",
       "4  0.328054  9.264447e-07  0.010853  0.002268  0.003845  0.000694  0.285621   \n",
       "\n",
       "    pred_26       pred_27  \n",
       "0  0.000992  2.412575e-05  \n",
       "1  0.000041  7.956502e-07  \n",
       "2  0.001464  2.621121e-05  \n",
       "3  0.019924  1.735940e-05  \n",
       "4  0.000002  2.986564e-08  \n",
       "\n",
       "[5 rows x 31 columns]"
      ]
     },
     "execution_count": 24,
     "metadata": {},
     "output_type": "execute_result"
    }
   ],
   "source": [
    "oof.head()"
   ]
  },
  {
   "cell_type": "code",
   "execution_count": 25,
   "metadata": {},
   "outputs": [],
   "source": [
    "target = oof.Target.values"
   ]
  },
  {
   "cell_type": "code",
   "execution_count": 26,
   "metadata": {},
   "outputs": [
    {
     "data": {
      "text/plain": [
       "(31072,)"
      ]
     },
     "execution_count": 26,
     "metadata": {},
     "output_type": "execute_result"
    }
   ],
   "source": [
    "target.shape"
   ]
  },
  {
   "cell_type": "code",
   "execution_count": 27,
   "metadata": {},
   "outputs": [],
   "source": [
    "for i in range(target.shape[0]):\n",
    "    target[i] = list(map(int, target[i].split(' ')))"
   ]
  },
  {
   "cell_type": "code",
   "execution_count": 28,
   "metadata": {},
   "outputs": [
    {
     "data": {
      "text/plain": [
       "[2, 0]"
      ]
     },
     "execution_count": 28,
     "metadata": {},
     "output_type": "execute_result"
    }
   ],
   "source": [
    "target[i]"
   ]
  },
  {
   "cell_type": "code",
   "execution_count": 10,
   "metadata": {},
   "outputs": [
    {
     "data": {
      "text/plain": [
       "['16', '0']"
      ]
     },
     "execution_count": 10,
     "metadata": {},
     "output_type": "execute_result"
    }
   ],
   "source": [
    "target[0]"
   ]
  },
  {
   "cell_type": "code",
   "execution_count": 13,
   "metadata": {},
   "outputs": [
    {
     "data": {
      "text/plain": [
       "[16, 0]"
      ]
     },
     "execution_count": 13,
     "metadata": {},
     "output_type": "execute_result"
    }
   ],
   "source": [
    "list(map(int, target[0]))"
   ]
  },
  {
   "cell_type": "code",
   "execution_count": 29,
   "metadata": {},
   "outputs": [],
   "source": [
    "Target = np.zeros((target.shape[0], 28))"
   ]
  },
  {
   "cell_type": "code",
   "execution_count": 32,
   "metadata": {},
   "outputs": [
    {
     "data": {
      "text/plain": [
       "(28,)"
      ]
     },
     "execution_count": 32,
     "metadata": {},
     "output_type": "execute_result"
    }
   ],
   "source": [
    "Target[0,:].shape"
   ]
  },
  {
   "cell_type": "code",
   "execution_count": 36,
   "metadata": {},
   "outputs": [],
   "source": [
    "Target[0,:][target[i]] = 1"
   ]
  },
  {
   "cell_type": "code",
   "execution_count": 37,
   "metadata": {},
   "outputs": [
    {
     "data": {
      "text/plain": [
       "array([1., 0., 1., 0., 0., 0., 0., 0., 0., 0., 0., 0., 0., 0., 0., 0., 0.,\n",
       "       0., 0., 0., 0., 0., 0., 0., 0., 0., 0., 0.])"
      ]
     },
     "execution_count": 37,
     "metadata": {},
     "output_type": "execute_result"
    }
   ],
   "source": [
    "Target[0,:]"
   ]
  },
  {
   "cell_type": "code",
   "execution_count": 38,
   "metadata": {},
   "outputs": [],
   "source": [
    "for i in range(target.shape[0]):\n",
    "    Target[i,:][target[i]] = 1"
   ]
  },
  {
   "cell_type": "code",
   "execution_count": 41,
   "metadata": {},
   "outputs": [
    {
     "data": {
      "text/plain": [
       "(31072,)"
      ]
     },
     "execution_count": 41,
     "metadata": {},
     "output_type": "execute_result"
    }
   ],
   "source": [
    "Target[:,0].shape"
   ]
  },
  {
   "cell_type": "code",
   "execution_count": 43,
   "metadata": {},
   "outputs": [
    {
     "data": {
      "text/plain": [
       "(31072,)"
      ]
     },
     "execution_count": 43,
     "metadata": {},
     "output_type": "execute_result"
    }
   ],
   "source": [
    "oof['pred_0'].values.shape"
   ]
  },
  {
   "cell_type": "code",
   "execution_count": 45,
   "metadata": {},
   "outputs": [
    {
     "data": {
      "text/plain": [
       "array([1, 0, 1, ..., 0, 0, 1])"
      ]
     },
     "execution_count": 45,
     "metadata": {},
     "output_type": "execute_result"
    }
   ],
   "source": [
    "(oof['pred_0'].values > 0.84)*1"
   ]
  },
  {
   "cell_type": "code",
   "execution_count": 46,
   "metadata": {},
   "outputs": [
    {
     "data": {
      "text/plain": [
       "0.8145443244503147"
      ]
     },
     "execution_count": 46,
     "metadata": {},
     "output_type": "execute_result"
    }
   ],
   "source": [
    "f1_score(Target[:,0], (oof['pred_0'].values > 0.84)*1)"
   ]
  },
  {
   "cell_type": "code",
   "execution_count": 54,
   "metadata": {},
   "outputs": [
    {
     "data": {
      "text/plain": [
       "0.8159490075172341"
      ]
     },
     "execution_count": 54,
     "metadata": {},
     "output_type": "execute_result"
    }
   ],
   "source": [
    "f1_score(Target[:,0], (oof['pred_0'].values > 0.71)*1)"
   ]
  },
  {
   "cell_type": "code",
   "execution_count": 62,
   "metadata": {},
   "outputs": [
    {
     "data": {
      "text/plain": [
       "0.7790055248618785"
      ]
     },
     "execution_count": 62,
     "metadata": {},
     "output_type": "execute_result"
    }
   ],
   "source": [
    "f1_score(Target[:,1], (oof['pred_1'].values > 0.99)*1)"
   ]
  },
  {
   "cell_type": "code",
   "execution_count": 66,
   "metadata": {},
   "outputs": [
    {
     "data": {
      "text/plain": [
       "0.7751937984496124"
      ]
     },
     "execution_count": 66,
     "metadata": {},
     "output_type": "execute_result"
    }
   ],
   "source": [
    "f1_score(Target[:,8], (oof['pred_8'].values > 0.05)*1)"
   ]
  },
  {
   "cell_type": "code",
   "execution_count": 68,
   "metadata": {},
   "outputs": [],
   "source": [
    "oof66_probs = pd.read_csv('../preds/oof66_probs.csv')"
   ]
  },
  {
   "cell_type": "code",
   "execution_count": 69,
   "metadata": {},
   "outputs": [
    {
     "data": {
      "text/html": [
       "<div>\n",
       "<style scoped>\n",
       "    .dataframe tbody tr th:only-of-type {\n",
       "        vertical-align: middle;\n",
       "    }\n",
       "\n",
       "    .dataframe tbody tr th {\n",
       "        vertical-align: top;\n",
       "    }\n",
       "\n",
       "    .dataframe thead th {\n",
       "        text-align: right;\n",
       "    }\n",
       "</style>\n",
       "<table border=\"1\" class=\"dataframe\">\n",
       "  <thead>\n",
       "    <tr style=\"text-align: right;\">\n",
       "      <th></th>\n",
       "      <th>id</th>\n",
       "      <th>data</th>\n",
       "      <th>p0</th>\n",
       "      <th>p1</th>\n",
       "      <th>p2</th>\n",
       "      <th>p3</th>\n",
       "      <th>p4</th>\n",
       "      <th>p5</th>\n",
       "      <th>p6</th>\n",
       "      <th>p7</th>\n",
       "      <th>...</th>\n",
       "      <th>p18</th>\n",
       "      <th>p19</th>\n",
       "      <th>p20</th>\n",
       "      <th>p21</th>\n",
       "      <th>p22</th>\n",
       "      <th>p23</th>\n",
       "      <th>p24</th>\n",
       "      <th>p25</th>\n",
       "      <th>p26</th>\n",
       "      <th>p27</th>\n",
       "    </tr>\n",
       "  </thead>\n",
       "  <tbody>\n",
       "    <tr>\n",
       "      <th>0</th>\n",
       "      <td>00070df0-bbc3-11e8-b2bc-ac1f6b6435d0</td>\n",
       "      <td>oof</td>\n",
       "      <td>0.593788</td>\n",
       "      <td>0.375898</td>\n",
       "      <td>0.435990</td>\n",
       "      <td>0.330360</td>\n",
       "      <td>0.364444</td>\n",
       "      <td>0.454987</td>\n",
       "      <td>0.321135</td>\n",
       "      <td>0.421705</td>\n",
       "      <td>...</td>\n",
       "      <td>0.473793</td>\n",
       "      <td>0.455051</td>\n",
       "      <td>0.293550</td>\n",
       "      <td>0.437272</td>\n",
       "      <td>0.361133</td>\n",
       "      <td>0.379272</td>\n",
       "      <td>0.331481</td>\n",
       "      <td>0.489557</td>\n",
       "      <td>0.335664</td>\n",
       "      <td>0.287815</td>\n",
       "    </tr>\n",
       "    <tr>\n",
       "      <th>1</th>\n",
       "      <td>000a6c98-bb9b-11e8-b2b9-ac1f6b6435d0</td>\n",
       "      <td>oof</td>\n",
       "      <td>0.533248</td>\n",
       "      <td>0.612703</td>\n",
       "      <td>0.469979</td>\n",
       "      <td>0.405523</td>\n",
       "      <td>0.369507</td>\n",
       "      <td>0.429742</td>\n",
       "      <td>0.382987</td>\n",
       "      <td>0.503600</td>\n",
       "      <td>...</td>\n",
       "      <td>0.366631</td>\n",
       "      <td>0.374946</td>\n",
       "      <td>0.344130</td>\n",
       "      <td>0.381159</td>\n",
       "      <td>0.389741</td>\n",
       "      <td>0.398122</td>\n",
       "      <td>0.360515</td>\n",
       "      <td>0.408260</td>\n",
       "      <td>0.374281</td>\n",
       "      <td>0.324469</td>\n",
       "    </tr>\n",
       "    <tr>\n",
       "      <th>2</th>\n",
       "      <td>000a9596-bbc4-11e8-b2bc-ac1f6b6435d0</td>\n",
       "      <td>oof</td>\n",
       "      <td>0.568403</td>\n",
       "      <td>0.397393</td>\n",
       "      <td>0.488341</td>\n",
       "      <td>0.488467</td>\n",
       "      <td>0.422017</td>\n",
       "      <td>0.554570</td>\n",
       "      <td>0.377031</td>\n",
       "      <td>0.454148</td>\n",
       "      <td>...</td>\n",
       "      <td>0.407967</td>\n",
       "      <td>0.440541</td>\n",
       "      <td>0.430399</td>\n",
       "      <td>0.390864</td>\n",
       "      <td>0.415024</td>\n",
       "      <td>0.430823</td>\n",
       "      <td>0.375191</td>\n",
       "      <td>0.464016</td>\n",
       "      <td>0.393774</td>\n",
       "      <td>0.338479</td>\n",
       "    </tr>\n",
       "    <tr>\n",
       "      <th>3</th>\n",
       "      <td>000c99ba-bba4-11e8-b2b9-ac1f6b6435d0</td>\n",
       "      <td>oof</td>\n",
       "      <td>0.546201</td>\n",
       "      <td>0.605755</td>\n",
       "      <td>0.419404</td>\n",
       "      <td>0.387817</td>\n",
       "      <td>0.398623</td>\n",
       "      <td>0.396394</td>\n",
       "      <td>0.453517</td>\n",
       "      <td>0.386389</td>\n",
       "      <td>...</td>\n",
       "      <td>0.362903</td>\n",
       "      <td>0.381222</td>\n",
       "      <td>0.279476</td>\n",
       "      <td>0.415416</td>\n",
       "      <td>0.381239</td>\n",
       "      <td>0.378134</td>\n",
       "      <td>0.303103</td>\n",
       "      <td>0.511146</td>\n",
       "      <td>0.364389</td>\n",
       "      <td>0.284949</td>\n",
       "    </tr>\n",
       "    <tr>\n",
       "      <th>4</th>\n",
       "      <td>001838f8-bbca-11e8-b2bc-ac1f6b6435d0</td>\n",
       "      <td>oof</td>\n",
       "      <td>0.495074</td>\n",
       "      <td>0.371248</td>\n",
       "      <td>0.429676</td>\n",
       "      <td>0.390139</td>\n",
       "      <td>0.361621</td>\n",
       "      <td>0.401643</td>\n",
       "      <td>0.360942</td>\n",
       "      <td>0.416369</td>\n",
       "      <td>...</td>\n",
       "      <td>0.593574</td>\n",
       "      <td>0.454285</td>\n",
       "      <td>0.304013</td>\n",
       "      <td>0.353871</td>\n",
       "      <td>0.384033</td>\n",
       "      <td>0.356007</td>\n",
       "      <td>0.383759</td>\n",
       "      <td>0.418303</td>\n",
       "      <td>0.305295</td>\n",
       "      <td>0.306030</td>\n",
       "    </tr>\n",
       "  </tbody>\n",
       "</table>\n",
       "<p>5 rows × 30 columns</p>\n",
       "</div>"
      ],
      "text/plain": [
       "                                     id data        p0        p1        p2  \\\n",
       "0  00070df0-bbc3-11e8-b2bc-ac1f6b6435d0  oof  0.593788  0.375898  0.435990   \n",
       "1  000a6c98-bb9b-11e8-b2b9-ac1f6b6435d0  oof  0.533248  0.612703  0.469979   \n",
       "2  000a9596-bbc4-11e8-b2bc-ac1f6b6435d0  oof  0.568403  0.397393  0.488341   \n",
       "3  000c99ba-bba4-11e8-b2b9-ac1f6b6435d0  oof  0.546201  0.605755  0.419404   \n",
       "4  001838f8-bbca-11e8-b2bc-ac1f6b6435d0  oof  0.495074  0.371248  0.429676   \n",
       "\n",
       "         p3        p4        p5        p6        p7    ...          p18  \\\n",
       "0  0.330360  0.364444  0.454987  0.321135  0.421705    ...     0.473793   \n",
       "1  0.405523  0.369507  0.429742  0.382987  0.503600    ...     0.366631   \n",
       "2  0.488467  0.422017  0.554570  0.377031  0.454148    ...     0.407967   \n",
       "3  0.387817  0.398623  0.396394  0.453517  0.386389    ...     0.362903   \n",
       "4  0.390139  0.361621  0.401643  0.360942  0.416369    ...     0.593574   \n",
       "\n",
       "        p19       p20       p21       p22       p23       p24       p25  \\\n",
       "0  0.455051  0.293550  0.437272  0.361133  0.379272  0.331481  0.489557   \n",
       "1  0.374946  0.344130  0.381159  0.389741  0.398122  0.360515  0.408260   \n",
       "2  0.440541  0.430399  0.390864  0.415024  0.430823  0.375191  0.464016   \n",
       "3  0.381222  0.279476  0.415416  0.381239  0.378134  0.303103  0.511146   \n",
       "4  0.454285  0.304013  0.353871  0.384033  0.356007  0.383759  0.418303   \n",
       "\n",
       "        p26       p27  \n",
       "0  0.335664  0.287815  \n",
       "1  0.374281  0.324469  \n",
       "2  0.393774  0.338479  \n",
       "3  0.364389  0.284949  \n",
       "4  0.305295  0.306030  \n",
       "\n",
       "[5 rows x 30 columns]"
      ]
     },
     "execution_count": 69,
     "metadata": {},
     "output_type": "execute_result"
    }
   ],
   "source": [
    "oof66_probs.head()"
   ]
  },
  {
   "cell_type": "code",
   "execution_count": 70,
   "metadata": {},
   "outputs": [
    {
     "data": {
      "text/plain": [
       "(31072, 30)"
      ]
     },
     "execution_count": 70,
     "metadata": {},
     "output_type": "execute_result"
    }
   ],
   "source": [
    "oof66_probs.shape"
   ]
  },
  {
   "cell_type": "code",
   "execution_count": 71,
   "metadata": {},
   "outputs": [],
   "source": [
    "thresholds = np.linspace(0, 1, 101)"
   ]
  },
  {
   "cell_type": "code",
   "execution_count": 72,
   "metadata": {},
   "outputs": [
    {
     "data": {
      "text/plain": [
       "array([0.  , 0.01, 0.02, 0.03, 0.04, 0.05, 0.06, 0.07, 0.08, 0.09, 0.1 ,\n",
       "       0.11, 0.12, 0.13, 0.14, 0.15, 0.16, 0.17, 0.18, 0.19, 0.2 , 0.21,\n",
       "       0.22, 0.23, 0.24, 0.25, 0.26, 0.27, 0.28, 0.29, 0.3 , 0.31, 0.32,\n",
       "       0.33, 0.34, 0.35, 0.36, 0.37, 0.38, 0.39, 0.4 , 0.41, 0.42, 0.43,\n",
       "       0.44, 0.45, 0.46, 0.47, 0.48, 0.49, 0.5 , 0.51, 0.52, 0.53, 0.54,\n",
       "       0.55, 0.56, 0.57, 0.58, 0.59, 0.6 , 0.61, 0.62, 0.63, 0.64, 0.65,\n",
       "       0.66, 0.67, 0.68, 0.69, 0.7 , 0.71, 0.72, 0.73, 0.74, 0.75, 0.76,\n",
       "       0.77, 0.78, 0.79, 0.8 , 0.81, 0.82, 0.83, 0.84, 0.85, 0.86, 0.87,\n",
       "       0.88, 0.89, 0.9 , 0.91, 0.92, 0.93, 0.94, 0.95, 0.96, 0.97, 0.98,\n",
       "       0.99, 1.  ])"
      ]
     },
     "execution_count": 72,
     "metadata": {},
     "output_type": "execute_result"
    }
   ],
   "source": [
    "thresholds"
   ]
  },
  {
   "cell_type": "code",
   "execution_count": 76,
   "metadata": {},
   "outputs": [
    {
     "data": {
      "text/plain": [
       "(31072, 28)"
      ]
     },
     "execution_count": 76,
     "metadata": {},
     "output_type": "execute_result"
    }
   ],
   "source": [
    "oof66_probs[oof66_probs.columns[2:]].values.shape"
   ]
  },
  {
   "cell_type": "code",
   "execution_count": 78,
   "metadata": {},
   "outputs": [
    {
     "ename": "SyntaxError",
     "evalue": "invalid syntax (<ipython-input-78-d7bc0436e548>, line 1)",
     "output_type": "error",
     "traceback": [
      "\u001b[0;36m  File \u001b[0;32m\"<ipython-input-78-d7bc0436e548>\"\u001b[0;36m, line \u001b[0;32m1\u001b[0m\n\u001b[0;31m    [oof66_probs.columns[2:]].values > thresholds)\u001b[0m\n\u001b[0m                                                 ^\u001b[0m\n\u001b[0;31mSyntaxError\u001b[0m\u001b[0;31m:\u001b[0m invalid syntax\n"
     ]
    }
   ],
   "source": [
    "[oof66_probs.columns[2:]].values > thresholds)"
   ]
  },
  {
   "cell_type": "code",
   "execution_count": 79,
   "metadata": {},
   "outputs": [
    {
     "name": "stderr",
     "output_type": "stream",
     "text": [
      "/usr/local/lib/python3.6/dist-packages/sklearn/metrics/classification.py:1143: UndefinedMetricWarning: F-score is ill-defined and being set to 0.0 in labels with no predicted samples.\n",
      "  'precision', 'predicted', average, warn_for)\n"
     ]
    }
   ],
   "source": [
    "scores = np.array([f1_score(Target, (oof66_probs[oof66_probs.columns[2:]].values > t).astype(int), \n",
    "                            average='macro') for t in thresholds])"
   ]
  },
  {
   "cell_type": "code",
   "execution_count": 81,
   "metadata": {},
   "outputs": [
    {
     "data": {
      "text/plain": [
       "(101,)"
      ]
     },
     "execution_count": 81,
     "metadata": {},
     "output_type": "execute_result"
    }
   ],
   "source": [
    "scores.shape"
   ]
  },
  {
   "cell_type": "code",
   "execution_count": 82,
   "metadata": {},
   "outputs": [
    {
     "data": {
      "text/plain": [
       "53"
      ]
     },
     "execution_count": 82,
     "metadata": {},
     "output_type": "execute_result"
    }
   ],
   "source": [
    "np.argmax(scores)"
   ]
  },
  {
   "cell_type": "code",
   "execution_count": 83,
   "metadata": {},
   "outputs": [
    {
     "data": {
      "text/plain": [
       "0.74559786084789"
      ]
     },
     "execution_count": 83,
     "metadata": {},
     "output_type": "execute_result"
    }
   ],
   "source": [
    "np.max(scores)"
   ]
  },
  {
   "cell_type": "code",
   "execution_count": 2,
   "metadata": {},
   "outputs": [],
   "source": [
    "fidx = 'ens'\n",
    "midx = '66'"
   ]
  },
  {
   "cell_type": "code",
   "execution_count": 12,
   "metadata": {},
   "outputs": [],
   "source": [
    "glist = ['air_u67',\n",
    "           'preresnet_u67','preresnet_u101',\n",
    "           'resnet_w65', 'se_resnext_u29'\n",
    "           ]"
   ]
  },
  {
   "cell_type": "code",
   "execution_count": 14,
   "metadata": {},
   "outputs": [],
   "source": [
    "nfold = 4\n",
    "\n",
    "oof_dir = '../../Human_Protein_Atlas/metafeatures/oof/'"
   ]
  },
  {
   "cell_type": "code",
   "execution_count": 6,
   "metadata": {},
   "outputs": [],
   "source": [
    "\n",
    "PATH_TO_TRAIN = '../../Human_Protein_Atlas/input/train/'\n",
    "PATH_TO_TEST = '../../Human_Protein_Atlas/input/test/'\n",
    "PATH_TO_TARGET = '../../Human_Protein_Atlas/input/train.csv'\n",
    "PATH_TO_SUB = '../../Human_Protein_Atlas/input/sample_submission.csv'"
   ]
  },
  {
   "cell_type": "code",
   "execution_count": 7,
   "metadata": {},
   "outputs": [],
   "source": [
    "sub = pd.read_csv(PATH_TO_SUB)"
   ]
  },
  {
   "cell_type": "code",
   "execution_count": 8,
   "metadata": {},
   "outputs": [
    {
     "data": {
      "text/html": [
       "<div>\n",
       "<style scoped>\n",
       "    .dataframe tbody tr th:only-of-type {\n",
       "        vertical-align: middle;\n",
       "    }\n",
       "\n",
       "    .dataframe tbody tr th {\n",
       "        vertical-align: top;\n",
       "    }\n",
       "\n",
       "    .dataframe thead th {\n",
       "        text-align: right;\n",
       "    }\n",
       "</style>\n",
       "<table border=\"1\" class=\"dataframe\">\n",
       "  <thead>\n",
       "    <tr style=\"text-align: right;\">\n",
       "      <th></th>\n",
       "      <th>Id</th>\n",
       "      <th>Predicted</th>\n",
       "    </tr>\n",
       "  </thead>\n",
       "  <tbody>\n",
       "    <tr>\n",
       "      <th>0</th>\n",
       "      <td>00008af0-bad0-11e8-b2b8-ac1f6b6435d0</td>\n",
       "      <td>0</td>\n",
       "    </tr>\n",
       "    <tr>\n",
       "      <th>1</th>\n",
       "      <td>0000a892-bacf-11e8-b2b8-ac1f6b6435d0</td>\n",
       "      <td>0</td>\n",
       "    </tr>\n",
       "    <tr>\n",
       "      <th>2</th>\n",
       "      <td>0006faa6-bac7-11e8-b2b7-ac1f6b6435d0</td>\n",
       "      <td>0</td>\n",
       "    </tr>\n",
       "    <tr>\n",
       "      <th>3</th>\n",
       "      <td>0008baca-bad7-11e8-b2b9-ac1f6b6435d0</td>\n",
       "      <td>0</td>\n",
       "    </tr>\n",
       "    <tr>\n",
       "      <th>4</th>\n",
       "      <td>000cce7e-bad4-11e8-b2b8-ac1f6b6435d0</td>\n",
       "      <td>0</td>\n",
       "    </tr>\n",
       "  </tbody>\n",
       "</table>\n",
       "</div>"
      ],
      "text/plain": [
       "                                     Id  Predicted\n",
       "0  00008af0-bad0-11e8-b2b8-ac1f6b6435d0          0\n",
       "1  0000a892-bacf-11e8-b2b8-ac1f6b6435d0          0\n",
       "2  0006faa6-bac7-11e8-b2b7-ac1f6b6435d0          0\n",
       "3  0008baca-bad7-11e8-b2b9-ac1f6b6435d0          0\n",
       "4  000cce7e-bad4-11e8-b2b8-ac1f6b6435d0          0"
      ]
     },
     "execution_count": 8,
     "metadata": {},
     "output_type": "execute_result"
    }
   ],
   "source": [
    "sub.head()"
   ]
  },
  {
   "cell_type": "code",
   "execution_count": 9,
   "metadata": {},
   "outputs": [
    {
     "name": "stdout",
     "output_type": "stream",
     "text": [
      "                                       Target\n",
      "Id                                           \n",
      "00070df0-bbc3-11e8-b2bc-ac1f6b6435d0     16 0\n",
      "000a6c98-bb9b-11e8-b2b9-ac1f6b6435d0  7 1 2 0\n",
      "000a9596-bbc4-11e8-b2bc-ac1f6b6435d0        5\n",
      "000c99ba-bba4-11e8-b2b9-ac1f6b6435d0        1\n",
      "001838f8-bbca-11e8-b2bc-ac1f6b6435d0       18\n",
      "(31072, 1)\n"
     ]
    }
   ],
   "source": [
    "df = pd.read_csv(PATH_TO_TARGET)\n",
    "df.set_index('Id',inplace=True)\n",
    "print(df.head())\n",
    "print(df.shape)"
   ]
  },
  {
   "cell_type": "code",
   "execution_count": 10,
   "metadata": {},
   "outputs": [
    {
     "name": "stdout",
     "output_type": "stream",
     "text": [
      "                                      Predicted\n",
      "Id                                             \n",
      "00008af0-bad0-11e8-b2b8-ac1f6b6435d0          0\n",
      "0000a892-bacf-11e8-b2b8-ac1f6b6435d0          0\n",
      "0006faa6-bac7-11e8-b2b7-ac1f6b6435d0          0\n",
      "0008baca-bad7-11e8-b2b9-ac1f6b6435d0          0\n",
      "000cce7e-bad4-11e8-b2b8-ac1f6b6435d0          0\n",
      "(11702, 1)\n"
     ]
    }
   ],
   "source": [
    "file_list = list(df.index.values)\n",
    "\n",
    "ss = pd.read_csv(PATH_TO_SUB)\n",
    "ss.set_index('Id',inplace=True)\n",
    "print(ss.head())\n",
    "print(ss.shape)"
   ]
  },
  {
   "cell_type": "code",
   "execution_count": 10,
   "metadata": {},
   "outputs": [],
   "source": [
    "oof = df.copy()\n",
    "# print(oof.head())\n",
    "# print(oof.shape)\n",
    "eps = 1e-6"
   ]
  },
  {
   "cell_type": "code",
   "execution_count": 15,
   "metadata": {},
   "outputs": [],
   "source": [
    "\n",
    "oof = df.copy()\n",
    "# print(oof.head())\n",
    "# print(oof.shape)\n",
    "eps = 1e-6\n",
    "\n",
    "for k,m in enumerate(glist):\n",
    "    # print(m),\n",
    "    first = True\n",
    "    for fold in range(nfold):\n",
    "        idf, pooff, yooff = pickle.load(open(oof_dir+m+'_'+str(fold)+'.pkl','rb'))\n",
    "        # change to probability scale\n",
    "        pooff = expit(pooff)\n",
    "        \n",
    "\n",
    "        if first:\n",
    "            id = idf\n",
    "            poof = pooff.copy()\n",
    "            yoof = yooff.copy()\n",
    "            first = False\n",
    "        else:\n",
    "            id = id + idf\n",
    "            poof = np.concatenate((poof,pooff))\n",
    "            yoof = np.concatenate((yoof,yooff))\n",
    "    \n",
    "    mdf = pd.DataFrame({'Id':id})\n",
    "    # print(poof.shape)\n",
    "    if k==0: mdf['y'] = [yoof[i] for i in range(yoof.shape[0])]\n",
    "    mdf[m] = [poof[i] for i in range(poof.shape[0])]\n",
    "    mdf.set_index('Id',inplace=True)\n",
    "    oof = oof.join(mdf)"
   ]
  },
  {
   "cell_type": "code",
   "execution_count": 16,
   "metadata": {},
   "outputs": [
    {
     "data": {
      "text/plain": [
       "(31072, 7)"
      ]
     },
     "execution_count": 16,
     "metadata": {},
     "output_type": "execute_result"
    }
   ],
   "source": [
    "oof.shape"
   ]
  },
  {
   "cell_type": "code",
   "execution_count": 17,
   "metadata": {},
   "outputs": [
    {
     "data": {
      "text/html": [
       "<div>\n",
       "<style scoped>\n",
       "    .dataframe tbody tr th:only-of-type {\n",
       "        vertical-align: middle;\n",
       "    }\n",
       "\n",
       "    .dataframe tbody tr th {\n",
       "        vertical-align: top;\n",
       "    }\n",
       "\n",
       "    .dataframe thead th {\n",
       "        text-align: right;\n",
       "    }\n",
       "</style>\n",
       "<table border=\"1\" class=\"dataframe\">\n",
       "  <thead>\n",
       "    <tr style=\"text-align: right;\">\n",
       "      <th></th>\n",
       "      <th>Target</th>\n",
       "      <th>y</th>\n",
       "      <th>air_u67</th>\n",
       "      <th>preresnet_u67</th>\n",
       "      <th>preresnet_u101</th>\n",
       "      <th>resnet_w65</th>\n",
       "      <th>se_resnext_u29</th>\n",
       "    </tr>\n",
       "    <tr>\n",
       "      <th>Id</th>\n",
       "      <th></th>\n",
       "      <th></th>\n",
       "      <th></th>\n",
       "      <th></th>\n",
       "      <th></th>\n",
       "      <th></th>\n",
       "      <th></th>\n",
       "    </tr>\n",
       "  </thead>\n",
       "  <tbody>\n",
       "    <tr>\n",
       "      <th>00070df0-bbc3-11e8-b2bc-ac1f6b6435d0</th>\n",
       "      <td>16 0</td>\n",
       "      <td>[1.0, 0.0, 0.0, 0.0, 0.0, 0.0, 0.0, 0.0, 0.0, ...</td>\n",
       "      <td>[[[0.9552974]], [[0.011893719]], [[0.02456743]...</td>\n",
       "      <td>[[[0.9008]], [[0.04977778]], [[0.06152666]], [...</td>\n",
       "      <td>[[[0.9928462]], [[0.0033091686]], [[0.02205755...</td>\n",
       "      <td>[[[0.9949687]], [[0.008769571]], [[0.05128505]...</td>\n",
       "      <td>[[[0.99430543]], [[0.016006052]], [[0.02002830...</td>\n",
       "    </tr>\n",
       "    <tr>\n",
       "      <th>000a6c98-bb9b-11e8-b2b9-ac1f6b6435d0</th>\n",
       "      <td>7 1 2 0</td>\n",
       "      <td>[1.0, 1.0, 1.0, 0.0, 0.0, 0.0, 0.0, 1.0, 0.0, ...</td>\n",
       "      <td>[[[0.97475284]], [[0.9937784]], [[0.37172255]]...</td>\n",
       "      <td>[[[0.7416709]], [[0.99948597]], [[0.072097324]...</td>\n",
       "      <td>[[[0.8883914]], [[0.99836713]], [[0.21986316]]...</td>\n",
       "      <td>[[[0.9355388]], [[0.99766314]], [[0.25203508]]...</td>\n",
       "      <td>[[[0.7101919]], [[0.969549]], [[0.27546024]], ...</td>\n",
       "    </tr>\n",
       "    <tr>\n",
       "      <th>000a9596-bbc4-11e8-b2bc-ac1f6b6435d0</th>\n",
       "      <td>5</td>\n",
       "      <td>[0.0, 0.0, 0.0, 0.0, 0.0, 1.0, 0.0, 0.0, 0.0, ...</td>\n",
       "      <td>[[[0.9680168]], [[0.0082058655]], [[0.29154035...</td>\n",
       "      <td>[[[0.9560007]], [[0.0061894692]], [[0.3604504]...</td>\n",
       "      <td>[[[0.93580484]], [[0.037184846]], [[0.48354197...</td>\n",
       "      <td>[[[0.89877224]], [[0.007357184]], [[0.47415993...</td>\n",
       "      <td>[[[0.9792124]], [[0.017325625]], [[0.5496751]]...</td>\n",
       "    </tr>\n",
       "    <tr>\n",
       "      <th>000c99ba-bba4-11e8-b2b9-ac1f6b6435d0</th>\n",
       "      <td>1</td>\n",
       "      <td>[0.0, 1.0, 0.0, 0.0, 0.0, 0.0, 0.0, 0.0, 0.0, ...</td>\n",
       "      <td>[[[0.9572456]], [[0.99069935]], [[0.05033453]]...</td>\n",
       "      <td>[[[0.31696457]], [[0.99046564]], [[0.003620990...</td>\n",
       "      <td>[[[0.90816665]], [[0.998226]], [[0.04174795]],...</td>\n",
       "      <td>[[[0.9247875]], [[0.9722527]], [[0.03123361]],...</td>\n",
       "      <td>[[[0.846639]], [[0.99171513]], [[0.06439011]],...</td>\n",
       "    </tr>\n",
       "    <tr>\n",
       "      <th>001838f8-bbca-11e8-b2bc-ac1f6b6435d0</th>\n",
       "      <td>18</td>\n",
       "      <td>[0.0, 0.0, 0.0, 0.0, 0.0, 0.0, 0.0, 0.0, 0.0, ...</td>\n",
       "      <td>[[[0.184256]], [[0.0006398597]], [[0.014315954...</td>\n",
       "      <td>[[[0.037844375]], [[0.00064213324]], [[0.00495...</td>\n",
       "      <td>[[[0.6757472]], [[0.0011689868]], [[0.01058629...</td>\n",
       "      <td>[[[0.12146013]], [[0.000605252]], [[0.04767052...</td>\n",
       "      <td>[[[0.5738917]], [[0.0033817638]], [[0.01807783...</td>\n",
       "    </tr>\n",
       "  </tbody>\n",
       "</table>\n",
       "</div>"
      ],
      "text/plain": [
       "                                       Target  \\\n",
       "Id                                              \n",
       "00070df0-bbc3-11e8-b2bc-ac1f6b6435d0     16 0   \n",
       "000a6c98-bb9b-11e8-b2b9-ac1f6b6435d0  7 1 2 0   \n",
       "000a9596-bbc4-11e8-b2bc-ac1f6b6435d0        5   \n",
       "000c99ba-bba4-11e8-b2b9-ac1f6b6435d0        1   \n",
       "001838f8-bbca-11e8-b2bc-ac1f6b6435d0       18   \n",
       "\n",
       "                                                                                      y  \\\n",
       "Id                                                                                        \n",
       "00070df0-bbc3-11e8-b2bc-ac1f6b6435d0  [1.0, 0.0, 0.0, 0.0, 0.0, 0.0, 0.0, 0.0, 0.0, ...   \n",
       "000a6c98-bb9b-11e8-b2b9-ac1f6b6435d0  [1.0, 1.0, 1.0, 0.0, 0.0, 0.0, 0.0, 1.0, 0.0, ...   \n",
       "000a9596-bbc4-11e8-b2bc-ac1f6b6435d0  [0.0, 0.0, 0.0, 0.0, 0.0, 1.0, 0.0, 0.0, 0.0, ...   \n",
       "000c99ba-bba4-11e8-b2b9-ac1f6b6435d0  [0.0, 1.0, 0.0, 0.0, 0.0, 0.0, 0.0, 0.0, 0.0, ...   \n",
       "001838f8-bbca-11e8-b2bc-ac1f6b6435d0  [0.0, 0.0, 0.0, 0.0, 0.0, 0.0, 0.0, 0.0, 0.0, ...   \n",
       "\n",
       "                                                                                air_u67  \\\n",
       "Id                                                                                        \n",
       "00070df0-bbc3-11e8-b2bc-ac1f6b6435d0  [[[0.9552974]], [[0.011893719]], [[0.02456743]...   \n",
       "000a6c98-bb9b-11e8-b2b9-ac1f6b6435d0  [[[0.97475284]], [[0.9937784]], [[0.37172255]]...   \n",
       "000a9596-bbc4-11e8-b2bc-ac1f6b6435d0  [[[0.9680168]], [[0.0082058655]], [[0.29154035...   \n",
       "000c99ba-bba4-11e8-b2b9-ac1f6b6435d0  [[[0.9572456]], [[0.99069935]], [[0.05033453]]...   \n",
       "001838f8-bbca-11e8-b2bc-ac1f6b6435d0  [[[0.184256]], [[0.0006398597]], [[0.014315954...   \n",
       "\n",
       "                                                                          preresnet_u67  \\\n",
       "Id                                                                                        \n",
       "00070df0-bbc3-11e8-b2bc-ac1f6b6435d0  [[[0.9008]], [[0.04977778]], [[0.06152666]], [...   \n",
       "000a6c98-bb9b-11e8-b2b9-ac1f6b6435d0  [[[0.7416709]], [[0.99948597]], [[0.072097324]...   \n",
       "000a9596-bbc4-11e8-b2bc-ac1f6b6435d0  [[[0.9560007]], [[0.0061894692]], [[0.3604504]...   \n",
       "000c99ba-bba4-11e8-b2b9-ac1f6b6435d0  [[[0.31696457]], [[0.99046564]], [[0.003620990...   \n",
       "001838f8-bbca-11e8-b2bc-ac1f6b6435d0  [[[0.037844375]], [[0.00064213324]], [[0.00495...   \n",
       "\n",
       "                                                                         preresnet_u101  \\\n",
       "Id                                                                                        \n",
       "00070df0-bbc3-11e8-b2bc-ac1f6b6435d0  [[[0.9928462]], [[0.0033091686]], [[0.02205755...   \n",
       "000a6c98-bb9b-11e8-b2b9-ac1f6b6435d0  [[[0.8883914]], [[0.99836713]], [[0.21986316]]...   \n",
       "000a9596-bbc4-11e8-b2bc-ac1f6b6435d0  [[[0.93580484]], [[0.037184846]], [[0.48354197...   \n",
       "000c99ba-bba4-11e8-b2b9-ac1f6b6435d0  [[[0.90816665]], [[0.998226]], [[0.04174795]],...   \n",
       "001838f8-bbca-11e8-b2bc-ac1f6b6435d0  [[[0.6757472]], [[0.0011689868]], [[0.01058629...   \n",
       "\n",
       "                                                                             resnet_w65  \\\n",
       "Id                                                                                        \n",
       "00070df0-bbc3-11e8-b2bc-ac1f6b6435d0  [[[0.9949687]], [[0.008769571]], [[0.05128505]...   \n",
       "000a6c98-bb9b-11e8-b2b9-ac1f6b6435d0  [[[0.9355388]], [[0.99766314]], [[0.25203508]]...   \n",
       "000a9596-bbc4-11e8-b2bc-ac1f6b6435d0  [[[0.89877224]], [[0.007357184]], [[0.47415993...   \n",
       "000c99ba-bba4-11e8-b2b9-ac1f6b6435d0  [[[0.9247875]], [[0.9722527]], [[0.03123361]],...   \n",
       "001838f8-bbca-11e8-b2bc-ac1f6b6435d0  [[[0.12146013]], [[0.000605252]], [[0.04767052...   \n",
       "\n",
       "                                                                         se_resnext_u29  \n",
       "Id                                                                                       \n",
       "00070df0-bbc3-11e8-b2bc-ac1f6b6435d0  [[[0.99430543]], [[0.016006052]], [[0.02002830...  \n",
       "000a6c98-bb9b-11e8-b2b9-ac1f6b6435d0  [[[0.7101919]], [[0.969549]], [[0.27546024]], ...  \n",
       "000a9596-bbc4-11e8-b2bc-ac1f6b6435d0  [[[0.9792124]], [[0.017325625]], [[0.5496751]]...  \n",
       "000c99ba-bba4-11e8-b2b9-ac1f6b6435d0  [[[0.846639]], [[0.99171513]], [[0.06439011]],...  \n",
       "001838f8-bbca-11e8-b2bc-ac1f6b6435d0  [[[0.5738917]], [[0.0033817638]], [[0.01807783...  "
      ]
     },
     "execution_count": 17,
     "metadata": {},
     "output_type": "execute_result"
    }
   ],
   "source": [
    "oof.head()"
   ]
  },
  {
   "cell_type": "code",
   "execution_count": 18,
   "metadata": {},
   "outputs": [],
   "source": [
    "y = np.array(oof.y.values.tolist())"
   ]
  },
  {
   "cell_type": "code",
   "execution_count": 28,
   "metadata": {},
   "outputs": [
    {
     "data": {
      "text/plain": [
       "(31072, 28)"
      ]
     },
     "execution_count": 28,
     "metadata": {},
     "output_type": "execute_result"
    }
   ],
   "source": [
    "y.shape"
   ]
  },
  {
   "cell_type": "code",
   "execution_count": 29,
   "metadata": {},
   "outputs": [],
   "source": [
    "import fastai"
   ]
  },
  {
   "cell_type": "code",
   "execution_count": 30,
   "metadata": {},
   "outputs": [
    {
     "name": "stdout",
     "output_type": "stream",
     "text": [
      "[4.1468203e-01 4.0357880e-02 1.1653579e-01 5.0238155e-02 5.9796602e-02\n",
      " 8.0876671e-02 3.2440782e-02 9.0821318e-02 1.7057158e-03 1.4482492e-03\n",
      " 9.0113288e-04 3.5176363e-02 2.2142122e-02 1.7282441e-02 3.4307417e-02\n",
      " 6.7584962e-04 1.7057158e-02 6.7584962e-03 2.9029351e-02 4.7695674e-02\n",
      " 5.5355304e-03 1.2155639e-01 2.5811020e-02 9.5423535e-02 1.0363027e-02\n",
      " 2.6480433e-01 1.0556128e-02 3.5401649e-04]\n"
     ]
    }
   ],
   "source": [
    "\n",
    "ymean = np.mean(y,axis=0)\n",
    "print(ymean)"
   ]
  },
  {
   "cell_type": "code",
   "execution_count": 19,
   "metadata": {},
   "outputs": [],
   "source": [
    "air_u67 = np.array(oof.air_u67.values.tolist())\n"
   ]
  },
  {
   "cell_type": "code",
   "execution_count": 20,
   "metadata": {},
   "outputs": [
    {
     "data": {
      "text/plain": [
       "(31072, 28)"
      ]
     },
     "execution_count": 20,
     "metadata": {},
     "output_type": "execute_result"
    }
   ],
   "source": [
    "air_u67 = air_u67.reshape((31072, 28))\n",
    "air_u67.shape"
   ]
  },
  {
   "cell_type": "code",
   "execution_count": 41,
   "metadata": {},
   "outputs": [
    {
     "data": {
      "text/plain": [
       "(31072,)"
      ]
     },
     "execution_count": 41,
     "metadata": {},
     "output_type": "execute_result"
    }
   ],
   "source": [
    "air_u67[:,0]"
   ]
  },
  {
   "cell_type": "code",
   "execution_count": 43,
   "metadata": {},
   "outputs": [
    {
     "data": {
      "text/plain": [
       "0.7921986721144025"
      ]
     },
     "execution_count": 43,
     "metadata": {},
     "output_type": "execute_result"
    }
   ],
   "source": [
    "f1_score(y[:,0], (air_u67[:,0] > 0.5)*1.)"
   ]
  },
  {
   "cell_type": "code",
   "execution_count": 44,
   "metadata": {},
   "outputs": [
    {
     "data": {
      "text/plain": [
       "0.6209110155725419"
      ]
     },
     "execution_count": 44,
     "metadata": {},
     "output_type": "execute_result"
    }
   ],
   "source": [
    "f1_score(y, (air_u67 > 0.5)*1., average='macro')"
   ]
  },
  {
   "cell_type": "code",
   "execution_count": 23,
   "metadata": {},
   "outputs": [],
   "source": [
    "thresholds =np.transpose(np.array([list(np.linspace(0.01,0.99, 99))]*28))"
   ]
  },
  {
   "cell_type": "code",
   "execution_count": 24,
   "metadata": {},
   "outputs": [
    {
     "data": {
      "text/plain": [
       "array([0.01, 0.02, 0.03, 0.04, 0.05, 0.06, 0.07, 0.08, 0.09, 0.1 , 0.11,\n",
       "       0.12, 0.13, 0.14, 0.15, 0.16, 0.17, 0.18, 0.19, 0.2 , 0.21, 0.22,\n",
       "       0.23, 0.24, 0.25, 0.26, 0.27, 0.28, 0.29, 0.3 , 0.31, 0.32, 0.33,\n",
       "       0.34, 0.35, 0.36, 0.37, 0.38, 0.39, 0.4 , 0.41, 0.42, 0.43, 0.44,\n",
       "       0.45, 0.46, 0.47, 0.48, 0.49, 0.5 , 0.51, 0.52, 0.53, 0.54, 0.55,\n",
       "       0.56, 0.57, 0.58, 0.59, 0.6 , 0.61, 0.62, 0.63, 0.64, 0.65, 0.66,\n",
       "       0.67, 0.68, 0.69, 0.7 , 0.71, 0.72, 0.73, 0.74, 0.75, 0.76, 0.77,\n",
       "       0.78, 0.79, 0.8 , 0.81, 0.82, 0.83, 0.84, 0.85, 0.86, 0.87, 0.88,\n",
       "       0.89, 0.9 , 0.91, 0.92, 0.93, 0.94, 0.95, 0.96, 0.97, 0.98, 0.99])"
      ]
     },
     "execution_count": 24,
     "metadata": {},
     "output_type": "execute_result"
    }
   ],
   "source": [
    "thresholds[:,0]"
   ]
  },
  {
   "cell_type": "code",
   "execution_count": 67,
   "metadata": {},
   "outputs": [
    {
     "data": {
      "text/plain": [
       "(31072, 99)"
      ]
     },
     "execution_count": 67,
     "metadata": {},
     "output_type": "execute_result"
    }
   ],
   "source": [
    "np.transpose((air_u67[:,0] > thresholds[:,0].reshape(-1,1))*1.).shape"
   ]
  },
  {
   "cell_type": "code",
   "execution_count": 60,
   "metadata": {},
   "outputs": [
    {
     "data": {
      "text/plain": [
       "array([0.01, 0.02, 0.03, 0.04, 0.05, 0.06, 0.07, 0.08, 0.09, 0.1 , 0.11,\n",
       "       0.12, 0.13, 0.14, 0.15, 0.16, 0.17, 0.18, 0.19, 0.2 , 0.21, 0.22,\n",
       "       0.23, 0.24, 0.25, 0.26, 0.27, 0.28, 0.29, 0.3 , 0.31, 0.32, 0.33,\n",
       "       0.34, 0.35, 0.36, 0.37, 0.38, 0.39, 0.4 , 0.41, 0.42, 0.43, 0.44,\n",
       "       0.45, 0.46, 0.47, 0.48, 0.49, 0.5 , 0.51, 0.52, 0.53, 0.54, 0.55,\n",
       "       0.56, 0.57, 0.58, 0.59, 0.6 , 0.61, 0.62, 0.63, 0.64, 0.65, 0.66,\n",
       "       0.67, 0.68, 0.69, 0.7 , 0.71, 0.72, 0.73, 0.74, 0.75, 0.76, 0.77,\n",
       "       0.78, 0.79, 0.8 , 0.81, 0.82, 0.83, 0.84, 0.85, 0.86, 0.87, 0.88,\n",
       "       0.89, 0.9 , 0.91, 0.92, 0.93, 0.94, 0.95, 0.96, 0.97, 0.98, 0.99])"
      ]
     },
     "execution_count": 60,
     "metadata": {},
     "output_type": "execute_result"
    }
   ],
   "source": [
    "np.transpose(thresholds[:,0])"
   ]
  },
  {
   "cell_type": "code",
   "execution_count": 62,
   "metadata": {},
   "outputs": [
    {
     "data": {
      "text/plain": [
       "(99, 1)"
      ]
     },
     "execution_count": 62,
     "metadata": {},
     "output_type": "execute_result"
    }
   ],
   "source": [
    "thresholds[:,0].reshape(-1,1).shape"
   ]
  },
  {
   "cell_type": "code",
   "execution_count": 69,
   "metadata": {},
   "outputs": [
    {
     "data": {
      "text/plain": [
       "0.5985404852654086"
      ]
     },
     "execution_count": 69,
     "metadata": {},
     "output_type": "execute_result"
    }
   ],
   "source": [
    "f1_score(y[:,0], np.transpose((air_u67[:,0] > thresholds[:,0].reshape(-1,1))*1.)[:,0])"
   ]
  },
  {
   "cell_type": "code",
   "execution_count": 71,
   "metadata": {},
   "outputs": [
    {
     "data": {
      "text/plain": [
       "array([0.79219867, 0.76187357, 0.73427945, 0.69112174, 0.68956797,\n",
       "       0.60185608, 0.4729362 , 0.72692646, 0.86725664, 0.80851064,\n",
       "       0.75409836, 0.63991698, 0.54579615, 0.53081761, 0.74251939,\n",
       "       0.61904762, 0.30316742, 0.35836177, 0.44329184, 0.52401353,\n",
       "       0.50194553, 0.6147929 , 0.48355755, 0.72957011, 0.64879357,\n",
       "       0.64723724, 0.45974576, 0.69230769])"
      ]
     },
     "execution_count": 71,
     "metadata": {},
     "output_type": "execute_result"
    }
   ],
   "source": [
    "f1_score(y, (air_u67 > 0.5)*1., average=None)"
   ]
  },
  {
   "cell_type": "code",
   "execution_count": 72,
   "metadata": {},
   "outputs": [
    {
     "data": {
      "text/plain": [
       "(31072, 28)"
      ]
     },
     "execution_count": 72,
     "metadata": {},
     "output_type": "execute_result"
    }
   ],
   "source": [
    "air_u67.shape"
   ]
  },
  {
   "cell_type": "code",
   "execution_count": 73,
   "metadata": {},
   "outputs": [
    {
     "data": {
      "text/plain": [
       "(99, 28)"
      ]
     },
     "execution_count": 73,
     "metadata": {},
     "output_type": "execute_result"
    }
   ],
   "source": [
    "thresholds.shape"
   ]
  },
  {
   "cell_type": "code",
   "execution_count": 75,
   "metadata": {},
   "outputs": [
    {
     "data": {
      "text/plain": [
       "(99, 1)"
      ]
     },
     "execution_count": 75,
     "metadata": {},
     "output_type": "execute_result"
    }
   ],
   "source": [
    "thresholds[:,0].reshape(-1,1).shape"
   ]
  },
  {
   "cell_type": "code",
   "execution_count": 83,
   "metadata": {},
   "outputs": [
    {
     "ename": "ValueError",
     "evalue": "operands could not be broadcast together with shapes (31072,28) (99,28) ",
     "output_type": "error",
     "traceback": [
      "\u001b[0;31m---------------------------------------------------------------------------\u001b[0m",
      "\u001b[0;31mValueError\u001b[0m                                Traceback (most recent call last)",
      "\u001b[0;32m<ipython-input-83-059326fcf612>\u001b[0m in \u001b[0;36m<module>\u001b[0;34m\u001b[0m\n\u001b[0;32m----> 1\u001b[0;31m \u001b[0;34m(\u001b[0m\u001b[0mair_u67\u001b[0m \u001b[0;34m>\u001b[0m \u001b[0mthresholds\u001b[0m\u001b[0;34m)\u001b[0m\u001b[0;34m*\u001b[0m\u001b[0;36m1.\u001b[0m\u001b[0;34m\u001b[0m\u001b[0m\n\u001b[0m",
      "\u001b[0;31mValueError\u001b[0m: operands could not be broadcast together with shapes (31072,28) (99,28) "
     ]
    }
   ],
   "source": [
    "(air_u67 > thresholds)*1."
   ]
  },
  {
   "cell_type": "code",
   "execution_count": 87,
   "metadata": {},
   "outputs": [
    {
     "ename": "ValueError",
     "evalue": "operands could not be broadcast together with shapes (31072,28) (99,1) ",
     "output_type": "error",
     "traceback": [
      "\u001b[0;31m---------------------------------------------------------------------------\u001b[0m",
      "\u001b[0;31mValueError\u001b[0m                                Traceback (most recent call last)",
      "\u001b[0;32m<ipython-input-87-9bd8a999a99f>\u001b[0m in \u001b[0;36m<module>\u001b[0;34m\u001b[0m\n\u001b[0;32m----> 1\u001b[0;31m \u001b[0;34m(\u001b[0m\u001b[0;34m(\u001b[0m\u001b[0mair_u67\u001b[0m \u001b[0;34m>\u001b[0m \u001b[0mthresholds\u001b[0m\u001b[0;34m[\u001b[0m\u001b[0;34m:\u001b[0m\u001b[0;34m,\u001b[0m\u001b[0;36m0\u001b[0m\u001b[0;34m]\u001b[0m\u001b[0;34m.\u001b[0m\u001b[0mreshape\u001b[0m\u001b[0;34m(\u001b[0m\u001b[0;34m-\u001b[0m\u001b[0;36m1\u001b[0m\u001b[0;34m,\u001b[0m\u001b[0;36m1\u001b[0m\u001b[0;34m)\u001b[0m\u001b[0;34m)\u001b[0m\u001b[0;34m*\u001b[0m\u001b[0;36m1.\u001b[0m\u001b[0;34m)\u001b[0m\u001b[0;34m.\u001b[0m\u001b[0mshape\u001b[0m\u001b[0;34m\u001b[0m\u001b[0m\n\u001b[0m",
      "\u001b[0;31mValueError\u001b[0m: operands could not be broadcast together with shapes (31072,28) (99,1) "
     ]
    }
   ],
   "source": [
    "((air_u67 > thresholds[:,0].reshape(-1,1))*1.).shape"
   ]
  },
  {
   "cell_type": "code",
   "execution_count": 91,
   "metadata": {},
   "outputs": [
    {
     "data": {
      "text/plain": [
       "(31072, 1, 28)"
      ]
     },
     "execution_count": 91,
     "metadata": {},
     "output_type": "execute_result"
    }
   ],
   "source": [
    "(air_u67[:,np.newaxis] + list(range(28))).shape"
   ]
  },
  {
   "cell_type": "code",
   "execution_count": 97,
   "metadata": {},
   "outputs": [
    {
     "data": {
      "text/plain": [
       "(2, 28)"
      ]
     },
     "execution_count": 97,
     "metadata": {},
     "output_type": "execute_result"
    }
   ],
   "source": [
    "np.array([list(range(28)), list(range(28))]).shape"
   ]
  },
  {
   "cell_type": "code",
   "execution_count": 98,
   "metadata": {},
   "outputs": [
    {
     "data": {
      "text/plain": [
       "(31072, 2, 28)"
      ]
     },
     "execution_count": 98,
     "metadata": {},
     "output_type": "execute_result"
    }
   ],
   "source": [
    "(air_u67[:,np.newaxis] + np.array([list(range(28)), list(range(28))])).shape"
   ]
  },
  {
   "cell_type": "code",
   "execution_count": 105,
   "metadata": {},
   "outputs": [
    {
     "data": {
      "text/plain": [
       "(31072, 99, 28)"
      ]
     },
     "execution_count": 105,
     "metadata": {},
     "output_type": "execute_result"
    }
   ],
   "source": [
    "((air_u67[:,np.newaxis] > thresholds)*1.).shape"
   ]
  },
  {
   "cell_type": "code",
   "execution_count": 103,
   "metadata": {},
   "outputs": [
    {
     "data": {
      "text/plain": [
       "(31072, 28)"
      ]
     },
     "execution_count": 103,
     "metadata": {},
     "output_type": "execute_result"
    }
   ],
   "source": [
    "y.shape"
   ]
  },
  {
   "cell_type": "code",
   "execution_count": 106,
   "metadata": {},
   "outputs": [
    {
     "data": {
      "text/plain": [
       "array([[[1., 1., 1., ..., 1., 0., 0.],\n",
       "        [1., 0., 1., ..., 1., 0., 0.],\n",
       "        [1., 0., 0., ..., 1., 0., 0.],\n",
       "        ...,\n",
       "        [0., 0., 0., ..., 0., 0., 0.],\n",
       "        [0., 0., 0., ..., 0., 0., 0.],\n",
       "        [0., 0., 0., ..., 0., 0., 0.]],\n",
       "\n",
       "       [[1., 1., 1., ..., 0., 0., 0.],\n",
       "        [1., 1., 1., ..., 0., 0., 0.],\n",
       "        [1., 1., 1., ..., 0., 0., 0.],\n",
       "        ...,\n",
       "        [1., 1., 0., ..., 0., 0., 0.],\n",
       "        [0., 1., 0., ..., 0., 0., 0.],\n",
       "        [0., 1., 0., ..., 0., 0., 0.]],\n",
       "\n",
       "       [[1., 0., 1., ..., 1., 0., 0.],\n",
       "        [1., 0., 1., ..., 1., 0., 0.],\n",
       "        [1., 0., 1., ..., 1., 0., 0.],\n",
       "        ...,\n",
       "        [0., 0., 0., ..., 0., 0., 0.],\n",
       "        [0., 0., 0., ..., 0., 0., 0.],\n",
       "        [0., 0., 0., ..., 0., 0., 0.]],\n",
       "\n",
       "       ...,\n",
       "\n",
       "       [[1., 1., 1., ..., 1., 0., 0.],\n",
       "        [1., 0., 1., ..., 1., 0., 0.],\n",
       "        [1., 0., 1., ..., 1., 0., 0.],\n",
       "        ...,\n",
       "        [0., 0., 0., ..., 0., 0., 0.],\n",
       "        [0., 0., 0., ..., 0., 0., 0.],\n",
       "        [0., 0., 0., ..., 0., 0., 0.]],\n",
       "\n",
       "       [[1., 1., 1., ..., 1., 0., 0.],\n",
       "        [1., 0., 1., ..., 1., 0., 0.],\n",
       "        [1., 0., 1., ..., 1., 0., 0.],\n",
       "        ...,\n",
       "        [0., 0., 0., ..., 0., 0., 0.],\n",
       "        [0., 0., 0., ..., 0., 0., 0.],\n",
       "        [0., 0., 0., ..., 0., 0., 0.]],\n",
       "\n",
       "       [[1., 1., 1., ..., 1., 0., 0.],\n",
       "        [1., 1., 1., ..., 1., 0., 0.],\n",
       "        [1., 1., 1., ..., 1., 0., 0.],\n",
       "        ...,\n",
       "        [1., 0., 1., ..., 0., 0., 0.],\n",
       "        [1., 0., 1., ..., 0., 0., 0.],\n",
       "        [1., 0., 1., ..., 0., 0., 0.]]])"
      ]
     },
     "execution_count": 106,
     "metadata": {},
     "output_type": "execute_result"
    }
   ],
   "source": [
    "(air_u67[:,np.newaxis] > thresholds)*1."
   ]
  },
  {
   "cell_type": "code",
   "execution_count": 107,
   "metadata": {},
   "outputs": [
    {
     "ename": "ValueError",
     "evalue": "Classification metrics can't handle a mix of multilabel-indicator and unknown targets",
     "output_type": "error",
     "traceback": [
      "\u001b[0;31m---------------------------------------------------------------------------\u001b[0m",
      "\u001b[0;31mValueError\u001b[0m                                Traceback (most recent call last)",
      "\u001b[0;32m<ipython-input-107-3b2aec0cbb8b>\u001b[0m in \u001b[0;36m<module>\u001b[0;34m\u001b[0m\n\u001b[0;32m----> 1\u001b[0;31m \u001b[0mf1_score\u001b[0m\u001b[0;34m(\u001b[0m\u001b[0my\u001b[0m\u001b[0;34m,\u001b[0m \u001b[0;34m(\u001b[0m\u001b[0mair_u67\u001b[0m\u001b[0;34m[\u001b[0m\u001b[0;34m:\u001b[0m\u001b[0;34m,\u001b[0m\u001b[0mnp\u001b[0m\u001b[0;34m.\u001b[0m\u001b[0mnewaxis\u001b[0m\u001b[0;34m]\u001b[0m \u001b[0;34m>\u001b[0m \u001b[0mthresholds\u001b[0m\u001b[0;34m)\u001b[0m\u001b[0;34m*\u001b[0m\u001b[0;36m1.\u001b[0m\u001b[0;34m,\u001b[0m \u001b[0maverage\u001b[0m\u001b[0;34m=\u001b[0m\u001b[0;32mNone\u001b[0m\u001b[0;34m)\u001b[0m\u001b[0;34m\u001b[0m\u001b[0m\n\u001b[0m",
      "\u001b[0;32m/usr/local/lib/python3.6/dist-packages/sklearn/metrics/classification.py\u001b[0m in \u001b[0;36mf1_score\u001b[0;34m(y_true, y_pred, labels, pos_label, average, sample_weight)\u001b[0m\n\u001b[1;32m    718\u001b[0m     return fbeta_score(y_true, y_pred, 1, labels=labels,\n\u001b[1;32m    719\u001b[0m                        \u001b[0mpos_label\u001b[0m\u001b[0;34m=\u001b[0m\u001b[0mpos_label\u001b[0m\u001b[0;34m,\u001b[0m \u001b[0maverage\u001b[0m\u001b[0;34m=\u001b[0m\u001b[0maverage\u001b[0m\u001b[0;34m,\u001b[0m\u001b[0;34m\u001b[0m\u001b[0m\n\u001b[0;32m--> 720\u001b[0;31m                        sample_weight=sample_weight)\n\u001b[0m\u001b[1;32m    721\u001b[0m \u001b[0;34m\u001b[0m\u001b[0m\n\u001b[1;32m    722\u001b[0m \u001b[0;34m\u001b[0m\u001b[0m\n",
      "\u001b[0;32m/usr/local/lib/python3.6/dist-packages/sklearn/metrics/classification.py\u001b[0m in \u001b[0;36mfbeta_score\u001b[0;34m(y_true, y_pred, beta, labels, pos_label, average, sample_weight)\u001b[0m\n\u001b[1;32m    832\u001b[0m                                                  \u001b[0maverage\u001b[0m\u001b[0;34m=\u001b[0m\u001b[0maverage\u001b[0m\u001b[0;34m,\u001b[0m\u001b[0;34m\u001b[0m\u001b[0m\n\u001b[1;32m    833\u001b[0m                                                  \u001b[0mwarn_for\u001b[0m\u001b[0;34m=\u001b[0m\u001b[0;34m(\u001b[0m\u001b[0;34m'f-score'\u001b[0m\u001b[0;34m,\u001b[0m\u001b[0;34m)\u001b[0m\u001b[0;34m,\u001b[0m\u001b[0;34m\u001b[0m\u001b[0m\n\u001b[0;32m--> 834\u001b[0;31m                                                  sample_weight=sample_weight)\n\u001b[0m\u001b[1;32m    835\u001b[0m     \u001b[0;32mreturn\u001b[0m \u001b[0mf\u001b[0m\u001b[0;34m\u001b[0m\u001b[0m\n\u001b[1;32m    836\u001b[0m \u001b[0;34m\u001b[0m\u001b[0m\n",
      "\u001b[0;32m/usr/local/lib/python3.6/dist-packages/sklearn/metrics/classification.py\u001b[0m in \u001b[0;36mprecision_recall_fscore_support\u001b[0;34m(y_true, y_pred, beta, labels, pos_label, average, warn_for, sample_weight)\u001b[0m\n\u001b[1;32m   1029\u001b[0m         \u001b[0;32mraise\u001b[0m \u001b[0mValueError\u001b[0m\u001b[0;34m(\u001b[0m\u001b[0;34m\"beta should be >0 in the F-beta score\"\u001b[0m\u001b[0;34m)\u001b[0m\u001b[0;34m\u001b[0m\u001b[0m\n\u001b[1;32m   1030\u001b[0m \u001b[0;34m\u001b[0m\u001b[0m\n\u001b[0;32m-> 1031\u001b[0;31m     \u001b[0my_type\u001b[0m\u001b[0;34m,\u001b[0m \u001b[0my_true\u001b[0m\u001b[0;34m,\u001b[0m \u001b[0my_pred\u001b[0m \u001b[0;34m=\u001b[0m \u001b[0m_check_targets\u001b[0m\u001b[0;34m(\u001b[0m\u001b[0my_true\u001b[0m\u001b[0;34m,\u001b[0m \u001b[0my_pred\u001b[0m\u001b[0;34m)\u001b[0m\u001b[0;34m\u001b[0m\u001b[0m\n\u001b[0m\u001b[1;32m   1032\u001b[0m     \u001b[0mcheck_consistent_length\u001b[0m\u001b[0;34m(\u001b[0m\u001b[0my_true\u001b[0m\u001b[0;34m,\u001b[0m \u001b[0my_pred\u001b[0m\u001b[0;34m,\u001b[0m \u001b[0msample_weight\u001b[0m\u001b[0;34m)\u001b[0m\u001b[0;34m\u001b[0m\u001b[0m\n\u001b[1;32m   1033\u001b[0m     \u001b[0mpresent_labels\u001b[0m \u001b[0;34m=\u001b[0m \u001b[0munique_labels\u001b[0m\u001b[0;34m(\u001b[0m\u001b[0my_true\u001b[0m\u001b[0;34m,\u001b[0m \u001b[0my_pred\u001b[0m\u001b[0;34m)\u001b[0m\u001b[0;34m\u001b[0m\u001b[0m\n",
      "\u001b[0;32m/usr/local/lib/python3.6/dist-packages/sklearn/metrics/classification.py\u001b[0m in \u001b[0;36m_check_targets\u001b[0;34m(y_true, y_pred)\u001b[0m\n\u001b[1;32m     79\u001b[0m     \u001b[0;32mif\u001b[0m \u001b[0mlen\u001b[0m\u001b[0;34m(\u001b[0m\u001b[0my_type\u001b[0m\u001b[0;34m)\u001b[0m \u001b[0;34m>\u001b[0m \u001b[0;36m1\u001b[0m\u001b[0;34m:\u001b[0m\u001b[0;34m\u001b[0m\u001b[0m\n\u001b[1;32m     80\u001b[0m         raise ValueError(\"Classification metrics can't handle a mix of {0} \"\n\u001b[0;32m---> 81\u001b[0;31m                          \"and {1} targets\".format(type_true, type_pred))\n\u001b[0m\u001b[1;32m     82\u001b[0m \u001b[0;34m\u001b[0m\u001b[0m\n\u001b[1;32m     83\u001b[0m     \u001b[0;31m# We can't have more than one value on y_type => The set is no more needed\u001b[0m\u001b[0;34m\u001b[0m\u001b[0;34m\u001b[0m\u001b[0m\n",
      "\u001b[0;31mValueError\u001b[0m: Classification metrics can't handle a mix of multilabel-indicator and unknown targets"
     ]
    }
   ],
   "source": [
    "f1_score(y, (air_u67[:,np.newaxis] > thresholds)*1., average=None)"
   ]
  },
  {
   "cell_type": "code",
   "execution_count": 108,
   "metadata": {},
   "outputs": [],
   "source": [
    "Big_Tensor = (air_u67[:,np.newaxis] > thresholds)*1."
   ]
  },
  {
   "cell_type": "code",
   "execution_count": 109,
   "metadata": {},
   "outputs": [
    {
     "data": {
      "text/plain": [
       "(31072, 99, 28)"
      ]
     },
     "execution_count": 109,
     "metadata": {},
     "output_type": "execute_result"
    }
   ],
   "source": [
    "Big_Tensor.shape"
   ]
  },
  {
   "cell_type": "code",
   "execution_count": 111,
   "metadata": {},
   "outputs": [
    {
     "data": {
      "text/plain": [
       "(31072, 28)"
      ]
     },
     "execution_count": 111,
     "metadata": {},
     "output_type": "execute_result"
    }
   ],
   "source": [
    "Big_Tensor[:,0,:].shape"
   ]
  },
  {
   "cell_type": "code",
   "execution_count": 113,
   "metadata": {},
   "outputs": [
    {
     "data": {
      "text/plain": [
       "array([0.59854049, 0.14964115, 0.23815334, 0.15101146, 0.17938746,\n",
       "       0.17908947, 0.09905919, 0.20166804, 0.13495277, 0.13622291,\n",
       "       0.089701  , 0.10077917, 0.08483258, 0.07370699, 0.17718975,\n",
       "       0.07216495, 0.05137413, 0.05466095, 0.08462597, 0.10773551,\n",
       "       0.0840249 , 0.24980127, 0.07471453, 0.22382808, 0.17044168,\n",
       "       0.42841883, 0.09142012, 0.02624672])"
      ]
     },
     "execution_count": 113,
     "metadata": {},
     "output_type": "execute_result"
    }
   ],
   "source": [
    "f1_score(y, Big_Tensor[:,0,:], average=None)"
   ]
  },
  {
   "cell_type": "code",
   "execution_count": 114,
   "metadata": {},
   "outputs": [],
   "source": [
    "Final_Tensor = [f1_score(y, Big_Tensor[:,x,:], average=None) for x in range(99)]"
   ]
  },
  {
   "cell_type": "code",
   "execution_count": 115,
   "metadata": {},
   "outputs": [],
   "source": [
    "Final_Tensor = np.array(Final_Tensor)"
   ]
  },
  {
   "cell_type": "code",
   "execution_count": 116,
   "metadata": {},
   "outputs": [
    {
     "data": {
      "text/plain": [
       "(99, 28)"
      ]
     },
     "execution_count": 116,
     "metadata": {},
     "output_type": "execute_result"
    }
   ],
   "source": [
    "Final_Tensor.shape"
   ]
  },
  {
   "cell_type": "code",
   "execution_count": 121,
   "metadata": {},
   "outputs": [
    {
     "data": {
      "text/plain": [
       "array([82, 87, 81, 84, 90, 82, 88, 84, 61, 86, 88, 86, 91, 92, 94, 71, 91,\n",
       "       88, 85, 82, 96, 77, 90, 90, 71, 72, 89, 87])"
      ]
     },
     "execution_count": 121,
     "metadata": {},
     "output_type": "execute_result"
    }
   ],
   "source": [
    "np.argmax(Final_Tensor, axis=0)+1"
   ]
  },
  {
   "cell_type": "code",
   "execution_count": 123,
   "metadata": {},
   "outputs": [
    {
     "data": {
      "text/plain": [
       "0.7108776996492326"
      ]
     },
     "execution_count": 123,
     "metadata": {},
     "output_type": "execute_result"
    }
   ],
   "source": [
    "np.max(Final_Tensor, axis=0).mean()"
   ]
  },
  {
   "cell_type": "code",
   "execution_count": 21,
   "metadata": {},
   "outputs": [],
   "source": [
    "preresnet_u67 = np.array(oof.preresnet_u67.values.tolist())\n",
    "preresnet_u101 = np.array(oof.preresnet_u101.values.tolist())\n",
    "preresnet_u67 = preresnet_u67.reshape((31072, 28))\n",
    "preresnet_u101 = preresnet_u101.reshape((31072, 28))"
   ]
  },
  {
   "cell_type": "code",
   "execution_count": 25,
   "metadata": {},
   "outputs": [
    {
     "data": {
      "text/plain": [
       "0.7092749679908568"
      ]
     },
     "execution_count": 25,
     "metadata": {},
     "output_type": "execute_result"
    }
   ],
   "source": [
    "Big_Tensor = (preresnet_u67[:,np.newaxis] > thresholds)*1.\n",
    "Final_Tensor = [f1_score(y, Big_Tensor[:,x,:], average=None) for x in range(99)]\n",
    "Final_Tensor = np.array(Final_Tensor)\n",
    "np.max(Final_Tensor, axis=0).mean()"
   ]
  },
  {
   "cell_type": "code",
   "execution_count": 26,
   "metadata": {},
   "outputs": [
    {
     "data": {
      "text/plain": [
       "0.7056871990007961"
      ]
     },
     "execution_count": 26,
     "metadata": {},
     "output_type": "execute_result"
    }
   ],
   "source": [
    "Big_Tensor = (preresnet_u101[:,np.newaxis] > thresholds)*1.\n",
    "Final_Tensor = [f1_score(y, Big_Tensor[:,x,:], average=None) for x in range(99)]\n",
    "Final_Tensor = np.array(Final_Tensor)\n",
    "np.max(Final_Tensor, axis=0).mean()"
   ]
  },
  {
   "cell_type": "code",
   "execution_count": 27,
   "metadata": {},
   "outputs": [],
   "source": [
    "se_resnext_u29 = np.array(oof.se_resnext_u29.values.tolist())\n",
    "resnet_w65 = np.array(oof.resnet_w65.values.tolist())\n",
    "se_resnext_u29 = se_resnext_u29.reshape((31072, 28))\n",
    "resnet_w65 = resnet_w65.reshape((31072, 28))"
   ]
  },
  {
   "cell_type": "code",
   "execution_count": 28,
   "metadata": {},
   "outputs": [
    {
     "data": {
      "text/plain": [
       "0.7015426593208052"
      ]
     },
     "execution_count": 28,
     "metadata": {},
     "output_type": "execute_result"
    }
   ],
   "source": [
    "Big_Tensor = (se_resnext_u29[:,np.newaxis] > thresholds)*1.\n",
    "Final_Tensor = [f1_score(y, Big_Tensor[:,x,:], average=None) for x in range(99)]\n",
    "Final_Tensor = np.array(Final_Tensor)\n",
    "np.max(Final_Tensor, axis=0).mean()"
   ]
  },
  {
   "cell_type": "code",
   "execution_count": 29,
   "metadata": {},
   "outputs": [
    {
     "data": {
      "text/plain": [
       "0.7088338470137628"
      ]
     },
     "execution_count": 29,
     "metadata": {},
     "output_type": "execute_result"
    }
   ],
   "source": [
    "Big_Tensor = (resnet_w65[:,np.newaxis] > thresholds)*1.\n",
    "Final_Tensor = [f1_score(y, Big_Tensor[:,x,:], average=None) for x in range(99)]\n",
    "Final_Tensor = np.array(Final_Tensor)\n",
    "np.max(Final_Tensor, axis=0).mean()"
   ]
  },
  {
   "cell_type": "code",
   "execution_count": 128,
   "metadata": {},
   "outputs": [
    {
     "data": {
      "text/plain": [
       "(99, 28)"
      ]
     },
     "execution_count": 128,
     "metadata": {},
     "output_type": "execute_result"
    }
   ],
   "source": [
    "thresholds.shape"
   ]
  },
  {
   "cell_type": "code",
   "execution_count": 133,
   "metadata": {},
   "outputs": [
    {
     "data": {
      "text/plain": [
       "(31072, 28)"
      ]
     },
     "execution_count": 133,
     "metadata": {},
     "output_type": "execute_result"
    }
   ],
   "source": [
    "preresnet_u67.shape"
   ]
  },
  {
   "cell_type": "code",
   "execution_count": 106,
   "metadata": {},
   "outputs": [],
   "source": [
    "threshold_0 = np.linspace(0.01, 0.99, 99)"
   ]
  },
  {
   "cell_type": "code",
   "execution_count": 135,
   "metadata": {},
   "outputs": [
    {
     "data": {
      "text/plain": [
       "array([0.01, 0.02, 0.03, 0.04, 0.05, 0.06, 0.07, 0.08, 0.09, 0.1 , 0.11,\n",
       "       0.12, 0.13, 0.14, 0.15, 0.16, 0.17, 0.18, 0.19, 0.2 , 0.21, 0.22,\n",
       "       0.23, 0.24, 0.25, 0.26, 0.27, 0.28, 0.29, 0.3 , 0.31, 0.32, 0.33,\n",
       "       0.34, 0.35, 0.36, 0.37, 0.38, 0.39, 0.4 , 0.41, 0.42, 0.43, 0.44,\n",
       "       0.45, 0.46, 0.47, 0.48, 0.49, 0.5 , 0.51, 0.52, 0.53, 0.54, 0.55,\n",
       "       0.56, 0.57, 0.58, 0.59, 0.6 , 0.61, 0.62, 0.63, 0.64, 0.65, 0.66,\n",
       "       0.67, 0.68, 0.69, 0.7 , 0.71, 0.72, 0.73, 0.74, 0.75, 0.76, 0.77,\n",
       "       0.78, 0.79, 0.8 , 0.81, 0.82, 0.83, 0.84, 0.85, 0.86, 0.87, 0.88,\n",
       "       0.89, 0.9 , 0.91, 0.92, 0.93, 0.94, 0.95, 0.96, 0.97, 0.98, 0.99])"
      ]
     },
     "execution_count": 135,
     "metadata": {},
     "output_type": "execute_result"
    }
   ],
   "source": [
    "threshold_0"
   ]
  },
  {
   "cell_type": "code",
   "execution_count": 149,
   "metadata": {},
   "outputs": [
    {
     "data": {
      "text/plain": [
       "array([[1., 1., 1., ..., 0., 0., 0.],\n",
       "       [1., 1., 1., ..., 0., 0., 0.],\n",
       "       [1., 1., 1., ..., 0., 0., 0.],\n",
       "       ...,\n",
       "       [1., 1., 1., ..., 0., 0., 0.],\n",
       "       [1., 1., 1., ..., 0., 0., 0.],\n",
       "       [1., 1., 1., ..., 1., 1., 1.]])"
      ]
     },
     "execution_count": 149,
     "metadata": {},
     "output_type": "execute_result"
    }
   ],
   "source": [
    "np.transpose(preresnet_u67[:,0] > threshold_0.reshape(-1,1))*1."
   ]
  },
  {
   "cell_type": "code",
   "execution_count": 166,
   "metadata": {},
   "outputs": [
    {
     "data": {
      "text/plain": [
       "0.6139785715990169"
      ]
     },
     "execution_count": 166,
     "metadata": {},
     "output_type": "execute_result"
    }
   ],
   "source": [
    "f1_score((np.transpose(preresnet_u67[:,0] > threshold_0.reshape(-1,1))*1.)[:,1], y[:,0])"
   ]
  },
  {
   "cell_type": "code",
   "execution_count": 152,
   "metadata": {},
   "outputs": [
    {
     "data": {
      "text/plain": [
       "(31072,)"
      ]
     },
     "execution_count": 152,
     "metadata": {},
     "output_type": "execute_result"
    }
   ],
   "source": [
    "y[:,0].shape"
   ]
  },
  {
   "cell_type": "code",
   "execution_count": 154,
   "metadata": {},
   "outputs": [
    {
     "data": {
      "text/plain": [
       "(31072, 99)"
      ]
     },
     "execution_count": 154,
     "metadata": {},
     "output_type": "execute_result"
    }
   ],
   "source": [
    "(np.transpose(preresnet_u67[:,0] > threshold_0.reshape(-1,1))*1.).shape"
   ]
  },
  {
   "cell_type": "code",
   "execution_count": 161,
   "metadata": {},
   "outputs": [
    {
     "data": {
      "text/plain": [
       "(31072, 28)"
      ]
     },
     "execution_count": 161,
     "metadata": {},
     "output_type": "execute_result"
    }
   ],
   "source": [
    "Big_Tensor[:,0,:].shape"
   ]
  },
  {
   "cell_type": "code",
   "execution_count": 167,
   "metadata": {},
   "outputs": [],
   "source": [
    "scores = [f1_score((np.transpose(preresnet_u67[:,0] > threshold_0.reshape(-1,1))*1.)[:,k], y[:,0]) for k in range(99)]"
   ]
  },
  {
   "cell_type": "code",
   "execution_count": 168,
   "metadata": {},
   "outputs": [
    {
     "data": {
      "text/plain": [
       "0.8352763782133794"
      ]
     },
     "execution_count": 168,
     "metadata": {},
     "output_type": "execute_result"
    }
   ],
   "source": [
    "np.max(scores)"
   ]
  },
  {
   "cell_type": "code",
   "execution_count": 172,
   "metadata": {},
   "outputs": [
    {
     "data": {
      "text/plain": [
       "array([1., 1., 0., ..., 0., 0., 1.], dtype=float32)"
      ]
     },
     "execution_count": 172,
     "metadata": {},
     "output_type": "execute_result"
    }
   ],
   "source": [
    "y[:,0]"
   ]
  },
  {
   "cell_type": "code",
   "execution_count": 31,
   "metadata": {},
   "outputs": [
    {
     "data": {
      "text/plain": [
       "(31072, 28)"
      ]
     },
     "execution_count": 31,
     "metadata": {},
     "output_type": "execute_result"
    }
   ],
   "source": [
    "preresnet_u101.shape"
   ]
  },
  {
   "cell_type": "code",
   "execution_count": 32,
   "metadata": {},
   "outputs": [
    {
     "data": {
      "text/html": [
       "<div>\n",
       "<style scoped>\n",
       "    .dataframe tbody tr th:only-of-type {\n",
       "        vertical-align: middle;\n",
       "    }\n",
       "\n",
       "    .dataframe tbody tr th {\n",
       "        vertical-align: top;\n",
       "    }\n",
       "\n",
       "    .dataframe thead th {\n",
       "        text-align: right;\n",
       "    }\n",
       "</style>\n",
       "<table border=\"1\" class=\"dataframe\">\n",
       "  <thead>\n",
       "    <tr style=\"text-align: right;\">\n",
       "      <th></th>\n",
       "      <th>Target</th>\n",
       "      <th>y</th>\n",
       "      <th>air_u67</th>\n",
       "      <th>preresnet_u67</th>\n",
       "      <th>preresnet_u101</th>\n",
       "      <th>resnet_w65</th>\n",
       "      <th>se_resnext_u29</th>\n",
       "    </tr>\n",
       "    <tr>\n",
       "      <th>Id</th>\n",
       "      <th></th>\n",
       "      <th></th>\n",
       "      <th></th>\n",
       "      <th></th>\n",
       "      <th></th>\n",
       "      <th></th>\n",
       "      <th></th>\n",
       "    </tr>\n",
       "  </thead>\n",
       "  <tbody>\n",
       "    <tr>\n",
       "      <th>00070df0-bbc3-11e8-b2bc-ac1f6b6435d0</th>\n",
       "      <td>16 0</td>\n",
       "      <td>[1.0, 0.0, 0.0, 0.0, 0.0, 0.0, 0.0, 0.0, 0.0, ...</td>\n",
       "      <td>[[[0.9552974]], [[0.011893719]], [[0.02456743]...</td>\n",
       "      <td>[[[0.9008]], [[0.04977778]], [[0.06152666]], [...</td>\n",
       "      <td>[[[0.9928462]], [[0.0033091686]], [[0.02205755...</td>\n",
       "      <td>[[[0.9949687]], [[0.008769571]], [[0.05128505]...</td>\n",
       "      <td>[[[0.99430543]], [[0.016006052]], [[0.02002830...</td>\n",
       "    </tr>\n",
       "    <tr>\n",
       "      <th>000a6c98-bb9b-11e8-b2b9-ac1f6b6435d0</th>\n",
       "      <td>7 1 2 0</td>\n",
       "      <td>[1.0, 1.0, 1.0, 0.0, 0.0, 0.0, 0.0, 1.0, 0.0, ...</td>\n",
       "      <td>[[[0.97475284]], [[0.9937784]], [[0.37172255]]...</td>\n",
       "      <td>[[[0.7416709]], [[0.99948597]], [[0.072097324]...</td>\n",
       "      <td>[[[0.8883914]], [[0.99836713]], [[0.21986316]]...</td>\n",
       "      <td>[[[0.9355388]], [[0.99766314]], [[0.25203508]]...</td>\n",
       "      <td>[[[0.7101919]], [[0.969549]], [[0.27546024]], ...</td>\n",
       "    </tr>\n",
       "    <tr>\n",
       "      <th>000a9596-bbc4-11e8-b2bc-ac1f6b6435d0</th>\n",
       "      <td>5</td>\n",
       "      <td>[0.0, 0.0, 0.0, 0.0, 0.0, 1.0, 0.0, 0.0, 0.0, ...</td>\n",
       "      <td>[[[0.9680168]], [[0.0082058655]], [[0.29154035...</td>\n",
       "      <td>[[[0.9560007]], [[0.0061894692]], [[0.3604504]...</td>\n",
       "      <td>[[[0.93580484]], [[0.037184846]], [[0.48354197...</td>\n",
       "      <td>[[[0.89877224]], [[0.007357184]], [[0.47415993...</td>\n",
       "      <td>[[[0.9792124]], [[0.017325625]], [[0.5496751]]...</td>\n",
       "    </tr>\n",
       "    <tr>\n",
       "      <th>000c99ba-bba4-11e8-b2b9-ac1f6b6435d0</th>\n",
       "      <td>1</td>\n",
       "      <td>[0.0, 1.0, 0.0, 0.0, 0.0, 0.0, 0.0, 0.0, 0.0, ...</td>\n",
       "      <td>[[[0.9572456]], [[0.99069935]], [[0.05033453]]...</td>\n",
       "      <td>[[[0.31696457]], [[0.99046564]], [[0.003620990...</td>\n",
       "      <td>[[[0.90816665]], [[0.998226]], [[0.04174795]],...</td>\n",
       "      <td>[[[0.9247875]], [[0.9722527]], [[0.03123361]],...</td>\n",
       "      <td>[[[0.846639]], [[0.99171513]], [[0.06439011]],...</td>\n",
       "    </tr>\n",
       "    <tr>\n",
       "      <th>001838f8-bbca-11e8-b2bc-ac1f6b6435d0</th>\n",
       "      <td>18</td>\n",
       "      <td>[0.0, 0.0, 0.0, 0.0, 0.0, 0.0, 0.0, 0.0, 0.0, ...</td>\n",
       "      <td>[[[0.184256]], [[0.0006398597]], [[0.014315954...</td>\n",
       "      <td>[[[0.037844375]], [[0.00064213324]], [[0.00495...</td>\n",
       "      <td>[[[0.6757472]], [[0.0011689868]], [[0.01058629...</td>\n",
       "      <td>[[[0.12146013]], [[0.000605252]], [[0.04767052...</td>\n",
       "      <td>[[[0.5738917]], [[0.0033817638]], [[0.01807783...</td>\n",
       "    </tr>\n",
       "  </tbody>\n",
       "</table>\n",
       "</div>"
      ],
      "text/plain": [
       "                                       Target  \\\n",
       "Id                                              \n",
       "00070df0-bbc3-11e8-b2bc-ac1f6b6435d0     16 0   \n",
       "000a6c98-bb9b-11e8-b2b9-ac1f6b6435d0  7 1 2 0   \n",
       "000a9596-bbc4-11e8-b2bc-ac1f6b6435d0        5   \n",
       "000c99ba-bba4-11e8-b2b9-ac1f6b6435d0        1   \n",
       "001838f8-bbca-11e8-b2bc-ac1f6b6435d0       18   \n",
       "\n",
       "                                                                                      y  \\\n",
       "Id                                                                                        \n",
       "00070df0-bbc3-11e8-b2bc-ac1f6b6435d0  [1.0, 0.0, 0.0, 0.0, 0.0, 0.0, 0.0, 0.0, 0.0, ...   \n",
       "000a6c98-bb9b-11e8-b2b9-ac1f6b6435d0  [1.0, 1.0, 1.0, 0.0, 0.0, 0.0, 0.0, 1.0, 0.0, ...   \n",
       "000a9596-bbc4-11e8-b2bc-ac1f6b6435d0  [0.0, 0.0, 0.0, 0.0, 0.0, 1.0, 0.0, 0.0, 0.0, ...   \n",
       "000c99ba-bba4-11e8-b2b9-ac1f6b6435d0  [0.0, 1.0, 0.0, 0.0, 0.0, 0.0, 0.0, 0.0, 0.0, ...   \n",
       "001838f8-bbca-11e8-b2bc-ac1f6b6435d0  [0.0, 0.0, 0.0, 0.0, 0.0, 0.0, 0.0, 0.0, 0.0, ...   \n",
       "\n",
       "                                                                                air_u67  \\\n",
       "Id                                                                                        \n",
       "00070df0-bbc3-11e8-b2bc-ac1f6b6435d0  [[[0.9552974]], [[0.011893719]], [[0.02456743]...   \n",
       "000a6c98-bb9b-11e8-b2b9-ac1f6b6435d0  [[[0.97475284]], [[0.9937784]], [[0.37172255]]...   \n",
       "000a9596-bbc4-11e8-b2bc-ac1f6b6435d0  [[[0.9680168]], [[0.0082058655]], [[0.29154035...   \n",
       "000c99ba-bba4-11e8-b2b9-ac1f6b6435d0  [[[0.9572456]], [[0.99069935]], [[0.05033453]]...   \n",
       "001838f8-bbca-11e8-b2bc-ac1f6b6435d0  [[[0.184256]], [[0.0006398597]], [[0.014315954...   \n",
       "\n",
       "                                                                          preresnet_u67  \\\n",
       "Id                                                                                        \n",
       "00070df0-bbc3-11e8-b2bc-ac1f6b6435d0  [[[0.9008]], [[0.04977778]], [[0.06152666]], [...   \n",
       "000a6c98-bb9b-11e8-b2b9-ac1f6b6435d0  [[[0.7416709]], [[0.99948597]], [[0.072097324]...   \n",
       "000a9596-bbc4-11e8-b2bc-ac1f6b6435d0  [[[0.9560007]], [[0.0061894692]], [[0.3604504]...   \n",
       "000c99ba-bba4-11e8-b2b9-ac1f6b6435d0  [[[0.31696457]], [[0.99046564]], [[0.003620990...   \n",
       "001838f8-bbca-11e8-b2bc-ac1f6b6435d0  [[[0.037844375]], [[0.00064213324]], [[0.00495...   \n",
       "\n",
       "                                                                         preresnet_u101  \\\n",
       "Id                                                                                        \n",
       "00070df0-bbc3-11e8-b2bc-ac1f6b6435d0  [[[0.9928462]], [[0.0033091686]], [[0.02205755...   \n",
       "000a6c98-bb9b-11e8-b2b9-ac1f6b6435d0  [[[0.8883914]], [[0.99836713]], [[0.21986316]]...   \n",
       "000a9596-bbc4-11e8-b2bc-ac1f6b6435d0  [[[0.93580484]], [[0.037184846]], [[0.48354197...   \n",
       "000c99ba-bba4-11e8-b2b9-ac1f6b6435d0  [[[0.90816665]], [[0.998226]], [[0.04174795]],...   \n",
       "001838f8-bbca-11e8-b2bc-ac1f6b6435d0  [[[0.6757472]], [[0.0011689868]], [[0.01058629...   \n",
       "\n",
       "                                                                             resnet_w65  \\\n",
       "Id                                                                                        \n",
       "00070df0-bbc3-11e8-b2bc-ac1f6b6435d0  [[[0.9949687]], [[0.008769571]], [[0.05128505]...   \n",
       "000a6c98-bb9b-11e8-b2b9-ac1f6b6435d0  [[[0.9355388]], [[0.99766314]], [[0.25203508]]...   \n",
       "000a9596-bbc4-11e8-b2bc-ac1f6b6435d0  [[[0.89877224]], [[0.007357184]], [[0.47415993...   \n",
       "000c99ba-bba4-11e8-b2b9-ac1f6b6435d0  [[[0.9247875]], [[0.9722527]], [[0.03123361]],...   \n",
       "001838f8-bbca-11e8-b2bc-ac1f6b6435d0  [[[0.12146013]], [[0.000605252]], [[0.04767052...   \n",
       "\n",
       "                                                                         se_resnext_u29  \n",
       "Id                                                                                       \n",
       "00070df0-bbc3-11e8-b2bc-ac1f6b6435d0  [[[0.99430543]], [[0.016006052]], [[0.02002830...  \n",
       "000a6c98-bb9b-11e8-b2b9-ac1f6b6435d0  [[[0.7101919]], [[0.969549]], [[0.27546024]], ...  \n",
       "000a9596-bbc4-11e8-b2bc-ac1f6b6435d0  [[[0.9792124]], [[0.017325625]], [[0.5496751]]...  \n",
       "000c99ba-bba4-11e8-b2b9-ac1f6b6435d0  [[[0.846639]], [[0.99171513]], [[0.06439011]],...  \n",
       "001838f8-bbca-11e8-b2bc-ac1f6b6435d0  [[[0.5738917]], [[0.0033817638]], [[0.01807783...  "
      ]
     },
     "execution_count": 32,
     "metadata": {},
     "output_type": "execute_result"
    }
   ],
   "source": [
    "oof.head()"
   ]
  },
  {
   "cell_type": "code",
   "execution_count": 33,
   "metadata": {},
   "outputs": [],
   "source": [
    "train_five = np.hstack((air_u67, preresnet_u67, preresnet_u101, resnet_w65, se_resnext_u29))"
   ]
  },
  {
   "cell_type": "code",
   "execution_count": 34,
   "metadata": {},
   "outputs": [
    {
     "data": {
      "text/plain": [
       "(31072, 140)"
      ]
     },
     "execution_count": 34,
     "metadata": {},
     "output_type": "execute_result"
    }
   ],
   "source": [
    "train_five.shape"
   ]
  },
  {
   "cell_type": "code",
   "execution_count": 35,
   "metadata": {},
   "outputs": [],
   "source": [
    "cluster4x_folds = pd.read_csv('../Russ/cluster4x_folds.csv')"
   ]
  },
  {
   "cell_type": "code",
   "execution_count": 36,
   "metadata": {},
   "outputs": [
    {
     "data": {
      "text/html": [
       "<div>\n",
       "<style scoped>\n",
       "    .dataframe tbody tr th:only-of-type {\n",
       "        vertical-align: middle;\n",
       "    }\n",
       "\n",
       "    .dataframe tbody tr th {\n",
       "        vertical-align: top;\n",
       "    }\n",
       "\n",
       "    .dataframe thead th {\n",
       "        text-align: right;\n",
       "    }\n",
       "</style>\n",
       "<table border=\"1\" class=\"dataframe\">\n",
       "  <thead>\n",
       "    <tr style=\"text-align: right;\">\n",
       "      <th></th>\n",
       "      <th>Id</th>\n",
       "      <th>cluster4</th>\n",
       "    </tr>\n",
       "  </thead>\n",
       "  <tbody>\n",
       "    <tr>\n",
       "      <th>0</th>\n",
       "      <td>00070df0-bbc3-11e8-b2bc-ac1f6b6435d0</td>\n",
       "      <td>0</td>\n",
       "    </tr>\n",
       "    <tr>\n",
       "      <th>1</th>\n",
       "      <td>000a6c98-bb9b-11e8-b2b9-ac1f6b6435d0</td>\n",
       "      <td>1</td>\n",
       "    </tr>\n",
       "    <tr>\n",
       "      <th>2</th>\n",
       "      <td>000a9596-bbc4-11e8-b2bc-ac1f6b6435d0</td>\n",
       "      <td>1</td>\n",
       "    </tr>\n",
       "    <tr>\n",
       "      <th>3</th>\n",
       "      <td>000c99ba-bba4-11e8-b2b9-ac1f6b6435d0</td>\n",
       "      <td>0</td>\n",
       "    </tr>\n",
       "    <tr>\n",
       "      <th>4</th>\n",
       "      <td>001838f8-bbca-11e8-b2bc-ac1f6b6435d0</td>\n",
       "      <td>3</td>\n",
       "    </tr>\n",
       "  </tbody>\n",
       "</table>\n",
       "</div>"
      ],
      "text/plain": [
       "                                     Id  cluster4\n",
       "0  00070df0-bbc3-11e8-b2bc-ac1f6b6435d0         0\n",
       "1  000a6c98-bb9b-11e8-b2b9-ac1f6b6435d0         1\n",
       "2  000a9596-bbc4-11e8-b2bc-ac1f6b6435d0         1\n",
       "3  000c99ba-bba4-11e8-b2b9-ac1f6b6435d0         0\n",
       "4  001838f8-bbca-11e8-b2bc-ac1f6b6435d0         3"
      ]
     },
     "execution_count": 36,
     "metadata": {},
     "output_type": "execute_result"
    }
   ],
   "source": [
    "cluster4x_folds.head()"
   ]
  },
  {
   "cell_type": "code",
   "execution_count": 38,
   "metadata": {},
   "outputs": [
    {
     "data": {
      "text/plain": [
       "(array([0, 1, 2, 3]), array([ 9970, 15381, 13030, 18620]))"
      ]
     },
     "execution_count": 38,
     "metadata": {},
     "output_type": "execute_result"
    }
   ],
   "source": [
    "np.unique(cluster4x_folds.cluster4.values, return_counts=True)"
   ]
  },
  {
   "cell_type": "code",
   "execution_count": 47,
   "metadata": {},
   "outputs": [
    {
     "data": {
      "text/plain": [
       "(47031,)"
      ]
     },
     "execution_count": 47,
     "metadata": {},
     "output_type": "execute_result"
    }
   ],
   "source": [
    "np.where(cluster4x_folds.cluster4.values == 0)[0].shape"
   ]
  },
  {
   "cell_type": "code",
   "execution_count": 46,
   "metadata": {},
   "outputs": [
    {
     "data": {
      "text/plain": [
       "(31072,)"
      ]
     },
     "execution_count": 46,
     "metadata": {},
     "output_type": "execute_result"
    }
   ],
   "source": [
    "y[:,0].shape"
   ]
  },
  {
   "cell_type": "code",
   "execution_count": 48,
   "metadata": {},
   "outputs": [
    {
     "ename": "IndexError",
     "evalue": "index 31073 is out of bounds for axis 1 with size 31072",
     "output_type": "error",
     "traceback": [
      "\u001b[0;31m---------------------------------------------------------------------------\u001b[0m",
      "\u001b[0;31mIndexError\u001b[0m                                Traceback (most recent call last)",
      "\u001b[0;32m<ipython-input-48-90d6ab295eba>\u001b[0m in \u001b[0;36m<module>\u001b[0;34m\u001b[0m\n\u001b[0;32m----> 1\u001b[0;31m \u001b[0my\u001b[0m\u001b[0;34m[\u001b[0m\u001b[0;34m:\u001b[0m\u001b[0;34m,\u001b[0m\u001b[0;36m0\u001b[0m\u001b[0;34m]\u001b[0m\u001b[0;34m[\u001b[0m\u001b[0mnp\u001b[0m\u001b[0;34m.\u001b[0m\u001b[0mwhere\u001b[0m\u001b[0;34m(\u001b[0m\u001b[0mcluster4x_folds\u001b[0m\u001b[0;34m.\u001b[0m\u001b[0mcluster4\u001b[0m\u001b[0;34m.\u001b[0m\u001b[0mvalues\u001b[0m \u001b[0;34m==\u001b[0m \u001b[0;36m0\u001b[0m\u001b[0;34m)\u001b[0m\u001b[0;34m[\u001b[0m\u001b[0;36m0\u001b[0m\u001b[0;34m]\u001b[0m\u001b[0;34m]\u001b[0m\u001b[0;34m\u001b[0m\u001b[0;34m\u001b[0m\u001b[0m\n\u001b[0m",
      "\u001b[0;31mIndexError\u001b[0m: index 31073 is out of bounds for axis 1 with size 31072"
     ]
    }
   ],
   "source": [
    "y[:,0][np.where(cluster4x_folds.cluster4.values == 0)[0]]"
   ]
  },
  {
   "cell_type": "code",
   "execution_count": 49,
   "metadata": {},
   "outputs": [
    {
     "data": {
      "text/plain": [
       "(57001, 2)"
      ]
     },
     "execution_count": 49,
     "metadata": {},
     "output_type": "execute_result"
    }
   ],
   "source": [
    "cluster4x_folds.shape"
   ]
  },
  {
   "cell_type": "code",
   "execution_count": 50,
   "metadata": {},
   "outputs": [
    {
     "data": {
      "text/plain": [
       "(11702, 2)"
      ]
     },
     "execution_count": 50,
     "metadata": {},
     "output_type": "execute_result"
    }
   ],
   "source": [
    "sub.shape"
   ]
  },
  {
   "cell_type": "code",
   "execution_count": 51,
   "metadata": {},
   "outputs": [
    {
     "data": {
      "text/html": [
       "<div>\n",
       "<style scoped>\n",
       "    .dataframe tbody tr th:only-of-type {\n",
       "        vertical-align: middle;\n",
       "    }\n",
       "\n",
       "    .dataframe tbody tr th {\n",
       "        vertical-align: top;\n",
       "    }\n",
       "\n",
       "    .dataframe thead th {\n",
       "        text-align: right;\n",
       "    }\n",
       "</style>\n",
       "<table border=\"1\" class=\"dataframe\">\n",
       "  <thead>\n",
       "    <tr style=\"text-align: right;\">\n",
       "      <th></th>\n",
       "      <th>Target</th>\n",
       "    </tr>\n",
       "    <tr>\n",
       "      <th>Id</th>\n",
       "      <th></th>\n",
       "    </tr>\n",
       "  </thead>\n",
       "  <tbody>\n",
       "    <tr>\n",
       "      <th>00070df0-bbc3-11e8-b2bc-ac1f6b6435d0</th>\n",
       "      <td>16 0</td>\n",
       "    </tr>\n",
       "    <tr>\n",
       "      <th>000a6c98-bb9b-11e8-b2b9-ac1f6b6435d0</th>\n",
       "      <td>7 1 2 0</td>\n",
       "    </tr>\n",
       "    <tr>\n",
       "      <th>000a9596-bbc4-11e8-b2bc-ac1f6b6435d0</th>\n",
       "      <td>5</td>\n",
       "    </tr>\n",
       "    <tr>\n",
       "      <th>000c99ba-bba4-11e8-b2b9-ac1f6b6435d0</th>\n",
       "      <td>1</td>\n",
       "    </tr>\n",
       "    <tr>\n",
       "      <th>001838f8-bbca-11e8-b2bc-ac1f6b6435d0</th>\n",
       "      <td>18</td>\n",
       "    </tr>\n",
       "  </tbody>\n",
       "</table>\n",
       "</div>"
      ],
      "text/plain": [
       "                                       Target\n",
       "Id                                           \n",
       "00070df0-bbc3-11e8-b2bc-ac1f6b6435d0     16 0\n",
       "000a6c98-bb9b-11e8-b2b9-ac1f6b6435d0  7 1 2 0\n",
       "000a9596-bbc4-11e8-b2bc-ac1f6b6435d0        5\n",
       "000c99ba-bba4-11e8-b2b9-ac1f6b6435d0        1\n",
       "001838f8-bbca-11e8-b2bc-ac1f6b6435d0       18"
      ]
     },
     "execution_count": 51,
     "metadata": {},
     "output_type": "execute_result"
    }
   ],
   "source": [
    "df.head()"
   ]
  },
  {
   "cell_type": "code",
   "execution_count": 52,
   "metadata": {},
   "outputs": [],
   "source": [
    "df_folds = df.merge(cluster4x_folds, on='Id')"
   ]
  },
  {
   "cell_type": "code",
   "execution_count": 53,
   "metadata": {},
   "outputs": [
    {
     "data": {
      "text/plain": [
       "(31072, 3)"
      ]
     },
     "execution_count": 53,
     "metadata": {},
     "output_type": "execute_result"
    }
   ],
   "source": [
    "df_folds.shape"
   ]
  },
  {
   "cell_type": "code",
   "execution_count": 54,
   "metadata": {},
   "outputs": [
    {
     "data": {
      "text/html": [
       "<div>\n",
       "<style scoped>\n",
       "    .dataframe tbody tr th:only-of-type {\n",
       "        vertical-align: middle;\n",
       "    }\n",
       "\n",
       "    .dataframe tbody tr th {\n",
       "        vertical-align: top;\n",
       "    }\n",
       "\n",
       "    .dataframe thead th {\n",
       "        text-align: right;\n",
       "    }\n",
       "</style>\n",
       "<table border=\"1\" class=\"dataframe\">\n",
       "  <thead>\n",
       "    <tr style=\"text-align: right;\">\n",
       "      <th></th>\n",
       "      <th>Id</th>\n",
       "      <th>Target</th>\n",
       "      <th>cluster4</th>\n",
       "    </tr>\n",
       "  </thead>\n",
       "  <tbody>\n",
       "    <tr>\n",
       "      <th>0</th>\n",
       "      <td>00070df0-bbc3-11e8-b2bc-ac1f6b6435d0</td>\n",
       "      <td>16 0</td>\n",
       "      <td>0</td>\n",
       "    </tr>\n",
       "    <tr>\n",
       "      <th>1</th>\n",
       "      <td>000a6c98-bb9b-11e8-b2b9-ac1f6b6435d0</td>\n",
       "      <td>7 1 2 0</td>\n",
       "      <td>1</td>\n",
       "    </tr>\n",
       "    <tr>\n",
       "      <th>2</th>\n",
       "      <td>000a9596-bbc4-11e8-b2bc-ac1f6b6435d0</td>\n",
       "      <td>5</td>\n",
       "      <td>1</td>\n",
       "    </tr>\n",
       "    <tr>\n",
       "      <th>3</th>\n",
       "      <td>000c99ba-bba4-11e8-b2b9-ac1f6b6435d0</td>\n",
       "      <td>1</td>\n",
       "      <td>0</td>\n",
       "    </tr>\n",
       "    <tr>\n",
       "      <th>4</th>\n",
       "      <td>001838f8-bbca-11e8-b2bc-ac1f6b6435d0</td>\n",
       "      <td>18</td>\n",
       "      <td>3</td>\n",
       "    </tr>\n",
       "  </tbody>\n",
       "</table>\n",
       "</div>"
      ],
      "text/plain": [
       "                                     Id   Target  cluster4\n",
       "0  00070df0-bbc3-11e8-b2bc-ac1f6b6435d0     16 0         0\n",
       "1  000a6c98-bb9b-11e8-b2b9-ac1f6b6435d0  7 1 2 0         1\n",
       "2  000a9596-bbc4-11e8-b2bc-ac1f6b6435d0        5         1\n",
       "3  000c99ba-bba4-11e8-b2b9-ac1f6b6435d0        1         0\n",
       "4  001838f8-bbca-11e8-b2bc-ac1f6b6435d0       18         3"
      ]
     },
     "execution_count": 54,
     "metadata": {},
     "output_type": "execute_result"
    }
   ],
   "source": [
    "df_folds.head()"
   ]
  },
  {
   "cell_type": "code",
   "execution_count": 55,
   "metadata": {},
   "outputs": [],
   "source": [
    "oof_folds = oof.merge(cluster4x_folds, on='Id')"
   ]
  },
  {
   "cell_type": "code",
   "execution_count": 56,
   "metadata": {},
   "outputs": [
    {
     "data": {
      "text/html": [
       "<div>\n",
       "<style scoped>\n",
       "    .dataframe tbody tr th:only-of-type {\n",
       "        vertical-align: middle;\n",
       "    }\n",
       "\n",
       "    .dataframe tbody tr th {\n",
       "        vertical-align: top;\n",
       "    }\n",
       "\n",
       "    .dataframe thead th {\n",
       "        text-align: right;\n",
       "    }\n",
       "</style>\n",
       "<table border=\"1\" class=\"dataframe\">\n",
       "  <thead>\n",
       "    <tr style=\"text-align: right;\">\n",
       "      <th></th>\n",
       "      <th>Id</th>\n",
       "      <th>Target</th>\n",
       "      <th>y</th>\n",
       "      <th>air_u67</th>\n",
       "      <th>preresnet_u67</th>\n",
       "      <th>preresnet_u101</th>\n",
       "      <th>resnet_w65</th>\n",
       "      <th>se_resnext_u29</th>\n",
       "      <th>cluster4</th>\n",
       "    </tr>\n",
       "  </thead>\n",
       "  <tbody>\n",
       "    <tr>\n",
       "      <th>0</th>\n",
       "      <td>00070df0-bbc3-11e8-b2bc-ac1f6b6435d0</td>\n",
       "      <td>16 0</td>\n",
       "      <td>[1.0, 0.0, 0.0, 0.0, 0.0, 0.0, 0.0, 0.0, 0.0, ...</td>\n",
       "      <td>[[[0.9552974]], [[0.011893719]], [[0.02456743]...</td>\n",
       "      <td>[[[0.9008]], [[0.04977778]], [[0.06152666]], [...</td>\n",
       "      <td>[[[0.9928462]], [[0.0033091686]], [[0.02205755...</td>\n",
       "      <td>[[[0.9949687]], [[0.008769571]], [[0.05128505]...</td>\n",
       "      <td>[[[0.99430543]], [[0.016006052]], [[0.02002830...</td>\n",
       "      <td>0</td>\n",
       "    </tr>\n",
       "    <tr>\n",
       "      <th>1</th>\n",
       "      <td>000a6c98-bb9b-11e8-b2b9-ac1f6b6435d0</td>\n",
       "      <td>7 1 2 0</td>\n",
       "      <td>[1.0, 1.0, 1.0, 0.0, 0.0, 0.0, 0.0, 1.0, 0.0, ...</td>\n",
       "      <td>[[[0.97475284]], [[0.9937784]], [[0.37172255]]...</td>\n",
       "      <td>[[[0.7416709]], [[0.99948597]], [[0.072097324]...</td>\n",
       "      <td>[[[0.8883914]], [[0.99836713]], [[0.21986316]]...</td>\n",
       "      <td>[[[0.9355388]], [[0.99766314]], [[0.25203508]]...</td>\n",
       "      <td>[[[0.7101919]], [[0.969549]], [[0.27546024]], ...</td>\n",
       "      <td>1</td>\n",
       "    </tr>\n",
       "    <tr>\n",
       "      <th>2</th>\n",
       "      <td>000a9596-bbc4-11e8-b2bc-ac1f6b6435d0</td>\n",
       "      <td>5</td>\n",
       "      <td>[0.0, 0.0, 0.0, 0.0, 0.0, 1.0, 0.0, 0.0, 0.0, ...</td>\n",
       "      <td>[[[0.9680168]], [[0.0082058655]], [[0.29154035...</td>\n",
       "      <td>[[[0.9560007]], [[0.0061894692]], [[0.3604504]...</td>\n",
       "      <td>[[[0.93580484]], [[0.037184846]], [[0.48354197...</td>\n",
       "      <td>[[[0.89877224]], [[0.007357184]], [[0.47415993...</td>\n",
       "      <td>[[[0.9792124]], [[0.017325625]], [[0.5496751]]...</td>\n",
       "      <td>1</td>\n",
       "    </tr>\n",
       "    <tr>\n",
       "      <th>3</th>\n",
       "      <td>000c99ba-bba4-11e8-b2b9-ac1f6b6435d0</td>\n",
       "      <td>1</td>\n",
       "      <td>[0.0, 1.0, 0.0, 0.0, 0.0, 0.0, 0.0, 0.0, 0.0, ...</td>\n",
       "      <td>[[[0.9572456]], [[0.99069935]], [[0.05033453]]...</td>\n",
       "      <td>[[[0.31696457]], [[0.99046564]], [[0.003620990...</td>\n",
       "      <td>[[[0.90816665]], [[0.998226]], [[0.04174795]],...</td>\n",
       "      <td>[[[0.9247875]], [[0.9722527]], [[0.03123361]],...</td>\n",
       "      <td>[[[0.846639]], [[0.99171513]], [[0.06439011]],...</td>\n",
       "      <td>0</td>\n",
       "    </tr>\n",
       "    <tr>\n",
       "      <th>4</th>\n",
       "      <td>001838f8-bbca-11e8-b2bc-ac1f6b6435d0</td>\n",
       "      <td>18</td>\n",
       "      <td>[0.0, 0.0, 0.0, 0.0, 0.0, 0.0, 0.0, 0.0, 0.0, ...</td>\n",
       "      <td>[[[0.184256]], [[0.0006398597]], [[0.014315954...</td>\n",
       "      <td>[[[0.037844375]], [[0.00064213324]], [[0.00495...</td>\n",
       "      <td>[[[0.6757472]], [[0.0011689868]], [[0.01058629...</td>\n",
       "      <td>[[[0.12146013]], [[0.000605252]], [[0.04767052...</td>\n",
       "      <td>[[[0.5738917]], [[0.0033817638]], [[0.01807783...</td>\n",
       "      <td>3</td>\n",
       "    </tr>\n",
       "  </tbody>\n",
       "</table>\n",
       "</div>"
      ],
      "text/plain": [
       "                                     Id   Target  \\\n",
       "0  00070df0-bbc3-11e8-b2bc-ac1f6b6435d0     16 0   \n",
       "1  000a6c98-bb9b-11e8-b2b9-ac1f6b6435d0  7 1 2 0   \n",
       "2  000a9596-bbc4-11e8-b2bc-ac1f6b6435d0        5   \n",
       "3  000c99ba-bba4-11e8-b2b9-ac1f6b6435d0        1   \n",
       "4  001838f8-bbca-11e8-b2bc-ac1f6b6435d0       18   \n",
       "\n",
       "                                                   y  \\\n",
       "0  [1.0, 0.0, 0.0, 0.0, 0.0, 0.0, 0.0, 0.0, 0.0, ...   \n",
       "1  [1.0, 1.0, 1.0, 0.0, 0.0, 0.0, 0.0, 1.0, 0.0, ...   \n",
       "2  [0.0, 0.0, 0.0, 0.0, 0.0, 1.0, 0.0, 0.0, 0.0, ...   \n",
       "3  [0.0, 1.0, 0.0, 0.0, 0.0, 0.0, 0.0, 0.0, 0.0, ...   \n",
       "4  [0.0, 0.0, 0.0, 0.0, 0.0, 0.0, 0.0, 0.0, 0.0, ...   \n",
       "\n",
       "                                             air_u67  \\\n",
       "0  [[[0.9552974]], [[0.011893719]], [[0.02456743]...   \n",
       "1  [[[0.97475284]], [[0.9937784]], [[0.37172255]]...   \n",
       "2  [[[0.9680168]], [[0.0082058655]], [[0.29154035...   \n",
       "3  [[[0.9572456]], [[0.99069935]], [[0.05033453]]...   \n",
       "4  [[[0.184256]], [[0.0006398597]], [[0.014315954...   \n",
       "\n",
       "                                       preresnet_u67  \\\n",
       "0  [[[0.9008]], [[0.04977778]], [[0.06152666]], [...   \n",
       "1  [[[0.7416709]], [[0.99948597]], [[0.072097324]...   \n",
       "2  [[[0.9560007]], [[0.0061894692]], [[0.3604504]...   \n",
       "3  [[[0.31696457]], [[0.99046564]], [[0.003620990...   \n",
       "4  [[[0.037844375]], [[0.00064213324]], [[0.00495...   \n",
       "\n",
       "                                      preresnet_u101  \\\n",
       "0  [[[0.9928462]], [[0.0033091686]], [[0.02205755...   \n",
       "1  [[[0.8883914]], [[0.99836713]], [[0.21986316]]...   \n",
       "2  [[[0.93580484]], [[0.037184846]], [[0.48354197...   \n",
       "3  [[[0.90816665]], [[0.998226]], [[0.04174795]],...   \n",
       "4  [[[0.6757472]], [[0.0011689868]], [[0.01058629...   \n",
       "\n",
       "                                          resnet_w65  \\\n",
       "0  [[[0.9949687]], [[0.008769571]], [[0.05128505]...   \n",
       "1  [[[0.9355388]], [[0.99766314]], [[0.25203508]]...   \n",
       "2  [[[0.89877224]], [[0.007357184]], [[0.47415993...   \n",
       "3  [[[0.9247875]], [[0.9722527]], [[0.03123361]],...   \n",
       "4  [[[0.12146013]], [[0.000605252]], [[0.04767052...   \n",
       "\n",
       "                                      se_resnext_u29  cluster4  \n",
       "0  [[[0.99430543]], [[0.016006052]], [[0.02002830...         0  \n",
       "1  [[[0.7101919]], [[0.969549]], [[0.27546024]], ...         1  \n",
       "2  [[[0.9792124]], [[0.017325625]], [[0.5496751]]...         1  \n",
       "3  [[[0.846639]], [[0.99171513]], [[0.06439011]],...         0  \n",
       "4  [[[0.5738917]], [[0.0033817638]], [[0.01807783...         3  "
      ]
     },
     "execution_count": 56,
     "metadata": {},
     "output_type": "execute_result"
    }
   ],
   "source": [
    "oof_folds.head()"
   ]
  },
  {
   "cell_type": "code",
   "execution_count": 59,
   "metadata": {},
   "outputs": [],
   "source": [
    "cluster4 = oof_folds.cluster4.values"
   ]
  },
  {
   "cell_type": "code",
   "execution_count": 60,
   "metadata": {},
   "outputs": [
    {
     "data": {
      "text/plain": [
       "array([1., 0., 1., ..., 1., 0., 0.], dtype=float32)"
      ]
     },
     "execution_count": 60,
     "metadata": {},
     "output_type": "execute_result"
    }
   ],
   "source": [
    "y[:,0][np.where(cluster4 == 0)[0]]"
   ]
  },
  {
   "cell_type": "code",
   "execution_count": 61,
   "metadata": {},
   "outputs": [],
   "source": [
    "from sklearn.linear_model import Ridge"
   ]
  },
  {
   "cell_type": "code",
   "execution_count": 74,
   "metadata": {},
   "outputs": [],
   "source": [
    "new_oof = np.zeros(train_five.shape[0])\n",
    "for i in range(4):\n",
    "    val_idx = np.where(cluster4 == i)[0]\n",
    "    trn_idx = np.where(cluster4 != i)[0]\n",
    "    train_x, val_x = train_five[trn_idx, :], train_five[val_idx, :]\n",
    "    train_y, val_y = y[:,0][trn_idx], y[:,0][val_idx]\n",
    "    clf = Ridge(alpha=0)\n",
    "    clf.fit(train_x, train_y)\n",
    "    oof_preds = clf.predict(val_x)\n",
    "    new_oof[val_idx] = oof_preds\n",
    "    \n"
   ]
  },
  {
   "cell_type": "code",
   "execution_count": 77,
   "metadata": {},
   "outputs": [
    {
     "data": {
      "text/plain": [
       "1.1424261331558228"
      ]
     },
     "execution_count": 77,
     "metadata": {},
     "output_type": "execute_result"
    }
   ],
   "source": [
    "new_oof.max()"
   ]
  },
  {
   "cell_type": "code",
   "execution_count": 67,
   "metadata": {},
   "outputs": [
    {
     "data": {
      "text/plain": [
       "(10771, 140)"
      ]
     },
     "execution_count": 67,
     "metadata": {},
     "output_type": "execute_result"
    }
   ],
   "source": [
    "val_x.shape"
   ]
  },
  {
   "cell_type": "code",
   "execution_count": 78,
   "metadata": {},
   "outputs": [],
   "source": [
    "from sklearn.preprocessing import MinMaxScaler"
   ]
  },
  {
   "cell_type": "code",
   "execution_count": 79,
   "metadata": {},
   "outputs": [],
   "source": []
  },
  {
   "cell_type": "code",
   "execution_count": 81,
   "metadata": {},
   "outputs": [],
   "source": [
    "scaler = MinMaxScaler()\n",
    "new_oof = scaler.fit_transform(new_oof.reshape(-1,1))"
   ]
  },
  {
   "cell_type": "code",
   "execution_count": 85,
   "metadata": {},
   "outputs": [
    {
     "data": {
      "text/plain": [
       "0.9999999999999999"
      ]
     },
     "execution_count": 85,
     "metadata": {},
     "output_type": "execute_result"
    }
   ],
   "source": [
    "new_oof.max()"
   ]
  },
  {
   "cell_type": "code",
   "execution_count": 96,
   "metadata": {},
   "outputs": [
    {
     "data": {
      "text/plain": [
       "0.8432444411612617"
      ]
     },
     "execution_count": 96,
     "metadata": {},
     "output_type": "execute_result"
    }
   ],
   "source": [
    "f1_score(y[:,0], (new_oof > 0.68)*1.)"
   ]
  },
  {
   "cell_type": "code",
   "execution_count": 105,
   "metadata": {},
   "outputs": [
    {
     "data": {
      "text/plain": [
       "0.8341106434611155"
      ]
     },
     "execution_count": 105,
     "metadata": {},
     "output_type": "execute_result"
    }
   ],
   "source": [
    "f1_score(y[:,0], (train_five[:,0] > 0.88)*1.)"
   ]
  },
  {
   "cell_type": "code",
   "execution_count": 109,
   "metadata": {},
   "outputs": [],
   "source": [
    "scores = [f1_score(y[:,0], (new_oof > th)*1.,) for th in threshold_0]"
   ]
  },
  {
   "cell_type": "code",
   "execution_count": 110,
   "metadata": {},
   "outputs": [
    {
     "data": {
      "text/plain": [
       "0.8432444411612617"
      ]
     },
     "execution_count": 110,
     "metadata": {},
     "output_type": "execute_result"
    }
   ],
   "source": [
    "np.max(scores)"
   ]
  },
  {
   "cell_type": "code",
   "execution_count": 116,
   "metadata": {},
   "outputs": [
    {
     "data": {
      "text/plain": [
       "0.8280603193376701"
      ]
     },
     "execution_count": 116,
     "metadata": {},
     "output_type": "execute_result"
    }
   ],
   "source": [
    "scores = [f1_score(y[:,0], (train_five[:,4*28] > th)*1.,) for th in threshold_0]\n",
    "np.max(scores)"
   ]
  },
  {
   "cell_type": "code",
   "execution_count": 171,
   "metadata": {},
   "outputs": [],
   "source": [
    "from tqdm import tqdm"
   ]
  },
  {
   "cell_type": "code",
   "execution_count": 175,
   "metadata": {},
   "outputs": [
    {
     "name": "stderr",
     "output_type": "stream",
     "text": [
      "  0%|          | 0/28 [00:00<?, ?it/s]"
     ]
    },
    {
     "name": "stdout",
     "output_type": "stream",
     "text": [
      "Fitting feature 0\n",
      "0\n",
      "0.8360929557007989\n",
      "28\n",
      "0.8431079157694975\n",
      "56\n",
      "0.8455120290343098\n",
      "84\n",
      "0.8460111317254174\n",
      "112\n",
      "0.8487388724035607\n",
      "2\n",
      "0.8488757832657574\n",
      "3\n",
      "0.8488847926267281\n",
      "6\n",
      "0.8489006935222075\n",
      "9\n",
      "0.8489744724804485\n",
      "13\n",
      "0.8491433657197952\n",
      "14\n",
      "0.8493657309811754\n",
      "16\n",
      "0.849737095460268\n",
      "38\n",
      "0.8497685613775228\n",
      "126\n",
      "0.8503995264871264\n"
     ]
    },
    {
     "name": "stderr",
     "output_type": "stream",
     "text": [
      "  4%|▎         | 1/28 [02:13<1:00:11, 133.74s/it]"
     ]
    },
    {
     "name": "stdout",
     "output_type": "stream",
     "text": [
      "Fitting feature 1\n",
      "1\n",
      "0.834178696839641\n",
      "29\n",
      "0.8479485116653258\n",
      "57\n",
      "0.85192536720921\n",
      "85\n",
      "0.854376764824526\n",
      "113\n",
      "0.8623853211009175\n",
      "0\n",
      "0.8629032258064516\n",
      "2\n",
      "0.8629807692307693\n",
      "4\n",
      "0.8632921482662416\n",
      "5\n",
      "0.8642370845014018\n",
      "63\n",
      "0.8644953759549658\n",
      "84\n",
      "0.8648215002005616\n",
      "101\n",
      "0.8651685393258427\n",
      "135\n",
      "0.8655158570855078\n"
     ]
    },
    {
     "name": "stderr",
     "output_type": "stream",
     "text": [
      "  7%|▋         | 2/28 [04:01<54:38, 126.08s/it]  "
     ]
    },
    {
     "name": "stdout",
     "output_type": "stream",
     "text": [
      "Fitting feature 2\n",
      "2\n",
      "0.7938359017076219\n",
      "30\n",
      "0.8041087962962964\n",
      "58\n",
      "0.8085409252669039\n",
      "86\n",
      "0.8129256629473988\n",
      "0\n",
      "0.8130503825609933\n",
      "3\n",
      "0.815202034473015\n",
      "4\n",
      "0.8175473579262212\n",
      "13\n",
      "0.8176638176638177\n",
      "16\n",
      "0.8179359430604983\n",
      "41\n",
      "0.818220640569395\n",
      "65\n",
      "0.8183888414460575\n"
     ]
    },
    {
     "name": "stderr",
     "output_type": "stream",
     "text": [
      " 11%|█         | 3/28 [05:57<51:14, 122.98s/it]"
     ]
    },
    {
     "name": "stdout",
     "output_type": "stream",
     "text": [
      "Fitting feature 3\n",
      "3\n",
      "0.7400572701240852\n",
      "31\n",
      "0.7609536082474228\n",
      "59\n",
      "0.7619986850756082\n",
      "87\n",
      "0.768190598840953\n",
      "0\n",
      "0.7700291923451185\n",
      "5\n",
      "0.7736893520026049\n",
      "11\n",
      "0.7739413680781759\n",
      "16\n",
      "0.7745928338762215\n"
     ]
    },
    {
     "name": "stderr",
     "output_type": "stream",
     "text": [
      " 14%|█▍        | 4/28 [07:47<47:40, 119.17s/it]"
     ]
    },
    {
     "name": "stdout",
     "output_type": "stream",
     "text": [
      "Fitting feature 4\n",
      "4\n",
      "0.7757544224765869\n",
      "32\n",
      "0.7886133032694477\n",
      "88\n",
      "0.794928335170893\n",
      "0\n",
      "0.7970256127788489\n",
      "2\n",
      "0.7973568281938326\n",
      "3\n",
      "0.798129812981298\n",
      "52\n",
      "0.7983493810178817\n",
      "98\n",
      "0.7984602694528458\n",
      "100\n",
      "0.7988995873452543\n",
      "117\n",
      "0.7990088105726872\n",
      "120\n",
      "0.7992288625722942\n",
      "126\n",
      "0.7995594713656388\n",
      "128\n",
      "0.7998898981557941\n",
      "138\n",
      "0.8\n"
     ]
    },
    {
     "name": "stderr",
     "output_type": "stream",
     "text": [
      " 18%|█▊        | 5/28 [09:39<44:46, 116.81s/it]"
     ]
    },
    {
     "name": "stdout",
     "output_type": "stream",
     "text": [
      "Fitting feature 5\n",
      "5\n",
      "0.6931027209449484\n",
      "33\n",
      "0.7031736154324828\n",
      "61\n",
      "0.7075593952483802\n",
      "89\n",
      "0.7100742311770942\n",
      "117\n",
      "0.7107942973523422\n",
      "0\n",
      "0.7118012422360247\n",
      "3\n",
      "0.7122287568444534\n",
      "6\n",
      "0.7144967292677781\n",
      "25\n",
      "0.7154158648706436\n",
      "29\n",
      "0.7157219251336898\n",
      "30\n",
      "0.7162219398559931\n",
      "31\n",
      "0.7163543441226576\n",
      "32\n",
      "0.7167162909400254\n",
      "34\n",
      "0.7167409293443667\n",
      "41\n",
      "0.716893039049236\n",
      "42\n",
      "0.7169250371628796\n",
      "45\n",
      "0.7171974522292994\n",
      "48\n",
      "0.7173497557867913\n",
      "69\n",
      "0.717469751645086\n",
      "73\n",
      "0.7175896456609379\n",
      "99\n",
      "0.7179813401187447\n",
      "101\n",
      "0.7183725365543548\n",
      "107\n",
      "0.7185247986434931\n"
     ]
    },
    {
     "name": "stderr",
     "output_type": "stream",
     "text": [
      " 21%|██▏       | 6/28 [11:36<42:52, 116.91s/it]"
     ]
    },
    {
     "name": "stdout",
     "output_type": "stream",
     "text": [
      "Fitting feature 6\n",
      "6\n",
      "0.5623242736644798\n",
      "34\n",
      "0.6081447963800906\n",
      "62\n",
      "0.6190241498275012\n",
      "90\n",
      "0.6417221937467965\n",
      "0\n",
      "0.6418367346938775\n",
      "18\n",
      "0.6421643695763144\n",
      "21\n",
      "0.645758354755784\n",
      "25\n",
      "0.6483241620810406\n",
      "27\n",
      "0.6484063745019921\n",
      "33\n",
      "0.648729446935725\n",
      "38\n",
      "0.648782911077993\n",
      "41\n",
      "0.6494023904382471\n",
      "45\n",
      "0.650398406374502\n",
      "71\n",
      "0.650722471350274\n"
     ]
    },
    {
     "name": "stderr",
     "output_type": "stream",
     "text": [
      " 25%|██▌       | 7/28 [13:24<39:58, 114.21s/it]"
     ]
    },
    {
     "name": "stdout",
     "output_type": "stream",
     "text": [
      "Fitting feature 7\n",
      "7\n",
      "0.8000750891683875\n",
      "35\n",
      "0.8138288038454428\n",
      "63\n",
      "0.817743132887899\n",
      "91\n",
      "0.8235078725741486\n",
      "119\n",
      "0.8281392381993803\n",
      "0\n",
      "0.8288028802880287\n",
      "1\n",
      "0.8289260658391797\n",
      "19\n",
      "0.8291719058738998\n",
      "21\n",
      "0.8293037629521904\n",
      "23\n",
      "0.830492944841488\n",
      "24\n",
      "0.8307072187614509\n",
      "25\n",
      "0.8313470566991695\n",
      "48\n",
      "0.8314972006501715\n",
      "58\n",
      "0.8318584070796461\n",
      "60\n",
      "0.832309360318034\n",
      "65\n",
      "0.8324597867341407\n",
      "78\n",
      "0.8330321647994218\n",
      "123\n",
      "0.8332730560578662\n",
      "132\n",
      "0.8334839992768035\n"
     ]
    },
    {
     "name": "stderr",
     "output_type": "stream",
     "text": [
      " 29%|██▊       | 8/28 [15:20<38:14, 114.74s/it]"
     ]
    },
    {
     "name": "stdout",
     "output_type": "stream",
     "text": [
      "Fitting feature 8\n",
      "8\n",
      "0.9074074074074073\n",
      "36\n",
      "0.9215686274509803\n",
      "120\n",
      "0.9245283018867925\n",
      "9\n",
      "0.9320388349514563\n"
     ]
    },
    {
     "name": "stderr",
     "output_type": "stream",
     "text": [
      " 32%|███▏      | 9/28 [16:57<34:40, 109.51s/it]"
     ]
    },
    {
     "name": "stdout",
     "output_type": "stream",
     "text": [
      "Fitting feature 9\n",
      "9\n",
      "0.8409090909090908\n",
      "37\n",
      "0.8695652173913044\n",
      "65\n",
      "0.9111111111111111\n",
      "93\n",
      "0.9318181818181819\n"
     ]
    },
    {
     "name": "stderr",
     "output_type": "stream",
     "text": [
      " 36%|███▌      | 10/28 [18:34<31:43, 105.74s/it]"
     ]
    },
    {
     "name": "stdout",
     "output_type": "stream",
     "text": [
      "Fitting feature 10\n",
      "10\n",
      "0.8518518518518519\n",
      "38\n",
      "0.8928571428571429\n",
      "66\n",
      "0.9090909090909091\n",
      "94\n",
      "0.9259259259259259\n",
      "122\n",
      "0.9285714285714286\n"
     ]
    },
    {
     "name": "stderr",
     "output_type": "stream",
     "text": [
      " 39%|███▉      | 11/28 [20:12<29:15, 103.25s/it]"
     ]
    },
    {
     "name": "stdout",
     "output_type": "stream",
     "text": [
      "Fitting feature 11\n",
      "11\n",
      "0.7424872861766065\n",
      "39\n",
      "0.7754716981132076\n",
      "67\n",
      "0.7835337650323776\n",
      "95\n",
      "0.7907647907647908\n",
      "25\n",
      "0.7909441233140655\n",
      "28\n",
      "0.7911239749155812\n",
      "30\n",
      "0.7913253012048193\n",
      "32\n",
      "0.791907514450867\n",
      "34\n",
      "0.7919921875\n",
      "35\n",
      "0.7935420743639923\n",
      "57\n",
      "0.793743890518084\n",
      "77\n",
      "0.7941320293398532\n",
      "79\n",
      "0.7945205479452054\n",
      "98\n",
      "0.7947084762371387\n",
      "109\n",
      "0.7952987267384916\n",
      "117\n",
      "0.796078431372549\n"
     ]
    },
    {
     "name": "stderr",
     "output_type": "stream",
     "text": [
      " 43%|████▎     | 12/28 [22:00<27:55, 104.73s/it]"
     ]
    },
    {
     "name": "stdout",
     "output_type": "stream",
     "text": [
      "Fitting feature 12\n",
      "12\n",
      "0.6856368563685636\n",
      "40\n",
      "0.7211184694628403\n",
      "96\n",
      "0.7243735763097952\n",
      "124\n",
      "0.7416728349370836\n",
      "0\n",
      "0.7427724240177909\n",
      "49\n",
      "0.7430604982206407\n",
      "56\n",
      "0.743954480796586\n",
      "61\n",
      "0.7444839857651244\n",
      "133\n",
      "0.7446808510638298\n"
     ]
    },
    {
     "name": "stderr",
     "output_type": "stream",
     "text": [
      " 46%|████▋     | 13/28 [23:44<26:08, 104.55s/it]"
     ]
    },
    {
     "name": "stdout",
     "output_type": "stream",
     "text": [
      "Fitting feature 13\n",
      "13\n",
      "0.6941649899396379\n",
      "41\n",
      "0.7265388496468214\n",
      "69\n",
      "0.7294350842418236\n",
      "97\n",
      "0.7386831275720165\n",
      "1\n",
      "0.7399193548387096\n",
      "4\n",
      "0.7409700722394221\n",
      "22\n",
      "0.7414141414141415\n",
      "47\n",
      "0.7421638018200203\n",
      "49\n",
      "0.7436676798378927\n",
      "61\n",
      "0.7439024390243902\n"
     ]
    },
    {
     "name": "stderr",
     "output_type": "stream",
     "text": [
      " 50%|█████     | 14/28 [25:29<24:26, 104.73s/it]"
     ]
    },
    {
     "name": "stdout",
     "output_type": "stream",
     "text": [
      "Fitting feature 14\n",
      "14\n",
      "0.8389715832205684\n",
      "42\n",
      "0.8652214891611686\n",
      "70\n",
      "0.8735632183908045\n",
      "98\n",
      "0.8748241912798875\n",
      "126\n",
      "0.8750000000000001\n",
      "0\n",
      "0.8750589344648751\n",
      "2\n",
      "0.8754113775270334\n",
      "3\n",
      "0.8754716981132076\n",
      "6\n",
      "0.8759398496240601\n",
      "11\n",
      "0.8763516690173955\n",
      "16\n",
      "0.8794599807135969\n",
      "18\n",
      "0.8803088803088802\n",
      "21\n",
      "0.880539499036609\n",
      "22\n",
      "0.8810784785748677\n",
      "31\n",
      "0.8816169393647738\n"
     ]
    },
    {
     "name": "stderr",
     "output_type": "stream",
     "text": [
      " 54%|█████▎    | 15/28 [27:18<22:59, 106.10s/it]"
     ]
    },
    {
     "name": "stdout",
     "output_type": "stream",
     "text": [
      "Fitting feature 15\n",
      "15\n",
      "0.6666666666666666\n",
      "43\n",
      "0.6857142857142857\n"
     ]
    },
    {
     "name": "stderr",
     "output_type": "stream",
     "text": [
      " 57%|█████▋    | 16/28 [29:00<20:58, 104.90s/it]"
     ]
    },
    {
     "name": "stdout",
     "output_type": "stream",
     "text": [
      "Fitting feature 16\n",
      "16\n",
      "0.4134790528233151\n",
      "44\n",
      "0.45286686103012636\n",
      "72\n",
      "0.4653130287648054\n",
      "100\n",
      "0.47070506454816285\n",
      "128\n",
      "0.4918414918414919\n",
      "0\n",
      "0.49517684887459806\n",
      "7\n",
      "0.4951974386339381\n",
      "12\n",
      "0.495475113122172\n",
      "14\n",
      "0.49716231555051077\n",
      "17\n",
      "0.5072951739618407\n",
      "18\n",
      "0.5075268817204301\n",
      "21\n",
      "0.5097613882863341\n",
      "22\n",
      "0.5098468271334792\n",
      "23\n",
      "0.5104052573932093\n",
      "24\n",
      "0.5109649122807016\n",
      "25\n",
      "0.5113636363636364\n",
      "30\n",
      "0.5119453924914676\n",
      "70\n",
      "0.5125284738041002\n",
      "99\n",
      "0.5131578947368421\n",
      "129\n",
      "0.5153234960272418\n",
      "136\n",
      "0.5164212910532276\n"
     ]
    },
    {
     "name": "stderr",
     "output_type": "stream",
     "text": [
      " 61%|██████    | 17/28 [30:50<19:27, 106.17s/it]"
     ]
    },
    {
     "name": "stdout",
     "output_type": "stream",
     "text": [
      "Fitting feature 17\n",
      "17\n",
      "0.4043478260869565\n",
      "45\n",
      "0.4093023255813954\n",
      "101\n",
      "0.4137931034482759\n",
      "129\n",
      "0.4444444444444445\n",
      "16\n",
      "0.4454976303317536\n",
      "70\n",
      "0.4481132075471698\n"
     ]
    },
    {
     "name": "stderr",
     "output_type": "stream",
     "text": [
      " 64%|██████▍   | 18/28 [32:29<17:22, 104.22s/it]"
     ]
    },
    {
     "name": "stdout",
     "output_type": "stream",
     "text": [
      "Fitting feature 18\n",
      "18\n",
      "0.5225027442371021\n",
      "46\n",
      "0.563169164882227\n",
      "74\n",
      "0.5732416710735061\n",
      "102\n",
      "0.577424844015882\n",
      "7\n",
      "0.578420467185762\n",
      "14\n",
      "0.5789782736347622\n",
      "16\n",
      "0.5791009924109749\n",
      "21\n",
      "0.5795644891122279\n",
      "24\n",
      "0.5811777655476059\n",
      "73\n",
      "0.5825991189427313\n",
      "89\n",
      "0.5847176079734219\n",
      "94\n",
      "0.5853119823302043\n",
      "96\n",
      "0.585635359116022\n",
      "124\n",
      "0.58595909342178\n",
      "135\n",
      "0.5863586358635864\n"
     ]
    },
    {
     "name": "stderr",
     "output_type": "stream",
     "text": [
      " 68%|██████▊   | 19/28 [34:19<15:52, 105.81s/it]"
     ]
    },
    {
     "name": "stdout",
     "output_type": "stream",
     "text": [
      "Fitting feature 19\n",
      "19\n",
      "0.6118892001244943\n",
      "47\n",
      "0.6378056840713813\n",
      "75\n",
      "0.637848222862632\n",
      "103\n",
      "0.6514745308310992\n",
      "6\n",
      "0.6517229842756774\n",
      "12\n",
      "0.6519558676028084\n",
      "21\n",
      "0.6530748663101604\n",
      "22\n",
      "0.6535511837279092\n",
      "23\n",
      "0.6537691794529688\n",
      "45\n",
      "0.6542180726908969\n",
      "51\n",
      "0.6542305129913392\n"
     ]
    },
    {
     "name": "stderr",
     "output_type": "stream",
     "text": [
      " 71%|███████▏  | 20/28 [36:13<14:27, 108.43s/it]"
     ]
    },
    {
     "name": "stdout",
     "output_type": "stream",
     "text": [
      "Fitting feature 20\n",
      "20\n",
      "0.6072423398328691\n",
      "48\n",
      "0.6324786324786325\n",
      "76\n",
      "0.6488095238095237\n",
      "104\n",
      "0.6595174262734584\n",
      "132\n",
      "0.7191780821917808\n"
     ]
    },
    {
     "name": "stderr",
     "output_type": "stream",
     "text": [
      " 75%|███████▌  | 21/28 [37:52<12:19, 105.65s/it]"
     ]
    },
    {
     "name": "stdout",
     "output_type": "stream",
     "text": [
      "Fitting feature 21\n",
      "21\n",
      "0.6661354581673307\n",
      "49\n",
      "0.6830601092896176\n",
      "77\n",
      "0.6871367197371746\n",
      "105\n",
      "0.6951280763435459\n",
      "133\n",
      "0.6996582711049234\n",
      "0\n",
      "0.7006369426751592\n",
      "6\n",
      "0.7015787447054294\n",
      "19\n",
      "0.7016866228917215\n",
      "25\n",
      "0.7021526418786693\n",
      "27\n",
      "0.7023219410383511\n",
      "28\n",
      "0.7027664874786941\n",
      "33\n",
      "0.7028301886792453\n",
      "52\n",
      "0.7028938064685085\n",
      "60\n",
      "0.7029715931404634\n",
      "67\n",
      "0.7032190526040304\n",
      "68\n",
      "0.7032563025210085\n",
      "72\n",
      "0.7034175723451618\n",
      "75\n",
      "0.7036018336607728\n",
      "88\n",
      "0.7036308821601782\n",
      "90\n",
      "0.7045900353079639\n",
      "102\n",
      "0.7048987589810581\n",
      "111\n",
      "0.705067920585162\n"
     ]
    },
    {
     "name": "stderr",
     "output_type": "stream",
     "text": [
      " 79%|███████▊  | 22/28 [39:53<11:00, 110.01s/it]"
     ]
    },
    {
     "name": "stdout",
     "output_type": "stream",
     "text": [
      "Fitting feature 22\n",
      "22\n",
      "0.5974329054842473\n",
      "50\n",
      "0.643719806763285\n",
      "106\n",
      "0.6525934861278648\n",
      "134\n",
      "0.6649616368286445\n",
      "0\n",
      "0.6662395900064062\n",
      "13\n",
      "0.6674816625916871\n",
      "16\n",
      "0.6682956627978008\n",
      "18\n",
      "0.6687041564792177\n",
      "21\n",
      "0.6720197652872143\n",
      "24\n",
      "0.6724351050679852\n",
      "27\n",
      "0.6732550957381099\n",
      "125\n",
      "0.6736711990111248\n"
     ]
    },
    {
     "name": "stderr",
     "output_type": "stream",
     "text": [
      " 82%|████████▏ | 23/28 [41:38<09:03, 108.76s/it]"
     ]
    },
    {
     "name": "stdout",
     "output_type": "stream",
     "text": [
      "Fitting feature 23\n",
      "23\n",
      "0.8014718766427193\n",
      "51\n",
      "0.8092946058091286\n",
      "79\n",
      "0.8125105095005885\n",
      "107\n",
      "0.8151577503429357\n",
      "135\n",
      "0.8234289617486339\n",
      "0\n",
      "0.8236882065125697\n",
      "1\n",
      "0.8239891267414204\n",
      "2\n",
      "0.8241086587436334\n",
      "4\n",
      "0.8241702127659575\n",
      "7\n",
      "0.8253207869974337\n",
      "12\n",
      "0.8254347084896011\n",
      "18\n",
      "0.8255754475703325\n",
      "19\n",
      "0.8256786750896363\n",
      "25\n",
      "0.8259315977539562\n",
      "28\n",
      "0.8260721579305651\n",
      "33\n",
      "0.8264125255275698\n",
      "44\n",
      "0.8265531914893618\n"
     ]
    },
    {
     "name": "stderr",
     "output_type": "stream",
     "text": [
      " 86%|████████▌ | 24/28 [43:35<07:24, 111.15s/it]"
     ]
    },
    {
     "name": "stdout",
     "output_type": "stream",
     "text": [
      "Fitting feature 24\n",
      "24\n",
      "0.6807866868381242\n",
      "52\n",
      "0.7196110210696921\n",
      "80\n",
      "0.7308319738988582\n",
      "108\n",
      "0.7347611202635915\n",
      "2\n",
      "0.7368421052631579\n",
      "25\n",
      "0.7380560131795716\n"
     ]
    },
    {
     "name": "stderr",
     "output_type": "stream",
     "text": [
      " 89%|████████▉ | 25/28 [45:17<05:24, 108.25s/it]"
     ]
    },
    {
     "name": "stdout",
     "output_type": "stream",
     "text": [
      "Fitting feature 25\n",
      "25\n",
      "0.679745493107105\n",
      "53\n",
      "0.6934481630873215\n",
      "81\n",
      "0.698655590774948\n",
      "137\n",
      "0.7038508395571799\n",
      "0\n",
      "0.7054971011380717\n",
      "1\n",
      "0.7055019789285913\n",
      "2\n",
      "0.706048277732574\n",
      "3\n",
      "0.7062948739355486\n",
      "7\n",
      "0.7066354932086395\n",
      "12\n",
      "0.7069793103448275\n",
      "14\n",
      "0.7071304930481881\n",
      "17\n",
      "0.7071884540660561\n",
      "19\n",
      "0.7073130101615859\n",
      "20\n",
      "0.7076548133377644\n",
      "26\n",
      "0.7077907498877414\n",
      "27\n",
      "0.707903008531657\n",
      "28\n",
      "0.7079407806191117\n",
      "33\n",
      "0.7088677576293675\n",
      "36\n",
      "0.7090356452058579\n",
      "43\n",
      "0.7091461729759602\n",
      "46\n",
      "0.7091712707182319\n",
      "54\n",
      "0.7094493842160491\n",
      "94\n",
      "0.7094956637021488\n",
      "95\n",
      "0.7095454042694392\n",
      "99\n",
      "0.7095704096865152\n",
      "104\n",
      "0.7099055300812109\n",
      "105\n",
      "0.7099523967674083\n",
      "110\n",
      "0.7101986608378064\n",
      "120\n",
      "0.710390974948847\n",
      "122\n",
      "0.710408490409596\n",
      "128\n",
      "0.7104943049872829\n"
     ]
    },
    {
     "name": "stderr",
     "output_type": "stream",
     "text": [
      " 93%|█████████▎| 26/28 [47:28<03:50, 115.08s/it]"
     ]
    },
    {
     "name": "stdout",
     "output_type": "stream",
     "text": [
      "Fitting feature 26\n",
      "26\n",
      "0.528358208955224\n",
      "54\n",
      "0.5505443234836702\n",
      "82\n",
      "0.5609756097560976\n",
      "110\n",
      "0.5643994211287988\n",
      "138\n",
      "0.5863708399366085\n",
      "4\n",
      "0.5901116427432217\n"
     ]
    },
    {
     "name": "stderr",
     "output_type": "stream",
     "text": [
      " 96%|█████████▋| 27/28 [49:09<01:51, 111.00s/it]"
     ]
    },
    {
     "name": "stdout",
     "output_type": "stream",
     "text": [
      "Fitting feature 27\n",
      "27\n",
      "0.7200000000000001\n",
      "55\n",
      "0.8181818181818182\n"
     ]
    },
    {
     "name": "stderr",
     "output_type": "stream",
     "text": [
      "100%|██████████| 28/28 [50:45<00:00, 106.46s/it]\n"
     ]
    }
   ],
   "source": [
    "all_columns = set(range(140))\n",
    "\n",
    "all_good_features = []\n",
    "\n",
    "for ii in tqdm(range(28)):\n",
    "    print(\"Fitting feature\", ii)\n",
    "    first_five =  set(np.array(range(5))*(28)+ii)\n",
    "    the_rest = np.array(list(all_columns - first_five))\n",
    "    the_list = list(np.sort(list(first_five)))+list(the_rest)\n",
    "    best_score = 0\n",
    "    good_features = []\n",
    "    for feature in the_list:\n",
    "        new_oof = np.zeros(train_five.shape[0])\n",
    "        temp_good_features = good_features+[feature]\n",
    "        for i in range(4):\n",
    "            val_idx = np.where(cluster4 == i)[0]\n",
    "            trn_idx = np.where(cluster4 != i)[0]\n",
    "            train_x, val_x = train_five[:,temp_good_features][trn_idx, :], train_five[:,temp_good_features][val_idx, :]\n",
    "            train_y, val_y = y[:,ii][trn_idx], y[:,ii][val_idx]\n",
    "            clf = Ridge(alpha=0)\n",
    "            clf.fit(train_x, train_y)\n",
    "            oof_preds = clf.predict(val_x)\n",
    "            new_oof[val_idx] = oof_preds\n",
    "            \n",
    "        scaler = MinMaxScaler()\n",
    "        new_oof = scaler.fit_transform(new_oof.reshape(-1,1))\n",
    "        scores = [f1_score(y[:,ii], (new_oof > th)*1.,) for th in threshold_0]\n",
    "        new_score = np.max(scores)\n",
    "        if new_score > best_score:\n",
    "            print(feature)\n",
    "            print(new_score)\n",
    "            best_score = new_score\n",
    "            good_features.append(feature)\n",
    "            \n",
    "    all_good_features.append(good_features)\n",
    "        "
   ]
  },
  {
   "cell_type": "code",
   "execution_count": 172,
   "metadata": {},
   "outputs": [],
   "source": [
    "all_good_features.append(good_features)"
   ]
  },
  {
   "cell_type": "code",
   "execution_count": 177,
   "metadata": {},
   "outputs": [
    {
     "data": {
      "text/plain": [
       "28"
      ]
     },
     "execution_count": 177,
     "metadata": {},
     "output_type": "execute_result"
    }
   ],
   "source": [
    "len(all_good_features)"
   ]
  },
  {
   "cell_type": "code",
   "execution_count": 147,
   "metadata": {},
   "outputs": [],
   "source": [
    "the_rest = np.array(list(all_columns - first_five))"
   ]
  },
  {
   "cell_type": "code",
   "execution_count": 144,
   "metadata": {},
   "outputs": [
    {
     "data": {
      "text/plain": [
       "(31072, 5)"
      ]
     },
     "execution_count": 144,
     "metadata": {},
     "output_type": "execute_result"
    }
   ],
   "source": [
    "train_five[:,list(first_five)].shape"
   ]
  },
  {
   "cell_type": "code",
   "execution_count": 146,
   "metadata": {},
   "outputs": [
    {
     "data": {
      "text/plain": [
       "(31072, 3)"
      ]
     },
     "execution_count": 146,
     "metadata": {},
     "output_type": "execute_result"
    }
   ],
   "source": [
    "train_five[:,[0,4,5]].shape"
   ]
  },
  {
   "cell_type": "code",
   "execution_count": 150,
   "metadata": {},
   "outputs": [
    {
     "data": {
      "text/plain": [
       "[27, 55, 83, 111, 139]"
      ]
     },
     "execution_count": 150,
     "metadata": {},
     "output_type": "execute_result"
    }
   ],
   "source": [
    "list(first_five)[::-1]"
   ]
  },
  {
   "cell_type": "code",
   "execution_count": 152,
   "metadata": {},
   "outputs": [],
   "source": [
    "the_list = list(first_five)[::-1]+list(the_rest)"
   ]
  },
  {
   "cell_type": "code",
   "execution_count": 169,
   "metadata": {},
   "outputs": [
    {
     "data": {
      "text/plain": [
       "0.8280603193376701"
      ]
     },
     "execution_count": 169,
     "metadata": {},
     "output_type": "execute_result"
    }
   ],
   "source": [
    "scores = [f1_score(y[:,0], (train_five[:,4*28] > th)*1.,) for th in threshold_0]\n",
    "best_score = np.max(scores)\n",
    "best_score"
   ]
  },
  {
   "cell_type": "code",
   "execution_count": 178,
   "metadata": {},
   "outputs": [],
   "source": [
    "all_good_features_array = np.array(all_good_features)"
   ]
  },
  {
   "cell_type": "code",
   "execution_count": 179,
   "metadata": {},
   "outputs": [
    {
     "data": {
      "text/plain": [
       "array([list([0, 28, 56, 84, 112, 2, 3, 6, 9, 13, 14, 16, 38, 126]),\n",
       "       list([1, 29, 57, 85, 113, 0, 2, 4, 5, 63, 84, 101, 135]),\n",
       "       list([2, 30, 58, 86, 0, 3, 4, 13, 16, 41, 65]),\n",
       "       list([3, 31, 59, 87, 0, 5, 11, 16]),\n",
       "       list([4, 32, 88, 0, 2, 3, 52, 98, 100, 117, 120, 126, 128, 138]),\n",
       "       list([5, 33, 61, 89, 117, 0, 3, 6, 25, 29, 30, 31, 32, 34, 41, 42, 45, 48, 69, 73, 99, 101, 107]),\n",
       "       list([6, 34, 62, 90, 0, 18, 21, 25, 27, 33, 38, 41, 45, 71]),\n",
       "       list([7, 35, 63, 91, 119, 0, 1, 19, 21, 23, 24, 25, 48, 58, 60, 65, 78, 123, 132]),\n",
       "       list([8, 36, 120, 9]), list([9, 37, 65, 93]),\n",
       "       list([10, 38, 66, 94, 122]),\n",
       "       list([11, 39, 67, 95, 25, 28, 30, 32, 34, 35, 57, 77, 79, 98, 109, 117]),\n",
       "       list([12, 40, 96, 124, 0, 49, 56, 61, 133]),\n",
       "       list([13, 41, 69, 97, 1, 4, 22, 47, 49, 61]),\n",
       "       list([14, 42, 70, 98, 126, 0, 2, 3, 6, 11, 16, 18, 21, 22, 31]),\n",
       "       list([15, 43]),\n",
       "       list([16, 44, 72, 100, 128, 0, 7, 12, 14, 17, 18, 21, 22, 23, 24, 25, 30, 70, 99, 129, 136]),\n",
       "       list([17, 45, 101, 129, 16, 70]),\n",
       "       list([18, 46, 74, 102, 7, 14, 16, 21, 24, 73, 89, 94, 96, 124, 135]),\n",
       "       list([19, 47, 75, 103, 6, 12, 21, 22, 23, 45, 51]),\n",
       "       list([20, 48, 76, 104, 132]),\n",
       "       list([21, 49, 77, 105, 133, 0, 6, 19, 25, 27, 28, 33, 52, 60, 67, 68, 72, 75, 88, 90, 102, 111]),\n",
       "       list([22, 50, 106, 134, 0, 13, 16, 18, 21, 24, 27, 125]),\n",
       "       list([23, 51, 79, 107, 135, 0, 1, 2, 4, 7, 12, 18, 19, 25, 28, 33, 44]),\n",
       "       list([24, 52, 80, 108, 2, 25]),\n",
       "       list([25, 53, 81, 137, 0, 1, 2, 3, 7, 12, 14, 17, 19, 20, 26, 27, 28, 33, 36, 43, 46, 54, 94, 95, 99, 104, 105, 110, 120, 122, 128]),\n",
       "       list([26, 54, 82, 110, 138, 4]), list([27, 55])], dtype=object)"
      ]
     },
     "execution_count": 179,
     "metadata": {},
     "output_type": "execute_result"
    }
   ],
   "source": [
    "all_good_features_array"
   ]
  },
  {
   "cell_type": "code",
   "execution_count": 180,
   "metadata": {},
   "outputs": [],
   "source": [
    "np.save('all_good_features', all_good_features)"
   ]
  },
  {
   "cell_type": "code",
   "execution_count": 181,
   "metadata": {},
   "outputs": [],
   "source": [
    "all_good_features_2 = np.load('all_good_features.npy')"
   ]
  },
  {
   "cell_type": "code",
   "execution_count": 182,
   "metadata": {},
   "outputs": [
    {
     "data": {
      "text/plain": [
       "array([list([0, 28, 56, 84, 112, 2, 3, 6, 9, 13, 14, 16, 38, 126]),\n",
       "       list([1, 29, 57, 85, 113, 0, 2, 4, 5, 63, 84, 101, 135]),\n",
       "       list([2, 30, 58, 86, 0, 3, 4, 13, 16, 41, 65]),\n",
       "       list([3, 31, 59, 87, 0, 5, 11, 16]),\n",
       "       list([4, 32, 88, 0, 2, 3, 52, 98, 100, 117, 120, 126, 128, 138]),\n",
       "       list([5, 33, 61, 89, 117, 0, 3, 6, 25, 29, 30, 31, 32, 34, 41, 42, 45, 48, 69, 73, 99, 101, 107]),\n",
       "       list([6, 34, 62, 90, 0, 18, 21, 25, 27, 33, 38, 41, 45, 71]),\n",
       "       list([7, 35, 63, 91, 119, 0, 1, 19, 21, 23, 24, 25, 48, 58, 60, 65, 78, 123, 132]),\n",
       "       list([8, 36, 120, 9]), list([9, 37, 65, 93]),\n",
       "       list([10, 38, 66, 94, 122]),\n",
       "       list([11, 39, 67, 95, 25, 28, 30, 32, 34, 35, 57, 77, 79, 98, 109, 117]),\n",
       "       list([12, 40, 96, 124, 0, 49, 56, 61, 133]),\n",
       "       list([13, 41, 69, 97, 1, 4, 22, 47, 49, 61]),\n",
       "       list([14, 42, 70, 98, 126, 0, 2, 3, 6, 11, 16, 18, 21, 22, 31]),\n",
       "       list([15, 43]),\n",
       "       list([16, 44, 72, 100, 128, 0, 7, 12, 14, 17, 18, 21, 22, 23, 24, 25, 30, 70, 99, 129, 136]),\n",
       "       list([17, 45, 101, 129, 16, 70]),\n",
       "       list([18, 46, 74, 102, 7, 14, 16, 21, 24, 73, 89, 94, 96, 124, 135]),\n",
       "       list([19, 47, 75, 103, 6, 12, 21, 22, 23, 45, 51]),\n",
       "       list([20, 48, 76, 104, 132]),\n",
       "       list([21, 49, 77, 105, 133, 0, 6, 19, 25, 27, 28, 33, 52, 60, 67, 68, 72, 75, 88, 90, 102, 111]),\n",
       "       list([22, 50, 106, 134, 0, 13, 16, 18, 21, 24, 27, 125]),\n",
       "       list([23, 51, 79, 107, 135, 0, 1, 2, 4, 7, 12, 18, 19, 25, 28, 33, 44]),\n",
       "       list([24, 52, 80, 108, 2, 25]),\n",
       "       list([25, 53, 81, 137, 0, 1, 2, 3, 7, 12, 14, 17, 19, 20, 26, 27, 28, 33, 36, 43, 46, 54, 94, 95, 99, 104, 105, 110, 120, 122, 128]),\n",
       "       list([26, 54, 82, 110, 138, 4]), list([27, 55])], dtype=object)"
      ]
     },
     "execution_count": 182,
     "metadata": {},
     "output_type": "execute_result"
    }
   ],
   "source": [
    "all_good_features_2"
   ]
  },
  {
   "cell_type": "code",
   "execution_count": null,
   "metadata": {},
   "outputs": [],
   "source": []
  }
 ],
 "metadata": {
  "kernelspec": {
   "display_name": "Python 3",
   "language": "python",
   "name": "python3"
  },
  "language_info": {
   "codemirror_mode": {
    "name": "ipython",
    "version": 3
   },
   "file_extension": ".py",
   "mimetype": "text/x-python",
   "name": "python",
   "nbconvert_exporter": "python",
   "pygments_lexer": "ipython3",
   "version": "3.6.7"
  }
 },
 "nbformat": 4,
 "nbformat_minor": 2
}
